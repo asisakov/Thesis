{
 "cells": [
  {
   "cell_type": "code",
   "execution_count": 1,
   "metadata": {},
   "outputs": [],
   "source": [
    "# using ForwardDiff\n",
    "using DataFrames\n",
    "using LinearAlgebra\n",
    "\n",
    "using Pkg\n",
    "\n",
    "using Ipopt\n",
    "using JuMP"
   ]
  },
  {
   "cell_type": "code",
   "execution_count": 2,
   "metadata": {},
   "outputs": [],
   "source": [
    "using Interpolations"
   ]
  },
  {
   "cell_type": "code",
   "execution_count": 3,
   "metadata": {},
   "outputs": [],
   "source": [
    "using Dierckx\n",
    "using Gadfly"
   ]
  },
  {
   "cell_type": "code",
   "execution_count": 6,
   "metadata": {},
   "outputs": [
    {
     "data": {
      "text/plain": [
       "18"
      ]
     },
     "execution_count": 6,
     "metadata": {},
     "output_type": "execute_result"
    }
   ],
   "source": [
    "tau = 60 #seconds\n",
    "# N = 24*3600 / tau\n",
    "# N = round(N)\n",
    "# N = 1440\n",
    "N = 60\n",
    "time_t = zeros(1,N)\n",
    "# time_t[i] = (i-1)*60/3600 for i=1:N\n",
    "# prices_t = price(time_t)\n",
    "COP = 3\n",
    "C_out = 1005 # J/(kg K)\n",
    "C_in = 1005 # J/(kg K)\n",
    "m_air = 340 # kg\n",
    "m_wall = 11520/2 #kg\n",
    "C_wall = 1500 # J/(kg K)\n",
    "pa1 = tau/(m_air*C_in)\n",
    "h = 5 # m\n",
    "b = 10 # m\n",
    "k = 0.183 \n",
    "pa2 = h*b*k\n",
    "alpha_int = 8.7 # W/ m K\n",
    "S = 60 # m^2\n",
    "pa3 = 0.5 * alpha_int * h * (S / b + b)\n",
    "M_met = 120 # W\n",
    "T_vent = 21 # ^oC\n",
    "a_inf = 0.02 / 3600\n",
    "pa4 = a_inf * m_air * C_out\n",
    "M_light = 20 # W\n",
    "N_light = 15\n",
    "W_light = M_light * N_light\n",
    "L_evap = 333000 # W/kg\n",
    "M_moist = 0.000021 # kg/s\n",
    "pa5 = M_met - L_evap * M_moist\n",
    "pw1 = tau/(m_wall*C_wall)\n",
    "pn1 = tau/m_air\n",
    "pn2 = a_inf * m_air\n",
    "k_CO2 = 0.038 * 4 # g / s # medium work\n",
    "ppm_k_CO2 = k_CO2 / 1000 / (S * h) * 1000000 # mass to kg divide by volume and to ppm\n",
    "T_output = 18 # outer air temperature after TES"
   ]
  },
  {
   "cell_type": "code",
   "execution_count": 7,
   "metadata": {},
   "outputs": [],
   "source": [
    "using Ipopt"
   ]
  },
  {
   "cell_type": "code",
   "execution_count": 8,
   "metadata": {},
   "outputs": [
    {
     "data": {
      "text/plain": [
       "MathOptInterface.OptimizerWithAttributes(Ipopt.Optimizer, Pair{MathOptInterface.AbstractOptimizerAttribute,Any}[RawParameter(\"print_level\")=>0])"
      ]
     },
     "execution_count": 8,
     "metadata": {},
     "output_type": "execute_result"
    }
   ],
   "source": [
    "optimizer = Ipopt.Optimizer\n",
    "nl_solver = optimizer_with_attributes(Ipopt.Optimizer, \"print_level\"=>0)"
   ]
  },
  {
   "cell_type": "code",
   "execution_count": 9,
   "metadata": {},
   "outputs": [
    {
     "ename": "MathOptInterface.UnsupportedConstraint{MathOptInterface.SingleVariable,MathOptInterface.ZeroOne}",
     "evalue": "MathOptInterface.UnsupportedConstraint{MathOptInterface.SingleVariable,MathOptInterface.ZeroOne}: `MathOptInterface.SingleVariable`-in-`MathOptInterface.ZeroOne` constraint is not supported by the model.",
     "output_type": "error",
     "traceback": [
      "MathOptInterface.UnsupportedConstraint{MathOptInterface.SingleVariable,MathOptInterface.ZeroOne}: `MathOptInterface.SingleVariable`-in-`MathOptInterface.ZeroOne` constraint is not supported by the model.",
      "",
      "Stacktrace:",
      " [1] bridge_type(::MathOptInterface.Bridges.LazyBridgeOptimizer{Ipopt.Optimizer}, ::Type{MathOptInterface.SingleVariable}, ::Type{MathOptInterface.ZeroOne}) at C:\\Users\\Оля\\.julia\\packages\\MathOptInterface\\RmalA\\src\\Bridges\\lazy_bridge_optimizer.jl:330",
      " [2] concrete_bridge_type(::MathOptInterface.Bridges.LazyBridgeOptimizer{Ipopt.Optimizer}, ::Type{MathOptInterface.SingleVariable}, ::Type{MathOptInterface.ZeroOne}) at C:\\Users\\Оля\\.julia\\packages\\MathOptInterface\\RmalA\\src\\Bridges\\Constraint\\bridge.jl:120",
      " [3] add_constraint(::MathOptInterface.Bridges.LazyBridgeOptimizer{Ipopt.Optimizer}, ::MathOptInterface.SingleVariable, ::MathOptInterface.ZeroOne) at C:\\Users\\Оля\\.julia\\packages\\MathOptInterface\\RmalA\\src\\Bridges\\bridge_optimizer.jl:1052",
      " [4] _broadcast_getindex_evalf at .\\broadcast.jl:578 [inlined]",
      " [5] _broadcast_getindex at .\\broadcast.jl:551 [inlined]",
      " [6] getindex at .\\broadcast.jl:511 [inlined]",
      " [7] macro expansion at .\\broadcast.jl:843 [inlined]",
      " [8] macro expansion at .\\simdloop.jl:73 [inlined]",
      " [9] copyto! at .\\broadcast.jl:842 [inlined]",
      " [10] copyto! at .\\broadcast.jl:797 [inlined]",
      " [11] copy at .\\broadcast.jl:773 [inlined]",
      " [12] materialize at .\\broadcast.jl:753 [inlined]",
      " [13] add_constraints(::MathOptInterface.Bridges.LazyBridgeOptimizer{Ipopt.Optimizer}, ::Array{MathOptInterface.SingleVariable,1}, ::Array{MathOptInterface.ZeroOne,1}) at C:\\Users\\Оля\\.julia\\packages\\MathOptInterface\\RmalA\\src\\Bridges\\bridge_optimizer.jl:1064",
      " [14] copy_constraints(::MathOptInterface.Bridges.LazyBridgeOptimizer{Ipopt.Optimizer}, ::MathOptInterface.Utilities.UniversalFallback{MathOptInterface.Utilities.Model{Float64}}, ::MathOptInterface.Utilities.IndexMap, ::Array{MathOptInterface.ConstraintIndex{MathOptInterface.SingleVariable,MathOptInterface.ZeroOne},1}) at C:\\Users\\Оля\\.julia\\packages\\MathOptInterface\\RmalA\\src\\Utilities\\copy.jl:228",
      " [15] pass_constraints(::MathOptInterface.Bridges.LazyBridgeOptimizer{Ipopt.Optimizer}, ::MathOptInterface.Utilities.UniversalFallback{MathOptInterface.Utilities.Model{Float64}}, ::Bool, ::MathOptInterface.Utilities.IndexMap, ::Array{DataType,1}, ::Array{Array{MathOptInterface.ConstraintIndex{MathOptInterface.SingleVariable,MathOptInterface.ZeroOne},1},1}, ::Array{DataType,1}, ::Array{Any,1}, ::typeof(MathOptInterface.Utilities.copy_constraints), ::typeof(MathOptInterface.set)) at C:\\Users\\Оля\\.julia\\packages\\MathOptInterface\\RmalA\\src\\Utilities\\copy.jl:243",
      " [16] pass_constraints(::MathOptInterface.Bridges.LazyBridgeOptimizer{Ipopt.Optimizer}, ::MathOptInterface.Utilities.UniversalFallback{MathOptInterface.Utilities.Model{Float64}}, ::Bool, ::MathOptInterface.Utilities.IndexMap, ::Array{DataType,1}, ::Array{Array{MathOptInterface.ConstraintIndex{MathOptInterface.SingleVariable,MathOptInterface.ZeroOne},1},1}, ::Array{DataType,1}, ::Array{Any,1}) at C:\\Users\\Оля\\.julia\\packages\\MathOptInterface\\RmalA\\src\\Utilities\\copy.jl:240",
      " [17] default_copy_to(::MathOptInterface.Bridges.LazyBridgeOptimizer{Ipopt.Optimizer}, ::MathOptInterface.Utilities.UniversalFallback{MathOptInterface.Utilities.Model{Float64}}, ::Bool) at C:\\Users\\Оля\\.julia\\packages\\MathOptInterface\\RmalA\\src\\Utilities\\copy.jl:340",
      " [18] #automatic_copy_to#109 at C:\\Users\\Оля\\.julia\\packages\\MathOptInterface\\RmalA\\src\\Utilities\\copy.jl:15 [inlined]",
      " [19] #automatic_copy_to at .\\none:0 [inlined]",
      " [20] #copy_to#3 at C:\\Users\\Оля\\.julia\\packages\\MathOptInterface\\RmalA\\src\\Bridges\\bridge_optimizer.jl:268 [inlined]",
      " [21] (::getfield(MathOptInterface, Symbol(\"#kw##copy_to\")))(::NamedTuple{(:copy_names,),Tuple{Bool}}, ::typeof(MathOptInterface.copy_to), ::MathOptInterface.Bridges.LazyBridgeOptimizer{Ipopt.Optimizer}, ::MathOptInterface.Utilities.UniversalFallback{MathOptInterface.Utilities.Model{Float64}}) at .\\none:0",
      " [22] attach_optimizer(::MathOptInterface.Utilities.CachingOptimizer{MathOptInterface.AbstractOptimizer,MathOptInterface.Utilities.UniversalFallback{MathOptInterface.Utilities.Model{Float64}}}) at C:\\Users\\Оля\\.julia\\packages\\MathOptInterface\\RmalA\\src\\Utilities\\cachingoptimizer.jl:149",
      " [23] optimize!(::MathOptInterface.Utilities.CachingOptimizer{MathOptInterface.AbstractOptimizer,MathOptInterface.Utilities.UniversalFallback{MathOptInterface.Utilities.Model{Float64}}}) at C:\\Users\\Оля\\.julia\\packages\\MathOptInterface\\RmalA\\src\\Utilities\\cachingoptimizer.jl:185",
      " [24] #optimize!#97(::Bool, ::Bool, ::Base.Iterators.Pairs{Union{},Union{},Tuple{},NamedTuple{(),Tuple{}}}, ::Function, ::Model, ::Nothing) at C:\\Users\\Оля\\.julia\\packages\\JuMP\\MnJQc\\src\\optimizer_interface.jl:131",
      " [25] optimize! at C:\\Users\\Оля\\.julia\\packages\\JuMP\\MnJQc\\src\\optimizer_interface.jl:107 [inlined] (repeats 2 times)",
      " [26] top-level scope at In[9]:10"
     ]
    }
   ],
   "source": [
    "m1 = Model(optimizer)\n",
    "\n",
    "v = [10,20,12,23,42]\n",
    "w = [12,45,12,22,21]\n",
    "@variable(m1, x[1:5])\n",
    "\n",
    "@objective(m1, Max, dot(v,x))\n",
    "\n",
    "@NLconstraint(m1, sum(w[i]*x[i]^2 for i=1:5) <= 45)   \n",
    "\n",
    "optimize!(m1)\n",
    "\n",
    "# retrieve the objective value, corresponding x values and the status\n",
    "println(JuMP.value.(x))\n",
    "println(JuMP.objective_value(m1))\n",
    "println(JuMP.termination_status(m1))"
   ]
  },
  {
   "cell_type": "code",
   "execution_count": 10,
   "metadata": {},
   "outputs": [
    {
     "data": {
      "text/latex": [
       "$$ \\begin{alignat*}{1}\\text{feasibility}\\\\\n",
       "\\text{Subject to} \\quad\\end{alignat*}\n",
       " $$"
      ],
      "text/plain": [
       "A JuMP Model\n",
       "Feasibility problem with:\n",
       "Variables: 0\n",
       "Model mode: AUTOMATIC\n",
       "CachingOptimizer state: EMPTY_OPTIMIZER\n",
       "Solver name: Ipopt"
      ]
     },
     "execution_count": 10,
     "metadata": {},
     "output_type": "execute_result"
    }
   ],
   "source": [
    "mm = Model(Ipopt.Optimizer)"
   ]
  },
  {
   "cell_type": "code",
   "execution_count": 11,
   "metadata": {},
   "outputs": [
    {
     "data": {
      "text/latex": [
       "$$ fan $$"
      ],
      "text/plain": [
       "fan"
      ]
     },
     "execution_count": 11,
     "metadata": {},
     "output_type": "execute_result"
    }
   ],
   "source": [
    "@variable(mm, P_c, base_name=\"compressor\", lower_bound=0, upper_bound=3)\n",
    "@variable(mm, P_f, base_name=\"fan\", lower_bound=0, upper_bound=10)"
   ]
  },
  {
   "cell_type": "code",
   "execution_count": 12,
   "metadata": {},
   "outputs": [],
   "source": [
    "@NLobjective(mm, Min, 10*P_f + 500 * P_c)\n",
    "# @objective(mm, Min, sum(w[i]*x[i]^2 for i=1:N))"
   ]
  },
  {
   "cell_type": "code",
   "execution_count": 13,
   "metadata": {},
   "outputs": [
    {
     "data": {
      "text/latex": [
       "con1 : $ 10 fan + 500 compressor \\geq 600.0 $"
      ],
      "text/plain": [
       "con1 : 10 fan + 500 compressor >= 600.0"
      ]
     },
     "execution_count": 13,
     "metadata": {},
     "output_type": "execute_result"
    }
   ],
   "source": [
    "@constraint(mm, con1, 10*P_f + 500*P_c >= 600)"
   ]
  },
  {
   "cell_type": "code",
   "execution_count": 14,
   "metadata": {},
   "outputs": [
    {
     "data": {
      "text/latex": [
       "$$ fan * compressor - 1.0 \\geq 0 $$"
      ],
      "text/plain": [
       "fan * compressor - 1.0 >= 0"
      ]
     },
     "execution_count": 14,
     "metadata": {},
     "output_type": "execute_result"
    }
   ],
   "source": [
    "@NLconstraint(mm,nl1, P_f*P_c >= 1)"
   ]
  },
  {
   "cell_type": "code",
   "execution_count": 15,
   "metadata": {},
   "outputs": [
    {
     "name": "stdout",
     "output_type": "stream",
     "text": [
      "\n",
      "******************************************************************************\n",
      "This program contains Ipopt, a library for large-scale nonlinear optimization.\n",
      " Ipopt is released as open source code under the Eclipse Public License (EPL).\n",
      "         For more information visit http://projects.coin-or.org/Ipopt\n",
      "******************************************************************************\n",
      "\n",
      "This is Ipopt version 3.12.10, running with linear solver mumps.\n",
      "NOTE: Other linear solvers might be more efficient (see Ipopt documentation).\n",
      "\n",
      "Number of nonzeros in equality constraint Jacobian...:        0\n",
      "Number of nonzeros in inequality constraint Jacobian.:        4\n",
      "Number of nonzeros in Lagrangian Hessian.............:        3\n",
      "\n",
      "Total number of variables............................:        2\n",
      "                     variables with only lower bounds:        0\n",
      "                variables with lower and upper bounds:        2\n",
      "                     variables with only upper bounds:        0\n",
      "Total number of equality constraints.................:        0\n",
      "Total number of inequality constraints...............:        2\n",
      "        inequality constraints with only lower bounds:        2\n",
      "   inequality constraints with lower and upper bounds:        0\n",
      "        inequality constraints with only upper bounds:        0\n",
      "\n",
      "iter    objective    inf_pr   inf_du lg(mu)  ||d||  lg(rg) alpha_du alpha_pr  ls\n",
      "   0  5.0999949e+00 5.95e+02 9.80e-03  -1.0 0.00e+00    -  0.00e+00 0.00e+00   0\n",
      "   1  1.0950320e+01 5.89e+02 8.87e-02  -1.0 2.38e+00    -  9.12e-03 9.93e-03h  1\n",
      "   2  1.1018057e+01 5.89e+02 4.15e+01  -1.0 4.90e+00    -  2.35e-03 1.12e-04h  1\n",
      "   3  1.4098196e+02 4.59e+02 3.48e+03  -1.0 4.58e+01    -  3.36e-04 2.16e-01h  1\n",
      "   4  1.4157577e+02 4.58e+02 3.42e+03  -1.0 8.63e+01    -  5.81e-02 1.71e-02h  1\n",
      "   5  1.4336147e+02 4.57e+02 3.41e+03  -1.0 8.11e+00    -  7.91e-05 3.98e-03h  1\n",
      "   6  6.0014385e+02 0.00e+00 2.85e+02  -1.0 8.97e+00    -  1.00e+00 1.00e+00h  1\n",
      "   7  6.0056256e+02 0.00e+00 2.84e+00  -1.0 8.37e-02    -  9.90e-01 1.00e+00f  1\n",
      "   8  6.0050071e+02 0.00e+00 1.06e-02  -1.0 3.49e-02    -  9.96e-01 1.00e+00f  1\n",
      "   9  6.0001337e+02 0.00e+00 1.05e-03  -2.5 9.77e-02    -  1.00e+00 1.00e+00f  1\n",
      "iter    objective    inf_pr   inf_du lg(mu)  ||d||  lg(rg) alpha_du alpha_pr  ls\n",
      "  10  6.0000075e+02 0.00e+00 7.90e-05  -3.8 1.97e-01    -  1.00e+00 1.00e+00h  1\n",
      "  11  6.0000000e+02 0.00e+00 8.99e-07  -5.7 3.71e-02    -  1.00e+00 1.00e+00h  1\n",
      "  12  6.0000000e+02 0.00e+00 5.09e-09  -5.7 3.03e+00    -  1.00e+00 1.00e+00h  1\n",
      "  13  6.0000000e+02 0.00e+00 1.87e-10  -5.7 1.57e-01    -  1.00e+00 1.00e+00h  1\n",
      "  14  5.9999999e+02 0.00e+00 1.01e-12  -8.6 1.19e-05    -  1.00e+00 1.00e+00h  1\n",
      "\n",
      "Number of Iterations....: 14\n",
      "\n",
      "                                   (scaled)                 (unscaled)\n",
      "Objective...............:   1.1999999880250584e+02    5.9999999401252921e+02\n",
      "Dual infeasibility......:   1.0063298083151290e-12    5.0316490415756450e-12\n",
      "Constraint violation....:   0.0000000000000000e+00    0.0000000000000000e+00\n",
      "Complementarity.........:   2.5095227557658326e-09    1.2547613778829163e-08\n",
      "Overall NLP error.......:   2.5095227557658326e-09    1.2547613778829163e-08\n",
      "\n",
      "\n",
      "Number of objective function evaluations             = 15\n",
      "Number of objective gradient evaluations             = 15\n",
      "Number of equality constraint evaluations            = 0\n",
      "Number of inequality constraint evaluations          = 15\n",
      "Number of equality constraint Jacobian evaluations   = 0\n",
      "Number of inequality constraint Jacobian evaluations = 15\n",
      "Number of Lagrangian Hessian evaluations             = 14\n",
      "Total CPU secs in IPOPT (w/o function evaluations)   =      4.997\n",
      "Total CPU secs in NLP function evaluations           =      1.982\n",
      "\n",
      "EXIT: Optimal Solution Found.\n"
     ]
    }
   ],
   "source": [
    "optimize!(mm)"
   ]
  },
  {
   "cell_type": "code",
   "execution_count": 16,
   "metadata": {},
   "outputs": [
    {
     "name": "stdout",
     "output_type": "stream",
     "text": [
      "1.0674764647398567\n",
      "6.626176164260091\n",
      "599.9999940125292\n",
      "LOCALLY_SOLVED\n"
     ]
    }
   ],
   "source": [
    "println(JuMP.value.(P_c))\n",
    "println(JuMP.value.(P_f))\n",
    "println(JuMP.objective_value(mm))\n",
    "println(JuMP.termination_status(mm))"
   ]
  },
  {
   "cell_type": "code",
   "execution_count": null,
   "metadata": {},
   "outputs": [],
   "source": [
    "# Ipopt is working"
   ]
  },
  {
   "cell_type": "code",
   "execution_count": null,
   "metadata": {},
   "outputs": [],
   "source": []
  },
  {
   "cell_type": "code",
   "execution_count": 17,
   "metadata": {},
   "outputs": [
    {
     "data": {
      "text/latex": [
       "$$ \\begin{alignat*}{1}\\text{feasibility}\\\\\n",
       "\\text{Subject to} \\quad\\end{alignat*}\n",
       " $$"
      ],
      "text/plain": [
       "A JuMP Model\n",
       "Feasibility problem with:\n",
       "Variables: 0\n",
       "Model mode: AUTOMATIC\n",
       "CachingOptimizer state: EMPTY_OPTIMIZER\n",
       "Solver name: Ipopt"
      ]
     },
     "execution_count": 17,
     "metadata": {},
     "output_type": "execute_result"
    }
   ],
   "source": [
    "m2 = Model(Ipopt.Optimizer)"
   ]
  },
  {
   "cell_type": "code",
   "execution_count": 18,
   "metadata": {},
   "outputs": [
    {
     "data": {
      "text/plain": [
       "60-element Array{VariableRef,1}:\n",
       " fan[1] \n",
       " fan[2] \n",
       " fan[3] \n",
       " fan[4] \n",
       " fan[5] \n",
       " fan[6] \n",
       " fan[7] \n",
       " fan[8] \n",
       " fan[9] \n",
       " fan[10]\n",
       " fan[11]\n",
       " fan[12]\n",
       " fan[13]\n",
       " ⋮      \n",
       " fan[49]\n",
       " fan[50]\n",
       " fan[51]\n",
       " fan[52]\n",
       " fan[53]\n",
       " fan[54]\n",
       " fan[55]\n",
       " fan[56]\n",
       " fan[57]\n",
       " fan[58]\n",
       " fan[59]\n",
       " fan[60]"
      ]
     },
     "execution_count": 18,
     "metadata": {},
     "output_type": "execute_result"
    }
   ],
   "source": [
    "@variable(m2, P_c[1:N], base_name=\"compressor\", lower_bound=0, upper_bound=3)\n",
    "@variable(m2, P_f[1:N], base_name=\"fan\", lower_bound=0, upper_bound=4)"
   ]
  },
  {
   "cell_type": "code",
   "execution_count": 19,
   "metadata": {},
   "outputs": [
    {
     "data": {
      "text/plain": [
       "60-element Array{VariableRef,1}:\n",
       " W_hvac[1] \n",
       " W_hvac[2] \n",
       " W_hvac[3] \n",
       " W_hvac[4] \n",
       " W_hvac[5] \n",
       " W_hvac[6] \n",
       " W_hvac[7] \n",
       " W_hvac[8] \n",
       " W_hvac[9] \n",
       " W_hvac[10]\n",
       " W_hvac[11]\n",
       " W_hvac[12]\n",
       " W_hvac[13]\n",
       " ⋮         \n",
       " W_hvac[49]\n",
       " W_hvac[50]\n",
       " W_hvac[51]\n",
       " W_hvac[52]\n",
       " W_hvac[53]\n",
       " W_hvac[54]\n",
       " W_hvac[55]\n",
       " W_hvac[56]\n",
       " W_hvac[57]\n",
       " W_hvac[58]\n",
       " W_hvac[59]\n",
       " W_hvac[60]"
      ]
     },
     "execution_count": 19,
     "metadata": {},
     "output_type": "execute_result"
    }
   ],
   "source": [
    "@variable(m2, W_hvac[1:1N], lower_bound=0, upper_bound=10000)\n",
    "# @variable(m2, W_dis[1:N], lower_bound=0, upper_bound=10000)\n",
    "# @variable(m2, W_ch[1:N], lower_bound=0, upper_bound=10000)"
   ]
  },
  {
   "cell_type": "code",
   "execution_count": 20,
   "metadata": {},
   "outputs": [
    {
     "data": {
      "text/plain": [
       "60-element Array{VariableRef,1}:\n",
       " n_co2[1] \n",
       " n_co2[2] \n",
       " n_co2[3] \n",
       " n_co2[4] \n",
       " n_co2[5] \n",
       " n_co2[6] \n",
       " n_co2[7] \n",
       " n_co2[8] \n",
       " n_co2[9] \n",
       " n_co2[10]\n",
       " n_co2[11]\n",
       " n_co2[12]\n",
       " n_co2[13]\n",
       " ⋮        \n",
       " n_co2[49]\n",
       " n_co2[50]\n",
       " n_co2[51]\n",
       " n_co2[52]\n",
       " n_co2[53]\n",
       " n_co2[54]\n",
       " n_co2[55]\n",
       " n_co2[56]\n",
       " n_co2[57]\n",
       " n_co2[58]\n",
       " n_co2[59]\n",
       " n_co2[60]"
      ]
     },
     "execution_count": 20,
     "metadata": {},
     "output_type": "execute_result"
    }
   ],
   "source": [
    "@variable(m2, Q[1:N], lower_bound=0, upper_bound=100)\n",
    "# @variable(m2, E[1:N], lower_bound=0, upper_bound=10000000)\n",
    "@variable(m2, T_r[1:N], lower_bound=0, upper_bound=50)\n",
    "@variable(m2, T_w[1:N], lower_bound=0, upper_bound=50)\n",
    "@variable(m2, n_c[1:N], lower_bound=0, upper_bound=2000)"
   ]
  },
  {
   "cell_type": "code",
   "execution_count": 21,
   "metadata": {},
   "outputs": [
    {
     "data": {
      "text/plain": [
       "60-element Array{Float64,1}:\n",
       " 4.41704          \n",
       " 4.41704          \n",
       " 4.417040000000001\n",
       " 4.417039999999999\n",
       " 4.41704          \n",
       " 4.41704          \n",
       " 4.41704          \n",
       " 4.41704          \n",
       " 4.41704          \n",
       " 4.41704          \n",
       " 4.41704          \n",
       " 4.41704          \n",
       " 4.41704          \n",
       " ⋮                \n",
       " 4.41704          \n",
       " 4.41704          \n",
       " 4.41704          \n",
       " 4.41704          \n",
       " 4.41704          \n",
       " 4.41704          \n",
       " 4.41704          \n",
       " 4.41704          \n",
       " 4.41704          \n",
       " 4.41704          \n",
       " 4.41704          \n",
       " 4.25404          "
      ]
     },
     "execution_count": 21,
     "metadata": {},
     "output_type": "execute_result"
    }
   ],
   "source": [
    "@expression(m2, expr_price[i = 1:N],LinearInterpolation([0, 0.999, 1, 1.999, 2, 2.999, 3, 3.999, 4, 4.999, 5, 5.999, 6, 6.999, 7, 7.999, 8, 8.999, 9, 9.999, 10, 10.999, 11, 11.999, 12, 12.999, 13, 13.999, 14, 14.999, 15, 15.999, 16, 16.999, 17, 17.999, 18, 18.999, 19, 19.999, 20, 20.999, 21, 21.999, 22, 22.999, 23, 23.999, 24, 24.999], [4.41704, 4.41704, 4.25404, 4.25404, 4.14436, 4.14436, 4.05468, 4.05468, 4.01459, 4.01459, 4.02631, 4.02631, 4.16135, 4.16135, 4.24251, 4.24251, 4.49976, 4.49976, 4.59363, 4.59363, 4.77394, 4.77394, 4.80014, 4.80014, 4.78849, 4.78849, 4.75757, 4.75757, 4.77814, 4.77814, 4.79783, 4.79783, 4.7674, 4.7674, 4.73724, 4.73724, 4.72584, 4.72584, 4.73167, 4.73167, 4.73894, 4.73894, 4.7544, 4.7544, 4.75318, 4.75318, 4.61478, 4.61478, 4.41704, 4.41704],extrapolation_bc=Flat())(i/60))"
   ]
  },
  {
   "cell_type": "code",
   "execution_count": 22,
   "metadata": {},
   "outputs": [
    {
     "data": {
      "text/plain": [
       "60-element Array{GenericAffExpr{Float64,VariableRef},1}:\n",
       " 10 fan[1] + 500 compressor[1]  \n",
       " 10 fan[2] + 500 compressor[2]  \n",
       " 10 fan[3] + 500 compressor[3]  \n",
       " 10 fan[4] + 500 compressor[4]  \n",
       " 10 fan[5] + 500 compressor[5]  \n",
       " 10 fan[6] + 500 compressor[6]  \n",
       " 10 fan[7] + 500 compressor[7]  \n",
       " 10 fan[8] + 500 compressor[8]  \n",
       " 10 fan[9] + 500 compressor[9]  \n",
       " 10 fan[10] + 500 compressor[10]\n",
       " 10 fan[11] + 500 compressor[11]\n",
       " 10 fan[12] + 500 compressor[12]\n",
       " 10 fan[13] + 500 compressor[13]\n",
       " ⋮                              \n",
       " 10 fan[49] + 500 compressor[49]\n",
       " 10 fan[50] + 500 compressor[50]\n",
       " 10 fan[51] + 500 compressor[51]\n",
       " 10 fan[52] + 500 compressor[52]\n",
       " 10 fan[53] + 500 compressor[53]\n",
       " 10 fan[54] + 500 compressor[54]\n",
       " 10 fan[55] + 500 compressor[55]\n",
       " 10 fan[56] + 500 compressor[56]\n",
       " 10 fan[57] + 500 compressor[57]\n",
       " 10 fan[58] + 500 compressor[58]\n",
       " 10 fan[59] + 500 compressor[59]\n",
       " 10 fan[60] + 500 compressor[60]"
      ]
     },
     "execution_count": 22,
     "metadata": {},
     "output_type": "execute_result"
    }
   ],
   "source": [
    "@expression(m2, expr_obj_init[i in 1:N], 10 * P_f[i] + 500 * P_c[i])"
   ]
  },
  {
   "cell_type": "code",
   "execution_count": 23,
   "metadata": {},
   "outputs": [
    {
     "data": {
      "text/latex": [
       "$$ 44.1704 fan_{1} + 2208.52 compressor_{1} + 44.1704 fan_{2} + 2208.52 compressor_{2} + 44.17040000000001 fan_{3} + 2208.5200000000004 compressor_{3} + 44.170399999999994 fan_{4} + 2208.5199999999995 compressor_{4} + 44.1704 fan_{5} + 2208.52 compressor_{5} + 44.1704 fan_{6} + 2208.52 compressor_{6} + 44.1704 fan_{7} + 2208.52 compressor_{7} + 44.1704 fan_{8} + 2208.52 compressor_{8} + 44.1704 fan_{9} + 2208.52 compressor_{9} + 44.1704 fan_{10} + 2208.52 compressor_{10} + 44.1704 fan_{11} + 2208.52 compressor_{11} + 44.1704 fan_{12} + 2208.52 compressor_{12} + 44.1704 fan_{13} + 2208.52 compressor_{13} + 44.1704 fan_{14} + 2208.52 compressor_{14} + 44.1704 fan_{15} + 2208.52 compressor_{15} + 44.1704 fan_{16} + 2208.52 compressor_{16} + 44.1704 fan_{17} + 2208.52 compressor_{17} + 44.1704 fan_{18} + 2208.52 compressor_{18} + 44.1704 fan_{19} + 2208.52 compressor_{19} + 44.1704 fan_{20} + 2208.52 compressor_{20} + 44.1704 fan_{21} + 2208.52 compressor_{21} + 44.1704 fan_{22} + 2208.52 compressor_{22} + 44.1704 fan_{23} + 2208.52 compressor_{23} + 44.1704 fan_{24} + 2208.52 compressor_{24} + 44.1704 fan_{25} + 2208.52 compressor_{25} + 44.1704 fan_{26} + 2208.52 compressor_{26} + 44.1704 fan_{27} + 2208.52 compressor_{27} + 44.1704 fan_{28} + 2208.52 compressor_{28} + 44.1704 fan_{29} + 2208.52 compressor_{29} + 44.1704 fan_{30} + 2208.52 compressor_{30} + 44.1704 fan_{31} + 2208.52 compressor_{31} + 44.1704 fan_{32} + 2208.52 compressor_{32} + 44.1704 fan_{33} + 2208.52 compressor_{33} + 44.1704 fan_{34} + 2208.52 compressor_{34} + 44.1704 fan_{35} + 2208.52 compressor_{35} + 44.1704 fan_{36} + 2208.52 compressor_{36} + 44.1704 fan_{37} + 2208.52 compressor_{37} + 44.1704 fan_{38} + 2208.52 compressor_{38} + 44.1704 fan_{39} + 2208.52 compressor_{39} + 44.1704 fan_{40} + 2208.52 compressor_{40} + 44.1704 fan_{41} + 2208.52 compressor_{41} + 44.1704 fan_{42} + 2208.52 compressor_{42} + 44.1704 fan_{43} + 2208.52 compressor_{43} + 44.1704 fan_{44} + 2208.52 compressor_{44} + 44.1704 fan_{45} + 2208.52 compressor_{45} + 44.1704 fan_{46} + 2208.52 compressor_{46} + 44.1704 fan_{47} + 2208.52 compressor_{47} + 44.1704 fan_{48} + 2208.52 compressor_{48} + 44.1704 fan_{49} + 2208.52 compressor_{49} + 44.1704 fan_{50} + 2208.52 compressor_{50} + 44.1704 fan_{51} + 2208.52 compressor_{51} + 44.1704 fan_{52} + 2208.52 compressor_{52} + 44.1704 fan_{53} + 2208.52 compressor_{53} + 44.1704 fan_{54} + 2208.52 compressor_{54} + 44.1704 fan_{55} + 2208.52 compressor_{55} + 44.1704 fan_{56} + 2208.52 compressor_{56} + 44.1704 fan_{57} + 2208.52 compressor_{57} + 44.1704 fan_{58} + 2208.52 compressor_{58} + 44.1704 fan_{59} + 2208.52 compressor_{59} + 42.5404 fan_{60} + 2127.02 compressor_{60} $$"
      ],
      "text/plain": [
       "44.1704 fan[1] + 2208.52 compressor[1] + 44.1704 fan[2] + 2208.52 compressor[2] + 44.17040000000001 fan[3] + 2208.5200000000004 compressor[3] + 44.170399999999994 fan[4] + 2208.5199999999995 compressor[4] + 44.1704 fan[5] + 2208.52 compressor[5] + 44.1704 fan[6] + 2208.52 compressor[6] + 44.1704 fan[7] + 2208.52 compressor[7] + 44.1704 fan[8] + 2208.52 compressor[8] + 44.1704 fan[9] + 2208.52 compressor[9] + 44.1704 fan[10] + 2208.52 compressor[10] + 44.1704 fan[11] + 2208.52 compressor[11] + 44.1704 fan[12] + 2208.52 compressor[12] + 44.1704 fan[13] + 2208.52 compressor[13] + 44.1704 fan[14] + 2208.52 compressor[14] + 44.1704 fan[15] + 2208.52 compressor[15] + 44.1704 fan[16] + 2208.52 compressor[16] + 44.1704 fan[17] + 2208.52 compressor[17] + 44.1704 fan[18] + 2208.52 compressor[18] + 44.1704 fan[19] + 2208.52 compressor[19] + 44.1704 fan[20] + 2208.52 compressor[20] + 44.1704 fan[21] + 2208.52 compressor[21] + 44.1704 fan[22] + 2208.52 compressor[22] + 44.1704 fan[23] + 2208.52 compressor[23] + 44.1704 fan[24] + 2208.52 compressor[24] + 44.1704 fan[25] + 2208.52 compressor[25] + 44.1704 fan[26] + 2208.52 compressor[26] + 44.1704 fan[27] + 2208.52 compressor[27] + 44.1704 fan[28] + 2208.52 compressor[28] + 44.1704 fan[29] + 2208.52 compressor[29] + 44.1704 fan[30] + 2208.52 compressor[30] + 44.1704 fan[31] + 2208.52 compressor[31] + 44.1704 fan[32] + 2208.52 compressor[32] + 44.1704 fan[33] + 2208.52 compressor[33] + 44.1704 fan[34] + 2208.52 compressor[34] + 44.1704 fan[35] + 2208.52 compressor[35] + 44.1704 fan[36] + 2208.52 compressor[36] + 44.1704 fan[37] + 2208.52 compressor[37] + 44.1704 fan[38] + 2208.52 compressor[38] + 44.1704 fan[39] + 2208.52 compressor[39] + 44.1704 fan[40] + 2208.52 compressor[40] + 44.1704 fan[41] + 2208.52 compressor[41] + 44.1704 fan[42] + 2208.52 compressor[42] + 44.1704 fan[43] + 2208.52 compressor[43] + 44.1704 fan[44] + 2208.52 compressor[44] + 44.1704 fan[45] + 2208.52 compressor[45] + 44.1704 fan[46] + 2208.52 compressor[46] + 44.1704 fan[47] + 2208.52 compressor[47] + 44.1704 fan[48] + 2208.52 compressor[48] + 44.1704 fan[49] + 2208.52 compressor[49] + 44.1704 fan[50] + 2208.52 compressor[50] + 44.1704 fan[51] + 2208.52 compressor[51] + 44.1704 fan[52] + 2208.52 compressor[52] + 44.1704 fan[53] + 2208.52 compressor[53] + 44.1704 fan[54] + 2208.52 compressor[54] + 44.1704 fan[55] + 2208.52 compressor[55] + 44.1704 fan[56] + 2208.52 compressor[56] + 44.1704 fan[57] + 2208.52 compressor[57] + 44.1704 fan[58] + 2208.52 compressor[58] + 44.1704 fan[59] + 2208.52 compressor[59] + 42.5404 fan[60] + 2127.02 compressor[60]"
      ]
     },
     "execution_count": 23,
     "metadata": {},
     "output_type": "execute_result"
    }
   ],
   "source": [
    "@expression(m2, expr_obj, sum(expr_obj_init[j] * expr_price[j] for j in 1:N))"
   ]
  },
  {
   "cell_type": "code",
   "execution_count": 24,
   "metadata": {},
   "outputs": [],
   "source": [
    "# @expression(m2, expr_obj1, (44.1704 * P_f[1] + 2208.52 * P_c[1] + 44.1704 * P_f[2] + 2208.52 * P_c[2] + 44.17040000000001 * P_f[3] + 2208.5200000000004 * P_c[3] + 44.170399999999994 * P_f[4] + 2208.5199999999995 * P_c[4] + 44.1704 * P_f[5] + 2208.52 * P_c[5] + 44.1704 * P_f[6] + 2208.52 * P_c[6] + 44.1704 * P_f[7] + 2208.52 * P_c[7] + 44.1704 * P_f[8] + 2208.52 * P_c[8] + 44.1704 * P_f[9] + 2208.52 * P_c[9] + 44.1704 * P_f[10] + 2208.52 * P_c[10] + 44.1704 * P_f[11] + 2208.52 * P_c[11] + 44.1704 * P_f[12] + 2208.52 * P_c[12] + 44.1704 * P_f[13] + 2208.52 * P_c[13] + 44.1704 * P_f[14] + 2208.52 * P_c[14] + 44.1704 * P_f[15] + 2208.52 * P_c[15] + 44.1704 * P_f[16] + 2208.52 * P_c[16] + 44.1704 * P_f[17] + 2208.52 * P_c[17] + 44.1704 * P_f[18] + 2208.52 * P_c[18] + 44.1704 * P_f[19] + 2208.52 * P_c[19] + 44.1704 * P_f[20] + 2208.52 * P_c[20] + 44.1704 * P_f[21] + 2208.52 * P_c[21] + 44.1704 * P_f[22] + 2208.52 * P_c[22] + 44.1704 * P_f[23] + 2208.52 * P_c[23] + 44.1704 * P_f[24] + 2208.52 * P_c[24] + 44.1704 * P_f[25] + 2208.52 * P_c[25] + 44.1704 * P_f[26] + 2208.52 * P_c[26] + 44.1704 * P_f[27] + 2208.52 * P_c[27] + 44.1704 * P_f[28] + 2208.52 * P_c[28] + 44.1704 * P_f[29] + 2208.52 * P_c[29] + 44.1704 * P_f[30] + 2208.52 * P_c[30] + 44.1704 * P_f[31] + 2208.52 * P_c[31] + 44.1704 * P_f[32] + 2208.52 * P_c[32] + 44.1704 * P_f[33] + 2208.52 * P_c[33] + 44.1704 * P_f[34] + 2208.52 * P_c[34] + 44.1704 * P_f[35] + 2208.52 * P_c[35] + 44.1704 * P_f[36] + 2208.52 * P_c[36] + 44.1704 * P_f[37] + 2208.52 * P_c[37] + 44.1704 * P_f[38] + 2208.52 * P_c[38] + 44.1704 * P_f[39] + 2208.52 * P_c[39] + 44.1704 * P_f[40] + 2208.52 * P_c[40] + 44.1704 * P_f[41] + 2208.52 * P_c[41] + 44.1704 * P_f[42] + 2208.52 * P_c[42] + 44.1704 * P_f[43] + 2208.52 * P_c[43] + 44.1704 * P_f[44] + 2208.52 * P_c[44] + 44.1704 * P_f[45] + 2208.52 * P_c[45] + 44.1704 * P_f[46] + 2208.52 * P_c[46] + 44.1704 * P_f[47] + 2208.52 * P_c[47] + 44.1704 * P_f[48] + 2208.52 * P_c[48] + 44.1704 * P_f[49] + 2208.52 * P_c[49] + 44.1704 * P_f[50] + 2208.52 * P_c[50] + 44.1704 * P_f[51] + 2208.52 * P_c[51] + 44.1704 * P_f[52] + 2208.52 * P_c[52] + 44.1704 * P_f[53] + 2208.52 * P_c[53] + 44.1704 * P_f[54] + 2208.52 * P_c[54] + 44.1704 * P_f[55] + 2208.52 * P_c[55] + 44.1704 * P_f[56] + 2208.52 * P_c[56] + 44.1704 * P_f[57] + 2208.52 * P_c[57] + 44.1704 * P_f[58] + 2208.52 * P_c[58] + 44.1704 * P_f[59] + 2208.52 * P_c[59] + 42.5404 * P_f[60] + 2127.02 * P_c[60] + 42.5404 * P_f[61] + 2127.02 * P_c[61] + 42.54039999999999 * P_f[62] + 2127.0199999999995 * P_c[62] + 42.5404 * P_f[63] + 2127.02 * P_c[63] + 42.5404 * P_f[64] + 2127.02 * P_c[64] + 42.5404 * P_f[65] + 2127.02 * P_c[65] + 42.5404 * P_f[66] + 2127.02 * P_c[66] + 42.5404 * P_f[67] + 2127.02 * P_c[67] + 42.5404 * P_f[68] + 2127.02 * P_c[68] + 42.5404 * P_f[69] + 2127.02 * P_c[69] + 42.5404 * P_f[70] + 2127.02 * P_c[70] + 42.5404 * P_f[71] + 2127.02 * P_c[71] + 42.5404 * P_f[72] + 2127.02 * P_c[72] + 42.5404 * P_f[73] + 2127.02 * P_c[73] + 42.5404 * P_f[74] + 2127.02 * P_c[74] + 42.5404 * P_f[75] + 2127.02 * P_c[75] + 42.5404 * P_f[76] + 2127.02 * P_c[76] + 42.5404 * P_f[77] + 2127.02 * P_c[77] + 42.5404 * P_f[78] + 2127.02 * P_c[78] + 42.5404 * P_f[79] + 2127.02 * P_c[79] + 42.5404 * P_f[80] + 2127.02 * P_c[80] + 42.5404 * P_f[81] + 2127.02 * P_c[81] + 42.5404 * P_f[82] + 2127.02 * P_c[82] + 42.5404 * P_f[83] + 2127.02 * P_c[83] + 42.5404 * P_f[84] + 2127.02 * P_c[84] + 42.5404 * P_f[85] + 2127.02 * P_c[85] + 42.5404 * P_f[86] + 2127.02 * P_c[86] + 42.5404 * P_f[87] + 2127.02 * P_c[87] + 42.5404 * P_f[88] + 2127.02 * P_c[88] + 42.5404 * P_f[89] + 2127.02 * P_c[89] + 42.5404 * P_f[90] + 2127.02 * P_c[90] + 42.5404 * P_f[91] + 2127.02 * P_c[91] + 42.5404 * P_f[92] + 2127.02 * P_c[92] + 42.5404 * P_f[93] + 2127.02 * P_c[93] + 42.5404 * P_f[94] + 2127.02 * P_c[94] + 42.5404 * P_f[95] + 2127.02 * P_c[95] + 42.5404 * P_f[96] + 2127.02 * P_c[96] + 42.5404 * P_f[97] + 2127.02 * P_c[97] + 42.5404 * P_f[98] + 2127.02 * P_c[98] + 42.5404 * P_f[99] + 2127.02 * P_c[99] + 42.5404 * P_f[100] + 2127.02 * P_c[100] + 42.5404 * P_f[101] + 2127.02 * P_c[101] + 42.5404 * P_f[102] + 2127.02 * P_c[102] + 42.5404 * P_f[103] + 2127.02 * P_c[103] + 42.5404 * P_f[104] + 2127.02 * P_c[104] + 42.5404 * P_f[105] + 2127.02 * P_c[105] + 42.5404 * P_f[106] + 2127.02 * P_c[106] + 42.5404 * P_f[107] + 2127.02 * P_c[107] + 42.5404 * P_f[108] + 2127.02 * P_c[108] + 42.5404 * P_f[109] + 2127.02 * P_c[109] + 42.5404 * P_f[110] + 2127.02 * P_c[110] + 42.5404 * P_f[111] + 2127.02 * P_c[111] + 42.5404 * P_f[112] + 2127.02 * P_c[112] + 42.5404 * P_f[113] + 2127.02 * P_c[113] + 42.5404 * P_f[114] + 2127.02 * P_c[114] + 42.5404 * P_f[115] + 2127.02 * P_c[115] + 42.5404 * P_f[116] + 2127.02 * P_c[116] + 42.5404 * P_f[117] + 2127.02 * P_c[117] + 42.5404 * P_f[118] + 2127.02 * P_c[118] + 42.5404 * P_f[119] + 2127.02 * P_c[119] + 41.443599999999996 * P_f[120] + 2072.18 * P_c[120] + 41.44359999999999 * P_f[121] + 2072.1799999999994 * P_c[121] + 41.443599999999996 * P_f[122] + 2072.18 * P_c[122] + 41.443599999999996 * P_f[123] + 2072.18 * P_c[123] + 41.443599999999996 * P_f[124] + 2072.18 * P_c[124] + 41.443599999999996 * P_f[125] + 2072.18 * P_c[125] + 41.443599999999996 * P_f[126] + 2072.18 * P_c[126] + 41.443599999999996 * P_f[127] + 2072.18 * P_c[127] + 41.443599999999996 * P_f[128] + 2072.18 * P_c[128] + 41.443599999999996 * P_f[129] + 2072.18 * P_c[129] + 41.443599999999996 * P_f[130] + 2072.18 * P_c[130] + 41.443599999999996 * P_f[131] + 2072.18 * P_c[131] + 41.443599999999996 * P_f[132] + 2072.18 * P_c[132] + 41.443599999999996 * P_f[133] + 2072.18 * P_c[133] + 41.443599999999996 * P_f[134] + 2072.18 * P_c[134] + 41.4436 * P_f[135] + 2072.1800000000003 * P_c[135] + 41.44359999999999 * P_f[136] + 2072.1799999999994 * P_c[136] + 41.443599999999996 * P_f[137] + 2072.18 * P_c[137] + 41.443599999999996 * P_f[138] + 2072.18 * P_c[138] + 41.443599999999996 * P_f[139] + 2072.18 * P_c[139] + 41.443599999999996 * P_f[140] + 2072.18 * P_c[140] + 41.44359999999999 * P_f[141] + 2072.1799999999994 * P_c[141] + 41.443599999999996 * P_f[142] + 2072.18 * P_c[142] + 41.443599999999996 * P_f[143] + 2072.18 * P_c[143] + 41.443599999999996 * P_f[144] + 2072.18 * P_c[144] + 41.443599999999996 * P_f[145] + 2072.18 * P_c[145] + 41.443599999999996 * P_f[146] + 2072.18 * P_c[146] + 41.443599999999996 * P_f[147] + 2072.18 * P_c[147] + 41.443599999999996 * P_f[148] + 2072.18 * P_c[148] + 41.443599999999996 * P_f[149] + 2072.18 * P_c[149] + 41.443599999999996 * P_f[150] + 2072.18 * P_c[150] + 41.443599999999996 * P_f[151] + 2072.18 * P_c[151] + 41.443599999999996 * P_f[152] + 2072.18 * P_c[152] + 41.443599999999996 * P_f[153] + 2072.18 * P_c[153] + 41.443599999999996 * P_f[154] + 2072.18 * P_c[154] + 41.443599999999996 * P_f[155] + 2072.18 * P_c[155] + 41.443599999999996 * P_f[156] + 2072.18 * P_c[156] + 41.443599999999996 * P_f[157] + 2072.18 * P_c[157] + 41.443599999999996 * P_f[158] + 2072.18 * P_c[158] + 41.443599999999996 * P_f[159] + 2072.18 * P_c[159] + 41.443599999999996 * P_f[160] + 2072.18 * P_c[160] + 41.443599999999996 * P_f[161] + 2072.18 * P_c[161] + 41.443599999999996 * P_f[162] + 2072.18 * P_c[162] + 41.443599999999996 * P_f[163] + 2072.18 * P_c[163] + 41.443599999999996 * P_f[164] + 2072.18 * P_c[164] + 41.443599999999996 * P_f[165] + 2072.18 * P_c[165] + 41.443599999999996 * P_f[166] + 2072.18 * P_c[166] + 41.443599999999996 * P_f[167] + 2072.18 * P_c[167] + 41.443599999999996 * P_f[168] + 2072.18 * P_c[168] + 41.443599999999996 * P_f[169] + 2072.18 * P_c[169] + 41.443599999999996 * P_f[170] + 2072.18 * P_c[170] + 41.443599999999996 * P_f[171] + 2072.18 * P_c[171] + 41.443599999999996 * P_f[172] + 2072.18 * P_c[172] + 41.443599999999996 * P_f[173] + 2072.18 * P_c[173] + 41.443599999999996 * P_f[174] + 2072.18 * P_c[174] + 41.443599999999996 * P_f[175] + 2072.18 * P_c[175] + 41.443599999999996 * P_f[176] + 2072.18 * P_c[176] + 41.443599999999996 * P_f[177] + 2072.18 * P_c[177] + 41.443599999999996 * P_f[178] + 2072.18 * P_c[178] + 41.443599999999996 * P_f[179] + 2072.18 * P_c[179] + 40.546800000000005 * P_f[180] + 2027.3400000000001 * P_c[180] + 40.546800000000005 * P_f[181] + 2027.3400000000001 * P_c[181] + 40.546800000000005 * P_f[182] + 2027.3400000000001 * P_c[182] + 40.546800000000005 * P_f[183] + 2027.3400000000001 * P_c[183] + 40.546800000000005 * P_f[184] + 2027.3400000000001 * P_c[184] + 40.546800000000005 * P_f[185] + 2027.3400000000001 * P_c[185] + 40.546800000000005 * P_f[186] + 2027.3400000000001 * P_c[186] + 40.546800000000005 * P_f[187] + 2027.3400000000001 * P_c[187] + 40.546800000000005 * P_f[188] + 2027.3400000000001 * P_c[188] + 40.546800000000005 * P_f[189] + 2027.3400000000001 * P_c[189] + 40.546800000000005 * P_f[190] + 2027.3400000000001 * P_c[190] + 40.546800000000005 * P_f[191] + 2027.3400000000001 * P_c[191] + 40.546800000000005 * P_f[192] + 2027.3400000000001 * P_c[192] + 40.546800000000005 * P_f[193] + 2027.3400000000001 * P_c[193] + 40.546800000000005 * P_f[194] + 2027.3400000000001 * P_c[194] + 40.546800000000005 * P_f[195] + 2027.3400000000001 * P_c[195] + 40.54679999999999 * P_f[196] + 2027.3399999999997 * P_c[196] + 40.546800000000005 * P_f[197] + 2027.3400000000001 * P_c[197] + 40.546800000000005 * P_f[198] + 2027.3400000000001 * P_c[198] + 40.546800000000005 * P_f[199] + 2027.3400000000001 * P_c[199] + 40.546800000000005 * P_f[200] + 2027.3400000000001 * P_c[200] + 40.54679999999999 * P_f[201] + 2027.3399999999997 * P_c[201] + 40.546800000000005 * P_f[202] + 2027.3400000000001 * P_c[202] + 40.546800000000005 * P_f[203] + 2027.3400000000001 * P_c[203] + 40.546800000000005 * P_f[204] + 2027.3400000000001 * P_c[204] + 40.546800000000005 * P_f[205] + 2027.3400000000001 * P_c[205] + 40.546800000000005 * P_f[206] + 2027.3400000000001 * P_c[206] + 40.546800000000005 * P_f[207] + 2027.3400000000001 * P_c[207] + 40.546800000000005 * P_f[208] + 2027.3400000000001 * P_c[208] + 40.546800000000005 * P_f[209] + 2027.3400000000001 * P_c[209] + 40.546800000000005 * P_f[210] + 2027.3400000000001 * P_c[210] + 40.546800000000005 * P_f[211] + 2027.3400000000001 * P_c[211] + 40.546800000000005 * P_f[212] + 2027.3400000000001 * P_c[212] + 40.546800000000005 * P_f[213] + 2027.3400000000001 * P_c[213] + 40.546800000000005 * P_f[214] + 2027.3400000000001 * P_c[214] + 40.546800000000005 * P_f[215] + 2027.3400000000001 * P_c[215] + 40.546800000000005 * P_f[216] + 2027.3400000000001 * P_c[216] + 40.546800000000005 * P_f[217] + 2027.3400000000001 * P_c[217] + 40.546800000000005 * P_f[218] + 2027.3400000000001 * P_c[218] + 40.546800000000005 * P_f[219] + 2027.3400000000001 * P_c[219] + 40.546800000000005 * P_f[220] + 2027.3400000000001 * P_c[220] + 40.546800000000005 * P_f[221] + 2027.3400000000001 * P_c[221] + 40.546800000000005 * P_f[222] + 2027.3400000000001 * P_c[222] + 40.546800000000005 * P_f[223] + 2027.3400000000001 * P_c[223] + 40.546800000000005 * P_f[224] + 2027.3400000000001 * P_c[224] + 40.546800000000005 * P_f[225] + 2027.3400000000001 * P_c[225] + 40.546800000000005 * P_f[226] + 2027.3400000000001 * P_c[226] + 40.546800000000005 * P_f[227] + 2027.3400000000001 * P_c[227] + 40.546800000000005 * P_f[228] + 2027.3400000000001 * P_c[228] + 40.546800000000005 * P_f[229] + 2027.3400000000001 * P_c[229] + 40.546800000000005 * P_f[230] + 2027.3400000000001 * P_c[230] + 40.546800000000005 * P_f[231] + 2027.3400000000001 * P_c[231] + 40.546800000000005 * P_f[232] + 2027.3400000000001 * P_c[232] + 40.546800000000005 * P_f[233] + 2027.3400000000001 * P_c[233] + 40.546800000000005 * P_f[234] + 2027.3400000000001 * P_c[234] + 40.546800000000005 * P_f[235] + 2027.3400000000001 * P_c[235] + 40.546800000000005 * P_f[236] + 2027.3400000000001 * P_c[236] + 40.546800000000005 * P_f[237] + 2027.3400000000001 * P_c[237] + 40.546800000000005 * P_f[238] + 2027.3400000000001 * P_c[238] + 40.546800000000005 * P_f[239] + 2027.3400000000001 * P_c[239] + 40.1459 * P_f[240] + 2007.295 * P_c[240] + 40.1459 * P_f[241] + 2007.295 * P_c[241] + 40.1459 * P_f[242] + 2007.295 * P_c[242] + 40.1459 * P_f[243] + 2007.295 * P_c[243] + 40.1459 * P_f[244] + 2007.295 * P_c[244] + 40.1459 * P_f[245] + 2007.295 * P_c[245] + 40.1459 * P_f[246] + 2007.295 * P_c[246] + 40.1459 * P_f[247] + 2007.295 * P_c[247] + 40.1459 * P_f[248] + 2007.295 * P_c[248] + 40.1459 * P_f[249] + 2007.295 * P_c[249] + 40.1459 * P_f[250] + 2007.295 * P_c[250] + 40.1459 * P_f[251] + 2007.295 * P_c[251] + 40.1459 * P_f[252] + 2007.295 * P_c[252] + 40.1459 * P_f[253] + 2007.295 * P_c[253] + 40.1459 * P_f[254] + 2007.295 * P_c[254] + 40.1459 * P_f[255] + 2007.295 * P_c[255] + 40.1459 * P_f[256] + 2007.295 * P_c[256] + 40.1459 * P_f[257] + 2007.295 * P_c[257] + 40.1459 * P_f[258] + 2007.295 * P_c[258] + 40.1459 * P_f[259] + 2007.295 * P_c[259] + 40.1459 * P_f[260] + 2007.295 * P_c[260] + 40.1459 * P_f[261] + 2007.295 * P_c[261] + 40.1459 * P_f[262] + 2007.295 * P_c[262] + 40.1459 * P_f[263] + 2007.295 * P_c[263] + 40.1459 * P_f[264] + 2007.295 * P_c[264] + 40.1459 * P_f[265] + 2007.295 * P_c[265] + 40.1459 * P_f[266] + 2007.295 * P_c[266] + 40.1459 * P_f[267] + 2007.295 * P_c[267] + 40.1459 * P_f[268] + 2007.295 * P_c[268] + 40.1459 * P_f[269] + 2007.295 * P_c[269] + 40.1459 * P_f[270] + 2007.295 * P_c[270] + 40.1459 * P_f[271] + 2007.295 * P_c[271] + 40.1459 * P_f[272] + 2007.295 * P_c[272] + 40.1459 * P_f[273] + 2007.295 * P_c[273] + 40.1459 * P_f[274] + 2007.295 * P_c[274] + 40.1459 * P_f[275] + 2007.295 * P_c[275] + 40.1459 * P_f[276] + 2007.295 * P_c[276] + 40.1459 * P_f[277] + 2007.295 * P_c[277] + 40.1459 * P_f[278] + 2007.295 * P_c[278] + 40.1459 * P_f[279] + 2007.295 * P_c[279] + 40.1459 * P_f[280] + 2007.295 * P_c[280] + 40.1459 * P_f[281] + 2007.295 * P_c[281] + 40.1459 * P_f[282] + 2007.295 * P_c[282] + 40.1459 * P_f[283] + 2007.295 * P_c[283] + 40.1459 * P_f[284] + 2007.295 * P_c[284] + 40.1459 * P_f[285] + 2007.295 * P_c[285] + 40.1459 * P_f[286] + 2007.295 * P_c[286] + 40.1459 * P_f[287] + 2007.295 * P_c[287] + 40.1459 * P_f[288] + 2007.295 * P_c[288] + 40.1459 * P_f[289] + 2007.295 * P_c[289] + 40.1459 * P_f[290] + 2007.295 * P_c[290] + 40.1459 * P_f[291] + 2007.295 * P_c[291] + 40.1459 * P_f[292] + 2007.295 * P_c[292] + 40.1459 * P_f[293] + 2007.295 * P_c[293] + 40.1459 * P_f[294] + 2007.295 * P_c[294] + 40.1459 * P_f[295] + 2007.295 * P_c[295] + 40.1459 * P_f[296] + 2007.295 * P_c[296] + 40.1459 * P_f[297] + 2007.295 * P_c[297] + 40.1459 * P_f[298] + 2007.295 * P_c[298] + 40.1459 * P_f[299] + 2007.295 * P_c[299] + 40.263099999999994 * P_f[300] + 2013.1549999999997 * P_c[300] + 40.263099999999994 * P_f[301] + 2013.1549999999997 * P_c[301] + 40.263099999999994 * P_f[302] + 2013.1549999999997 * P_c[302] + 40.263099999999994 * P_f[303] + 2013.1549999999997 * P_c[303] + 40.263099999999994 * P_f[304] + 2013.1549999999997 * P_c[304] + 40.263099999999994 * P_f[305] + 2013.1549999999997 * P_c[305] + 40.263099999999994 * P_f[306] + 2013.1549999999997 * P_c[306] + 40.263099999999994 * P_f[307] + 2013.1549999999997 * P_c[307] + 40.263099999999994 * P_f[308] + 2013.1549999999997 * P_c[308] + 40.263099999999994 * P_f[309] + 2013.1549999999997 * P_c[309] + 40.263099999999994 * P_f[310] + 2013.1549999999997 * P_c[310] + 40.263099999999994 * P_f[311] + 2013.1549999999997 * P_c[311] + 40.263099999999994 * P_f[312] + 2013.1549999999997 * P_c[312] + 40.263099999999994 * P_f[313] + 2013.1549999999997 * P_c[313] + 40.263099999999994 * P_f[314] + 2013.1549999999997 * P_c[314] + 40.263099999999994 * P_f[315] + 2013.1549999999997 * P_c[315] + 40.263099999999994 * P_f[316] + 2013.1549999999997 * P_c[316] + 40.263099999999994 * P_f[317] + 2013.1549999999997 * P_c[317] + 40.263099999999994 * P_f[318] + 2013.1549999999997 * P_c[318] + 40.263099999999994 * P_f[319] + 2013.1549999999997 * P_c[319] + 40.263099999999994 * P_f[320] + 2013.1549999999997 * P_c[320] + 40.263099999999994 * P_f[321] + 2013.1549999999997 * P_c[321] + 40.263099999999994 * P_f[322] + 2013.1549999999997 * P_c[322] + 40.263099999999994 * P_f[323] + 2013.1549999999997 * P_c[323] + 40.263099999999994 * P_f[324] + 2013.1549999999997 * P_c[324] + 40.263099999999994 * P_f[325] + 2013.1549999999997 * P_c[325] + 40.263099999999994 * P_f[326] + 2013.1549999999997 * P_c[326] + 40.263099999999994 * P_f[327] + 2013.1549999999997 * P_c[327] + 40.263099999999994 * P_f[328] + 2013.1549999999997 * P_c[328] + 40.263099999999994 * P_f[329] + 2013.1549999999997 * P_c[329] + 40.263099999999994 * P_f[330] + 2013.1549999999997 * P_c[330] + 40.263099999999994 * P_f[331] + 2013.1549999999997 * P_c[331] + 40.263099999999994 * P_f[332] + 2013.1549999999997 * P_c[332] + 40.263099999999994 * P_f[333] + 2013.1549999999997 * P_c[333] + 40.263099999999994 * P_f[334] + 2013.1549999999997 * P_c[334] + 40.263099999999994 * P_f[335] + 2013.1549999999997 * P_c[335] + 40.263099999999994 * P_f[336] + 2013.1549999999997 * P_c[336] + 40.263099999999994 * P_f[337] + 2013.1549999999997 * P_c[337] + 40.263099999999994 * P_f[338] + 2013.1549999999997 * P_c[338] + 40.263099999999994 * P_f[339] + 2013.1549999999997 * P_c[339] + 40.263099999999994 * P_f[340] + 2013.1549999999997 * P_c[340] + 40.263099999999994 * P_f[341] + 2013.1549999999997 * P_c[341] + 40.263099999999994 * P_f[342] + 2013.1549999999997 * P_c[342] + 40.263099999999994 * P_f[343] + 2013.1549999999997 * P_c[343] + 40.263099999999994 * P_f[344] + 2013.1549999999997 * P_c[344] + 40.263099999999994 * P_f[345] + 2013.1549999999997 * P_c[345] + 40.263099999999994 * P_f[346] + 2013.1549999999997 * P_c[346] + 40.263099999999994 * P_f[347] + 2013.1549999999997 * P_c[347] + 40.263099999999994 * P_f[348] + 2013.1549999999997 * P_c[348] + 40.263099999999994 * P_f[349] + 2013.1549999999997 * P_c[349] + 40.263099999999994 * P_f[350] + 2013.1549999999997 * P_c[350] + 40.263099999999994 * P_f[351] + 2013.1549999999997 * P_c[351] + 40.263099999999994 * P_f[352] + 2013.1549999999997 * P_c[352] + 40.263099999999994 * P_f[353] + 2013.1549999999997 * P_c[353] + 40.263099999999994 * P_f[354] + 2013.1549999999997 * P_c[354] + 40.263099999999994 * P_f[355] + 2013.1549999999997 * P_c[355] + 40.263099999999994 * P_f[356] + 2013.1549999999997 * P_c[356] + 40.263099999999994 * P_f[357] + 2013.1549999999997 * P_c[357] + 40.263099999999994 * P_f[358] + 2013.1549999999997 * P_c[358] + 40.263099999999994 * P_f[359] + 2013.1549999999997 * P_c[359] + 41.613499999999995 * P_f[360] + 2080.6749999999997 * P_c[360] + 41.61349999999999 * P_f[361] + 2080.6749999999993 * P_c[361] + 41.613499999999995 * P_f[362] + 2080.6749999999997 * P_c[362] + 41.613499999999995 * P_f[363] + 2080.6749999999997 * P_c[363] + 41.613499999999995 * P_f[364] + 2080.6749999999997 * P_c[364] + 41.613499999999995 * P_f[365] + 2080.6749999999997 * P_c[365] + 41.613499999999995 * P_f[366] + 2080.6749999999997 * P_c[366] + 41.613499999999995 * P_f[367] + 2080.6749999999997 * P_c[367] + 41.613499999999995 * P_f[368] + 2080.6749999999997 * P_c[368] + 41.613499999999995 * P_f[369] + 2080.6749999999997 * P_c[369] + 41.613499999999995 * P_f[370] + 2080.6749999999997 * P_c[370] + 41.613499999999995 * P_f[371] + 2080.6749999999997 * P_c[371] + 41.613499999999995 * P_f[372] + 2080.6749999999997 * P_c[372] + 41.613499999999995 * P_f[373] + 2080.6749999999997 * P_c[373] + 41.613499999999995 * P_f[374] + 2080.6749999999997 * P_c[374] + 41.613499999999995 * P_f[375] + 2080.6749999999997 * P_c[375] + 41.613499999999995 * P_f[376] + 2080.6749999999997 * P_c[376] + 41.613499999999995 * P_f[377] + 2080.6749999999997 * P_c[377] + 41.613499999999995 * P_f[378] + 2080.6749999999997 * P_c[378] + 41.613499999999995 * P_f[379] + 2080.6749999999997 * P_c[379] + 41.613499999999995 * P_f[380] + 2080.6749999999997 * P_c[380] + 41.613499999999995 * P_f[381] + 2080.6749999999997 * P_c[381] + 41.613499999999995 * P_f[382] + 2080.6749999999997 * P_c[382] + 41.613499999999995 * P_f[383] + 2080.6749999999997 * P_c[383] + 41.61349999999999 * P_f[384] + 2080.6749999999993 * P_c[384] + 41.613499999999995 * P_f[385] + 2080.6749999999997 * P_c[385] + 41.61349999999999 * P_f[386] + 2080.6749999999993 * P_c[386] + 41.613499999999995 * P_f[387] + 2080.6749999999997 * P_c[387] + 41.613499999999995 * P_f[388] + 2080.6749999999997 * P_c[388] + 41.613499999999995 * P_f[389] + 2080.6749999999997 * P_c[389] + 41.613499999999995 * P_f[390] + 2080.6749999999997 * P_c[390] + 41.613499999999995 * P_f[391] + 2080.6749999999997 * P_c[391] + 41.613499999999995 * P_f[392] + 2080.6749999999997 * P_c[392] + 41.613499999999995 * P_f[393] + 2080.6749999999997 * P_c[393] + 41.613499999999995 * P_f[394] + 2080.6749999999997 * P_c[394] + 41.613499999999995 * P_f[395] + 2080.6749999999997 * P_c[395] + 41.613499999999995 * P_f[396] + 2080.6749999999997 * P_c[396] + 41.613499999999995 * P_f[397] + 2080.6749999999997 * P_c[397] + 41.613499999999995 * P_f[398] + 2080.6749999999997 * P_c[398] + 41.613499999999995 * P_f[399] + 2080.6749999999997 * P_c[399] + 41.613499999999995 * P_f[400] + 2080.6749999999997 * P_c[400] + 41.613499999999995 * P_f[401] + 2080.6749999999997 * P_c[401] + 41.613499999999995 * P_f[402] + 2080.6749999999997 * P_c[402] + 41.613499999999995 * P_f[403] + 2080.6749999999997 * P_c[403] + 41.613499999999995 * P_f[404] + 2080.6749999999997 * P_c[404] + 41.613499999999995 * P_f[405] + 2080.6749999999997 * P_c[405] + 41.613499999999995 * P_f[406] + 2080.6749999999997 * P_c[406] + 41.613499999999995 * P_f[407] + 2080.6749999999997 * P_c[407] + 41.613499999999995 * P_f[408] + 2080.6749999999997 * P_c[408] + 41.613499999999995 * P_f[409] + 2080.6749999999997 * P_c[409] + 41.613499999999995 * P_f[410] + 2080.6749999999997 * P_c[410] + 41.613499999999995 * P_f[411] + 2080.6749999999997 * P_c[411] + 41.613499999999995 * P_f[412] + 2080.6749999999997 * P_c[412] + 41.613499999999995 * P_f[413] + 2080.6749999999997 * P_c[413] + 41.613499999999995 * P_f[414] + 2080.6749999999997 * P_c[414] + 41.613499999999995 * P_f[415] + 2080.6749999999997 * P_c[415] + 41.613499999999995 * P_f[416] + 2080.6749999999997 * P_c[416] + 41.613499999999995 * P_f[417] + 2080.6749999999997 * P_c[417] + 41.613499999999995 * P_f[418] + 2080.6749999999997 * P_c[418] + 41.613499999999995 * P_f[419] + 2080.6749999999997 * P_c[419] + 42.4251 * P_f[420] + 2121.255 * P_c[420] + 42.4251 * P_f[421] + 2121.255 * P_c[421] + 42.4251 * P_f[422] + 2121.255 * P_c[422] + 42.4251 * P_f[423] + 2121.255 * P_c[423] + 42.4251 * P_f[424] + 2121.255 * P_c[424] + 42.4251 * P_f[425] + 2121.255 * P_c[425] + 42.4251 * P_f[426] + 2121.255 * P_c[426] + 42.4251 * P_f[427] + 2121.255 * P_c[427] + 42.4251 * P_f[428] + 2121.255 * P_c[428] + 42.4251 * P_f[429] + 2121.255 * P_c[429] + 42.4251 * P_f[430] + 2121.255 * P_c[430] + 42.4251 * P_f[431] + 2121.255 * P_c[431] + 42.4251 * P_f[432] + 2121.255 * P_c[432] + 42.4251 * P_f[433] + 2121.255 * P_c[433] + 42.4251 * P_f[434] + 2121.255 * P_c[434] + 42.42509999999999 * P_f[435] + 2121.2549999999997 * P_c[435] + 42.425100000000015 * P_f[436] + 2121.2550000000006 * P_c[436] + 42.4251 * P_f[437] + 2121.255 * P_c[437] + 42.4251 * P_f[438] + 2121.255 * P_c[438] + 42.4251 * P_f[439] + 2121.255 * P_c[439] + 42.4251 * P_f[440] + 2121.255 * P_c[440] + 42.4251 * P_f[441] + 2121.255 * P_c[441] + 42.4251 * P_f[442] + 2121.255 * P_c[442] + 42.4251 * P_f[443] + 2121.255 * P_c[443] + 42.4251 * P_f[444] + 2121.255 * P_c[444] + 42.4251 * P_f[445] + 2121.255 * P_c[445] + 42.4251 * P_f[446] + 2121.255 * P_c[446] + 42.4251 * P_f[447] + 2121.255 * P_c[447] + 42.42509999999999 * P_f[448] + 2121.2549999999997 * P_c[448] + 42.4251 * P_f[449] + 2121.255 * P_c[449] + 42.4251 * P_f[450] + 2121.255 * P_c[450] + 42.4251 * P_f[451] + 2121.255 * P_c[451] + 42.4251 * P_f[452] + 2121.255 * P_c[452] + 42.4251 * P_f[453] + 2121.255 * P_c[453] + 42.4251 * P_f[454] + 2121.255 * P_c[454] + 42.4251 * P_f[455] + 2121.255 * P_c[455] + 42.4251 * P_f[456] + 2121.255 * P_c[456] + 42.4251 * P_f[457] + 2121.255 * P_c[457] + 42.4251 * P_f[458] + 2121.255 * P_c[458] + 42.4251 * P_f[459] + 2121.255 * P_c[459] + 42.4251 * P_f[460] + 2121.255 * P_c[460] + 42.4251 * P_f[461] + 2121.255 * P_c[461] + 42.4251 * P_f[462] + 2121.255 * P_c[462] + 42.4251 * P_f[463] + 2121.255 * P_c[463] + 42.4251 * P_f[464] + 2121.255 * P_c[464] + 42.4251 * P_f[465] + 2121.255 * P_c[465] + 42.4251 * P_f[466] + 2121.255 * P_c[466] + 42.4251 * P_f[467] + 2121.255 * P_c[467] + 42.4251 * P_f[468] + 2121.255 * P_c[468] + 42.4251 * P_f[469] + 2121.255 * P_c[469] + 42.4251 * P_f[470] + 2121.255 * P_c[470] + 42.4251 * P_f[471] + 2121.255 * P_c[471] + 42.4251 * P_f[472] + 2121.255 * P_c[472] + 42.4251 * P_f[473] + 2121.255 * P_c[473] + 42.4251 * P_f[474] + 2121.255 * P_c[474] + 42.4251 * P_f[475] + 2121.255 * P_c[475] + 42.4251 * P_f[476] + 2121.255 * P_c[476] + 42.425100000000015 * P_f[477] + 2121.2550000000006 * P_c[477] + 42.4251 * P_f[478] + 2121.255 * P_c[478] + 42.4251 * P_f[479] + 2121.255 * P_c[479] + 44.997600000000006 * P_f[480] + 2249.88 * P_c[480] + 44.997600000000006 * P_f[481] + 2249.88 * P_c[481] + 44.997600000000006 * P_f[482] + 2249.88 * P_c[482] + 44.997600000000006 * P_f[483] + 2249.88 * P_c[483] + 44.997600000000006 * P_f[484] + 2249.88 * P_c[484] + 44.997600000000006 * P_f[485] + 2249.88 * P_c[485] + 44.997600000000006 * P_f[486] + 2249.88 * P_c[486] + 44.997600000000006 * P_f[487] + 2249.88 * P_c[487] + 44.997600000000006 * P_f[488] + 2249.88 * P_c[488] + 44.997600000000006 * P_f[489] + 2249.88 * P_c[489] + 44.997600000000006 * P_f[490] + 2249.88 * P_c[490] + 44.997600000000006 * P_f[491] + 2249.88 * P_c[491] + 44.997600000000006 * P_f[492] + 2249.88 * P_c[492] + 44.997600000000006 * P_f[493] + 2249.88 * P_c[493] + 44.997600000000006 * P_f[494] + 2249.88 * P_c[494] + 44.997600000000006 * P_f[495] + 2249.88 * P_c[495] + 44.997600000000006 * P_f[496] + 2249.88 * P_c[496] + 44.997600000000006 * P_f[497] + 2249.88 * P_c[497] + 44.997600000000006 * P_f[498] + 2249.88 * P_c[498] + 44.997600000000006 * P_f[499] + 2249.88 * P_c[499] + 44.997600000000006 * P_f[500] + 2249.88 * P_c[500] + 44.997600000000006 * P_f[501] + 2249.88 * P_c[501] + 44.997600000000006 * P_f[502] + 2249.88 * P_c[502] + 44.997600000000006 * P_f[503] + 2249.88 * P_c[503] + 44.997600000000006 * P_f[504] + 2249.88 * P_c[504] + 44.997600000000006 * P_f[505] + 2249.88 * P_c[505] + 44.997600000000006 * P_f[506] + 2249.88 * P_c[506] + 44.997600000000006 * P_f[507] + 2249.88 * P_c[507] + 44.997600000000006 * P_f[508] + 2249.88 * P_c[508] + 44.997600000000006 * P_f[509] + 2249.88 * P_c[509] + 44.997600000000006 * P_f[510] + 2249.88 * P_c[510] + 44.997600000000006 * P_f[511] + 2249.88 * P_c[511] + 44.997600000000006 * P_f[512] + 2249.88 * P_c[512] + 44.997600000000006 * P_f[513] + 2249.88 * P_c[513] + 44.997600000000006 * P_f[514] + 2249.88 * P_c[514] + 44.997600000000006 * P_f[515] + 2249.88 * P_c[515] + 44.997600000000006 * P_f[516] + 2249.88 * P_c[516] + 44.997600000000006 * P_f[517] + 2249.88 * P_c[517] + 44.997600000000006 * P_f[518] + 2249.88 * P_c[518] + 44.997600000000006 * P_f[519] + 2249.88 * P_c[519] + 44.997600000000006 * P_f[520] + 2249.88 * P_c[520] + 44.997600000000006 * P_f[521] + 2249.88 * P_c[521] + 44.997600000000006 * P_f[522] + 2249.88 * P_c[522] + 44.997600000000006 * P_f[523] + 2249.88 * P_c[523] + 44.997600000000006 * P_f[524] + 2249.88 * P_c[524] + 44.997600000000006 * P_f[525] + 2249.88 * P_c[525] + 44.997600000000006 * P_f[526] + 2249.88 * P_c[526] + 44.997600000000006 * P_f[527] + 2249.88 * P_c[527] + 44.997600000000006 * P_f[528] + 2249.88 * P_c[528] + 44.997600000000006 * P_f[529] + 2249.88 * P_c[529] + 44.997600000000006 * P_f[530] + 2249.88 * P_c[530] + 44.997600000000006 * P_f[531] + 2249.88 * P_c[531] + 44.997600000000006 * P_f[532] + 2249.88 * P_c[532] + 44.997600000000006 * P_f[533] + 2249.88 * P_c[533] + 44.997600000000006 * P_f[534] + 2249.88 * P_c[534] + 44.997600000000006 * P_f[535] + 2249.88 * P_c[535] + 44.997600000000006 * P_f[536] + 2249.88 * P_c[536] + 44.997600000000006 * P_f[537] + 2249.88 * P_c[537] + 44.997600000000006 * P_f[538] + 2249.88 * P_c[538] + 44.997600000000006 * P_f[539] + 2249.88 * P_c[539] + 45.9363 * P_f[540] + 2296.815 * P_c[540] + 45.9363 * P_f[541] + 2296.815 * P_c[541] + 45.93629999999999 * P_f[542] + 2296.8149999999996 * P_c[542] + 45.9363 * P_f[543] + 2296.815 * P_c[543] + 45.9363 * P_f[544] + 2296.815 * P_c[544] + 45.9363 * P_f[545] + 2296.815 * P_c[545] + 45.93629999999999 * P_f[546] + 2296.8149999999996 * P_c[546] + 45.9363 * P_f[547] + 2296.815 * P_c[547] + 45.9363 * P_f[548] + 2296.815 * P_c[548] + 45.9363 * P_f[549] + 2296.815 * P_c[549] + 45.9363 * P_f[550] + 2296.815 * P_c[550] + 45.9363 * P_f[551] + 2296.815 * P_c[551] + 45.9363 * P_f[552] + 2296.815 * P_c[552] + 45.9363 * P_f[553] + 2296.815 * P_c[553] + 45.9363 * P_f[554] + 2296.815 * P_c[554] + 45.9363 * P_f[555] + 2296.815 * P_c[555] + 45.9363 * P_f[556] + 2296.815 * P_c[556] + 45.9363 * P_f[557] + 2296.815 * P_c[557] + 45.9363 * P_f[558] + 2296.815 * P_c[558] + 45.9363 * P_f[559] + 2296.815 * P_c[559] + 45.9363 * P_f[560] + 2296.815 * P_c[560] + 45.9363 * P_f[561] + 2296.815 * P_c[561] + 45.9363 * P_f[562] + 2296.815 * P_c[562] + 45.9363 * P_f[563] + 2296.815 * P_c[563] + 45.9363 * P_f[564] + 2296.815 * P_c[564] + 45.9363 * P_f[565] + 2296.815 * P_c[565] + 45.9363 * P_f[566] + 2296.815 * P_c[566] + 45.9363 * P_f[567] + 2296.815 * P_c[567] + 45.93629999999999 * P_f[568] + 2296.8149999999996 * P_c[568] + 45.93630000000001 * P_f[569] + 2296.8150000000005 * P_c[569] + 45.9363 * P_f[570] + 2296.815 * P_c[570] + 45.9363 * P_f[571] + 2296.815 * P_c[571] + 45.9363 * P_f[572] + 2296.815 * P_c[572] + 45.9363 * P_f[573] + 2296.815 * P_c[573] + 45.9363 * P_f[574] + 2296.815 * P_c[574] + 45.9363 * P_f[575] + 2296.815 * P_c[575] + 45.9363 * P_f[576] + 2296.815 * P_c[576] + 45.9363 * P_f[577] + 2296.815 * P_c[577] + 45.9363 * P_f[578] + 2296.815 * P_c[578] + 45.9363 * P_f[579] + 2296.815 * P_c[579] + 45.9363 * P_f[580] + 2296.815 * P_c[580] + 45.9363 * P_f[581] + 2296.815 * P_c[581] + 45.9363 * P_f[582] + 2296.815 * P_c[582] + 45.9363 * P_f[583] + 2296.815 * P_c[583] + 45.9363 * P_f[584] + 2296.815 * P_c[584] + 45.9363 * P_f[585] + 2296.815 * P_c[585] + 45.9363 * P_f[586] + 2296.815 * P_c[586] + 45.9363 * P_f[587] + 2296.815 * P_c[587] + 45.9363 * P_f[588] + 2296.815 * P_c[588] + 45.9363 * P_f[589] + 2296.815 * P_c[589] + 45.9363 * P_f[590] + 2296.815 * P_c[590] + 45.9363 * P_f[591] + 2296.815 * P_c[591] + 45.9363 * P_f[592] + 2296.815 * P_c[592] + 45.9363 * P_f[593] + 2296.815 * P_c[593] + 45.9363 * P_f[594] + 2296.815 * P_c[594] + 45.9363 * P_f[595] + 2296.815 * P_c[595] + 45.9363 * P_f[596] + 2296.815 * P_c[596] + 45.9363 * P_f[597] + 2296.815 * P_c[597] + 45.9363 * P_f[598] + 2296.815 * P_c[598] + 45.9363 * P_f[599] + 2296.815 * P_c[599] + 47.739399999999996 * P_f[600] + 2386.97 * P_c[600] + 47.739399999999996 * P_f[601] + 2386.97 * P_c[601] + 47.739399999999996 * P_f[602] + 2386.97 * P_c[602] + 47.739399999999996 * P_f[603] + 2386.97 * P_c[603] + 47.739399999999996 * P_f[604] + 2386.97 * P_c[604] + 47.739399999999996 * P_f[605] + 2386.97 * P_c[605] + 47.739399999999996 * P_f[606] + 2386.97 * P_c[606] + 47.739399999999996 * P_f[607] + 2386.97 * P_c[607] + 47.739399999999996 * P_f[608] + 2386.97 * P_c[608] + 47.739399999999996 * P_f[609] + 2386.97 * P_c[609] + 47.739399999999996 * P_f[610] + 2386.97 * P_c[610] + 47.739399999999996 * P_f[611] + 2386.97 * P_c[611] + 47.739399999999996 * P_f[612] + 2386.97 * P_c[612] + 47.739399999999996 * P_f[613] + 2386.97 * P_c[613] + 47.739399999999996 * P_f[614] + 2386.97 * P_c[614] + 47.739399999999996 * P_f[615] + 2386.97 * P_c[615] + 47.739399999999996 * P_f[616] + 2386.97 * P_c[616] + 47.739399999999996 * P_f[617] + 2386.97 * P_c[617] + 47.739399999999996 * P_f[618] + 2386.97 * P_c[618] + 47.739399999999996 * P_f[619] + 2386.97 * P_c[619] + 47.739399999999996 * P_f[620] + 2386.97 * P_c[620] + 47.739399999999996 * P_f[621] + 2386.97 * P_c[621] + 47.739399999999996 * P_f[622] + 2386.97 * P_c[622] + 47.739399999999996 * P_f[623] + 2386.97 * P_c[623] + 47.739399999999996 * P_f[624] + 2386.97 * P_c[624] + 47.739399999999996 * P_f[625] + 2386.97 * P_c[625] + 47.739399999999996 * P_f[626] + 2386.97 * P_c[626] + 47.739399999999996 * P_f[627] + 2386.97 * P_c[627] + 47.739399999999996 * P_f[628] + 2386.97 * P_c[628] + 47.739399999999996 * P_f[629] + 2386.97 * P_c[629] + 47.739399999999996 * P_f[630] + 2386.97 * P_c[630] + 47.739399999999996 * P_f[631] + 2386.97 * P_c[631] + 47.739399999999996 * P_f[632] + 2386.97 * P_c[632] + 47.739399999999996 * P_f[633] + 2386.97 * P_c[633] + 47.739399999999996 * P_f[634] + 2386.97 * P_c[634] + 47.739399999999996 * P_f[635] + 2386.97 * P_c[635] + 47.739399999999996 * P_f[636] + 2386.97 * P_c[636] + 47.739399999999996 * P_f[637] + 2386.97 * P_c[637] + 47.739399999999996 * P_f[638] + 2386.97 * P_c[638] + 47.739399999999996 * P_f[639] + 2386.97 * P_c[639] + 47.739399999999996 * P_f[640] + 2386.97 * P_c[640] + 47.739399999999996 * P_f[641] + 2386.97 * P_c[641] + 47.739399999999996 * P_f[642] + 2386.97 * P_c[642] + 47.739399999999996 * P_f[643] + 2386.97 * P_c[643] + 47.739399999999996 * P_f[644] + 2386.97 * P_c[644] + 47.739399999999996 * P_f[645] + 2386.97 * P_c[645] + 47.739399999999996 * P_f[646] + 2386.97 * P_c[646] + 47.739399999999996 * P_f[647] + 2386.97 * P_c[647] + 47.739399999999996 * P_f[648] + 2386.97 * P_c[648] + 47.739399999999996 * P_f[649] + 2386.97 * P_c[649] + 47.739399999999996 * P_f[650] + 2386.97 * P_c[650] + 47.739399999999996 * P_f[651] + 2386.97 * P_c[651] + 47.739399999999996 * P_f[652] + 2386.97 * P_c[652] + 47.739399999999996 * P_f[653] + 2386.97 * P_c[653] + 47.739399999999996 * P_f[654] + 2386.97 * P_c[654] + 47.739399999999996 * P_f[655] + 2386.97 * P_c[655] + 47.739399999999996 * P_f[656] + 2386.97 * P_c[656] + 47.739399999999996 * P_f[657] + 2386.97 * P_c[657] + 47.739399999999996 * P_f[658] + 2386.97 * P_c[658] + 47.739399999999996 * P_f[659] + 2386.97 * P_c[659] + 48.0014 * P_f[660] + 2400.0699999999997 * P_c[660] + 48.0014 * P_f[661] + 2400.0699999999997 * P_c[661] + 48.0014 * P_f[662] + 2400.0699999999997 * P_c[662] + 48.0014 * P_f[663] + 2400.0699999999997 * P_c[663] + 48.0014 * P_f[664] + 2400.0699999999997 * P_c[664] + 48.0014 * P_f[665] + 2400.0699999999997 * P_c[665] + 48.0014 * P_f[666] + 2400.0699999999997 * P_c[666] + 48.0014 * P_f[667] + 2400.0699999999997 * P_c[667] + 48.001400000000004 * P_f[668] + 2400.07 * P_c[668] + 48.0014 * P_f[669] + 2400.0699999999997 * P_c[669] + 48.0014 * P_f[670] + 2400.0699999999997 * P_c[670] + 48.0014 * P_f[671] + 2400.0699999999997 * P_c[671] + 48.0014 * P_f[672] + 2400.0699999999997 * P_c[672] + 48.0014 * P_f[673] + 2400.0699999999997 * P_c[673] + 48.0014 * P_f[674] + 2400.0699999999997 * P_c[674] + 48.0014 * P_f[675] + 2400.0699999999997 * P_c[675] + 48.0014 * P_f[676] + 2400.0699999999997 * P_c[676] + 48.0014 * P_f[677] + 2400.0699999999997 * P_c[677] + 48.0014 * P_f[678] + 2400.0699999999997 * P_c[678] + 48.001400000000004 * P_f[679] + 2400.07 * P_c[679] + 48.0014 * P_f[680] + 2400.0699999999997 * P_c[680] + 48.0014 * P_f[681] + 2400.0699999999997 * P_c[681] + 48.0014 * P_f[682] + 2400.0699999999997 * P_c[682] + 48.0014 * P_f[683] + 2400.0699999999997 * P_c[683] + 48.001400000000004 * P_f[684] + 2400.07 * P_c[684] + 48.0014 * P_f[685] + 2400.0699999999997 * P_c[685] + 48.0014 * P_f[686] + 2400.0699999999997 * P_c[686] + 48.0014 * P_f[687] + 2400.0699999999997 * P_c[687] + 48.00139999999999 * P_f[688] + 2400.0699999999997 * P_c[688] + 48.0014 * P_f[689] + 2400.0699999999997 * P_c[689] + 48.0014 * P_f[690] + 2400.0699999999997 * P_c[690] + 48.0014 * P_f[691] + 2400.0699999999997 * P_c[691] + 48.0014 * P_f[692] + 2400.0699999999997 * P_c[692] + 48.0014 * P_f[693] + 2400.0699999999997 * P_c[693] + 48.0014 * P_f[694] + 2400.0699999999997 * P_c[694] + 48.0014 * P_f[695] + 2400.0699999999997 * P_c[695] + 48.0014 * P_f[696] + 2400.0699999999997 * P_c[696] + 48.0014 * P_f[697] + 2400.0699999999997 * P_c[697] + 48.0014 * P_f[698] + 2400.0699999999997 * P_c[698] + 48.0014 * P_f[699] + 2400.0699999999997 * P_c[699] + 48.0014 * P_f[700] + 2400.0699999999997 * P_c[700] + 48.0014 * P_f[701] + 2400.0699999999997 * P_c[701] + 48.0014 * P_f[702] + 2400.0699999999997 * P_c[702] + 48.0014 * P_f[703] + 2400.0699999999997 * P_c[703] + 48.0014 * P_f[704] + 2400.0699999999997 * P_c[704] + 48.0014 * P_f[705] + 2400.0699999999997 * P_c[705] + 48.0014 * P_f[706] + 2400.0699999999997 * P_c[706] + 48.0014 * P_f[707] + 2400.0699999999997 * P_c[707] + 48.0014 * P_f[708] + 2400.0699999999997 * P_c[708] + 48.0014 * P_f[709] + 2400.0699999999997 * P_c[709] + 48.0014 * P_f[710] + 2400.0699999999997 * P_c[710] + 48.0014 * P_f[711] + 2400.0699999999997 * P_c[711] + 48.0014 * P_f[712] + 2400.0699999999997 * P_c[712] + 48.0014 * P_f[713] + 2400.0699999999997 * P_c[713] + 48.0014 * P_f[714] + 2400.0699999999997 * P_c[714] + 48.0014 * P_f[715] + 2400.0699999999997 * P_c[715] + 48.0014 * P_f[716] + 2400.0699999999997 * P_c[716] + 48.0014 * P_f[717] + 2400.0699999999997 * P_c[717] + 48.0014 * P_f[718] + 2400.0699999999997 * P_c[718] + 48.0014 * P_f[719] + 2400.0699999999997 * P_c[719] + 47.8849 * P_f[720] + 2394.2450000000003 * P_c[720] + 47.8849 * P_f[721] + 2394.2450000000003 * P_c[721] + 47.8849 * P_f[722] + 2394.2450000000003 * P_c[722] + 47.8849 * P_f[723] + 2394.2450000000003 * P_c[723] + 47.8849 * P_f[724] + 2394.2450000000003 * P_c[724] + 47.8849 * P_f[725] + 2394.2450000000003 * P_c[725] + 47.884899999999995 * P_f[726] + 2394.245 * P_c[726] + 47.8849 * P_f[727] + 2394.2450000000003 * P_c[727] + 47.8849 * P_f[728] + 2394.2450000000003 * P_c[728] + 47.8849 * P_f[729] + 2394.2450000000003 * P_c[729] + 47.8849 * P_f[730] + 2394.2450000000003 * P_c[730] + 47.8849 * P_f[731] + 2394.2450000000003 * P_c[731] + 47.8849 * P_f[732] + 2394.2450000000003 * P_c[732] + 47.8849 * P_f[733] + 2394.2450000000003 * P_c[733] + 47.8849 * P_f[734] + 2394.2450000000003 * P_c[734] + 47.8849 * P_f[735] + 2394.2450000000003 * P_c[735] + 47.884900000000016 * P_f[736] + 2394.245000000001 * P_c[736] + 47.8849 * P_f[737] + 2394.2450000000003 * P_c[737] + 47.8849 * P_f[738] + 2394.2450000000003 * P_c[738] + 47.8849 * P_f[739] + 2394.2450000000003 * P_c[739] + 47.884899999999995 * P_f[740] + 2394.245 * P_c[740] + 47.8849 * P_f[741] + 2394.2450000000003 * P_c[741] + 47.8849 * P_f[742] + 2394.2450000000003 * P_c[742] + 47.8849 * P_f[743] + 2394.2450000000003 * P_c[743] + 47.8849 * P_f[744] + 2394.2450000000003 * P_c[744] + 47.8849 * P_f[745] + 2394.2450000000003 * P_c[745] + 47.8849 * P_f[746] + 2394.2450000000003 * P_c[746] + 47.8849 * P_f[747] + 2394.2450000000003 * P_c[747] + 47.884899999999995 * P_f[748] + 2394.245 * P_c[748] + 47.884900000000016 * P_f[749] + 2394.245000000001 * P_c[749] + 47.8849 * P_f[750] + 2394.2450000000003 * P_c[750] + 47.8849 * P_f[751] + 2394.2450000000003 * P_c[751] + 47.8849 * P_f[752] + 2394.2450000000003 * P_c[752] + 47.8849 * P_f[753] + 2394.2450000000003 * P_c[753] + 47.8849 * P_f[754] + 2394.2450000000003 * P_c[754] + 47.8849 * P_f[755] + 2394.2450000000003 * P_c[755] + 47.8849 * P_f[756] + 2394.2450000000003 * P_c[756] + 47.8849 * P_f[757] + 2394.2450000000003 * P_c[757] + 47.8849 * P_f[758] + 2394.2450000000003 * P_c[758] + 47.8849 * P_f[759] + 2394.2450000000003 * P_c[759] + 47.8849 * P_f[760] + 2394.2450000000003 * P_c[760] + 47.8849 * P_f[761] + 2394.2450000000003 * P_c[761] + 47.8849 * P_f[762] + 2394.2450000000003 * P_c[762] + 47.8849 * P_f[763] + 2394.2450000000003 * P_c[763] + 47.8849 * P_f[764] + 2394.2450000000003 * P_c[764] + 47.8849 * P_f[765] + 2394.2450000000003 * P_c[765] + 47.8849 * P_f[766] + 2394.2450000000003 * P_c[766] + 47.8849 * P_f[767] + 2394.2450000000003 * P_c[767] + 47.8849 * P_f[768] + 2394.2450000000003 * P_c[768] + 47.8849 * P_f[769] + 2394.2450000000003 * P_c[769] + 47.8849 * P_f[770] + 2394.2450000000003 * P_c[770] + 47.8849 * P_f[771] + 2394.2450000000003 * P_c[771] + 47.8849 * P_f[772] + 2394.2450000000003 * P_c[772] + 47.8849 * P_f[773] + 2394.2450000000003 * P_c[773] + 47.8849 * P_f[774] + 2394.2450000000003 * P_c[774] + 47.884899999999995 * P_f[775] + 2394.245 * P_c[775] + 47.8849 * P_f[776] + 2394.2450000000003 * P_c[776] + 47.8849 * P_f[777] + 2394.2450000000003 * P_c[777] + 47.8849 * P_f[778] + 2394.2450000000003 * P_c[778] + 47.8849 * P_f[779] + 2394.2450000000003 * P_c[779] + 47.575700000000005 * P_f[780] + 2378.7850000000003 * P_c[780] + 47.575700000000005 * P_f[781] + 2378.7850000000003 * P_c[781] + 47.575700000000005 * P_f[782] + 2378.7850000000003 * P_c[782] + 47.575700000000005 * P_f[783] + 2378.7850000000003 * P_c[783] + 47.575700000000005 * P_f[784] + 2378.7850000000003 * P_c[784] + 47.575700000000005 * P_f[785] + 2378.7850000000003 * P_c[785] + 47.575700000000005 * P_f[786] + 2378.7850000000003 * P_c[786] + 47.575700000000005 * P_f[787] + 2378.7850000000003 * P_c[787] + 47.575700000000005 * P_f[788] + 2378.7850000000003 * P_c[788] + 47.575700000000005 * P_f[789] + 2378.7850000000003 * P_c[789] + 47.575700000000005 * P_f[790] + 2378.7850000000003 * P_c[790] + 47.575700000000005 * P_f[791] + 2378.7850000000003 * P_c[791] + 47.575700000000005 * P_f[792] + 2378.7850000000003 * P_c[792] + 47.575700000000005 * P_f[793] + 2378.7850000000003 * P_c[793] + 47.575700000000005 * P_f[794] + 2378.7850000000003 * P_c[794] + 47.5757 * P_f[795] + 2378.785 * P_c[795] + 47.57570000000001 * P_f[796] + 2378.7850000000008 * P_c[796] + 47.575700000000005 * P_f[797] + 2378.7850000000003 * P_c[797] + 47.575700000000005 * P_f[798] + 2378.7850000000003 * P_c[798] + 47.57570000000001 * P_f[799] + 2378.7850000000008 * P_c[799] + 47.575700000000005 * P_f[800] + 2378.7850000000003 * P_c[800] + 47.575700000000005 * P_f[801] + 2378.7850000000003 * P_c[801] + 47.575700000000005 * P_f[802] + 2378.7850000000003 * P_c[802] + 47.575700000000005 * P_f[803] + 2378.7850000000003 * P_c[803] + 47.575700000000005 * P_f[804] + 2378.7850000000003 * P_c[804] + 47.575700000000005 * P_f[805] + 2378.7850000000003 * P_c[805] + 47.575700000000005 * P_f[806] + 2378.7850000000003 * P_c[806] + 47.575700000000005 * P_f[807] + 2378.7850000000003 * P_c[807] + 47.575700000000005 * P_f[808] + 2378.7850000000003 * P_c[808] + 47.575700000000005 * P_f[809] + 2378.7850000000003 * P_c[809] + 47.575700000000005 * P_f[810] + 2378.7850000000003 * P_c[810] + 47.575700000000005 * P_f[811] + 2378.7850000000003 * P_c[811] + 47.575700000000005 * P_f[812] + 2378.7850000000003 * P_c[812] + 47.575700000000005 * P_f[813] + 2378.7850000000003 * P_c[813] + 47.575700000000005 * P_f[814] + 2378.7850000000003 * P_c[814] + 47.575700000000005 * P_f[815] + 2378.7850000000003 * P_c[815] + 47.575700000000005 * P_f[816] + 2378.7850000000003 * P_c[816] + 47.575700000000005 * P_f[817] + 2378.7850000000003 * P_c[817] + 47.575700000000005 * P_f[818] + 2378.7850000000003 * P_c[818] + 47.575700000000005 * P_f[819] + 2378.7850000000003 * P_c[819] + 47.575700000000005 * P_f[820] + 2378.7850000000003 * P_c[820] + 47.575700000000005 * P_f[821] + 2378.7850000000003 * P_c[821] + 47.575700000000005 * P_f[822] + 2378.7850000000003 * P_c[822] + 47.575700000000005 * P_f[823] + 2378.7850000000003 * P_c[823] + 47.575700000000005 * P_f[824] + 2378.7850000000003 * P_c[824] + 47.575700000000005 * P_f[825] + 2378.7850000000003 * P_c[825] + 47.575700000000005 * P_f[826] + 2378.7850000000003 * P_c[826] + 47.575700000000005 * P_f[827] + 2378.7850000000003 * P_c[827] + 47.575700000000005 * P_f[828] + 2378.7850000000003 * P_c[828] + 47.575700000000005 * P_f[829] + 2378.7850000000003 * P_c[829] + 47.575700000000005 * P_f[830] + 2378.7850000000003 * P_c[830] + 47.57570000000001 * P_f[831] + 2378.7850000000008 * P_c[831] + 47.575700000000005 * P_f[832] + 2378.7850000000003 * P_c[832] + 47.575700000000005 * P_f[833] + 2378.7850000000003 * P_c[833] + 47.575700000000005 * P_f[834] + 2378.7850000000003 * P_c[834] + 47.575700000000005 * P_f[835] + 2378.7850000000003 * P_c[835] + 47.575700000000005 * P_f[836] + 2378.7850000000003 * P_c[836] + 47.575700000000005 * P_f[837] + 2378.7850000000003 * P_c[837] + 47.575700000000005 * P_f[838] + 2378.7850000000003 * P_c[838] + 47.575700000000005 * P_f[839] + 2378.7850000000003 * P_c[839] + 47.7814 * P_f[840] + 2389.0699999999997 * P_c[840] + 47.7814 * P_f[841] + 2389.0699999999997 * P_c[841] + 47.7814 * P_f[842] + 2389.0699999999997 * P_c[842] + 47.7814 * P_f[843] + 2389.0699999999997 * P_c[843] + 47.7814 * P_f[844] + 2389.0699999999997 * P_c[844] + 47.7814 * P_f[845] + 2389.0699999999997 * P_c[845] + 47.7814 * P_f[846] + 2389.0699999999997 * P_c[846] + 47.7814 * P_f[847] + 2389.0699999999997 * P_c[847] + 47.7814 * P_f[848] + 2389.0699999999997 * P_c[848] + 47.7814 * P_f[849] + 2389.0699999999997 * P_c[849] + 47.7814 * P_f[850] + 2389.0699999999997 * P_c[850] + 47.7814 * P_f[851] + 2389.0699999999997 * P_c[851] + 47.7814 * P_f[852] + 2389.0699999999997 * P_c[852] + 47.7814 * P_f[853] + 2389.0699999999997 * P_c[853] + 47.7814 * P_f[854] + 2389.0699999999997 * P_c[854] + 47.78139999999999 * P_f[855] + 2389.0699999999993 * P_c[855] + 47.781400000000005 * P_f[856] + 2389.07 * P_c[856] + 47.7814 * P_f[857] + 2389.0699999999997 * P_c[857] + 47.7814 * P_f[858] + 2389.0699999999997 * P_c[858] + 47.7814 * P_f[859] + 2389.0699999999997 * P_c[859] + 47.7814 * P_f[860] + 2389.0699999999997 * P_c[860] + 47.7814 * P_f[861] + 2389.0699999999997 * P_c[861] + 47.7814 * P_f[862] + 2389.0699999999997 * P_c[862] + 47.78139999999999 * P_f[863] + 2389.0699999999993 * P_c[863] + 47.781400000000005 * P_f[864] + 2389.07 * P_c[864] + 47.7814 * P_f[865] + 2389.0699999999997 * P_c[865] + 47.7814 * P_f[866] + 2389.0699999999997 * P_c[866] + 47.7814 * P_f[867] + 2389.0699999999997 * P_c[867] + 47.78139999999999 * P_f[868] + 2389.0699999999993 * P_c[868] + 47.7814 * P_f[869] + 2389.0699999999997 * P_c[869] + 47.7814 * P_f[870] + 2389.0699999999997 * P_c[870] + 47.7814 * P_f[871] + 2389.0699999999997 * P_c[871] + 47.7814 * P_f[872] + 2389.0699999999997 * P_c[872] + 47.7814 * P_f[873] + 2389.0699999999997 * P_c[873] + 47.7814 * P_f[874] + 2389.0699999999997 * P_c[874] + 47.7814 * P_f[875] + 2389.0699999999997 * P_c[875] + 47.7814 * P_f[876] + 2389.0699999999997 * P_c[876] + 47.7814 * P_f[877] + 2389.0699999999997 * P_c[877] + 47.7814 * P_f[878] + 2389.0699999999997 * P_c[878] + 47.7814 * P_f[879] + 2389.0699999999997 * P_c[879] + 47.7814 * P_f[880] + 2389.0699999999997 * P_c[880] + 47.7814 * P_f[881] + 2389.0699999999997 * P_c[881] + 47.7814 * P_f[882] + 2389.0699999999997 * P_c[882] + 47.7814 * P_f[883] + 2389.0699999999997 * P_c[883] + 47.7814 * P_f[884] + 2389.0699999999997 * P_c[884] + 47.7814 * P_f[885] + 2389.0699999999997 * P_c[885] + 47.7814 * P_f[886] + 2389.0699999999997 * P_c[886] + 47.7814 * P_f[887] + 2389.0699999999997 * P_c[887] + 47.7814 * P_f[888] + 2389.0699999999997 * P_c[888] + 47.7814 * P_f[889] + 2389.0699999999997 * P_c[889] + 47.7814 * P_f[890] + 2389.0699999999997 * P_c[890] + 47.7814 * P_f[891] + 2389.0699999999997 * P_c[891] + 47.7814 * P_f[892] + 2389.0699999999997 * P_c[892] + 47.781400000000005 * P_f[893] + 2389.07 * P_c[893] + 47.7814 * P_f[894] + 2389.0699999999997 * P_c[894] + 47.7814 * P_f[895] + 2389.0699999999997 * P_c[895] + 47.78139999999999 * P_f[896] + 2389.0699999999993 * P_c[896] + 47.7814 * P_f[897] + 2389.0699999999997 * P_c[897] + 47.7814 * P_f[898] + 2389.0699999999997 * P_c[898] + 47.7814 * P_f[899] + 2389.0699999999997 * P_c[899] + 47.978300000000004 * P_f[900] + 2398.915 * P_c[900] + 47.978300000000004 * P_f[901] + 2398.915 * P_c[901] + 47.978300000000004 * P_f[902] + 2398.915 * P_c[902] + 47.978300000000004 * P_f[903] + 2398.915 * P_c[903] + 47.978300000000004 * P_f[904] + 2398.915 * P_c[904] + 47.978300000000004 * P_f[905] + 2398.915 * P_c[905] + 47.97829999999999 * P_f[906] + 2398.9149999999995 * P_c[906] + 47.978300000000004 * P_f[907] + 2398.915 * P_c[907] + 47.978300000000004 * P_f[908] + 2398.915 * P_c[908] + 47.978300000000004 * P_f[909] + 2398.915 * P_c[909] + 47.978300000000004 * P_f[910] + 2398.915 * P_c[910] + 47.97830000000001 * P_f[911] + 2398.9150000000004 * P_c[911] + 47.978300000000004 * P_f[912] + 2398.915 * P_c[912] + 47.978300000000004 * P_f[913] + 2398.915 * P_c[913] + 47.978300000000004 * P_f[914] + 2398.915 * P_c[914] + 47.97829999999999 * P_f[915] + 2398.9149999999995 * P_c[915] + 47.97830000000001 * P_f[916] + 2398.9150000000004 * P_c[916] + 47.978300000000004 * P_f[917] + 2398.915 * P_c[917] + 47.978300000000004 * P_f[918] + 2398.915 * P_c[918] + 47.978300000000004 * P_f[919] + 2398.915 * P_c[919] + 47.97829999999999 * P_f[920] + 2398.9149999999995 * P_c[920] + 47.978300000000004 * P_f[921] + 2398.915 * P_c[921] + 47.978300000000004 * P_f[922] + 2398.915 * P_c[922] + 47.978300000000004 * P_f[923] + 2398.915 * P_c[923] + 47.978300000000004 * P_f[924] + 2398.915 * P_c[924] + 47.978300000000004 * P_f[925] + 2398.915 * P_c[925] + 47.978300000000004 * P_f[926] + 2398.915 * P_c[926] + 47.978300000000004 * P_f[927] + 2398.915 * P_c[927] + 47.978300000000004 * P_f[928] + 2398.915 * P_c[928] + 47.978300000000004 * P_f[929] + 2398.915 * P_c[929] + 47.978300000000004 * P_f[930] + 2398.915 * P_c[930] + 47.978300000000004 * P_f[931] + 2398.915 * P_c[931] + 47.978300000000004 * P_f[932] + 2398.915 * P_c[932] + 47.978300000000004 * P_f[933] + 2398.915 * P_c[933] + 47.978300000000004 * P_f[934] + 2398.915 * P_c[934] + 47.978300000000004 * P_f[935] + 2398.915 * P_c[935] + 47.978300000000004 * P_f[936] + 2398.915 * P_c[936] + 47.978300000000004 * P_f[937] + 2398.915 * P_c[937] + 47.978300000000004 * P_f[938] + 2398.915 * P_c[938] + 47.978300000000004 * P_f[939] + 2398.915 * P_c[939] + 47.978300000000004 * P_f[940] + 2398.915 * P_c[940] + 47.978300000000004 * P_f[941] + 2398.915 * P_c[941] + 47.978300000000004 * P_f[942] + 2398.915 * P_c[942] + 47.978300000000004 * P_f[943] + 2398.915 * P_c[943] + 47.978300000000004 * P_f[944] + 2398.915 * P_c[944] + 47.978300000000004 * P_f[945] + 2398.915 * P_c[945] + 47.978300000000004 * P_f[946] + 2398.915 * P_c[946] + 47.978300000000004 * P_f[947] + 2398.915 * P_c[947] + 47.978300000000004 * P_f[948] + 2398.915 * P_c[948] + 47.978300000000004 * P_f[949] + 2398.915 * P_c[949] + 47.97830000000001 * P_f[950] + 2398.9150000000004 * P_c[950] + 47.978300000000004 * P_f[951] + 2398.915 * P_c[951] + 47.978300000000004 * P_f[952] + 2398.915 * P_c[952] + 47.978300000000004 * P_f[953] + 2398.915 * P_c[953] + 47.978300000000004 * P_f[954] + 2398.915 * P_c[954] + 47.978300000000004 * P_f[955] + 2398.915 * P_c[955] + 47.978300000000004 * P_f[956] + 2398.915 * P_c[956] + 47.978300000000004 * P_f[957] + 2398.915 * P_c[957] + 47.978300000000004 * P_f[958] + 2398.915 * P_c[958] + 47.978300000000004 * P_f[959] + 2398.915 * P_c[959] + 47.67400000000001 * P_f[960] + 2383.7000000000003 * P_c[960] + 47.67400000000001 * P_f[961] + 2383.7000000000003 * P_c[961] + 47.67400000000001 * P_f[962] + 2383.7000000000003 * P_c[962] + 47.67400000000001 * P_f[963] + 2383.7000000000003 * P_c[963] + 47.67400000000001 * P_f[964] + 2383.7000000000003 * P_c[964] + 47.67400000000001 * P_f[965] + 2383.7000000000003 * P_c[965] + 47.67400000000001 * P_f[966] + 2383.7000000000003 * P_c[966] + 47.67400000000001 * P_f[967] + 2383.7000000000003 * P_c[967] + 47.67400000000001 * P_f[968] + 2383.7000000000003 * P_c[968] + 47.67400000000001 * P_f[969] + 2383.7000000000003 * P_c[969] + 47.67400000000001 * P_f[970] + 2383.7000000000003 * P_c[970] + 47.67400000000001 * P_f[971] + 2383.7000000000003 * P_c[971] + 47.67400000000001 * P_f[972] + 2383.7000000000003 * P_c[972] + 47.67400000000001 * P_f[973] + 2383.7000000000003 * P_c[973] + 47.67400000000001 * P_f[974] + 2383.7000000000003 * P_c[974] + 47.67400000000001 * P_f[975] + 2383.7000000000003 * P_c[975] + 47.67400000000001 * P_f[976] + 2383.7000000000003 * P_c[976] + 47.67400000000001 * P_f[977] + 2383.7000000000003 * P_c[977] + 47.67400000000001 * P_f[978] + 2383.7000000000003 * P_c[978] + 47.67400000000001 * P_f[979] + 2383.7000000000003 * P_c[979] + 47.67400000000001 * P_f[980] + 2383.7000000000003 * P_c[980] + 47.67400000000001 * P_f[981] + 2383.7000000000003 * P_c[981] + 47.67400000000001 * P_f[982] + 2383.7000000000003 * P_c[982] + 47.67400000000001 * P_f[983] + 2383.7000000000003 * P_c[983] + 47.67400000000001 * P_f[984] + 2383.7000000000003 * P_c[984] + 47.67400000000001 * P_f[985] + 2383.7000000000003 * P_c[985] + 47.67400000000001 * P_f[986] + 2383.7000000000003 * P_c[986] + 47.67400000000001 * P_f[987] + 2383.7000000000003 * P_c[987] + 47.67400000000001 * P_f[988] + 2383.7000000000003 * P_c[988] + 47.67400000000001 * P_f[989] + 2383.7000000000003 * P_c[989] + 47.67400000000001 * P_f[990] + 2383.7000000000003 * P_c[990] + 47.67400000000001 * P_f[991] + 2383.7000000000003 * P_c[991] + 47.67400000000001 * P_f[992] + 2383.7000000000003 * P_c[992] + 47.67400000000001 * P_f[993] + 2383.7000000000003 * P_c[993] + 47.67400000000001 * P_f[994] + 2383.7000000000003 * P_c[994] + 47.67400000000001 * P_f[995] + 2383.7000000000003 * P_c[995] + 47.67400000000001 * P_f[996] + 2383.7000000000003 * P_c[996] + 47.67400000000001 * P_f[997] + 2383.7000000000003 * P_c[997] + 47.67400000000001 * P_f[998] + 2383.7000000000003 * P_c[998] + 47.67400000000001 * P_f[999] + 2383.7000000000003 * P_c[999] + 47.67400000000001 * P_f[1000] + 2383.7000000000003 * P_c[1000] + 47.67400000000001 * P_f[1001] + 2383.7000000000003 * P_c[1001] + 47.67400000000001 * P_f[1002] + 2383.7000000000003 * P_c[1002] + 47.67400000000001 * P_f[1003] + 2383.7000000000003 * P_c[1003] + 47.67400000000001 * P_f[1004] + 2383.7000000000003 * P_c[1004] + 47.67400000000001 * P_f[1005] + 2383.7000000000003 * P_c[1005] + 47.67400000000001 * P_f[1006] + 2383.7000000000003 * P_c[1006] + 47.67400000000001 * P_f[1007] + 2383.7000000000003 * P_c[1007] + 47.67400000000001 * P_f[1008] + 2383.7000000000003 * P_c[1008] + 47.67400000000001 * P_f[1009] + 2383.7000000000003 * P_c[1009] + 47.67400000000001 * P_f[1010] + 2383.7000000000003 * P_c[1010] + 47.67400000000001 * P_f[1011] + 2383.7000000000003 * P_c[1011] + 47.67400000000001 * P_f[1012] + 2383.7000000000003 * P_c[1012] + 47.67400000000001 * P_f[1013] + 2383.7000000000003 * P_c[1013] + 47.67400000000001 * P_f[1014] + 2383.7000000000003 * P_c[1014] + 47.67400000000001 * P_f[1015] + 2383.7000000000003 * P_c[1015] + 47.67400000000001 * P_f[1016] + 2383.7000000000003 * P_c[1016] + 47.67400000000001 * P_f[1017] + 2383.7000000000003 * P_c[1017] + 47.67400000000001 * P_f[1018] + 2383.7000000000003 * P_c[1018] + 47.67400000000001 * P_f[1019] + 2383.7000000000003 * P_c[1019] + 47.3724 * P_f[1020] + 2368.62 * P_c[1020] + 47.3724 * P_f[1021] + 2368.62 * P_c[1021] + 47.3724 * P_f[1022] + 2368.62 * P_c[1022] + 47.3724 * P_f[1023] + 2368.62 * P_c[1023] + 47.3724 * P_f[1024] + 2368.62 * P_c[1024] + 47.3724 * P_f[1025] + 2368.62 * P_c[1025] + 47.3724 * P_f[1026] + 2368.62 * P_c[1026] + 47.3724 * P_f[1027] + 2368.62 * P_c[1027] + 47.372400000000006 * P_f[1028] + 2368.6200000000003 * P_c[1028] + 47.372400000000006 * P_f[1029] + 2368.6200000000003 * P_c[1029] + 47.3724 * P_f[1030] + 2368.62 * P_c[1030] + 47.3724 * P_f[1031] + 2368.62 * P_c[1031] + 47.3724 * P_f[1032] + 2368.62 * P_c[1032] + 47.3724 * P_f[1033] + 2368.62 * P_c[1033] + 47.3724 * P_f[1034] + 2368.62 * P_c[1034] + 47.3724 * P_f[1035] + 2368.62 * P_c[1035] + 47.3724 * P_f[1036] + 2368.62 * P_c[1036] + 47.3724 * P_f[1037] + 2368.62 * P_c[1037] + 47.3724 * P_f[1038] + 2368.62 * P_c[1038] + 47.3724 * P_f[1039] + 2368.62 * P_c[1039] + 47.3724 * P_f[1040] + 2368.62 * P_c[1040] + 47.3724 * P_f[1041] + 2368.62 * P_c[1041] + 47.3724 * P_f[1042] + 2368.62 * P_c[1042] + 47.3724 * P_f[1043] + 2368.62 * P_c[1043] + 47.3724 * P_f[1044] + 2368.62 * P_c[1044] + 47.3724 * P_f[1045] + 2368.62 * P_c[1045] + 47.3724 * P_f[1046] + 2368.62 * P_c[1046] + 47.3724 * P_f[1047] + 2368.62 * P_c[1047] + 47.3724 * P_f[1048] + 2368.62 * P_c[1048] + 47.3724 * P_f[1049] + 2368.62 * P_c[1049] + 47.3724 * P_f[1050] + 2368.62 * P_c[1050] + 47.3724 * P_f[1051] + 2368.62 * P_c[1051] + 47.3724 * P_f[1052] + 2368.62 * P_c[1052] + 47.3724 * P_f[1053] + 2368.62 * P_c[1053] + 47.3724 * P_f[1054] + 2368.62 * P_c[1054] + 47.3724 * P_f[1055] + 2368.62 * P_c[1055] + 47.3724 * P_f[1056] + 2368.62 * P_c[1056] + 47.3724 * P_f[1057] + 2368.62 * P_c[1057] + 47.3724 * P_f[1058] + 2368.62 * P_c[1058] + 47.3724 * P_f[1059] + 2368.62 * P_c[1059] + 47.3724 * P_f[1060] + 2368.62 * P_c[1060] + 47.3724 * P_f[1061] + 2368.62 * P_c[1061] + 47.3724 * P_f[1062] + 2368.62 * P_c[1062] + 47.3724 * P_f[1063] + 2368.62 * P_c[1063] + 47.3724 * P_f[1064] + 2368.62 * P_c[1064] + 47.3724 * P_f[1065] + 2368.62 * P_c[1065] + 47.3724 * P_f[1066] + 2368.62 * P_c[1066] + 47.3724 * P_f[1067] + 2368.62 * P_c[1067] + 47.3724 * P_f[1068] + 2368.62 * P_c[1068] + 47.3724 * P_f[1069] + 2368.62 * P_c[1069] + 47.3724 * P_f[1070] + 2368.62 * P_c[1070] + 47.3724 * P_f[1071] + 2368.62 * P_c[1071] + 47.3724 * P_f[1072] + 2368.62 * P_c[1072] + 47.3724 * P_f[1073] + 2368.62 * P_c[1073] + 47.3724 * P_f[1074] + 2368.62 * P_c[1074] + 47.3724 * P_f[1075] + 2368.62 * P_c[1075] + 47.3724 * P_f[1076] + 2368.62 * P_c[1076] + 47.3724 * P_f[1077] + 2368.62 * P_c[1077] + 47.3724 * P_f[1078] + 2368.62 * P_c[1078] + 47.3724 * P_f[1079] + 2368.62 * P_c[1079] + 47.258399999999995 * P_f[1080] + 2362.92 * P_c[1080] + 47.258399999999995 * P_f[1081] + 2362.92 * P_c[1081] + 47.258399999999995 * P_f[1082] + 2362.92 * P_c[1082] + 47.258399999999995 * P_f[1083] + 2362.92 * P_c[1083] + 47.258399999999995 * P_f[1084] + 2362.92 * P_c[1084] + 47.258399999999995 * P_f[1085] + 2362.92 * P_c[1085] + 47.25840000000001 * P_f[1086] + 2362.9200000000005 * P_c[1086] + 47.258399999999995 * P_f[1087] + 2362.92 * P_c[1087] + 47.258399999999995 * P_f[1088] + 2362.92 * P_c[1088] + 47.258399999999995 * P_f[1089] + 2362.92 * P_c[1089] + 47.258399999999995 * P_f[1090] + 2362.92 * P_c[1090] + 47.258399999999995 * P_f[1091] + 2362.92 * P_c[1091] + 47.258399999999995 * P_f[1092] + 2362.92 * P_c[1092] + 47.258399999999995 * P_f[1093] + 2362.92 * P_c[1093] + 47.258399999999995 * P_f[1094] + 2362.92 * P_c[1094] + 47.258399999999995 * P_f[1095] + 2362.92 * P_c[1095] + 47.258399999999995 * P_f[1096] + 2362.92 * P_c[1096] + 47.258399999999995 * P_f[1097] + 2362.92 * P_c[1097] + 47.258399999999995 * P_f[1098] + 2362.92 * P_c[1098] + 47.258399999999995 * P_f[1099] + 2362.92 * P_c[1099] + 47.258399999999995 * P_f[1100] + 2362.92 * P_c[1100] + 47.258399999999995 * P_f[1101] + 2362.92 * P_c[1101] + 47.258399999999995 * P_f[1102] + 2362.92 * P_c[1102] + 47.258399999999995 * P_f[1103] + 2362.92 * P_c[1103] + 47.258399999999995 * P_f[1104] + 2362.92 * P_c[1104] + 47.258399999999995 * P_f[1105] + 2362.92 * P_c[1105] + 47.258399999999995 * P_f[1106] + 2362.92 * P_c[1106] + 47.258399999999995 * P_f[1107] + 2362.92 * P_c[1107] + 47.258399999999995 * P_f[1108] + 2362.92 * P_c[1108] + 47.258399999999995 * P_f[1109] + 2362.92 * P_c[1109] + 47.258399999999995 * P_f[1110] + 2362.92 * P_c[1110] + 47.258399999999995 * P_f[1111] + 2362.92 * P_c[1111] + 47.258399999999995 * P_f[1112] + 2362.92 * P_c[1112] + 47.258399999999995 * P_f[1113] + 2362.92 * P_c[1113] + 47.258399999999995 * P_f[1114] + 2362.92 * P_c[1114] + 47.258399999999995 * P_f[1115] + 2362.92 * P_c[1115] + 47.258399999999995 * P_f[1116] + 2362.92 * P_c[1116] + 47.258399999999995 * P_f[1117] + 2362.92 * P_c[1117] + 47.258399999999995 * P_f[1118] + 2362.92 * P_c[1118] + 47.258399999999995 * P_f[1119] + 2362.92 * P_c[1119] + 47.258399999999995 * P_f[1120] + 2362.92 * P_c[1120] + 47.258399999999995 * P_f[1121] + 2362.92 * P_c[1121] + 47.258399999999995 * P_f[1122] + 2362.92 * P_c[1122] + 47.258399999999995 * P_f[1123] + 2362.92 * P_c[1123] + 47.258399999999995 * P_f[1124] + 2362.92 * P_c[1124] + 47.258399999999995 * P_f[1125] + 2362.92 * P_c[1125] + 47.258399999999995 * P_f[1126] + 2362.92 * P_c[1126] + 47.258399999999995 * P_f[1127] + 2362.92 * P_c[1127] + 47.258399999999995 * P_f[1128] + 2362.92 * P_c[1128] + 47.258399999999995 * P_f[1129] + 2362.92 * P_c[1129] + 47.258399999999995 * P_f[1130] + 2362.92 * P_c[1130] + 47.258399999999995 * P_f[1131] + 2362.92 * P_c[1131] + 47.258399999999995 * P_f[1132] + 2362.92 * P_c[1132] + 47.258399999999995 * P_f[1133] + 2362.92 * P_c[1133] + 47.258399999999995 * P_f[1134] + 2362.92 * P_c[1134] + 47.258399999999995 * P_f[1135] + 2362.92 * P_c[1135] + 47.258399999999995 * P_f[1136] + 2362.92 * P_c[1136] + 47.258399999999995 * P_f[1137] + 2362.92 * P_c[1137] + 47.258399999999995 * P_f[1138] + 2362.92 * P_c[1138] + 47.258399999999995 * P_f[1139] + 2362.92 * P_c[1139] + 47.316700000000004 * P_f[1140] + 2365.835 * P_c[1140] + 47.316700000000004 * P_f[1141] + 2365.835 * P_c[1141] + 47.316700000000004 * P_f[1142] + 2365.835 * P_c[1142] + 47.316700000000004 * P_f[1143] + 2365.835 * P_c[1143] + 47.316700000000004 * P_f[1144] + 2365.835 * P_c[1144] + 47.316700000000004 * P_f[1145] + 2365.835 * P_c[1145] + 47.316700000000004 * P_f[1146] + 2365.835 * P_c[1146] + 47.316700000000004 * P_f[1147] + 2365.835 * P_c[1147] + 47.316700000000004 * P_f[1148] + 2365.835 * P_c[1148] + 47.31670000000001 * P_f[1149] + 2365.8350000000005 * P_c[1149] + 47.316700000000004 * P_f[1150] + 2365.835 * P_c[1150] + 47.316700000000004 * P_f[1151] + 2365.835 * P_c[1151] + 47.316700000000004 * P_f[1152] + 2365.835 * P_c[1152] + 47.316700000000004 * P_f[1153] + 2365.835 * P_c[1153] + 47.316700000000004 * P_f[1154] + 2365.835 * P_c[1154] + 47.316700000000004 * P_f[1155] + 2365.835 * P_c[1155] + 47.316700000000004 * P_f[1156] + 2365.835 * P_c[1156] + 47.316700000000004 * P_f[1157] + 2365.835 * P_c[1157] + 47.31670000000001 * P_f[1158] + 2365.8350000000005 * P_c[1158] + 47.316700000000004 * P_f[1159] + 2365.835 * P_c[1159] + 47.31670000000001 * P_f[1160] + 2365.8350000000005 * P_c[1160] + 47.316700000000004 * P_f[1161] + 2365.835 * P_c[1161] + 47.316700000000004 * P_f[1162] + 2365.835 * P_c[1162] + 47.316700000000004 * P_f[1163] + 2365.835 * P_c[1163] + 47.316700000000004 * P_f[1164] + 2365.835 * P_c[1164] + 47.316700000000004 * P_f[1165] + 2365.835 * P_c[1165] + 47.316700000000004 * P_f[1166] + 2365.835 * P_c[1166] + 47.316700000000004 * P_f[1167] + 2365.835 * P_c[1167] + 47.316700000000004 * P_f[1168] + 2365.835 * P_c[1168] + 47.316700000000004 * P_f[1169] + 2365.835 * P_c[1169] + 47.316700000000004 * P_f[1170] + 2365.835 * P_c[1170] + 47.316700000000004 * P_f[1171] + 2365.835 * P_c[1171] + 47.316700000000004 * P_f[1172] + 2365.835 * P_c[1172] + 47.316700000000004 * P_f[1173] + 2365.835 * P_c[1173] + 47.316700000000004 * P_f[1174] + 2365.835 * P_c[1174] + 47.316700000000004 * P_f[1175] + 2365.835 * P_c[1175] + 47.316700000000004 * P_f[1176] + 2365.835 * P_c[1176] + 47.316700000000004 * P_f[1177] + 2365.835 * P_c[1177] + 47.316700000000004 * P_f[1178] + 2365.835 * P_c[1178] + 47.316700000000004 * P_f[1179] + 2365.835 * P_c[1179] + 47.316700000000004 * P_f[1180] + 2365.835 * P_c[1180] + 47.316700000000004 * P_f[1181] + 2365.835 * P_c[1181] + 47.316700000000004 * P_f[1182] + 2365.835 * P_c[1182] + 47.316700000000004 * P_f[1183] + 2365.835 * P_c[1183] + 47.316700000000004 * P_f[1184] + 2365.835 * P_c[1184] + 47.316700000000004 * P_f[1185] + 2365.835 * P_c[1185] + 47.316700000000004 * P_f[1186] + 2365.835 * P_c[1186] + 47.316700000000004 * P_f[1187] + 2365.835 * P_c[1187] + 47.316700000000004 * P_f[1188] + 2365.835 * P_c[1188] + 47.316700000000004 * P_f[1189] + 2365.835 * P_c[1189] + 47.316700000000004 * P_f[1190] + 2365.835 * P_c[1190] + 47.316700000000004 * P_f[1191] + 2365.835 * P_c[1191] + 47.316700000000004 * P_f[1192] + 2365.835 * P_c[1192] + 47.316700000000004 * P_f[1193] + 2365.835 * P_c[1193] + 47.316700000000004 * P_f[1194] + 2365.835 * P_c[1194] + 47.316700000000004 * P_f[1195] + 2365.835 * P_c[1195] + 47.316700000000004 * P_f[1196] + 2365.835 * P_c[1196] + 47.316700000000004 * P_f[1197] + 2365.835 * P_c[1197] + 47.316700000000004 * P_f[1198] + 2365.835 * P_c[1198] + 47.316700000000004 * P_f[1199] + 2365.835 * P_c[1199] + 47.3894 * P_f[1200] + 2369.4700000000003 * P_c[1200] + 47.3894 * P_f[1201] + 2369.4700000000003 * P_c[1201] + 47.3894 * P_f[1202] + 2369.4700000000003 * P_c[1202] + 47.3894 * P_f[1203] + 2369.4700000000003 * P_c[1203] + 47.3894 * P_f[1204] + 2369.4700000000003 * P_c[1204] + 47.3894 * P_f[1205] + 2369.4700000000003 * P_c[1205] + 47.3894 * P_f[1206] + 2369.4700000000003 * P_c[1206] + 47.3894 * P_f[1207] + 2369.4700000000003 * P_c[1207] + 47.3894 * P_f[1208] + 2369.4700000000003 * P_c[1208] + 47.38940000000001 * P_f[1209] + 2369.4700000000007 * P_c[1209] + 47.38940000000001 * P_f[1210] + 2369.4700000000007 * P_c[1210] + 47.3894 * P_f[1211] + 2369.4700000000003 * P_c[1211] + 47.3894 * P_f[1212] + 2369.4700000000003 * P_c[1212] + 47.3894 * P_f[1213] + 2369.4700000000003 * P_c[1213] + 47.3894 * P_f[1214] + 2369.4700000000003 * P_c[1214] + 47.3894 * P_f[1215] + 2369.4700000000003 * P_c[1215] + 47.3894 * P_f[1216] + 2369.4700000000003 * P_c[1216] + 47.389399999999995 * P_f[1217] + 2369.47 * P_c[1217] + 47.3894 * P_f[1218] + 2369.4700000000003 * P_c[1218] + 47.389399999999995 * P_f[1219] + 2369.47 * P_c[1219] + 47.3894 * P_f[1220] + 2369.4700000000003 * P_c[1220] + 47.3894 * P_f[1221] + 2369.4700000000003 * P_c[1221] + 47.3894 * P_f[1222] + 2369.4700000000003 * P_c[1222] + 47.3894 * P_f[1223] + 2369.4700000000003 * P_c[1223] + 47.3894 * P_f[1224] + 2369.4700000000003 * P_c[1224] + 47.3894 * P_f[1225] + 2369.4700000000003 * P_c[1225] + 47.3894 * P_f[1226] + 2369.4700000000003 * P_c[1226] + 47.3894 * P_f[1227] + 2369.4700000000003 * P_c[1227] + 47.3894 * P_f[1228] + 2369.4700000000003 * P_c[1228] + 47.3894 * P_f[1229] + 2369.4700000000003 * P_c[1229] + 47.3894 * P_f[1230] + 2369.4700000000003 * P_c[1230] + 47.3894 * P_f[1231] + 2369.4700000000003 * P_c[1231] + 47.3894 * P_f[1232] + 2369.4700000000003 * P_c[1232] + 47.3894 * P_f[1233] + 2369.4700000000003 * P_c[1233] + 47.3894 * P_f[1234] + 2369.4700000000003 * P_c[1234] + 47.3894 * P_f[1235] + 2369.4700000000003 * P_c[1235] + 47.3894 * P_f[1236] + 2369.4700000000003 * P_c[1236] + 47.3894 * P_f[1237] + 2369.4700000000003 * P_c[1237] + 47.3894 * P_f[1238] + 2369.4700000000003 * P_c[1238] + 47.3894 * P_f[1239] + 2369.4700000000003 * P_c[1239] + 47.3894 * P_f[1240] + 2369.4700000000003 * P_c[1240] + 47.3894 * P_f[1241] + 2369.4700000000003 * P_c[1241] + 47.3894 * P_f[1242] + 2369.4700000000003 * P_c[1242] + 47.3894 * P_f[1243] + 2369.4700000000003 * P_c[1243] + 47.3894 * P_f[1244] + 2369.4700000000003 * P_c[1244] + 47.3894 * P_f[1245] + 2369.4700000000003 * P_c[1245] + 47.3894 * P_f[1246] + 2369.4700000000003 * P_c[1246] + 47.3894 * P_f[1247] + 2369.4700000000003 * P_c[1247] + 47.3894 * P_f[1248] + 2369.4700000000003 * P_c[1248] + 47.3894 * P_f[1249] + 2369.4700000000003 * P_c[1249] + 47.3894 * P_f[1250] + 2369.4700000000003 * P_c[1250] + 47.3894 * P_f[1251] + 2369.4700000000003 * P_c[1251] + 47.38940000000001 * P_f[1252] + 2369.4700000000007 * P_c[1252] + 47.3894 * P_f[1253] + 2369.4700000000003 * P_c[1253] + 47.3894 * P_f[1254] + 2369.4700000000003 * P_c[1254] + 47.3894 * P_f[1255] + 2369.4700000000003 * P_c[1255] + 47.3894 * P_f[1256] + 2369.4700000000003 * P_c[1256] + 47.3894 * P_f[1257] + 2369.4700000000003 * P_c[1257] + 47.3894 * P_f[1258] + 2369.4700000000003 * P_c[1258] + 47.3894 * P_f[1259] + 2369.4700000000003 * P_c[1259] + 47.544000000000004 * P_f[1260] + 2377.2000000000003 * P_c[1260] + 47.544000000000004 * P_f[1261] + 2377.2000000000003 * P_c[1261] + 47.544000000000004 * P_f[1262] + 2377.2000000000003 * P_c[1262] + 47.544000000000004 * P_f[1263] + 2377.2000000000003 * P_c[1263] + 47.544000000000004 * P_f[1264] + 2377.2000000000003 * P_c[1264] + 47.544000000000004 * P_f[1265] + 2377.2000000000003 * P_c[1265] + 47.544000000000004 * P_f[1266] + 2377.2000000000003 * P_c[1266] + 47.544000000000004 * P_f[1267] + 2377.2000000000003 * P_c[1267] + 47.544000000000004 * P_f[1268] + 2377.2000000000003 * P_c[1268] + 47.544000000000004 * P_f[1269] + 2377.2000000000003 * P_c[1269] + 47.544000000000004 * P_f[1270] + 2377.2000000000003 * P_c[1270] + 47.544000000000004 * P_f[1271] + 2377.2000000000003 * P_c[1271] + 47.544000000000004 * P_f[1272] + 2377.2000000000003 * P_c[1272] + 47.544000000000004 * P_f[1273] + 2377.2000000000003 * P_c[1273] + 47.544000000000004 * P_f[1274] + 2377.2000000000003 * P_c[1274] + 47.544000000000004 * P_f[1275] + 2377.2000000000003 * P_c[1275] + 47.544000000000004 * P_f[1276] + 2377.2000000000003 * P_c[1276] + 47.544000000000004 * P_f[1277] + 2377.2000000000003 * P_c[1277] + 47.544000000000004 * P_f[1278] + 2377.2000000000003 * P_c[1278] + 47.544000000000004 * P_f[1279] + 2377.2000000000003 * P_c[1279] + 47.544000000000004 * P_f[1280] + 2377.2000000000003 * P_c[1280] + 47.544000000000004 * P_f[1281] + 2377.2000000000003 * P_c[1281] + 47.544000000000004 * P_f[1282] + 2377.2000000000003 * P_c[1282] + 47.544000000000004 * P_f[1283] + 2377.2000000000003 * P_c[1283] + 47.544000000000004 * P_f[1284] + 2377.2000000000003 * P_c[1284] + 47.544000000000004 * P_f[1285] + 2377.2000000000003 * P_c[1285] + 47.544000000000004 * P_f[1286] + 2377.2000000000003 * P_c[1286] + 47.544000000000004 * P_f[1287] + 2377.2000000000003 * P_c[1287] + 47.544000000000004 * P_f[1288] + 2377.2000000000003 * P_c[1288] + 47.544000000000004 * P_f[1289] + 2377.2000000000003 * P_c[1289] + 47.544000000000004 * P_f[1290] + 2377.2000000000003 * P_c[1290] + 47.544000000000004 * P_f[1291] + 2377.2000000000003 * P_c[1291] + 47.544000000000004 * P_f[1292] + 2377.2000000000003 * P_c[1292] + 47.544000000000004 * P_f[1293] + 2377.2000000000003 * P_c[1293] + 47.544000000000004 * P_f[1294] + 2377.2000000000003 * P_c[1294] + 47.544000000000004 * P_f[1295] + 2377.2000000000003 * P_c[1295] + 47.544000000000004 * P_f[1296] + 2377.2000000000003 * P_c[1296] + 47.544000000000004 * P_f[1297] + 2377.2000000000003 * P_c[1297] + 47.544000000000004 * P_f[1298] + 2377.2000000000003 * P_c[1298] + 47.544000000000004 * P_f[1299] + 2377.2000000000003 * P_c[1299] + 47.544000000000004 * P_f[1300] + 2377.2000000000003 * P_c[1300] + 47.544000000000004 * P_f[1301] + 2377.2000000000003 * P_c[1301] + 47.544000000000004 * P_f[1302] + 2377.2000000000003 * P_c[1302] + 47.544000000000004 * P_f[1303] + 2377.2000000000003 * P_c[1303] + 47.544000000000004 * P_f[1304] + 2377.2000000000003 * P_c[1304] + 47.544000000000004 * P_f[1305] + 2377.2000000000003 * P_c[1305] + 47.544000000000004 * P_f[1306] + 2377.2000000000003 * P_c[1306] + 47.544000000000004 * P_f[1307] + 2377.2000000000003 * P_c[1307] + 47.544000000000004 * P_f[1308] + 2377.2000000000003 * P_c[1308] + 47.544000000000004 * P_f[1309] + 2377.2000000000003 * P_c[1309] + 47.544000000000004 * P_f[1310] + 2377.2000000000003 * P_c[1310] + 47.544000000000004 * P_f[1311] + 2377.2000000000003 * P_c[1311] + 47.544000000000004 * P_f[1312] + 2377.2000000000003 * P_c[1312] + 47.544000000000004 * P_f[1313] + 2377.2000000000003 * P_c[1313] + 47.544000000000004 * P_f[1314] + 2377.2000000000003 * P_c[1314] + 47.544000000000004 * P_f[1315] + 2377.2000000000003 * P_c[1315] + 47.544000000000004 * P_f[1316] + 2377.2000000000003 * P_c[1316] + 47.544000000000004 * P_f[1317] + 2377.2000000000003 * P_c[1317] + 47.544000000000004 * P_f[1318] + 2377.2000000000003 * P_c[1318] + 47.544000000000004 * P_f[1319] + 2377.2000000000003 * P_c[1319] + 47.531800000000004 * P_f[1320] + 2376.59 * P_c[1320] + 47.531800000000004 * P_f[1321] + 2376.59 * P_c[1321] + 47.531800000000004 * P_f[1322] + 2376.59 * P_c[1322] + 47.531800000000004 * P_f[1323] + 2376.59 * P_c[1323] + 47.531800000000004 * P_f[1324] + 2376.59 * P_c[1324] + 47.531800000000004 * P_f[1325] + 2376.59 * P_c[1325] + 47.531800000000004 * P_f[1326] + 2376.59 * P_c[1326] + 47.531800000000004 * P_f[1327] + 2376.59 * P_c[1327] + 47.531800000000004 * P_f[1328] + 2376.59 * P_c[1328] + 47.531800000000004 * P_f[1329] + 2376.59 * P_c[1329] + 47.531800000000004 * P_f[1330] + 2376.59 * P_c[1330] + 47.531800000000004 * P_f[1331] + 2376.59 * P_c[1331] + 47.531800000000004 * P_f[1332] + 2376.59 * P_c[1332] + 47.531800000000004 * P_f[1333] + 2376.59 * P_c[1333] + 47.531800000000004 * P_f[1334] + 2376.59 * P_c[1334] + 47.531800000000004 * P_f[1335] + 2376.59 * P_c[1335] + 47.531800000000004 * P_f[1336] + 2376.59 * P_c[1336] + 47.531800000000004 * P_f[1337] + 2376.59 * P_c[1337] + 47.531800000000004 * P_f[1338] + 2376.59 * P_c[1338] + 47.531800000000004 * P_f[1339] + 2376.59 * P_c[1339] + 47.531800000000004 * P_f[1340] + 2376.59 * P_c[1340] + 47.531800000000004 * P_f[1341] + 2376.59 * P_c[1341] + 47.531800000000004 * P_f[1342] + 2376.59 * P_c[1342] + 47.531800000000004 * P_f[1343] + 2376.59 * P_c[1343] + 47.531800000000004 * P_f[1344] + 2376.59 * P_c[1344] + 47.531800000000004 * P_f[1345] + 2376.59 * P_c[1345] + 47.531800000000004 * P_f[1346] + 2376.59 * P_c[1346] + 47.531800000000004 * P_f[1347] + 2376.59 * P_c[1347] + 47.531800000000004 * P_f[1348] + 2376.59 * P_c[1348] + 47.531800000000004 * P_f[1349] + 2376.59 * P_c[1349] + 47.531800000000004 * P_f[1350] + 2376.59 * P_c[1350] + 47.531800000000004 * P_f[1351] + 2376.59 * P_c[1351] + 47.531800000000004 * P_f[1352] + 2376.59 * P_c[1352] + 47.531800000000004 * P_f[1353] + 2376.59 * P_c[1353] + 47.531800000000004 * P_f[1354] + 2376.59 * P_c[1354] + 47.531800000000004 * P_f[1355] + 2376.59 * P_c[1355] + 47.531800000000004 * P_f[1356] + 2376.59 * P_c[1356] + 47.531800000000004 * P_f[1357] + 2376.59 * P_c[1357] + 47.531800000000004 * P_f[1358] + 2376.59 * P_c[1358] + 47.531800000000004 * P_f[1359] + 2376.59 * P_c[1359] + 47.531800000000004 * P_f[1360] + 2376.59 * P_c[1360] + 47.531800000000004 * P_f[1361] + 2376.59 * P_c[1361] + 47.531800000000004 * P_f[1362] + 2376.59 * P_c[1362] + 47.531800000000004 * P_f[1363] + 2376.59 * P_c[1363] + 47.531800000000004 * P_f[1364] + 2376.59 * P_c[1364] + 47.531800000000004 * P_f[1365] + 2376.59 * P_c[1365] + 47.531800000000004 * P_f[1366] + 2376.59 * P_c[1366] + 47.531800000000004 * P_f[1367] + 2376.59 * P_c[1367] + 47.531800000000004 * P_f[1368] + 2376.59 * P_c[1368] + 47.531800000000004 * P_f[1369] + 2376.59 * P_c[1369] + 47.531800000000004 * P_f[1370] + 2376.59 * P_c[1370] + 47.531800000000004 * P_f[1371] + 2376.59 * P_c[1371] + 47.531800000000004 * P_f[1372] + 2376.59 * P_c[1372] + 47.531800000000004 * P_f[1373] + 2376.59 * P_c[1373] + 47.531800000000004 * P_f[1374] + 2376.59 * P_c[1374] + 47.531800000000004 * P_f[1375] + 2376.59 * P_c[1375] + 47.531800000000004 * P_f[1376] + 2376.59 * P_c[1376] + 47.531800000000004 * P_f[1377] + 2376.59 * P_c[1377] + 47.531800000000004 * P_f[1378] + 2376.59 * P_c[1378] + 47.531800000000004 * P_f[1379] + 2376.59 * P_c[1379] + 46.1478 * P_f[1380] + 2307.39 * P_c[1380] + 46.1478 * P_f[1381] + 2307.39 * P_c[1381] + 46.1478 * P_f[1382] + 2307.39 * P_c[1382] + 46.1478 * P_f[1383] + 2307.39 * P_c[1383] + 46.1478 * P_f[1384] + 2307.39 * P_c[1384] + 46.1478 * P_f[1385] + 2307.39 * P_c[1385] + 46.1478 * P_f[1386] + 2307.39 * P_c[1386] + 46.1478 * P_f[1387] + 2307.39 * P_c[1387] + 46.1478 * P_f[1388] + 2307.39 * P_c[1388] + 46.1478 * P_f[1389] + 2307.39 * P_c[1389] + 46.1478 * P_f[1390] + 2307.39 * P_c[1390] + 46.1478 * P_f[1391] + 2307.39 * P_c[1391] + 46.1478 * P_f[1392] + 2307.39 * P_c[1392] + 46.1478 * P_f[1393] + 2307.39 * P_c[1393] + 46.1478 * P_f[1394] + 2307.39 * P_c[1394] + 46.1478 * P_f[1395] + 2307.39 * P_c[1395] + 46.1478 * P_f[1396] + 2307.39 * P_c[1396] + 46.1478 * P_f[1397] + 2307.39 * P_c[1397] + 46.1478 * P_f[1398] + 2307.39 * P_c[1398] + 46.1478 * P_f[1399] + 2307.39 * P_c[1399] + 46.1478 * P_f[1400] + 2307.39 * P_c[1400] + 46.1478 * P_f[1401] + 2307.39 * P_c[1401] + 46.1478 * P_f[1402] + 2307.39 * P_c[1402] + 46.1478 * P_f[1403] + 2307.39 * P_c[1403] + 46.1478 * P_f[1404] + 2307.39 * P_c[1404] + 46.1478 * P_f[1405] + 2307.39 * P_c[1405] + 46.1478 * P_f[1406] + 2307.39 * P_c[1406] + 46.1478 * P_f[1407] + 2307.39 * P_c[1407] + 46.1478 * P_f[1408] + 2307.39 * P_c[1408] + 46.1478 * P_f[1409] + 2307.39 * P_c[1409] + 46.1478 * P_f[1410] + 2307.39 * P_c[1410] + 46.1478 * P_f[1411] + 2307.39 * P_c[1411] + 46.1478 * P_f[1412] + 2307.39 * P_c[1412] + 46.1478 * P_f[1413] + 2307.39 * P_c[1413] + 46.1478 * P_f[1414] + 2307.39 * P_c[1414] + 46.1478 * P_f[1415] + 2307.39 * P_c[1415] + 46.1478 * P_f[1416] + 2307.39 * P_c[1416] + 46.1478 * P_f[1417] + 2307.39 * P_c[1417] + 46.1478 * P_f[1418] + 2307.39 * P_c[1418] + 46.1478 * P_f[1419] + 2307.39 * P_c[1419] + 46.1478 * P_f[1420] + 2307.39 * P_c[1420] + 46.1478 * P_f[1421] + 2307.39 * P_c[1421] + 46.1478 * P_f[1422] + 2307.39 * P_c[1422] + 46.1478 * P_f[1423] + 2307.39 * P_c[1423] + 46.1478 * P_f[1424] + 2307.39 * P_c[1424] + 46.1478 * P_f[1425] + 2307.39 * P_c[1425] + 46.1478 * P_f[1426] + 2307.39 * P_c[1426] + 46.1478 * P_f[1427] + 2307.39 * P_c[1427] + 46.1478 * P_f[1428] + 2307.39 * P_c[1428] + 46.1478 * P_f[1429] + 2307.39 * P_c[1429] + 46.1478 * P_f[1430] + 2307.39 * P_c[1430] + 46.1478 * P_f[1431] + 2307.39 * P_c[1431] + 46.1478 * P_f[1432] + 2307.39 * P_c[1432] + 46.1478 * P_f[1433] + 2307.39 * P_c[1433] + 46.1478 * P_f[1434] + 2307.39 * P_c[1434] + 46.1478 * P_f[1435] + 2307.39 * P_c[1435] + 46.1478 * P_f[1436] + 2307.39 * P_c[1436] + 46.1478 * P_f[1437] + 2307.39 * P_c[1437] + 46.1478 * P_f[1438] + 2307.39 * P_c[1438] + 46.1478 * P_f[1439] + 2307.39 * P_c[1439] + 44.1704 * P_f[1440] + 2208.52 * P_c[1440]))"
   ]
  },
  {
   "cell_type": "code",
   "execution_count": null,
   "metadata": {},
   "outputs": [],
   "source": []
  },
  {
   "cell_type": "code",
   "execution_count": 25,
   "metadata": {},
   "outputs": [],
   "source": [
    "# for i in 1:1440\n",
    "#     print(price(i/60)*(10*P_f[i] + 500*P_c[i]), \" + \")\n",
    "#     end"
   ]
  },
  {
   "cell_type": "code",
   "execution_count": 26,
   "metadata": {},
   "outputs": [],
   "source": [
    "# for i in 1:1440\n",
    "#     print(10*P_f[i] + 500*P_c[i], \" + \")\n",
    "#     end"
   ]
  },
  {
   "cell_type": "code",
   "execution_count": 27,
   "metadata": {},
   "outputs": [
    {
     "data": {
      "text/latex": [
       "$$ 44.1704 fan_{1} + 2208.52 compressor_{1} + 44.1704 fan_{2} + 2208.52 compressor_{2} + 44.17040000000001 fan_{3} + 2208.5200000000004 compressor_{3} + 44.170399999999994 fan_{4} + 2208.5199999999995 compressor_{4} + 44.1704 fan_{5} + 2208.52 compressor_{5} + 44.1704 fan_{6} + 2208.52 compressor_{6} + 44.1704 fan_{7} + 2208.52 compressor_{7} + 44.1704 fan_{8} + 2208.52 compressor_{8} + 44.1704 fan_{9} + 2208.52 compressor_{9} + 44.1704 fan_{10} + 2208.52 compressor_{10} + 44.1704 fan_{11} + 2208.52 compressor_{11} + 44.1704 fan_{12} + 2208.52 compressor_{12} + 44.1704 fan_{13} + 2208.52 compressor_{13} + 44.1704 fan_{14} + 2208.52 compressor_{14} + 44.1704 fan_{15} + 2208.52 compressor_{15} + 44.1704 fan_{16} + 2208.52 compressor_{16} + 44.1704 fan_{17} + 2208.52 compressor_{17} + 44.1704 fan_{18} + 2208.52 compressor_{18} + 44.1704 fan_{19} + 2208.52 compressor_{19} + 44.1704 fan_{20} + 2208.52 compressor_{20} + 44.1704 fan_{21} + 2208.52 compressor_{21} + 44.1704 fan_{22} + 2208.52 compressor_{22} + 44.1704 fan_{23} + 2208.52 compressor_{23} + 44.1704 fan_{24} + 2208.52 compressor_{24} + 44.1704 fan_{25} + 2208.52 compressor_{25} + 44.1704 fan_{26} + 2208.52 compressor_{26} + 44.1704 fan_{27} + 2208.52 compressor_{27} + 44.1704 fan_{28} + 2208.52 compressor_{28} + 44.1704 fan_{29} + 2208.52 compressor_{29} + 44.1704 fan_{30} + 2208.52 compressor_{30} + 44.1704 fan_{31} + 2208.52 compressor_{31} + 44.1704 fan_{32} + 2208.52 compressor_{32} + 44.1704 fan_{33} + 2208.52 compressor_{33} + 44.1704 fan_{34} + 2208.52 compressor_{34} + 44.1704 fan_{35} + 2208.52 compressor_{35} + 44.1704 fan_{36} + 2208.52 compressor_{36} + 44.1704 fan_{37} + 2208.52 compressor_{37} + 44.1704 fan_{38} + 2208.52 compressor_{38} + 44.1704 fan_{39} + 2208.52 compressor_{39} + 44.1704 fan_{40} + 2208.52 compressor_{40} + 44.1704 fan_{41} + 2208.52 compressor_{41} + 44.1704 fan_{42} + 2208.52 compressor_{42} + 44.1704 fan_{43} + 2208.52 compressor_{43} + 44.1704 fan_{44} + 2208.52 compressor_{44} + 44.1704 fan_{45} + 2208.52 compressor_{45} + 44.1704 fan_{46} + 2208.52 compressor_{46} + 44.1704 fan_{47} + 2208.52 compressor_{47} + 44.1704 fan_{48} + 2208.52 compressor_{48} + 44.1704 fan_{49} + 2208.52 compressor_{49} + 44.1704 fan_{50} + 2208.52 compressor_{50} + 44.1704 fan_{51} + 2208.52 compressor_{51} + 44.1704 fan_{52} + 2208.52 compressor_{52} + 44.1704 fan_{53} + 2208.52 compressor_{53} + 44.1704 fan_{54} + 2208.52 compressor_{54} + 44.1704 fan_{55} + 2208.52 compressor_{55} + 44.1704 fan_{56} + 2208.52 compressor_{56} + 44.1704 fan_{57} + 2208.52 compressor_{57} + 44.1704 fan_{58} + 2208.52 compressor_{58} + 44.1704 fan_{59} + 2208.52 compressor_{59} + 42.5404 fan_{60} + 2127.02 compressor_{60} $$"
      ],
      "text/plain": [
       "44.1704 fan[1] + 2208.52 compressor[1] + 44.1704 fan[2] + 2208.52 compressor[2] + 44.17040000000001 fan[3] + 2208.5200000000004 compressor[3] + 44.170399999999994 fan[4] + 2208.5199999999995 compressor[4] + 44.1704 fan[5] + 2208.52 compressor[5] + 44.1704 fan[6] + 2208.52 compressor[6] + 44.1704 fan[7] + 2208.52 compressor[7] + 44.1704 fan[8] + 2208.52 compressor[8] + 44.1704 fan[9] + 2208.52 compressor[9] + 44.1704 fan[10] + 2208.52 compressor[10] + 44.1704 fan[11] + 2208.52 compressor[11] + 44.1704 fan[12] + 2208.52 compressor[12] + 44.1704 fan[13] + 2208.52 compressor[13] + 44.1704 fan[14] + 2208.52 compressor[14] + 44.1704 fan[15] + 2208.52 compressor[15] + 44.1704 fan[16] + 2208.52 compressor[16] + 44.1704 fan[17] + 2208.52 compressor[17] + 44.1704 fan[18] + 2208.52 compressor[18] + 44.1704 fan[19] + 2208.52 compressor[19] + 44.1704 fan[20] + 2208.52 compressor[20] + 44.1704 fan[21] + 2208.52 compressor[21] + 44.1704 fan[22] + 2208.52 compressor[22] + 44.1704 fan[23] + 2208.52 compressor[23] + 44.1704 fan[24] + 2208.52 compressor[24] + 44.1704 fan[25] + 2208.52 compressor[25] + 44.1704 fan[26] + 2208.52 compressor[26] + 44.1704 fan[27] + 2208.52 compressor[27] + 44.1704 fan[28] + 2208.52 compressor[28] + 44.1704 fan[29] + 2208.52 compressor[29] + 44.1704 fan[30] + 2208.52 compressor[30] + 44.1704 fan[31] + 2208.52 compressor[31] + 44.1704 fan[32] + 2208.52 compressor[32] + 44.1704 fan[33] + 2208.52 compressor[33] + 44.1704 fan[34] + 2208.52 compressor[34] + 44.1704 fan[35] + 2208.52 compressor[35] + 44.1704 fan[36] + 2208.52 compressor[36] + 44.1704 fan[37] + 2208.52 compressor[37] + 44.1704 fan[38] + 2208.52 compressor[38] + 44.1704 fan[39] + 2208.52 compressor[39] + 44.1704 fan[40] + 2208.52 compressor[40] + 44.1704 fan[41] + 2208.52 compressor[41] + 44.1704 fan[42] + 2208.52 compressor[42] + 44.1704 fan[43] + 2208.52 compressor[43] + 44.1704 fan[44] + 2208.52 compressor[44] + 44.1704 fan[45] + 2208.52 compressor[45] + 44.1704 fan[46] + 2208.52 compressor[46] + 44.1704 fan[47] + 2208.52 compressor[47] + 44.1704 fan[48] + 2208.52 compressor[48] + 44.1704 fan[49] + 2208.52 compressor[49] + 44.1704 fan[50] + 2208.52 compressor[50] + 44.1704 fan[51] + 2208.52 compressor[51] + 44.1704 fan[52] + 2208.52 compressor[52] + 44.1704 fan[53] + 2208.52 compressor[53] + 44.1704 fan[54] + 2208.52 compressor[54] + 44.1704 fan[55] + 2208.52 compressor[55] + 44.1704 fan[56] + 2208.52 compressor[56] + 44.1704 fan[57] + 2208.52 compressor[57] + 44.1704 fan[58] + 2208.52 compressor[58] + 44.1704 fan[59] + 2208.52 compressor[59] + 42.5404 fan[60] + 2127.02 compressor[60]"
      ]
     },
     "execution_count": 27,
     "metadata": {},
     "output_type": "execute_result"
    }
   ],
   "source": [
    "@objective(m2, Min, expr_obj)"
   ]
  },
  {
   "cell_type": "code",
   "execution_count": 28,
   "metadata": {},
   "outputs": [],
   "source": [
    "# @objective(m2, Min, (44.1704 fan[1] + 2208.52 compressor[1] + 44.1704 fan[2] + 2208.52 compressor[2] + 44.17040000000001 fan[3] + 2208.5200000000004 compressor[3] + 44.170399999999994 fan[4] + 2208.5199999999995 compressor[4] + 44.1704 fan[5] + 2208.52 compressor[5] + 44.1704 fan[6] + 2208.52 compressor[6] + 44.1704 fan[7] + 2208.52 compressor[7] + 44.1704 fan[8] + 2208.52 compressor[8] + 44.1704 fan[9] + 2208.52 compressor[9] + 44.1704 fan[10] + 2208.52 compressor[10] + 44.1704 fan[11] + 2208.52 compressor[11] + 44.1704 fan[12] + 2208.52 compressor[12] + 44.1704 fan[13] + 2208.52 compressor[13] + 44.1704 fan[14] + 2208.52 compressor[14] + 44.1704 fan[15] + 2208.52 compressor[15] + 44.1704 fan[16] + 2208.52 compressor[16] + 44.1704 fan[17] + 2208.52 compressor[17] + 44.1704 fan[18] + 2208.52 compressor[18] + 44.1704 fan[19] + 2208.52 compressor[19] + 44.1704 fan[20] + 2208.52 compressor[20] + 44.1704 fan[21] + 2208.52 compressor[21] + 44.1704 fan[22] + 2208.52 compressor[22] + 44.1704 fan[23] + 2208.52 compressor[23] + 44.1704 fan[24] + 2208.52 compressor[24] + 44.1704 fan[25] + 2208.52 compressor[25] + 44.1704 fan[26] + 2208.52 compressor[26] + 44.1704 fan[27] + 2208.52 compressor[27] + 44.1704 fan[28] + 2208.52 compressor[28] + 44.1704 fan[29] + 2208.52 compressor[29] + 44.1704 fan[30] + 2208.52 compressor[30] + 44.1704 fan[31] + 2208.52 compressor[31] + 44.1704 fan[32] + 2208.52 compressor[32] + 44.1704 fan[33] + 2208.52 compressor[33] + 44.1704 fan[34] + 2208.52 compressor[34] + 44.1704 fan[35] + 2208.52 compressor[35] + 44.1704 fan[36] + 2208.52 compressor[36] + 44.1704 fan[37] + 2208.52 compressor[37] + 44.1704 fan[38] + 2208.52 compressor[38] + 44.1704 fan[39] + 2208.52 compressor[39] + 44.1704 fan[40] + 2208.52 compressor[40] + 44.1704 fan[41] + 2208.52 compressor[41] + 44.1704 fan[42] + 2208.52 compressor[42] + 44.1704 fan[43] + 2208.52 compressor[43] + 44.1704 fan[44] + 2208.52 compressor[44] + 44.1704 fan[45] + 2208.52 compressor[45] + 44.1704 fan[46] + 2208.52 compressor[46] + 44.1704 fan[47] + 2208.52 compressor[47] + 44.1704 fan[48] + 2208.52 compressor[48] + 44.1704 fan[49] + 2208.52 compressor[49] + 44.1704 fan[50] + 2208.52 compressor[50] + 44.1704 fan[51] + 2208.52 compressor[51] + 44.1704 fan[52] + 2208.52 compressor[52] + 44.1704 fan[53] + 2208.52 compressor[53] + 44.1704 fan[54] + 2208.52 compressor[54] + 44.1704 fan[55] + 2208.52 compressor[55] + 44.1704 fan[56] + 2208.52 compressor[56] + 44.1704 fan[57] + 2208.52 compressor[57] + 44.1704 fan[58] + 2208.52 compressor[58] + 44.1704 fan[59] + 2208.52 compressor[59] + 42.5404 fan[60] + 2127.02 compressor[60] + 42.5404 fan[61] + 2127.02 compressor[61] + 42.54039999999999 fan[62] + 2127.0199999999995 compressor[62] + 42.5404 fan[63] + 2127.02 compressor[63] + 42.5404 fan[64] + 2127.02 compressor[64] + 42.5404 fan[65] + 2127.02 compressor[65] + 42.5404 fan[66] + 2127.02 compressor[66] + 42.5404 fan[67] + 2127.02 compressor[67] + 42.5404 fan[68] + 2127.02 compressor[68] + 42.5404 fan[69] + 2127.02 compressor[69] + 42.5404 fan[70] + 2127.02 compressor[70] + 42.5404 fan[71] + 2127.02 compressor[71] + 42.5404 fan[72] + 2127.02 compressor[72] + 42.5404 fan[73] + 2127.02 compressor[73] + 42.5404 fan[74] + 2127.02 compressor[74] + 42.5404 fan[75] + 2127.02 compressor[75] + 42.5404 fan[76] + 2127.02 compressor[76] + 42.5404 fan[77] + 2127.02 compressor[77] + 42.5404 fan[78] + 2127.02 compressor[78] + 42.5404 fan[79] + 2127.02 compressor[79] + 42.5404 fan[80] + 2127.02 compressor[80] + 42.5404 fan[81] + 2127.02 compressor[81] + 42.5404 fan[82] + 2127.02 compressor[82] + 42.5404 fan[83] + 2127.02 compressor[83] + 42.5404 fan[84] + 2127.02 compressor[84] + 42.5404 fan[85] + 2127.02 compressor[85] + 42.5404 fan[86] + 2127.02 compressor[86] + 42.5404 fan[87] + 2127.02 compressor[87] + 42.5404 fan[88] + 2127.02 compressor[88] + 42.5404 fan[89] + 2127.02 compressor[89] + 42.5404 fan[90] + 2127.02 compressor[90] + 42.5404 fan[91] + 2127.02 compressor[91] + 42.5404 fan[92] + 2127.02 compressor[92] + 42.5404 fan[93] + 2127.02 compressor[93] + 42.5404 fan[94] + 2127.02 compressor[94] + 42.5404 fan[95] + 2127.02 compressor[95] + 42.5404 fan[96] + 2127.02 compressor[96] + 42.5404 fan[97] + 2127.02 compressor[97] + 42.5404 fan[98] + 2127.02 compressor[98] + 42.5404 fan[99] + 2127.02 compressor[99] + 42.5404 fan[100] + 2127.02 compressor[100] + 42.5404 fan[101] + 2127.02 compressor[101] + 42.5404 fan[102] + 2127.02 compressor[102] + 42.5404 fan[103] + 2127.02 compressor[103] + 42.5404 fan[104] + 2127.02 compressor[104] + 42.5404 fan[105] + 2127.02 compressor[105] + 42.5404 fan[106] + 2127.02 compressor[106] + 42.5404 fan[107] + 2127.02 compressor[107] + 42.5404 fan[108] + 2127.02 compressor[108] + 42.5404 fan[109] + 2127.02 compressor[109] + 42.5404 fan[110] + 2127.02 compressor[110] + 42.5404 fan[111] + 2127.02 compressor[111] + 42.5404 fan[112] + 2127.02 compressor[112] + 42.5404 fan[113] + 2127.02 compressor[113] + 42.5404 fan[114] + 2127.02 compressor[114] + 42.5404 fan[115] + 2127.02 compressor[115] + 42.5404 fan[116] + 2127.02 compressor[116] + 42.5404 fan[117] + 2127.02 compressor[117] + 42.5404 fan[118] + 2127.02 compressor[118] + 42.5404 fan[119] + 2127.02 compressor[119] + 41.443599999999996 fan[120] + 2072.18 compressor[120] + 41.44359999999999 fan[121] + 2072.1799999999994 compressor[121] + 41.443599999999996 fan[122] + 2072.18 compressor[122] + 41.443599999999996 fan[123] + 2072.18 compressor[123] + 41.443599999999996 fan[124] + 2072.18 compressor[124] + 41.443599999999996 fan[125] + 2072.18 compressor[125] + 41.443599999999996 fan[126] + 2072.18 compressor[126] + 41.443599999999996 fan[127] + 2072.18 compressor[127] + 41.443599999999996 fan[128] + 2072.18 compressor[128] + 41.443599999999996 fan[129] + 2072.18 compressor[129] + 41.443599999999996 fan[130] + 2072.18 compressor[130] + 41.443599999999996 fan[131] + 2072.18 compressor[131] + 41.443599999999996 fan[132] + 2072.18 compressor[132] + 41.443599999999996 fan[133] + 2072.18 compressor[133] + 41.443599999999996 fan[134] + 2072.18 compressor[134] + 41.4436 fan[135] + 2072.1800000000003 compressor[135] + 41.44359999999999 fan[136] + 2072.1799999999994 compressor[136] + 41.443599999999996 fan[137] + 2072.18 compressor[137] + 41.443599999999996 fan[138] + 2072.18 compressor[138] + 41.443599999999996 fan[139] + 2072.18 compressor[139] + 41.443599999999996 fan[140] + 2072.18 compressor[140] + 41.44359999999999 fan[141] + 2072.1799999999994 compressor[141] + 41.443599999999996 fan[142] + 2072.18 compressor[142] + 41.443599999999996 fan[143] + 2072.18 compressor[143] + 41.443599999999996 fan[144] + 2072.18 compressor[144] + 41.443599999999996 fan[145] + 2072.18 compressor[145] + 41.443599999999996 fan[146] + 2072.18 compressor[146] + 41.443599999999996 fan[147] + 2072.18 compressor[147] + 41.443599999999996 fan[148] + 2072.18 compressor[148] + 41.443599999999996 fan[149] + 2072.18 compressor[149] + 41.443599999999996 fan[150] + 2072.18 compressor[150] + 41.443599999999996 fan[151] + 2072.18 compressor[151] + 41.443599999999996 fan[152] + 2072.18 compressor[152] + 41.443599999999996 fan[153] + 2072.18 compressor[153] + 41.443599999999996 fan[154] + 2072.18 compressor[154] + 41.443599999999996 fan[155] + 2072.18 compressor[155] + 41.443599999999996 fan[156] + 2072.18 compressor[156] + 41.443599999999996 fan[157] + 2072.18 compressor[157] + 41.443599999999996 fan[158] + 2072.18 compressor[158] + 41.443599999999996 fan[159] + 2072.18 compressor[159] + 41.443599999999996 fan[160] + 2072.18 compressor[160] + 41.443599999999996 fan[161] + 2072.18 compressor[161] + 41.443599999999996 fan[162] + 2072.18 compressor[162] + 41.443599999999996 fan[163] + 2072.18 compressor[163] + 41.443599999999996 fan[164] + 2072.18 compressor[164] + 41.443599999999996 fan[165] + 2072.18 compressor[165] + 41.443599999999996 fan[166] + 2072.18 compressor[166] + 41.443599999999996 fan[167] + 2072.18 compressor[167] + 41.443599999999996 fan[168] + 2072.18 compressor[168] + 41.443599999999996 fan[169] + 2072.18 compressor[169] + 41.443599999999996 fan[170] + 2072.18 compressor[170] + 41.443599999999996 fan[171] + 2072.18 compressor[171] + 41.443599999999996 fan[172] + 2072.18 compressor[172] + 41.443599999999996 fan[173] + 2072.18 compressor[173] + 41.443599999999996 fan[174] + 2072.18 compressor[174] + 41.443599999999996 fan[175] + 2072.18 compressor[175] + 41.443599999999996 fan[176] + 2072.18 compressor[176] + 41.443599999999996 fan[177] + 2072.18 compressor[177] + 41.443599999999996 fan[178] + 2072.18 compressor[178] + 41.443599999999996 fan[179] + 2072.18 compressor[179] + 40.546800000000005 fan[180] + 2027.3400000000001 compressor[180] + 40.546800000000005 fan[181] + 2027.3400000000001 compressor[181] + 40.546800000000005 fan[182] + 2027.3400000000001 compressor[182] + 40.546800000000005 fan[183] + 2027.3400000000001 compressor[183] + 40.546800000000005 fan[184] + 2027.3400000000001 compressor[184] + 40.546800000000005 fan[185] + 2027.3400000000001 compressor[185] + 40.546800000000005 fan[186] + 2027.3400000000001 compressor[186] + 40.546800000000005 fan[187] + 2027.3400000000001 compressor[187] + 40.546800000000005 fan[188] + 2027.3400000000001 compressor[188] + 40.546800000000005 fan[189] + 2027.3400000000001 compressor[189] + 40.546800000000005 fan[190] + 2027.3400000000001 compressor[190] + 40.546800000000005 fan[191] + 2027.3400000000001 compressor[191] + 40.546800000000005 fan[192] + 2027.3400000000001 compressor[192] + 40.546800000000005 fan[193] + 2027.3400000000001 compressor[193] + 40.546800000000005 fan[194] + 2027.3400000000001 compressor[194] + 40.546800000000005 fan[195] + 2027.3400000000001 compressor[195] + 40.54679999999999 fan[196] + 2027.3399999999997 compressor[196] + 40.546800000000005 fan[197] + 2027.3400000000001 compressor[197] + 40.546800000000005 fan[198] + 2027.3400000000001 compressor[198] + 40.546800000000005 fan[199] + 2027.3400000000001 compressor[199] + 40.546800000000005 fan[200] + 2027.3400000000001 compressor[200] + 40.54679999999999 fan[201] + 2027.3399999999997 compressor[201] + 40.546800000000005 fan[202] + 2027.3400000000001 compressor[202] + 40.546800000000005 fan[203] + 2027.3400000000001 compressor[203] + 40.546800000000005 fan[204] + 2027.3400000000001 compressor[204] + 40.546800000000005 fan[205] + 2027.3400000000001 compressor[205]\n",
    "#                      + 40.546800000000005 fan[206] + 2027.3400000000001 compressor[206] + 40.546800000000005 fan[207] + 2027.3400000000001 compressor[207] + 40.546800000000005 fan[208] + 2027.3400000000001 compressor[208] + 40.546800000000005 fan[209] + 2027.3400000000001 compressor[209] + 40.546800000000005 fan[210] + 2027.3400000000001 compressor[210] + 40.546800000000005 fan[211] + 2027.3400000000001 compressor[211] + 40.546800000000005 fan[212] + 2027.3400000000001 compressor[212] + 40.546800000000005 fan[213] + 2027.3400000000001 compressor[213] + 40.546800000000005 fan[214] + 2027.3400000000001 compressor[214] + 40.546800000000005 fan[215] + 2027.3400000000001 compressor[215] + 40.546800000000005 fan[216] + 2027.3400000000001 compressor[216] + 40.546800000000005 fan[217] + 2027.3400000000001 compressor[217] + 40.546800000000005 fan[218] + 2027.3400000000001 compressor[218] + 40.546800000000005 fan[219] + 2027.3400000000001 compressor[219] + 40.546800000000005 fan[220] + 2027.3400000000001 compressor[220] + 40.546800000000005 fan[221] + 2027.3400000000001 compressor[221] + 40.546800000000005 fan[222] + 2027.3400000000001 compressor[222] + 40.546800000000005 fan[223] + 2027.3400000000001 compressor[223] + 40.546800000000005 fan[224] + 2027.3400000000001 compressor[224] + 40.546800000000005 fan[225] + 2027.3400000000001 compressor[225] + 40.546800000000005 fan[226] + 2027.3400000000001 compressor[226] + 40.546800000000005 fan[227] + 2027.3400000000001 compressor[227] + 40.546800000000005 fan[228] + 2027.3400000000001 compressor[228] + 40.546800000000005 fan[229] + 2027.3400000000001 compressor[229] + 40.546800000000005 fan[230] + 2027.3400000000001 compressor[230] + 40.546800000000005 fan[231] + 2027.3400000000001 compressor[231] + 40.546800000000005 fan[232] + 2027.3400000000001 compressor[232] + 40.546800000000005 fan[233] + 2027.3400000000001 compressor[233] + 40.546800000000005 fan[234] + 2027.3400000000001 compressor[234] + 40.546800000000005 fan[235] + 2027.3400000000001 compressor[235] + 40.546800000000005 fan[236] + 2027.3400000000001 compressor[236] + 40.546800000000005 fan[237] + 2027.3400000000001 compressor[237] + 40.546800000000005 fan[238] + 2027.3400000000001 compressor[238] + 40.546800000000005 fan[239] + 2027.3400000000001 compressor[239] + 40.1459 fan[240] + 2007.295 compressor[240] + 40.1459 fan[241] + 2007.295 compressor[241] + 40.1459 fan[242] + 2007.295 compressor[242] + 40.1459 fan[243] + 2007.295 compressor[243] + 40.1459 fan[244] + 2007.295 compressor[244] + 40.1459 fan[245] + 2007.295 compressor[245] + 40.1459 fan[246] + 2007.295 compressor[246] + 40.1459 fan[247] + 2007.295 compressor[247] + 40.1459 fan[248] + 2007.295 compressor[248] + 40.1459 fan[249] + 2007.295 compressor[249] + 40.1459 fan[250] + 2007.295 compressor[250] + 40.1459 fan[251] + 2007.295 compressor[251] + 40.1459 fan[252] + 2007.295 compressor[252] + 40.1459 fan[253] + 2007.295 compressor[253] + 40.1459 fan[254] + 2007.295 compressor[254] + 40.1459 fan[255] + 2007.295 compressor[255] + 40.1459 fan[256] + 2007.295 compressor[256] + 40.1459 fan[257] + 2007.295 compressor[257] + 40.1459 fan[258] + 2007.295 compressor[258] + 40.1459 fan[259] + 2007.295 compressor[259] + 40.1459 fan[260] + 2007.295 compressor[260] + 40.1459 fan[261] + 2007.295 compressor[261] + 40.1459 fan[262] + 2007.295 compressor[262] + 40.1459 fan[263] + 2007.295 compressor[263] + 40.1459 fan[264] + 2007.295 compressor[264] + 40.1459 fan[265] + 2007.295 compressor[265] + 40.1459 fan[266] + 2007.295 compressor[266] + 40.1459 fan[267] + 2007.295 compressor[267] + 40.1459 fan[268] + 2007.295 compressor[268] + 40.1459 fan[269] + 2007.295 compressor[269] + 40.1459 fan[270] + 2007.295 compressor[270] + 40.1459 fan[271] + 2007.295 compressor[271] + 40.1459 fan[272] + 2007.295 compressor[272] + 40.1459 fan[273] + 2007.295 compressor[273] + 40.1459 fan[274] + 2007.295 compressor[274] + 40.1459 fan[275] + 2007.295 compressor[275] + 40.1459 fan[276] + 2007.295 compressor[276] + 40.1459 fan[277] + 2007.295 compressor[277] + 40.1459 fan[278] + 2007.295 compressor[278] + 40.1459 fan[279] + 2007.295 compressor[279] + 40.1459 fan[280] + 2007.295 compressor[280] + 40.1459 fan[281] + 2007.295 compressor[281] + 40.1459 fan[282] + 2007.295 compressor[282] + 40.1459 fan[283] + 2007.295 compressor[283] + 40.1459 fan[284] + 2007.295 compressor[284] + 40.1459 fan[285] + 2007.295 compressor[285] + 40.1459 fan[286] + 2007.295 compressor[286] + 40.1459 fan[287] + 2007.295 compressor[287] + 40.1459 fan[288] + 2007.295 compressor[288] + 40.1459 fan[289] + 2007.295 compressor[289] + 40.1459 fan[290] + 2007.295 compressor[290] + 40.1459 fan[291] + 2007.295 compressor[291] + 40.1459 fan[292] + 2007.295 compressor[292] + 40.1459 fan[293] + 2007.295 compressor[293] + 40.1459 fan[294] + 2007.295 compressor[294] + 40.1459 fan[295] + 2007.295 compressor[295] + 40.1459 fan[296] + 2007.295 compressor[296] + 40.1459 fan[297] + 2007.295 compressor[297] + 40.1459 fan[298] + 2007.295 compressor[298] + 40.1459 fan[299] + 2007.295 compressor[299] + 40.263099999999994 fan[300] + 2013.1549999999997 compressor[300] + 40.263099999999994 fan[301] + 2013.1549999999997 compressor[301] + 40.263099999999994 fan[302] + 2013.1549999999997 compressor[302] + 40.263099999999994 fan[303] + 2013.1549999999997 compressor[303] + 40.263099999999994 fan[304] + 2013.1549999999997 compressor[304] + 40.263099999999994 fan[305] + 2013.1549999999997 compressor[305] + 40.263099999999994 fan[306] + 2013.1549999999997 compressor[306] + 40.263099999999994 fan[307] + 2013.1549999999997 compressor[307] + 40.263099999999994 fan[308] + 2013.1549999999997 compressor[308] + 40.263099999999994 fan[309] + 2013.1549999999997 compressor[309] + 40.263099999999994 fan[310] + 2013.1549999999997 compressor[310] + 40.263099999999994 fan[311] + 2013.1549999999997 compressor[311] + 40.263099999999994 fan[312] + 2013.1549999999997 compressor[312] + 40.263099999999994 fan[313] + 2013.1549999999997 compressor[313] + 40.263099999999994 fan[314] + 2013.1549999999997 compressor[314] + 40.263099999999994 fan[315] + 2013.1549999999997 compressor[315] + 40.263099999999994 fan[316] + 2013.1549999999997 compressor[316] + 40.263099999999994 fan[317] + 2013.1549999999997 compressor[317] + 40.263099999999994 fan[318] + 2013.1549999999997 compressor[318] + 40.263099999999994 fan[319] + 2013.1549999999997 compressor[319] + 40.263099999999994 fan[320] + 2013.1549999999997 compressor[320] + 40.263099999999994 fan[321] + 2013.1549999999997 compressor[321] + 40.263099999999994 fan[322] + 2013.1549999999997 compressor[322] + 40.263099999999994 fan[323] + 2013.1549999999997 compressor[323] + 40.263099999999994 fan[324] + 2013.1549999999997 compressor[324] + 40.263099999999994 fan[325] + 2013.1549999999997 compressor[325] + 40.263099999999994 fan[326] + 2013.1549999999997 compressor[326] + 40.263099999999994 fan[327] + 2013.1549999999997 compressor[327] + 40.263099999999994 fan[328] + 2013.1549999999997 compressor[328] + 40.263099999999994 fan[329] + 2013.1549999999997 compressor[329] + 40.263099999999994 fan[330] + 2013.1549999999997 compressor[330] + 40.263099999999994 fan[331] + 2013.1549999999997 compressor[331] + 40.263099999999994 fan[332] + 2013.1549999999997 compressor[332] + 40.263099999999994 fan[333] + 2013.1549999999997 compressor[333] + 40.263099999999994 fan[334] + 2013.1549999999997 compressor[334] + 40.263099999999994 fan[335] + 2013.1549999999997 compressor[335] + 40.263099999999994 fan[336] + 2013.1549999999997 compressor[336] + 40.263099999999994 fan[337] + 2013.1549999999997 compressor[337] + 40.263099999999994 fan[338] + 2013.1549999999997 compressor[338] + 40.263099999999994 fan[339] + 2013.1549999999997 compressor[339] + 40.263099999999994 fan[340] + 2013.1549999999997 compressor[340] + 40.263099999999994 fan[341] + 2013.1549999999997 compressor[341] + 40.263099999999994 fan[342] + 2013.1549999999997 compressor[342] + 40.263099999999994 fan[343] + 2013.1549999999997 compressor[343] + 40.263099999999994 fan[344] + 2013.1549999999997 compressor[344] + 40.263099999999994 fan[345] + 2013.1549999999997 compressor[345] + 40.263099999999994 fan[346] + 2013.1549999999997 compressor[346] + 40.263099999999994 fan[347] + 2013.1549999999997 compressor[347] + 40.263099999999994 fan[348] + 2013.1549999999997 compressor[348] + 40.263099999999994 fan[349] + 2013.1549999999997 compressor[349] + 40.263099999999994 fan[350] + 2013.1549999999997 compressor[350] + 40.263099999999994 fan[351] + 2013.1549999999997 compressor[351] + 40.263099999999994 fan[352] + 2013.1549999999997 compressor[352] + 40.263099999999994 fan[353] + 2013.1549999999997 compressor[353] + 40.263099999999994 fan[354] + 2013.1549999999997 compressor[354] + 40.263099999999994 fan[355] + 2013.1549999999997 compressor[355] + 40.263099999999994 fan[356] + 2013.1549999999997 compressor[356] + 40.263099999999994 fan[357] + 2013.1549999999997 compressor[357] + 40.263099999999994 fan[358] + 2013.1549999999997 compressor[358] + 40.263099999999994 fan[359] + 2013.1549999999997 compressor[359] + 41.613499999999995 fan[360] + 2080.6749999999997 compressor[360] + 41.61349999999999 fan[361] + 2080.6749999999993 compressor[361] + 41.613499999999995 fan[362] + 2080.6749999999997 compressor[362] + 41.613499999999995 fan[363] + 2080.6749999999997 compressor[363] + 41.613499999999995 fan[364] + 2080.6749999999997 compressor[364] + 41.613499999999995 fan[365] + 2080.6749999999997 compressor[365] + 41.613499999999995 fan[366] + 2080.6749999999997 compressor[366] + 41.613499999999995 fan[367] + 2080.6749999999997 compressor[367] + 41.613499999999995 fan[368] + 2080.6749999999997 compressor[368] + 41.613499999999995 fan[369] + 2080.6749999999997 compressor[369] + 41.613499999999995 fan[370] + 2080.6749999999997 compressor[370] + 41.613499999999995 fan[371] + 2080.6749999999997 compressor[371] + 41.613499999999995 fan[372] + 2080.6749999999997 compressor[372] + 41.613499999999995 fan[373] + 2080.6749999999997 compressor[373] + 41.613499999999995 fan[374] + 2080.6749999999997 compressor[374] + 41.613499999999995 fan[375] + 2080.6749999999997 compressor[375] + 41.613499999999995 fan[376] + 2080.6749999999997 compressor[376] + 41.613499999999995 fan[377] + 2080.6749999999997 compressor[377]\n",
    "#                      + 41.613499999999995 fan[378] + 2080.6749999999997 compressor[378] + 41.613499999999995 fan[379] + 2080.6749999999997 compressor[379] + 41.613499999999995 fan[380] + 2080.6749999999997 compressor[380] + 41.613499999999995 fan[381] + 2080.6749999999997 compressor[381] + 41.613499999999995 fan[382] + 2080.6749999999997 compressor[382] + 41.613499999999995 fan[383] + 2080.6749999999997 compressor[383] + 41.61349999999999 fan[384] + 2080.6749999999993 compressor[384] + 41.613499999999995 fan[385] + 2080.6749999999997 compressor[385] + 41.61349999999999 fan[386] + 2080.6749999999993 compressor[386] + 41.613499999999995 fan[387] + 2080.6749999999997 compressor[387] + 41.613499999999995 fan[388] + 2080.6749999999997 compressor[388] + 41.613499999999995 fan[389] + 2080.6749999999997 compressor[389] + 41.613499999999995 fan[390] + 2080.6749999999997 compressor[390] + 41.613499999999995 fan[391] + 2080.6749999999997 compressor[391] + 41.613499999999995 fan[392] + 2080.6749999999997 compressor[392] + 41.613499999999995 fan[393] + 2080.6749999999997 compressor[393] + 41.613499999999995 fan[394] + 2080.6749999999997 compressor[394] + 41.613499999999995 fan[395] + 2080.6749999999997 compressor[395] + 41.613499999999995 fan[396] + 2080.6749999999997 compressor[396] + 41.613499999999995 fan[397] + 2080.6749999999997 compressor[397] + 41.613499999999995 fan[398] + 2080.6749999999997 compressor[398] + 41.613499999999995 fan[399] + 2080.6749999999997 compressor[399] + 41.613499999999995 fan[400] + 2080.6749999999997 compressor[400] + 41.613499999999995 fan[401] + 2080.6749999999997 compressor[401] + 41.613499999999995 fan[402] + 2080.6749999999997 compressor[402] + 41.613499999999995 fan[403] + 2080.6749999999997 compressor[403] + 41.613499999999995 fan[404] + 2080.6749999999997 compressor[404] + 41.613499999999995 fan[405] + 2080.6749999999997 compressor[405] + 41.613499999999995 fan[406] + 2080.6749999999997 compressor[406] + 41.613499999999995 fan[407] + 2080.6749999999997 compressor[407] + 41.613499999999995 fan[408] + 2080.6749999999997 compressor[408] + 41.613499999999995 fan[409] + 2080.6749999999997 compressor[409] + 41.613499999999995 fan[410] + 2080.6749999999997 compressor[410] + 41.613499999999995 fan[411] + 2080.6749999999997 compressor[411] + 41.613499999999995 fan[412] + 2080.6749999999997 compressor[412] + 41.613499999999995 fan[413] + 2080.6749999999997 compressor[413] + 41.613499999999995 fan[414] + 2080.6749999999997 compressor[414] + 41.613499999999995 fan[415] + 2080.6749999999997 compressor[415] + 41.613499999999995 fan[416] + 2080.6749999999997 compressor[416] + 41.613499999999995 fan[417] + 2080.6749999999997 compressor[417] + 41.613499999999995 fan[418] + 2080.6749999999997 compressor[418] + 41.613499999999995 fan[419] + 2080.6749999999997 compressor[419] + 42.4251 fan[420] + 2121.255 compressor[420] + 42.4251 fan[421] + 2121.255 compressor[421] + 42.4251 fan[422] + 2121.255 compressor[422] + 42.4251 fan[423] + 2121.255 compressor[423] + 42.4251 fan[424] + 2121.255 compressor[424] + 42.4251 fan[425] + 2121.255 compressor[425] + 42.4251 fan[426] + 2121.255 compressor[426] + 42.4251 fan[427] + 2121.255 compressor[427] + 42.4251 fan[428] + 2121.255 compressor[428] + 42.4251 fan[429] + 2121.255 compressor[429] + 42.4251 fan[430] + 2121.255 compressor[430] + 42.4251 fan[431] + 2121.255 compressor[431] + 42.4251 fan[432] + 2121.255 compressor[432] + 42.4251 fan[433] + 2121.255 compressor[433] + 42.4251 fan[434] + 2121.255 compressor[434] + 42.42509999999999 fan[435] + 2121.2549999999997 compressor[435] + 42.425100000000015 fan[436] + 2121.2550000000006 compressor[436] + 42.4251 fan[437] + 2121.255 compressor[437] + 42.4251 fan[438] + 2121.255 compressor[438] + 42.4251 fan[439] + 2121.255 compressor[439] + 42.4251 fan[440] + 2121.255 compressor[440] + 42.4251 fan[441] + 2121.255 compressor[441] + 42.4251 fan[442] + 2121.255 compressor[442] + 42.4251 fan[443] + 2121.255 compressor[443] + 42.4251 fan[444] + 2121.255 compressor[444] + 42.4251 fan[445] + 2121.255 compressor[445] + 42.4251 fan[446] + 2121.255 compressor[446] + 42.4251 fan[447] + 2121.255 compressor[447] + 42.42509999999999 fan[448] + 2121.2549999999997 compressor[448] + 42.4251 fan[449] + 2121.255 compressor[449] + 42.4251 fan[450] + 2121.255 compressor[450] + 42.4251 fan[451] + 2121.255 compressor[451] + 42.4251 fan[452] + 2121.255 compressor[452] + 42.4251 fan[453] + 2121.255 compressor[453] + 42.4251 fan[454] + 2121.255 compressor[454] + 42.4251 fan[455] + 2121.255 compressor[455] + 42.4251 fan[456] + 2121.255 compressor[456] + 42.4251 fan[457] + 2121.255 compressor[457] + 42.4251 fan[458] + 2121.255 compressor[458] + 42.4251 fan[459] + 2121.255 compressor[459] + 42.4251 fan[460] + 2121.255 compressor[460] + 42.4251 fan[461] + 2121.255 compressor[461] + 42.4251 fan[462] + 2121.255 compressor[462] + 42.4251 fan[463] + 2121.255 compressor[463] + 42.4251 fan[464] + 2121.255 compressor[464] + 42.4251 fan[465] + 2121.255 compressor[465] + 42.4251 fan[466] + 2121.255 compressor[466] + 42.4251 fan[467] + 2121.255 compressor[467] + 42.4251 fan[468] + 2121.255 compressor[468] + 42.4251 fan[469] + 2121.255 compressor[469] + 42.4251 fan[470] + 2121.255 compressor[470] + 42.4251 fan[471] + 2121.255 compressor[471] + 42.4251 fan[472] + 2121.255 compressor[472] + 42.4251 fan[473] + 2121.255 compressor[473] + 42.4251 fan[474] + 2121.255 compressor[474] + 42.4251 fan[475] + 2121.255 compressor[475] + 42.4251 fan[476] + 2121.255 compressor[476] + 42.425100000000015 fan[477] + 2121.2550000000006 compressor[477] + 42.4251 fan[478] + 2121.255 compressor[478] + 42.4251 fan[479] + 2121.255 compressor[479] + 44.997600000000006 fan[480] + 2249.88 compressor[480] + 44.997600000000006 fan[481] + 2249.88 compressor[481] + 44.997600000000006 fan[482] + 2249.88 compressor[482] + 44.997600000000006 fan[483] + 2249.88 compressor[483] + 44.997600000000006 fan[484] + 2249.88 compressor[484] + 44.997600000000006 fan[485] + 2249.88 compressor[485] + 44.997600000000006 fan[486] + 2249.88 compressor[486] + 44.997600000000006 fan[487] + 2249.88 compressor[487] + 44.997600000000006 fan[488] + 2249.88 compressor[488] + 44.997600000000006 fan[489] + 2249.88 compressor[489] + 44.997600000000006 fan[490] + 2249.88 compressor[490] + 44.997600000000006 fan[491] + 2249.88 compressor[491] + 44.997600000000006 fan[492] + 2249.88 compressor[492] + 44.997600000000006 fan[493] + 2249.88 compressor[493] + 44.997600000000006 fan[494] + 2249.88 compressor[494] + 44.997600000000006 fan[495] + 2249.88 compressor[495] + 44.997600000000006 fan[496] + 2249.88 compressor[496] + 44.997600000000006 fan[497] + 2249.88 compressor[497] + 44.997600000000006 fan[498] + 2249.88 compressor[498] + 44.997600000000006 fan[499] + 2249.88 compressor[499] + 44.997600000000006 fan[500] + 2249.88 compressor[500] + 44.997600000000006 fan[501] + 2249.88 compressor[501] + 44.997600000000006 fan[502] + 2249.88 compressor[502] + 44.997600000000006 fan[503] + 2249.88 compressor[503] + 44.997600000000006 fan[504] + 2249.88 compressor[504] + 44.997600000000006 fan[505] + 2249.88 compressor[505] + 44.997600000000006 fan[506] + 2249.88 compressor[506] + 44.997600000000006 fan[507] + 2249.88 compressor[507] + 44.997600000000006 fan[508] + 2249.88 compressor[508] + 44.997600000000006 fan[509] + 2249.88 compressor[509] + 44.997600000000006 fan[510] + 2249.88 compressor[510] + 44.997600000000006 fan[511] + 2249.88 compressor[511] + 44.997600000000006 fan[512] + 2249.88 compressor[512] + 44.997600000000006 fan[513] + 2249.88 compressor[513] + 44.997600000000006 fan[514] + 2249.88 compressor[514] + 44.997600000000006 fan[515] + 2249.88 compressor[515] + 44.997600000000006 fan[516] + 2249.88 compressor[516] + 44.997600000000006 fan[517] + 2249.88 compressor[517] + 44.997600000000006 fan[518] + 2249.88 compressor[518] + 44.997600000000006 fan[519] + 2249.88 compressor[519] + 44.997600000000006 fan[520] + 2249.88 compressor[520] + 44.997600000000006 fan[521] + 2249.88 compressor[521] + 44.997600000000006 fan[522] + 2249.88 compressor[522] + 44.997600000000006 fan[523] + 2249.88 compressor[523] + 44.997600000000006 fan[524] + 2249.88 compressor[524] + 44.997600000000006 fan[525] + 2249.88 compressor[525] + 44.997600000000006 fan[526] + 2249.88 compressor[526] + 44.997600000000006 fan[527] + 2249.88 compressor[527] + 44.997600000000006 fan[528] + 2249.88 compressor[528] + 44.997600000000006 fan[529] + 2249.88 compressor[529] + 44.997600000000006 fan[530] + 2249.88 compressor[530] + 44.997600000000006 fan[531] + 2249.88 compressor[531] + 44.997600000000006 fan[532] + 2249.88 compressor[532] + 44.997600000000006 fan[533] + 2249.88 compressor[533] + 44.997600000000006 fan[534] + 2249.88 compressor[534] + 44.997600000000006 fan[535] + 2249.88 compressor[535] + 44.997600000000006 fan[536] + 2249.88 compressor[536] + 44.997600000000006 fan[537] + 2249.88 compressor[537] + 44.997600000000006 fan[538] + 2249.88 compressor[538] + 44.997600000000006 fan[539] + 2249.88 compressor[539] + 45.9363 fan[540] + 2296.815 compressor[540] + 45.9363 fan[541] + 2296.815 compressor[541] + 45.93629999999999 fan[542] + 2296.8149999999996 compressor[542] + 45.9363 fan[543] + 2296.815 compressor[543] + 45.9363 fan[544] + 2296.815 compressor[544] + 45.9363 fan[545] + 2296.815 compressor[545] + 45.93629999999999 fan[546] + 2296.8149999999996 compressor[546] + 45.9363 fan[547] + 2296.815 compressor[547] + 45.9363 fan[548] + 2296.815 compressor[548] + 45.9363 fan[549] + 2296.815 compressor[549] + 45.9363 fan[550] + 2296.815 compressor[550] + 45.9363 fan[551] + 2296.815 compressor[551] + 45.9363 fan[552] + 2296.815 compressor[552] + 45.9363 fan[553] + 2296.815 compressor[553] + 45.9363 fan[554] + 2296.815 compressor[554] + 45.9363 fan[555] + 2296.815 compressor[555] + 45.9363 fan[556] + 2296.815 compressor[556] + 45.9363 fan[557] + 2296.815 compressor[557] + 45.9363 fan[558] + 2296.815 compressor[558] + 45.9363 fan[559] + 2296.815 compressor[559] + 45.9363 fan[560] + 2296.815 compressor[560] + 45.9363 fan[561] + 2296.815 compressor[561] + 45.9363 fan[562] + 2296.815 compressor[562] + 45.9363 fan[563] + 2296.815 compressor[563] + 45.9363 fan[564] + 2296.815 compressor[564] + 45.9363 fan[565] + 2296.815 compressor[565] + 45.9363 fan[566] + 2296.815 compressor[566] + 45.9363 fan[567] + 2296.815 compressor[567] + 45.93629999999999 fan[568] + 2296.8149999999996 compressor[568] + 45.93630000000001 fan[569] + 2296.8150000000005 compressor[569] + 45.9363 fan[570] + 2296.815 compressor[570] + 45.9363 fan[571] + 2296.815 compressor[571] + 45.9363 fan[572] + 2296.815 compressor[572] + 45.9363 fan[573] + 2296.815 compressor[573] + 45.9363 fan[574] + 2296.815 compressor[574] + 45.9363 fan[575] + 2296.815 compressor[575] + 45.9363 fan[576] + 2296.815 compressor[576] + 45.9363 fan[577] + 2296.815 compressor[577] + 45.9363 fan[578] + 2296.815 compressor[578] + 45.9363 fan[579] + 2296.815 compressor[579] + 45.9363 fan[580] + 2296.815 compressor[580] + 45.9363 fan[581] + 2296.815 compressor[581] + 45.9363 fan[582] + 2296.815 compressor[582] + 45.9363 fan[583] + 2296.815 compressor[583] + 45.9363 fan[584] + 2296.815 compressor[584] + 45.9363 fan[585] + 2296.815 compressor[585] + 45.9363 fan[586] + 2296.815 compressor[586] + 45.9363 fan[587] + 2296.815 compressor[587] + 45.9363 fan[588] + 2296.815 compressor[588] + 45.9363 fan[589] + 2296.815 compressor[589] + 45.9363 fan[590] + 2296.815 compressor[590] + 45.9363 fan[591] + 2296.815 compressor[591] + 45.9363 fan[592] + 2296.815 compressor[592] + 45.9363 fan[593] + 2296.815 compressor[593] + 45.9363 fan[594] + 2296.815 compressor[594] + 45.9363 fan[595] + 2296.815 compressor[595] + 45.9363 fan[596] + 2296.815 compressor[596] + 45.9363 fan[597] + 2296.815 compressor[597] + 45.9363 fan[598] + 2296.815 compressor[598] + 45.9363 fan[599] + 2296.815 compressor[599] + 47.739399999999996 fan[600] + 2386.97 compressor[600] + 47.739399999999996 fan[601] + 2386.97 compressor[601] + 47.739399999999996 fan[602] + 2386.97 compressor[602] + 47.739399999999996 fan[603] + 2386.97 compressor[603] + 47.739399999999996 fan[604] + 2386.97 compressor[604] + 47.739399999999996 fan[605] + 2386.97 compressor[605] + 47.739399999999996 fan[606] + 2386.97 compressor[606] + 47.739399999999996 fan[607] + 2386.97 compressor[607] + 47.739399999999996 fan[608] + 2386.97 compressor[608] + 47.739399999999996 fan[609] + 2386.97 compressor[609] + 47.739399999999996 fan[610] + 2386.97 compressor[610] + 47.739399999999996 fan[611] + 2386.97 compressor[611] + 47.739399999999996 fan[612] + 2386.97 compressor[612] + 47.739399999999996 fan[613] + 2386.97 compressor[613] + 47.739399999999996 fan[614] + 2386.97 compressor[614] + 47.739399999999996 fan[615] + 2386.97 compressor[615] + 47.739399999999996 fan[616] + 2386.97 compressor[616] + 47.739399999999996 fan[617] + 2386.97 compressor[617] + 47.739399999999996 fan[618] + 2386.97 compressor[618] + 47.739399999999996 fan[619] + 2386.97 compressor[619] + 47.739399999999996 fan[620] + 2386.97 compressor[620] + 47.739399999999996 fan[621] + 2386.97 compressor[621] + 47.739399999999996 fan[622] + 2386.97 compressor[622] + 47.739399999999996 fan[623] + 2386.97 compressor[623] + 47.739399999999996 fan[624] + 2386.97 compressor[624] + 47.739399999999996 fan[625] + 2386.97 compressor[625] + 47.739399999999996 fan[626] + 2386.97 compressor[626] + 47.739399999999996 fan[627] + 2386.97 compressor[627] + 47.739399999999996 fan[628] + 2386.97 compressor[628] + 47.739399999999996 fan[629] + 2386.97 compressor[629] + 47.739399999999996 fan[630] + 2386.97 compressor[630] + 47.739399999999996 fan[631] + 2386.97 compressor[631] + 47.739399999999996 fan[632] + 2386.97 compressor[632] + 47.739399999999996 fan[633] + 2386.97 compressor[633] + 47.739399999999996 fan[634] + 2386.97 compressor[634] + 47.739399999999996 fan[635] + 2386.97 compressor[635] + 47.739399999999996 fan[636] + 2386.97 compressor[636] + 47.739399999999996 fan[637] + 2386.97 compressor[637] + 47.739399999999996 fan[638] + 2386.97 compressor[638] + 47.739399999999996 fan[639] + 2386.97 compressor[639] + 47.739399999999996 fan[640] + 2386.97 compressor[640] + 47.739399999999996 fan[641] + 2386.97 compressor[641] + 47.739399999999996 fan[642] + 2386.97 compressor[642] + 47.739399999999996 fan[643] + 2386.97 compressor[643] + 47.739399999999996 fan[644] + 2386.97 compressor[644] + 47.739399999999996 fan[645] + 2386.97 compressor[645] + 47.739399999999996 fan[646] + 2386.97 compressor[646] + 47.739399999999996 fan[647] + 2386.97 compressor[647] + 47.739399999999996 fan[648] + 2386.97 compressor[648] + 47.739399999999996 fan[649] + 2386.97 compressor[649] + 47.739399999999996 fan[650] + 2386.97 compressor[650]\n",
    "#                      + 47.739399999999996 fan[651] + 2386.97 compressor[651] + 47.739399999999996 fan[652] + 2386.97 compressor[652] + 47.739399999999996 fan[653] + 2386.97 compressor[653] + 47.739399999999996 fan[654] + 2386.97 compressor[654] + 47.739399999999996 fan[655] + 2386.97 compressor[655] + 47.739399999999996 fan[656] + 2386.97 compressor[656] + 47.739399999999996 fan[657] + 2386.97 compressor[657] + 47.739399999999996 fan[658] + 2386.97 compressor[658] + 47.739399999999996 fan[659] + 2386.97 compressor[659] + 48.0014 fan[660] + 2400.0699999999997 compressor[660] + 48.0014 fan[661] + 2400.0699999999997 compressor[661] + 48.0014 fan[662] + 2400.0699999999997 compressor[662] + 48.0014 fan[663] + 2400.0699999999997 compressor[663] + 48.0014 fan[664] + 2400.0699999999997 compressor[664] + 48.0014 fan[665] + 2400.0699999999997 compressor[665] + 48.0014 fan[666] + 2400.0699999999997 compressor[666] + 48.0014 fan[667] + 2400.0699999999997 compressor[667] + 48.001400000000004 fan[668] + 2400.07 compressor[668] + 48.0014 fan[669] + 2400.0699999999997 compressor[669] + 48.0014 fan[670] + 2400.0699999999997 compressor[670] + 48.0014 fan[671] + 2400.0699999999997 compressor[671] + 48.0014 fan[672] + 2400.0699999999997 compressor[672] + 48.0014 fan[673] + 2400.0699999999997 compressor[673] + 48.0014 fan[674] + 2400.0699999999997 compressor[674] + 48.0014 fan[675] + 2400.0699999999997 compressor[675] + 48.0014 fan[676] + 2400.0699999999997 compressor[676] + 48.0014 fan[677] + 2400.0699999999997 compressor[677] + 48.0014 fan[678] + 2400.0699999999997 compressor[678] + 48.001400000000004 fan[679] + 2400.07 compressor[679] + 48.0014 fan[680] + 2400.0699999999997 compressor[680] + 48.0014 fan[681] + 2400.0699999999997 compressor[681] + 48.0014 fan[682] + 2400.0699999999997 compressor[682] + 48.0014 fan[683] + 2400.0699999999997 compressor[683] + 48.001400000000004 fan[684] + 2400.07 compressor[684] + 48.0014 fan[685] + 2400.0699999999997 compressor[685] + 48.0014 fan[686] + 2400.0699999999997 compressor[686] + 48.0014 fan[687] + 2400.0699999999997 compressor[687] + 48.00139999999999 fan[688] + 2400.0699999999997 compressor[688] + 48.0014 fan[689] + 2400.0699999999997 compressor[689] + 48.0014 fan[690] + 2400.0699999999997 compressor[690] + 48.0014 fan[691] + 2400.0699999999997 compressor[691] + 48.0014 fan[692] + 2400.0699999999997 compressor[692] + 48.0014 fan[693] + 2400.0699999999997 compressor[693] + 48.0014 fan[694] + 2400.0699999999997 compressor[694] + 48.0014 fan[695] + 2400.0699999999997 compressor[695] + 48.0014 fan[696] + 2400.0699999999997 compressor[696] + 48.0014 fan[697] + 2400.0699999999997 compressor[697] + 48.0014 fan[698] + 2400.0699999999997 compressor[698] + 48.0014 fan[699] + 2400.0699999999997 compressor[699] + 48.0014 fan[700] + 2400.0699999999997 compressor[700] + 48.0014 fan[701] + 2400.0699999999997 compressor[701] + 48.0014 fan[702] + 2400.0699999999997 compressor[702] + 48.0014 fan[703] + 2400.0699999999997 compressor[703] + 48.0014 fan[704] + 2400.0699999999997 compressor[704] + 48.0014 fan[705] + 2400.0699999999997 compressor[705] + 48.0014 fan[706] + 2400.0699999999997 compressor[706] + 48.0014 fan[707] + 2400.0699999999997 compressor[707] + 48.0014 fan[708] + 2400.0699999999997 compressor[708] + 48.0014 fan[709] + 2400.0699999999997 compressor[709] + 48.0014 fan[710] + 2400.0699999999997 compressor[710] + 48.0014 fan[711] + 2400.0699999999997 compressor[711] + 48.0014 fan[712] + 2400.0699999999997 compressor[712] + 48.0014 fan[713] + 2400.0699999999997 compressor[713] + 48.0014 fan[714] + 2400.0699999999997 compressor[714] + 48.0014 fan[715] + 2400.0699999999997 compressor[715] + 48.0014 fan[716] + 2400.0699999999997 compressor[716] + 48.0014 fan[717] + 2400.0699999999997 compressor[717] + 48.0014 fan[718] + 2400.0699999999997 compressor[718] + 48.0014 fan[719] + 2400.0699999999997 compressor[719] + 47.8849 fan[720] + 2394.2450000000003 compressor[720] + 47.8849 fan[721] + 2394.2450000000003 compressor[721] + 47.8849 fan[722] + 2394.2450000000003 compressor[722] + 47.8849 fan[723] + 2394.2450000000003 compressor[723] + 47.8849 fan[724] + 2394.2450000000003 compressor[724] + 47.8849 fan[725] + 2394.2450000000003 compressor[725] + 47.884899999999995 fan[726] + 2394.245 compressor[726] + 47.8849 fan[727] + 2394.2450000000003 compressor[727] + 47.8849 fan[728] + 2394.2450000000003 compressor[728] + 47.8849 fan[729] + 2394.2450000000003 compressor[729] + 47.8849 fan[730] + 2394.2450000000003 compressor[730] + 47.8849 fan[731] + 2394.2450000000003 compressor[731] + 47.8849 fan[732] + 2394.2450000000003 compressor[732] + 47.8849 fan[733] + 2394.2450000000003 compressor[733] + 47.8849 fan[734] + 2394.2450000000003 compressor[734] + 47.8849 fan[735] + 2394.2450000000003 compressor[735] + 47.884900000000016 fan[736] + 2394.245000000001 compressor[736] + 47.8849 fan[737] + 2394.2450000000003 compressor[737] + 47.8849 fan[738] + 2394.2450000000003 compressor[738] + 47.8849 fan[739] + 2394.2450000000003 compressor[739] + 47.884899999999995 fan[740] + 2394.245 compressor[740] + 47.8849 fan[741] + 2394.2450000000003 compressor[741] + 47.8849 fan[742] + 2394.2450000000003 compressor[742] + 47.8849 fan[743] + 2394.2450000000003 compressor[743] + 47.8849 fan[744] + 2394.2450000000003 compressor[744] + 47.8849 fan[745] + 2394.2450000000003 compressor[745] + 47.8849 fan[746] + 2394.2450000000003 compressor[746] + 47.8849 fan[747] + 2394.2450000000003 compressor[747] + 47.884899999999995 fan[748] + 2394.245 compressor[748] + 47.884900000000016 fan[749] + 2394.245000000001 compressor[749] + 47.8849 fan[750] + 2394.2450000000003 compressor[750] + 47.8849 fan[751] + 2394.2450000000003 compressor[751] + 47.8849 fan[752] + 2394.2450000000003 compressor[752] + 47.8849 fan[753] + 2394.2450000000003 compressor[753] + 47.8849 fan[754] + 2394.2450000000003 compressor[754] + 47.8849 fan[755] + 2394.2450000000003 compressor[755] + 47.8849 fan[756] + 2394.2450000000003 compressor[756] + 47.8849 fan[757] + 2394.2450000000003 compressor[757] + 47.8849 fan[758] + 2394.2450000000003 compressor[758] + 47.8849 fan[759] + 2394.2450000000003 compressor[759] + 47.8849 fan[760] + 2394.2450000000003 compressor[760] + 47.8849 fan[761] + 2394.2450000000003 compressor[761] + 47.8849 fan[762] + 2394.2450000000003 compressor[762] + 47.8849 fan[763] + 2394.2450000000003 compressor[763] + 47.8849 fan[764] + 2394.2450000000003 compressor[764] + 47.8849 fan[765] + 2394.2450000000003 compressor[765] + 47.8849 fan[766] + 2394.2450000000003 compressor[766] + 47.8849 fan[767] + 2394.2450000000003 compressor[767] + 47.8849 fan[768] + 2394.2450000000003 compressor[768] + 47.8849 fan[769] + 2394.2450000000003 compressor[769] + 47.8849 fan[770] + 2394.2450000000003 compressor[770] + 47.8849 fan[771] + 2394.2450000000003 compressor[771] + 47.8849 fan[772] + 2394.2450000000003 compressor[772] + 47.8849 fan[773] + 2394.2450000000003 compressor[773] + 47.8849 fan[774] + 2394.2450000000003 compressor[774] + 47.884899999999995 fan[775] + 2394.245 compressor[775] + 47.8849 fan[776] + 2394.2450000000003 compressor[776] + 47.8849 fan[777] + 2394.2450000000003 compressor[777] + 47.8849 fan[778] + 2394.2450000000003 compressor[778] + 47.8849 fan[779] + 2394.2450000000003 compressor[779] + 47.575700000000005 fan[780] + 2378.7850000000003 compressor[780] + 47.575700000000005 fan[781] + 2378.7850000000003 compressor[781] + 47.575700000000005 fan[782] + 2378.7850000000003 compressor[782] + 47.575700000000005 fan[783] + 2378.7850000000003 compressor[783] + 47.575700000000005 fan[784] + 2378.7850000000003 compressor[784] + 47.575700000000005 fan[785] + 2378.7850000000003 compressor[785] + 47.575700000000005 fan[786] + 2378.7850000000003 compressor[786] + 47.575700000000005 fan[787] + 2378.7850000000003 compressor[787] + 47.575700000000005 fan[788] + 2378.7850000000003 compressor[788] + 47.575700000000005 fan[789] + 2378.7850000000003 compressor[789] + 47.575700000000005 fan[790] + 2378.7850000000003 compressor[790] + 47.575700000000005 fan[791] + 2378.7850000000003 compressor[791] + 47.575700000000005 fan[792] + 2378.7850000000003 compressor[792] + 47.575700000000005 fan[793] + 2378.7850000000003 compressor[793] + 47.575700000000005 fan[794] + 2378.7850000000003 compressor[794] + 47.5757 fan[795] + 2378.785 compressor[795] + 47.57570000000001 fan[796] + 2378.7850000000008 compressor[796] + 47.575700000000005 fan[797] + 2378.7850000000003 compressor[797] + 47.575700000000005 fan[798] + 2378.7850000000003 compressor[798] + 47.57570000000001 fan[799] + 2378.7850000000008 compressor[799] + 47.575700000000005 fan[800] + 2378.7850000000003 compressor[800] + 47.575700000000005 fan[801] + 2378.7850000000003 compressor[801] + 47.575700000000005 fan[802] + 2378.7850000000003 compressor[802] + 47.575700000000005 fan[803] + 2378.7850000000003 compressor[803] + 47.575700000000005 fan[804] + 2378.7850000000003 compressor[804] + 47.575700000000005 fan[805] + 2378.7850000000003 compressor[805] + 47.575700000000005 fan[806] + 2378.7850000000003 compressor[806] + 47.575700000000005 fan[807] + 2378.7850000000003 compressor[807] + 47.575700000000005 fan[808] + 2378.7850000000003 compressor[808] + 47.575700000000005 fan[809] + 2378.7850000000003 compressor[809] + 47.575700000000005 fan[810] + 2378.7850000000003 compressor[810] + 47.575700000000005 fan[811] + 2378.7850000000003 compressor[811] + 47.575700000000005 fan[812] + 2378.7850000000003 compressor[812] + 47.575700000000005 fan[813] + 2378.7850000000003 compressor[813] + 47.575700000000005 fan[814] + 2378.7850000000003 compressor[814] + 47.575700000000005 fan[815] + 2378.7850000000003 compressor[815] + 47.575700000000005 fan[816] + 2378.7850000000003 compressor[816] + 47.575700000000005 fan[817] + 2378.7850000000003 compressor[817] + 47.575700000000005 fan[818] + 2378.7850000000003 compressor[818] + 47.575700000000005 fan[819] + 2378.7850000000003 compressor[819] + 47.575700000000005 fan[820] + 2378.7850000000003 compressor[820] + 47.575700000000005 fan[821] + 2378.7850000000003 compressor[821] + 47.575700000000005 fan[822] + 2378.7850000000003 compressor[822] + 47.575700000000005 fan[823] + 2378.7850000000003 compressor[823] + 47.575700000000005 fan[824] + 2378.7850000000003 compressor[824] + 47.575700000000005 fan[825] + 2378.7850000000003 compressor[825]\n",
    "#                      + 47.575700000000005 fan[826] + 2378.7850000000003 compressor[826] + 47.575700000000005 fan[827] + 2378.7850000000003 compressor[827] + 47.575700000000005 fan[828] + 2378.7850000000003 compressor[828] + 47.575700000000005 fan[829] + 2378.7850000000003 compressor[829] + 47.575700000000005 fan[830] + 2378.7850000000003 compressor[830] + 47.57570000000001 fan[831] + 2378.7850000000008 compressor[831] + 47.575700000000005 fan[832] + 2378.7850000000003 compressor[832] + 47.575700000000005 fan[833] + 2378.7850000000003 compressor[833] + 47.575700000000005 fan[834] + 2378.7850000000003 compressor[834] + 47.575700000000005 fan[835] + 2378.7850000000003 compressor[835] + 47.575700000000005 fan[836] + 2378.7850000000003 compressor[836] + 47.575700000000005 fan[837] + 2378.7850000000003 compressor[837] + 47.575700000000005 fan[838] + 2378.7850000000003 compressor[838] + 47.575700000000005 fan[839] + 2378.7850000000003 compressor[839] + 47.7814 fan[840] + 2389.0699999999997 compressor[840] + 47.7814 fan[841] + 2389.0699999999997 compressor[841] + 47.7814 fan[842] + 2389.0699999999997 compressor[842] + 47.7814 fan[843] + 2389.0699999999997 compressor[843] + 47.7814 fan[844] + 2389.0699999999997 compressor[844] + 47.7814 fan[845] + 2389.0699999999997 compressor[845] + 47.7814 fan[846] + 2389.0699999999997 compressor[846] + 47.7814 fan[847] + 2389.0699999999997 compressor[847] + 47.7814 fan[848] + 2389.0699999999997 compressor[848] + 47.7814 fan[849] + 2389.0699999999997 compressor[849] + 47.7814 fan[850] + 2389.0699999999997 compressor[850] + 47.7814 fan[851] + 2389.0699999999997 compressor[851] + 47.7814 fan[852] + 2389.0699999999997 compressor[852] + 47.7814 fan[853] + 2389.0699999999997 compressor[853] + 47.7814 fan[854] + 2389.0699999999997 compressor[854] + 47.78139999999999 fan[855] + 2389.0699999999993 compressor[855] + 47.781400000000005 fan[856] + 2389.07 compressor[856] + 47.7814 fan[857] + 2389.0699999999997 compressor[857] + 47.7814 fan[858] + 2389.0699999999997 compressor[858] + 47.7814 fan[859] + 2389.0699999999997 compressor[859] + 47.7814 fan[860] + 2389.0699999999997 compressor[860] + 47.7814 fan[861] + 2389.0699999999997 compressor[861] + 47.7814 fan[862] + 2389.0699999999997 compressor[862] + 47.78139999999999 fan[863] + 2389.0699999999993 compressor[863] + 47.781400000000005 fan[864] + 2389.07 compressor[864] + 47.7814 fan[865] + 2389.0699999999997 compressor[865] + 47.7814 fan[866] + 2389.0699999999997 compressor[866] + 47.7814 fan[867] + 2389.0699999999997 compressor[867] + 47.78139999999999 fan[868] + 2389.0699999999993 compressor[868] + 47.7814 fan[869] + 2389.0699999999997 compressor[869] + 47.7814 fan[870] + 2389.0699999999997 compressor[870] + 47.7814 fan[871] + 2389.0699999999997 compressor[871] + 47.7814 fan[872] + 2389.0699999999997 compressor[872] + 47.7814 fan[873] + 2389.0699999999997 compressor[873] + 47.7814 fan[874] + 2389.0699999999997 compressor[874] + 47.7814 fan[875] + 2389.0699999999997 compressor[875] + 47.7814 fan[876] + 2389.0699999999997 compressor[876] + 47.7814 fan[877] + 2389.0699999999997 compressor[877] + 47.7814 fan[878] + 2389.0699999999997 compressor[878] + 47.7814 fan[879] + 2389.0699999999997 compressor[879] + 47.7814 fan[880] + 2389.0699999999997 compressor[880] + 47.7814 fan[881] + 2389.0699999999997 compressor[881] + 47.7814 fan[882] + 2389.0699999999997 compressor[882] + 47.7814 fan[883] + 2389.0699999999997 compressor[883] + 47.7814 fan[884] + 2389.0699999999997 compressor[884] + 47.7814 fan[885] + 2389.0699999999997 compressor[885] + 47.7814 fan[886] + 2389.0699999999997 compressor[886] + 47.7814 fan[887] + 2389.0699999999997 compressor[887] + 47.7814 fan[888] + 2389.0699999999997 compressor[888] + 47.7814 fan[889] + 2389.0699999999997 compressor[889] + 47.7814 fan[890] + 2389.0699999999997 compressor[890] + 47.7814 fan[891] + 2389.0699999999997 compressor[891] + 47.7814 fan[892] + 2389.0699999999997 compressor[892] + 47.781400000000005 fan[893] + 2389.07 compressor[893] + 47.7814 fan[894] + 2389.0699999999997 compressor[894] + 47.7814 fan[895] + 2389.0699999999997 compressor[895] + 47.78139999999999 fan[896] + 2389.0699999999993 compressor[896] + 47.7814 fan[897] + 2389.0699999999997 compressor[897] + 47.7814 fan[898] + 2389.0699999999997 compressor[898] + 47.7814 fan[899] + 2389.0699999999997 compressor[899] + 47.978300000000004 fan[900] + 2398.915 compressor[900] + 47.978300000000004 fan[901] + 2398.915 compressor[901] + 47.978300000000004 fan[902] + 2398.915 compressor[902] + 47.978300000000004 fan[903] + 2398.915 compressor[903] + 47.978300000000004 fan[904] + 2398.915 compressor[904] + 47.978300000000004 fan[905] + 2398.915 compressor[905] + 47.97829999999999 fan[906] + 2398.9149999999995 compressor[906] + 47.978300000000004 fan[907] + 2398.915 compressor[907] + 47.978300000000004 fan[908] + 2398.915 compressor[908] + 47.978300000000004 fan[909] + 2398.915 compressor[909] + 47.978300000000004 fan[910] + 2398.915 compressor[910] + 47.97830000000001 fan[911] + 2398.9150000000004 compressor[911] + 47.978300000000004 fan[912] + 2398.915 compressor[912] + 47.978300000000004 fan[913] + 2398.915 compressor[913] + 47.978300000000004 fan[914] + 2398.915 compressor[914] + 47.97829999999999 fan[915] + 2398.9149999999995 compressor[915] + 47.97830000000001 fan[916] + 2398.9150000000004 compressor[916] + 47.978300000000004 fan[917] + 2398.915 compressor[917] + 47.978300000000004 fan[918] + 2398.915 compressor[918] + 47.978300000000004 fan[919] + 2398.915 compressor[919] + 47.97829999999999 fan[920] + 2398.9149999999995 compressor[920] + 47.978300000000004 fan[921] + 2398.915 compressor[921] + 47.978300000000004 fan[922] + 2398.915 compressor[922] + 47.978300000000004 fan[923] + 2398.915 compressor[923] + 47.978300000000004 fan[924] + 2398.915 compressor[924] + 47.978300000000004 fan[925] + 2398.915 compressor[925] + 47.978300000000004 fan[926] + 2398.915 compressor[926] + 47.978300000000004 fan[927] + 2398.915 compressor[927] + 47.978300000000004 fan[928] + 2398.915 compressor[928] + 47.978300000000004 fan[929] + 2398.915 compressor[929] + 47.978300000000004 fan[930] + 2398.915 compressor[930] + 47.978300000000004 fan[931] + 2398.915 compressor[931] + 47.978300000000004 fan[932] + 2398.915 compressor[932] + 47.978300000000004 fan[933] + 2398.915 compressor[933] + 47.978300000000004 fan[934] + 2398.915 compressor[934] + 47.978300000000004 fan[935] + 2398.915 compressor[935] + 47.978300000000004 fan[936] + 2398.915 compressor[936] + 47.978300000000004 fan[937] + 2398.915 compressor[937] + 47.978300000000004 fan[938] + 2398.915 compressor[938] + 47.978300000000004 fan[939] + 2398.915 compressor[939] + 47.978300000000004 fan[940] + 2398.915 compressor[940] + 47.978300000000004 fan[941] + 2398.915 compressor[941] + 47.978300000000004 fan[942] + 2398.915 compressor[942] + 47.978300000000004 fan[943] + 2398.915 compressor[943] + 47.978300000000004 fan[944] + 2398.915 compressor[944] + 47.978300000000004 fan[945] + 2398.915 compressor[945] + 47.978300000000004 fan[946] + 2398.915 compressor[946] + 47.978300000000004 fan[947] + 2398.915 compressor[947] + 47.978300000000004 fan[948] + 2398.915 compressor[948] + 47.978300000000004 fan[949] + 2398.915 compressor[949] + 47.97830000000001 fan[950] + 2398.9150000000004 compressor[950] + 47.978300000000004 fan[951] + 2398.915 compressor[951] + 47.978300000000004 fan[952] + 2398.915 compressor[952] + 47.978300000000004 fan[953] + 2398.915 compressor[953] + 47.978300000000004 fan[954] + 2398.915 compressor[954] + 47.978300000000004 fan[955] + 2398.915 compressor[955] + 47.978300000000004 fan[956] + 2398.915 compressor[956] + 47.978300000000004 fan[957] + 2398.915 compressor[957] + 47.978300000000004 fan[958] + 2398.915 compressor[958] + 47.978300000000004 fan[959] + 2398.915 compressor[959] + 47.67400000000001 fan[960] + 2383.7000000000003 compressor[960] + 47.67400000000001 fan[961] + 2383.7000000000003 compressor[961] + 47.67400000000001 fan[962] + 2383.7000000000003 compressor[962] + 47.67400000000001 fan[963] + 2383.7000000000003 compressor[963] + 47.67400000000001 fan[964] + 2383.7000000000003 compressor[964] + 47.67400000000001 fan[965] + 2383.7000000000003 compressor[965] + 47.67400000000001 fan[966] + 2383.7000000000003 compressor[966] + 47.67400000000001 fan[967] + 2383.7000000000003 compressor[967] + 47.67400000000001 fan[968] + 2383.7000000000003 compressor[968] + 47.67400000000001 fan[969] + 2383.7000000000003 compressor[969] + 47.67400000000001 fan[970] + 2383.7000000000003 compressor[970] + 47.67400000000001 fan[971] + 2383.7000000000003 compressor[971] + 47.67400000000001 fan[972] + 2383.7000000000003 compressor[972] + 47.67400000000001 fan[973] + 2383.7000000000003 compressor[973] + 47.67400000000001 fan[974] + 2383.7000000000003 compressor[974] + 47.67400000000001 fan[975] + 2383.7000000000003 compressor[975] + 47.67400000000001 fan[976] + 2383.7000000000003 compressor[976] + 47.67400000000001 fan[977] + 2383.7000000000003 compressor[977] + 47.67400000000001 fan[978] + 2383.7000000000003 compressor[978] + 47.67400000000001 fan[979] + 2383.7000000000003 compressor[979] + 47.67400000000001 fan[980] + 2383.7000000000003 compressor[980] + 47.67400000000001 fan[981] + 2383.7000000000003 compressor[981] + 47.67400000000001 fan[982] + 2383.7000000000003 compressor[982] + 47.67400000000001 fan[983] + 2383.7000000000003 compressor[983] + 47.67400000000001 fan[984] + 2383.7000000000003 compressor[984] + 47.67400000000001 fan[985] + 2383.7000000000003 compressor[985] + 47.67400000000001 fan[986] + 2383.7000000000003 compressor[986] + 47.67400000000001 fan[987] + 2383.7000000000003 compressor[987] + 47.67400000000001 fan[988] + 2383.7000000000003 compressor[988] + 47.67400000000001 fan[989] + 2383.7000000000003 compressor[989] + 47.67400000000001 fan[990] + 2383.7000000000003 compressor[990] + 47.67400000000001 fan[991] + 2383.7000000000003 compressor[991] + 47.67400000000001 fan[992] + 2383.7000000000003 compressor[992] + 47.67400000000001 fan[993] + 2383.7000000000003 compressor[993] + 47.67400000000001 fan[994] + 2383.7000000000003 compressor[994] + 47.67400000000001 fan[995] + 2383.7000000000003 compressor[995] + 47.67400000000001 fan[996] + 2383.7000000000003 compressor[996] + 47.67400000000001 fan[997] + 2383.7000000000003 compressor[997]\n",
    "#                      + 47.67400000000001 fan[998] + 2383.7000000000003 compressor[998] + 47.67400000000001 fan[999] + 2383.7000000000003 compressor[999] + 47.67400000000001 fan[1000] + 2383.7000000000003 compressor[1000] + 47.67400000000001 fan[1001] + 2383.7000000000003 compressor[1001] + 47.67400000000001 fan[1002] + 2383.7000000000003 compressor[1002] + 47.67400000000001 fan[1003] + 2383.7000000000003 compressor[1003] + 47.67400000000001 fan[1004] + 2383.7000000000003 compressor[1004] + 47.67400000000001 fan[1005] + 2383.7000000000003 compressor[1005] + 47.67400000000001 fan[1006] + 2383.7000000000003 compressor[1006] + 47.67400000000001 fan[1007] + 2383.7000000000003 compressor[1007] + 47.67400000000001 fan[1008] + 2383.7000000000003 compressor[1008] + 47.67400000000001 fan[1009] + 2383.7000000000003 compressor[1009] + 47.67400000000001 fan[1010] + 2383.7000000000003 compressor[1010] + 47.67400000000001 fan[1011] + 2383.7000000000003 compressor[1011] + 47.67400000000001 fan[1012] + 2383.7000000000003 compressor[1012] + 47.67400000000001 fan[1013] + 2383.7000000000003 compressor[1013] + 47.67400000000001 fan[1014] + 2383.7000000000003 compressor[1014] + 47.67400000000001 fan[1015] + 2383.7000000000003 compressor[1015] + 47.67400000000001 fan[1016] + 2383.7000000000003 compressor[1016] + 47.67400000000001 fan[1017] + 2383.7000000000003 compressor[1017] + 47.67400000000001 fan[1018] + 2383.7000000000003 compressor[1018] + 47.67400000000001 fan[1019] + 2383.7000000000003 compressor[1019] + 47.3724 fan[1020] + 2368.62 compressor[1020] + 47.3724 fan[1021] + 2368.62 compressor[1021] + 47.3724 fan[1022] + 2368.62 compressor[1022] + 47.3724 fan[1023] + 2368.62 compressor[1023] + 47.3724 fan[1024] + 2368.62 compressor[1024] + 47.3724 fan[1025] + 2368.62 compressor[1025] + 47.3724 fan[1026] + 2368.62 compressor[1026] + 47.3724 fan[1027] + 2368.62 compressor[1027] + 47.372400000000006 fan[1028] + 2368.6200000000003 compressor[1028] + 47.372400000000006 fan[1029] + 2368.6200000000003 compressor[1029] + 47.3724 fan[1030] + 2368.62 compressor[1030] + 47.3724 fan[1031] + 2368.62 compressor[1031] + 47.3724 fan[1032] + 2368.62 compressor[1032] + 47.3724 fan[1033] + 2368.62 compressor[1033] + 47.3724 fan[1034] + 2368.62 compressor[1034] + 47.3724 fan[1035] + 2368.62 compressor[1035] + 47.3724 fan[1036] + 2368.62 compressor[1036] + 47.3724 fan[1037] + 2368.62 compressor[1037] + 47.3724 fan[1038] + 2368.62 compressor[1038] + 47.3724 fan[1039] + 2368.62 compressor[1039] + 47.3724 fan[1040] + 2368.62 compressor[1040] + 47.3724 fan[1041] + 2368.62 compressor[1041] + 47.3724 fan[1042] + 2368.62 compressor[1042] + 47.3724 fan[1043] + 2368.62 compressor[1043] + 47.3724 fan[1044] + 2368.62 compressor[1044] + 47.3724 fan[1045] + 2368.62 compressor[1045] + 47.3724 fan[1046] + 2368.62 compressor[1046] + 47.3724 fan[1047] + 2368.62 compressor[1047] + 47.3724 fan[1048] + 2368.62 compressor[1048] + 47.3724 fan[1049] + 2368.62 compressor[1049] + 47.3724 fan[1050] + 2368.62 compressor[1050] + 47.3724 fan[1051] + 2368.62 compressor[1051] + 47.3724 fan[1052] + 2368.62 compressor[1052] + 47.3724 fan[1053] + 2368.62 compressor[1053] + 47.3724 fan[1054] + 2368.62 compressor[1054] + 47.3724 fan[1055] + 2368.62 compressor[1055] + 47.3724 fan[1056] + 2368.62 compressor[1056] + 47.3724 fan[1057] + 2368.62 compressor[1057] + 47.3724 fan[1058] + 2368.62 compressor[1058] + 47.3724 fan[1059] + 2368.62 compressor[1059] + 47.3724 fan[1060] + 2368.62 compressor[1060] + 47.3724 fan[1061] + 2368.62 compressor[1061] + 47.3724 fan[1062] + 2368.62 compressor[1062] + 47.3724 fan[1063] + 2368.62 compressor[1063] + 47.3724 fan[1064] + 2368.62 compressor[1064] + 47.3724 fan[1065] + 2368.62 compressor[1065] + 47.3724 fan[1066] + 2368.62 compressor[1066] + 47.3724 fan[1067] + 2368.62 compressor[1067] + 47.3724 fan[1068] + 2368.62 compressor[1068] + 47.3724 fan[1069] + 2368.62 compressor[1069] + 47.3724 fan[1070] + 2368.62 compressor[1070] + 47.3724 fan[1071] + 2368.62 compressor[1071] + 47.3724 fan[1072] + 2368.62 compressor[1072] + 47.3724 fan[1073] + 2368.62 compressor[1073] + 47.3724 fan[1074] + 2368.62 compressor[1074] + 47.3724 fan[1075] + 2368.62 compressor[1075] + 47.3724 fan[1076] + 2368.62 compressor[1076] + 47.3724 fan[1077] + 2368.62 compressor[1077] + 47.3724 fan[1078] + 2368.62 compressor[1078] + 47.3724 fan[1079] + 2368.62 compressor[1079] + 47.258399999999995 fan[1080] + 2362.92 compressor[1080] + 47.258399999999995 fan[1081] + 2362.92 compressor[1081] + 47.258399999999995 fan[1082] + 2362.92 compressor[1082] + 47.258399999999995 fan[1083] + 2362.92 compressor[1083] + 47.258399999999995 fan[1084] + 2362.92 compressor[1084] + 47.258399999999995 fan[1085] + 2362.92 compressor[1085] + 47.25840000000001 fan[1086] + 2362.9200000000005 compressor[1086] + 47.258399999999995 fan[1087] + 2362.92 compressor[1087] + 47.258399999999995 fan[1088] + 2362.92 compressor[1088] + 47.258399999999995 fan[1089] + 2362.92 compressor[1089] + 47.258399999999995 fan[1090] + 2362.92 compressor[1090] + 47.258399999999995 fan[1091] + 2362.92 compressor[1091] + 47.258399999999995 fan[1092] + 2362.92 compressor[1092] + 47.258399999999995 fan[1093] + 2362.92 compressor[1093] + 47.258399999999995 fan[1094] + 2362.92 compressor[1094] + 47.258399999999995 fan[1095] + 2362.92 compressor[1095] + 47.258399999999995 fan[1096] + 2362.92 compressor[1096] + 47.258399999999995 fan[1097] + 2362.92 compressor[1097] + 47.258399999999995 fan[1098] + 2362.92 compressor[1098] + 47.258399999999995 fan[1099] + 2362.92 compressor[1099] + 47.258399999999995 fan[1100] + 2362.92 compressor[1100] + 47.258399999999995 fan[1101] + 2362.92 compressor[1101] + 47.258399999999995 fan[1102] + 2362.92 compressor[1102] + 47.258399999999995 fan[1103] + 2362.92 compressor[1103] + 47.258399999999995 fan[1104] + 2362.92 compressor[1104] + 47.258399999999995 fan[1105] + 2362.92 compressor[1105] + 47.258399999999995 fan[1106] + 2362.92 compressor[1106] + 47.258399999999995 fan[1107] + 2362.92 compressor[1107] + 47.258399999999995 fan[1108] + 2362.92 compressor[1108] + 47.258399999999995 fan[1109] + 2362.92 compressor[1109] + 47.258399999999995 fan[1110] + 2362.92 compressor[1110] + 47.258399999999995 fan[1111] + 2362.92 compressor[1111] + 47.258399999999995 fan[1112] + 2362.92 compressor[1112] + 47.258399999999995 fan[1113] + 2362.92 compressor[1113] + 47.258399999999995 fan[1114] + 2362.92 compressor[1114] + 47.258399999999995 fan[1115] + 2362.92 compressor[1115] + 47.258399999999995 fan[1116] + 2362.92 compressor[1116] + 47.258399999999995 fan[1117] + 2362.92 compressor[1117] + 47.258399999999995 fan[1118] + 2362.92 compressor[1118] + 47.258399999999995 fan[1119] + 2362.92 compressor[1119] + 47.258399999999995 fan[1120] + 2362.92 compressor[1120] + 47.258399999999995 fan[1121] + 2362.92 compressor[1121] + 47.258399999999995 fan[1122] + 2362.92 compressor[1122] + 47.258399999999995 fan[1123] + 2362.92 compressor[1123] + 47.258399999999995 fan[1124] + 2362.92 compressor[1124] + 47.258399999999995 fan[1125] + 2362.92 compressor[1125] + 47.258399999999995 fan[1126] + 2362.92 compressor[1126] + 47.258399999999995 fan[1127] + 2362.92 compressor[1127] + 47.258399999999995 fan[1128] + 2362.92 compressor[1128] + 47.258399999999995 fan[1129] + 2362.92 compressor[1129] + 47.258399999999995 fan[1130] + 2362.92 compressor[1130] + 47.258399999999995 fan[1131] + 2362.92 compressor[1131] + 47.258399999999995 fan[1132] + 2362.92 compressor[1132] + 47.258399999999995 fan[1133] + 2362.92 compressor[1133] + 47.258399999999995 fan[1134] + 2362.92 compressor[1134] + 47.258399999999995 fan[1135] + 2362.92 compressor[1135] + 47.258399999999995 fan[1136] + 2362.92 compressor[1136] + 47.258399999999995 fan[1137] + 2362.92 compressor[1137] + 47.258399999999995 fan[1138] + 2362.92 compressor[1138] + 47.258399999999995 fan[1139] + 2362.92 compressor[1139] + 47.316700000000004 fan[1140] + 2365.835 compressor[1140] + 47.316700000000004 fan[1141] + 2365.835 compressor[1141] + 47.316700000000004 fan[1142] + 2365.835 compressor[1142] + 47.316700000000004 fan[1143] + 2365.835 compressor[1143] + 47.316700000000004 fan[1144] + 2365.835 compressor[1144] + 47.316700000000004 fan[1145] + 2365.835 compressor[1145] + 47.316700000000004 fan[1146] + 2365.835 compressor[1146] + 47.316700000000004 fan[1147] + 2365.835 compressor[1147] + 47.316700000000004 fan[1148] + 2365.835 compressor[1148] + 47.31670000000001 fan[1149] + 2365.8350000000005 compressor[1149] + 47.316700000000004 fan[1150] + 2365.835 compressor[1150] + 47.316700000000004 fan[1151] + 2365.835 compressor[1151] + 47.316700000000004 fan[1152] + 2365.835 compressor[1152] + 47.316700000000004 fan[1153] + 2365.835 compressor[1153] + 47.316700000000004 fan[1154] + 2365.835 compressor[1154] + 47.316700000000004 fan[1155] + 2365.835 compressor[1155] + 47.316700000000004 fan[1156] + 2365.835 compressor[1156] + 47.316700000000004 fan[1157] + 2365.835 compressor[1157] + 47.31670000000001 fan[1158] + 2365.8350000000005 compressor[1158] + 47.316700000000004 fan[1159] + 2365.835 compressor[1159] + 47.31670000000001 fan[1160] + 2365.8350000000005 compressor[1160] + 47.316700000000004 fan[1161] + 2365.835 compressor[1161] + 47.316700000000004 fan[1162] + 2365.835 compressor[1162] + 47.316700000000004 fan[1163] + 2365.835 compressor[1163] + 47.316700000000004 fan[1164] + 2365.835 compressor[1164] + 47.316700000000004 fan[1165] + 2365.835 compressor[1165] + 47.316700000000004 fan[1166] + 2365.835 compressor[1166] + 47.316700000000004 fan[1167] + 2365.835 compressor[1167] + 47.316700000000004 fan[1168] + 2365.835 compressor[1168] + 47.316700000000004 fan[1169] + 2365.835 compressor[1169] + 47.316700000000004 fan[1170] + 2365.835 compressor[1170] + 47.316700000000004 fan[1171] + 2365.835 compressor[1171] + 47.316700000000004 fan[1172] + 2365.835 compressor[1172] + 47.316700000000004 fan[1173] + 2365.835 compressor[1173] + 47.316700000000004 fan[1174] + 2365.835 compressor[1174] + 47.316700000000004 fan[1175] + 2365.835 compressor[1175] + 47.316700000000004 fan[1176] + 2365.835 compressor[1176] + 47.316700000000004 fan[1177] + 2365.835 compressor[1177] + 47.316700000000004 fan[1178] + 2365.835 compressor[1178] + 47.316700000000004 fan[1179] + 2365.835 compressor[1179] + 47.316700000000004 fan[1180] + 2365.835 compressor[1180] + 47.316700000000004 fan[1181] + 2365.835 compressor[1181]\n",
    "#                      + 47.316700000000004 fan[1182] + 2365.835 compressor[1182] + 47.316700000000004 fan[1183] + 2365.835 compressor[1183] + 47.316700000000004 fan[1184] + 2365.835 compressor[1184] + 47.316700000000004 fan[1185] + 2365.835 compressor[1185] + 47.316700000000004 fan[1186] + 2365.835 compressor[1186] + 47.316700000000004 fan[1187] + 2365.835 compressor[1187] + 47.316700000000004 fan[1188] + 2365.835 compressor[1188] + 47.316700000000004 fan[1189] + 2365.835 compressor[1189] + 47.316700000000004 fan[1190] + 2365.835 compressor[1190] + 47.316700000000004 fan[1191] + 2365.835 compressor[1191] + 47.316700000000004 fan[1192] + 2365.835 compressor[1192] + 47.316700000000004 fan[1193] + 2365.835 compressor[1193] + 47.316700000000004 fan[1194] + 2365.835 compressor[1194] + 47.316700000000004 fan[1195] + 2365.835 compressor[1195] + 47.316700000000004 fan[1196] + 2365.835 compressor[1196] + 47.316700000000004 fan[1197] + 2365.835 compressor[1197] + 47.316700000000004 fan[1198] + 2365.835 compressor[1198] + 47.316700000000004 fan[1199] + 2365.835 compressor[1199] + 47.3894 fan[1200] + 2369.4700000000003 compressor[1200] + 47.3894 fan[1201] + 2369.4700000000003 compressor[1201] + 47.3894 fan[1202] + 2369.4700000000003 compressor[1202] + 47.3894 fan[1203] + 2369.4700000000003 compressor[1203] + 47.3894 fan[1204] + 2369.4700000000003 compressor[1204] + 47.3894 fan[1205] + 2369.4700000000003 compressor[1205] + 47.3894 fan[1206] + 2369.4700000000003 compressor[1206] + 47.3894 fan[1207] + 2369.4700000000003 compressor[1207] + 47.3894 fan[1208] + 2369.4700000000003 compressor[1208] + 47.38940000000001 fan[1209] + 2369.4700000000007 compressor[1209] + 47.38940000000001 fan[1210] + 2369.4700000000007 compressor[1210] + 47.3894 fan[1211] + 2369.4700000000003 compressor[1211] + 47.3894 fan[1212] + 2369.4700000000003 compressor[1212] + 47.3894 fan[1213] + 2369.4700000000003 compressor[1213] + 47.3894 fan[1214] + 2369.4700000000003 compressor[1214] + 47.3894 fan[1215] + 2369.4700000000003 compressor[1215] + 47.3894 fan[1216] + 2369.4700000000003 compressor[1216] + 47.389399999999995 fan[1217] + 2369.47 compressor[1217] + 47.3894 fan[1218] + 2369.4700000000003 compressor[1218] + 47.389399999999995 fan[1219] + 2369.47 compressor[1219] + 47.3894 fan[1220] + 2369.4700000000003 compressor[1220] + 47.3894 fan[1221] + 2369.4700000000003 compressor[1221] + 47.3894 fan[1222] + 2369.4700000000003 compressor[1222] + 47.3894 fan[1223] + 2369.4700000000003 compressor[1223] + 47.3894 fan[1224] + 2369.4700000000003 compressor[1224] + 47.3894 fan[1225] + 2369.4700000000003 compressor[1225] + 47.3894 fan[1226] + 2369.4700000000003 compressor[1226] + 47.3894 fan[1227] + 2369.4700000000003 compressor[1227] + 47.3894 fan[1228] + 2369.4700000000003 compressor[1228] + 47.3894 fan[1229] + 2369.4700000000003 compressor[1229] + 47.3894 fan[1230] + 2369.4700000000003 compressor[1230] + 47.3894 fan[1231] + 2369.4700000000003 compressor[1231] + 47.3894 fan[1232] + 2369.4700000000003 compressor[1232] + 47.3894 fan[1233] + 2369.4700000000003 compressor[1233] + 47.3894 fan[1234] + 2369.4700000000003 compressor[1234] + 47.3894 fan[1235] + 2369.4700000000003 compressor[1235] + 47.3894 fan[1236] + 2369.4700000000003 compressor[1236] + 47.3894 fan[1237] + 2369.4700000000003 compressor[1237] + 47.3894 fan[1238] + 2369.4700000000003 compressor[1238] + 47.3894 fan[1239] + 2369.4700000000003 compressor[1239] + 47.3894 fan[1240] + 2369.4700000000003 compressor[1240] + 47.3894 fan[1241] + 2369.4700000000003 compressor[1241] + 47.3894 fan[1242] + 2369.4700000000003 compressor[1242] + 47.3894 fan[1243] + 2369.4700000000003 compressor[1243] + 47.3894 fan[1244] + 2369.4700000000003 compressor[1244] + 47.3894 fan[1245] + 2369.4700000000003 compressor[1245] + 47.3894 fan[1246] + 2369.4700000000003 compressor[1246] + 47.3894 fan[1247] + 2369.4700000000003 compressor[1247] + 47.3894 fan[1248] + 2369.4700000000003 compressor[1248] + 47.3894 fan[1249] + 2369.4700000000003 compressor[1249] + 47.3894 fan[1250] + 2369.4700000000003 compressor[1250] + 47.3894 fan[1251] + 2369.4700000000003 compressor[1251] + 47.38940000000001 fan[1252] + 2369.4700000000007 compressor[1252] + 47.3894 fan[1253] + 2369.4700000000003 compressor[1253] + 47.3894 fan[1254] + 2369.4700000000003 compressor[1254] + 47.3894 fan[1255] + 2369.4700000000003 compressor[1255] + 47.3894 fan[1256] + 2369.4700000000003 compressor[1256] + 47.3894 fan[1257] + 2369.4700000000003 compressor[1257] + 47.3894 fan[1258] + 2369.4700000000003 compressor[1258] + 47.3894 fan[1259] + 2369.4700000000003 compressor[1259] + 47.544000000000004 fan[1260] + 2377.2000000000003 compressor[1260] + 47.544000000000004 fan[1261] + 2377.2000000000003 compressor[1261] + 47.544000000000004 fan[1262] + 2377.2000000000003 compressor[1262] + 47.544000000000004 fan[1263] + 2377.2000000000003 compressor[1263] + 47.544000000000004 fan[1264] + 2377.2000000000003 compressor[1264] + 47.544000000000004 fan[1265] + 2377.2000000000003 compressor[1265] + 47.544000000000004 fan[1266] + 2377.2000000000003 compressor[1266] + 47.544000000000004 fan[1267] + 2377.2000000000003 compressor[1267] + 47.544000000000004 fan[1268] + 2377.2000000000003 compressor[1268] + 47.544000000000004 fan[1269] + 2377.2000000000003 compressor[1269] + 47.544000000000004 fan[1270] + 2377.2000000000003 compressor[1270] + 47.544000000000004 fan[1271] + 2377.2000000000003 compressor[1271] + 47.544000000000004 fan[1272] + 2377.2000000000003 compressor[1272] + 47.544000000000004 fan[1273] + 2377.2000000000003 compressor[1273] + 47.544000000000004 fan[1274] + 2377.2000000000003 compressor[1274] + 47.544000000000004 fan[1275] + 2377.2000000000003 compressor[1275] + 47.544000000000004 fan[1276] + 2377.2000000000003 compressor[1276] + 47.544000000000004 fan[1277] + 2377.2000000000003 compressor[1277] + 47.544000000000004 fan[1278] + 2377.2000000000003 compressor[1278] + 47.544000000000004 fan[1279] + 2377.2000000000003 compressor[1279] + 47.544000000000004 fan[1280] + 2377.2000000000003 compressor[1280] + 47.544000000000004 fan[1281] + 2377.2000000000003 compressor[1281] + 47.544000000000004 fan[1282] + 2377.2000000000003 compressor[1282] + 47.544000000000004 fan[1283] + 2377.2000000000003 compressor[1283] + 47.544000000000004 fan[1284] + 2377.2000000000003 compressor[1284] + 47.544000000000004 fan[1285] + 2377.2000000000003 compressor[1285] + 47.544000000000004 fan[1286] + 2377.2000000000003 compressor[1286] + 47.544000000000004 fan[1287] + 2377.2000000000003 compressor[1287] + 47.544000000000004 fan[1288] + 2377.2000000000003 compressor[1288] + 47.544000000000004 fan[1289] + 2377.2000000000003 compressor[1289] + 47.544000000000004 fan[1290] + 2377.2000000000003 compressor[1290] + 47.544000000000004 fan[1291] + 2377.2000000000003 compressor[1291] + 47.544000000000004 fan[1292] + 2377.2000000000003 compressor[1292] + 47.544000000000004 fan[1293] + 2377.2000000000003 compressor[1293] + 47.544000000000004 fan[1294] + 2377.2000000000003 compressor[1294] + 47.544000000000004 fan[1295] + 2377.2000000000003 compressor[1295] + 47.544000000000004 fan[1296] + 2377.2000000000003 compressor[1296] + 47.544000000000004 fan[1297] + 2377.2000000000003 compressor[1297] + 47.544000000000004 fan[1298] + 2377.2000000000003 compressor[1298] + 47.544000000000004 fan[1299] + 2377.2000000000003 compressor[1299] + 47.544000000000004 fan[1300] + 2377.2000000000003 compressor[1300] + 47.544000000000004 fan[1301] + 2377.2000000000003 compressor[1301] + 47.544000000000004 fan[1302] + 2377.2000000000003 compressor[1302] + 47.544000000000004 fan[1303] + 2377.2000000000003 compressor[1303] + 47.544000000000004 fan[1304] + 2377.2000000000003 compressor[1304] + 47.544000000000004 fan[1305] + 2377.2000000000003 compressor[1305] + 47.544000000000004 fan[1306] + 2377.2000000000003 compressor[1306] + 47.544000000000004 fan[1307] + 2377.2000000000003 compressor[1307] + 47.544000000000004 fan[1308] + 2377.2000000000003 compressor[1308] + 47.544000000000004 fan[1309] + 2377.2000000000003 compressor[1309] + 47.544000000000004 fan[1310] + 2377.2000000000003 compressor[1310] + 47.544000000000004 fan[1311] + 2377.2000000000003 compressor[1311] + 47.544000000000004 fan[1312] + 2377.2000000000003 compressor[1312] + 47.544000000000004 fan[1313] + 2377.2000000000003 compressor[1313] + 47.544000000000004 fan[1314] + 2377.2000000000003 compressor[1314] + 47.544000000000004 fan[1315] + 2377.2000000000003 compressor[1315] + 47.544000000000004 fan[1316] + 2377.2000000000003 compressor[1316] + 47.544000000000004 fan[1317] + 2377.2000000000003 compressor[1317] + 47.544000000000004 fan[1318] + 2377.2000000000003 compressor[1318] + 47.544000000000004 fan[1319] + 2377.2000000000003 compressor[1319] + 47.531800000000004 fan[1320] + 2376.59 compressor[1320] + 47.531800000000004 fan[1321] + 2376.59 compressor[1321] + 47.531800000000004 fan[1322] + 2376.59 compressor[1322] + 47.531800000000004 fan[1323] + 2376.59 compressor[1323] + 47.531800000000004 fan[1324] + 2376.59 compressor[1324] + 47.531800000000004 fan[1325] + 2376.59 compressor[1325] + 47.531800000000004 fan[1326] + 2376.59 compressor[1326] + 47.531800000000004 fan[1327] + 2376.59 compressor[1327] + 47.531800000000004 fan[1328] + 2376.59 compressor[1328] + 47.531800000000004 fan[1329] + 2376.59 compressor[1329] + 47.531800000000004 fan[1330] + 2376.59 compressor[1330] + 47.531800000000004 fan[1331] + 2376.59 compressor[1331] + 47.531800000000004 fan[1332] + 2376.59 compressor[1332] + 47.531800000000004 fan[1333] + 2376.59 compressor[1333] + 47.531800000000004 fan[1334] + 2376.59 compressor[1334] + 47.531800000000004 fan[1335] + 2376.59 compressor[1335] + 47.531800000000004 fan[1336] + 2376.59 compressor[1336] + 47.531800000000004 fan[1337] + 2376.59 compressor[1337] + 47.531800000000004 fan[1338] + 2376.59 compressor[1338] + 47.531800000000004 fan[1339] + 2376.59 compressor[1339] + 47.531800000000004 fan[1340] + 2376.59 compressor[1340] + 47.531800000000004 fan[1341] + 2376.59 compressor[1341] + 47.531800000000004 fan[1342] + 2376.59 compressor[1342] + 47.531800000000004 fan[1343] + 2376.59 compressor[1343] + 47.531800000000004 fan[1344] + 2376.59 compressor[1344] + 47.531800000000004 fan[1345] + 2376.59 compressor[1345] + 47.531800000000004 fan[1346] + 2376.59 compressor[1346] + 47.531800000000004 fan[1347] + 2376.59 compressor[1347] + 47.531800000000004 fan[1348] + 2376.59 compressor[1348] + 47.531800000000004 fan[1349] + 2376.59 compressor[1349] + 47.531800000000004 fan[1350] + 2376.59 compressor[1350] + 47.531800000000004 fan[1351] + 2376.59 compressor[1351] + 47.531800000000004 fan[1352] + 2376.59 compressor[1352] + 47.531800000000004 fan[1353] + 2376.59 compressor[1353] + 47.531800000000004 fan[1354] + 2376.59 compressor[1354] + 47.531800000000004 fan[1355] + 2376.59 compressor[1355] + 47.531800000000004 fan[1356] + 2376.59 compressor[1356] + 47.531800000000004 fan[1357] + 2376.59 compressor[1357] + 47.531800000000004 fan[1358] + 2376.59 compressor[1358] + 47.531800000000004 fan[1359] + 2376.59 compressor[1359] + 47.531800000000004 fan[1360] + 2376.59 compressor[1360] + 47.531800000000004 fan[1361] + 2376.59 compressor[1361] + 47.531800000000004 fan[1362] + 2376.59 compressor[1362] + 47.531800000000004 fan[1363] + 2376.59 compressor[1363] + 47.531800000000004 fan[1364] + 2376.59 compressor[1364] + 47.531800000000004 fan[1365] + 2376.59 compressor[1365] + 47.531800000000004 fan[1366] + 2376.59 compressor[1366] + 47.531800000000004 fan[1367] + 2376.59 compressor[1367] + 47.531800000000004 fan[1368] + 2376.59 compressor[1368] + 47.531800000000004 fan[1369] + 2376.59 compressor[1369] + 47.531800000000004 fan[1370] + 2376.59 compressor[1370] + 47.531800000000004 fan[1371] + 2376.59 compressor[1371] + 47.531800000000004 fan[1372] + 2376.59 compressor[1372] + 47.531800000000004 fan[1373] + 2376.59 compressor[1373] + 47.531800000000004 fan[1374] + 2376.59 compressor[1374] + 47.531800000000004 fan[1375] + 2376.59 compressor[1375] + 47.531800000000004 fan[1376] + 2376.59 compressor[1376] + 47.531800000000004 fan[1377] + 2376.59 compressor[1377] + 47.531800000000004 fan[1378] + 2376.59 compressor[1378] + 47.531800000000004 fan[1379] + 2376.59 compressor[1379] + 46.1478 fan[1380] + 2307.39 compressor[1380] + 46.1478 fan[1381] + 2307.39 compressor[1381] + 46.1478 fan[1382] + 2307.39 compressor[1382] + 46.1478 fan[1383] + 2307.39 compressor[1383] + 46.1478 fan[1384] + 2307.39 compressor[1384] + 46.1478 fan[1385] + 2307.39 compressor[1385] + 46.1478 fan[1386] + 2307.39 compressor[1386] + 46.1478 fan[1387] + 2307.39 compressor[1387]\n",
    "#                      + 46.1478 fan[1388] + 2307.39 compressor[1388] + 46.1478 fan[1389] + 2307.39 compressor[1389] + 46.1478 fan[1390] + 2307.39 compressor[1390] + 46.1478 fan[1391] + 2307.39 compressor[1391] + 46.1478 fan[1392] + 2307.39 compressor[1392] + 46.1478 fan[1393] + 2307.39 compressor[1393] + 46.1478 fan[1394] + 2307.39 compressor[1394] + 46.1478 fan[1395] + 2307.39 compressor[1395] + 46.1478 fan[1396] + 2307.39 compressor[1396] + 46.1478 fan[1397] + 2307.39 compressor[1397] + 46.1478 fan[1398] + 2307.39 compressor[1398] + 46.1478 fan[1399] + 2307.39 compressor[1399] + 46.1478 fan[1400] + 2307.39 compressor[1400] + 46.1478 fan[1401] + 2307.39 compressor[1401] + 46.1478 fan[1402] + 2307.39 compressor[1402] + 46.1478 fan[1403] + 2307.39 compressor[1403] + 46.1478 fan[1404] + 2307.39 compressor[1404] + 46.1478 fan[1405] + 2307.39 compressor[1405] + 46.1478 fan[1406] + 2307.39 compressor[1406] + 46.1478 fan[1407] + 2307.39 compressor[1407] + 46.1478 fan[1408] + 2307.39 compressor[1408] + 46.1478 fan[1409] + 2307.39 compressor[1409] + 46.1478 fan[1410] + 2307.39 compressor[1410] + 46.1478 fan[1411] + 2307.39 compressor[1411] + 46.1478 fan[1412] + 2307.39 compressor[1412] + 46.1478 fan[1413] + 2307.39 compressor[1413] + 46.1478 fan[1414] + 2307.39 compressor[1414] + 46.1478 fan[1415] + 2307.39 compressor[1415] + 46.1478 fan[1416] + 2307.39 compressor[1416] + 46.1478 fan[1417] + 2307.39 compressor[1417] + 46.1478 fan[1418] + 2307.39 compressor[1418] + 46.1478 fan[1419] + 2307.39 compressor[1419] + 46.1478 fan[1420] + 2307.39 compressor[1420] + 46.1478 fan[1421] + 2307.39 compressor[1421] + 46.1478 fan[1422] + 2307.39 compressor[1422] + 46.1478 fan[1423] + 2307.39 compressor[1423] + 46.1478 fan[1424] + 2307.39 compressor[1424] + 46.1478 fan[1425] + 2307.39 compressor[1425] + 46.1478 fan[1426] + 2307.39 compressor[1426] + 46.1478 fan[1427] + 2307.39 compressor[1427] + 46.1478 fan[1428] + 2307.39 compressor[1428] + 46.1478 fan[1429] + 2307.39 compressor[1429] + 46.1478 fan[1430] + 2307.39 compressor[1430] + 46.1478 fan[1431] + 2307.39 compressor[1431] + 46.1478 fan[1432] + 2307.39 compressor[1432] + 46.1478 fan[1433] + 2307.39 compressor[1433] + 46.1478 fan[1434] + 2307.39 compressor[1434] + 46.1478 fan[1435] + 2307.39 compressor[1435] + 46.1478 fan[1436] + 2307.39 compressor[1436] + 46.1478 fan[1437] + 2307.39 compressor[1437] + 46.1478 fan[1438] + 2307.39 compressor[1438] + 46.1478 fan[1439] + 2307.39 compressor[1439] + 44.1704 fan[1440]\n",
    "#                     + 2208.52 compressor[1440]))"
   ]
  },
  {
   "cell_type": "code",
   "execution_count": 29,
   "metadata": {},
   "outputs": [],
   "source": [
    "# @constraint(m2, con1, 10 * P_f[1] + 500 * P_c[1] + 10 * P_f[2] + 500 * P_c[2] + 10 * P_f[3] + 500 * P_c[3] + 10 * P_f[4] + 500 * P_c[4] + 10 * P_f[5] + 500 * P_c[5] + 10 * P_f[6] + 500 * P_c[6] + 10 * P_f[7] + 500 * P_c[7] + 10 * P_f[8] + 500 * P_c[8] + 10 * P_f[9] + 500 * P_c[9] + 10 * P_f[10] + 500 * P_c[10] + 10 * P_f[11] + 500 * P_c[11] + 10 * P_f[12] + 500 * P_c[12] + 10 * P_f[13] + 500 * P_c[13] + 10 * P_f[14] + 500 * P_c[14] + 10 * P_f[15] + 500 * P_c[15] + 10 * P_f[16] + 500 * P_c[16] + 10 * P_f[17] + 500 * P_c[17] + 10 * P_f[18] + 500 * P_c[18] + 10 * P_f[19] + 500 * P_c[19] + 10 * P_f[20] + 500 * P_c[20] + 10 * P_f[21] + 500 * P_c[21] + 10 * P_f[22] + 500 * P_c[22] + 10 * P_f[23] + 500 * P_c[23] + 10 * P_f[24] + 500 * P_c[24] + 10 * P_f[25] + 500 * P_c[25] + 10 * P_f[26] + 500 * P_c[26] + 10 * P_f[27] + 500 * P_c[27] + 10 * P_f[28] + 500 * P_c[28] + 10 * P_f[29] + 500 * P_c[29] + 10 * P_f[30] + 500 * P_c[30] + 10 * P_f[31] + 500 * P_c[31] + 10 * P_f[32] + 500 * P_c[32] + 10 * P_f[33] + 500 * P_c[33] + 10 * P_f[34] + 500 * P_c[34] + 10 * P_f[35] + 500 * P_c[35] + 10 * P_f[36] + 500 * P_c[36] + 10 * P_f[37] + 500 * P_c[37] + 10 * P_f[38] + 500 * P_c[38] + 10 * P_f[39] + 500 * P_c[39] + 10 * P_f[40] + 500 * P_c[40] + 10 * P_f[41] + 500 * P_c[41] + 10 * P_f[42] + 500 * P_c[42] + 10 * P_f[43] + 500 * P_c[43] + 10 * P_f[44] + 500 * P_c[44] + 10 * P_f[45] + 500 * P_c[45] + 10 * P_f[46] + 500 * P_c[46] + 10 * P_f[47] + 500 * P_c[47] + 10 * P_f[48] + 500 * P_c[48] + 10 * P_f[49] + 500 * P_c[49] + 10 * P_f[50] + 500 * P_c[50] + 10 * P_f[51] + 500 * P_c[51] + 10 * P_f[52] + 500 * P_c[52] + 10 * P_f[53] + 500 * P_c[53] + 10 * P_f[54] + 500 * P_c[54] + 10 * P_f[55] + 500 * P_c[55] + 10 * P_f[56] + 500 * P_c[56] + 10 * P_f[57] + 500 * P_c[57] + 10 * P_f[58] + 500 * P_c[58] + 10 * P_f[59] + 500 * P_c[59] + 10 * P_f[60] + 500 * P_c[60] + 10 * P_f[61] + 500 * P_c[61] + 10 * P_f[62] + 500 * P_c[62] + 10 * P_f[63] + 500 * P_c[63] + 10 * P_f[64] + 500 * P_c[64] + 10 * P_f[65] + 500 * P_c[65] + 10 * P_f[66] + 500 * P_c[66] + 10 * P_f[67] + 500 * P_c[67] + 10 * P_f[68] + 500 * P_c[68] + 10 * P_f[69] + 500 * P_c[69] + 10 * P_f[70] + 500 * P_c[70] + 10 * P_f[71] + 500 * P_c[71] + 10 * P_f[72] + 500 * P_c[72] + 10 * P_f[73] + 500 * P_c[73] + 10 * P_f[74] + 500 * P_c[74] + 10 * P_f[75] + 500 * P_c[75] + 10 * P_f[76] + 500 * P_c[76] + 10 * P_f[77] + 500 * P_c[77] + 10 * P_f[78] + 500 * P_c[78] + 10 * P_f[79] + 500 * P_c[79] + 10 * P_f[80] + 500 * P_c[80] + 10 * P_f[81] + 500 * P_c[81] + 10 * P_f[82] + 500 * P_c[82] + 10 * P_f[83] + 500 * P_c[83] + 10 * P_f[84] + 500 * P_c[84] + 10 * P_f[85] + 500 * P_c[85] + 10 * P_f[86] + 500 * P_c[86] + 10 * P_f[87] + 500 * P_c[87] + 10 * P_f[88] + 500 * P_c[88] + 10 * P_f[89] + 500 * P_c[89] + 10 * P_f[90] + 500 * P_c[90] + 10 * P_f[91] + 500 * P_c[91] + 10 * P_f[92] + 500 * P_c[92] + 10 * P_f[93] + 500 * P_c[93] + 10 * P_f[94] + 500 * P_c[94] + 10 * P_f[95] + 500 * P_c[95] + 10 * P_f[96] + 500 * P_c[96] + 10 * P_f[97] + 500 * P_c[97] + 10 * P_f[98] + 500 * P_c[98] + 10 * P_f[99] + 500 * P_c[99] + 10 * P_f[100] + 500 * P_c[100] + 10 * P_f[101] + 500 * P_c[101] + 10 * P_f[102] + 500 * P_c[102] + 10 * P_f[103] + 500 * P_c[103] + 10 * P_f[104] + 500 * P_c[104] + 10 * P_f[105] + 500 * P_c[105] + 10 * P_f[106] + 500 * P_c[106] + 10 * P_f[107] + 500 * P_c[107] + 10 * P_f[108] + 500 * P_c[108] + 10 * P_f[109] + 500 * P_c[109] + 10 * P_f[110] + 500 * P_c[110] + 10 * P_f[111] + 500 * P_c[111] + 10 * P_f[112] + 500 * P_c[112] + 10 * P_f[113] + 500 * P_c[113] + 10 * P_f[114] + 500 * P_c[114] + 10 * P_f[115] + 500 * P_c[115] + 10 * P_f[116] + 500 * P_c[116] + 10 * P_f[117] + 500 * P_c[117] + 10 * P_f[118] + 500 * P_c[118] + 10 * P_f[119] + 500 * P_c[119] + 10 * P_f[120] + 500 * P_c[120] + 10 * P_f[121] + 500 * P_c[121] + 10 * P_f[122] + 500 * P_c[122] + 10 * P_f[123] + 500 * P_c[123] + 10 * P_f[124] + 500 * P_c[124] + 10 * P_f[125] + 500 * P_c[125] + 10 * P_f[126] + 500 * P_c[126] + 10 * P_f[127] + 500 * P_c[127] + 10 * P_f[128] + 500 * P_c[128] + 10 * P_f[129] + 500 * P_c[129] + 10 * P_f[130] + 500 * P_c[130] + 10 * P_f[131] + 500 * P_c[131] + 10 * P_f[132] + 500 * P_c[132] + 10 * P_f[133] + 500 * P_c[133] + 10 * P_f[134] + 500 * P_c[134] + 10 * P_f[135] + 500 * P_c[135] + 10 * P_f[136] + 500 * P_c[136] + 10 * P_f[137] + 500 * P_c[137] + 10 * P_f[138] + 500 * P_c[138] + 10 * P_f[139] + 500 * P_c[139] + 10 * P_f[140] + 500 * P_c[140] + 10 * P_f[141] + 500 * P_c[141] + 10 * P_f[142] + 500 * P_c[142] + 10 * P_f[143] + 500 * P_c[143] + 10 * P_f[144] + 500 * P_c[144] + 10 * P_f[145] + 500 * P_c[145] + 10 * P_f[146] + 500 * P_c[146] + 10 * P_f[147] + 500 * P_c[147] + 10 * P_f[148] + 500 * P_c[148] + 10 * P_f[149] + 500 * P_c[149] + 10 * P_f[150] + 500 * P_c[150] + 10 * P_f[151] + 500 * P_c[151] + 10 * P_f[152] + 500 * P_c[152] + 10 * P_f[153] + 500 * P_c[153] + 10 * P_f[154] + 500 * P_c[154] + 10 * P_f[155] + 500 * P_c[155] + 10 * P_f[156] + 500 * P_c[156] + 10 * P_f[157] + 500 * P_c[157] + 10 * P_f[158] + 500 * P_c[158] + 10 * P_f[159] + 500 * P_c[159] + 10 * P_f[160] + 500 * P_c[160] + 10 * P_f[161] + 500 * P_c[161] + 10 * P_f[162] + 500 * P_c[162] + 10 * P_f[163] + 500 * P_c[163] + 10 * P_f[164] + 500 * P_c[164] + 10 * P_f[165] + 500 * P_c[165] + 10 * P_f[166] + 500 * P_c[166] + 10 * P_f[167] + 500 * P_c[167] + 10 * P_f[168] + 500 * P_c[168] + 10 * P_f[169] + 500 * P_c[169] + 10 * P_f[170] + 500 * P_c[170] + 10 * P_f[171] + 500 * P_c[171] + 10 * P_f[172] + 500 * P_c[172] + 10 * P_f[173] + 500 * P_c[173] + 10 * P_f[174] + 500 * P_c[174] + 10 * P_f[175] + 500 * P_c[175] + 10 * P_f[176] + 500 * P_c[176] + 10 * P_f[177] + 500 * P_c[177] + 10 * P_f[178] + 500 * P_c[178] + 10 * P_f[179] + 500 * P_c[179] + 10 * P_f[180] + 500 * P_c[180] + 10 * P_f[181] + 500 * P_c[181] + 10 * P_f[182] + 500 * P_c[182] + 10 * P_f[183] + 500 * P_c[183] + 10 * P_f[184] + 500 * P_c[184] + 10 * P_f[185] + 500 * P_c[185] + 10 * P_f[186] + 500 * P_c[186] + 10 * P_f[187] + 500 * P_c[187] + 10 * P_f[188] + 500 * P_c[188] + 10 * P_f[189] + 500 * P_c[189] + 10 * P_f[190] + 500 * P_c[190] + 10 * P_f[191] + 500 * P_c[191] + 10 * P_f[192] + 500 * P_c[192] + 10 * P_f[193] + 500 * P_c[193] + 10 * P_f[194] + 500 * P_c[194] + 10 * P_f[195] + 500 * P_c[195] + 10 * P_f[196] + 500 * P_c[196] + 10 * P_f[197] + 500 * P_c[197] + 10 * P_f[198] + 500 * P_c[198] + 10 * P_f[199] + 500 * P_c[199] + 10 * P_f[200] + 500 * P_c[200] + 10 * P_f[201] + 500 * P_c[201] + 10 * P_f[202] + 500 * P_c[202] + 10 * P_f[203] + 500 * P_c[203] + 10 * P_f[204] + 500 * P_c[204] + 10 * P_f[205] + 500 * P_c[205] + 10 * P_f[206] + 500 * P_c[206] + 10 * P_f[207] + 500 * P_c[207] + 10 * P_f[208] + 500 * P_c[208] + 10 * P_f[209] + 500 * P_c[209] + 10 * P_f[210] + 500 * P_c[210] + 10 * P_f[211] + 500 * P_c[211] + 10 * P_f[212] + 500 * P_c[212] + 10 * P_f[213] + 500 * P_c[213] + 10 * P_f[214] + 500 * P_c[214] + 10 * P_f[215] + 500 * P_c[215] + 10 * P_f[216] + 500 * P_c[216] + 10 * P_f[217] + 500 * P_c[217] + 10 * P_f[218] + 500 * P_c[218] + 10 * P_f[219] + 500 * P_c[219] + 10 * P_f[220] + 500 * P_c[220] + 10 * P_f[221] + 500 * P_c[221] + 10 * P_f[222] + 500 * P_c[222] + 10 * P_f[223] + 500 * P_c[223] + 10 * P_f[224] + 500 * P_c[224] + 10 * P_f[225] + 500 * P_c[225] + 10 * P_f[226] + 500 * P_c[226] + 10 * P_f[227] + 500 * P_c[227] + 10 * P_f[228] + 500 * P_c[228] + 10 * P_f[229] + 500 * P_c[229] + 10 * P_f[230] + 500 * P_c[230] + 10 * P_f[231] + 500 * P_c[231] + 10 * P_f[232] + 500 * P_c[232] + 10 * P_f[233] + 500 * P_c[233] + 10 * P_f[234] + 500 * P_c[234] + 10 * P_f[235] + 500 * P_c[235] + 10 * P_f[236] + 500 * P_c[236] + 10 * P_f[237] + 500 * P_c[237] + 10 * P_f[238] + 500 * P_c[238] + 10 * P_f[239] + 500 * P_c[239] + 10 * P_f[240] + 500 * P_c[240] + 10 * P_f[241] + 500 * P_c[241] + 10 * P_f[242] + 500 * P_c[242] + 10 * P_f[243] + 500 * P_c[243] + 10 * P_f[244] + 500 * P_c[244] + 10 * P_f[245] + 500 * P_c[245] + 10 * P_f[246] + 500 * P_c[246] + 10 * P_f[247] + 500 * P_c[247] + 10 * P_f[248] + 500 * P_c[248] + 10 * P_f[249] + 500 * P_c[249] + 10 * P_f[250] + 500 * P_c[250] + 10 * P_f[251] + 500 * P_c[251] + 10 * P_f[252] + 500 * P_c[252] + 10 * P_f[253] + 500 * P_c[253] + 10 * P_f[254] + 500 * P_c[254] + 10 * P_f[255] + 500 * P_c[255] + 10 * P_f[256] + 500 * P_c[256] + 10 * P_f[257] + 500 * P_c[257] + 10 * P_f[258] + 500 * P_c[258] + 10 * P_f[259] + 500 * P_c[259] + 10 * P_f[260] + 500 * P_c[260] + 10 * P_f[261] + 500 * P_c[261] + 10 * P_f[262] + 500 * P_c[262] + 10 * P_f[263] + 500 * P_c[263] + 10 * P_f[264] + 500 * P_c[264] + 10 * P_f[265] + 500 * P_c[265] + 10 * P_f[266] + 500 * P_c[266] + 10 * P_f[267] + 500 * P_c[267] + 10 * P_f[268] + 500 * P_c[268] + 10 * P_f[269] + 500 * P_c[269] + 10 * P_f[270] + 500 * P_c[270] + 10 * P_f[271] + 500 * P_c[271] + 10 * P_f[272] + 500 * P_c[272] + 10 * P_f[273] + 500 * P_c[273] + 10 * P_f[274] + 500 * P_c[274] + 10 * P_f[275] + 500 * P_c[275] + 10 * P_f[276] + 500 * P_c[276] + 10 * P_f[277] + 500 * P_c[277] + 10 * P_f[278] + 500 * P_c[278] + 10 * P_f[279] + 500 * P_c[279] + 10 * P_f[280] + 500 * P_c[280] + 10 * P_f[281] + 500 * P_c[281] + 10 * P_f[282] + 500 * P_c[282] + 10 * P_f[283] + 500 * P_c[283] + 10 * P_f[284] + 500 * P_c[284] + 10 * P_f[285] + 500 * P_c[285] + 10 * P_f[286] + 500 * P_c[286] + 10 * P_f[287] + 500 * P_c[287] + 10 * P_f[288] + 500 * P_c[288] + 10 * P_f[289] + 500 * P_c[289] + 10 * P_f[290] + 500 * P_c[290] + 10 * P_f[291] + 500 * P_c[291] + 10 * P_f[292] + 500 * P_c[292] + 10 * P_f[293] + 500 * P_c[293] + 10 * P_f[294] + 500 * P_c[294] + 10 * P_f[295] + 500 * P_c[295] + 10 * P_f[296] + 500 * P_c[296] + 10 * P_f[297] + 500 * P_c[297] + 10 * P_f[298] + 500 * P_c[298] + 10 * P_f[299] + 500 * P_c[299] + 10 * P_f[300] + 500 * P_c[300] + 10 * P_f[301] + 500 * P_c[301] + 10 * P_f[302] + 500 * P_c[302] + 10 * P_f[303] + 500 * P_c[303] + 10 * P_f[304] + 500 * P_c[304] + 10 * P_f[305] + 500 * P_c[305] + 10 * P_f[306] + 500 * P_c[306] + 10 * P_f[307] + 500 * P_c[307] + 10 * P_f[308] + 500 * P_c[308] + 10 * P_f[309] + 500 * P_c[309] + 10 * P_f[310] + 500 * P_c[310] + 10 * P_f[311] + 500 * P_c[311] + 10 * P_f[312] + 500 * P_c[312] + 10 * P_f[313] + 500 * P_c[313] + 10 * P_f[314] + 500 * P_c[314] + 10 * P_f[315] + 500 * P_c[315] + 10 * P_f[316] + 500 * P_c[316] + 10 * P_f[317] + 500 * P_c[317] + 10 * P_f[318] + 500 * P_c[318] + 10 * P_f[319] + 500 * P_c[319] + 10 * P_f[320] + 500 * P_c[320] + 10 * P_f[321] + 500 * P_c[321] + 10 * P_f[322] + 500 * P_c[322] + 10 * P_f[323] + 500 * P_c[323] + 10 * P_f[324] + 500 * P_c[324] + 10 * P_f[325] + 500 * P_c[325] + 10 * P_f[326] + 500 * P_c[326] + 10 * P_f[327] + 500 * P_c[327] + 10 * P_f[328] + 500 * P_c[328] + 10 * P_f[329] + 500 * P_c[329] + 10 * P_f[330] + 500 * P_c[330] + 10 * P_f[331] + 500 * P_c[331] + 10 * P_f[332] + 500 * P_c[332] + 10 * P_f[333] + 500 * P_c[333] + 10 * P_f[334] + 500 * P_c[334] + 10 * P_f[335] + 500 * P_c[335] + 10 * P_f[336] + 500 * P_c[336] + 10 * P_f[337] + 500 * P_c[337] + 10 * P_f[338] + 500 * P_c[338] + 10 * P_f[339] + 500 * P_c[339] + 10 * P_f[340] + 500 * P_c[340] + 10 * P_f[341] + 500 * P_c[341] + 10 * P_f[342] + 500 * P_c[342] + 10 * P_f[343] + 500 * P_c[343] + 10 * P_f[344] + 500 * P_c[344] + 10 * P_f[345] + 500 * P_c[345] + 10 * P_f[346] + 500 * P_c[346] + 10 * P_f[347] + 500 * P_c[347] + 10 * P_f[348] + 500 * P_c[348] + 10 * P_f[349] + 500 * P_c[349] + 10 * P_f[350] + 500 * P_c[350] + 10 * P_f[351] + 500 * P_c[351] + 10 * P_f[352] + 500 * P_c[352] + 10 * P_f[353] + 500 * P_c[353] + 10 * P_f[354] + 500 * P_c[354] + 10 * P_f[355] + 500 * P_c[355] + 10 * P_f[356] + 500 * P_c[356] + 10 * P_f[357] + 500 * P_c[357] + 10 * P_f[358] + 500 * P_c[358] + 10 * P_f[359] + 500 * P_c[359] + 10 * P_f[360] + 500 * P_c[360] + 10 * P_f[361] + 500 * P_c[361] + 10 * P_f[362] + 500 * P_c[362] + 10 * P_f[363] + 500 * P_c[363] + 10 * P_f[364] + 500 * P_c[364] + 10 * P_f[365] + 500 * P_c[365] + 10 * P_f[366] + 500 * P_c[366] + 10 * P_f[367] + 500 * P_c[367] + 10 * P_f[368] + 500 * P_c[368] + 10 * P_f[369] + 500 * P_c[369] + 10 * P_f[370] + 500 * P_c[370] + 10 * P_f[371] + 500 * P_c[371] + 10 * P_f[372] + 500 * P_c[372] + 10 * P_f[373] + 500 * P_c[373] + 10 * P_f[374] + 500 * P_c[374] + 10 * P_f[375] + 500 * P_c[375] + 10 * P_f[376] + 500 * P_c[376] + 10 * P_f[377] + 500 * P_c[377] + 10 * P_f[378] + 500 * P_c[378] + 10 * P_f[379] + 500 * P_c[379] + 10 * P_f[380] + 500 * P_c[380] + 10 * P_f[381] + 500 * P_c[381] + 10 * P_f[382] + 500 * P_c[382] + 10 * P_f[383] + 500 * P_c[383] + 10 * P_f[384] + 500 * P_c[384] + 10 * P_f[385] + 500 * P_c[385] + 10 * P_f[386] + 500 * P_c[386] + 10 * P_f[387] + 500 * P_c[387] + 10 * P_f[388] + 500 * P_c[388] + 10 * P_f[389] + 500 * P_c[389] + 10 * P_f[390] + 500 * P_c[390] + 10 * P_f[391] + 500 * P_c[391] + 10 * P_f[392] + 500 * P_c[392] + 10 * P_f[393] + 500 * P_c[393] + 10 * P_f[394] + 500 * P_c[394] + 10 * P_f[395] + 500 * P_c[395] + 10 * P_f[396] + 500 * P_c[396] + 10 * P_f[397] + 500 * P_c[397] + 10 * P_f[398] + 500 * P_c[398] + 10 * P_f[399] + 500 * P_c[399] + 10 * P_f[400] + 500 * P_c[400] + 10 * P_f[401] + 500 * P_c[401] + 10 * P_f[402] + 500 * P_c[402] + 10 * P_f[403] + 500 * P_c[403] + 10 * P_f[404] + 500 * P_c[404] + 10 * P_f[405] + 500 * P_c[405] + 10 * P_f[406] + 500 * P_c[406] + 10 * P_f[407] + 500 * P_c[407] + 10 * P_f[408] + 500 * P_c[408] + 10 * P_f[409] + 500 * P_c[409] + 10 * P_f[410] + 500 * P_c[410] + 10 * P_f[411] + 500 * P_c[411] + 10 * P_f[412] + 500 * P_c[412] + 10 * P_f[413] + 500 * P_c[413] + 10 * P_f[414] + 500 * P_c[414] + 10 * P_f[415] + 500 * P_c[415] + 10 * P_f[416] + 500 * P_c[416] + 10 * P_f[417] + 500 * P_c[417] + 10 * P_f[418] + 500 * P_c[418] + 10 * P_f[419] + 500 * P_c[419] + 10 * P_f[420] + 500 * P_c[420] + 10 * P_f[421] + 500 * P_c[421] + 10 * P_f[422] + 500 * P_c[422] + 10 * P_f[423] + 500 * P_c[423] + 10 * P_f[424] + 500 * P_c[424] + 10 * P_f[425] + 500 * P_c[425] + 10 * P_f[426] + 500 * P_c[426] + 10 * P_f[427] + 500 * P_c[427] + 10 * P_f[428] + 500 * P_c[428] + 10 * P_f[429] + 500 * P_c[429] + 10 * P_f[430] + 500 * P_c[430] + 10 * P_f[431] + 500 * P_c[431] + 10 * P_f[432] + 500 * P_c[432] + 10 * P_f[433] + 500 * P_c[433] + 10 * P_f[434] + 500 * P_c[434] + 10 * P_f[435] + 500 * P_c[435] + 10 * P_f[436] + 500 * P_c[436] + 10 * P_f[437] + 500 * P_c[437] + 10 * P_f[438] + 500 * P_c[438] + 10 * P_f[439] + 500 * P_c[439] + 10 * P_f[440] + 500 * P_c[440] + 10 * P_f[441] + 500 * P_c[441] + 10 * P_f[442] + 500 * P_c[442] + 10 * P_f[443] + 500 * P_c[443] + 10 * P_f[444] + 500 * P_c[444] + 10 * P_f[445] + 500 * P_c[445] + 10 * P_f[446] + 500 * P_c[446] + 10 * P_f[447] + 500 * P_c[447] + 10 * P_f[448] + 500 * P_c[448] + 10 * P_f[449] + 500 * P_c[449] + 10 * P_f[450] + 500 * P_c[450] + 10 * P_f[451] + 500 * P_c[451] + 10 * P_f[452] + 500 * P_c[452] + 10 * P_f[453] + 500 * P_c[453] + 10 * P_f[454] + 500 * P_c[454] + 10 * P_f[455] + 500 * P_c[455] + 10 * P_f[456] + 500 * P_c[456] + 10 * P_f[457] + 500 * P_c[457] + 10 * P_f[458] + 500 * P_c[458] + 10 * P_f[459] + 500 * P_c[459] + 10 * P_f[460] + 500 * P_c[460] + 10 * P_f[461] + 500 * P_c[461] + 10 * P_f[462] + 500 * P_c[462] + 10 * P_f[463] + 500 * P_c[463] + 10 * P_f[464] + 500 * P_c[464] + 10 * P_f[465] + 500 * P_c[465] + 10 * P_f[466] + 500 * P_c[466] + 10 * P_f[467] + 500 * P_c[467] + 10 * P_f[468] + 500 * P_c[468] + 10 * P_f[469] + 500 * P_c[469] + 10 * P_f[470] + 500 * P_c[470] + 10 * P_f[471] + 500 * P_c[471] + 10 * P_f[472] + 500 * P_c[472] + 10 * P_f[473] + 500 * P_c[473] + 10 * P_f[474] + 500 * P_c[474] + 10 * P_f[475] + 500 * P_c[475] + 10 * P_f[476] + 500 * P_c[476] + 10 * P_f[477] + 500 * P_c[477] + 10 * P_f[478] + 500 * P_c[478] + 10 * P_f[479] + 500 * P_c[479] + 10 * P_f[480] + 500 * P_c[480] + 10 * P_f[481] + 500 * P_c[481] + 10 * P_f[482] + 500 * P_c[482] + 10 * P_f[483] + 500 * P_c[483] + 10 * P_f[484] + 500 * P_c[484] + 10 * P_f[485] + 500 * P_c[485] + 10 * P_f[486] + 500 * P_c[486] + 10 * P_f[487] + 500 * P_c[487] + 10 * P_f[488] + 500 * P_c[488] + 10 * P_f[489] + 500 * P_c[489] + 10 * P_f[490] + 500 * P_c[490] + 10 * P_f[491] + 500 * P_c[491] + 10 * P_f[492] + 500 * P_c[492] + 10 * P_f[493] + 500 * P_c[493] + 10 * P_f[494] + 500 * P_c[494] + 10 * P_f[495] + 500 * P_c[495] + 10 * P_f[496] + 500 * P_c[496] + 10 * P_f[497] + 500 * P_c[497] + 10 * P_f[498] + 500 * P_c[498] + 10 * P_f[499] + 500 * P_c[499] + 10 * P_f[500] + 500 * P_c[500] + 10 * P_f[501] + 500 * P_c[501] + 10 * P_f[502] + 500 * P_c[502] + 10 * P_f[503] + 500 * P_c[503] + 10 * P_f[504] + 500 * P_c[504] + 10 * P_f[505] + 500 * P_c[505] + 10 * P_f[506] + 500 * P_c[506] + 10 * P_f[507] + 500 * P_c[507] + 10 * P_f[508] + 500 * P_c[508] + 10 * P_f[509] + 500 * P_c[509] + 10 * P_f[510] + 500 * P_c[510] + 10 * P_f[511] + 500 * P_c[511] + 10 * P_f[512] + 500 * P_c[512] + 10 * P_f[513] + 500 * P_c[513] + 10 * P_f[514] + 500 * P_c[514] + 10 * P_f[515] + 500 * P_c[515] + 10 * P_f[516] + 500 * P_c[516] + 10 * P_f[517] + 500 * P_c[517] + 10 * P_f[518] + 500 * P_c[518] + 10 * P_f[519] + 500 * P_c[519] + 10 * P_f[520] + 500 * P_c[520] + 10 * P_f[521] + 500 * P_c[521] + 10 * P_f[522] + 500 * P_c[522] + 10 * P_f[523] + 500 * P_c[523] + 10 * P_f[524] + 500 * P_c[524] + 10 * P_f[525] + 500 * P_c[525] + 10 * P_f[526] + 500 * P_c[526] + 10 * P_f[527] + 500 * P_c[527] + 10 * P_f[528] + 500 * P_c[528] + 10 * P_f[529] + 500 * P_c[529] + 10 * P_f[530] + 500 * P_c[530] + 10 * P_f[531] + 500 * P_c[531] + 10 * P_f[532] + 500 * P_c[532] + 10 * P_f[533] + 500 * P_c[533] + 10 * P_f[534] + 500 * P_c[534] + 10 * P_f[535] + 500 * P_c[535] + 10 * P_f[536] + 500 * P_c[536] + 10 * P_f[537] + 500 * P_c[537] + 10 * P_f[538] + 500 * P_c[538] + 10 * P_f[539] + 500 * P_c[539] + 10 * P_f[540] + 500 * P_c[540] + 10 * P_f[541] + 500 * P_c[541] + 10 * P_f[542] + 500 * P_c[542] + 10 * P_f[543] + 500 * P_c[543] + 10 * P_f[544] + 500 * P_c[544] + 10 * P_f[545] + 500 * P_c[545] + 10 * P_f[546] + 500 * P_c[546] + 10 * P_f[547] + 500 * P_c[547] + 10 * P_f[548] + 500 * P_c[548] + 10 * P_f[549] + 500 * P_c[549] + 10 * P_f[550] + 500 * P_c[550] + 10 * P_f[551] + 500 * P_c[551] + 10 * P_f[552] + 500 * P_c[552] + 10 * P_f[553] + 500 * P_c[553] + 10 * P_f[554] + 500 * P_c[554] + 10 * P_f[555] + 500 * P_c[555] + 10 * P_f[556] + 500 * P_c[556] + 10 * P_f[557] + 500 * P_c[557] + 10 * P_f[558] + 500 * P_c[558] + 10 * P_f[559] + 500 * P_c[559] + 10 * P_f[560] + 500 * P_c[560] + 10 * P_f[561] + 500 * P_c[561] + 10 * P_f[562] + 500 * P_c[562] + 10 * P_f[563] + 500 * P_c[563] + 10 * P_f[564] + 500 * P_c[564] + 10 * P_f[565] + 500 * P_c[565] + 10 * P_f[566] + 500 * P_c[566] + 10 * P_f[567] + 500 * P_c[567] + 10 * P_f[568] + 500 * P_c[568] + 10 * P_f[569] + 500 * P_c[569] + 10 * P_f[570] + 500 * P_c[570] + 10 * P_f[571] + 500 * P_c[571] + 10 * P_f[572] + 500 * P_c[572] + 10 * P_f[573] + 500 * P_c[573] + 10 * P_f[574] + 500 * P_c[574] + 10 * P_f[575] + 500 * P_c[575] + 10 * P_f[576] + 500 * P_c[576] + 10 * P_f[577] + 500 * P_c[577] + 10 * P_f[578] + 500 * P_c[578] + 10 * P_f[579] + 500 * P_c[579] + 10 * P_f[580] + 500 * P_c[580] + 10 * P_f[581] + 500 * P_c[581] + 10 * P_f[582] + 500 * P_c[582] + 10 * P_f[583] + 500 * P_c[583] + 10 * P_f[584] + 500 * P_c[584] + 10 * P_f[585] + 500 * P_c[585] + 10 * P_f[586] + 500 * P_c[586] + 10 * P_f[587] + 500 * P_c[587] + 10 * P_f[588] + 500 * P_c[588] + 10 * P_f[589] + 500 * P_c[589] + 10 * P_f[590] + 500 * P_c[590] + 10 * P_f[591] + 500 * P_c[591] + 10 * P_f[592] + 500 * P_c[592] + 10 * P_f[593] + 500 * P_c[593] + 10 * P_f[594] + 500 * P_c[594] + 10 * P_f[595] + 500 * P_c[595] + 10 * P_f[596] + 500 * P_c[596] + 10 * P_f[597] + 500 * P_c[597] + 10 * P_f[598] + 500 * P_c[598] + 10 * P_f[599] + 500 * P_c[599] + 10 * P_f[600] + 500 * P_c[600] + 10 * P_f[601] + 500 * P_c[601] + 10 * P_f[602] + 500 * P_c[602] + 10 * P_f[603] + 500 * P_c[603] + 10 * P_f[604] + 500 * P_c[604] + 10 * P_f[605] + 500 * P_c[605] + 10 * P_f[606] + 500 * P_c[606] + 10 * P_f[607] + 500 * P_c[607] + 10 * P_f[608] + 500 * P_c[608] + 10 * P_f[609] + 500 * P_c[609] + 10 * P_f[610] + 500 * P_c[610] + 10 * P_f[611] + 500 * P_c[611] + 10 * P_f[612] + 500 * P_c[612] + 10 * P_f[613] + 500 * P_c[613] + 10 * P_f[614] + 500 * P_c[614] + 10 * P_f[615] + 500 * P_c[615] + 10 * P_f[616] + 500 * P_c[616] + 10 * P_f[617] + 500 * P_c[617] + 10 * P_f[618] + 500 * P_c[618] + 10 * P_f[619] + 500 * P_c[619] + 10 * P_f[620] + 500 * P_c[620] + 10 * P_f[621] + 500 * P_c[621] + 10 * P_f[622] + 500 * P_c[622] + 10 * P_f[623] + 500 * P_c[623] + 10 * P_f[624] + 500 * P_c[624] + 10 * P_f[625] + 500 * P_c[625] + 10 * P_f[626] + 500 * P_c[626] + 10 * P_f[627] + 500 * P_c[627] + 10 * P_f[628] + 500 * P_c[628] + 10 * P_f[629] + 500 * P_c[629] + 10 * P_f[630] + 500 * P_c[630] + 10 * P_f[631] + 500 * P_c[631] + 10 * P_f[632] + 500 * P_c[632] + 10 * P_f[633] + 500 * P_c[633] + 10 * P_f[634] + 500 * P_c[634] + 10 * P_f[635] + 500 * P_c[635] + 10 * P_f[636] + 500 * P_c[636] + 10 * P_f[637] + 500 * P_c[637] + 10 * P_f[638] + 500 * P_c[638] + 10 * P_f[639] + 500 * P_c[639] + 10 * P_f[640] + 500 * P_c[640] + 10 * P_f[641] + 500 * P_c[641] + 10 * P_f[642] + 500 * P_c[642] + 10 * P_f[643] + 500 * P_c[643] + 10 * P_f[644] + 500 * P_c[644] + 10 * P_f[645] + 500 * P_c[645] + 10 * P_f[646] + 500 * P_c[646] + 10 * P_f[647] + 500 * P_c[647] + 10 * P_f[648] + 500 * P_c[648] + 10 * P_f[649] + 500 * P_c[649] + 10 * P_f[650] + 500 * P_c[650] + 10 * P_f[651] + 500 * P_c[651] + 10 * P_f[652] + 500 * P_c[652] + 10 * P_f[653] + 500 * P_c[653] + 10 * P_f[654] + 500 * P_c[654] + 10 * P_f[655] + 500 * P_c[655] + 10 * P_f[656] + 500 * P_c[656] + 10 * P_f[657] + 500 * P_c[657] + 10 * P_f[658] + 500 * P_c[658] + 10 * P_f[659] + 500 * P_c[659] + 10 * P_f[660] + 500 * P_c[660] + 10 * P_f[661] + 500 * P_c[661] + 10 * P_f[662] + 500 * P_c[662] + 10 * P_f[663] + 500 * P_c[663] + 10 * P_f[664] + 500 * P_c[664] + 10 * P_f[665] + 500 * P_c[665] + 10 * P_f[666] + 500 * P_c[666] + 10 * P_f[667] + 500 * P_c[667] + 10 * P_f[668] + 500 * P_c[668] + 10 * P_f[669] + 500 * P_c[669] + 10 * P_f[670] + 500 * P_c[670] + 10 * P_f[671] + 500 * P_c[671] + 10 * P_f[672] + 500 * P_c[672] + 10 * P_f[673] + 500 * P_c[673] + 10 * P_f[674] + 500 * P_c[674] + 10 * P_f[675] + 500 * P_c[675] + 10 * P_f[676] + 500 * P_c[676] + 10 * P_f[677] + 500 * P_c[677] + 10 * P_f[678] + 500 * P_c[678] + 10 * P_f[679] + 500 * P_c[679] + 10 * P_f[680] + 500 * P_c[680] + 10 * P_f[681] + 500 * P_c[681] + 10 * P_f[682] + 500 * P_c[682] + 10 * P_f[683] + 500 * P_c[683] + 10 * P_f[684] + 500 * P_c[684] + 10 * P_f[685] + 500 * P_c[685] + 10 * P_f[686] + 500 * P_c[686] + 10 * P_f[687] + 500 * P_c[687] + 10 * P_f[688] + 500 * P_c[688] + 10 * P_f[689] + 500 * P_c[689] + 10 * P_f[690] + 500 * P_c[690] + 10 * P_f[691] + 500 * P_c[691] + 10 * P_f[692] + 500 * P_c[692] + 10 * P_f[693] + 500 * P_c[693] + 10 * P_f[694] + 500 * P_c[694] + 10 * P_f[695] + 500 * P_c[695] + 10 * P_f[696] + 500 * P_c[696] + 10 * P_f[697] + 500 * P_c[697] + 10 * P_f[698] + 500 * P_c[698] + 10 * P_f[699] + 500 * P_c[699] + 10 * P_f[700] + 500 * P_c[700] + 10 * P_f[701] + 500 * P_c[701] + 10 * P_f[702] + 500 * P_c[702] + 10 * P_f[703] + 500 * P_c[703] + 10 * P_f[704] + 500 * P_c[704] + 10 * P_f[705] + 500 * P_c[705] + 10 * P_f[706] + 500 * P_c[706] + 10 * P_f[707] + 500 * P_c[707] + 10 * P_f[708] + 500 * P_c[708] + 10 * P_f[709] + 500 * P_c[709] + 10 * P_f[710] + 500 * P_c[710] + 10 * P_f[711] + 500 * P_c[711] + 10 * P_f[712] + 500 * P_c[712] + 10 * P_f[713] + 500 * P_c[713] + 10 * P_f[714] + 500 * P_c[714] + 10 * P_f[715] + 500 * P_c[715] + 10 * P_f[716] + 500 * P_c[716] + 10 * P_f[717] + 500 * P_c[717] + 10 * P_f[718] + 500 * P_c[718] + 10 * P_f[719] + 500 * P_c[719] + 10 * P_f[720] + 500 * P_c[720] + 10 * P_f[721] + 500 * P_c[721] + 10 * P_f[722] + 500 * P_c[722] + 10 * P_f[723] + 500 * P_c[723] + 10 * P_f[724] + 500 * P_c[724] + 10 * P_f[725] + 500 * P_c[725] + 10 * P_f[726] + 500 * P_c[726] + 10 * P_f[727] + 500 * P_c[727] + 10 * P_f[728] + 500 * P_c[728] + 10 * P_f[729] + 500 * P_c[729] + 10 * P_f[730] + 500 * P_c[730] + 10 * P_f[731] + 500 * P_c[731] + 10 * P_f[732] + 500 * P_c[732] + 10 * P_f[733] + 500 * P_c[733] + 10 * P_f[734] + 500 * P_c[734] + 10 * P_f[735] + 500 * P_c[735] + 10 * P_f[736] + 500 * P_c[736] + 10 * P_f[737] + 500 * P_c[737] + 10 * P_f[738] + 500 * P_c[738] + 10 * P_f[739] + 500 * P_c[739] + 10 * P_f[740] + 500 * P_c[740] + 10 * P_f[741] + 500 * P_c[741] + 10 * P_f[742] + 500 * P_c[742] + 10 * P_f[743] + 500 * P_c[743] + 10 * P_f[744] + 500 * P_c[744] + 10 * P_f[745] + 500 * P_c[745] + 10 * P_f[746] + 500 * P_c[746] + 10 * P_f[747] + 500 * P_c[747] + 10 * P_f[748] + 500 * P_c[748] + 10 * P_f[749] + 500 * P_c[749] + 10 * P_f[750] + 500 * P_c[750] + 10 * P_f[751] + 500 * P_c[751] + 10 * P_f[752] + 500 * P_c[752] + 10 * P_f[753] + 500 * P_c[753] + 10 * P_f[754] + 500 * P_c[754] + 10 * P_f[755] + 500 * P_c[755] + 10 * P_f[756] + 500 * P_c[756] + 10 * P_f[757] + 500 * P_c[757] + 10 * P_f[758] + 500 * P_c[758] + 10 * P_f[759] + 500 * P_c[759] + 10 * P_f[760] + 500 * P_c[760] + 10 * P_f[761] + 500 * P_c[761] + 10 * P_f[762] + 500 * P_c[762] + 10 * P_f[763] + 500 * P_c[763] + 10 * P_f[764] + 500 * P_c[764] + 10 * P_f[765] + 500 * P_c[765] + 10 * P_f[766] + 500 * P_c[766] + 10 * P_f[767] + 500 * P_c[767] + 10 * P_f[768] + 500 * P_c[768] + 10 * P_f[769] + 500 * P_c[769] + 10 * P_f[770] + 500 * P_c[770] + 10 * P_f[771] + 500 * P_c[771] + 10 * P_f[772] + 500 * P_c[772] + 10 * P_f[773] + 500 * P_c[773] + 10 * P_f[774] + 500 * P_c[774] + 10 * P_f[775] + 500 * P_c[775] + 10 * P_f[776] + 500 * P_c[776] + 10 * P_f[777] + 500 * P_c[777] + 10 * P_f[778] + 500 * P_c[778] + 10 * P_f[779] + 500 * P_c[779] + 10 * P_f[780] + 500 * P_c[780] + 10 * P_f[781] + 500 * P_c[781] + 10 * P_f[782] + 500 * P_c[782] + 10 * P_f[783] + 500 * P_c[783] + 10 * P_f[784] + 500 * P_c[784] + 10 * P_f[785] + 500 * P_c[785] + 10 * P_f[786] + 500 * P_c[786] + 10 * P_f[787] + 500 * P_c[787] + 10 * P_f[788] + 500 * P_c[788] + 10 * P_f[789] + 500 * P_c[789] + 10 * P_f[790] + 500 * P_c[790] + 10 * P_f[791] + 500 * P_c[791] + 10 * P_f[792] + 500 * P_c[792] + 10 * P_f[793] + 500 * P_c[793] + 10 * P_f[794] + 500 * P_c[794] + 10 * P_f[795] + 500 * P_c[795] + 10 * P_f[796] + 500 * P_c[796] + 10 * P_f[797] + 500 * P_c[797] + 10 * P_f[798] + 500 * P_c[798] + 10 * P_f[799] + 500 * P_c[799] + 10 * P_f[800] + 500 * P_c[800] + 10 * P_f[801] + 500 * P_c[801] + 10 * P_f[802] + 500 * P_c[802] + 10 * P_f[803] + 500 * P_c[803] + 10 * P_f[804] + 500 * P_c[804] + 10 * P_f[805] + 500 * P_c[805] + 10 * P_f[806] + 500 * P_c[806] + 10 * P_f[807] + 500 * P_c[807] + 10 * P_f[808] + 500 * P_c[808] + 10 * P_f[809] + 500 * P_c[809] + 10 * P_f[810] + 500 * P_c[810] + 10 * P_f[811] + 500 * P_c[811] + 10 * P_f[812] + 500 * P_c[812] + 10 * P_f[813] + 500 * P_c[813] + 10 * P_f[814] + 500 * P_c[814] + 10 * P_f[815] + 500 * P_c[815] + 10 * P_f[816] + 500 * P_c[816] + 10 * P_f[817] + 500 * P_c[817] + 10 * P_f[818] + 500 * P_c[818] + 10 * P_f[819] + 500 * P_c[819] + 10 * P_f[820] + 500 * P_c[820] + 10 * P_f[821] + 500 * P_c[821] + 10 * P_f[822] + 500 * P_c[822] + 10 * P_f[823] + 500 * P_c[823] + 10 * P_f[824] + 500 * P_c[824] + 10 * P_f[825] + 500 * P_c[825] + 10 * P_f[826] + 500 * P_c[826] + 10 * P_f[827] + 500 * P_c[827] + 10 * P_f[828] + 500 * P_c[828] + 10 * P_f[829] + 500 * P_c[829] + 10 * P_f[830] + 500 * P_c[830] + 10 * P_f[831] + 500 * P_c[831] + 10 * P_f[832] + 500 * P_c[832] + 10 * P_f[833] + 500 * P_c[833] + 10 * P_f[834] + 500 * P_c[834] + 10 * P_f[835] + 500 * P_c[835] + 10 * P_f[836] + 500 * P_c[836] + 10 * P_f[837] + 500 * P_c[837] + 10 * P_f[838] + 500 * P_c[838] + 10 * P_f[839] + 500 * P_c[839] + 10 * P_f[840] + 500 * P_c[840] + 10 * P_f[841] + 500 * P_c[841] + 10 * P_f[842] + 500 * P_c[842] + 10 * P_f[843] + 500 * P_c[843] + 10 * P_f[844] + 500 * P_c[844] + 10 * P_f[845] + 500 * P_c[845] + 10 * P_f[846] + 500 * P_c[846] + 10 * P_f[847] + 500 * P_c[847] + 10 * P_f[848] + 500 * P_c[848] + 10 * P_f[849] + 500 * P_c[849] + 10 * P_f[850] + 500 * P_c[850] + 10 * P_f[851] + 500 * P_c[851] + 10 * P_f[852] + 500 * P_c[852] + 10 * P_f[853] + 500 * P_c[853] + 10 * P_f[854] + 500 * P_c[854] + 10 * P_f[855] + 500 * P_c[855] + 10 * P_f[856] + 500 * P_c[856] + 10 * P_f[857] + 500 * P_c[857] + 10 * P_f[858] + 500 * P_c[858] + 10 * P_f[859] + 500 * P_c[859] + 10 * P_f[860] + 500 * P_c[860] + 10 * P_f[861] + 500 * P_c[861] + 10 * P_f[862] + 500 * P_c[862] + 10 * P_f[863] + 500 * P_c[863] + 10 * P_f[864] + 500 * P_c[864] + 10 * P_f[865] + 500 * P_c[865] + 10 * P_f[866] + 500 * P_c[866] + 10 * P_f[867] + 500 * P_c[867] + 10 * P_f[868] + 500 * P_c[868] + 10 * P_f[869] + 500 * P_c[869] + 10 * P_f[870] + 500 * P_c[870] + 10 * P_f[871] + 500 * P_c[871] + 10 * P_f[872] + 500 * P_c[872] + 10 * P_f[873] + 500 * P_c[873] + 10 * P_f[874] + 500 * P_c[874] + 10 * P_f[875] + 500 * P_c[875] + 10 * P_f[876] + 500 * P_c[876] + 10 * P_f[877] + 500 * P_c[877] + 10 * P_f[878] + 500 * P_c[878] + 10 * P_f[879] + 500 * P_c[879] + 10 * P_f[880] + 500 * P_c[880] + 10 * P_f[881] + 500 * P_c[881] + 10 * P_f[882] + 500 * P_c[882] + 10 * P_f[883] + 500 * P_c[883] + 10 * P_f[884] + 500 * P_c[884] + 10 * P_f[885] + 500 * P_c[885] + 10 * P_f[886] + 500 * P_c[886] + 10 * P_f[887] + 500 * P_c[887] + 10 * P_f[888] + 500 * P_c[888] + 10 * P_f[889] + 500 * P_c[889] + 10 * P_f[890] + 500 * P_c[890] + 10 * P_f[891] + 500 * P_c[891] + 10 * P_f[892] + 500 * P_c[892] + 10 * P_f[893] + 500 * P_c[893] + 10 * P_f[894] + 500 * P_c[894] + 10 * P_f[895] + 500 * P_c[895] + 10 * P_f[896] + 500 * P_c[896] + 10 * P_f[897] + 500 * P_c[897] + 10 * P_f[898] + 500 * P_c[898] + 10 * P_f[899] + 500 * P_c[899] + 10 * P_f[900] + 500 * P_c[900] + 10 * P_f[901] + 500 * P_c[901] + 10 * P_f[902] + 500 * P_c[902] + 10 * P_f[903] + 500 * P_c[903] + 10 * P_f[904] + 500 * P_c[904] + 10 * P_f[905] + 500 * P_c[905] + 10 * P_f[906] + 500 * P_c[906] + 10 * P_f[907] + 500 * P_c[907] + 10 * P_f[908] + 500 * P_c[908] + 10 * P_f[909] + 500 * P_c[909] + 10 * P_f[910] + 500 * P_c[910] + 10 * P_f[911] + 500 * P_c[911] + 10 * P_f[912] + 500 * P_c[912] + 10 * P_f[913] + 500 * P_c[913] + 10 * P_f[914] + 500 * P_c[914] + 10 * P_f[915] + 500 * P_c[915] + 10 * P_f[916] + 500 * P_c[916] + 10 * P_f[917] + 500 * P_c[917] + 10 * P_f[918] + 500 * P_c[918] + 10 * P_f[919] + 500 * P_c[919] + 10 * P_f[920] + 500 * P_c[920] + 10 * P_f[921] + 500 * P_c[921] + 10 * P_f[922] + 500 * P_c[922] + 10 * P_f[923] + 500 * P_c[923] + 10 * P_f[924] + 500 * P_c[924] + 10 * P_f[925] + 500 * P_c[925] + 10 * P_f[926] + 500 * P_c[926] + 10 * P_f[927] + 500 * P_c[927] + 10 * P_f[928] + 500 * P_c[928] + 10 * P_f[929] + 500 * P_c[929] + 10 * P_f[930] + 500 * P_c[930] + 10 * P_f[931] + 500 * P_c[931] + 10 * P_f[932] + 500 * P_c[932] + 10 * P_f[933] + 500 * P_c[933] + 10 * P_f[934] + 500 * P_c[934] + 10 * P_f[935] + 500 * P_c[935] + 10 * P_f[936] + 500 * P_c[936] + 10 * P_f[937] + 500 * P_c[937] + 10 * P_f[938] + 500 * P_c[938] + 10 * P_f[939] + 500 * P_c[939] + 10 * P_f[940] + 500 * P_c[940] + 10 * P_f[941] + 500 * P_c[941] + 10 * P_f[942] + 500 * P_c[942] + 10 * P_f[943] + 500 * P_c[943] + 10 * P_f[944] + 500 * P_c[944] + 10 * P_f[945] + 500 * P_c[945] + 10 * P_f[946] + 500 * P_c[946] + 10 * P_f[947] + 500 * P_c[947] + 10 * P_f[948] + 500 * P_c[948] + 10 * P_f[949] + 500 * P_c[949] + 10 * P_f[950] + 500 * P_c[950] + 10 * P_f[951] + 500 * P_c[951] + 10 * P_f[952] + 500 * P_c[952] + 10 * P_f[953] + 500 * P_c[953] + 10 * P_f[954] + 500 * P_c[954] + 10 * P_f[955] + 500 * P_c[955] + 10 * P_f[956] + 500 * P_c[956] + 10 * P_f[957] + 500 * P_c[957] + 10 * P_f[958] + 500 * P_c[958] + 10 * P_f[959] + 500 * P_c[959] + 10 * P_f[960] + 500 * P_c[960] + 10 * P_f[961] + 500 * P_c[961] + 10 * P_f[962] + 500 * P_c[962] + 10 * P_f[963] + 500 * P_c[963] + 10 * P_f[964] + 500 * P_c[964] + 10 * P_f[965] + 500 * P_c[965] + 10 * P_f[966] + 500 * P_c[966] + 10 * P_f[967] + 500 * P_c[967] + 10 * P_f[968] + 500 * P_c[968] + 10 * P_f[969] + 500 * P_c[969] + 10 * P_f[970] + 500 * P_c[970] + 10 * P_f[971] + 500 * P_c[971] + 10 * P_f[972] + 500 * P_c[972] + 10 * P_f[973] + 500 * P_c[973] + 10 * P_f[974] + 500 * P_c[974] + 10 * P_f[975] + 500 * P_c[975] + 10 * P_f[976] + 500 * P_c[976] + 10 * P_f[977] + 500 * P_c[977] + 10 * P_f[978] + 500 * P_c[978] + 10 * P_f[979] + 500 * P_c[979] + 10 * P_f[980] + 500 * P_c[980] + 10 * P_f[981] + 500 * P_c[981] + 10 * P_f[982] + 500 * P_c[982] + 10 * P_f[983] + 500 * P_c[983] + 10 * P_f[984] + 500 * P_c[984] + 10 * P_f[985] + 500 * P_c[985] + 10 * P_f[986] + 500 * P_c[986] + 10 * P_f[987] + 500 * P_c[987] + 10 * P_f[988] + 500 * P_c[988] + 10 * P_f[989] + 500 * P_c[989] + 10 * P_f[990] + 500 * P_c[990] + 10 * P_f[991] + 500 * P_c[991] + 10 * P_f[992] + 500 * P_c[992] + 10 * P_f[993] + 500 * P_c[993] + 10 * P_f[994] + 500 * P_c[994] + 10 * P_f[995] + 500 * P_c[995] + 10 * P_f[996] + 500 * P_c[996] + 10 * P_f[997] + 500 * P_c[997] + 10 * P_f[998] + 500 * P_c[998] + 10 * P_f[999] + 500 * P_c[999] + 10 * P_f[1000] + 500 * P_c[1000] + 10 * P_f[1001] + 500 * P_c[1001] + 10 * P_f[1002] + 500 * P_c[1002] + 10 * P_f[1003] + 500 * P_c[1003] + 10 * P_f[1004] + 500 * P_c[1004] + 10 * P_f[1005] + 500 * P_c[1005] + 10 * P_f[1006] + 500 * P_c[1006] + 10 * P_f[1007] + 500 * P_c[1007] + 10 * P_f[1008] + 500 * P_c[1008] + 10 * P_f[1009] + 500 * P_c[1009] + 10 * P_f[1010] + 500 * P_c[1010] + 10 * P_f[1011] + 500 * P_c[1011] + 10 * P_f[1012] + 500 * P_c[1012] + 10 * P_f[1013] + 500 * P_c[1013] + 10 * P_f[1014] + 500 * P_c[1014] + 10 * P_f[1015] + 500 * P_c[1015] + 10 * P_f[1016] + 500 * P_c[1016] + 10 * P_f[1017] + 500 * P_c[1017] + 10 * P_f[1018] + 500 * P_c[1018] + 10 * P_f[1019] + 500 * P_c[1019] + 10 * P_f[1020] + 500 * P_c[1020] + 10 * P_f[1021] + 500 * P_c[1021] + 10 * P_f[1022] + 500 * P_c[1022] + 10 * P_f[1023] + 500 * P_c[1023] + 10 * P_f[1024] + 500 * P_c[1024] + 10 * P_f[1025] + 500 * P_c[1025] + 10 * P_f[1026] + 500 * P_c[1026] + 10 * P_f[1027] + 500 * P_c[1027] + 10 * P_f[1028] + 500 * P_c[1028] + 10 * P_f[1029] + 500 * P_c[1029] + 10 * P_f[1030] + 500 * P_c[1030] + 10 * P_f[1031] + 500 * P_c[1031] + 10 * P_f[1032] + 500 * P_c[1032] + 10 * P_f[1033] + 500 * P_c[1033] + 10 * P_f[1034] + 500 * P_c[1034] + 10 * P_f[1035] + 500 * P_c[1035] + 10 * P_f[1036] + 500 * P_c[1036] + 10 * P_f[1037] + 500 * P_c[1037] + 10 * P_f[1038] + 500 * P_c[1038] + 10 * P_f[1039] + 500 * P_c[1039] + 10 * P_f[1040] + 500 * P_c[1040] + 10 * P_f[1041] + 500 * P_c[1041] + 10 * P_f[1042] + 500 * P_c[1042] + 10 * P_f[1043] + 500 * P_c[1043] + 10 * P_f[1044] + 500 * P_c[1044] + 10 * P_f[1045] + 500 * P_c[1045] + 10 * P_f[1046] + 500 * P_c[1046] + 10 * P_f[1047] + 500 * P_c[1047] + 10 * P_f[1048] + 500 * P_c[1048] + 10 * P_f[1049] + 500 * P_c[1049] + 10 * P_f[1050] + 500 * P_c[1050] + 10 * P_f[1051] + 500 * P_c[1051] + 10 * P_f[1052] + 500 * P_c[1052] + 10 * P_f[1053] + 500 * P_c[1053] + 10 * P_f[1054] + 500 * P_c[1054] + 10 * P_f[1055] + 500 * P_c[1055] + 10 * P_f[1056] + 500 * P_c[1056] + 10 * P_f[1057] + 500 * P_c[1057] + 10 * P_f[1058] + 500 * P_c[1058] + 10 * P_f[1059] + 500 * P_c[1059] + 10 * P_f[1060] + 500 * P_c[1060] + 10 * P_f[1061] + 500 * P_c[1061] + 10 * P_f[1062] + 500 * P_c[1062] + 10 * P_f[1063] + 500 * P_c[1063] + 10 * P_f[1064] + 500 * P_c[1064] + 10 * P_f[1065] + 500 * P_c[1065] + 10 * P_f[1066] + 500 * P_c[1066] + 10 * P_f[1067] + 500 * P_c[1067] + 10 * P_f[1068] + 500 * P_c[1068] + 10 * P_f[1069] + 500 * P_c[1069] + 10 * P_f[1070] + 500 * P_c[1070] + 10 * P_f[1071] + 500 * P_c[1071] + 10 * P_f[1072] + 500 * P_c[1072] + 10 * P_f[1073] + 500 * P_c[1073] + 10 * P_f[1074] + 500 * P_c[1074] + 10 * P_f[1075] + 500 * P_c[1075] + 10 * P_f[1076] + 500 * P_c[1076] + 10 * P_f[1077] + 500 * P_c[1077] + 10 * P_f[1078] + 500 * P_c[1078] + 10 * P_f[1079] + 500 * P_c[1079] + 10 * P_f[1080] + 500 * P_c[1080] + 10 * P_f[1081] + 500 * P_c[1081] + 10 * P_f[1082] + 500 * P_c[1082] + 10 * P_f[1083] + 500 * P_c[1083] + 10 * P_f[1084] + 500 * P_c[1084] + 10 * P_f[1085] + 500 * P_c[1085] + 10 * P_f[1086] + 500 * P_c[1086] + 10 * P_f[1087] + 500 * P_c[1087] + 10 * P_f[1088] + 500 * P_c[1088] + 10 * P_f[1089] + 500 * P_c[1089] + 10 * P_f[1090] + 500 * P_c[1090] + 10 * P_f[1091] + 500 * P_c[1091] + 10 * P_f[1092] + 500 * P_c[1092] + 10 * P_f[1093] + 500 * P_c[1093] + 10 * P_f[1094] + 500 * P_c[1094] + 10 * P_f[1095] + 500 * P_c[1095] + 10 * P_f[1096] + 500 * P_c[1096] + 10 * P_f[1097] + 500 * P_c[1097] + 10 * P_f[1098] + 500 * P_c[1098] + 10 * P_f[1099] + 500 * P_c[1099] + 10 * P_f[1100] + 500 * P_c[1100] + 10 * P_f[1101] + 500 * P_c[1101] + 10 * P_f[1102] + 500 * P_c[1102] + 10 * P_f[1103] + 500 * P_c[1103] + 10 * P_f[1104] + 500 * P_c[1104] + 10 * P_f[1105] + 500 * P_c[1105] + 10 * P_f[1106] + 500 * P_c[1106] + 10 * P_f[1107] + 500 * P_c[1107] + 10 * P_f[1108] + 500 * P_c[1108] + 10 * P_f[1109] + 500 * P_c[1109] + 10 * P_f[1110] + 500 * P_c[1110] + 10 * P_f[1111] + 500 * P_c[1111] + 10 * P_f[1112] + 500 * P_c[1112] + 10 * P_f[1113] + 500 * P_c[1113] + 10 * P_f[1114] + 500 * P_c[1114] + 10 * P_f[1115] + 500 * P_c[1115] + 10 * P_f[1116] + 500 * P_c[1116] + 10 * P_f[1117] + 500 * P_c[1117] + 10 * P_f[1118] + 500 * P_c[1118] + 10 * P_f[1119] + 500 * P_c[1119] + 10 * P_f[1120] + 500 * P_c[1120] + 10 * P_f[1121] + 500 * P_c[1121] + 10 * P_f[1122] + 500 * P_c[1122] + 10 * P_f[1123] + 500 * P_c[1123] + 10 * P_f[1124] + 500 * P_c[1124] + 10 * P_f[1125] + 500 * P_c[1125] + 10 * P_f[1126] + 500 * P_c[1126] + 10 * P_f[1127] + 500 * P_c[1127] + 10 * P_f[1128] + 500 * P_c[1128] + 10 * P_f[1129] + 500 * P_c[1129] + 10 * P_f[1130] + 500 * P_c[1130] + 10 * P_f[1131] + 500 * P_c[1131] + 10 * P_f[1132] + 500 * P_c[1132] + 10 * P_f[1133] + 500 * P_c[1133] + 10 * P_f[1134] + 500 * P_c[1134] + 10 * P_f[1135] + 500 * P_c[1135] + 10 * P_f[1136] + 500 * P_c[1136] + 10 * P_f[1137] + 500 * P_c[1137] + 10 * P_f[1138] + 500 * P_c[1138] + 10 * P_f[1139] + 500 * P_c[1139] + 10 * P_f[1140] + 500 * P_c[1140] + 10 * P_f[1141] + 500 * P_c[1141] + 10 * P_f[1142] + 500 * P_c[1142] + 10 * P_f[1143] + 500 * P_c[1143] + 10 * P_f[1144] + 500 * P_c[1144] + 10 * P_f[1145] + 500 * P_c[1145] + 10 * P_f[1146] + 500 * P_c[1146] + 10 * P_f[1147] + 500 * P_c[1147] + 10 * P_f[1148] + 500 * P_c[1148] + 10 * P_f[1149] + 500 * P_c[1149] + 10 * P_f[1150] + 500 * P_c[1150] + 10 * P_f[1151] + 500 * P_c[1151] + 10 * P_f[1152] + 500 * P_c[1152] + 10 * P_f[1153] + 500 * P_c[1153] + 10 * P_f[1154] + 500 * P_c[1154] + 10 * P_f[1155] + 500 * P_c[1155] + 10 * P_f[1156] + 500 * P_c[1156] + 10 * P_f[1157] + 500 * P_c[1157] + 10 * P_f[1158] + 500 * P_c[1158] + 10 * P_f[1159] + 500 * P_c[1159] + 10 * P_f[1160] + 500 * P_c[1160] + 10 * P_f[1161] + 500 * P_c[1161] + 10 * P_f[1162] + 500 * P_c[1162] + 10 * P_f[1163] + 500 * P_c[1163] + 10 * P_f[1164] + 500 * P_c[1164] + 10 * P_f[1165] + 500 * P_c[1165] + 10 * P_f[1166] + 500 * P_c[1166] + 10 * P_f[1167] + 500 * P_c[1167] + 10 * P_f[1168] + 500 * P_c[1168] + 10 * P_f[1169] + 500 * P_c[1169] + 10 * P_f[1170] + 500 * P_c[1170] + 10 * P_f[1171] + 500 * P_c[1171] + 10 * P_f[1172] + 500 * P_c[1172] + 10 * P_f[1173] + 500 * P_c[1173] + 10 * P_f[1174] + 500 * P_c[1174] + 10 * P_f[1175] + 500 * P_c[1175] + 10 * P_f[1176] + 500 * P_c[1176] + 10 * P_f[1177] + 500 * P_c[1177] + 10 * P_f[1178] + 500 * P_c[1178] + 10 * P_f[1179] + 500 * P_c[1179] + 10 * P_f[1180] + 500 * P_c[1180] + 10 * P_f[1181] + 500 * P_c[1181] + 10 * P_f[1182] + 500 * P_c[1182] + 10 * P_f[1183] + 500 * P_c[1183] + 10 * P_f[1184] + 500 * P_c[1184] + 10 * P_f[1185] + 500 * P_c[1185] + 10 * P_f[1186] + 500 * P_c[1186] + 10 * P_f[1187] + 500 * P_c[1187] + 10 * P_f[1188] + 500 * P_c[1188] + 10 * P_f[1189] + 500 * P_c[1189] + 10 * P_f[1190] + 500 * P_c[1190] + 10 * P_f[1191] + 500 * P_c[1191] + 10 * P_f[1192] + 500 * P_c[1192] + 10 * P_f[1193] + 500 * P_c[1193] + 10 * P_f[1194] + 500 * P_c[1194] + 10 * P_f[1195] + 500 * P_c[1195] + 10 * P_f[1196] + 500 * P_c[1196] + 10 * P_f[1197] + 500 * P_c[1197] + 10 * P_f[1198] + 500 * P_c[1198] + 10 * P_f[1199] + 500 * P_c[1199] + 10 * P_f[1200] + 500 * P_c[1200] + 10 * P_f[1201] + 500 * P_c[1201] + 10 * P_f[1202] + 500 * P_c[1202] + 10 * P_f[1203] + 500 * P_c[1203] + 10 * P_f[1204] + 500 * P_c[1204] + 10 * P_f[1205] + 500 * P_c[1205] + 10 * P_f[1206] + 500 * P_c[1206] + 10 * P_f[1207] + 500 * P_c[1207] + 10 * P_f[1208] + 500 * P_c[1208] + 10 * P_f[1209] + 500 * P_c[1209] + 10 * P_f[1210] + 500 * P_c[1210] + 10 * P_f[1211] + 500 * P_c[1211] + 10 * P_f[1212] + 500 * P_c[1212] + 10 * P_f[1213] + 500 * P_c[1213] + 10 * P_f[1214] + 500 * P_c[1214] + 10 * P_f[1215] + 500 * P_c[1215] + 10 * P_f[1216] + 500 * P_c[1216] + 10 * P_f[1217] + 500 * P_c[1217] + 10 * P_f[1218] + 500 * P_c[1218] + 10 * P_f[1219] + 500 * P_c[1219] + 10 * P_f[1220] + 500 * P_c[1220] + 10 * P_f[1221] + 500 * P_c[1221] + 10 * P_f[1222] + 500 * P_c[1222] + 10 * P_f[1223] + 500 * P_c[1223] + 10 * P_f[1224] + 500 * P_c[1224] + 10 * P_f[1225] + 500 * P_c[1225] + 10 * P_f[1226] + 500 * P_c[1226] + 10 * P_f[1227] + 500 * P_c[1227] + 10 * P_f[1228] + 500 * P_c[1228] + 10 * P_f[1229] + 500 * P_c[1229] + 10 * P_f[1230] + 500 * P_c[1230] + 10 * P_f[1231] + 500 * P_c[1231] + 10 * P_f[1232] + 500 * P_c[1232] + 10 * P_f[1233] + 500 * P_c[1233] + 10 * P_f[1234] + 500 * P_c[1234] + 10 * P_f[1235] + 500 * P_c[1235] + 10 * P_f[1236] + 500 * P_c[1236] + 10 * P_f[1237] + 500 * P_c[1237] + 10 * P_f[1238] + 500 * P_c[1238] + 10 * P_f[1239] + 500 * P_c[1239] + 10 * P_f[1240] + 500 * P_c[1240] + 10 * P_f[1241] + 500 * P_c[1241] + 10 * P_f[1242] + 500 * P_c[1242] + 10 * P_f[1243] + 500 * P_c[1243] + 10 * P_f[1244] + 500 * P_c[1244] + 10 * P_f[1245] + 500 * P_c[1245] + 10 * P_f[1246] + 500 * P_c[1246] + 10 * P_f[1247] + 500 * P_c[1247] + 10 * P_f[1248] + 500 * P_c[1248] + 10 * P_f[1249] + 500 * P_c[1249] + 10 * P_f[1250] + 500 * P_c[1250] + 10 * P_f[1251] + 500 * P_c[1251] + 10 * P_f[1252] + 500 * P_c[1252] + 10 * P_f[1253] + 500 * P_c[1253] + 10 * P_f[1254] + 500 * P_c[1254] + 10 * P_f[1255] + 500 * P_c[1255] + 10 * P_f[1256] + 500 * P_c[1256] + 10 * P_f[1257] + 500 * P_c[1257] + 10 * P_f[1258] + 500 * P_c[1258] + 10 * P_f[1259] + 500 * P_c[1259] + 10 * P_f[1260] + 500 * P_c[1260] + 10 * P_f[1261] + 500 * P_c[1261] + 10 * P_f[1262] + 500 * P_c[1262] + 10 * P_f[1263] + 500 * P_c[1263] + 10 * P_f[1264] + 500 * P_c[1264] + 10 * P_f[1265] + 500 * P_c[1265] + 10 * P_f[1266] + 500 * P_c[1266] + 10 * P_f[1267] + 500 * P_c[1267] + 10 * P_f[1268] + 500 * P_c[1268] + 10 * P_f[1269] + 500 * P_c[1269] + 10 * P_f[1270] + 500 * P_c[1270] + 10 * P_f[1271] + 500 * P_c[1271] + 10 * P_f[1272] + 500 * P_c[1272] + 10 * P_f[1273] + 500 * P_c[1273] + 10 * P_f[1274] + 500 * P_c[1274] + 10 * P_f[1275] + 500 * P_c[1275] + 10 * P_f[1276] + 500 * P_c[1276] + 10 * P_f[1277] + 500 * P_c[1277] + 10 * P_f[1278] + 500 * P_c[1278] + 10 * P_f[1279] + 500 * P_c[1279] + 10 * P_f[1280] + 500 * P_c[1280] + 10 * P_f[1281] + 500 * P_c[1281] + 10 * P_f[1282] + 500 * P_c[1282] + 10 * P_f[1283] + 500 * P_c[1283] + 10 * P_f[1284] + 500 * P_c[1284] + 10 * P_f[1285] + 500 * P_c[1285] + 10 * P_f[1286] + 500 * P_c[1286] + 10 * P_f[1287] + 500 * P_c[1287] + 10 * P_f[1288] + 500 * P_c[1288] + 10 * P_f[1289] + 500 * P_c[1289] + 10 * P_f[1290] + 500 * P_c[1290] + 10 * P_f[1291] + 500 * P_c[1291] + 10 * P_f[1292] + 500 * P_c[1292] + 10 * P_f[1293] + 500 * P_c[1293] + 10 * P_f[1294] + 500 * P_c[1294] + 10 * P_f[1295] + 500 * P_c[1295] + 10 * P_f[1296] + 500 * P_c[1296] + 10 * P_f[1297] + 500 * P_c[1297] + 10 * P_f[1298] + 500 * P_c[1298] + 10 * P_f[1299] + 500 * P_c[1299] + 10 * P_f[1300] + 500 * P_c[1300] + 10 * P_f[1301] + 500 * P_c[1301] + 10 * P_f[1302] + 500 * P_c[1302] + 10 * P_f[1303] + 500 * P_c[1303] + 10 * P_f[1304] + 500 * P_c[1304] + 10 * P_f[1305] + 500 * P_c[1305] + 10 * P_f[1306] + 500 * P_c[1306] + 10 * P_f[1307] + 500 * P_c[1307] + 10 * P_f[1308] + 500 * P_c[1308] + 10 * P_f[1309] + 500 * P_c[1309] + 10 * P_f[1310] + 500 * P_c[1310] + 10 * P_f[1311] + 500 * P_c[1311] + 10 * P_f[1312] + 500 * P_c[1312] + 10 * P_f[1313] + 500 * P_c[1313] + 10 * P_f[1314] + 500 * P_c[1314] + 10 * P_f[1315] + 500 * P_c[1315] + 10 * P_f[1316] + 500 * P_c[1316] + 10 * P_f[1317] + 500 * P_c[1317] + 10 * P_f[1318] + 500 * P_c[1318] + 10 * P_f[1319] + 500 * P_c[1319] + 10 * P_f[1320] + 500 * P_c[1320] + 10 * P_f[1321] + 500 * P_c[1321] + 10 * P_f[1322] + 500 * P_c[1322] + 10 * P_f[1323] + 500 * P_c[1323] + 10 * P_f[1324] + 500 * P_c[1324] + 10 * P_f[1325] + 500 * P_c[1325] + 10 * P_f[1326] + 500 * P_c[1326] + 10 * P_f[1327] + 500 * P_c[1327] + 10 * P_f[1328] + 500 * P_c[1328] + 10 * P_f[1329] + 500 * P_c[1329] + 10 * P_f[1330] + 500 * P_c[1330] + 10 * P_f[1331] + 500 * P_c[1331] + 10 * P_f[1332] + 500 * P_c[1332] + 10 * P_f[1333] + 500 * P_c[1333] + 10 * P_f[1334] + 500 * P_c[1334] + 10 * P_f[1335] + 500 * P_c[1335] + 10 * P_f[1336] + 500 * P_c[1336] + 10 * P_f[1337] + 500 * P_c[1337] + 10 * P_f[1338] + 500 * P_c[1338] + 10 * P_f[1339] + 500 * P_c[1339] + 10 * P_f[1340] + 500 * P_c[1340] + 10 * P_f[1341] + 500 * P_c[1341] + 10 * P_f[1342] + 500 * P_c[1342] + 10 * P_f[1343] + 500 * P_c[1343] + 10 * P_f[1344] + 500 * P_c[1344] + 10 * P_f[1345] + 500 * P_c[1345] + 10 * P_f[1346] + 500 * P_c[1346] + 10 * P_f[1347] + 500 * P_c[1347] + 10 * P_f[1348] + 500 * P_c[1348] + 10 * P_f[1349] + 500 * P_c[1349] + 10 * P_f[1350] + 500 * P_c[1350] + 10 * P_f[1351] + 500 * P_c[1351] + 10 * P_f[1352] + 500 * P_c[1352] + 10 * P_f[1353] + 500 * P_c[1353] + 10 * P_f[1354] + 500 * P_c[1354] + 10 * P_f[1355] + 500 * P_c[1355] + 10 * P_f[1356] + 500 * P_c[1356] + 10 * P_f[1357] + 500 * P_c[1357] + 10 * P_f[1358] + 500 * P_c[1358] + 10 * P_f[1359] + 500 * P_c[1359] + 10 * P_f[1360] + 500 * P_c[1360] + 10 * P_f[1361] + 500 * P_c[1361] + 10 * P_f[1362] + 500 * P_c[1362] + 10 * P_f[1363] + 500 * P_c[1363] + 10 * P_f[1364] + 500 * P_c[1364] + 10 * P_f[1365] + 500 * P_c[1365] + 10 * P_f[1366] + 500 * P_c[1366] + 10 * P_f[1367] + 500 * P_c[1367] + 10 * P_f[1368] + 500 * P_c[1368] + 10 * P_f[1369] + 500 * P_c[1369] + 10 * P_f[1370] + 500 * P_c[1370] + 10 * P_f[1371] + 500 * P_c[1371] + 10 * P_f[1372] + 500 * P_c[1372] + 10 * P_f[1373] + 500 * P_c[1373] + 10 * P_f[1374] + 500 * P_c[1374] + 10 * P_f[1375] + 500 * P_c[1375] + 10 * P_f[1376] + 500 * P_c[1376] + 10 * P_f[1377] + 500 * P_c[1377] + 10 * P_f[1378] + 500 * P_c[1378] + 10 * P_f[1379] + 500 * P_c[1379] + 10 * P_f[1380] + 500 * P_c[1380] + 10 * P_f[1381] + 500 * P_c[1381] + 10 * P_f[1382] + 500 * P_c[1382] + 10 * P_f[1383] + 500 * P_c[1383] + 10 * P_f[1384] + 500 * P_c[1384] + 10 * P_f[1385] + 500 * P_c[1385] + 10 * P_f[1386] + 500 * P_c[1386] + 10 * P_f[1387] + 500 * P_c[1387] + 10 * P_f[1388] + 500 * P_c[1388] + 10 * P_f[1389] + 500 * P_c[1389] + 10 * P_f[1390] + 500 * P_c[1390] + 10 * P_f[1391] + 500 * P_c[1391] + 10 * P_f[1392] + 500 * P_c[1392] + 10 * P_f[1393] + 500 * P_c[1393] + 10 * P_f[1394] + 500 * P_c[1394] + 10 * P_f[1395] + 500 * P_c[1395] + 10 * P_f[1396] + 500 * P_c[1396] + 10 * P_f[1397] + 500 * P_c[1397] + 10 * P_f[1398] + 500 * P_c[1398] + 10 * P_f[1399] + 500 * P_c[1399] + 10 * P_f[1400] + 500 * P_c[1400] + 10 * P_f[1401] + 500 * P_c[1401] + 10 * P_f[1402] + 500 * P_c[1402] + 10 * P_f[1403] + 500 * P_c[1403] + 10 * P_f[1404] + 500 * P_c[1404] + 10 * P_f[1405] + 500 * P_c[1405] + 10 * P_f[1406] + 500 * P_c[1406] + 10 * P_f[1407] + 500 * P_c[1407] + 10 * P_f[1408] + 500 * P_c[1408] + 10 * P_f[1409] + 500 * P_c[1409] + 10 * P_f[1410] + 500 * P_c[1410] + 10 * P_f[1411] + 500 * P_c[1411] + 10 * P_f[1412] + 500 * P_c[1412] + 10 * P_f[1413] + 500 * P_c[1413] + 10 * P_f[1414] + 500 * P_c[1414] + 10 * P_f[1415] + 500 * P_c[1415] + 10 * P_f[1416] + 500 * P_c[1416] + 10 * P_f[1417] + 500 * P_c[1417] + 10 * P_f[1418] + 500 * P_c[1418] + 10 * P_f[1419] + 500 * P_c[1419] + 10 * P_f[1420] + 500 * P_c[1420] + 10 * P_f[1421] + 500 * P_c[1421] + 10 * P_f[1422] + 500 * P_c[1422] + 10 * P_f[1423] + 500 * P_c[1423] + 10 * P_f[1424] + 500 * P_c[1424] + 10 * P_f[1425] + 500 * P_c[1425] + 10 * P_f[1426] + 500 * P_c[1426] + 10 * P_f[1427] + 500 * P_c[1427] + 10 * P_f[1428] + 500 * P_c[1428] + 10 * P_f[1429] + 500 * P_c[1429] + 10 * P_f[1430] + 500 * P_c[1430] + 10 * P_f[1431] + 500 * P_c[1431] + 10 * P_f[1432] + 500 * P_c[1432] + 10 * P_f[1433] + 500 * P_c[1433] + 10 * P_f[1434] + 500 * P_c[1434] + 10 * P_f[1435] + 500 * P_c[1435] + 10 * P_f[1436] + 500 * P_c[1436] + 10 * P_f[1437] + 500 * P_c[1437] + 10 * P_f[1438] + 500 * P_c[1438] + 10 * P_f[1439] + 500 * P_c[1439] + 10 * P_f[1440] + 500 * P_c[1440] >= 600)"
   ]
  },
  {
   "cell_type": "code",
   "execution_count": 30,
   "metadata": {},
   "outputs": [],
   "source": [
    "# @NLconstraint(m2,nl1, P_f[1]*P_c[1] >= 1)"
   ]
  },
  {
   "cell_type": "code",
   "execution_count": 31,
   "metadata": {},
   "outputs": [
    {
     "data": {
      "text/plain": [
       "60-element Array{ConstraintRef{Model,MathOptInterface.ConstraintIndex{MathOptInterface.ScalarAffineFunction{Float64},MathOptInterface.EqualTo{Float64}},ScalarShape},1}:\n",
       " con2[1] : W_hvac[1] - 1500 compressor[1] == 0.0   \n",
       " con2[2] : W_hvac[2] - 1500 compressor[2] == 0.0   \n",
       " con2[3] : W_hvac[3] - 1500 compressor[3] == 0.0   \n",
       " con2[4] : W_hvac[4] - 1500 compressor[4] == 0.0   \n",
       " con2[5] : W_hvac[5] - 1500 compressor[5] == 0.0   \n",
       " con2[6] : W_hvac[6] - 1500 compressor[6] == 0.0   \n",
       " con2[7] : W_hvac[7] - 1500 compressor[7] == 0.0   \n",
       " con2[8] : W_hvac[8] - 1500 compressor[8] == 0.0   \n",
       " con2[9] : W_hvac[9] - 1500 compressor[9] == 0.0   \n",
       " con2[10] : W_hvac[10] - 1500 compressor[10] == 0.0\n",
       " con2[11] : W_hvac[11] - 1500 compressor[11] == 0.0\n",
       " con2[12] : W_hvac[12] - 1500 compressor[12] == 0.0\n",
       " con2[13] : W_hvac[13] - 1500 compressor[13] == 0.0\n",
       " ⋮                                                 \n",
       " con2[49] : W_hvac[49] - 1500 compressor[49] == 0.0\n",
       " con2[50] : W_hvac[50] - 1500 compressor[50] == 0.0\n",
       " con2[51] : W_hvac[51] - 1500 compressor[51] == 0.0\n",
       " con2[52] : W_hvac[52] - 1500 compressor[52] == 0.0\n",
       " con2[53] : W_hvac[53] - 1500 compressor[53] == 0.0\n",
       " con2[54] : W_hvac[54] - 1500 compressor[54] == 0.0\n",
       " con2[55] : W_hvac[55] - 1500 compressor[55] == 0.0\n",
       " con2[56] : W_hvac[56] - 1500 compressor[56] == 0.0\n",
       " con2[57] : W_hvac[57] - 1500 compressor[57] == 0.0\n",
       " con2[58] : W_hvac[58] - 1500 compressor[58] == 0.0\n",
       " con2[59] : W_hvac[59] - 1500 compressor[59] == 0.0\n",
       " con2[60] : W_hvac[60] - 1500 compressor[60] == 0.0"
      ]
     },
     "execution_count": 31,
     "metadata": {},
     "output_type": "execute_result"
    }
   ],
   "source": [
    "# @constraint(m2,con2, W_hvac - COP * 500 * P_c + W_dis - W_ch == 0)\n",
    "@constraint(m2,con2[i in 1:N], W_hvac[i] - COP * 500 * P_c[i] == 0)"
   ]
  },
  {
   "cell_type": "code",
   "execution_count": 32,
   "metadata": {},
   "outputs": [
    {
     "data": {
      "text/plain": [
       "60-element Array{ConstraintRef{Model,MathOptInterface.ConstraintIndex{MathOptInterface.ScalarAffineFunction{Float64},MathOptInterface.EqualTo{Float64}},ScalarShape},1}:\n",
       " con3[1] : Q[1] - 0.055 fan[1] == 0.0   \n",
       " con3[2] : Q[2] - 0.055 fan[2] == 0.0   \n",
       " con3[3] : Q[3] - 0.055 fan[3] == 0.0   \n",
       " con3[4] : Q[4] - 0.055 fan[4] == 0.0   \n",
       " con3[5] : Q[5] - 0.055 fan[5] == 0.0   \n",
       " con3[6] : Q[6] - 0.055 fan[6] == 0.0   \n",
       " con3[7] : Q[7] - 0.055 fan[7] == 0.0   \n",
       " con3[8] : Q[8] - 0.055 fan[8] == 0.0   \n",
       " con3[9] : Q[9] - 0.055 fan[9] == 0.0   \n",
       " con3[10] : Q[10] - 0.055 fan[10] == 0.0\n",
       " con3[11] : Q[11] - 0.055 fan[11] == 0.0\n",
       " con3[12] : Q[12] - 0.055 fan[12] == 0.0\n",
       " con3[13] : Q[13] - 0.055 fan[13] == 0.0\n",
       " ⋮                                      \n",
       " con3[49] : Q[49] - 0.055 fan[49] == 0.0\n",
       " con3[50] : Q[50] - 0.055 fan[50] == 0.0\n",
       " con3[51] : Q[51] - 0.055 fan[51] == 0.0\n",
       " con3[52] : Q[52] - 0.055 fan[52] == 0.0\n",
       " con3[53] : Q[53] - 0.055 fan[53] == 0.0\n",
       " con3[54] : Q[54] - 0.055 fan[54] == 0.0\n",
       " con3[55] : Q[55] - 0.055 fan[55] == 0.0\n",
       " con3[56] : Q[56] - 0.055 fan[56] == 0.0\n",
       " con3[57] : Q[57] - 0.055 fan[57] == 0.0\n",
       " con3[58] : Q[58] - 0.055 fan[58] == 0.0\n",
       " con3[59] : Q[59] - 0.055 fan[59] == 0.0\n",
       " con3[60] : Q[60] - 0.055 fan[60] == 0.0"
      ]
     },
     "execution_count": 32,
     "metadata": {},
     "output_type": "execute_result"
    }
   ],
   "source": [
    "@constraint(m2,con3[i in 1:N], Q[i] - 0.55 * P_f[i] * 10 / 100 == 0)"
   ]
  },
  {
   "cell_type": "code",
   "execution_count": 35,
   "metadata": {},
   "outputs": [
    {
     "data": {
      "text/latex": [
       "con7 : $ n_co2_{1} = 400.0 $"
      ],
      "text/plain": [
       "con7 : n_co2[1] == 400.0"
      ]
     },
     "execution_count": 35,
     "metadata": {},
     "output_type": "execute_result"
    }
   ],
   "source": [
    "# @constraint(m2,con4, E[1] == 0)\n",
    "@constraint(m2,con5, T_r[1] == 19)\n",
    "@constraint(m2,con6, T_w[1] == 19)\n",
    "@constraint(m2,con7, n_c[1] == 400)"
   ]
  },
  {
   "cell_type": "code",
   "execution_count": 36,
   "metadata": {},
   "outputs": [
    {
     "data": {
      "text/plain": [
       "60-element Array{ConstraintRef{Model,MathOptInterface.ConstraintIndex{MathOptInterface.ScalarAffineFunction{Float64},MathOptInterface.LessThan{Float64}},ScalarShape},1}:\n",
       " con10[1] : n_co2[1] <= 800.0  \n",
       " con10[2] : n_co2[2] <= 800.0  \n",
       " con10[3] : n_co2[3] <= 800.0  \n",
       " con10[4] : n_co2[4] <= 800.0  \n",
       " con10[5] : n_co2[5] <= 800.0  \n",
       " con10[6] : n_co2[6] <= 800.0  \n",
       " con10[7] : n_co2[7] <= 800.0  \n",
       " con10[8] : n_co2[8] <= 800.0  \n",
       " con10[9] : n_co2[9] <= 800.0  \n",
       " con10[10] : n_co2[10] <= 800.0\n",
       " con10[11] : n_co2[11] <= 800.0\n",
       " con10[12] : n_co2[12] <= 800.0\n",
       " con10[13] : n_co2[13] <= 800.0\n",
       " ⋮                             \n",
       " con10[49] : n_co2[49] <= 800.0\n",
       " con10[50] : n_co2[50] <= 800.0\n",
       " con10[51] : n_co2[51] <= 800.0\n",
       " con10[52] : n_co2[52] <= 800.0\n",
       " con10[53] : n_co2[53] <= 800.0\n",
       " con10[54] : n_co2[54] <= 800.0\n",
       " con10[55] : n_co2[55] <= 800.0\n",
       " con10[56] : n_co2[56] <= 800.0\n",
       " con10[57] : n_co2[57] <= 800.0\n",
       " con10[58] : n_co2[58] <= 800.0\n",
       " con10[59] : n_co2[59] <= 800.0\n",
       " con10[60] : n_co2[60] <= 800.0"
      ]
     },
     "execution_count": 36,
     "metadata": {},
     "output_type": "execute_result"
    }
   ],
   "source": [
    "@constraint(m2,con8[i in 2:N], T_r[i] >= 18)\n",
    "@constraint(m2,con9[i in 2:N], T_r[i] <= 24)\n",
    "@constraint(m2,con10[i in 2:N], n_c[i] <= 800)"
   ]
  },
  {
   "cell_type": "code",
   "execution_count": 37,
   "metadata": {},
   "outputs": [
    {
     "data": {
      "text/plain": [
       "60-element Array{Float64,1}:\n",
       " 18.97271018168888 \n",
       " 18.9456448501792  \n",
       " 18.918803268631812\n",
       " 18.89218470020757 \n",
       " 18.86578840806729 \n",
       " 18.83961365537183 \n",
       " 18.813659705282046\n",
       " 18.787925820958765\n",
       " 18.76241126556284 \n",
       " 18.737115302255116\n",
       " 18.71203719419644 \n",
       " 18.687176204547654\n",
       " 18.6625315964696  \n",
       "  ⋮                \n",
       " 17.91321985665111 \n",
       " 17.896063368763787\n",
       " 17.879095262559286\n",
       " 17.86231480119844 \n",
       " 17.84572124784212 \n",
       " 17.829313865651137\n",
       " 17.813091917786366\n",
       " 17.797054667408627\n",
       " 17.78120137767878 \n",
       " 17.765531311757666\n",
       " 17.75004373280612 \n",
       " 17.734737903985   "
      ]
     },
     "execution_count": 37,
     "metadata": {},
     "output_type": "execute_result"
    }
   ],
   "source": [
    "@expression(m2, expr_out[i = 1:N], Spline1D([0, 3, 6 , 9, 12, 15, 18, 21, 25], [19, 17, 18, 20, 25, 23, 21, 19, 18])(i/60))"
   ]
  },
  {
   "cell_type": "code",
   "execution_count": 38,
   "metadata": {},
   "outputs": [
    {
     "data": {
      "text/plain": [
       "60-element Array{Float64,1}:\n",
       " 0.0\n",
       " 0.0\n",
       " 0.0\n",
       " 0.0\n",
       " 0.0\n",
       " 0.0\n",
       " 0.0\n",
       " 0.0\n",
       " 0.0\n",
       " 0.0\n",
       " 0.0\n",
       " 0.0\n",
       " 0.0\n",
       " ⋮  \n",
       " 0.0\n",
       " 0.0\n",
       " 0.0\n",
       " 0.0\n",
       " 0.0\n",
       " 0.0\n",
       " 0.0\n",
       " 0.0\n",
       " 0.0\n",
       " 0.0\n",
       " 0.0\n",
       " 0.0"
      ]
     },
     "execution_count": 38,
     "metadata": {},
     "output_type": "execute_result"
    }
   ],
   "source": [
    "@expression(m2, expr_occup[i = 1:N], LinearInterpolation([0, 8.9, 9, 12, 12.1, 15, 15.1, 18, 18.1], [0, 0,   20,20, 30,   30, 10,    10,  0],extrapolation_bc=Flat())(i/60))"
   ]
  },
  {
   "cell_type": "code",
   "execution_count": 39,
   "metadata": {},
   "outputs": [
    {
     "data": {
      "text/plain": [
       "59-element Array{ConstraintRef{Model,NonlinearConstraintIndex,ScalarShape},1}:\n",
       " (T_r[2] - (T_r[1] + 0.0001755926251097454 * ((((((9.15 + 1.8983333333333334) * (18.97271018168888 - T_r[1]) + 348.0 * (T_w[1] - T_r[1]) + 113.007 * 0.0) - W_hvac[1]) + 1005.0 * 21.0 * Q[1]) - 1005.0 * T_r[1] * Q[1]) + 300.0))) - 0.0 == 0          \n",
       " (T_r[3] - (T_r[2] + 0.0001755926251097454 * ((((((9.15 + 1.8983333333333334) * (18.9456448501792 - T_r[2]) + 348.0 * (T_w[2] - T_r[2]) + 113.007 * 0.0) - W_hvac[2]) + 1005.0 * 21.0 * Q[2]) - 1005.0 * T_r[2] * Q[2]) + 300.0))) - 0.0 == 0           \n",
       " (T_r[4] - (T_r[3] + 0.0001755926251097454 * ((((((9.15 + 1.8983333333333334) * (18.918803268631812 - T_r[3]) + 348.0 * (T_w[3] - T_r[3]) + 113.007 * 0.0) - W_hvac[3]) + 1005.0 * 21.0 * Q[3]) - 1005.0 * T_r[3] * Q[3]) + 300.0))) - 0.0 == 0         \n",
       " (T_r[5] - (T_r[4] + 0.0001755926251097454 * ((((((9.15 + 1.8983333333333334) * (18.89218470020757 - T_r[4]) + 348.0 * (T_w[4] - T_r[4]) + 113.007 * 0.0) - W_hvac[4]) + 1005.0 * 21.0 * Q[4]) - 1005.0 * T_r[4] * Q[4]) + 300.0))) - 0.0 == 0          \n",
       " (T_r[6] - (T_r[5] + 0.0001755926251097454 * ((((((9.15 + 1.8983333333333334) * (18.86578840806729 - T_r[5]) + 348.0 * (T_w[5] - T_r[5]) + 113.007 * 0.0) - W_hvac[5]) + 1005.0 * 21.0 * Q[5]) - 1005.0 * T_r[5] * Q[5]) + 300.0))) - 0.0 == 0          \n",
       " (T_r[7] - (T_r[6] + 0.0001755926251097454 * ((((((9.15 + 1.8983333333333334) * (18.83961365537183 - T_r[6]) + 348.0 * (T_w[6] - T_r[6]) + 113.007 * 0.0) - W_hvac[6]) + 1005.0 * 21.0 * Q[6]) - 1005.0 * T_r[6] * Q[6]) + 300.0))) - 0.0 == 0          \n",
       " (T_r[8] - (T_r[7] + 0.0001755926251097454 * ((((((9.15 + 1.8983333333333334) * (18.813659705282046 - T_r[7]) + 348.0 * (T_w[7] - T_r[7]) + 113.007 * 0.0) - W_hvac[7]) + 1005.0 * 21.0 * Q[7]) - 1005.0 * T_r[7] * Q[7]) + 300.0))) - 0.0 == 0         \n",
       " (T_r[9] - (T_r[8] + 0.0001755926251097454 * ((((((9.15 + 1.8983333333333334) * (18.787925820958765 - T_r[8]) + 348.0 * (T_w[8] - T_r[8]) + 113.007 * 0.0) - W_hvac[8]) + 1005.0 * 21.0 * Q[8]) - 1005.0 * T_r[8] * Q[8]) + 300.0))) - 0.0 == 0         \n",
       " (T_r[10] - (T_r[9] + 0.0001755926251097454 * ((((((9.15 + 1.8983333333333334) * (18.76241126556284 - T_r[9]) + 348.0 * (T_w[9] - T_r[9]) + 113.007 * 0.0) - W_hvac[9]) + 1005.0 * 21.0 * Q[9]) - 1005.0 * T_r[9] * Q[9]) + 300.0))) - 0.0 == 0         \n",
       " (T_r[11] - (T_r[10] + 0.0001755926251097454 * ((((((9.15 + 1.8983333333333334) * (18.737115302255116 - T_r[10]) + 348.0 * (T_w[10] - T_r[10]) + 113.007 * 0.0) - W_hvac[10]) + 1005.0 * 21.0 * Q[10]) - 1005.0 * T_r[10] * Q[10]) + 300.0))) - 0.0 == 0\n",
       " (T_r[12] - (T_r[11] + 0.0001755926251097454 * ((((((9.15 + 1.8983333333333334) * (18.71203719419644 - T_r[11]) + 348.0 * (T_w[11] - T_r[11]) + 113.007 * 0.0) - W_hvac[11]) + 1005.0 * 21.0 * Q[11]) - 1005.0 * T_r[11] * Q[11]) + 300.0))) - 0.0 == 0 \n",
       " (T_r[13] - (T_r[12] + 0.0001755926251097454 * ((((((9.15 + 1.8983333333333334) * (18.687176204547654 - T_r[12]) + 348.0 * (T_w[12] - T_r[12]) + 113.007 * 0.0) - W_hvac[12]) + 1005.0 * 21.0 * Q[12]) - 1005.0 * T_r[12] * Q[12]) + 300.0))) - 0.0 == 0\n",
       " (T_r[14] - (T_r[13] + 0.0001755926251097454 * ((((((9.15 + 1.8983333333333334) * (18.6625315964696 - T_r[13]) + 348.0 * (T_w[13] - T_r[13]) + 113.007 * 0.0) - W_hvac[13]) + 1005.0 * 21.0 * Q[13]) - 1005.0 * T_r[13] * Q[13]) + 300.0))) - 0.0 == 0  \n",
       " ⋮                                                                                                                                                                                                                                                      \n",
       " (T_r[49] - (T_r[48] + 0.0001755926251097454 * ((((((9.15 + 1.8983333333333334) * (17.93056546306041 - T_r[48]) + 348.0 * (T_w[48] - T_r[48]) + 113.007 * 0.0) - W_hvac[48]) + 1005.0 * 21.0 * Q[48]) - 1005.0 * T_r[48] * Q[48]) + 300.0))) - 0.0 == 0 \n",
       " (T_r[50] - (T_r[49] + 0.0001755926251097454 * ((((((9.15 + 1.8983333333333334) * (17.91321985665111 - T_r[49]) + 348.0 * (T_w[49] - T_r[49]) + 113.007 * 0.0) - W_hvac[49]) + 1005.0 * 21.0 * Q[49]) - 1005.0 * T_r[49] * Q[49]) + 300.0))) - 0.0 == 0 \n",
       " (T_r[51] - (T_r[50] + 0.0001755926251097454 * ((((((9.15 + 1.8983333333333334) * (17.896063368763787 - T_r[50]) + 348.0 * (T_w[50] - T_r[50]) + 113.007 * 0.0) - W_hvac[50]) + 1005.0 * 21.0 * Q[50]) - 1005.0 * T_r[50] * Q[50]) + 300.0))) - 0.0 == 0\n",
       " (T_r[52] - (T_r[51] + 0.0001755926251097454 * ((((((9.15 + 1.8983333333333334) * (17.879095262559286 - T_r[51]) + 348.0 * (T_w[51] - T_r[51]) + 113.007 * 0.0) - W_hvac[51]) + 1005.0 * 21.0 * Q[51]) - 1005.0 * T_r[51] * Q[51]) + 300.0))) - 0.0 == 0\n",
       " (T_r[53] - (T_r[52] + 0.0001755926251097454 * ((((((9.15 + 1.8983333333333334) * (17.86231480119844 - T_r[52]) + 348.0 * (T_w[52] - T_r[52]) + 113.007 * 0.0) - W_hvac[52]) + 1005.0 * 21.0 * Q[52]) - 1005.0 * T_r[52] * Q[52]) + 300.0))) - 0.0 == 0 \n",
       " (T_r[54] - (T_r[53] + 0.0001755926251097454 * ((((((9.15 + 1.8983333333333334) * (17.84572124784212 - T_r[53]) + 348.0 * (T_w[53] - T_r[53]) + 113.007 * 0.0) - W_hvac[53]) + 1005.0 * 21.0 * Q[53]) - 1005.0 * T_r[53] * Q[53]) + 300.0))) - 0.0 == 0 \n",
       " (T_r[55] - (T_r[54] + 0.0001755926251097454 * ((((((9.15 + 1.8983333333333334) * (17.829313865651137 - T_r[54]) + 348.0 * (T_w[54] - T_r[54]) + 113.007 * 0.0) - W_hvac[54]) + 1005.0 * 21.0 * Q[54]) - 1005.0 * T_r[54] * Q[54]) + 300.0))) - 0.0 == 0\n",
       " (T_r[56] - (T_r[55] + 0.0001755926251097454 * ((((((9.15 + 1.8983333333333334) * (17.813091917786366 - T_r[55]) + 348.0 * (T_w[55] - T_r[55]) + 113.007 * 0.0) - W_hvac[55]) + 1005.0 * 21.0 * Q[55]) - 1005.0 * T_r[55] * Q[55]) + 300.0))) - 0.0 == 0\n",
       " (T_r[57] - (T_r[56] + 0.0001755926251097454 * ((((((9.15 + 1.8983333333333334) * (17.797054667408627 - T_r[56]) + 348.0 * (T_w[56] - T_r[56]) + 113.007 * 0.0) - W_hvac[56]) + 1005.0 * 21.0 * Q[56]) - 1005.0 * T_r[56] * Q[56]) + 300.0))) - 0.0 == 0\n",
       " (T_r[58] - (T_r[57] + 0.0001755926251097454 * ((((((9.15 + 1.8983333333333334) * (17.78120137767878 - T_r[57]) + 348.0 * (T_w[57] - T_r[57]) + 113.007 * 0.0) - W_hvac[57]) + 1005.0 * 21.0 * Q[57]) - 1005.0 * T_r[57] * Q[57]) + 300.0))) - 0.0 == 0 \n",
       " (T_r[59] - (T_r[58] + 0.0001755926251097454 * ((((((9.15 + 1.8983333333333334) * (17.765531311757666 - T_r[58]) + 348.0 * (T_w[58] - T_r[58]) + 113.007 * 0.0) - W_hvac[58]) + 1005.0 * 21.0 * Q[58]) - 1005.0 * T_r[58] * Q[58]) + 300.0))) - 0.0 == 0\n",
       " (T_r[60] - (T_r[59] + 0.0001755926251097454 * ((((((9.15 + 1.8983333333333334) * (17.75004373280612 - T_r[59]) + 348.0 * (T_w[59] - T_r[59]) + 113.007 * 0.0) - W_hvac[59]) + 1005.0 * 21.0 * Q[59]) - 1005.0 * T_r[59] * Q[59]) + 300.0))) - 0.0 == 0 "
      ]
     },
     "execution_count": 39,
     "metadata": {},
     "output_type": "execute_result"
    }
   ],
   "source": [
    "@NLconstraint(m2,nl1[i in 1:(N-1)], T_r[i+1] - (T_r[i] + pa1*((pa2 + pa4) * (expr_out[i] - T_r[i]) + pa3 * (T_w[i] - T_r[i]) + pa5 * expr_occup[i] - W_hvac[i] + C_out * T_vent * Q[i] - C_in * T_r[i] * Q[i] + W_light)) == 0)"
   ]
  },
  {
   "cell_type": "code",
   "execution_count": 40,
   "metadata": {},
   "outputs": [
    {
     "data": {
      "text/plain": [
       "59-element Array{ConstraintRef{Model,MathOptInterface.ConstraintIndex{MathOptInterface.ScalarAffineFunction{Float64},MathOptInterface.EqualTo{Float64}},ScalarShape},1}:\n",
       " con11[1] : T_w[2] - 0.9999364583333333 T_w[1] - 6.354166666666668e-5 T_r[1] == 0.0    \n",
       " con11[2] : T_w[3] - 0.9999364583333333 T_w[2] - 6.354166666666668e-5 T_r[2] == 0.0    \n",
       " con11[3] : T_w[4] - 0.9999364583333333 T_w[3] - 6.354166666666668e-5 T_r[3] == 0.0    \n",
       " con11[4] : T_w[5] - 0.9999364583333333 T_w[4] - 6.354166666666668e-5 T_r[4] == 0.0    \n",
       " con11[5] : T_w[6] - 0.9999364583333333 T_w[5] - 6.354166666666668e-5 T_r[5] == 0.0    \n",
       " con11[6] : T_w[7] - 0.9999364583333333 T_w[6] - 6.354166666666668e-5 T_r[6] == 0.0    \n",
       " con11[7] : T_w[8] - 0.9999364583333333 T_w[7] - 6.354166666666668e-5 T_r[7] == 0.0    \n",
       " con11[8] : T_w[9] - 0.9999364583333333 T_w[8] - 6.354166666666668e-5 T_r[8] == 0.0    \n",
       " con11[9] : T_w[10] - 0.9999364583333333 T_w[9] - 6.354166666666668e-5 T_r[9] == 0.0   \n",
       " con11[10] : T_w[11] - 0.9999364583333333 T_w[10] - 6.354166666666668e-5 T_r[10] == 0.0\n",
       " con11[11] : T_w[12] - 0.9999364583333333 T_w[11] - 6.354166666666668e-5 T_r[11] == 0.0\n",
       " con11[12] : T_w[13] - 0.9999364583333333 T_w[12] - 6.354166666666668e-5 T_r[12] == 0.0\n",
       " con11[13] : T_w[14] - 0.9999364583333333 T_w[13] - 6.354166666666668e-5 T_r[13] == 0.0\n",
       " ⋮                                                                                     \n",
       " con11[48] : T_w[49] - 0.9999364583333333 T_w[48] - 6.354166666666668e-5 T_r[48] == 0.0\n",
       " con11[49] : T_w[50] - 0.9999364583333333 T_w[49] - 6.354166666666668e-5 T_r[49] == 0.0\n",
       " con11[50] : T_w[51] - 0.9999364583333333 T_w[50] - 6.354166666666668e-5 T_r[50] == 0.0\n",
       " con11[51] : T_w[52] - 0.9999364583333333 T_w[51] - 6.354166666666668e-5 T_r[51] == 0.0\n",
       " con11[52] : T_w[53] - 0.9999364583333333 T_w[52] - 6.354166666666668e-5 T_r[52] == 0.0\n",
       " con11[53] : T_w[54] - 0.9999364583333333 T_w[53] - 6.354166666666668e-5 T_r[53] == 0.0\n",
       " con11[54] : T_w[55] - 0.9999364583333333 T_w[54] - 6.354166666666668e-5 T_r[54] == 0.0\n",
       " con11[55] : T_w[56] - 0.9999364583333333 T_w[55] - 6.354166666666668e-5 T_r[55] == 0.0\n",
       " con11[56] : T_w[57] - 0.9999364583333333 T_w[56] - 6.354166666666668e-5 T_r[56] == 0.0\n",
       " con11[57] : T_w[58] - 0.9999364583333333 T_w[57] - 6.354166666666668e-5 T_r[57] == 0.0\n",
       " con11[58] : T_w[59] - 0.9999364583333333 T_w[58] - 6.354166666666668e-5 T_r[58] == 0.0\n",
       " con11[59] : T_w[60] - 0.9999364583333333 T_w[59] - 6.354166666666668e-5 T_r[59] == 0.0"
      ]
     },
     "execution_count": 40,
     "metadata": {},
     "output_type": "execute_result"
    }
   ],
   "source": [
    "@constraint(m2,con11[i in 1:(N-1)], T_w[i+1] - (T_w[i] + pw1 * pa2 * (T_r[i] - T_w[i])) == 0)"
   ]
  },
  {
   "cell_type": "code",
   "execution_count": 41,
   "metadata": {},
   "outputs": [
    {
     "data": {
      "text/plain": [
       "59-element Array{ConstraintRef{Model,NonlinearConstraintIndex,ScalarShape},1}:\n",
       " (n_co2[2] - (n_co2[1] + 0.17647058823529413 * (Q[1] + 0.001888888888888889) * (300.0 - n_co2[1]) + 0.152 * 0.0)) - 0.0 == 0    \n",
       " (n_co2[3] - (n_co2[2] + 0.17647058823529413 * (Q[2] + 0.001888888888888889) * (300.0 - n_co2[2]) + 0.152 * 0.0)) - 0.0 == 0    \n",
       " (n_co2[4] - (n_co2[3] + 0.17647058823529413 * (Q[3] + 0.001888888888888889) * (300.0 - n_co2[3]) + 0.152 * 0.0)) - 0.0 == 0    \n",
       " (n_co2[5] - (n_co2[4] + 0.17647058823529413 * (Q[4] + 0.001888888888888889) * (300.0 - n_co2[4]) + 0.152 * 0.0)) - 0.0 == 0    \n",
       " (n_co2[6] - (n_co2[5] + 0.17647058823529413 * (Q[5] + 0.001888888888888889) * (300.0 - n_co2[5]) + 0.152 * 0.0)) - 0.0 == 0    \n",
       " (n_co2[7] - (n_co2[6] + 0.17647058823529413 * (Q[6] + 0.001888888888888889) * (300.0 - n_co2[6]) + 0.152 * 0.0)) - 0.0 == 0    \n",
       " (n_co2[8] - (n_co2[7] + 0.17647058823529413 * (Q[7] + 0.001888888888888889) * (300.0 - n_co2[7]) + 0.152 * 0.0)) - 0.0 == 0    \n",
       " (n_co2[9] - (n_co2[8] + 0.17647058823529413 * (Q[8] + 0.001888888888888889) * (300.0 - n_co2[8]) + 0.152 * 0.0)) - 0.0 == 0    \n",
       " (n_co2[10] - (n_co2[9] + 0.17647058823529413 * (Q[9] + 0.001888888888888889) * (300.0 - n_co2[9]) + 0.152 * 0.0)) - 0.0 == 0   \n",
       " (n_co2[11] - (n_co2[10] + 0.17647058823529413 * (Q[10] + 0.001888888888888889) * (300.0 - n_co2[10]) + 0.152 * 0.0)) - 0.0 == 0\n",
       " (n_co2[12] - (n_co2[11] + 0.17647058823529413 * (Q[11] + 0.001888888888888889) * (300.0 - n_co2[11]) + 0.152 * 0.0)) - 0.0 == 0\n",
       " (n_co2[13] - (n_co2[12] + 0.17647058823529413 * (Q[12] + 0.001888888888888889) * (300.0 - n_co2[12]) + 0.152 * 0.0)) - 0.0 == 0\n",
       " (n_co2[14] - (n_co2[13] + 0.17647058823529413 * (Q[13] + 0.001888888888888889) * (300.0 - n_co2[13]) + 0.152 * 0.0)) - 0.0 == 0\n",
       " ⋮                                                                                                                              \n",
       " (n_co2[49] - (n_co2[48] + 0.17647058823529413 * (Q[48] + 0.001888888888888889) * (300.0 - n_co2[48]) + 0.152 * 0.0)) - 0.0 == 0\n",
       " (n_co2[50] - (n_co2[49] + 0.17647058823529413 * (Q[49] + 0.001888888888888889) * (300.0 - n_co2[49]) + 0.152 * 0.0)) - 0.0 == 0\n",
       " (n_co2[51] - (n_co2[50] + 0.17647058823529413 * (Q[50] + 0.001888888888888889) * (300.0 - n_co2[50]) + 0.152 * 0.0)) - 0.0 == 0\n",
       " (n_co2[52] - (n_co2[51] + 0.17647058823529413 * (Q[51] + 0.001888888888888889) * (300.0 - n_co2[51]) + 0.152 * 0.0)) - 0.0 == 0\n",
       " (n_co2[53] - (n_co2[52] + 0.17647058823529413 * (Q[52] + 0.001888888888888889) * (300.0 - n_co2[52]) + 0.152 * 0.0)) - 0.0 == 0\n",
       " (n_co2[54] - (n_co2[53] + 0.17647058823529413 * (Q[53] + 0.001888888888888889) * (300.0 - n_co2[53]) + 0.152 * 0.0)) - 0.0 == 0\n",
       " (n_co2[55] - (n_co2[54] + 0.17647058823529413 * (Q[54] + 0.001888888888888889) * (300.0 - n_co2[54]) + 0.152 * 0.0)) - 0.0 == 0\n",
       " (n_co2[56] - (n_co2[55] + 0.17647058823529413 * (Q[55] + 0.001888888888888889) * (300.0 - n_co2[55]) + 0.152 * 0.0)) - 0.0 == 0\n",
       " (n_co2[57] - (n_co2[56] + 0.17647058823529413 * (Q[56] + 0.001888888888888889) * (300.0 - n_co2[56]) + 0.152 * 0.0)) - 0.0 == 0\n",
       " (n_co2[58] - (n_co2[57] + 0.17647058823529413 * (Q[57] + 0.001888888888888889) * (300.0 - n_co2[57]) + 0.152 * 0.0)) - 0.0 == 0\n",
       " (n_co2[59] - (n_co2[58] + 0.17647058823529413 * (Q[58] + 0.001888888888888889) * (300.0 - n_co2[58]) + 0.152 * 0.0)) - 0.0 == 0\n",
       " (n_co2[60] - (n_co2[59] + 0.17647058823529413 * (Q[59] + 0.001888888888888889) * (300.0 - n_co2[59]) + 0.152 * 0.0)) - 0.0 == 0"
      ]
     },
     "execution_count": 41,
     "metadata": {},
     "output_type": "execute_result"
    }
   ],
   "source": [
    "@NLconstraint(m2,nl2[i in 1:(N-1)], n_c[i+1] - (n_c[i] + pn1 * (Q[i] + pn2) * (300 - n_c[i]) + k_CO2 * expr_occup[i]) == 0)"
   ]
  },
  {
   "cell_type": "code",
   "execution_count": 42,
   "metadata": {
    "scrolled": true
   },
   "outputs": [
    {
     "name": "stdout",
     "output_type": "stream",
     "text": [
      "This is Ipopt version 3.12.10, running with linear solver mumps.\n",
      "NOTE: Other linear solvers might be more efficient (see Ipopt documentation).\n",
      "\n",
      "Number of nonzeros in equality constraint Jacobian...:      892\n",
      "Number of nonzeros in inequality constraint Jacobian.:      180\n",
      "Number of nonzeros in Lagrangian Hessian.............:      354\n",
      "\n",
      "Total number of variables............................:      420\n",
      "                     variables with only lower bounds:        0\n",
      "                variables with lower and upper bounds:      420\n",
      "                     variables with only upper bounds:        0\n",
      "Total number of equality constraints.................:      300\n",
      "Total number of inequality constraints...............:      180\n",
      "        inequality constraints with only lower bounds:       60\n",
      "   inequality constraints with lower and upper bounds:        0\n",
      "        inequality constraints with only upper bounds:      120\n",
      "\n",
      "iter    objective    inf_pr   inf_du lg(mu)  ||d||  lg(rg) alpha_du alpha_pr  ls\n",
      "   0  1.3507816e+03 4.00e+02 1.92e+00  -1.0 0.00e+00    -  0.00e+00 0.00e+00   0\n",
      "   1  1.3501812e+03 4.00e+02 2.21e+00  -1.0 4.00e+02    -  2.48e-05 8.01e-05f  1\n",
      "   2  1.3500716e+03 4.00e+02 2.21e+00  -1.0 4.00e+02    -  3.43e-05 1.47e-05h  1\n",
      "   3  1.3495656e+03 4.00e+02 2.21e+00  -1.0 4.00e+02    -  4.77e-05 6.77e-05f  1\n",
      "   4  1.3492117e+03 4.00e+02 2.21e+00  -1.0 4.00e+02    -  4.22e-05 4.74e-05f  1\n",
      "   5  1.3488868e+03 4.00e+02 2.21e+00  -1.0 4.00e+02    -  5.94e-05 4.36e-05f  1\n",
      "   6  1.3484364e+03 4.00e+02 2.21e+00  -1.0 4.00e+02    -  6.13e-05 6.05e-05f  1\n",
      "   7  1.3479406e+03 4.00e+02 2.21e+00  -1.0 4.00e+02    -  4.72e-05 6.67e-05f  1\n",
      "   8  1.3476573e+03 4.00e+02 2.21e+00  -1.0 4.00e+02    -  4.12e-05 3.82e-05h  1\n",
      "   9  1.3472800e+03 4.00e+02 2.21e+00  -1.0 4.00e+02    -  7.29e-05 5.09e-05f  1\n",
      "iter    objective    inf_pr   inf_du lg(mu)  ||d||  lg(rg) alpha_du alpha_pr  ls\n",
      "  10  1.3468078e+03 4.00e+02 2.21e+00  -1.0 4.00e+02    -  5.78e-05 6.38e-05f  1\n",
      "  11  1.3463072e+03 4.00e+02 2.21e+00  -1.0 4.00e+02    -  4.69e-05 6.77e-05f  1\n",
      "  12  1.3460386e+03 4.00e+02 2.21e+00  -1.0 4.00e+02    -  4.13e-05 3.64e-05h  1\n",
      "  13  1.3456488e+03 4.00e+02 2.21e+00  -1.0 4.00e+02    -  7.61e-05 5.28e-05f  1\n",
      "  14  1.3451736e+03 4.00e+02 2.21e+00  -1.0 4.00e+02    -  5.78e-05 6.45e-05f  1\n",
      "  15  1.3446736e+03 4.00e+02 2.21e+00  -1.0 4.00e+02    -  4.73e-05 6.80e-05f  1\n",
      "  16  1.3444022e+03 4.00e+02 2.21e+00  -1.0 4.00e+02    -  4.17e-05 3.70e-05h  1\n",
      "  17  1.3440139e+03 4.00e+02 2.21e+00  -1.0 4.00e+02    -  7.57e-05 5.29e-05f  1\n",
      "  18  1.3435409e+03 4.00e+02 2.21e+00  -1.0 4.00e+02    -  5.85e-05 6.46e-05f  1\n",
      "  19  1.3430425e+03 4.00e+02 2.21e+00  -1.0 4.00e+02    -  4.77e-05 6.81e-05f  1\n",
      "iter    objective    inf_pr   inf_du lg(mu)  ||d||  lg(rg) alpha_du alpha_pr  ls\n",
      "  20  1.3427676e+03 4.00e+02 2.21e+00  -1.0 4.00e+02    -  4.19e-05 3.76e-05h  1\n",
      "  21  1.3423826e+03 4.00e+02 2.21e+00  -1.0 4.00e+02    -  7.52e-05 5.27e-05f  1\n",
      "  22  1.3419115e+03 4.00e+02 2.21e+00  -1.0 4.00e+02    -  5.90e-05 6.46e-05f  1\n",
      "  23  1.3414140e+03 3.99e+02 2.21e+00  -1.0 4.00e+02    -  4.79e-05 6.84e-05h  1\n",
      "  24  1.3411392e+03 3.99e+02 2.21e+00  -1.0 3.99e+02    -  4.20e-05 3.78e-05h  1\n",
      "  25  1.3407553e+03 3.99e+02 2.21e+00  -1.0 3.99e+02    -  7.55e-05 5.28e-05f  1\n",
      "  26  1.3402848e+03 3.99e+02 2.21e+00  -1.0 3.99e+02    -  5.91e-05 6.49e-05f  1\n",
      "  27  1.3397875e+03 3.99e+02 2.21e+00  -1.0 3.99e+02    -  4.79e-05 6.87e-05h  1\n",
      "  28  1.3395154e+03 3.99e+02 2.21e+00  -1.0 3.99e+02    -  4.21e-05 3.76e-05h  1\n",
      "  29  1.3391309e+03 3.99e+02 2.21e+00  -1.0 3.99e+02    -  7.63e-05 5.32e-05f  1\n",
      "iter    objective    inf_pr   inf_du lg(mu)  ||d||  lg(rg) alpha_du alpha_pr  ls\n",
      "  30  1.3386598e+03 3.99e+02 2.21e+00  -1.0 3.99e+02    -  5.89e-05 6.53e-05f  1\n",
      "  31  1.3381624e+03 3.99e+02 2.21e+00  -1.0 3.99e+02    -  4.79e-05 6.90e-05h  1\n",
      "  32  1.3378940e+03 3.99e+02 2.21e+00  -1.0 3.99e+02    -  4.21e-05 3.73e-05h  1\n",
      "  33  1.3375081e+03 3.99e+02 2.21e+00  -1.0 3.99e+02    -  7.74e-05 5.37e-05f  1\n",
      "  34  1.3370361e+03 3.99e+02 2.21e+00  -1.0 3.99e+02    -  5.88e-05 6.57e-05f  1\n",
      "  35  1.3365386e+03 3.99e+02 2.21e+00  -1.0 3.99e+02    -  4.79e-05 6.94e-05h  1\n",
      "  36  1.3362734e+03 3.99e+02 2.21e+00  -1.0 3.99e+02    -  4.21e-05 3.71e-05h  1\n",
      "  37  1.3358861e+03 3.99e+02 2.21e+00  -1.0 3.99e+02    -  7.84e-05 5.41e-05f  1\n",
      "  38  1.3354135e+03 3.99e+02 2.21e+00  -1.0 3.99e+02    -  5.87e-05 6.62e-05f  1\n",
      "  39  1.3349159e+03 3.99e+02 2.21e+00  -1.0 3.99e+02    -  4.79e-05 6.98e-05h  1\n",
      "iter    objective    inf_pr   inf_du lg(mu)  ||d||  lg(rg) alpha_du alpha_pr  ls\n",
      "  40  1.3346532e+03 3.99e+02 2.21e+00  -1.0 3.99e+02    -  4.22e-05 3.69e-05h  1\n",
      "  41  1.3342649e+03 3.99e+02 2.21e+00  -1.0 3.99e+02    -  7.93e-05 5.46e-05f  1\n",
      "  42  1.3337920e+03 3.99e+02 2.21e+00  -1.0 3.99e+02    -  5.87e-05 6.66e-05f  1\n",
      "  43  1.3332945e+03 3.99e+02 2.21e+00  -1.0 3.99e+02    -  4.80e-05 7.01e-05h  1\n",
      "  44  1.3330335e+03 3.99e+02 2.21e+00  -1.0 3.99e+02    -  4.23e-05 3.68e-05h  1\n",
      "  45  1.3326447e+03 3.99e+02 2.21e+00  -1.0 3.99e+02    -  7.99e-05 5.49e-05f  1\n",
      "  46  1.3321717e+03 3.99e+02 2.21e+00  -1.0 3.99e+02    -  5.88e-05 6.69e-05f  1\n",
      "  47  1.3316745e+03 3.99e+02 2.21e+00  -1.0 3.99e+02    -  4.82e-05 7.04e-05h  1\n",
      "  48  1.3314147e+03 3.99e+02 2.21e+00  -1.0 3.99e+02    -  4.25e-05 3.69e-05h  1\n",
      "  49  1.3310258e+03 3.99e+02 2.21e+00  -1.0 3.99e+02    -  8.05e-05 5.52e-05f  1\n",
      "iter    objective    inf_pr   inf_du lg(mu)  ||d||  lg(rg) alpha_du alpha_pr  ls\n",
      "  50  1.3305529e+03 3.99e+02 2.21e+00  -1.0 3.99e+02    -  5.89e-05 6.72e-05f  1\n",
      "  51  1.3300560e+03 3.99e+02 2.21e+00  -1.0 3.99e+02    -  4.83e-05 7.07e-05h  1\n",
      "  52  1.3297974e+03 3.99e+02 2.21e+00  -1.0 3.99e+02    -  4.26e-05 3.69e-05h  1\n",
      "  53  1.3294085e+03 3.99e+02 2.21e+00  -1.0 3.99e+02    -  8.10e-05 5.55e-05f  1\n",
      "  54  1.3289358e+03 3.99e+02 2.21e+00  -1.0 3.99e+02    -  5.90e-05 6.75e-05f  1\n",
      "  55  1.3284397e+03 3.99e+02 2.21e+00  -1.0 3.99e+02    -  4.84e-05 7.10e-05h  1\n",
      "  56  1.3281828e+03 3.99e+02 2.21e+00  -1.0 3.99e+02    -  4.27e-05 3.68e-05h  1\n",
      "  57  1.3277933e+03 3.99e+02 2.21e+00  -1.0 3.99e+02    -  8.10e-05 5.58e-05f  1\n",
      "  58  1.3273211e+03 3.99e+02 2.21e+00  -1.0 3.99e+02    -  5.81e-05 6.78e-05f  1\n",
      "  59  1.3268408e+03 3.99e+02 2.21e+00  -1.0 3.99e+02    -  4.84e-05 6.91e-05h  1\n",
      "iter    objective    inf_pr   inf_du lg(mu)  ||d||  lg(rg) alpha_du alpha_pr  ls\n",
      "  60  1.3265808e+03 3.99e+02 2.21e+00  -1.0 3.99e+02    -  4.45e-05 3.75e-05h  1\n",
      "  61  1.3261848e+03 3.99e+02 2.21e+00  -1.0 3.99e+02    -  7.93e-05 5.71e-05f  1\n",
      "  62  1.3257124e+03 3.99e+02 2.20e+00  -1.0 3.99e+02    -  5.66e-05 6.82e-05f  1\n",
      "  63  1.3252701e+03 3.99e+02 2.20e+00  -1.0 3.99e+02    -  4.78e-05 6.39e-05h  1\n",
      "  64  1.3249928e+03 3.99e+02 2.20e+00  -1.0 3.99e+02    -  4.91e-05 4.01e-05h  1\n",
      "  65  1.3245848e+03 3.99e+02 2.20e+00  -1.0 3.99e+02    -  7.58e-05 5.91e-05f  1\n",
      "  66  1.3241100e+03 3.99e+02 2.20e+00  -1.0 3.99e+02    -  5.48e-05 6.89e-05f  1\n",
      "  67  1.3237242e+03 3.98e+02 2.20e+00  -1.0 3.99e+02    -  4.65e-05 5.60e-05h  1\n",
      "  68  1.3234183e+03 3.98e+02 2.20e+00  -1.0 3.98e+02    -  5.73e-05 4.45e-05h  1\n",
      "  69  1.3229916e+03 3.98e+02 2.20e+00  -1.0 3.98e+02    -  7.05e-05 6.21e-05f  1\n",
      "iter    objective    inf_pr   inf_du lg(mu)  ||d||  lg(rg) alpha_du alpha_pr  ls\n",
      "  70  1.3225115e+03 3.98e+02 2.20e+00  -1.0 3.98e+02    -  5.25e-05 7.00e-05f  1\n",
      "  71  1.3221885e+03 3.98e+02 2.20e+00  -1.0 3.98e+02    -  4.50e-05 4.72e-05h  1\n",
      "  72  1.3218478e+03 3.98e+02 2.20e+00  -1.0 3.98e+02    -  6.83e-05 4.98e-05h  1\n",
      "  73  1.3214002e+03 3.98e+02 2.20e+00  -1.0 3.98e+02    -  6.47e-05 6.55e-05f  1\n",
      "  74  1.3209133e+03 3.98e+02 2.20e+00  -1.0 3.98e+02    -  5.02e-05 7.13e-05h  1\n",
      "  75  1.3206403e+03 3.98e+02 2.20e+00  -1.0 3.98e+02    -  4.35e-05 4.01e-05h  1\n",
      "  76  1.3202703e+03 3.98e+02 2.20e+00  -1.0 3.98e+02    -  7.91e-05 5.44e-05f  1\n",
      "  77  1.3198075e+03 3.98e+02 2.20e+00  -1.0 3.98e+02    -  6.02e-05 6.82e-05f  1\n",
      "  78  1.3193300e+03 3.98e+02 2.20e+00  -1.0 3.98e+02    -  4.84e-05 7.15e-05h  1\n",
      "  79  1.3191127e+03 3.98e+02 2.20e+00  -1.0 3.98e+02    -  4.35e-05 3.64e-05h  1\n",
      "iter    objective    inf_pr   inf_du lg(mu)  ||d||  lg(rg) alpha_du alpha_pr  ls\n",
      "  80  1.3188258e+03 3.98e+02 2.20e+00  -1.0 3.98e+02    -  7.92e-05 6.51e-05f  1\n",
      "  81  2.8195509e+01 2.59e+00 1.79e+04  -1.0 3.98e+02    -  6.36e-05 9.93e-01f  1\n",
      "  82  8.0867558e+01 1.50e-01 1.98e+03  -1.0 3.80e+01    -  4.03e-02 1.00e+00f  1\n",
      "  83  6.6445993e+01 1.20e-01 1.53e+03  -1.0 2.08e+00    -  6.97e-01 2.03e-01f  1\n",
      "  84  1.3763801e+02 7.58e-04 1.68e+03  -1.0 8.00e-01    -  8.47e-02 1.00e+00f  1\n",
      "  85  1.9450527e+02 2.76e-04 2.09e+02  -1.0 4.68e-01    -  7.71e-01 1.00e+00f  1\n",
      "  86  3.3003544e+02 2.72e-04 6.68e+01  -1.0 1.15e+00    -  5.98e-01 1.00e+00f  1\n",
      "  87  4.4199540e+02 2.68e-04 3.53e+01  -1.0 1.27e+00    -  7.49e-01 1.00e+00f  1\n",
      "  88  5.1042448e+02 1.84e-04 2.88e-01  -1.0 1.08e+00    -  9.92e-01 1.00e+00f  1\n",
      "  89  1.0707394e+02 2.94e-03 7.16e-04  -1.7 3.89e+00    -  1.00e+00 1.00e+00f  1\n",
      "iter    objective    inf_pr   inf_du lg(mu)  ||d||  lg(rg) alpha_du alpha_pr  ls\n",
      "  90  1.5006745e+01 1.74e-04 6.91e-05  -2.5 1.05e+00    -  1.00e+00 1.00e+00f  1\n",
      "  91  7.9682545e-01 3.98e-06 1.50e-06  -3.8 1.55e-01    -  1.00e+00 1.00e+00f  1\n",
      "  92  8.8394492e-03 1.20e-08 4.43e-09  -5.7 8.46e-03    -  1.00e+00 1.00e+00f  1\n",
      "  93  3.1099793e-04 1.42e-09 7.97e-01  -8.6 1.04e-04    -  1.00e+00 8.82e-01h  1\n",
      "  94  7.3365026e-05 7.11e-10 2.20e+01  -8.6 1.02e-05    -  1.00e+00 4.99e-01f  1\n",
      "  95 -7.6233515e-06 2.51e-10 8.30e+00  -8.6 2.67e-06    -  9.99e-01 6.47e-01f  1\n",
      "  96 -2.1722892e-05 5.68e-14 2.51e-14  -8.6 3.06e-07    -  1.00e+00 1.00e+00f  1\n",
      "\n",
      "Number of Iterations....: 96\n",
      "\n",
      "                                   (scaled)                 (unscaled)\n",
      "Objective...............:  -9.8359499120234276e-07   -2.1722892099701985e-05\n",
      "Dual infeasibility......:   2.5059035599187567e-14    5.5343381301517739e-13\n",
      "Constraint violation....:   5.6843418860808015e-14    5.6843418860808015e-14\n",
      "Complementarity.........:   3.7735624641312979e-09    8.3339881732832546e-08\n",
      "Overall NLP error.......:   3.7735624641312979e-09    8.3339881732832546e-08\n",
      "\n",
      "\n",
      "Number of objective function evaluations             = 97\n",
      "Number of objective gradient evaluations             = 97\n",
      "Number of equality constraint evaluations            = 97\n",
      "Number of inequality constraint evaluations          = 97\n",
      "Number of equality constraint Jacobian evaluations   = 97\n",
      "Number of inequality constraint Jacobian evaluations = 97\n",
      "Number of Lagrangian Hessian evaluations             = 96\n",
      "Total CPU secs in IPOPT (w/o function evaluations)   =      0.326\n",
      "Total CPU secs in NLP function evaluations           =      0.023\n",
      "\n",
      "EXIT: Optimal Solution Found.\n"
     ]
    }
   ],
   "source": [
    "optimize!(m2)"
   ]
  },
  {
   "cell_type": "code",
   "execution_count": 43,
   "metadata": {},
   "outputs": [
    {
     "name": "stdout",
     "output_type": "stream",
     "text": [
      "[1.84552e-11, 1.84552e-11, 1.84552e-11, 1.84552e-11, 1.84552e-11, 1.84552e-11, 1.84552e-11, 1.84552e-11, 1.84552e-11, 1.84552e-11, 1.84552e-11, 1.84552e-11, 1.84552e-11, 1.84552e-11, 1.84552e-11, 1.84552e-11, 1.84552e-11, 1.84552e-11, 1.84552e-11, 1.84552e-11, 1.84552e-11, 1.84552e-11, 1.84552e-11, 1.84552e-11, 1.84552e-11, 1.84552e-11, 1.84552e-11, 1.84552e-11, 1.84552e-11, 1.84552e-11, 1.84552e-11, 1.84552e-11, 1.84552e-11, 1.84552e-11, 1.84552e-11, 1.84552e-11, 1.84552e-11, 1.84552e-11, 1.84552e-11, 1.84552e-11, 1.84552e-11, 1.84552e-11, 1.84552e-11, 1.84552e-11, 1.84552e-11, 1.84552e-11, 1.84552e-11, 1.84552e-11, 1.84552e-11, 1.84552e-11, 1.84552e-11, 1.84552e-11, 1.84552e-11, 1.84552e-11, 1.84552e-11, 1.84552e-11, 1.84552e-11, 1.84552e-11, 1.84552e-11, 1.94201e-11]\n",
      "[0.0, 0.0, 0.0, 0.0, 0.0, 0.0, 0.0, 0.0, 0.0, 0.0, 0.0, 0.0, 0.0, 0.0, 0.0, 0.0, 0.0, 0.0, 0.0, 0.0, 0.0, 0.0, 0.0, 0.0, 0.0, 0.0, 0.0, 0.0, 0.0, 0.0, 0.0, 0.0, 0.0, 0.0, 0.0, 0.0, 0.0, 0.0, 0.0, 0.0, 0.0, 0.0, 0.0, 0.0, 0.0, 0.0, 0.0, 0.0, 0.0, 0.0, 0.0, 0.0, 0.0, 0.0, 0.0, 0.0, 0.0, 0.0, 0.0, 0.0]\n",
      "-2.1722892099701985e-5\n",
      "LOCALLY_SOLVED\n"
     ]
    }
   ],
   "source": [
    "println(JuMP.value.(P_c))\n",
    "println(JuMP.value.(P_f))\n",
    "println(JuMP.objective_value(m2))\n",
    "println(JuMP.termination_status(m2))"
   ]
  },
  {
   "cell_type": "code",
   "execution_count": null,
   "metadata": {},
   "outputs": [],
   "source": [
    "# short problem is solved"
   ]
  },
  {
   "cell_type": "code",
   "execution_count": null,
   "metadata": {},
   "outputs": [],
   "source": []
  },
  {
   "cell_type": "code",
   "execution_count": 44,
   "metadata": {},
   "outputs": [
    {
     "data": {
      "text/plain": [
       "300"
      ]
     },
     "execution_count": 44,
     "metadata": {},
     "output_type": "execute_result"
    }
   ],
   "source": [
    "N = 300"
   ]
  },
  {
   "cell_type": "code",
   "execution_count": null,
   "metadata": {},
   "outputs": [],
   "source": []
  },
  {
   "cell_type": "code",
   "execution_count": 45,
   "metadata": {},
   "outputs": [
    {
     "name": "stdout",
     "output_type": "stream",
     "text": [
      "This is Ipopt version 3.12.10, running with linear solver mumps.\n",
      "NOTE: Other linear solvers might be more efficient (see Ipopt documentation).\n",
      "\n",
      "Number of nonzeros in equality constraint Jacobian...:     4492\n",
      "Number of nonzeros in inequality constraint Jacobian.:      897\n",
      "Number of nonzeros in Lagrangian Hessian.............:     1794\n",
      "\n",
      "Total number of variables............................:     2100\n",
      "                     variables with only lower bounds:        0\n",
      "                variables with lower and upper bounds:     2100\n",
      "                     variables with only upper bounds:        0\n",
      "Total number of equality constraints.................:     1500\n",
      "Total number of inequality constraints...............:      897\n",
      "        inequality constraints with only lower bounds:      299\n",
      "   inequality constraints with lower and upper bounds:        0\n",
      "        inequality constraints with only upper bounds:      598\n",
      "\n",
      "iter    objective    inf_pr   inf_du lg(mu)  ||d||  lg(rg) alpha_du alpha_pr  ls\n",
      "   0  6.3887221e+03 4.00e+02 1.82e+00  -1.0 0.00e+00    -  0.00e+00 0.00e+00   0\n",
      "   1  6.3876952e+03 4.00e+02 2.21e+00  -1.0 4.00e+02    -  2.48e-05 8.01e-05f  1\n",
      "   2  6.3875075e+03 4.00e+02 2.21e+00  -1.0 4.00e+02    -  3.43e-05 1.47e-05f  1\n",
      "   3  6.3866408e+03 4.00e+02 2.21e+00  -1.0 4.00e+02    -  4.78e-05 6.77e-05f  1\n",
      "   4  6.3860334e+03 4.00e+02 2.21e+00  -1.0 4.00e+02    -  4.22e-05 4.75e-05f  1\n",
      "   5  6.3854762e+03 4.00e+02 2.21e+00  -1.0 4.00e+02    -  5.93e-05 4.36e-05f  1\n",
      "   6  6.3847036e+03 4.00e+02 2.21e+00  -1.0 4.00e+02    -  6.14e-05 6.05e-05f  1\n",
      "   7  6.3838523e+03 4.00e+02 2.21e+00  -1.0 4.00e+02    -  4.73e-05 6.67e-05f  1\n",
      "   8  6.3833625e+03 4.00e+02 2.21e+00  -1.0 4.00e+02    -  4.13e-05 3.84e-05f  1\n",
      "   9  6.3827149e+03 4.00e+02 2.21e+00  -1.0 4.00e+02    -  7.26e-05 5.08e-05f  1\n",
      "iter    objective    inf_pr   inf_du lg(mu)  ||d||  lg(rg) alpha_du alpha_pr  ls\n",
      "  10  6.3819035e+03 4.00e+02 2.21e+00  -1.0 4.00e+02    -  5.81e-05 6.37e-05f  1\n",
      "  11  6.3810422e+03 4.00e+02 2.21e+00  -1.0 4.00e+02    -  4.70e-05 6.77e-05f  1\n",
      "  12  6.3805751e+03 4.00e+02 2.21e+00  -1.0 4.00e+02    -  4.15e-05 3.67e-05f  1\n",
      "  13  6.3799052e+03 4.00e+02 2.21e+00  -1.0 4.00e+02    -  7.55e-05 5.27e-05f  1\n",
      "  14  6.3790872e+03 4.00e+02 2.21e+00  -1.0 4.00e+02    -  5.82e-05 6.44e-05f  1\n",
      "  15  6.3782252e+03 4.00e+02 2.21e+00  -1.0 4.00e+02    -  4.75e-05 6.79e-05f  1\n",
      "  16  6.3777501e+03 4.00e+02 2.21e+00  -1.0 4.00e+02    -  4.19e-05 3.75e-05f  1\n",
      "  17  6.3770823e+03 4.00e+02 2.21e+00  -1.0 4.00e+02    -  7.48e-05 5.27e-05f  1\n",
      "  18  6.3762671e+03 4.00e+02 2.21e+00  -1.0 4.00e+02    -  5.91e-05 6.44e-05f  1\n",
      "  19  6.3754064e+03 4.00e+02 2.21e+00  -1.0 4.00e+02    -  4.80e-05 6.80e-05f  1\n",
      "iter    objective    inf_pr   inf_du lg(mu)  ||d||  lg(rg) alpha_du alpha_pr  ls\n",
      "  20  6.3749214e+03 4.00e+02 2.21e+00  -1.0 4.00e+02    -  4.22e-05 3.84e-05f  1\n",
      "  21  6.3742590e+03 4.00e+02 2.21e+00  -1.0 4.00e+02    -  7.40e-05 5.24e-05f  1\n",
      "  22  6.3734464e+03 4.00e+02 2.21e+00  -1.0 4.00e+02    -  5.97e-05 6.44e-05f  1\n",
      "  23  6.3725858e+03 3.99e+02 2.21e+00  -1.0 4.00e+02    -  4.83e-05 6.82e-05f  1\n",
      "  24  6.3720965e+03 3.99e+02 2.21e+00  -1.0 3.99e+02    -  4.24e-05 3.88e-05f  1\n",
      "  25  6.3714364e+03 3.99e+02 2.21e+00  -1.0 3.99e+02    -  7.39e-05 5.24e-05f  1\n",
      "  26  6.3706241e+03 3.99e+02 2.21e+00  -1.0 3.99e+02    -  6.00e-05 6.46e-05f  1\n",
      "  27  6.3697626e+03 3.99e+02 2.21e+00  -1.0 3.99e+02    -  4.85e-05 6.85e-05f  1\n",
      "  28  6.3692733e+03 3.99e+02 2.21e+00  -1.0 3.99e+02    -  4.25e-05 3.90e-05f  1\n",
      "  29  6.3686126e+03 3.99e+02 2.21e+00  -1.0 3.99e+02    -  7.43e-05 5.26e-05f  1\n",
      "iter    objective    inf_pr   inf_du lg(mu)  ||d||  lg(rg) alpha_du alpha_pr  ls\n",
      "  30  6.3677987e+03 3.99e+02 2.21e+00  -1.0 3.99e+02    -  6.01e-05 6.49e-05f  1\n",
      "  31  6.3669358e+03 3.99e+02 2.21e+00  -1.0 3.99e+02    -  4.86e-05 6.88e-05f  1\n",
      "  32  6.3664478e+03 3.99e+02 2.21e+00  -1.0 3.99e+02    -  4.26e-05 3.90e-05f  1\n",
      "  33  6.3657851e+03 3.99e+02 2.21e+00  -1.0 3.99e+02    -  7.49e-05 5.29e-05f  1\n",
      "  34  6.3649694e+03 3.99e+02 2.21e+00  -1.0 3.99e+02    -  6.03e-05 6.52e-05f  1\n",
      "  35  6.3641050e+03 3.99e+02 2.21e+00  -1.0 3.99e+02    -  4.88e-05 6.92e-05f  1\n",
      "  36  6.3636169e+03 3.99e+02 2.21e+00  -1.0 3.99e+02    -  4.28e-05 3.91e-05f  1\n",
      "  37  6.3629526e+03 3.99e+02 2.21e+00  -1.0 3.99e+02    -  7.53e-05 5.32e-05f  1\n",
      "  38  6.3621355e+03 3.99e+02 2.21e+00  -1.0 3.99e+02    -  6.06e-05 6.55e-05f  1\n",
      "  39  6.3612700e+03 3.99e+02 2.21e+00  -1.0 3.99e+02    -  4.90e-05 6.95e-05f  1\n",
      "iter    objective    inf_pr   inf_du lg(mu)  ||d||  lg(rg) alpha_du alpha_pr  ls\n",
      "  40  6.3607794e+03 3.99e+02 2.21e+00  -1.0 3.99e+02    -  4.31e-05 3.94e-05f  1\n",
      "  41  6.3601146e+03 3.99e+02 2.21e+00  -1.0 3.99e+02    -  7.54e-05 5.34e-05f  1\n",
      "  42  6.3592970e+03 3.99e+02 2.21e+00  -1.0 3.99e+02    -  6.10e-05 6.57e-05f  1\n",
      "  43  6.3584308e+03 3.99e+02 2.21e+00  -1.0 3.99e+02    -  4.94e-05 6.97e-05f  1\n",
      "  44  6.3579349e+03 3.99e+02 2.21e+00  -1.0 3.99e+02    -  4.34e-05 4.00e-05f  1\n",
      "  45  6.3572710e+03 3.99e+02 2.21e+00  -1.0 3.99e+02    -  7.51e-05 5.35e-05f  1\n",
      "  46  6.3564540e+03 3.99e+02 2.21e+00  -1.0 3.99e+02    -  6.17e-05 6.59e-05f  1\n",
      "  47  6.3555875e+03 3.99e+02 2.21e+00  -1.0 3.99e+02    -  4.98e-05 7.00e-05f  1\n",
      "  48  6.3550832e+03 3.99e+02 2.21e+00  -1.0 3.99e+02    -  4.38e-05 4.08e-05f  1\n",
      "  49  6.3544218e+03 3.99e+02 2.21e+00  -1.0 3.99e+02    -  7.45e-05 5.35e-05f  1\n",
      "iter    objective    inf_pr   inf_du lg(mu)  ||d||  lg(rg) alpha_du alpha_pr  ls\n",
      "  50  6.3536064e+03 3.99e+02 2.21e+00  -1.0 3.99e+02    -  6.25e-05 6.60e-05f  1\n",
      "  51  6.3527402e+03 3.99e+02 2.21e+00  -1.0 3.99e+02    -  5.04e-05 7.01e-05f  1\n",
      "  52  6.3522246e+03 3.99e+02 2.21e+00  -1.0 3.99e+02    -  4.42e-05 4.18e-05f  1\n",
      "  53  6.3515673e+03 3.99e+02 2.21e+00  -1.0 3.99e+02    -  7.36e-05 5.33e-05f  1\n",
      "  54  6.3507545e+03 3.99e+02 2.21e+00  -1.0 3.99e+02    -  6.36e-05 6.60e-05f  1\n",
      "  55  6.3498888e+03 3.99e+02 2.21e+00  -1.0 3.99e+02    -  5.10e-05 7.03e-05f  1\n",
      "  56  6.3493590e+03 3.99e+02 2.21e+00  -1.0 3.99e+02    -  4.47e-05 4.31e-05f  1\n",
      "  57  6.3487072e+03 3.99e+02 2.21e+00  -1.0 3.99e+02    -  7.24e-05 5.30e-05f  1\n",
      "  58  6.3478981e+03 3.99e+02 2.21e+00  -1.0 3.99e+02    -  6.48e-05 6.58e-05f  1\n",
      "  59  6.3470334e+03 3.99e+02 2.21e+00  -1.0 3.99e+02    -  5.17e-05 7.04e-05f  1\n",
      "iter    objective    inf_pr   inf_du lg(mu)  ||d||  lg(rg) alpha_du alpha_pr  ls\n",
      "  60  6.3464859e+03 3.99e+02 2.21e+00  -1.0 3.99e+02    -  4.53e-05 4.46e-05f  1\n",
      "  61  6.3458414e+03 3.99e+02 2.21e+00  -1.0 3.99e+02    -  7.09e-05 5.26e-05f  1\n",
      "  62  6.3450372e+03 3.99e+02 2.21e+00  -1.0 3.99e+02    -  6.62e-05 6.56e-05f  1\n",
      "  63  6.3441738e+03 3.99e+02 2.21e+00  -1.0 3.99e+02    -  5.26e-05 7.05e-05f  1\n",
      "  64  6.3436045e+03 3.99e+02 2.21e+00  -1.0 3.99e+02    -  4.59e-05 4.66e-05f  1\n",
      "  65  6.3429693e+03 3.99e+02 2.21e+00  -1.0 3.99e+02    -  6.90e-05 5.20e-05f  1\n",
      "  66  6.3421715e+03 3.99e+02 2.21e+00  -1.0 3.99e+02    -  6.80e-05 6.53e-05f  1\n",
      "  67  6.3413099e+03 3.98e+02 2.20e+00  -1.0 3.99e+02    -  5.35e-05 7.06e-05f  1\n",
      "  68  6.3407134e+03 3.98e+02 2.20e+00  -1.0 3.98e+02    -  4.66e-05 4.89e-05f  1\n",
      "  69  6.3400901e+03 3.98e+02 2.20e+00  -1.0 3.98e+02    -  6.66e-05 5.11e-05f  1\n",
      "iter    objective    inf_pr   inf_du lg(mu)  ||d||  lg(rg) alpha_du alpha_pr  ls\n",
      "  70  6.3393005e+03 3.98e+02 2.20e+00  -1.0 3.98e+02    -  7.00e-05 6.48e-05f  1\n",
      "  71  6.3384413e+03 3.98e+02 2.20e+00  -1.0 3.98e+02    -  5.46e-05 7.06e-05f  1\n",
      "  72  6.3378097e+03 3.98e+02 2.20e+00  -1.0 3.98e+02    -  4.75e-05 5.20e-05f  1\n",
      "  73  6.3372020e+03 3.98e+02 2.20e+00  -1.0 3.98e+02    -  6.37e-05 5.00e-05f  1\n",
      "  74  6.3364233e+03 3.98e+02 2.20e+00  -1.0 3.98e+02    -  7.25e-05 6.41e-05f  1\n",
      "  75  6.3355671e+03 3.98e+02 2.20e+00  -1.0 3.98e+02    -  5.60e-05 7.06e-05f  1\n",
      "  76  6.3348878e+03 3.98e+02 2.20e+00  -1.0 3.98e+02    -  4.85e-05 5.60e-05f  1\n",
      "  77  6.3343014e+03 3.98e+02 2.20e+00  -1.0 3.98e+02    -  6.00e-05 4.84e-05f  1\n",
      "  78  6.3335386e+03 3.98e+02 2.20e+00  -1.0 3.98e+02    -  7.59e-05 6.31e-05f  1\n",
      "  79  6.3326898e+03 3.98e+02 2.20e+00  -1.0 3.98e+02    -  5.77e-05 7.05e-05f  1\n",
      "iter    objective    inf_pr   inf_du lg(mu)  ||d||  lg(rg) alpha_du alpha_pr  ls\n",
      "  80  6.3319516e+03 3.98e+02 2.20e+00  -1.0 3.98e+02    -  4.99e-05 6.21e-05f  1\n",
      "  81  6.3314055e+03 3.98e+02 2.20e+00  -1.0 3.98e+02    -  5.48e-05 4.60e-05f  1\n",
      "  82  6.3306775e+03 3.98e+02 2.20e+00  -1.0 3.98e+02    -  8.08e-05 6.13e-05f  1\n",
      "  83  6.3298442e+03 3.98e+02 2.20e+00  -1.0 3.98e+02    -  6.03e-05 7.03e-05f  1\n",
      "  84  6.3289818e+03 3.98e+02 2.20e+00  -1.0 3.98e+02    -  5.19e-05 7.28e-05f  1\n",
      "  85  6.3284831e+03 3.98e+02 2.20e+00  -1.0 3.98e+02    -  4.70e-05 4.21e-05f  1\n",
      "  86  6.3277976e+03 3.98e+02 2.20e+00  -1.0 3.98e+02    -  7.89e-05 5.79e-05f  1\n",
      "  87  6.3269828e+03 3.98e+02 2.20e+00  -1.0 3.98e+02    -  6.74e-05 6.89e-05f  1\n",
      "  88  6.3261242e+03 3.98e+02 2.20e+00  -1.0 3.98e+02    -  5.49e-05 7.27e-05f  1\n",
      "  89  6.3255351e+03 3.98e+02 2.20e+00  -1.0 3.98e+02    -  4.83e-05 4.99e-05f  1\n",
      "iter    objective    inf_pr   inf_du lg(mu)  ||d||  lg(rg) alpha_du alpha_pr  ls\n",
      "  90  6.3249033e+03 3.98e+02 2.20e+00  -1.0 3.98e+02    -  6.86e-05 5.35e-05f  1\n",
      "  91  6.3241210e+03 3.98e+02 2.20e+00  -1.0 3.98e+02    -  7.35e-05 6.63e-05f  1\n",
      "  92  6.3232726e+03 3.98e+02 2.20e+00  -1.0 3.98e+02    -  5.77e-05 7.20e-05f  1\n",
      "  93  6.3225790e+03 3.98e+02 2.20e+00  -1.0 3.98e+02    -  5.03e-05 5.89e-05f  1\n",
      "  94  6.3219965e+03 3.98e+02 2.20e+00  -1.0 3.98e+02    -  5.97e-05 4.95e-05f  1\n",
      "  95  6.3212489e+03 3.98e+02 2.20e+00  -1.0 3.98e+02    -  8.05e-05 6.36e-05f  1\n",
      "  96  6.3204090e+03 3.98e+02 2.20e+00  -1.0 3.98e+02    -  6.12e-05 7.15e-05f  1\n",
      "  97  6.3195549e+03 3.98e+02 2.20e+00  -1.0 3.98e+02    -  5.29e-05 7.28e-05f  1\n",
      "  98  6.3190376e+03 3.98e+02 2.20e+00  -1.0 3.98e+02    -  4.91e-05 4.41e-05f  1\n",
      "  99  6.3183428e+03 3.98e+02 2.20e+00  -1.0 3.98e+02    -  7.96e-05 5.93e-05f  1\n",
      "iter    objective    inf_pr   inf_du lg(mu)  ||d||  lg(rg) alpha_du alpha_pr  ls\n",
      " 100  6.3175254e+03 3.98e+02 2.20e+00  -1.0 3.98e+02    -  6.98e-05 6.98e-05f  1\n",
      " 101  6.3166651e+03 3.98e+02 2.20e+00  -1.0 3.98e+02    -  5.69e-05 7.35e-05f  1\n",
      " 102  6.3160325e+03 3.98e+02 2.20e+00  -1.0 3.98e+02    -  5.01e-05 5.41e-05f  1\n",
      " 103  6.3154097e+03 3.98e+02 2.20e+00  -1.0 3.98e+02    -  6.59e-05 5.33e-05f  1\n",
      " 104  6.3146379e+03 3.98e+02 2.20e+00  -1.0 3.98e+02    -  7.85e-05 6.61e-05f  1\n",
      " 105  6.3137909e+03 3.98e+02 2.20e+00  -1.0 3.98e+02    -  6.10e-05 7.26e-05f  1\n",
      " 106  6.3129872e+03 3.98e+02 2.20e+00  -1.0 3.98e+02    -  5.30e-05 6.89e-05f  1\n",
      " 107  6.3124385e+03 3.98e+02 2.20e+00  -1.0 3.98e+02    -  5.34e-05 4.71e-05f  1\n",
      " 108  6.3117229e+03 3.97e+02 2.20e+00  -1.0 3.98e+02    -  8.38e-05 6.15e-05f  1\n",
      " 109  6.3108927e+03 3.97e+02 2.20e+00  -1.0 3.97e+02    -  6.97e-05 7.13e-05f  1\n",
      "iter    objective    inf_pr   inf_du lg(mu)  ||d||  lg(rg) alpha_du alpha_pr  ls\n",
      " 110  6.3100277e+03 3.97e+02 2.20e+00  -1.0 3.97e+02    -  5.76e-05 7.44e-05f  1\n",
      " 111  6.3093896e+03 3.97e+02 2.20e+00  -1.0 3.97e+02    -  5.09e-05 5.49e-05f  1\n",
      " 112  6.3087593e+03 3.97e+02 2.20e+00  -1.0 3.97e+02    -  6.65e-05 5.43e-05f  1\n",
      " 113  6.3079861e+03 3.97e+02 2.20e+00  -1.0 3.97e+02    -  8.05e-05 6.66e-05f  1\n",
      " 114  6.3071372e+03 3.97e+02 2.20e+00  -1.0 3.97e+02    -  6.27e-05 7.32e-05f  1\n",
      " 115  6.3062806e+03 3.97e+02 2.20e+00  -1.0 3.97e+02    -  5.46e-05 7.40e-05f  1\n",
      " 116  6.3057395e+03 3.97e+02 2.20e+00  -1.0 3.97e+02    -  5.13e-05 4.68e-05f  1\n",
      " 117  6.3050376e+03 3.97e+02 2.20e+00  -1.0 3.97e+02    -  7.94e-05 6.07e-05f  1\n",
      " 118  6.3042201e+03 3.97e+02 2.20e+00  -1.0 3.97e+02    -  7.39e-05 7.07e-05f  1\n",
      " 119  6.3033585e+03 3.97e+02 2.20e+00  -1.0 3.97e+02    -  6.02e-05 7.46e-05f  1\n",
      "iter    objective    inf_pr   inf_du lg(mu)  ||d||  lg(rg) alpha_du alpha_pr  ls\n",
      " 120  6.3026433e+03 3.97e+02 2.20e+00  -1.0 3.97e+02    -  5.30e-05 6.20e-05f  1\n",
      " 121  6.3020384e+03 3.97e+02 2.20e+00  -1.0 3.97e+02    -  6.12e-05 5.24e-05f  1\n",
      " 122  6.3012879e+03 3.97e+02 2.20e+00  -1.0 3.97e+02    -  8.74e-05 6.51e-05f  1\n",
      " 123  6.3004409e+03 3.97e+02 2.20e+00  -1.0 3.97e+02    -  6.72e-05 7.35e-05f  1\n",
      " 124  6.2995665e+03 3.97e+02 2.20e+00  -1.0 3.97e+02    -  5.83e-05 7.60e-05f  1\n",
      " 125  6.2989417e+03 3.97e+02 2.20e+00  -1.0 3.97e+02    -  5.19e-05 5.43e-05f  1\n",
      " 126  6.2982888e+03 3.97e+02 2.20e+00  -1.0 3.97e+02    -  6.93e-05 5.68e-05f  1\n",
      " 127  6.2975056e+03 3.97e+02 2.20e+00  -1.0 3.97e+02    -  8.24e-05 6.82e-05f  1\n",
      " 128  6.2966519e+03 3.97e+02 2.20e+00  -1.0 3.97e+02    -  6.48e-05 7.44e-05f  1\n",
      " 129  6.2957622e+03 3.97e+02 2.20e+00  -1.0 3.97e+02    -  5.68e-05 7.76e-05f  1\n",
      "iter    objective    inf_pr   inf_du lg(mu)  ||d||  lg(rg) alpha_du alpha_pr  ls\n",
      " 130  6.2951937e+03 3.97e+02 2.20e+00  -1.0 3.97e+02    -  5.14e-05 4.96e-05f  1\n",
      " 131  6.2945075e+03 3.97e+02 2.20e+00  -1.0 3.97e+02    -  7.52e-05 5.99e-05f  1\n",
      " 132  6.2937028e+03 3.97e+02 2.20e+00  -1.0 3.97e+02    -  7.97e-05 7.03e-05f  1\n",
      " 133  6.2928433e+03 3.97e+02 2.20e+00  -1.0 3.97e+02    -  6.40e-05 7.52e-05f  1\n",
      " 134  6.2919980e+03 3.97e+02 2.20e+00  -1.0 3.97e+02    -  5.63e-05 7.40e-05f  1\n",
      " 135  6.2914259e+03 3.97e+02 2.20e+00  -1.0 3.97e+02    -  5.45e-05 5.01e-05f  1\n",
      " 136  6.2907107e+03 3.97e+02 2.20e+00  -1.0 3.97e+02    -  8.03e-05 6.27e-05f  1\n",
      " 137  6.2898894e+03 3.97e+02 2.20e+00  -1.0 3.97e+02    -  7.80e-05 7.21e-05f  1\n",
      " 138  6.2890247e+03 3.97e+02 2.20e+00  -1.0 3.97e+02    -  6.37e-05 7.59e-05f  1\n",
      " 139  6.2882152e+03 3.97e+02 2.19e+00  -1.0 3.97e+02    -  5.62e-05 7.11e-05f  1\n",
      "iter    objective    inf_pr   inf_du lg(mu)  ||d||  lg(rg) alpha_du alpha_pr  ls\n",
      " 140  6.2876231e+03 3.97e+02 2.19e+00  -1.0 3.97e+02    -  5.73e-05 5.21e-05f  1\n",
      " 141  6.2868941e+03 3.97e+02 2.19e+00  -1.0 3.97e+02    -  8.32e-05 6.41e-05f  1\n",
      " 142  6.2860631e+03 3.97e+02 2.19e+00  -1.0 3.97e+02    -  7.76e-05 7.32e-05f  1\n",
      " 143  6.2851951e+03 3.97e+02 2.19e+00  -1.0 3.97e+02    -  6.40e-05 7.65e-05f  1\n",
      " 144  6.2843909e+03 3.97e+02 2.19e+00  -1.0 3.97e+02    -  5.67e-05 7.09e-05f  1\n",
      " 145  6.2837896e+03 3.97e+02 2.19e+00  -1.0 3.97e+02    -  5.83e-05 5.31e-05f  1\n",
      " 146  6.2830564e+03 3.96e+02 2.19e+00  -1.0 3.97e+02    -  8.36e-05 6.47e-05f  1\n",
      " 147  6.2822236e+03 3.96e+02 2.19e+00  -1.0 3.96e+02    -  7.86e-05 7.36e-05f  1\n",
      " 148  6.2813545e+03 3.96e+02 2.19e+00  -1.0 3.96e+02    -  6.49e-05 7.69e-05f  1\n",
      " 149  6.2805251e+03 3.96e+02 2.19e+00  -1.0 3.96e+02    -  5.76e-05 7.34e-05f  1\n",
      "iter    objective    inf_pr   inf_du lg(mu)  ||d||  lg(rg) alpha_du alpha_pr  ls\n",
      " 150  6.2799252e+03 3.96e+02 2.19e+00  -1.0 3.96e+02    -  5.75e-05 5.31e-05f  1\n",
      " 151  6.2791969e+03 3.96e+02 2.19e+00  -1.0 3.96e+02    -  8.17e-05 6.46e-05f  1\n",
      " 152  6.2783703e+03 3.96e+02 2.19e+00  -1.0 3.96e+02    -  8.12e-05 7.33e-05f  1\n",
      " 153  6.2775021e+03 3.96e+02 2.19e+00  -1.0 3.96e+02    -  6.66e-05 7.71e-05f  1\n",
      " 154  6.2766123e+03 3.96e+02 2.19e+00  -1.0 3.96e+02    -  5.90e-05 7.91e-05f  1\n",
      " 155  6.2760218e+03 3.96e+02 2.19e+00  -1.0 3.96e+02    -  5.49e-05 5.26e-05f  1\n",
      " 156  6.2753149e+03 3.96e+02 2.19e+00  -1.0 3.96e+02    -  7.68e-05 6.33e-05f  1\n",
      " 157  6.2745137e+03 3.96e+02 2.19e+00  -1.0 3.96e+02    -  8.59e-05 7.21e-05f  1\n",
      " 158  6.2736573e+03 3.96e+02 2.19e+00  -1.0 3.96e+02    -  6.93e-05 7.71e-05f  1\n",
      " 159  6.2727715e+03 3.96e+02 2.19e+00  -1.0 3.96e+02    -  6.14e-05 7.99e-05f  1\n",
      "iter    objective    inf_pr   inf_du lg(mu)  ||d||  lg(rg) alpha_du alpha_pr  ls\n",
      " 160  6.2721230e+03 3.96e+02 2.19e+00  -1.0 3.96e+02    -  5.57e-05 5.85e-05f  1\n",
      " 161  6.2714486e+03 3.96e+02 2.19e+00  -1.0 3.96e+02    -  7.09e-05 6.09e-05f  1\n",
      " 162  6.2706687e+03 3.96e+02 2.19e+00  -1.0 3.96e+02    -  9.21e-05 7.05e-05f  1\n",
      " 163  6.2698132e+03 3.96e+02 2.19e+00  -1.0 3.96e+02    -  7.34e-05 7.73e-05f  1\n",
      " 164  6.2689398e+03 3.96e+02 2.19e+00  -1.0 3.96e+02    -  6.49e-05 7.90e-05f  1\n",
      " 165  6.2681850e+03 3.96e+02 2.19e+00  -1.0 3.96e+02    -  5.81e-05 6.84e-05f  1\n",
      " 166  6.2675451e+03 3.96e+02 2.19e+00  -1.0 3.96e+02    -  6.38e-05 5.80e-05f  1\n",
      " 167  6.2667959e+03 3.96e+02 2.19e+00  -1.0 3.96e+02    -  8.71e-05 6.79e-05f  1\n",
      " 168  6.2659595e+03 3.96e+02 2.19e+00  -1.0 3.96e+02    -  8.22e-05 7.59e-05f  1\n",
      " 169  6.2650933e+03 3.96e+02 2.19e+00  -1.0 3.96e+02    -  6.87e-05 7.87e-05f  1\n",
      "iter    objective    inf_pr   inf_du lg(mu)  ||d||  lg(rg) alpha_du alpha_pr  ls\n",
      " 170  6.2641939e+03 3.96e+02 2.19e+00  -1.0 3.96e+02    -  6.13e-05 8.17e-05f  1\n",
      " 171  6.2635699e+03 3.96e+02 2.19e+00  -1.0 3.96e+02    -  5.64e-05 5.68e-05f  1\n",
      " 172  6.2628710e+03 3.96e+02 2.19e+00  -1.0 3.96e+02    -  7.44e-05 6.36e-05f  1\n",
      " 173  6.2620774e+03 3.96e+02 2.19e+00  -1.0 3.96e+02    -  9.29e-05 7.23e-05f  1\n",
      " 174  6.2612164e+03 3.96e+02 2.19e+00  -1.0 3.96e+02    -  7.48e-05 7.85e-05f  1\n",
      " 175  6.2603388e+03 3.96e+02 2.19e+00  -1.0 3.96e+02    -  6.66e-05 8.00e-05f  1\n",
      " 176  6.2595510e+03 3.96e+02 2.19e+00  -1.0 3.96e+02    -  5.98e-05 7.19e-05f  1\n",
      " 177  6.2589059e+03 3.96e+02 2.19e+00  -1.0 3.96e+02    -  6.32e-05 5.89e-05f  1\n",
      " 178  6.2581595e+03 3.96e+02 2.19e+00  -1.0 3.96e+02    -  8.45e-05 6.82e-05f  1\n",
      " 179  6.2573300e+03 3.96e+02 2.19e+00  -1.0 3.96e+02    -  8.71e-05 7.59e-05f  1\n",
      "iter    objective    inf_pr   inf_du lg(mu)  ||d||  lg(rg) alpha_du alpha_pr  ls\n",
      " 180  6.2564627e+03 3.96e+02 2.19e+00  -1.0 3.96e+02    -  7.22e-05 7.94e-05f  1\n",
      " 181  6.2555686e+03 3.96e+02 2.19e+00  -1.0 3.96e+02    -  6.46e-05 8.19e-05f  1\n",
      " 182  6.2548644e+03 3.95e+02 2.19e+00  -1.0 3.96e+02    -  5.90e-05 6.46e-05f  1\n",
      " 183  6.2541816e+03 3.95e+02 2.19e+00  -1.0 3.95e+02    -  6.96e-05 6.26e-05f  1\n",
      " 184  6.2534072e+03 3.95e+02 2.19e+00  -1.0 3.95e+02    -  9.14e-05 7.11e-05f  1\n",
      " 185  6.2525553e+03 3.95e+02 2.19e+00  -1.0 3.95e+02    -  8.43e-05 7.83e-05f  1\n",
      " 186  6.2516821e+03 3.95e+02 2.19e+00  -1.0 3.95e+02    -  7.16e-05 8.03e-05f  1\n",
      " 187  6.2507792e+03 3.95e+02 2.19e+00  -1.0 3.95e+02    -  6.42e-05 8.31e-05f  1\n",
      " 188  6.2500987e+03 3.95e+02 2.19e+00  -1.0 3.95e+02    -  5.92e-05 6.27e-05h  1\n",
      " 189  6.2493987e+03 3.95e+02 2.19e+00  -1.0 3.95e+02    -  7.21e-05 6.45e-05f  1\n",
      "iter    objective    inf_pr   inf_du lg(mu)  ||d||  lg(rg) alpha_du alpha_pr  ls\n",
      " 190  6.2486134e+03 3.95e+02 2.19e+00  -1.0 3.95e+02    -  9.35e-05 7.24e-05f  1\n",
      " 191  6.2477545e+03 3.95e+02 2.19e+00  -1.0 3.95e+02    -  8.48e-05 7.93e-05f  1\n",
      " 192  6.2468784e+03 3.95e+02 2.19e+00  -1.0 3.95e+02    -  7.25e-05 8.09e-05f  1\n",
      " 193  6.2459735e+03 3.95e+02 2.19e+00  -1.0 3.95e+02    -  6.52e-05 8.36e-05f  1\n",
      " 194  6.2452752e+03 3.95e+02 2.19e+00  -1.0 3.95e+02    -  6.02e-05 6.46e-05h  1\n",
      " 195  6.2445728e+03 3.95e+02 2.19e+00  -1.0 3.95e+02    -  7.17e-05 6.50e-05f  1\n",
      " 196  6.2437890e+03 3.95e+02 2.19e+00  -1.0 3.95e+02    -  9.20e-05 7.26e-05f  1\n",
      " 197  6.2429333e+03 3.95e+02 2.19e+00  -1.0 3.95e+02    -  8.75e-05 7.93e-05f  1\n",
      " 198  6.2420563e+03 3.95e+02 2.19e+00  -1.0 3.95e+02    -  7.45e-05 8.14e-05f  1\n",
      " 199  6.2411539e+03 3.95e+02 2.19e+00  -1.0 3.95e+02    -  6.71e-05 8.38e-05f  1\n",
      "iter    objective    inf_pr   inf_du lg(mu)  ||d||  lg(rg) alpha_du alpha_pr  ls\n",
      " 200  6.2404071e+03 3.95e+02 2.19e+00  -1.0 3.95e+02    -  6.18e-05 6.94e-05h  1\n",
      " 201  6.2397115e+03 3.95e+02 2.19e+00  -1.0 3.95e+02    -  6.93e-05 6.47e-05f  1\n",
      " 202  6.2389373e+03 3.95e+02 2.19e+00  -1.0 3.95e+02    -  8.81e-05 7.20e-05f  1\n",
      " 203  6.2380926e+03 3.95e+02 2.19e+00  -1.0 3.95e+02    -  9.21e-05 7.86e-05f  1\n",
      " 204  6.2372151e+03 3.95e+02 2.18e+00  -1.0 3.95e+02    -  7.75e-05 8.18e-05f  1\n",
      " 205  6.2363192e+03 3.95e+02 2.18e+00  -1.0 3.95e+02    -  7.00e-05 8.36e-05f  1\n",
      " 206  6.2354847e+03 3.95e+02 2.18e+00  -1.0 3.95e+02    -  6.40e-05 7.79e-05f  1\n",
      " 207  6.2348039e+03 3.95e+02 2.18e+00  -1.0 3.95e+02    -  6.52e-05 6.36e-05f  1\n",
      " 208  6.2340468e+03 3.95e+02 2.18e+00  -1.0 3.95e+02    -  8.16e-05 7.07e-05f  1\n",
      " 209  6.2332241e+03 3.95e+02 2.18e+00  -1.0 3.95e+02    -  9.99e-05 7.69e-05f  1\n",
      "iter    objective    inf_pr   inf_du lg(mu)  ||d||  lg(rg) alpha_du alpha_pr  ls\n",
      " 210  6.2323429e+03 3.95e+02 2.18e+00  -1.0 3.95e+02    -  8.41e-05 8.25e-05f  1\n",
      " 211  6.2314583e+03 3.95e+02 2.18e+00  -1.0 3.95e+02    -  7.51e-05 8.29e-05f  1\n",
      " 212  6.2305450e+03 3.95e+02 2.18e+00  -1.0 3.95e+02    -  6.80e-05 8.56e-05f  1\n",
      " 213  6.2297984e+03 3.95e+02 2.18e+00  -1.0 3.95e+02    -  6.33e-05 7.00e-05h  1\n",
      " 214  6.2290821e+03 3.95e+02 2.18e+00  -1.0 3.95e+02    -  7.13e-05 6.72e-05f  1\n",
      " 215  6.2282980e+03 3.95e+02 2.18e+00  -1.0 3.95e+02    -  8.83e-05 7.37e-05f  1\n",
      " 216  6.2274500e+03 3.94e+02 2.18e+00  -1.0 3.95e+02    -  9.64e-05 7.97e-05f  1\n",
      " 217  6.2265660e+03 3.94e+02 2.18e+00  -1.0 3.94e+02    -  8.15e-05 8.32e-05f  1\n",
      " 218  6.2256713e+03 3.94e+02 2.18e+00  -1.0 3.94e+02    -  7.41e-05 8.42e-05f  1\n",
      " 219  6.2247483e+03 3.94e+02 2.18e+00  -1.0 3.94e+02    -  6.76e-05 8.70e-05h  1\n",
      "iter    objective    inf_pr   inf_du lg(mu)  ||d||  lg(rg) alpha_du alpha_pr  ls\n",
      " 220  6.2240294e+03 3.94e+02 2.25e+00  -1.0 3.94e+02    -  6.35e-05 6.78e-05f  1\n",
      " 221  6.2232939e+03 3.94e+02 2.18e+00  -1.0 3.94e+02    -  7.41e-05 6.94e-05f  1\n",
      " 222  6.2224971e+03 3.94e+02 2.18e+00  -1.0 3.94e+02    -  9.07e-05 7.52e-05f  1\n",
      " 223  6.2216400e+03 3.94e+02 2.18e+00  -1.0 3.94e+02    -  9.70e-05 8.10e-05f  1\n",
      " 224  6.2207520e+03 3.94e+02 2.18e+00  -1.0 3.94e+02    -  8.26e-05 8.40e-05f  1\n",
      " 225  6.2198543e+03 3.94e+02 2.18e+00  -1.0 3.94e+02    -  7.54e-05 8.50e-05f  1\n",
      " 226  6.2189301e+03 3.94e+02 2.20e+00  -1.0 3.94e+02    -  6.90e-05 8.76e-05f  1\n",
      " 227  6.2181840e+03 3.94e+02 2.39e+00  -1.0 3.94e+02    -  6.49e-05 7.09e-05h  1\n",
      " 228  6.2174503e+03 3.94e+02 2.30e+00  -1.0 3.94e+02    -  7.34e-05 7.01e-05f  1\n",
      " 229  6.2166618e+03 3.94e+02 2.18e+00  -1.0 3.94e+02    -  8.87e-05 7.55e-05f  1\n",
      "iter    objective    inf_pr   inf_du lg(mu)  ||d||  lg(rg) alpha_du alpha_pr  ls\n",
      " 230  6.2158171e+03 3.94e+02 2.18e+00  -1.0 3.94e+02    -  1.01e-04 8.09e-05f  1\n",
      " 231  6.2149314e+03 3.94e+02 2.18e+00  -1.0 3.94e+02    -  8.64e-05 8.49e-05f  1\n",
      " 232  6.2140449e+03 3.94e+02 2.18e+00  -1.0 3.94e+02    -  7.90e-05 8.51e-05f  1\n",
      " 233  6.2131335e+03 3.94e+02 2.18e+00  -1.0 3.94e+02    -  7.22e-05 8.75e-05f  1\n",
      " 234  6.2123056e+03 3.94e+02 2.43e+00  -1.0 3.94e+02    -  6.75e-05 7.96e-05h  1\n",
      " 235  6.2115814e+03 3.94e+02 2.42e+00  -1.0 3.94e+02    -  6.98e-05 6.97e-05f  1\n",
      " 236  6.2108045e+03 3.94e+02 2.23e+00  -1.0 3.94e+02    -  8.26e-05 7.48e-05f  1\n",
      " 237  6.2099797e+03 3.94e+02 2.18e+00  -1.0 3.94e+02    -  9.80e-05 7.94e-05f  1\n",
      " 238  6.2091045e+03 3.94e+02 2.18e+00  -1.0 3.94e+02    -  9.68e-05 8.44e-05f  1\n",
      " 239  6.2082153e+03 3.94e+02 2.18e+00  -1.0 3.94e+02    -  8.44e-05 8.58e-05f  1\n",
      "iter    objective    inf_pr   inf_du lg(mu)  ||d||  lg(rg) alpha_du alpha_pr  ls\n",
      " 240  6.2073156e+03 3.94e+02 2.18e+00  -1.0 3.94e+02    -  7.76e-05 8.69e-05f  1\n",
      " 241  6.2063931e+03 3.94e+02 2.30e+00  -1.0 3.94e+02    -  7.17e-05 8.91e-05f  1\n",
      " 242  6.2056049e+03 3.94e+02 2.55e+00  -1.0 3.94e+02    -  6.77e-05 7.62e-05h  1\n",
      " 243  6.2048581e+03 3.94e+02 2.52e+00  -1.0 3.94e+02    -  7.32e-05 7.23e-05f  1\n",
      " 244  6.2040655e+03 3.94e+02 2.31e+00  -1.0 3.94e+02    -  8.57e-05 7.67e-05f  1\n",
      " 245  6.2032269e+03 3.94e+02 2.18e+00  -1.0 3.94e+02    -  1.00e-04 8.12e-05f  1\n",
      " 246  6.2023427e+03 3.94e+02 2.18e+00  -1.0 3.94e+02    -  9.80e-05 8.57e-05f  1\n",
      " 247  6.2014487e+03 3.93e+02 2.18e+00  -1.0 3.94e+02    -  8.61e-05 8.67e-05f  1\n",
      " 248  6.2005458e+03 3.93e+02 2.18e+00  -1.0 3.93e+02    -  7.95e-05 8.77e-05f  1\n",
      " 249  6.1996220e+03 3.93e+02 2.30e+00  -1.0 3.93e+02    -  7.36e-05 8.98e-05f  1\n",
      "iter    objective    inf_pr   inf_du lg(mu)  ||d||  lg(rg) alpha_du alpha_pr  ls\n",
      " 250  6.1987896e+03 3.93e+02 2.61e+00  -1.0 3.93e+02    -  6.96e-05 8.10e-05h  1\n",
      " 251  6.1980367e+03 3.93e+02 2.64e+00  -1.0 3.93e+02    -  7.24e-05 7.33e-05f  1\n",
      " 252  6.1972427e+03 3.93e+02 2.50e+00  -1.0 3.93e+02    -  8.32e-05 7.73e-05f  1\n",
      " 253  6.1964112e+03 3.93e+02 2.18e+00  -1.0 3.93e+02    -  9.63e-05 8.10e-05f  1\n",
      " 254  6.1955357e+03 3.93e+02 2.18e+00  -1.0 3.93e+02    -  1.04e-04 8.54e-05f  1\n",
      " 255  6.1946343e+03 3.93e+02 2.18e+00  -1.0 3.93e+02    -  9.11e-05 8.80e-05f  1\n",
      " 256  6.1937357e+03 3.93e+02 2.18e+00  -1.0 3.93e+02    -  8.46e-05 8.78e-05f  1\n",
      " 257  6.1928185e+03 3.93e+02 2.18e+00  -1.0 3.93e+02    -  7.82e-05 8.97e-05f  1\n",
      " 258  6.1918835e+03 3.93e+02 2.56e+00  -1.0 3.93e+02    -  7.34e-05 9.15e-05h  1\n",
      " 259  6.1910835e+03 3.93e+02 2.79e+00  -1.0 3.93e+02    -  7.01e-05 7.83e-05f  1\n",
      "iter    objective    inf_pr   inf_du lg(mu)  ||d||  lg(rg) alpha_du alpha_pr  ls\n",
      " 260  6.1903083e+03 3.93e+02 2.80e+00  -1.0 3.93e+02    -  7.55e-05 7.60e-05f  1\n",
      " 261  6.1894990e+03 3.93e+02 2.65e+00  -1.0 3.93e+02    -  8.59e-05 7.93e-05f  1\n",
      " 262  6.1886543e+03 3.93e+02 2.35e+00  -1.0 3.93e+02    -  9.81e-05 8.29e-05f  1\n",
      " 263  6.1877704e+03 3.93e+02 2.17e+00  -1.0 3.93e+02    -  1.06e-04 8.68e-05f  1\n",
      " 264  6.1868619e+03 3.93e+02 2.17e+00  -1.0 3.93e+02    -  9.38e-05 8.93e-05f  1\n",
      " 265  6.1859593e+03 3.93e+02 2.17e+00  -1.0 3.93e+02    -  8.75e-05 8.88e-05f  1\n",
      " 266  6.1850410e+03 3.93e+02 2.17e+00  -1.0 3.93e+02    -  8.12e-05 9.04e-05f  1\n",
      " 267  6.1841067e+03 3.93e+02 2.51e+00  -1.0 3.93e+02    -  7.63e-05 9.20e-05f  1\n",
      " 268  6.1832348e+03 3.93e+02 2.85e+00  -1.0 3.93e+02    -  7.28e-05 8.59e-05h  1\n",
      " 269  6.1824526e+03 3.93e+02 2.93e+00  -1.0 3.93e+02    -  7.40e-05 7.72e-05f  1\n",
      "iter    objective    inf_pr   inf_du lg(mu)  ||d||  lg(rg) alpha_du alpha_pr  ls\n",
      " 270  6.1816399e+03 3.93e+02 2.88e+00  -1.0 3.93e+02    -  8.21e-05 8.02e-05f  1\n",
      " 271  6.1808051e+03 3.93e+02 2.68e+00  -1.0 3.93e+02    -  9.21e-05 8.25e-05f  1\n",
      " 272  6.1799354e+03 3.93e+02 2.35e+00  -1.0 3.93e+02    -  1.04e-04 8.60e-05f  1\n",
      " 273  6.1790327e+03 3.93e+02 2.17e+00  -1.0 3.93e+02    -  1.06e-04 8.93e-05f  1\n",
      " 274  6.1781185e+03 3.93e+02 2.17e+00  -1.0 3.93e+02    -  9.45e-05 9.05e-05f  1\n",
      " 275  6.1772081e+03 3.93e+02 2.17e+00  -1.0 3.93e+02    -  8.89e-05 9.02e-05f  1\n",
      " 276  6.1762838e+03 3.93e+02 2.20e+00  -1.0 3.93e+02    -  8.30e-05 9.16e-05f  1\n",
      " 277  6.1753454e+03 3.92e+02 2.54e+00  -1.0 3.93e+02    -  7.85e-05 9.31e-05f  1\n",
      " 278  6.1744302e+03 3.92e+02 2.93e+00  -1.0 3.92e+02    -  7.51e-05 9.09e-05h  1\n",
      " 279  6.1736298e+03 3.92e+02 3.06e+00  -1.0 3.92e+02    -  7.44e-05 7.95e-05f  1\n",
      "iter    objective    inf_pr   inf_du lg(mu)  ||d||  lg(rg) alpha_du alpha_pr  ls\n",
      " 280  6.1728051e+03 3.92e+02 3.09e+00  -1.0 3.92e+02    -  8.07e-05 8.20e-05f  1\n",
      " 281  6.1719689e+03 3.92e+02 2.97e+00  -1.0 3.92e+02    -  8.86e-05 8.32e-05f  1\n",
      " 282  6.1711057e+03 3.92e+02 2.73e+00  -1.0 3.92e+02    -  9.84e-05 8.60e-05f  1\n",
      " 283  6.1702124e+03 3.92e+02 2.39e+00  -1.0 3.92e+02    -  1.08e-04 8.90e-05f  1\n",
      " 284  6.1692927e+03 3.92e+02 2.17e+00  -1.0 3.92e+02    -  1.06e-04 9.17e-05f  1\n",
      " 285  6.1683711e+03 3.92e+02 2.17e+00  -1.0 3.92e+02    -  9.64e-05 9.20e-05f  1\n",
      " 286  6.1674529e+03 3.92e+02 2.17e+00  -1.0 3.92e+02    -  9.12e-05 9.17e-05f  1\n",
      " 287  6.1665234e+03 3.92e+02 2.22e+00  -1.0 3.92e+02    -  8.58e-05 9.29e-05f  1\n",
      " 288  6.1655821e+03 3.92e+02 2.50e+00  -1.0 3.92e+02    -  8.15e-05 9.42e-05f  1\n",
      " 289  6.1646293e+03 3.92e+02 2.90e+00  -1.0 3.92e+02    -  7.81e-05 9.54e-05h  1\n",
      "iter    objective    inf_pr   inf_du lg(mu)  ||d||  lg(rg) alpha_du alpha_pr  ls\n",
      " 290  6.1637600e+03 3.92e+02 3.17e+00  -1.0 3.92e+02    -  7.58e-05 8.71e-05f  1\n",
      " 291  6.1629338e+03 3.92e+02 3.28e+00  -1.0 3.92e+02    -  7.83e-05 8.29e-05f  1\n",
      " 292  6.1620886e+03 3.92e+02 3.29e+00  -1.0 3.92e+02    -  8.43e-05 8.48e-05f  1\n",
      " 293  6.1612324e+03 3.92e+02 3.17e+00  -1.0 3.92e+02    -  9.16e-05 8.60e-05f  1\n",
      " 294  6.1603541e+03 3.92e+02 2.96e+00  -1.0 3.92e+02    -  1.00e-04 8.83e-05f  1\n",
      " 295  6.1594523e+03 3.92e+02 2.65e+00  -1.0 3.92e+02    -  1.09e-04 9.09e-05f  1\n",
      " 296  6.1585299e+03 3.92e+02 2.36e+00  -1.0 3.92e+02    -  1.11e-04 9.32e-05f  1\n",
      " 297  6.1575990e+03 3.92e+02 2.24e+00  -1.0 3.92e+02    -  1.02e-04 9.41e-05f  1\n",
      " 298  6.1566781e+03 3.92e+02 2.18e+00  -1.0 3.92e+02    -  9.69e-05 9.32e-05f  1\n",
      " 299  6.1557503e+03 3.92e+02 2.22e+00  -1.0 3.92e+02    -  9.17e-05 9.39e-05f  1\n",
      "iter    objective    inf_pr   inf_du lg(mu)  ||d||  lg(rg) alpha_du alpha_pr  ls\n",
      " 300  6.1548142e+03 3.92e+02 2.36e+00  -1.0 3.92e+02    -  8.73e-05 9.49e-05f  1\n",
      " 301  6.1538683e+03 3.92e+02 2.62e+00  -1.0 3.92e+02    -  8.36e-05 9.59e-05f  1\n",
      " 302  6.1529132e+03 3.92e+02 2.98e+00  -1.0 3.92e+02    -  8.07e-05 9.69e-05h  1\n",
      " 303  6.1520008e+03 3.92e+02 3.30e+00  -1.0 3.92e+02    -  7.87e-05 9.27e-05h  1\n",
      " 304  6.1511531e+03 3.92e+02 3.47e+00  -1.0 3.92e+02    -  7.93e-05 8.62e-05f  1\n",
      " 305  6.1502898e+03 3.92e+02 3.57e+00  -1.0 3.92e+02    -  8.36e-05 8.78e-05f  1\n",
      " 306  6.1494263e+03 3.91e+02 3.55e+00  -1.0 3.92e+02    -  8.86e-05 8.79e-05f  1\n",
      " 307  6.1485504e+03 3.91e+02 3.43e+00  -1.0 3.91e+02    -  9.49e-05 8.92e-05f  1\n",
      " 308  6.1476571e+03 3.91e+02 3.23e+00  -1.0 3.91e+02    -  1.02e-04 9.11e-05f  1\n",
      " 309  6.1467445e+03 3.91e+02 2.96e+00  -1.0 3.91e+02    -  1.09e-04 9.31e-05f  1\n",
      "iter    objective    inf_pr   inf_du lg(mu)  ||d||  lg(rg) alpha_du alpha_pr  ls\n",
      " 310  6.1458142e+03 3.91e+02 2.64e+00  -1.0 3.91e+02    -  1.15e-04 9.50e-05f  1\n",
      " 311  6.1448694e+03 3.91e+02 2.40e+00  -1.0 3.91e+02    -  1.12e-04 9.65e-05f  1\n",
      " 312  6.1439286e+03 3.91e+02 2.28e+00  -1.0 3.91e+02    -  1.04e-04 9.62e-05f  1\n",
      " 313  6.1429962e+03 3.91e+02 2.21e+00  -1.0 3.91e+02    -  1.00e-04 9.54e-05f  1\n",
      " 314  6.1420594e+03 3.91e+02 2.21e+00  -1.0 3.91e+02    -  9.58e-05 9.59e-05f  1\n",
      " 315  6.1411171e+03 3.91e+02 2.30e+00  -1.0 3.91e+02    -  9.18e-05 9.66e-05f  1\n",
      " 316  6.1401678e+03 3.91e+02 2.47e+00  -1.0 3.91e+02    -  8.84e-05 9.74e-05f  1\n",
      " 317  6.1392111e+03 3.91e+02 2.72e+00  -1.0 3.91e+02    -  8.56e-05 9.82e-05f  1\n",
      " 318  6.1382480e+03 3.91e+02 3.05e+00  -1.0 3.91e+02    -  8.34e-05 9.89e-05f  1\n",
      " 319  6.1372956e+03 3.91e+02 3.41e+00  -1.0 3.91e+02    -  8.18e-05 9.79e-05h  1\n",
      "iter    objective    inf_pr   inf_du lg(mu)  ||d||  lg(rg) alpha_du alpha_pr  ls\n",
      " 320  6.1364112e+03 3.91e+02 3.63e+00  -1.0 3.91e+02    -  8.13e-05 9.10e-05f  1\n",
      " 321  6.1355215e+03 3.91e+02 3.80e+00  -1.0 3.91e+02    -  8.40e-05 9.16e-05f  1\n",
      " 322  6.1346355e+03 3.91e+02 3.89e+00  -1.0 3.91e+02    -  8.70e-05 9.13e-05f  1\n",
      " 323  6.1337484e+03 3.91e+02 3.90e+00  -1.0 3.91e+02    -  9.09e-05 9.15e-05f  1\n",
      " 324  6.1328546e+03 3.91e+02 3.83e+00  -1.0 3.91e+02    -  9.58e-05 9.22e-05f  1\n",
      " 325  6.1319495e+03 3.91e+02 3.69e+00  -1.0 3.91e+02    -  1.01e-04 9.35e-05f  1\n",
      " 326  6.1310307e+03 3.91e+02 3.48e+00  -1.0 3.91e+02    -  1.07e-04 9.49e-05f  1\n",
      " 327  6.1300982e+03 3.91e+02 3.22e+00  -1.0 3.91e+02    -  1.12e-04 9.64e-05f  1\n",
      " 328  6.1291534e+03 3.91e+02 2.93e+00  -1.0 3.91e+02    -  1.16e-04 9.78e-05f  1\n",
      " 329  6.1281986e+03 3.91e+02 2.66e+00  -1.0 3.91e+02    -  1.18e-04 9.89e-05f  1\n",
      "iter    objective    inf_pr   inf_du lg(mu)  ||d||  lg(rg) alpha_du alpha_pr  ls\n",
      " 330  6.1272409e+03 3.91e+02 2.49e+00  -1.0 3.91e+02    -  1.11e-04 9.93e-05f  1\n",
      " 331  6.1262950e+03 3.91e+02 2.38e+00  -1.0 3.91e+02    -  1.07e-04 9.81e-05f  1\n",
      " 332  6.1253500e+03 3.91e+02 2.52e+00  -1.0 3.91e+02    -  1.04e-04 9.81e-05f  1\n",
      " 333  6.1244040e+03 3.90e+02 2.57e+00  -1.0 3.91e+02    -  1.00e-04 9.83e-05f  1\n",
      " 334  6.1234551e+03 3.90e+02 2.52e+00  -1.0 3.90e+02    -  9.68e-05 9.86e-05f  1\n",
      " 335  6.1225017e+03 3.90e+02 2.36e+00  -1.0 3.90e+02    -  9.36e-05 9.92e-05f  1\n",
      " 336  6.1215432e+03 3.90e+02 2.52e+00  -1.0 3.90e+02    -  9.07e-05 9.98e-05f  1\n",
      " 337  6.1205795e+03 3.90e+02 2.75e+00  -1.0 3.90e+02    -  8.84e-05 1.00e-04f  1\n",
      " 338  6.1196111e+03 3.90e+02 3.03e+00  -1.0 3.90e+02    -  8.65e-05 1.01e-04f  1\n",
      " 339  6.1186388e+03 3.90e+02 3.37e+00  -1.0 3.90e+02    -  8.51e-05 1.01e-04h  1\n",
      "iter    objective    inf_pr   inf_du lg(mu)  ||d||  lg(rg) alpha_du alpha_pr  ls\n",
      " 340  6.1176869e+03 3.90e+02 3.71e+00  -1.0 3.90e+02    -  8.40e-05 9.94e-05h  1\n",
      " 341  6.1167853e+03 3.90e+02 3.94e+00  -1.0 3.90e+02    -  8.41e-05 9.42e-05f  1\n",
      " 342  6.1158773e+03 3.90e+02 4.12e+00  -1.0 3.90e+02    -  8.63e-05 9.50e-05f  1\n",
      " 343  6.1149770e+03 3.90e+02 4.24e+00  -1.0 3.90e+02    -  8.85e-05 9.42e-05f  1\n",
      " 344  6.1140794e+03 3.90e+02 4.29e+00  -1.0 3.90e+02    -  9.15e-05 9.40e-05f  1\n",
      " 345  6.1131802e+03 3.90e+02 4.27e+00  -1.0 3.90e+02    -  9.55e-05 9.43e-05f  1\n",
      " 346  6.1122747e+03 3.90e+02 4.17e+00  -1.0 3.90e+02    -  1.00e-04 9.50e-05f  1\n",
      " 347  6.1113594e+03 3.90e+02 4.01e+00  -1.0 3.90e+02    -  1.05e-04 9.61e-05f  1\n",
      " 348  6.1104325e+03 3.90e+02 3.78e+00  -1.0 3.90e+02    -  1.11e-04 9.74e-05f  1\n",
      " 349  6.1094943e+03 3.90e+02 3.51e+00  -1.0 3.90e+02    -  1.16e-04 9.86e-05f  1\n",
      "iter    objective    inf_pr   inf_du lg(mu)  ||d||  lg(rg) alpha_du alpha_pr  ls\n",
      " 350  6.1085459e+03 3.90e+02 3.21e+00  -1.0 3.90e+02    -  1.20e-04 9.98e-05f  1\n",
      " 351  6.1075893e+03 3.90e+02 2.96e+00  -1.0 3.90e+02    -  1.18e-04 1.01e-04f  1\n",
      " 352  6.1066359e+03 3.90e+02 2.82e+00  -1.0 3.90e+02    -  1.11e-04 1.00e-04f  1\n",
      " 353  6.1056948e+03 3.90e+02 2.70e+00  -1.0 3.90e+02    -  1.07e-04 9.92e-05f  1\n",
      " 354  6.1047533e+03 3.90e+02 2.66e+00  -1.0 3.90e+02    -  1.02e-04 9.94e-05f  1\n",
      " 355  6.1038099e+03 3.90e+02 2.69e+00  -1.0 3.90e+02    -  9.80e-05 9.97e-05f  1\n",
      " 356  6.1028623e+03 3.90e+02 2.80e+00  -1.0 3.90e+02    -  9.38e-05 1.01e-04f  1\n",
      " 357  6.1019094e+03 3.90e+02 3.03e+00  -1.0 3.90e+02    -  9.04e-05 1.03e-04f  1\n",
      " 358  6.1009001e+03 3.89e+02 3.59e+00  -1.0 3.90e+02    -  8.97e-05 1.23e-04f  1\n",
      " 359  6.0987620e+03 3.89e+02 5.01e+00  -1.0 3.89e+02    -  1.08e-04 3.53e-04f  1\n",
      "iter    objective    inf_pr   inf_du lg(mu)  ||d||  lg(rg) alpha_du alpha_pr  ls\n",
      " 360  1.1496881e+02 3.51e+00 2.56e+03  -1.0 3.89e+02    -  5.12e-04 9.91e-01f  1\n",
      " 361  1.4043070e+02 1.36e-01 1.53e+03  -1.0 1.45e+02    -  2.48e-01 1.00e+00f  1\n",
      " 362  2.6383280e+02 1.84e-04 1.72e+03  -1.0 7.25e-01    -  6.22e-01 1.00e+00f  1\n",
      " 363  5.2793454e+02 2.57e-04 2.18e+03  -1.0 9.70e-01    -  5.84e-01 1.00e+00f  1\n",
      " 364  9.4276752e+02 4.66e-04 3.51e+02  -1.0 1.77e+00    -  5.97e-01 1.00e+00f  1\n",
      " 365  1.4294085e+03 8.31e-04 3.48e+02  -1.0 3.12e+00    -  6.10e-01 1.00e+00f  1\n",
      " 366  1.8579583e+03 1.29e-03 5.55e+01  -1.0 4.83e+00    -  6.47e-01 1.00e+00f  1\n",
      " 367  2.2307614e+03 1.56e-03 3.74e+01  -1.0 5.99e+00    -  7.39e-01 1.00e+00f  1\n",
      " 368  2.5287450e+03 1.08e-03 2.13e-01  -1.0 4.94e+00    -  9.94e-01 1.00e+00f  1\n",
      " 369  5.4149294e+02 1.24e-02 2.80e-03  -1.7 1.50e+01    -  1.00e+00 1.00e+00f  1\n",
      "iter    objective    inf_pr   inf_du lg(mu)  ||d||  lg(rg) alpha_du alpha_pr  ls\n",
      " 370  7.5131766e+01 1.22e-03 1.34e-03  -2.5 6.38e+00    -  1.00e+00 1.00e+00f  1\n",
      " 371  3.9856697e+00 2.60e-05 2.85e-05  -3.8 9.02e-01    -  1.00e+00 1.00e+00f  1\n",
      " 372  4.4409197e-02 7.14e-08 6.19e-08  -5.7 4.48e-02    -  1.00e+00 1.00e+00f  1\n",
      " 373  1.7101128e-03 8.41e-09 7.97e-01  -8.6 5.22e-04    -  1.00e+00 8.82e-01h  1\n",
      " 374  4.1282330e-04 4.30e-09 2.24e+01  -8.6 5.25e-05    -  1.00e+00 4.89e-01f  1\n",
      " 375 -2.1294758e-05 1.57e-09 8.74e+00  -8.6 1.47e-05    -  9.98e-01 6.35e-01f  1\n",
      " 376 -1.0275659e-04 5.68e-14 2.51e-14  -8.6 1.82e-06    -  1.00e+00 1.00e+00f  1\n",
      "\n",
      "Number of Iterations....: 376\n",
      "\n",
      "                                   (scaled)                 (unscaled)\n",
      "Objective...............:  -4.6527353871936657e-06   -1.0275659157324956e-04\n",
      "Dual infeasibility......:   2.5059035600221543e-14    5.5343381303801291e-13\n",
      "Constraint violation....:   5.6843418860808015e-14    5.6843418860808015e-14\n",
      "Complementarity.........:   4.2875815853408399e-09    9.4692096828569537e-08\n",
      "Overall NLP error.......:   4.2875815853408399e-09    9.4692096828569537e-08\n",
      "\n",
      "\n",
      "Number of objective function evaluations             = 377\n",
      "Number of objective gradient evaluations             = 377\n",
      "Number of equality constraint evaluations            = 377\n",
      "Number of inequality constraint evaluations          = 377\n",
      "Number of equality constraint Jacobian evaluations   = 377\n",
      "Number of inequality constraint Jacobian evaluations = 377\n",
      "Number of Lagrangian Hessian evaluations             = 376\n",
      "Total CPU secs in IPOPT (w/o function evaluations)   =      6.588\n",
      "Total CPU secs in NLP function evaluations           =      1.419\n",
      "\n",
      "EXIT: Optimal Solution Found.\n"
     ]
    }
   ],
   "source": [
    "m3 = Model(Ipopt.Optimizer)\n",
    "\n",
    "@variable(m3, P_c[1:N], base_name=\"compressor\", lower_bound=0, upper_bound=3)\n",
    "@variable(m3, P_f[1:N], base_name=\"fan\", lower_bound=0, upper_bound=4)\n",
    "\n",
    "@variable(m3, W_hvac[1:1N], lower_bound=0, upper_bound=10000)\n",
    "# @variable(m3, W_dis[1:N], lower_bound=0, upper_bound=10000)\n",
    "# @variable(m3, W_ch[1:N], lower_bound=0, upper_bound=10000)\n",
    "\n",
    "@variable(m3, Q[1:N], lower_bound=0, upper_bound=100)\n",
    "# @variable(m3, E[1:N], lower_bound=0, upper_bound=10000000)\n",
    "@variable(m3, T_r[1:N], lower_bound=0, upper_bound=50)\n",
    "@variable(m3, T_w[1:N], lower_bound=0, upper_bound=50)\n",
    "@variable(m3, n_c[1:N], lower_bound=0, upper_bound=2000)\n",
    "\n",
    "@expression(m3, expr_price[i = 1:N],LinearInterpolation([0, 0.999, 1, 1.999, 2, 2.999, 3, 3.999, 4, 4.999, 5, 5.999, 6, 6.999, 7, 7.999, 8, 8.999, 9, 9.999, 10, 10.999, 11, 11.999, 12, 12.999, 13, 13.999, 14, 14.999, 15, 15.999, 16, 16.999, 17, 17.999, 18, 18.999, 19, 19.999, 20, 20.999, 21, 21.999, 22, 22.999, 23, 23.999, 24, 24.999], [4.41704, 4.41704, 4.25404, 4.25404, 4.14436, 4.14436, 4.05468, 4.05468, 4.01459, 4.01459, 4.02631, 4.02631, 4.16135, 4.16135, 4.24251, 4.24251, 4.49976, 4.49976, 4.59363, 4.59363, 4.77394, 4.77394, 4.80014, 4.80014, 4.78849, 4.78849, 4.75757, 4.75757, 4.77814, 4.77814, 4.79783, 4.79783, 4.7674, 4.7674, 4.73724, 4.73724, 4.72584, 4.72584, 4.73167, 4.73167, 4.73894, 4.73894, 4.7544, 4.7544, 4.75318, 4.75318, 4.61478, 4.61478, 4.41704, 4.41704],extrapolation_bc=Flat())(i/60))\n",
    "\n",
    "@expression(m3, expr_obj_init[i in 1:N], 10 * P_f[i] + 500 * P_c[i])\n",
    "\n",
    "@expression(m3, expr_obj, sum(expr_obj_init[j] * expr_price[j] for j in 1:N))\n",
    "\n",
    "@objective(m3, Min, expr_obj)\n",
    "\n",
    "# @constraint(m3,con2, W_hvac - COP * 500 * P_c + W_dis - W_ch == 0)\n",
    "@constraint(m3,con2[i in 1:N], W_hvac[i] - COP * 500 * P_c[i] == 0)\n",
    "\n",
    "@constraint(m3,con3[i in 1:N], Q[i] - 0.55 * P_f[i] * 10 / 100 == 0)\n",
    "\n",
    "# @constraint(m3,con4, E[1] == 0)\n",
    "@constraint(m3,con5, T_r[1] == 19)\n",
    "@constraint(m3,con6, T_w[1] == 19)\n",
    "@constraint(m3,con7, n_c[1] == 400)\n",
    "\n",
    "@constraint(m3,con8[i in 2:N], T_r[i] >= 18)\n",
    "@constraint(m3,con9[i in 2:N], T_r[i] <= 24)\n",
    "@constraint(m3,con10[i in 2:N], n_c[i] <= 800)\n",
    "\n",
    "@expression(m3, expr_out[i = 1:N], Spline1D([0, 3, 6 , 9, 12, 15, 18, 21, 25], [19, 17, 18, 20, 25, 23, 21, 19, 18])(i/60))\n",
    "\n",
    "@expression(m3, expr_occup[i = 1:N], LinearInterpolation([0, 8.9, 9, 12, 12.1, 15, 15.1, 18, 18.1], [0, 0,   20,20, 30,   30, 10,    10,  0],extrapolation_bc=Flat())(i/60))\n",
    "\n",
    "@NLconstraint(m3,nl1[i in 1:(N-1)], T_r[i+1] - (T_r[i] + pa1*((pa2 + pa4) * (expr_out[i] - T_r[i]) + pa3 * (T_w[i] - T_r[i]) + pa5 * expr_occup[i] - W_hvac[i] + C_out * T_vent * Q[i] - C_in * T_r[i] * Q[i] + W_light)) == 0)\n",
    "\n",
    "@constraint(m3,con11[i in 1:(N-1)], T_w[i+1] - (T_w[i] + pw1 * pa2 * (T_r[i] - T_w[i])) == 0)\n",
    "\n",
    "@NLconstraint(m3,nl2[i in 1:(N-1)], n_c[i+1] - (n_c[i] + pn1 * (Q[i] + pn2) * (300 - n_c[i]) + k_CO2 * expr_occup[i]) == 0)\n",
    "\n",
    "optimize!(m3)"
   ]
  },
  {
   "cell_type": "code",
   "execution_count": 46,
   "metadata": {},
   "outputs": [
    {
     "name": "stdout",
     "output_type": "stream",
     "text": [
      "[1.84552e-11, 1.84552e-11, 1.84552e-11, 1.84552e-11, 1.84552e-11, 1.84552e-11, 1.84552e-11, 1.84552e-11, 1.84552e-11, 1.84552e-11, 1.84552e-11, 1.84552e-11, 1.84552e-11, 1.84552e-11, 1.84552e-11, 1.84552e-11, 1.84552e-11, 1.84552e-11, 1.84552e-11, 1.84552e-11, 1.84552e-11, 1.84552e-11, 1.84552e-11, 1.84552e-11, 1.84552e-11, 1.84552e-11, 1.84552e-11, 1.84552e-11, 1.84552e-11, 1.84552e-11, 1.84552e-11, 1.84552e-11, 1.84552e-11, 1.84552e-11, 1.84552e-11, 1.84552e-11, 1.84552e-11, 1.84552e-11, 1.84552e-11, 1.84552e-11, 1.84552e-11, 1.84552e-11, 1.84552e-11, 1.84552e-11, 1.84552e-11, 1.84552e-11, 1.84552e-11, 1.84552e-11, 1.84552e-11, 1.84552e-11, 1.84552e-11, 1.84552e-11, 1.84552e-11, 1.84552e-11, 1.84552e-11, 1.84552e-11, 1.84552e-11, 1.84552e-11, 1.84552e-11, 1.94201e-11, 1.94201e-11, 1.94201e-11, 1.94201e-11, 1.94201e-11, 1.94201e-11, 1.94201e-11, 1.94201e-11, 1.94201e-11, 1.94201e-11, 1.94201e-11, 1.94201e-11, 1.94201e-11, 1.94201e-11, 1.94201e-11, 1.94201e-11, 1.94201e-11, 1.94201e-11, 1.94201e-11, 1.94201e-11, 1.94201e-11, 1.94201e-11, 1.94201e-11, 1.94201e-11, 1.94201e-11, 1.94201e-11, 1.94201e-11, 1.94201e-11, 1.94201e-11, 1.94201e-11, 1.94201e-11, 1.94201e-11, 1.94201e-11, 1.94201e-11, 1.94201e-11, 1.94201e-11, 1.94201e-11, 1.94201e-11, 1.94201e-11, 1.94201e-11, 1.94201e-11, 1.94201e-11, 1.94201e-11, 1.94201e-11, 1.94201e-11, 1.94201e-11, 1.94201e-11, 1.94201e-11, 1.94201e-11, 1.94201e-11, 1.94201e-11, 1.94201e-11, 1.94201e-11, 1.94201e-11, 1.94201e-11, 1.94201e-11, 1.94201e-11, 1.94201e-11, 1.94201e-11, 1.94201e-11, 2.01114e-11, 2.01114e-11, 2.01114e-11, 2.01114e-11, 2.01114e-11, 2.01114e-11, 2.01114e-11, 2.01114e-11, 2.01114e-11, 2.01114e-11, 2.01114e-11, 2.01114e-11, 2.01114e-11, 2.01114e-11, 2.01114e-11, 2.01114e-11, 2.01114e-11, 2.01114e-11, 2.01114e-11, 2.01114e-11, 2.01114e-11, 2.01114e-11, 2.01114e-11, 2.01114e-11, 2.01114e-11, 2.01114e-11, 2.01114e-11, 2.01114e-11, 2.01114e-11, 2.01114e-11, 2.01114e-11, 2.01114e-11, 2.01114e-11, 2.01114e-11, 2.01114e-11, 2.01114e-11, 2.01114e-11, 2.01114e-11, 2.01114e-11, 2.01114e-11, 2.01114e-11, 2.01114e-11, 2.01114e-11, 2.01114e-11, 2.01114e-11, 2.01114e-11, 2.01114e-11, 2.01114e-11, 2.01114e-11, 2.01114e-11, 2.01114e-11, 2.01114e-11, 2.01114e-11, 2.01114e-11, 2.01114e-11, 2.01114e-11, 2.01114e-11, 2.01114e-11, 2.01114e-11, 2.01114e-11, 2.07037e-11, 2.07037e-11, 2.07037e-11, 2.07037e-11, 2.07037e-11, 2.07037e-11, 2.07037e-11, 2.07037e-11, 2.07037e-11, 2.07037e-11, 2.07037e-11, 2.07037e-11, 2.07037e-11, 2.07037e-11, 2.07037e-11, 2.07037e-11, 2.07037e-11, 2.07037e-11, 2.07037e-11, 2.07037e-11, 2.07037e-11, 2.07037e-11, 2.07037e-11, 2.07037e-11, 2.07037e-11, 2.07037e-11, 2.07037e-11, 2.07037e-11, 2.07037e-11, 2.07037e-11, 2.07037e-11, 2.07037e-11, 2.07037e-11, 2.07037e-11, 2.07037e-11, 2.07037e-11, 2.07037e-11, 2.07037e-11, 2.07037e-11, 2.07037e-11, 2.07037e-11, 2.07037e-11, 2.07037e-11, 2.07037e-11, 2.07037e-11, 2.07037e-11, 2.07037e-11, 2.07037e-11, 2.07037e-11, 2.07037e-11, 2.07037e-11, 2.07037e-11, 2.07037e-11, 2.07037e-11, 2.07037e-11, 2.07037e-11, 2.07037e-11, 2.07037e-11, 2.07037e-11, 2.07037e-11, 2.09766e-11, 2.09766e-11, 2.09766e-11, 2.09766e-11, 2.09766e-11, 2.09766e-11, 2.09766e-11, 2.09766e-11, 2.09766e-11, 2.09766e-11, 2.09766e-11, 2.09766e-11, 2.09766e-11, 2.09766e-11, 2.09766e-11, 2.09766e-11, 2.09766e-11, 2.09766e-11, 2.09766e-11, 2.09766e-11, 2.09766e-11, 2.09766e-11, 2.09766e-11, 2.09766e-11, 2.09766e-11, 2.09766e-11, 2.09766e-11, 2.09766e-11, 2.09766e-11, 2.09766e-11, 2.09766e-11, 2.09766e-11, 2.09766e-11, 2.09766e-11, 2.09766e-11, 2.09766e-11, 2.09766e-11, 2.09766e-11, 2.09766e-11, 2.09766e-11, 2.09766e-11, 2.09766e-11, 2.09766e-11, 2.09766e-11, 2.09766e-11, 2.09767e-11, 2.09767e-11, 2.09767e-11, 2.09767e-11, 2.09767e-11, 2.09767e-11, 2.09767e-11, 2.09767e-11, 2.09767e-11, 2.09767e-11, 2.09767e-11, 2.09767e-11, 2.09767e-11, 2.09767e-11, 2.09767e-11, 2.08963e-11]\n",
      "[0.0, 0.0, 0.0, 0.0, 0.0, 0.0, 0.0, 0.0, 0.0, 0.0, 0.0, 0.0, 0.0, 0.0, 0.0, 0.0, 0.0, 0.0, 0.0, 0.0, 0.0, 0.0, 0.0, 0.0, 0.0, 0.0, 0.0, 0.0, 0.0, 0.0, 0.0, 0.0, 0.0, 0.0, 0.0, 0.0, 0.0, 0.0, 0.0, 0.0, 0.0, 0.0, 0.0, 0.0, 0.0, 0.0, 0.0, 0.0, 0.0, 0.0, 0.0, 0.0, 0.0, 0.0, 0.0, 0.0, 0.0, 0.0, 0.0, 0.0, 0.0, 0.0, 0.0, 0.0, 0.0, 0.0, 0.0, 0.0, 0.0, 0.0, 0.0, 0.0, 0.0, 0.0, 0.0, 0.0, 0.0, 0.0, 0.0, 0.0, 0.0, 0.0, 0.0, 0.0, 0.0, 0.0, 0.0, 0.0, 0.0, 0.0, 0.0, 0.0, 0.0, 0.0, 0.0, 0.0, 0.0, 0.0, 0.0, 0.0, 0.0, 0.0, 0.0, 0.0, 0.0, 0.0, 0.0, 0.0, 0.0, 0.0, 0.0, 0.0, 0.0, 0.0, 0.0, 0.0, 0.0, 0.0, 0.0, 0.0, 0.0, 0.0, 0.0, 0.0, 0.0, 0.0, 0.0, 0.0, 0.0, 0.0, 0.0, 0.0, 0.0, 0.0, 0.0, 0.0, 0.0, 0.0, 0.0, 0.0, 0.0, 0.0, 0.0, 0.0, 0.0, 0.0, 0.0, 0.0, 0.0, 0.0, 0.0, 0.0, 0.0, 0.0, 0.0, 0.0, 0.0, 0.0, 0.0, 0.0, 0.0, 0.0, 0.0, 0.0, 0.0, 0.0, 0.0, 0.0, 0.0, 0.0, 0.0, 0.0, 0.0, 0.0, 0.0, 0.0, 0.0, 0.0, 0.0, 0.0, 0.0, 0.0, 0.0, 0.0, 0.0, 0.0, 0.0, 0.0, 0.0, 0.0, 0.0, 0.0, 0.0, 0.0, 0.0, 0.0, 0.0, 0.0, 0.0, 0.0, 0.0, 0.0, 0.0, 0.0, 0.0, 0.0, 0.0, 0.0, 0.0, 0.0, 0.0, 0.0, 0.0, 0.0, 0.0, 0.0, 0.0, 0.0, 0.0, 0.0, 0.0, 0.0, 0.0, 0.0, 0.0, 0.0, 0.0, 0.0, 0.0, 0.0, 0.0, 0.0, 0.0, 0.0, 0.0, 0.0, 0.0, 0.0, 0.0, 0.0, 0.0, 0.0, 0.0, 0.0, 0.0, 0.0, 0.0, 0.0, 0.0, 0.0, 0.0, 0.0, 0.0, 0.0, 0.0, 0.0, 0.0, 0.0, 0.0, 0.0, 0.0, 0.0, 0.0, 0.0, 0.0, 0.0, 0.0, 0.0, 0.0, 0.0, 0.0, 0.0, 0.0, 0.0, 0.0, 0.0, 0.0, 0.0, 0.0, 0.0, 0.0, 0.0, 0.0, 0.0, 0.0, 0.0, 0.0, 0.0, 0.0, 0.0, 0.0, 0.0, 0.0, 0.0, 0.0, 0.0, 0.0, 0.0, 0.0, 0.0]\n",
      "-0.00010275659157324956\n",
      "LOCALLY_SOLVED\n"
     ]
    }
   ],
   "source": [
    "println(JuMP.value.(P_c))\n",
    "println(JuMP.value.(P_f))\n",
    "println(JuMP.objective_value(m3))\n",
    "println(JuMP.termination_status(m3))"
   ]
  },
  {
   "cell_type": "code",
   "execution_count": null,
   "metadata": {},
   "outputs": [],
   "source": [
    "# another short problem is okay"
   ]
  },
  {
   "cell_type": "code",
   "execution_count": null,
   "metadata": {},
   "outputs": [],
   "source": []
  },
  {
   "cell_type": "code",
   "execution_count": 47,
   "metadata": {},
   "outputs": [
    {
     "data": {
      "text/plain": [
       "600"
      ]
     },
     "execution_count": 47,
     "metadata": {},
     "output_type": "execute_result"
    }
   ],
   "source": [
    "N = 600"
   ]
  },
  {
   "cell_type": "code",
   "execution_count": null,
   "metadata": {},
   "outputs": [],
   "source": [
    "m4 = Model(Ipopt.Optimizer)\n",
    "\n",
    "@variable(m4, P_c[1:N], base_name=\"compressor\", lower_bound=0, upper_bound=3)\n",
    "@variable(m4, P_f[1:N], base_name=\"fan\", lower_bound=0, upper_bound=4)\n",
    "\n",
    "@variable(m4, W_hvac[1:1N], lower_bound=0, upper_bound=10000)\n",
    "# @variable(m4, W_dis[1:N], lower_bound=0, upper_bound=10000)\n",
    "# @variable(m4, W_ch[1:N], lower_bound=0, upper_bound=10000)\n",
    "\n",
    "@variable(m4, Q[1:N], lower_bound=0, upper_bound=100)\n",
    "# @variable(m4, E[1:N], lower_bound=0, upper_bound=10000000)\n",
    "@variable(m4, T_r[1:N], lower_bound=0, upper_bound=50)\n",
    "@variable(m4, T_w[1:N], lower_bound=0, upper_bound=50)\n",
    "@variable(m4, n_c[1:N], lower_bound=0, upper_bound=2000)\n",
    "\n",
    "@expression(m4, expr_price[i = 1:N],LinearInterpolation([0, 0.999, 1, 1.999, 2, 2.999, 3, 3.999, 4, 4.999, 5, 5.999, 6, 6.999, 7, 7.999, 8, 8.999, 9, 9.999, 10, 10.999, 11, 11.999, 12, 12.999, 13, 13.999, 14, 14.999, 15, 15.999, 16, 16.999, 17, 17.999, 18, 18.999, 19, 19.999, 20, 20.999, 21, 21.999, 22, 22.999, 23, 23.999, 24, 24.999], [4.41704, 4.41704, 4.25404, 4.25404, 4.14436, 4.14436, 4.05468, 4.05468, 4.01459, 4.01459, 4.02631, 4.02631, 4.16135, 4.16135, 4.24251, 4.24251, 4.49976, 4.49976, 4.59363, 4.59363, 4.77394, 4.77394, 4.80014, 4.80014, 4.78849, 4.78849, 4.75757, 4.75757, 4.77814, 4.77814, 4.79783, 4.79783, 4.7674, 4.7674, 4.73724, 4.73724, 4.72584, 4.72584, 4.73167, 4.73167, 4.73894, 4.73894, 4.7544, 4.7544, 4.75318, 4.75318, 4.61478, 4.61478, 4.41704, 4.41704],extrapolation_bc=Flat())(i/60))\n",
    "\n",
    "@expression(m4, expr_obj_init[i in 1:N], 10 * P_f[i] + 500 * P_c[i])\n",
    "\n",
    "@expression(m4, expr_obj, sum(expr_obj_init[j] * expr_price[j] for j in 1:N))\n",
    "\n",
    "@objective(m4, Min, expr_obj)\n",
    "\n",
    "# @constraint(m4,con2, W_hvac - COP * 500 * P_c + W_dis - W_ch == 0)\n",
    "@constraint(m4,con2[i in 1:N], W_hvac[i] - COP * 500 * P_c[i] == 0)\n",
    "\n",
    "@constraint(m4,con3[i in 1:N], Q[i] - 0.55 * P_f[i] * 10 / 100 == 0)\n",
    "\n",
    "# @constraint(m4,con4, E[1] == 0)\n",
    "@constraint(m4,con5, T_r[1] == 19)\n",
    "@constraint(m4,con6, T_w[1] == 19)\n",
    "@constraint(m4,con7, n_c[1] == 400)\n",
    "\n",
    "@constraint(m4,con8[i in 2:N], T_r[i] >= 18)\n",
    "@constraint(m4,con9[i in 2:N], T_r[i] <= 24)\n",
    "@constraint(m4,con10[i in 2:N], n_c[i] <= 800)\n",
    "\n",
    "@expression(m4, expr_out[i = 1:N], Spline1D([0, 3, 6 , 9, 12, 15, 18, 21, 25], [19, 17, 18, 20, 25, 23, 21, 19, 18])(i/60))\n",
    "\n",
    "@expression(m4, expr_occup[i = 1:N], LinearInterpolation([0, 8.9, 9, 12, 12.1, 15, 15.1, 18, 18.1], [0, 0,   20,20, 30,   30, 10,    10,  0],extrapolation_bc=Flat())(i/60))\n",
    "\n",
    "@NLconstraint(m4,nl1[i in 1:(N-1)], T_r[i+1] - (T_r[i] + pa1*((pa2 + pa4) * (expr_out[i] - T_r[i]) + pa3 * (T_w[i] - T_r[i]) + pa5 * expr_occup[i] - W_hvac[i] + C_out * T_vent * Q[i] - C_in * T_r[i] * Q[i] + W_light)) == 0)\n",
    "\n",
    "@constraint(m4,con11[i in 1:(N-1)], T_w[i+1] - (T_w[i] + pw1 * pa2 * (T_r[i] - T_w[i])) == 0)\n",
    "\n",
    "@NLconstraint(m4,nl2[i in 1:(N-1)], n_c[i+1] - (n_c[i] + pn1 * (Q[i] + pn2) * (300 - n_c[i]) + k_CO2 * expr_occup[i]) == 0)\n",
    "\n",
    "optimize!(m4)"
   ]
  },
  {
   "cell_type": "code",
   "execution_count": null,
   "metadata": {},
   "outputs": [],
   "source": [
    "println(JuMP.value.(P_c))\n",
    "println(JuMP.value.(P_f))\n",
    "println(JuMP.objective_value(m4))\n",
    "println(JuMP.termination_status(m4))"
   ]
  },
  {
   "cell_type": "code",
   "execution_count": 1,
   "metadata": {},
   "outputs": [],
   "source": [
    "# In 6 hours there was no result\n",
    "# Maybe problem with my low CPU\n",
    "# Let's try to give this task to Google Colab"
   ]
  },
  {
   "cell_type": "code",
   "execution_count": null,
   "metadata": {},
   "outputs": [],
   "source": []
  }
 ],
 "metadata": {
  "kernelspec": {
   "display_name": "Julia 1.1.0",
   "language": "julia",
   "name": "julia-1.1"
  },
  "language_info": {
   "file_extension": ".jl",
   "mimetype": "application/julia",
   "name": "julia",
   "version": "1.1.0"
  }
 },
 "nbformat": 4,
 "nbformat_minor": 2
}
