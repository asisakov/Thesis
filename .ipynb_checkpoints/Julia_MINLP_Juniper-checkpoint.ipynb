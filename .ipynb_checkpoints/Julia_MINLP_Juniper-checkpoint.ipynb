{
 "cells": [
  {
   "cell_type": "code",
   "execution_count": 2,
   "metadata": {},
   "outputs": [],
   "source": [
    "# using ForwardDiff\n",
    "using DataFrames\n",
    "using LinearAlgebra\n",
    "\n",
    "using Pkg\n",
    "\n",
    "using Ipopt\n",
    "using JuMP"
   ]
  },
  {
   "cell_type": "code",
   "execution_count": 3,
   "metadata": {},
   "outputs": [],
   "source": [
    "using Interpolations"
   ]
  },
  {
   "cell_type": "code",
   "execution_count": null,
   "metadata": {},
   "outputs": [],
   "source": []
  },
  {
   "cell_type": "code",
   "execution_count": 5,
   "metadata": {},
   "outputs": [
    {
     "data": {
      "text/plain": [
       "dischargetime (generic function with 1 method)"
      ]
     },
     "execution_count": 5,
     "metadata": {},
     "output_type": "execute_result"
    }
   ],
   "source": [
    "# updated for solving MPC with TES task to use TES all the time\n",
    "\n",
    "function chargetime(time) # charge = 1, discharge = -1\n",
    "    xp = [0, 7.999, 8, 25]\n",
    "    fp = [1,1,0,0]\n",
    "    f =  LinearInterpolation(xp, fp,extrapolation_bc=Flat())\n",
    "    return f(time)\n",
    "    end\n",
    "\n",
    "function dischargetime(time) # charge = 1, discharge = -1\n",
    "    xp = [0, 8.999, 9, 17.999, 18, 25]\n",
    "    fp = [0,0,-1,-1,0,0]\n",
    "    f = LinearInterpolation(xp, fp,extrapolation_bc=Flat())\n",
    "    return f(time)\n",
    "    end"
   ]
  },
  {
   "cell_type": "code",
   "execution_count": 6,
   "metadata": {},
   "outputs": [
    {
     "data": {
      "text/plain": [
       "0.0"
      ]
     },
     "execution_count": 6,
     "metadata": {},
     "output_type": "execute_result"
    }
   ],
   "source": [
    "chargetime(8)"
   ]
  },
  {
   "cell_type": "code",
   "execution_count": 7,
   "metadata": {},
   "outputs": [
    {
     "data": {
      "text/plain": [
       "price (generic function with 2 methods)"
      ]
     },
     "execution_count": 7,
     "metadata": {},
     "output_type": "execute_result"
    }
   ],
   "source": [
    "# PRICES FOR ELECTRICITY\n",
    "function price(time, type_price=\"commercial_1\")\n",
    "    if type_price == \"individual_2\"\n",
    "        # индивидуальный тариф 2ставочный\n",
    "        xp = [0, 7.999, 8 , 23.999, 24, 25]\n",
    "        fp = [2.29, 2.29, 6.18, 6.18, 2.29, 2.29]\n",
    "        f = LinearInterpolation(xp, fp,extrapolation_bc=Flat())\n",
    "        return f(time)\n",
    "    end\n",
    "    if type_price == \"individual_3\"\n",
    "        # индивидуальный тариф 3ставочный\n",
    "        xp = [0, 7.999, 8 , 10.999, 11, 17.999, 18, 21.999, 22, 23.999, 24, 25]\n",
    "        fp = [2.29, 2.29, 7, 7, 5.38, 5.38, 7, 7, 5.38, 5.38, 2.29, 2.29]\n",
    "        f = LinearInterpolation(xp, fp,extrapolation_bc=Flat())\n",
    "        return f(time)\n",
    "    end\n",
    "    if type_price == \"commercial_1\"\n",
    "        # коммерческий тариф 4к\n",
    "        xp = [0, 0.999, 1, 1.999, 2, 2.999, 3, 3.999, 4, 4.999, 5, 5.999, 6, 6.999, 7, 7.999, 8, 8.999, 9, 9.999, 10, 10.999, 11, 11.999, 12, 12.999, 13, 13.999, 14, 14.999, 15, 15.999, 16, 16.999, 17, 17.999, 18, 18.999, 19, 19.999, 20, 20.999, 21, 21.999, 22, 22.999, 23, 23.999, 24, 24.999]\n",
    "        fp = [4.41704, 4.41704, 4.25404, 4.25404, 4.14436, 4.14436, 4.05468, 4.05468, 4.01459, 4.01459, 4.02631, 4.02631, 4.16135, 4.16135, 4.24251, 4.24251, 4.49976, 4.49976, 4.59363, 4.59363, 4.77394, 4.77394, 4.80014, 4.80014, 4.78849, 4.78849, 4.75757, 4.75757, 4.77814, 4.77814, 4.79783, 4.79783, 4.7674, 4.7674, 4.73724, 4.73724, 4.72584, 4.72584, 4.73167, 4.73167, 4.73894, 4.73894, 4.7544, 4.7544, 4.75318, 4.75318, 4.61478, 4.61478, 4.41704, 4.41704]\n",
    "        f = LinearInterpolation(xp, fp,extrapolation_bc=Flat())\n",
    "        return f(time)\n",
    "    end\n",
    "    if type_price == \"commercial_2\"\n",
    "        # коммерческий тариф 2к\n",
    "        xp = [0, 3, 6 , 9, 12, 15, 18, 21, 25]\n",
    "        fp = [0, 0, 1, 2, 3, 4, 4, 3, 3]\n",
    "        f = LinearInterpolation(xp, fp,extrapolation_bc=Flat())\n",
    "        return f(time)\n",
    "    end\n",
    "    end"
   ]
  },
  {
   "cell_type": "code",
   "execution_count": 10,
   "metadata": {},
   "outputs": [
    {
     "data": {
      "text/plain": [
       "50-element extrapolate(interpolate((::Array{Float64,1},), ::Array{Float64,1}, Gridded(Linear())), Flat()) with element type Float64:\n",
       " 4.41704\n",
       " 4.41704\n",
       " 4.25404\n",
       " 4.25404\n",
       " 4.14436\n",
       " 4.14436\n",
       " 4.05468\n",
       " 4.05468\n",
       " 4.01459\n",
       " 4.01459\n",
       " 4.02631\n",
       " 4.02631\n",
       " 4.16135\n",
       " ⋮      \n",
       " 4.73167\n",
       " 4.73167\n",
       " 4.73894\n",
       " 4.73894\n",
       " 4.7544 \n",
       " 4.7544 \n",
       " 4.75318\n",
       " 4.75318\n",
       " 4.61478\n",
       " 4.61478\n",
       " 4.41704\n",
       " 4.41704"
      ]
     },
     "execution_count": 10,
     "metadata": {},
     "output_type": "execute_result"
    }
   ],
   "source": [
    "price(14)\n",
    "LinearInterpolation([0, 0.999, 1, 1.999, 2, 2.999, 3, 3.999, 4, 4.999, 5, 5.999, 6, 6.999, 7, 7.999, 8, 8.999, 9, 9.999, 10, 10.999, 11, 11.999, 12, 12.999, 13, 13.999, 14, 14.999, 15, 15.999, 16, 16.999, 17, 17.999, 18, 18.999, 19, 19.999, 20, 20.999, 21, 21.999, 22, 22.999, 23, 23.999, 24, 24.999], [4.41704, 4.41704, 4.25404, 4.25404, 4.14436, 4.14436, 4.05468, 4.05468, 4.01459, 4.01459, 4.02631, 4.02631, 4.16135, 4.16135, 4.24251, 4.24251, 4.49976, 4.49976, 4.59363, 4.59363, 4.77394, 4.77394, 4.80014, 4.80014, 4.78849, 4.78849, 4.75757, 4.75757, 4.77814, 4.77814, 4.79783, 4.79783, 4.7674, 4.7674, 4.73724, 4.73724, 4.72584, 4.72584, 4.73167, 4.73167, 4.73894, 4.73894, 4.7544, 4.7544, 4.75318, 4.75318, 4.61478, 4.61478, 4.41704, 4.41704],extrapolation_bc=Flat())"
   ]
  },
  {
   "cell_type": "code",
   "execution_count": 11,
   "metadata": {},
   "outputs": [
    {
     "data": {
      "text/plain": [
       "occup (generic function with 1 method)"
      ]
     },
     "execution_count": 11,
     "metadata": {},
     "output_type": "execute_result"
    }
   ],
   "source": [
    "# OCCUPANCY PROFILE\n",
    "function occup(time)\n",
    "    xp = [0, 8.9, 9, 12, 12.1, 15, 15.1, 18, 18.1]\n",
    "    fp = [0, 0,   20,20, 30,   30, 10,    10,  0]\n",
    "    n_hum = LinearInterpolation(xp, fp,extrapolation_bc=Flat())\n",
    "    return n_hum(time)\n",
    "end"
   ]
  },
  {
   "cell_type": "code",
   "execution_count": 12,
   "metadata": {},
   "outputs": [
    {
     "data": {
      "text/plain": [
       "20.0"
      ]
     },
     "execution_count": 12,
     "metadata": {},
     "output_type": "execute_result"
    }
   ],
   "source": [
    "# occup(11)\n",
    "LinearInterpolation([0, 8.9, 9, 12, 12.1, 15, 15.1, 18, 18.1], [0, 0,   20,20, 30,   30, 10,    10,  0],extrapolation_bc=Flat())(11)"
   ]
  },
  {
   "cell_type": "code",
   "execution_count": 13,
   "metadata": {},
   "outputs": [],
   "source": [
    "using Dierckx\n",
    "using Gadfly"
   ]
  },
  {
   "cell_type": "code",
   "execution_count": 16,
   "metadata": {},
   "outputs": [
    {
     "data": {
      "text/plain": [
       "outtemp_example (generic function with 2 methods)"
      ]
     },
     "execution_count": 16,
     "metadata": {},
     "output_type": "execute_result"
    }
   ],
   "source": [
    "# TEMPERATURE EXAMPLES\n",
    "function outtemp_example(time, day=\"B\")\n",
    "    # https://msk.nuipogoda.ru/25-июля-2018\n",
    "    if day == \"A\" \n",
    "        # зимний день 26.02.2018 Москва\n",
    "        xp = [0, 3, 6 , 9, 12, 15, 18, 21, 25]\n",
    "        fp = [-17, -19, -19, -18, -16, -14, -15, -19, -20]\n",
    "        f = Spline1D(xp, fp)\n",
    "        return f(time)\n",
    "    end\n",
    "    if day == \"B\"\n",
    "        # летний день 25.07.2018 Москва\n",
    "        xp = [0, 3, 6 , 9, 12, 15, 18, 21, 25]\n",
    "        fp = [19, 17, 18, 20, 25, 23, 21, 19, 18]\n",
    "        f = Spline1D(xp, fp)\n",
    "        return f(time)\n",
    "    end\n",
    "    if day == \"C\"\n",
    "        # осенний день 10.10.2015 Москва\n",
    "        xp = [0, 3, 6 , 9, 12, 15, 18, 21, 25]\n",
    "        fp = [0, 0, 1, 2, 3, 4, 4, 3, 3]\n",
    "        f = Spline1D(xp, fp)\n",
    "        return f(time)\n",
    "    end\n",
    "    if day == \"D\"\n",
    "        # весенний день 20.03.2014 Москва\n",
    "        xp = [0, 3, 6 , 9, 12, 15, 18, 21, 25]\n",
    "        fp = [-5, -7, -9, -5, -4, -4, -3, -5, -8]\n",
    "        f = Spline1D(xp, fp)\n",
    "        return f(time)\n",
    "    end\n",
    "end"
   ]
  },
  {
   "cell_type": "code",
   "execution_count": 17,
   "metadata": {},
   "outputs": [
    {
     "data": {
      "text/plain": [
       "17.734737903985"
      ]
     },
     "execution_count": 17,
     "metadata": {},
     "output_type": "execute_result"
    }
   ],
   "source": [
    "outtemp_example(1)"
   ]
  },
  {
   "cell_type": "code",
   "execution_count": 18,
   "metadata": {},
   "outputs": [
    {
     "data": {
      "text/plain": [
       "-17.96866851511626"
      ]
     },
     "execution_count": 18,
     "metadata": {},
     "output_type": "execute_result"
    }
   ],
   "source": [
    "Spline1D([0, 3, 6 , 9, 12, 15, 18, 21, 25], [-17, -19, -19, -18, -16, -14, -15, -19, -20])(1)"
   ]
  },
  {
   "cell_type": "code",
   "execution_count": 19,
   "metadata": {},
   "outputs": [
    {
     "data": {
      "text/plain": [
       "18"
      ]
     },
     "execution_count": 19,
     "metadata": {},
     "output_type": "execute_result"
    }
   ],
   "source": [
    "tau = 60 #seconds\n",
    "# N = 24*3600 / tau\n",
    "# N = round(N)\n",
    "N = 1440\n",
    "time_t = zeros(1,N)\n",
    "# time_t[i] = (i-1)*60/3600 for i=1:N\n",
    "# prices_t = price(time_t)\n",
    "COP = 3\n",
    "C_out = 1005 # J/(kg K)\n",
    "C_in = 1005 # J/(kg K)\n",
    "m_air = 340 # kg\n",
    "m_wall = 11520/2 #kg\n",
    "C_wall = 1500 # J/(kg K)\n",
    "pa1 = tau/(m_air*C_in)\n",
    "h = 5 # m\n",
    "b = 10 # m\n",
    "k = 0.183 \n",
    "pa2 = h*b*k\n",
    "alpha_int = 8.7 # W/ m K\n",
    "S = 60 # m^2\n",
    "pa3 = 0.5 * alpha_int * h * (S / b + b)\n",
    "M_met = 120 # W\n",
    "T_vent = 21 # ^oC\n",
    "a_inf = 0.02 / 3600\n",
    "pa4 = a_inf * m_air * C_out\n",
    "M_light = 20 # W\n",
    "N_light = 15\n",
    "W_light = M_light * N_light\n",
    "L_evap = 333000 # W/kg\n",
    "M_moist = 0.000021 # kg/s\n",
    "pa5 = M_met - L_evap * M_moist\n",
    "pw1 = tau/(m_wall*C_wall)\n",
    "pn1 = tau/m_air\n",
    "pn2 = a_inf * m_air\n",
    "k_CO2 = 0.038 * 4 # g / s # medium work\n",
    "ppm_k_CO2 = k_CO2 / 1000 / (S * h) * 1000000 # mass to kg divide by volume and to ppm\n",
    "T_output = 18 # outer air temperature after TES"
   ]
  },
  {
   "cell_type": "code",
   "execution_count": 20,
   "metadata": {},
   "outputs": [],
   "source": [
    "using Juniper"
   ]
  },
  {
   "cell_type": "code",
   "execution_count": 21,
   "metadata": {},
   "outputs": [
    {
     "data": {
      "text/plain": [
       "MathOptInterface.OptimizerWithAttributes(Ipopt.Optimizer, Pair{MathOptInterface.AbstractOptimizerAttribute,Any}[RawParameter(\"print_level\")=>0])"
      ]
     },
     "execution_count": 21,
     "metadata": {},
     "output_type": "execute_result"
    }
   ],
   "source": [
    "optimizer = Juniper.Optimizer\n",
    "nl_solver = optimizer_with_attributes(Ipopt.Optimizer, \"print_level\"=>0)"
   ]
  },
  {
   "cell_type": "code",
   "execution_count": 22,
   "metadata": {},
   "outputs": [
    {
     "name": "stdout",
     "output_type": "stream",
     "text": [
      "nl_solver         : MathOptInterface.OptimizerWithAttributes(Ipopt.Optimizer, Pair{MathOptInterface.AbstractOptimizerAttribute,Any}[RawParameter(\"print_level\")=>0])\n",
      "feasibility_pump  : false\n",
      "log_levels        : Symbol[:Options, :Table, :Info]\n",
      "\n",
      "#Variables: 5\n",
      "#IntBinVar: 5\n",
      "#Constraints: 1\n",
      "#Linear Constraints: 0\n",
      "#Quadratic Constraints: 0\n",
      "#NonLinear Constraints: 1\n",
      "Obj Sense: Max\n",
      "\n",
      "\n",
      "******************************************************************************\n",
      "This program contains Ipopt, a library for large-scale nonlinear optimization.\n",
      " Ipopt is released as open source code under the Eclipse Public License (EPL).\n",
      "         For more information visit http://projects.coin-or.org/Ipopt\n",
      "******************************************************************************\n",
      "\n",
      "Incumbent using start values: 0.0\n",
      "Status of relaxation: LOCALLY_SOLVED\n",
      "Time for relaxation: 34.65599989891052\n",
      "Relaxation Obj: 77.75505908623647\n",
      "\n",
      " ONodes   CLevel          Incumbent                   BestBound            Gap    Time   Restarts  GainGap  \n",
      "============================================================================================================\n",
      "    2       2                0.0                        77.76             Inf%    3.0       0         -     \n",
      "    1       3                64.0                       74.64            16.62%   4.3       -       29.3%   \n",
      "    1       4                64.0                       71.99            12.48%   4.3       -       65.9%   \n",
      "    1       5                64.0                       71.38            11.53%   4.4       -       33.4%   \n",
      "    0       6                65.0                        69.9             7.54%   4.4       -       77.6%   \n",
      "\n",
      "#branches: 5\n",
      "Obj: 65.0\n",
      "[0.0, 0.0, 0.0, 1.0, 1.0]\n",
      "65.0\n",
      "LOCALLY_SOLVED\n"
     ]
    }
   ],
   "source": [
    "m1 = Model(optimizer_with_attributes(optimizer, \"nl_solver\"=>nl_solver))\n",
    "\n",
    "v = [10,20,12,23,42]\n",
    "w = [12,45,12,22,21]\n",
    "@variable(m1, x[1:5], Bin)\n",
    "\n",
    "@objective(m1, Max, dot(v,x))\n",
    "\n",
    "@NLconstraint(m1, sum(w[i]*x[i]^2 for i=1:5) <= 45)   \n",
    "\n",
    "optimize!(m1)\n",
    "\n",
    "# retrieve the objective value, corresponding x values and the status\n",
    "println(JuMP.value.(x))\n",
    "println(JuMP.objective_value(m1))\n",
    "println(JuMP.termination_status(m1))"
   ]
  },
  {
   "cell_type": "code",
   "execution_count": null,
   "metadata": {},
   "outputs": [],
   "source": [
    "# Quick start is ok. Juniper is working"
   ]
  },
  {
   "cell_type": "code",
   "execution_count": null,
   "metadata": {},
   "outputs": [],
   "source": []
  },
  {
   "cell_type": "code",
   "execution_count": 23,
   "metadata": {},
   "outputs": [
    {
     "data": {
      "text/latex": [
       "$$ \\begin{alignat*}{1}\\text{feasibility}\\\\\n",
       "\\text{Subject to} \\quad\\end{alignat*}\n",
       " $$"
      ],
      "text/plain": [
       "A JuMP Model\n",
       "Feasibility problem with:\n",
       "Variables: 0\n",
       "Model mode: AUTOMATIC\n",
       "CachingOptimizer state: EMPTY_OPTIMIZER\n",
       "Solver name: Juniper"
      ]
     },
     "execution_count": 23,
     "metadata": {},
     "output_type": "execute_result"
    }
   ],
   "source": [
    "mm = Model(optimizer_with_attributes(optimizer, \"nl_solver\"=>nl_solver))"
   ]
  },
  {
   "cell_type": "code",
   "execution_count": 24,
   "metadata": {},
   "outputs": [
    {
     "data": {
      "text/latex": [
       "$$ fan $$"
      ],
      "text/plain": [
       "fan"
      ]
     },
     "execution_count": 24,
     "metadata": {},
     "output_type": "execute_result"
    }
   ],
   "source": [
    "@variable(mm, P_c, base_name=\"compressor\", lower_bound=0, upper_bound=3, Int)\n",
    "@variable(mm, P_f, base_name=\"fan\", lower_bound=0, upper_bound=10, Int)"
   ]
  },
  {
   "cell_type": "code",
   "execution_count": 25,
   "metadata": {},
   "outputs": [
    {
     "data": {
      "text/latex": [
       "$$ 10 fan + 500 compressor $$"
      ],
      "text/plain": [
       "10 fan + 500 compressor"
      ]
     },
     "execution_count": 25,
     "metadata": {},
     "output_type": "execute_result"
    }
   ],
   "source": [
    "@objective(mm, Min, 10*P_f + 500 * P_c)\n",
    "# @objective(mm, Min, sum(w[i]*x[i]^2 for i=1:N))"
   ]
  },
  {
   "cell_type": "code",
   "execution_count": 26,
   "metadata": {},
   "outputs": [
    {
     "data": {
      "text/latex": [
       "con1 : $ 10 fan + 500 compressor \\geq 600.0 $"
      ],
      "text/plain": [
       "con1 : 10 fan + 500 compressor >= 600.0"
      ]
     },
     "execution_count": 26,
     "metadata": {},
     "output_type": "execute_result"
    }
   ],
   "source": [
    "@constraint(mm, con1, 10*P_f + 500*P_c >= 600)"
   ]
  },
  {
   "cell_type": "code",
   "execution_count": 27,
   "metadata": {},
   "outputs": [
    {
     "data": {
      "text/latex": [
       "$$ fan * compressor - 1.0 \\geq 0 $$"
      ],
      "text/plain": [
       "fan * compressor - 1.0 >= 0"
      ]
     },
     "execution_count": 27,
     "metadata": {},
     "output_type": "execute_result"
    }
   ],
   "source": [
    "@NLconstraint(mm,nl1, P_f*P_c >= 1)"
   ]
  },
  {
   "cell_type": "code",
   "execution_count": 28,
   "metadata": {},
   "outputs": [
    {
     "name": "stdout",
     "output_type": "stream",
     "text": [
      "nl_solver         : MathOptInterface.OptimizerWithAttributes(Ipopt.Optimizer, Pair{MathOptInterface.AbstractOptimizerAttribute,Any}[RawParameter(\"print_level\")=>0])\n",
      "feasibility_pump  : false\n",
      "log_levels        : Symbol[:Options, :Table, :Info]\n",
      "\n",
      "#Variables: 2\n",
      "#IntBinVar: 2\n",
      "#Constraints: 2\n",
      "#Linear Constraints: 1\n",
      "#Quadratic Constraints: 0\n",
      "#NonLinear Constraints: 1\n",
      "Obj Sense: Min\n",
      "\n",
      "Start values are not feasible.\n",
      "Status of relaxation: LOCALLY_SOLVED\n",
      "Time for relaxation: 1.9730000495910645\n",
      "Relaxation Obj: 599.9999940125292\n",
      "\n",
      " ONodes   CLevel          Incumbent                   BestBound            Gap    Time   Restarts  GainGap  \n",
      "============================================================================================================\n",
      "    0       2           599.999994009               599.999994013         0.0%    0.1       0         -     \n",
      "\n",
      "#branches: 1\n",
      "Obj: 599.9999940086939\n"
     ]
    }
   ],
   "source": [
    "optimize!(mm)"
   ]
  },
  {
   "cell_type": "code",
   "execution_count": 29,
   "metadata": {},
   "outputs": [
    {
     "name": "stdout",
     "output_type": "stream",
     "text": [
      "0.9999999974378544\n",
      "9.999999528976666\n",
      "599.9999940086939\n",
      "LOCALLY_SOLVED\n"
     ]
    }
   ],
   "source": [
    "println(JuMP.value.(P_c))\n",
    "println(JuMP.value.(P_f))\n",
    "println(JuMP.objective_value(mm))\n",
    "println(JuMP.termination_status(mm))"
   ]
  },
  {
   "cell_type": "code",
   "execution_count": null,
   "metadata": {},
   "outputs": [],
   "source": [
    "# Juniper solved this (above)"
   ]
  },
  {
   "cell_type": "code",
   "execution_count": null,
   "metadata": {},
   "outputs": [],
   "source": []
  },
  {
   "cell_type": "code",
   "execution_count": 30,
   "metadata": {},
   "outputs": [
    {
     "data": {
      "text/latex": [
       "$$ \\begin{alignat*}{1}\\text{feasibility}\\\\\n",
       "\\text{Subject to} \\quad\\end{alignat*}\n",
       " $$"
      ],
      "text/plain": [
       "A JuMP Model\n",
       "Feasibility problem with:\n",
       "Variables: 0\n",
       "Model mode: AUTOMATIC\n",
       "CachingOptimizer state: EMPTY_OPTIMIZER\n",
       "Solver name: Juniper"
      ]
     },
     "execution_count": 30,
     "metadata": {},
     "output_type": "execute_result"
    }
   ],
   "source": [
    "m2 = Model(optimizer_with_attributes(optimizer, \"nl_solver\"=>nl_solver))"
   ]
  },
  {
   "cell_type": "code",
   "execution_count": 31,
   "metadata": {},
   "outputs": [
    {
     "data": {
      "text/plain": [
       "1440-element Array{VariableRef,1}:\n",
       " fan[1]   \n",
       " fan[2]   \n",
       " fan[3]   \n",
       " fan[4]   \n",
       " fan[5]   \n",
       " fan[6]   \n",
       " fan[7]   \n",
       " fan[8]   \n",
       " fan[9]   \n",
       " fan[10]  \n",
       " fan[11]  \n",
       " fan[12]  \n",
       " fan[13]  \n",
       " ⋮        \n",
       " fan[1429]\n",
       " fan[1430]\n",
       " fan[1431]\n",
       " fan[1432]\n",
       " fan[1433]\n",
       " fan[1434]\n",
       " fan[1435]\n",
       " fan[1436]\n",
       " fan[1437]\n",
       " fan[1438]\n",
       " fan[1439]\n",
       " fan[1440]"
      ]
     },
     "execution_count": 31,
     "metadata": {},
     "output_type": "execute_result"
    }
   ],
   "source": [
    "@variable(m2, P_c[1:1440], base_name=\"compressor\", lower_bound=0, upper_bound=3, Int)\n",
    "@variable(m2, P_f[1:1440], base_name=\"fan\", lower_bound=0, upper_bound=10, Int)"
   ]
  },
  {
   "cell_type": "code",
   "execution_count": 32,
   "metadata": {},
   "outputs": [
    {
     "data": {
      "text/plain": [
       "1440-element Array{VariableRef,1}:\n",
       " W_hvac[1]   \n",
       " W_hvac[2]   \n",
       " W_hvac[3]   \n",
       " W_hvac[4]   \n",
       " W_hvac[5]   \n",
       " W_hvac[6]   \n",
       " W_hvac[7]   \n",
       " W_hvac[8]   \n",
       " W_hvac[9]   \n",
       " W_hvac[10]  \n",
       " W_hvac[11]  \n",
       " W_hvac[12]  \n",
       " W_hvac[13]  \n",
       " ⋮           \n",
       " W_hvac[1429]\n",
       " W_hvac[1430]\n",
       " W_hvac[1431]\n",
       " W_hvac[1432]\n",
       " W_hvac[1433]\n",
       " W_hvac[1434]\n",
       " W_hvac[1435]\n",
       " W_hvac[1436]\n",
       " W_hvac[1437]\n",
       " W_hvac[1438]\n",
       " W_hvac[1439]\n",
       " W_hvac[1440]"
      ]
     },
     "execution_count": 32,
     "metadata": {},
     "output_type": "execute_result"
    }
   ],
   "source": [
    "@variable(m2, W_hvac[1:1440], lower_bound=0, upper_bound=10000)\n",
    "# @variable(m2, W_dis[1:1440], lower_bound=0, upper_bound=10000)\n",
    "# @variable(m2, W_ch[1:1440], lower_bound=0, upper_bound=10000)"
   ]
  },
  {
   "cell_type": "code",
   "execution_count": 33,
   "metadata": {},
   "outputs": [
    {
     "data": {
      "text/plain": [
       "1440-element Array{VariableRef,1}:\n",
       " n_co2[1]   \n",
       " n_co2[2]   \n",
       " n_co2[3]   \n",
       " n_co2[4]   \n",
       " n_co2[5]   \n",
       " n_co2[6]   \n",
       " n_co2[7]   \n",
       " n_co2[8]   \n",
       " n_co2[9]   \n",
       " n_co2[10]  \n",
       " n_co2[11]  \n",
       " n_co2[12]  \n",
       " n_co2[13]  \n",
       " ⋮          \n",
       " n_co2[1429]\n",
       " n_co2[1430]\n",
       " n_co2[1431]\n",
       " n_co2[1432]\n",
       " n_co2[1433]\n",
       " n_co2[1434]\n",
       " n_co2[1435]\n",
       " n_co2[1436]\n",
       " n_co2[1437]\n",
       " n_co2[1438]\n",
       " n_co2[1439]\n",
       " n_co2[1440]"
      ]
     },
     "execution_count": 33,
     "metadata": {},
     "output_type": "execute_result"
    }
   ],
   "source": [
    "@variable(m2, Q[1:1440], lower_bound=0, upper_bound=100)\n",
    "# @variable(m2, E[1:1440], lower_bound=0, upper_bound=10000000)\n",
    "@variable(m2, T_r[1:1440], lower_bound=0, upper_bound=50)\n",
    "@variable(m2, T_w[1:1440], lower_bound=0, upper_bound=50)\n",
    "@variable(m2, n_co2[1:1440], lower_bound=0, upper_bound=2000)"
   ]
  },
  {
   "cell_type": "code",
   "execution_count": 34,
   "metadata": {},
   "outputs": [
    {
     "data": {
      "text/plain": [
       "1440-element Array{Float64,1}:\n",
       " 4.41704          \n",
       " 4.41704          \n",
       " 4.417040000000001\n",
       " 4.417039999999999\n",
       " 4.41704          \n",
       " 4.41704          \n",
       " 4.41704          \n",
       " 4.41704          \n",
       " 4.41704          \n",
       " 4.41704          \n",
       " 4.41704          \n",
       " 4.41704          \n",
       " 4.41704          \n",
       " ⋮                \n",
       " 4.61478          \n",
       " 4.61478          \n",
       " 4.61478          \n",
       " 4.61478          \n",
       " 4.61478          \n",
       " 4.61478          \n",
       " 4.61478          \n",
       " 4.61478          \n",
       " 4.61478          \n",
       " 4.61478          \n",
       " 4.61478          \n",
       " 4.41704          "
      ]
     },
     "execution_count": 34,
     "metadata": {},
     "output_type": "execute_result"
    }
   ],
   "source": [
    "@expression(m2, expr_price[i = 1:1440],LinearInterpolation([0, 0.999, 1, 1.999, 2, 2.999, 3, 3.999, 4, 4.999, 5, 5.999, 6, 6.999, 7, 7.999, 8, 8.999, 9, 9.999, 10, 10.999, 11, 11.999, 12, 12.999, 13, 13.999, 14, 14.999, 15, 15.999, 16, 16.999, 17, 17.999, 18, 18.999, 19, 19.999, 20, 20.999, 21, 21.999, 22, 22.999, 23, 23.999, 24, 24.999], [4.41704, 4.41704, 4.25404, 4.25404, 4.14436, 4.14436, 4.05468, 4.05468, 4.01459, 4.01459, 4.02631, 4.02631, 4.16135, 4.16135, 4.24251, 4.24251, 4.49976, 4.49976, 4.59363, 4.59363, 4.77394, 4.77394, 4.80014, 4.80014, 4.78849, 4.78849, 4.75757, 4.75757, 4.77814, 4.77814, 4.79783, 4.79783, 4.7674, 4.7674, 4.73724, 4.73724, 4.72584, 4.72584, 4.73167, 4.73167, 4.73894, 4.73894, 4.7544, 4.7544, 4.75318, 4.75318, 4.61478, 4.61478, 4.41704, 4.41704],extrapolation_bc=Flat())(i/60))"
   ]
  },
  {
   "cell_type": "code",
   "execution_count": 35,
   "metadata": {},
   "outputs": [
    {
     "data": {
      "text/plain": [
       "1440-element Array{GenericAffExpr{Float64,VariableRef},1}:\n",
       " 10 fan[1] + 500 compressor[1]      \n",
       " 10 fan[2] + 500 compressor[2]      \n",
       " 10 fan[3] + 500 compressor[3]      \n",
       " 10 fan[4] + 500 compressor[4]      \n",
       " 10 fan[5] + 500 compressor[5]      \n",
       " 10 fan[6] + 500 compressor[6]      \n",
       " 10 fan[7] + 500 compressor[7]      \n",
       " 10 fan[8] + 500 compressor[8]      \n",
       " 10 fan[9] + 500 compressor[9]      \n",
       " 10 fan[10] + 500 compressor[10]    \n",
       " 10 fan[11] + 500 compressor[11]    \n",
       " 10 fan[12] + 500 compressor[12]    \n",
       " 10 fan[13] + 500 compressor[13]    \n",
       " ⋮                                  \n",
       " 10 fan[1429] + 500 compressor[1429]\n",
       " 10 fan[1430] + 500 compressor[1430]\n",
       " 10 fan[1431] + 500 compressor[1431]\n",
       " 10 fan[1432] + 500 compressor[1432]\n",
       " 10 fan[1433] + 500 compressor[1433]\n",
       " 10 fan[1434] + 500 compressor[1434]\n",
       " 10 fan[1435] + 500 compressor[1435]\n",
       " 10 fan[1436] + 500 compressor[1436]\n",
       " 10 fan[1437] + 500 compressor[1437]\n",
       " 10 fan[1438] + 500 compressor[1438]\n",
       " 10 fan[1439] + 500 compressor[1439]\n",
       " 10 fan[1440] + 500 compressor[1440]"
      ]
     },
     "execution_count": 35,
     "metadata": {},
     "output_type": "execute_result"
    }
   ],
   "source": [
    "@expression(m2, expr_obj_init[i in 1:1440], 10 * P_f[i] + 500 * P_c[i])"
   ]
  },
  {
   "cell_type": "code",
   "execution_count": 37,
   "metadata": {},
   "outputs": [
    {
     "data": {
      "text/latex": [
       "$$ 44.1704 fan_{1} + 2208.52 compressor_{1} + 44.1704 fan_{2} + 2208.52 compressor_{2} + 44.17040000000001 fan_{3} + 2208.5200000000004 compressor_{3} + 44.170399999999994 fan_{4} + 2208.5199999999995 compressor_{4} + 44.1704 fan_{5} + 2208.52 compressor_{5} + 44.1704 fan_{6} + 2208.52 compressor_{6} + 44.1704 fan_{7} + 2208.52 compressor_{7} + 44.1704 fan_{8} + 2208.52 compressor_{8} + 44.1704 fan_{9} + 2208.52 compressor_{9} + 44.1704 fan_{10} + 2208.52 compressor_{10} + 44.1704 fan_{11} + 2208.52 compressor_{11} + 44.1704 fan_{12} + 2208.52 compressor_{12} + 44.1704 fan_{13} + 2208.52 compressor_{13} + 44.1704 fan_{14} + 2208.52 compressor_{14} + 44.1704 fan_{15} + 2208.52 compressor_{15} + 44.1704 fan_{16} + 2208.52 compressor_{16} + 44.1704 fan_{17} + 2208.52 compressor_{17} + 44.1704 fan_{18} + 2208.52 compressor_{18} + 44.1704 fan_{19} + 2208.52 compressor_{19} + 44.1704 fan_{20} + 2208.52 compressor_{20} + 44.1704 fan_{21} + 2208.52 compressor_{21} + 44.1704 fan_{22} + 2208.52 compressor_{22} + 44.1704 fan_{23} + 2208.52 compressor_{23} + 44.1704 fan_{24} + 2208.52 compressor_{24} + 44.1704 fan_{25} + 2208.52 compressor_{25} + 44.1704 fan_{26} + 2208.52 compressor_{26} + 44.1704 fan_{27} + 2208.52 compressor_{27} + 44.1704 fan_{28} + 2208.52 compressor_{28} + 44.1704 fan_{29} + 2208.52 compressor_{29} + 44.1704 fan_{30} + 2208.52 compressor_{30} + 44.1704 fan_{31} + 2208.52 compressor_{31} + 44.1704 fan_{32} + 2208.52 compressor_{32} + 44.1704 fan_{33} + 2208.52 compressor_{33} + 44.1704 fan_{34} + 2208.52 compressor_{34} + 44.1704 fan_{35} + 2208.52 compressor_{35} + 44.1704 fan_{36} + 2208.52 compressor_{36} + 44.1704 fan_{37} + 2208.52 compressor_{37} + 44.1704 fan_{38} + 2208.52 compressor_{38} + 44.1704 fan_{39} + 2208.52 compressor_{39} + 44.1704 fan_{40} + 2208.52 compressor_{40} + 44.1704 fan_{41} + 2208.52 compressor_{41} + 44.1704 fan_{42} + 2208.52 compressor_{42} + 44.1704 fan_{43} + 2208.52 compressor_{43} + 44.1704 fan_{44} + 2208.52 compressor_{44} + 44.1704 fan_{45} + 2208.52 compressor_{45} + 44.1704 fan_{46} + 2208.52 compressor_{46} + 44.1704 fan_{47} + 2208.52 compressor_{47} + 44.1704 fan_{48} + 2208.52 compressor_{48} + 44.1704 fan_{49} + 2208.52 compressor_{49} + 44.1704 fan_{50} + 2208.52 compressor_{50} + 44.1704 fan_{51} + 2208.52 compressor_{51} + 44.1704 fan_{52} + 2208.52 compressor_{52} + 44.1704 fan_{53} + 2208.52 compressor_{53} + 44.1704 fan_{54} + 2208.52 compressor_{54} + 44.1704 fan_{55} + 2208.52 compressor_{55} + 44.1704 fan_{56} + 2208.52 compressor_{56} + 44.1704 fan_{57} + 2208.52 compressor_{57} + 44.1704 fan_{58} + 2208.52 compressor_{58} + 44.1704 fan_{59} + 2208.52 compressor_{59} + 42.5404 fan_{60} + 2127.02 compressor_{60} + 42.5404 fan_{61} + 2127.02 compressor_{61} + 42.54039999999999 fan_{62} + 2127.0199999999995 compressor_{62} + 42.5404 fan_{63} + 2127.02 compressor_{63} + 42.5404 fan_{64} + 2127.02 compressor_{64} + 42.5404 fan_{65} + 2127.02 compressor_{65} + 42.5404 fan_{66} + 2127.02 compressor_{66} + 42.5404 fan_{67} + 2127.02 compressor_{67} + 42.5404 fan_{68} + 2127.02 compressor_{68} + 42.5404 fan_{69} + 2127.02 compressor_{69} + 42.5404 fan_{70} + 2127.02 compressor_{70} + 42.5404 fan_{71} + 2127.02 compressor_{71} + 42.5404 fan_{72} + 2127.02 compressor_{72} + 42.5404 fan_{73} + 2127.02 compressor_{73} + 42.5404 fan_{74} + 2127.02 compressor_{74} + 42.5404 fan_{75} + 2127.02 compressor_{75} + 42.5404 fan_{76} + 2127.02 compressor_{76} + 42.5404 fan_{77} + 2127.02 compressor_{77} + 42.5404 fan_{78} + 2127.02 compressor_{78} + 42.5404 fan_{79} + 2127.02 compressor_{79} + 42.5404 fan_{80} + 2127.02 compressor_{80} + 42.5404 fan_{81} + 2127.02 compressor_{81} + 42.5404 fan_{82} + 2127.02 compressor_{82} + 42.5404 fan_{83} + 2127.02 compressor_{83} + 42.5404 fan_{84} + 2127.02 compressor_{84} + 42.5404 fan_{85} + 2127.02 compressor_{85} + 42.5404 fan_{86} + 2127.02 compressor_{86} + 42.5404 fan_{87} + 2127.02 compressor_{87} + 42.5404 fan_{88} + 2127.02 compressor_{88} + 42.5404 fan_{89} + 2127.02 compressor_{89} + 42.5404 fan_{90} + 2127.02 compressor_{90} + 42.5404 fan_{91} + 2127.02 compressor_{91} + 42.5404 fan_{92} + 2127.02 compressor_{92} + 42.5404 fan_{93} + 2127.02 compressor_{93} + 42.5404 fan_{94} + 2127.02 compressor_{94} + 42.5404 fan_{95} + 2127.02 compressor_{95} + 42.5404 fan_{96} + 2127.02 compressor_{96} + 42.5404 fan_{97} + 2127.02 compressor_{97} + 42.5404 fan_{98} + 2127.02 compressor_{98} + 42.5404 fan_{99} + 2127.02 compressor_{99} + 42.5404 fan_{100} + 2127.02 compressor_{100} + 42.5404 fan_{101} + 2127.02 compressor_{101} + 42.5404 fan_{102} + 2127.02 compressor_{102} + 42.5404 fan_{103} + 2127.02 compressor_{103} + 42.5404 fan_{104} + 2127.02 compressor_{104} + 42.5404 fan_{105} + 2127.02 compressor_{105} + 42.5404 fan_{106} + 2127.02 compressor_{106} + 42.5404 fan_{107} + 2127.02 compressor_{107} + 42.5404 fan_{108} + 2127.02 compressor_{108} + 42.5404 fan_{109} + 2127.02 compressor_{109} + 42.5404 fan_{110} + 2127.02 compressor_{110} + 42.5404 fan_{111} + 2127.02 compressor_{111} + 42.5404 fan_{112} + 2127.02 compressor_{112} + 42.5404 fan_{113} + 2127.02 compressor_{113} + 42.5404 fan_{114} + 2127.02 compressor_{114} + 42.5404 fan_{115} + 2127.02 compressor_{115} + 42.5404 fan_{116} + 2127.02 compressor_{116} + 42.5404 fan_{117} + 2127.02 compressor_{117} + 42.5404 fan_{118} + 2127.02 compressor_{118} + 42.5404 fan_{119} + 2127.02 compressor_{119} + 41.443599999999996 fan_{120} + 2072.18 compressor_{120} + 41.44359999999999 fan_{121} + 2072.1799999999994 compressor_{121} + 41.443599999999996 fan_{122} + 2072.18 compressor_{122} + 41.443599999999996 fan_{123} + 2072.18 compressor_{123} + 41.443599999999996 fan_{124} + 2072.18 compressor_{124} + 41.443599999999996 fan_{125} + 2072.18 compressor_{125} + 41.443599999999996 fan_{126} + 2072.18 compressor_{126} + 41.443599999999996 fan_{127} + 2072.18 compressor_{127} + 41.443599999999996 fan_{128} + 2072.18 compressor_{128} + 41.443599999999996 fan_{129} + 2072.18 compressor_{129} + 41.443599999999996 fan_{130} + 2072.18 compressor_{130} + 41.443599999999996 fan_{131} + 2072.18 compressor_{131} + 41.443599999999996 fan_{132} + 2072.18 compressor_{132} + 41.443599999999996 fan_{133} + 2072.18 compressor_{133} + 41.443599999999996 fan_{134} + 2072.18 compressor_{134} + 41.4436 fan_{135} + 2072.1800000000003 compressor_{135} + 41.44359999999999 fan_{136} + 2072.1799999999994 compressor_{136} + 41.443599999999996 fan_{137} + 2072.18 compressor_{137} + 41.443599999999996 fan_{138} + 2072.18 compressor_{138} + 41.443599999999996 fan_{139} + 2072.18 compressor_{139} + 41.443599999999996 fan_{140} + 2072.18 compressor_{140} + 41.44359999999999 fan_{141} + 2072.1799999999994 compressor_{141} + 41.443599999999996 fan_{142} + 2072.18 compressor_{142} + 41.443599999999996 fan_{143} + 2072.18 compressor_{143} + 41.443599999999996 fan_{144} + 2072.18 compressor_{144} + 41.443599999999996 fan_{145} + 2072.18 compressor_{145} + 41.443599999999996 fan_{146} + 2072.18 compressor_{146} + 41.443599999999996 fan_{147} + 2072.18 compressor_{147} + 41.443599999999996 fan_{148} + 2072.18 compressor_{148} + 41.443599999999996 fan_{149} + 2072.18 compressor_{149} + 41.443599999999996 fan_{150} + 2072.18 compressor_{150} + 41.443599999999996 fan_{151} + 2072.18 compressor_{151} + 41.443599999999996 fan_{152} + 2072.18 compressor_{152} + 41.443599999999996 fan_{153} + 2072.18 compressor_{153} + 41.443599999999996 fan_{154} + 2072.18 compressor_{154} + 41.443599999999996 fan_{155} + 2072.18 compressor_{155} + 41.443599999999996 fan_{156} + 2072.18 compressor_{156} + 41.443599999999996 fan_{157} + 2072.18 compressor_{157} + 41.443599999999996 fan_{158} + 2072.18 compressor_{158} + 41.443599999999996 fan_{159} + 2072.18 compressor_{159} + 41.443599999999996 fan_{160} + 2072.18 compressor_{160} + 41.443599999999996 fan_{161} + 2072.18 compressor_{161} + 41.443599999999996 fan_{162} + 2072.18 compressor_{162} + 41.443599999999996 fan_{163} + 2072.18 compressor_{163} + 41.443599999999996 fan_{164} + 2072.18 compressor_{164} + 41.443599999999996 fan_{165} + 2072.18 compressor_{165} + 41.443599999999996 fan_{166} + 2072.18 compressor_{166} + 41.443599999999996 fan_{167} + 2072.18 compressor_{167} + 41.443599999999996 fan_{168} + 2072.18 compressor_{168} + 41.443599999999996 fan_{169} + 2072.18 compressor_{169} + 41.443599999999996 fan_{170} + 2072.18 compressor_{170} + 41.443599999999996 fan_{171} + 2072.18 compressor_{171} + 41.443599999999996 fan_{172} + 2072.18 compressor_{172} + 41.443599999999996 fan_{173} + 2072.18 compressor_{173} + 41.443599999999996 fan_{174} + 2072.18 compressor_{174} + 41.443599999999996 fan_{175} + 2072.18 compressor_{175} + 41.443599999999996 fan_{176} + 2072.18 compressor_{176} + 41.443599999999996 fan_{177} + 2072.18 compressor_{177} + 41.443599999999996 fan_{178} + 2072.18 compressor_{178} + 41.443599999999996 fan_{179} + 2072.18 compressor_{179} + 40.546800000000005 fan_{180} + 2027.3400000000001 compressor_{180} + 40.546800000000005 fan_{181} + 2027.3400000000001 compressor_{181} + 40.546800000000005 fan_{182} + 2027.3400000000001 compressor_{182} + 40.546800000000005 fan_{183} + 2027.3400000000001 compressor_{183} + 40.546800000000005 fan_{184} + 2027.3400000000001 compressor_{184} + 40.546800000000005 fan_{185} + 2027.3400000000001 compressor_{185} + 40.546800000000005 fan_{186} + 2027.3400000000001 compressor_{186} + 40.546800000000005 fan_{187} + 2027.3400000000001 compressor_{187} + 40.546800000000005 fan_{188} + 2027.3400000000001 compressor_{188} + 40.546800000000005 fan_{189} + 2027.3400000000001 compressor_{189} + 40.546800000000005 fan_{190} + 2027.3400000000001 compressor_{190} + 40.546800000000005 fan_{191} + 2027.3400000000001 compressor_{191} + 40.546800000000005 fan_{192} + 2027.3400000000001 compressor_{192} + 40.546800000000005 fan_{193} + 2027.3400000000001 compressor_{193} + 40.546800000000005 fan_{194} + 2027.3400000000001 compressor_{194} + 40.546800000000005 fan_{195} + 2027.3400000000001 compressor_{195} + 40.54679999999999 fan_{196} + 2027.3399999999997 compressor_{196} + 40.546800000000005 fan_{197} + 2027.3400000000001 compressor_{197} + 40.546800000000005 fan_{198} + 2027.3400000000001 compressor_{198} + 40.546800000000005 fan_{199} + 2027.3400000000001 compressor_{199} + 40.546800000000005 fan_{200} + 2027.3400000000001 compressor_{200} + 40.54679999999999 fan_{201} + 2027.3399999999997 compressor_{201} + 40.546800000000005 fan_{202} + 2027.3400000000001 compressor_{202} + 40.546800000000005 fan_{203} + 2027.3400000000001 compressor_{203} + 40.546800000000005 fan_{204} + 2027.3400000000001 compressor_{204} + 40.546800000000005 fan_{205} + 2027.3400000000001 compressor_{205} + 40.546800000000005 fan_{206} + 2027.3400000000001 compressor_{206} + 40.546800000000005 fan_{207} + 2027.3400000000001 compressor_{207} + 40.546800000000005 fan_{208} + 2027.3400000000001 compressor_{208} + 40.546800000000005 fan_{209} + 2027.3400000000001 compressor_{209} + 40.546800000000005 fan_{210} + 2027.3400000000001 compressor_{210} + 40.546800000000005 fan_{211} + 2027.3400000000001 compressor_{211} + 40.546800000000005 fan_{212} + 2027.3400000000001 compressor_{212} + 40.546800000000005 fan_{213} + 2027.3400000000001 compressor_{213} + 40.546800000000005 fan_{214} + 2027.3400000000001 compressor_{214} + 40.546800000000005 fan_{215} + 2027.3400000000001 compressor_{215} + 40.546800000000005 fan_{216} + 2027.3400000000001 compressor_{216} + 40.546800000000005 fan_{217} + 2027.3400000000001 compressor_{217} + 40.546800000000005 fan_{218} + 2027.3400000000001 compressor_{218} + 40.546800000000005 fan_{219} + 2027.3400000000001 compressor_{219} + 40.546800000000005 fan_{220} + 2027.3400000000001 compressor_{220} + 40.546800000000005 fan_{221} + 2027.3400000000001 compressor_{221} + 40.546800000000005 fan_{222} + 2027.3400000000001 compressor_{222} + 40.546800000000005 fan_{223} + 2027.3400000000001 compressor_{223} + 40.546800000000005 fan_{224} + 2027.3400000000001 compressor_{224} + 40.546800000000005 fan_{225} + 2027.3400000000001 compressor_{225} + 40.546800000000005 fan_{226} + 2027.3400000000001 compressor_{226} + 40.546800000000005 fan_{227} + 2027.3400000000001 compressor_{227} + 40.546800000000005 fan_{228} + 2027.3400000000001 compressor_{228} + 40.546800000000005 fan_{229} + 2027.3400000000001 compressor_{229} + 40.546800000000005 fan_{230} + 2027.3400000000001 compressor_{230} + 40.546800000000005 fan_{231} + 2027.3400000000001 compressor_{231} + 40.546800000000005 fan_{232} + 2027.3400000000001 compressor_{232} + 40.546800000000005 fan_{233} + 2027.3400000000001 compressor_{233} + 40.546800000000005 fan_{234} + 2027.3400000000001 compressor_{234} + 40.546800000000005 fan_{235} + 2027.3400000000001 compressor_{235} + 40.546800000000005 fan_{236} + 2027.3400000000001 compressor_{236} + 40.546800000000005 fan_{237} + 2027.3400000000001 compressor_{237} + 40.546800000000005 fan_{238} + 2027.3400000000001 compressor_{238} + 40.546800000000005 fan_{239} + 2027.3400000000001 compressor_{239} + 40.1459 fan_{240} + 2007.295 compressor_{240} + 40.1459 fan_{241} + 2007.295 compressor_{241} + 40.1459 fan_{242} + 2007.295 compressor_{242} + 40.1459 fan_{243} + 2007.295 compressor_{243} + 40.1459 fan_{244} + 2007.295 compressor_{244} + 40.1459 fan_{245} + 2007.295 compressor_{245} + 40.1459 fan_{246} + 2007.295 compressor_{246} + 40.1459 fan_{247} + 2007.295 compressor_{247} + 40.1459 fan_{248} + 2007.295 compressor_{248} + 40.1459 fan_{249} + 2007.295 compressor_{249} + 40.1459 fan_{250} + 2007.295 compressor_{250} + 40.1459 fan_{251} + 2007.295 compressor_{251} + 40.1459 fan_{252} + 2007.295 compressor_{252} + 40.1459 fan_{253} + 2007.295 compressor_{253} + 40.1459 fan_{254} + 2007.295 compressor_{254} + 40.1459 fan_{255} + 2007.295 compressor_{255} + 40.1459 fan_{256} + 2007.295 compressor_{256} + 40.1459 fan_{257} + 2007.295 compressor_{257} + 40.1459 fan_{258} + 2007.295 compressor_{258} + 40.1459 fan_{259} + 2007.295 compressor_{259} + 40.1459 fan_{260} + 2007.295 compressor_{260} + 40.1459 fan_{261} + 2007.295 compressor_{261} + 40.1459 fan_{262} + 2007.295 compressor_{262} + 40.1459 fan_{263} + 2007.295 compressor_{263} + 40.1459 fan_{264} + 2007.295 compressor_{264} + 40.1459 fan_{265} + 2007.295 compressor_{265} + 40.1459 fan_{266} + 2007.295 compressor_{266} + 40.1459 fan_{267} + 2007.295 compressor_{267} + 40.1459 fan_{268} + 2007.295 compressor_{268} + 40.1459 fan_{269} + 2007.295 compressor_{269} + 40.1459 fan_{270} + 2007.295 compressor_{270} + 40.1459 fan_{271} + 2007.295 compressor_{271} + 40.1459 fan_{272} + 2007.295 compressor_{272} + 40.1459 fan_{273} + 2007.295 compressor_{273} + 40.1459 fan_{274} + 2007.295 compressor_{274} + 40.1459 fan_{275} + 2007.295 compressor_{275} + 40.1459 fan_{276} + 2007.295 compressor_{276} + 40.1459 fan_{277} + 2007.295 compressor_{277} + 40.1459 fan_{278} + 2007.295 compressor_{278} + 40.1459 fan_{279} + 2007.295 compressor_{279} + 40.1459 fan_{280} + 2007.295 compressor_{280} + 40.1459 fan_{281} + 2007.295 compressor_{281} + 40.1459 fan_{282} + 2007.295 compressor_{282} + 40.1459 fan_{283} + 2007.295 compressor_{283} + 40.1459 fan_{284} + 2007.295 compressor_{284} + 40.1459 fan_{285} + 2007.295 compressor_{285} + 40.1459 fan_{286} + 2007.295 compressor_{286} + 40.1459 fan_{287} + 2007.295 compressor_{287} + 40.1459 fan_{288} + 2007.295 compressor_{288} + 40.1459 fan_{289} + 2007.295 compressor_{289} + 40.1459 fan_{290} + 2007.295 compressor_{290} + 40.1459 fan_{291} + 2007.295 compressor_{291} + 40.1459 fan_{292} + 2007.295 compressor_{292} + 40.1459 fan_{293} + 2007.295 compressor_{293} + 40.1459 fan_{294} + 2007.295 compressor_{294} + 40.1459 fan_{295} + 2007.295 compressor_{295} + 40.1459 fan_{296} + 2007.295 compressor_{296} + 40.1459 fan_{297} + 2007.295 compressor_{297} + 40.1459 fan_{298} + 2007.295 compressor_{298} + 40.1459 fan_{299} + 2007.295 compressor_{299} + 40.263099999999994 fan_{300} + 2013.1549999999997 compressor_{300} + 40.263099999999994 fan_{301} + 2013.1549999999997 compressor_{301} + 40.263099999999994 fan_{302} + 2013.1549999999997 compressor_{302} + 40.263099999999994 fan_{303} + 2013.1549999999997 compressor_{303} + 40.263099999999994 fan_{304} + 2013.1549999999997 compressor_{304} + 40.263099999999994 fan_{305} + 2013.1549999999997 compressor_{305} + 40.263099999999994 fan_{306} + 2013.1549999999997 compressor_{306} + 40.263099999999994 fan_{307} + 2013.1549999999997 compressor_{307} + 40.263099999999994 fan_{308} + 2013.1549999999997 compressor_{308} + 40.263099999999994 fan_{309} + 2013.1549999999997 compressor_{309} + 40.263099999999994 fan_{310} + 2013.1549999999997 compressor_{310} + 40.263099999999994 fan_{311} + 2013.1549999999997 compressor_{311} + 40.263099999999994 fan_{312} + 2013.1549999999997 compressor_{312} + 40.263099999999994 fan_{313} + 2013.1549999999997 compressor_{313} + 40.263099999999994 fan_{314} + 2013.1549999999997 compressor_{314} + 40.263099999999994 fan_{315} + 2013.1549999999997 compressor_{315} + 40.263099999999994 fan_{316} + 2013.1549999999997 compressor_{316} + 40.263099999999994 fan_{317} + 2013.1549999999997 compressor_{317} + 40.263099999999994 fan_{318} + 2013.1549999999997 compressor_{318} + 40.263099999999994 fan_{319} + 2013.1549999999997 compressor_{319} + 40.263099999999994 fan_{320} + 2013.1549999999997 compressor_{320} + 40.263099999999994 fan_{321} + 2013.1549999999997 compressor_{321} + 40.263099999999994 fan_{322} + 2013.1549999999997 compressor_{322} + 40.263099999999994 fan_{323} + 2013.1549999999997 compressor_{323} + 40.263099999999994 fan_{324} + 2013.1549999999997 compressor_{324} + 40.263099999999994 fan_{325} + 2013.1549999999997 compressor_{325} + 40.263099999999994 fan_{326} + 2013.1549999999997 compressor_{326} + 40.263099999999994 fan_{327} + 2013.1549999999997 compressor_{327} + 40.263099999999994 fan_{328} + 2013.1549999999997 compressor_{328} + 40.263099999999994 fan_{329} + 2013.1549999999997 compressor_{329} + 40.263099999999994 fan_{330} + 2013.1549999999997 compressor_{330} + 40.263099999999994 fan_{331} + 2013.1549999999997 compressor_{331} + 40.263099999999994 fan_{332} + 2013.1549999999997 compressor_{332} + 40.263099999999994 fan_{333} + 2013.1549999999997 compressor_{333} + 40.263099999999994 fan_{334} + 2013.1549999999997 compressor_{334} + 40.263099999999994 fan_{335} + 2013.1549999999997 compressor_{335} + 40.263099999999994 fan_{336} + 2013.1549999999997 compressor_{336} + 40.263099999999994 fan_{337} + 2013.1549999999997 compressor_{337} + 40.263099999999994 fan_{338} + 2013.1549999999997 compressor_{338} + 40.263099999999994 fan_{339} + 2013.1549999999997 compressor_{339} + 40.263099999999994 fan_{340} + 2013.1549999999997 compressor_{340} + 40.263099999999994 fan_{341} + 2013.1549999999997 compressor_{341} + 40.263099999999994 fan_{342} + 2013.1549999999997 compressor_{342} + 40.263099999999994 fan_{343} + 2013.1549999999997 compressor_{343} + 40.263099999999994 fan_{344} + 2013.1549999999997 compressor_{344} + 40.263099999999994 fan_{345} + 2013.1549999999997 compressor_{345} + 40.263099999999994 fan_{346} + 2013.1549999999997 compressor_{346} + 40.263099999999994 fan_{347} + 2013.1549999999997 compressor_{347} + 40.263099999999994 fan_{348} + 2013.1549999999997 compressor_{348} + 40.263099999999994 fan_{349} + 2013.1549999999997 compressor_{349} + 40.263099999999994 fan_{350} + 2013.1549999999997 compressor_{350} + 40.263099999999994 fan_{351} + 2013.1549999999997 compressor_{351} + 40.263099999999994 fan_{352} + 2013.1549999999997 compressor_{352} + 40.263099999999994 fan_{353} + 2013.1549999999997 compressor_{353} + 40.263099999999994 fan_{354} + 2013.1549999999997 compressor_{354} + 40.263099999999994 fan_{355} + 2013.1549999999997 compressor_{355} + 40.263099999999994 fan_{356} + 2013.1549999999997 compressor_{356} + 40.263099999999994 fan_{357} + 2013.1549999999997 compressor_{357} + 40.263099999999994 fan_{358} + 2013.1549999999997 compressor_{358} + 40.263099999999994 fan_{359} + 2013.1549999999997 compressor_{359} + 41.613499999999995 fan_{360} + 2080.6749999999997 compressor_{360} + 41.61349999999999 fan_{361} + 2080.6749999999993 compressor_{361} + 41.613499999999995 fan_{362} + 2080.6749999999997 compressor_{362} + 41.613499999999995 fan_{363} + 2080.6749999999997 compressor_{363} + 41.613499999999995 fan_{364} + 2080.6749999999997 compressor_{364} + 41.613499999999995 fan_{365} + 2080.6749999999997 compressor_{365} + 41.613499999999995 fan_{366} + 2080.6749999999997 compressor_{366} + 41.613499999999995 fan_{367} + 2080.6749999999997 compressor_{367} + 41.613499999999995 fan_{368} + 2080.6749999999997 compressor_{368} + 41.613499999999995 fan_{369} + 2080.6749999999997 compressor_{369} + 41.613499999999995 fan_{370} + 2080.6749999999997 compressor_{370} + 41.613499999999995 fan_{371} + 2080.6749999999997 compressor_{371} + 41.613499999999995 fan_{372} + 2080.6749999999997 compressor_{372} + 41.613499999999995 fan_{373} + 2080.6749999999997 compressor_{373} + 41.613499999999995 fan_{374} + 2080.6749999999997 compressor_{374} + 41.613499999999995 fan_{375} + 2080.6749999999997 compressor_{375} + 41.613499999999995 fan_{376} + 2080.6749999999997 compressor_{376} + 41.613499999999995 fan_{377} + 2080.6749999999997 compressor_{377} + 41.613499999999995 fan_{378} + 2080.6749999999997 compressor_{378} + 41.613499999999995 fan_{379} + 2080.6749999999997 compressor_{379} + 41.613499999999995 fan_{380} + 2080.6749999999997 compressor_{380} + 41.613499999999995 fan_{381} + 2080.6749999999997 compressor_{381} + 41.613499999999995 fan_{382} + 2080.6749999999997 compressor_{382} + 41.613499999999995 fan_{383} + 2080.6749999999997 compressor_{383} + 41.61349999999999 fan_{384} + 2080.6749999999993 compressor_{384} + 41.613499999999995 fan_{385} + 2080.6749999999997 compressor_{385} + 41.61349999999999 fan_{386} + 2080.6749999999993 compressor_{386} + 41.613499999999995 fan_{387} + 2080.6749999999997 compressor_{387} + 41.613499999999995 fan_{388} + 2080.6749999999997 compressor_{388} + 41.613499999999995 fan_{389} + 2080.6749999999997 compressor_{389} + 41.613499999999995 fan_{390} + 2080.6749999999997 compressor_{390} + 41.613499999999995 fan_{391} + 2080.6749999999997 compressor_{391} + 41.613499999999995 fan_{392} + 2080.6749999999997 compressor_{392} + 41.613499999999995 fan_{393} + 2080.6749999999997 compressor_{393} + 41.613499999999995 fan_{394} + 2080.6749999999997 compressor_{394} + 41.613499999999995 fan_{395} + 2080.6749999999997 compressor_{395} + 41.613499999999995 fan_{396} + 2080.6749999999997 compressor_{396} + 41.613499999999995 fan_{397} + 2080.6749999999997 compressor_{397} + 41.613499999999995 fan_{398} + 2080.6749999999997 compressor_{398} + 41.613499999999995 fan_{399} + 2080.6749999999997 compressor_{399} + 41.613499999999995 fan_{400} + 2080.6749999999997 compressor_{400} + 41.613499999999995 fan_{401} + 2080.6749999999997 compressor_{401} + 41.613499999999995 fan_{402} + 2080.6749999999997 compressor_{402} + 41.613499999999995 fan_{403} + 2080.6749999999997 compressor_{403} + 41.613499999999995 fan_{404} + 2080.6749999999997 compressor_{404} + 41.613499999999995 fan_{405} + 2080.6749999999997 compressor_{405} + 41.613499999999995 fan_{406} + 2080.6749999999997 compressor_{406} + 41.613499999999995 fan_{407} + 2080.6749999999997 compressor_{407} + 41.613499999999995 fan_{408} + 2080.6749999999997 compressor_{408} + 41.613499999999995 fan_{409} + 2080.6749999999997 compressor_{409} + 41.613499999999995 fan_{410} + 2080.6749999999997 compressor_{410} + 41.613499999999995 fan_{411} + 2080.6749999999997 compressor_{411} + 41.613499999999995 fan_{412} + 2080.6749999999997 compressor_{412} + 41.613499999999995 fan_{413} + 2080.6749999999997 compressor_{413} + 41.613499999999995 fan_{414} + 2080.6749999999997 compressor_{414} + 41.613499999999995 fan_{415} + 2080.6749999999997 compressor_{415} + 41.613499999999995 fan_{416} + 2080.6749999999997 compressor_{416} + 41.613499999999995 fan_{417} + 2080.6749999999997 compressor_{417} + 41.613499999999995 fan_{418} + 2080.6749999999997 compressor_{418} + 41.613499999999995 fan_{419} + 2080.6749999999997 compressor_{419} + 42.4251 fan_{420} + 2121.255 compressor_{420} + 42.4251 fan_{421} + 2121.255 compressor_{421} + 42.4251 fan_{422} + 2121.255 compressor_{422} + 42.4251 fan_{423} + 2121.255 compressor_{423} + 42.4251 fan_{424} + 2121.255 compressor_{424} + 42.4251 fan_{425} + 2121.255 compressor_{425} + 42.4251 fan_{426} + 2121.255 compressor_{426} + 42.4251 fan_{427} + 2121.255 compressor_{427} + 42.4251 fan_{428} + 2121.255 compressor_{428} + 42.4251 fan_{429} + 2121.255 compressor_{429} + 42.4251 fan_{430} + 2121.255 compressor_{430} + 42.4251 fan_{431} + 2121.255 compressor_{431} + 42.4251 fan_{432} + 2121.255 compressor_{432} + 42.4251 fan_{433} + 2121.255 compressor_{433} + 42.4251 fan_{434} + 2121.255 compressor_{434} + 42.42509999999999 fan_{435} + 2121.2549999999997 compressor_{435} + 42.425100000000015 fan_{436} + 2121.2550000000006 compressor_{436} + 42.4251 fan_{437} + 2121.255 compressor_{437} + 42.4251 fan_{438} + 2121.255 compressor_{438} + 42.4251 fan_{439} + 2121.255 compressor_{439} + 42.4251 fan_{440} + 2121.255 compressor_{440} + 42.4251 fan_{441} + 2121.255 compressor_{441} + 42.4251 fan_{442} + 2121.255 compressor_{442} + 42.4251 fan_{443} + 2121.255 compressor_{443} + 42.4251 fan_{444} + 2121.255 compressor_{444} + 42.4251 fan_{445} + 2121.255 compressor_{445} + 42.4251 fan_{446} + 2121.255 compressor_{446} + 42.4251 fan_{447} + 2121.255 compressor_{447} + 42.42509999999999 fan_{448} + 2121.2549999999997 compressor_{448} + 42.4251 fan_{449} + 2121.255 compressor_{449} + 42.4251 fan_{450} + 2121.255 compressor_{450} + 42.4251 fan_{451} + 2121.255 compressor_{451} + 42.4251 fan_{452} + 2121.255 compressor_{452} + 42.4251 fan_{453} + 2121.255 compressor_{453} + 42.4251 fan_{454} + 2121.255 compressor_{454} + 42.4251 fan_{455} + 2121.255 compressor_{455} + 42.4251 fan_{456} + 2121.255 compressor_{456} + 42.4251 fan_{457} + 2121.255 compressor_{457} + 42.4251 fan_{458} + 2121.255 compressor_{458} + 42.4251 fan_{459} + 2121.255 compressor_{459} + 42.4251 fan_{460} + 2121.255 compressor_{460} + 42.4251 fan_{461} + 2121.255 compressor_{461} + 42.4251 fan_{462} + 2121.255 compressor_{462} + 42.4251 fan_{463} + 2121.255 compressor_{463} + 42.4251 fan_{464} + 2121.255 compressor_{464} + 42.4251 fan_{465} + 2121.255 compressor_{465} + 42.4251 fan_{466} + 2121.255 compressor_{466} + 42.4251 fan_{467} + 2121.255 compressor_{467} + 42.4251 fan_{468} + 2121.255 compressor_{468} + 42.4251 fan_{469} + 2121.255 compressor_{469} + 42.4251 fan_{470} + 2121.255 compressor_{470} + 42.4251 fan_{471} + 2121.255 compressor_{471} + 42.4251 fan_{472} + 2121.255 compressor_{472} + 42.4251 fan_{473} + 2121.255 compressor_{473} + 42.4251 fan_{474} + 2121.255 compressor_{474} + 42.4251 fan_{475} + 2121.255 compressor_{475} + 42.4251 fan_{476} + 2121.255 compressor_{476} + 42.425100000000015 fan_{477} + 2121.2550000000006 compressor_{477} + 42.4251 fan_{478} + 2121.255 compressor_{478} + 42.4251 fan_{479} + 2121.255 compressor_{479} + 44.997600000000006 fan_{480} + 2249.88 compressor_{480} + 44.997600000000006 fan_{481} + 2249.88 compressor_{481} + 44.997600000000006 fan_{482} + 2249.88 compressor_{482} + 44.997600000000006 fan_{483} + 2249.88 compressor_{483} + 44.997600000000006 fan_{484} + 2249.88 compressor_{484} + 44.997600000000006 fan_{485} + 2249.88 compressor_{485} + 44.997600000000006 fan_{486} + 2249.88 compressor_{486} + 44.997600000000006 fan_{487} + 2249.88 compressor_{487} + 44.997600000000006 fan_{488} + 2249.88 compressor_{488} + 44.997600000000006 fan_{489} + 2249.88 compressor_{489} + 44.997600000000006 fan_{490} + 2249.88 compressor_{490} + 44.997600000000006 fan_{491} + 2249.88 compressor_{491} + 44.997600000000006 fan_{492} + 2249.88 compressor_{492} + 44.997600000000006 fan_{493} + 2249.88 compressor_{493} + 44.997600000000006 fan_{494} + 2249.88 compressor_{494} + 44.997600000000006 fan_{495} + 2249.88 compressor_{495} + 44.997600000000006 fan_{496} + 2249.88 compressor_{496} + 44.997600000000006 fan_{497} + 2249.88 compressor_{497} + 44.997600000000006 fan_{498} + 2249.88 compressor_{498} + 44.997600000000006 fan_{499} + 2249.88 compressor_{499} + 44.997600000000006 fan_{500} + 2249.88 compressor_{500} + 44.997600000000006 fan_{501} + 2249.88 compressor_{501} + 44.997600000000006 fan_{502} + 2249.88 compressor_{502} + 44.997600000000006 fan_{503} + 2249.88 compressor_{503} + 44.997600000000006 fan_{504} + 2249.88 compressor_{504} + 44.997600000000006 fan_{505} + 2249.88 compressor_{505} + 44.997600000000006 fan_{506} + 2249.88 compressor_{506} + 44.997600000000006 fan_{507} + 2249.88 compressor_{507} + 44.997600000000006 fan_{508} + 2249.88 compressor_{508} + 44.997600000000006 fan_{509} + 2249.88 compressor_{509} + 44.997600000000006 fan_{510} + 2249.88 compressor_{510} + 44.997600000000006 fan_{511} + 2249.88 compressor_{511} + 44.997600000000006 fan_{512} + 2249.88 compressor_{512} + 44.997600000000006 fan_{513} + 2249.88 compressor_{513} + 44.997600000000006 fan_{514} + 2249.88 compressor_{514} + 44.997600000000006 fan_{515} + 2249.88 compressor_{515} + 44.997600000000006 fan_{516} + 2249.88 compressor_{516} + 44.997600000000006 fan_{517} + 2249.88 compressor_{517} + 44.997600000000006 fan_{518} + 2249.88 compressor_{518} + 44.997600000000006 fan_{519} + 2249.88 compressor_{519} + 44.997600000000006 fan_{520} + 2249.88 compressor_{520} + 44.997600000000006 fan_{521} + 2249.88 compressor_{521} + 44.997600000000006 fan_{522} + 2249.88 compressor_{522} + 44.997600000000006 fan_{523} + 2249.88 compressor_{523} + 44.997600000000006 fan_{524} + 2249.88 compressor_{524} + 44.997600000000006 fan_{525} + 2249.88 compressor_{525} + 44.997600000000006 fan_{526} + 2249.88 compressor_{526} + 44.997600000000006 fan_{527} + 2249.88 compressor_{527} + 44.997600000000006 fan_{528} + 2249.88 compressor_{528} + 44.997600000000006 fan_{529} + 2249.88 compressor_{529} + 44.997600000000006 fan_{530} + 2249.88 compressor_{530} + 44.997600000000006 fan_{531} + 2249.88 compressor_{531} + 44.997600000000006 fan_{532} + 2249.88 compressor_{532} + 44.997600000000006 fan_{533} + 2249.88 compressor_{533} + 44.997600000000006 fan_{534} + 2249.88 compressor_{534} + 44.997600000000006 fan_{535} + 2249.88 compressor_{535} + 44.997600000000006 fan_{536} + 2249.88 compressor_{536} + 44.997600000000006 fan_{537} + 2249.88 compressor_{537} + 44.997600000000006 fan_{538} + 2249.88 compressor_{538} + 44.997600000000006 fan_{539} + 2249.88 compressor_{539} + 45.9363 fan_{540} + 2296.815 compressor_{540} + 45.9363 fan_{541} + 2296.815 compressor_{541} + 45.93629999999999 fan_{542} + 2296.8149999999996 compressor_{542} + 45.9363 fan_{543} + 2296.815 compressor_{543} + 45.9363 fan_{544} + 2296.815 compressor_{544} + 45.9363 fan_{545} + 2296.815 compressor_{545} + 45.93629999999999 fan_{546} + 2296.8149999999996 compressor_{546} + 45.9363 fan_{547} + 2296.815 compressor_{547} + 45.9363 fan_{548} + 2296.815 compressor_{548} + 45.9363 fan_{549} + 2296.815 compressor_{549} + 45.9363 fan_{550} + 2296.815 compressor_{550} + 45.9363 fan_{551} + 2296.815 compressor_{551} + 45.9363 fan_{552} + 2296.815 compressor_{552} + 45.9363 fan_{553} + 2296.815 compressor_{553} + 45.9363 fan_{554} + 2296.815 compressor_{554} + 45.9363 fan_{555} + 2296.815 compressor_{555} + 45.9363 fan_{556} + 2296.815 compressor_{556} + 45.9363 fan_{557} + 2296.815 compressor_{557} + 45.9363 fan_{558} + 2296.815 compressor_{558} + 45.9363 fan_{559} + 2296.815 compressor_{559} + 45.9363 fan_{560} + 2296.815 compressor_{560} + 45.9363 fan_{561} + 2296.815 compressor_{561} + 45.9363 fan_{562} + 2296.815 compressor_{562} + 45.9363 fan_{563} + 2296.815 compressor_{563} + 45.9363 fan_{564} + 2296.815 compressor_{564} + 45.9363 fan_{565} + 2296.815 compressor_{565} + 45.9363 fan_{566} + 2296.815 compressor_{566} + 45.9363 fan_{567} + 2296.815 compressor_{567} + 45.93629999999999 fan_{568} + 2296.8149999999996 compressor_{568} + 45.93630000000001 fan_{569} + 2296.8150000000005 compressor_{569} + 45.9363 fan_{570} + 2296.815 compressor_{570} + 45.9363 fan_{571} + 2296.815 compressor_{571} + 45.9363 fan_{572} + 2296.815 compressor_{572} + 45.9363 fan_{573} + 2296.815 compressor_{573} + 45.9363 fan_{574} + 2296.815 compressor_{574} + 45.9363 fan_{575} + 2296.815 compressor_{575} + 45.9363 fan_{576} + 2296.815 compressor_{576} + 45.9363 fan_{577} + 2296.815 compressor_{577} + 45.9363 fan_{578} + 2296.815 compressor_{578} + 45.9363 fan_{579} + 2296.815 compressor_{579} + 45.9363 fan_{580} + 2296.815 compressor_{580} + 45.9363 fan_{581} + 2296.815 compressor_{581} + 45.9363 fan_{582} + 2296.815 compressor_{582} + 45.9363 fan_{583} + 2296.815 compressor_{583} + 45.9363 fan_{584} + 2296.815 compressor_{584} + 45.9363 fan_{585} + 2296.815 compressor_{585} + 45.9363 fan_{586} + 2296.815 compressor_{586} + 45.9363 fan_{587} + 2296.815 compressor_{587} + 45.9363 fan_{588} + 2296.815 compressor_{588} + 45.9363 fan_{589} + 2296.815 compressor_{589} + 45.9363 fan_{590} + 2296.815 compressor_{590} + 45.9363 fan_{591} + 2296.815 compressor_{591} + 45.9363 fan_{592} + 2296.815 compressor_{592} + 45.9363 fan_{593} + 2296.815 compressor_{593} + 45.9363 fan_{594} + 2296.815 compressor_{594} + 45.9363 fan_{595} + 2296.815 compressor_{595} + 45.9363 fan_{596} + 2296.815 compressor_{596} + 45.9363 fan_{597} + 2296.815 compressor_{597} + 45.9363 fan_{598} + 2296.815 compressor_{598} + 45.9363 fan_{599} + 2296.815 compressor_{599} + 47.739399999999996 fan_{600} + 2386.97 compressor_{600} + 47.739399999999996 fan_{601} + 2386.97 compressor_{601} + 47.739399999999996 fan_{602} + 2386.97 compressor_{602} + 47.739399999999996 fan_{603} + 2386.97 compressor_{603} + 47.739399999999996 fan_{604} + 2386.97 compressor_{604} + 47.739399999999996 fan_{605} + 2386.97 compressor_{605} + 47.739399999999996 fan_{606} + 2386.97 compressor_{606} + 47.739399999999996 fan_{607} + 2386.97 compressor_{607} + 47.739399999999996 fan_{608} + 2386.97 compressor_{608} + 47.739399999999996 fan_{609} + 2386.97 compressor_{609} + 47.739399999999996 fan_{610} + 2386.97 compressor_{610} + 47.739399999999996 fan_{611} + 2386.97 compressor_{611} + 47.739399999999996 fan_{612} + 2386.97 compressor_{612} + 47.739399999999996 fan_{613} + 2386.97 compressor_{613} + 47.739399999999996 fan_{614} + 2386.97 compressor_{614} + 47.739399999999996 fan_{615} + 2386.97 compressor_{615} + 47.739399999999996 fan_{616} + 2386.97 compressor_{616} + 47.739399999999996 fan_{617} + 2386.97 compressor_{617} + 47.739399999999996 fan_{618} + 2386.97 compressor_{618} + 47.739399999999996 fan_{619} + 2386.97 compressor_{619} + 47.739399999999996 fan_{620} + 2386.97 compressor_{620} + 47.739399999999996 fan_{621} + 2386.97 compressor_{621} + 47.739399999999996 fan_{622} + 2386.97 compressor_{622} + 47.739399999999996 fan_{623} + 2386.97 compressor_{623} + 47.739399999999996 fan_{624} + 2386.97 compressor_{624} + 47.739399999999996 fan_{625} + 2386.97 compressor_{625} + 47.739399999999996 fan_{626} + 2386.97 compressor_{626} + 47.739399999999996 fan_{627} + 2386.97 compressor_{627} + 47.739399999999996 fan_{628} + 2386.97 compressor_{628} + 47.739399999999996 fan_{629} + 2386.97 compressor_{629} + 47.739399999999996 fan_{630} + 2386.97 compressor_{630} + 47.739399999999996 fan_{631} + 2386.97 compressor_{631} + 47.739399999999996 fan_{632} + 2386.97 compressor_{632} + 47.739399999999996 fan_{633} + 2386.97 compressor_{633} + 47.739399999999996 fan_{634} + 2386.97 compressor_{634} + 47.739399999999996 fan_{635} + 2386.97 compressor_{635} + 47.739399999999996 fan_{636} + 2386.97 compressor_{636} + 47.739399999999996 fan_{637} + 2386.97 compressor_{637} + 47.739399999999996 fan_{638} + 2386.97 compressor_{638} + 47.739399999999996 fan_{639} + 2386.97 compressor_{639} + 47.739399999999996 fan_{640} + 2386.97 compressor_{640} + 47.739399999999996 fan_{641} + 2386.97 compressor_{641} + 47.739399999999996 fan_{642} + 2386.97 compressor_{642} + 47.739399999999996 fan_{643} + 2386.97 compressor_{643} + 47.739399999999996 fan_{644} + 2386.97 compressor_{644} + 47.739399999999996 fan_{645} + 2386.97 compressor_{645} + 47.739399999999996 fan_{646} + 2386.97 compressor_{646} + 47.739399999999996 fan_{647} + 2386.97 compressor_{647} + 47.739399999999996 fan_{648} + 2386.97 compressor_{648} + 47.739399999999996 fan_{649} + 2386.97 compressor_{649} + 47.739399999999996 fan_{650} + 2386.97 compressor_{650} + 47.739399999999996 fan_{651} + 2386.97 compressor_{651} + 47.739399999999996 fan_{652} + 2386.97 compressor_{652} + 47.739399999999996 fan_{653} + 2386.97 compressor_{653} + 47.739399999999996 fan_{654} + 2386.97 compressor_{654} + 47.739399999999996 fan_{655} + 2386.97 compressor_{655} + 47.739399999999996 fan_{656} + 2386.97 compressor_{656} + 47.739399999999996 fan_{657} + 2386.97 compressor_{657} + 47.739399999999996 fan_{658} + 2386.97 compressor_{658} + 47.739399999999996 fan_{659} + 2386.97 compressor_{659} + 48.0014 fan_{660} + 2400.0699999999997 compressor_{660} + 48.0014 fan_{661} + 2400.0699999999997 compressor_{661} + 48.0014 fan_{662} + 2400.0699999999997 compressor_{662} + 48.0014 fan_{663} + 2400.0699999999997 compressor_{663} + 48.0014 fan_{664} + 2400.0699999999997 compressor_{664} + 48.0014 fan_{665} + 2400.0699999999997 compressor_{665} + 48.0014 fan_{666} + 2400.0699999999997 compressor_{666} + 48.0014 fan_{667} + 2400.0699999999997 compressor_{667} + 48.001400000000004 fan_{668} + 2400.07 compressor_{668} + 48.0014 fan_{669} + 2400.0699999999997 compressor_{669} + 48.0014 fan_{670} + 2400.0699999999997 compressor_{670} + 48.0014 fan_{671} + 2400.0699999999997 compressor_{671} + 48.0014 fan_{672} + 2400.0699999999997 compressor_{672} + 48.0014 fan_{673} + 2400.0699999999997 compressor_{673} + 48.0014 fan_{674} + 2400.0699999999997 compressor_{674} + 48.0014 fan_{675} + 2400.0699999999997 compressor_{675} + 48.0014 fan_{676} + 2400.0699999999997 compressor_{676} + 48.0014 fan_{677} + 2400.0699999999997 compressor_{677} + 48.0014 fan_{678} + 2400.0699999999997 compressor_{678} + 48.001400000000004 fan_{679} + 2400.07 compressor_{679} + 48.0014 fan_{680} + 2400.0699999999997 compressor_{680} + 48.0014 fan_{681} + 2400.0699999999997 compressor_{681} + 48.0014 fan_{682} + 2400.0699999999997 compressor_{682} + 48.0014 fan_{683} + 2400.0699999999997 compressor_{683} + 48.001400000000004 fan_{684} + 2400.07 compressor_{684} + 48.0014 fan_{685} + 2400.0699999999997 compressor_{685} + 48.0014 fan_{686} + 2400.0699999999997 compressor_{686} + 48.0014 fan_{687} + 2400.0699999999997 compressor_{687} + 48.00139999999999 fan_{688} + 2400.0699999999997 compressor_{688} + 48.0014 fan_{689} + 2400.0699999999997 compressor_{689} + 48.0014 fan_{690} + 2400.0699999999997 compressor_{690} + 48.0014 fan_{691} + 2400.0699999999997 compressor_{691} + 48.0014 fan_{692} + 2400.0699999999997 compressor_{692} + 48.0014 fan_{693} + 2400.0699999999997 compressor_{693} + 48.0014 fan_{694} + 2400.0699999999997 compressor_{694} + 48.0014 fan_{695} + 2400.0699999999997 compressor_{695} + 48.0014 fan_{696} + 2400.0699999999997 compressor_{696} + 48.0014 fan_{697} + 2400.0699999999997 compressor_{697} + 48.0014 fan_{698} + 2400.0699999999997 compressor_{698} + 48.0014 fan_{699} + 2400.0699999999997 compressor_{699} + 48.0014 fan_{700} + 2400.0699999999997 compressor_{700} + 48.0014 fan_{701} + 2400.0699999999997 compressor_{701} + 48.0014 fan_{702} + 2400.0699999999997 compressor_{702} + 48.0014 fan_{703} + 2400.0699999999997 compressor_{703} + 48.0014 fan_{704} + 2400.0699999999997 compressor_{704} + 48.0014 fan_{705} + 2400.0699999999997 compressor_{705} + 48.0014 fan_{706} + 2400.0699999999997 compressor_{706} + 48.0014 fan_{707} + 2400.0699999999997 compressor_{707} + 48.0014 fan_{708} + 2400.0699999999997 compressor_{708} + 48.0014 fan_{709} + 2400.0699999999997 compressor_{709} + 48.0014 fan_{710} + 2400.0699999999997 compressor_{710} + 48.0014 fan_{711} + 2400.0699999999997 compressor_{711} + 48.0014 fan_{712} + 2400.0699999999997 compressor_{712} + 48.0014 fan_{713} + 2400.0699999999997 compressor_{713} + 48.0014 fan_{714} + 2400.0699999999997 compressor_{714} + 48.0014 fan_{715} + 2400.0699999999997 compressor_{715} + 48.0014 fan_{716} + 2400.0699999999997 compressor_{716} + 48.0014 fan_{717} + 2400.0699999999997 compressor_{717} + 48.0014 fan_{718} + 2400.0699999999997 compressor_{718} + 48.0014 fan_{719} + 2400.0699999999997 compressor_{719} + 47.8849 fan_{720} + 2394.2450000000003 compressor_{720} + 47.8849 fan_{721} + 2394.2450000000003 compressor_{721} + 47.8849 fan_{722} + 2394.2450000000003 compressor_{722} + 47.8849 fan_{723} + 2394.2450000000003 compressor_{723} + 47.8849 fan_{724} + 2394.2450000000003 compressor_{724} + 47.8849 fan_{725} + 2394.2450000000003 compressor_{725} + 47.884899999999995 fan_{726} + 2394.245 compressor_{726} + 47.8849 fan_{727} + 2394.2450000000003 compressor_{727} + 47.8849 fan_{728} + 2394.2450000000003 compressor_{728} + 47.8849 fan_{729} + 2394.2450000000003 compressor_{729} + 47.8849 fan_{730} + 2394.2450000000003 compressor_{730} + 47.8849 fan_{731} + 2394.2450000000003 compressor_{731} + 47.8849 fan_{732} + 2394.2450000000003 compressor_{732} + 47.8849 fan_{733} + 2394.2450000000003 compressor_{733} + 47.8849 fan_{734} + 2394.2450000000003 compressor_{734} + 47.8849 fan_{735} + 2394.2450000000003 compressor_{735} + 47.884900000000016 fan_{736} + 2394.245000000001 compressor_{736} + 47.8849 fan_{737} + 2394.2450000000003 compressor_{737} + 47.8849 fan_{738} + 2394.2450000000003 compressor_{738} + 47.8849 fan_{739} + 2394.2450000000003 compressor_{739} + 47.884899999999995 fan_{740} + 2394.245 compressor_{740} + 47.8849 fan_{741} + 2394.2450000000003 compressor_{741} + 47.8849 fan_{742} + 2394.2450000000003 compressor_{742} + 47.8849 fan_{743} + 2394.2450000000003 compressor_{743} + 47.8849 fan_{744} + 2394.2450000000003 compressor_{744} + 47.8849 fan_{745} + 2394.2450000000003 compressor_{745} + 47.8849 fan_{746} + 2394.2450000000003 compressor_{746} + 47.8849 fan_{747} + 2394.2450000000003 compressor_{747} + 47.884899999999995 fan_{748} + 2394.245 compressor_{748} + 47.884900000000016 fan_{749} + 2394.245000000001 compressor_{749} + 47.8849 fan_{750} + 2394.2450000000003 compressor_{750} + 47.8849 fan_{751} + 2394.2450000000003 compressor_{751} + 47.8849 fan_{752} + 2394.2450000000003 compressor_{752} + 47.8849 fan_{753} + 2394.2450000000003 compressor_{753} + 47.8849 fan_{754} + 2394.2450000000003 compressor_{754} + 47.8849 fan_{755} + 2394.2450000000003 compressor_{755} + 47.8849 fan_{756} + 2394.2450000000003 compressor_{756} + 47.8849 fan_{757} + 2394.2450000000003 compressor_{757} + 47.8849 fan_{758} + 2394.2450000000003 compressor_{758} + 47.8849 fan_{759} + 2394.2450000000003 compressor_{759} + 47.8849 fan_{760} + 2394.2450000000003 compressor_{760} + 47.8849 fan_{761} + 2394.2450000000003 compressor_{761} + 47.8849 fan_{762} + 2394.2450000000003 compressor_{762} + 47.8849 fan_{763} + 2394.2450000000003 compressor_{763} + 47.8849 fan_{764} + 2394.2450000000003 compressor_{764} + 47.8849 fan_{765} + 2394.2450000000003 compressor_{765} + 47.8849 fan_{766} + 2394.2450000000003 compressor_{766} + 47.8849 fan_{767} + 2394.2450000000003 compressor_{767} + 47.8849 fan_{768} + 2394.2450000000003 compressor_{768} + 47.8849 fan_{769} + 2394.2450000000003 compressor_{769} + 47.8849 fan_{770} + 2394.2450000000003 compressor_{770} + 47.8849 fan_{771} + 2394.2450000000003 compressor_{771} + 47.8849 fan_{772} + 2394.2450000000003 compressor_{772} + 47.8849 fan_{773} + 2394.2450000000003 compressor_{773} + 47.8849 fan_{774} + 2394.2450000000003 compressor_{774} + 47.884899999999995 fan_{775} + 2394.245 compressor_{775} + 47.8849 fan_{776} + 2394.2450000000003 compressor_{776} + 47.8849 fan_{777} + 2394.2450000000003 compressor_{777} + 47.8849 fan_{778} + 2394.2450000000003 compressor_{778} + 47.8849 fan_{779} + 2394.2450000000003 compressor_{779} + 47.575700000000005 fan_{780} + 2378.7850000000003 compressor_{780} + 47.575700000000005 fan_{781} + 2378.7850000000003 compressor_{781} + 47.575700000000005 fan_{782} + 2378.7850000000003 compressor_{782} + 47.575700000000005 fan_{783} + 2378.7850000000003 compressor_{783} + 47.575700000000005 fan_{784} + 2378.7850000000003 compressor_{784} + 47.575700000000005 fan_{785} + 2378.7850000000003 compressor_{785} + 47.575700000000005 fan_{786} + 2378.7850000000003 compressor_{786} + 47.575700000000005 fan_{787} + 2378.7850000000003 compressor_{787} + 47.575700000000005 fan_{788} + 2378.7850000000003 compressor_{788} + 47.575700000000005 fan_{789} + 2378.7850000000003 compressor_{789} + 47.575700000000005 fan_{790} + 2378.7850000000003 compressor_{790} + 47.575700000000005 fan_{791} + 2378.7850000000003 compressor_{791} + 47.575700000000005 fan_{792} + 2378.7850000000003 compressor_{792} + 47.575700000000005 fan_{793} + 2378.7850000000003 compressor_{793} + 47.575700000000005 fan_{794} + 2378.7850000000003 compressor_{794} + 47.5757 fan_{795} + 2378.785 compressor_{795} + 47.57570000000001 fan_{796} + 2378.7850000000008 compressor_{796} + 47.575700000000005 fan_{797} + 2378.7850000000003 compressor_{797} + 47.575700000000005 fan_{798} + 2378.7850000000003 compressor_{798} + 47.57570000000001 fan_{799} + 2378.7850000000008 compressor_{799} + 47.575700000000005 fan_{800} + 2378.7850000000003 compressor_{800} + 47.575700000000005 fan_{801} + 2378.7850000000003 compressor_{801} + 47.575700000000005 fan_{802} + 2378.7850000000003 compressor_{802} + 47.575700000000005 fan_{803} + 2378.7850000000003 compressor_{803} + 47.575700000000005 fan_{804} + 2378.7850000000003 compressor_{804} + 47.575700000000005 fan_{805} + 2378.7850000000003 compressor_{805} + 47.575700000000005 fan_{806} + 2378.7850000000003 compressor_{806} + 47.575700000000005 fan_{807} + 2378.7850000000003 compressor_{807} + 47.575700000000005 fan_{808} + 2378.7850000000003 compressor_{808} + 47.575700000000005 fan_{809} + 2378.7850000000003 compressor_{809} + 47.575700000000005 fan_{810} + 2378.7850000000003 compressor_{810} + 47.575700000000005 fan_{811} + 2378.7850000000003 compressor_{811} + 47.575700000000005 fan_{812} + 2378.7850000000003 compressor_{812} + 47.575700000000005 fan_{813} + 2378.7850000000003 compressor_{813} + 47.575700000000005 fan_{814} + 2378.7850000000003 compressor_{814} + 47.575700000000005 fan_{815} + 2378.7850000000003 compressor_{815} + 47.575700000000005 fan_{816} + 2378.7850000000003 compressor_{816} + 47.575700000000005 fan_{817} + 2378.7850000000003 compressor_{817} + 47.575700000000005 fan_{818} + 2378.7850000000003 compressor_{818} + 47.575700000000005 fan_{819} + 2378.7850000000003 compressor_{819} + 47.575700000000005 fan_{820} + 2378.7850000000003 compressor_{820} + 47.575700000000005 fan_{821} + 2378.7850000000003 compressor_{821} + 47.575700000000005 fan_{822} + 2378.7850000000003 compressor_{822} + 47.575700000000005 fan_{823} + 2378.7850000000003 compressor_{823} + 47.575700000000005 fan_{824} + 2378.7850000000003 compressor_{824} + 47.575700000000005 fan_{825} + 2378.7850000000003 compressor_{825} + 47.575700000000005 fan_{826} + 2378.7850000000003 compressor_{826} + 47.575700000000005 fan_{827} + 2378.7850000000003 compressor_{827} + 47.575700000000005 fan_{828} + 2378.7850000000003 compressor_{828} + 47.575700000000005 fan_{829} + 2378.7850000000003 compressor_{829} + 47.575700000000005 fan_{830} + 2378.7850000000003 compressor_{830} + 47.57570000000001 fan_{831} + 2378.7850000000008 compressor_{831} + 47.575700000000005 fan_{832} + 2378.7850000000003 compressor_{832} + 47.575700000000005 fan_{833} + 2378.7850000000003 compressor_{833} + 47.575700000000005 fan_{834} + 2378.7850000000003 compressor_{834} + 47.575700000000005 fan_{835} + 2378.7850000000003 compressor_{835} + 47.575700000000005 fan_{836} + 2378.7850000000003 compressor_{836} + 47.575700000000005 fan_{837} + 2378.7850000000003 compressor_{837} + 47.575700000000005 fan_{838} + 2378.7850000000003 compressor_{838} + 47.575700000000005 fan_{839} + 2378.7850000000003 compressor_{839} + 47.7814 fan_{840} + 2389.0699999999997 compressor_{840} + 47.7814 fan_{841} + 2389.0699999999997 compressor_{841} + 47.7814 fan_{842} + 2389.0699999999997 compressor_{842} + 47.7814 fan_{843} + 2389.0699999999997 compressor_{843} + 47.7814 fan_{844} + 2389.0699999999997 compressor_{844} + 47.7814 fan_{845} + 2389.0699999999997 compressor_{845} + 47.7814 fan_{846} + 2389.0699999999997 compressor_{846} + 47.7814 fan_{847} + 2389.0699999999997 compressor_{847} + 47.7814 fan_{848} + 2389.0699999999997 compressor_{848} + 47.7814 fan_{849} + 2389.0699999999997 compressor_{849} + 47.7814 fan_{850} + 2389.0699999999997 compressor_{850} + 47.7814 fan_{851} + 2389.0699999999997 compressor_{851} + 47.7814 fan_{852} + 2389.0699999999997 compressor_{852} + 47.7814 fan_{853} + 2389.0699999999997 compressor_{853} + 47.7814 fan_{854} + 2389.0699999999997 compressor_{854} + 47.78139999999999 fan_{855} + 2389.0699999999993 compressor_{855} + 47.781400000000005 fan_{856} + 2389.07 compressor_{856} + 47.7814 fan_{857} + 2389.0699999999997 compressor_{857} + 47.7814 fan_{858} + 2389.0699999999997 compressor_{858} + 47.7814 fan_{859} + 2389.0699999999997 compressor_{859} + 47.7814 fan_{860} + 2389.0699999999997 compressor_{860} + 47.7814 fan_{861} + 2389.0699999999997 compressor_{861} + 47.7814 fan_{862} + 2389.0699999999997 compressor_{862} + 47.78139999999999 fan_{863} + 2389.0699999999993 compressor_{863} + 47.781400000000005 fan_{864} + 2389.07 compressor_{864} + 47.7814 fan_{865} + 2389.0699999999997 compressor_{865} + 47.7814 fan_{866} + 2389.0699999999997 compressor_{866} + 47.7814 fan_{867} + 2389.0699999999997 compressor_{867} + 47.78139999999999 fan_{868} + 2389.0699999999993 compressor_{868} + 47.7814 fan_{869} + 2389.0699999999997 compressor_{869} + 47.7814 fan_{870} + 2389.0699999999997 compressor_{870} + 47.7814 fan_{871} + 2389.0699999999997 compressor_{871} + 47.7814 fan_{872} + 2389.0699999999997 compressor_{872} + 47.7814 fan_{873} + 2389.0699999999997 compressor_{873} + 47.7814 fan_{874} + 2389.0699999999997 compressor_{874} + 47.7814 fan_{875} + 2389.0699999999997 compressor_{875} + 47.7814 fan_{876} + 2389.0699999999997 compressor_{876} + 47.7814 fan_{877} + 2389.0699999999997 compressor_{877} + 47.7814 fan_{878} + 2389.0699999999997 compressor_{878} + 47.7814 fan_{879} + 2389.0699999999997 compressor_{879} + 47.7814 fan_{880} + 2389.0699999999997 compressor_{880} + 47.7814 fan_{881} + 2389.0699999999997 compressor_{881} + 47.7814 fan_{882} + 2389.0699999999997 compressor_{882} + 47.7814 fan_{883} + 2389.0699999999997 compressor_{883} + 47.7814 fan_{884} + 2389.0699999999997 compressor_{884} + 47.7814 fan_{885} + 2389.0699999999997 compressor_{885} + 47.7814 fan_{886} + 2389.0699999999997 compressor_{886} + 47.7814 fan_{887} + 2389.0699999999997 compressor_{887} + 47.7814 fan_{888} + 2389.0699999999997 compressor_{888} + 47.7814 fan_{889} + 2389.0699999999997 compressor_{889} + 47.7814 fan_{890} + 2389.0699999999997 compressor_{890} + 47.7814 fan_{891} + 2389.0699999999997 compressor_{891} + 47.7814 fan_{892} + 2389.0699999999997 compressor_{892} + 47.781400000000005 fan_{893} + 2389.07 compressor_{893} + 47.7814 fan_{894} + 2389.0699999999997 compressor_{894} + 47.7814 fan_{895} + 2389.0699999999997 compressor_{895} + 47.78139999999999 fan_{896} + 2389.0699999999993 compressor_{896} + 47.7814 fan_{897} + 2389.0699999999997 compressor_{897} + 47.7814 fan_{898} + 2389.0699999999997 compressor_{898} + 47.7814 fan_{899} + 2389.0699999999997 compressor_{899} + 47.978300000000004 fan_{900} + 2398.915 compressor_{900} + 47.978300000000004 fan_{901} + 2398.915 compressor_{901} + 47.978300000000004 fan_{902} + 2398.915 compressor_{902} + 47.978300000000004 fan_{903} + 2398.915 compressor_{903} + 47.978300000000004 fan_{904} + 2398.915 compressor_{904} + 47.978300000000004 fan_{905} + 2398.915 compressor_{905} + 47.97829999999999 fan_{906} + 2398.9149999999995 compressor_{906} + 47.978300000000004 fan_{907} + 2398.915 compressor_{907} + 47.978300000000004 fan_{908} + 2398.915 compressor_{908} + 47.978300000000004 fan_{909} + 2398.915 compressor_{909} + 47.978300000000004 fan_{910} + 2398.915 compressor_{910} + 47.97830000000001 fan_{911} + 2398.9150000000004 compressor_{911} + 47.978300000000004 fan_{912} + 2398.915 compressor_{912} + 47.978300000000004 fan_{913} + 2398.915 compressor_{913} + 47.978300000000004 fan_{914} + 2398.915 compressor_{914} + 47.97829999999999 fan_{915} + 2398.9149999999995 compressor_{915} + 47.97830000000001 fan_{916} + 2398.9150000000004 compressor_{916} + 47.978300000000004 fan_{917} + 2398.915 compressor_{917} + 47.978300000000004 fan_{918} + 2398.915 compressor_{918} + 47.978300000000004 fan_{919} + 2398.915 compressor_{919} + 47.97829999999999 fan_{920} + 2398.9149999999995 compressor_{920} + 47.978300000000004 fan_{921} + 2398.915 compressor_{921} + 47.978300000000004 fan_{922} + 2398.915 compressor_{922} + 47.978300000000004 fan_{923} + 2398.915 compressor_{923} + 47.978300000000004 fan_{924} + 2398.915 compressor_{924} + 47.978300000000004 fan_{925} + 2398.915 compressor_{925} + 47.978300000000004 fan_{926} + 2398.915 compressor_{926} + 47.978300000000004 fan_{927} + 2398.915 compressor_{927} + 47.978300000000004 fan_{928} + 2398.915 compressor_{928} + 47.978300000000004 fan_{929} + 2398.915 compressor_{929} + 47.978300000000004 fan_{930} + 2398.915 compressor_{930} + 47.978300000000004 fan_{931} + 2398.915 compressor_{931} + 47.978300000000004 fan_{932} + 2398.915 compressor_{932} + 47.978300000000004 fan_{933} + 2398.915 compressor_{933} + 47.978300000000004 fan_{934} + 2398.915 compressor_{934} + 47.978300000000004 fan_{935} + 2398.915 compressor_{935} + 47.978300000000004 fan_{936} + 2398.915 compressor_{936} + 47.978300000000004 fan_{937} + 2398.915 compressor_{937} + 47.978300000000004 fan_{938} + 2398.915 compressor_{938} + 47.978300000000004 fan_{939} + 2398.915 compressor_{939} + 47.978300000000004 fan_{940} + 2398.915 compressor_{940} + 47.978300000000004 fan_{941} + 2398.915 compressor_{941} + 47.978300000000004 fan_{942} + 2398.915 compressor_{942} + 47.978300000000004 fan_{943} + 2398.915 compressor_{943} + 47.978300000000004 fan_{944} + 2398.915 compressor_{944} + 47.978300000000004 fan_{945} + 2398.915 compressor_{945} + 47.978300000000004 fan_{946} + 2398.915 compressor_{946} + 47.978300000000004 fan_{947} + 2398.915 compressor_{947} + 47.978300000000004 fan_{948} + 2398.915 compressor_{948} + 47.978300000000004 fan_{949} + 2398.915 compressor_{949} + 47.97830000000001 fan_{950} + 2398.9150000000004 compressor_{950} + 47.978300000000004 fan_{951} + 2398.915 compressor_{951} + 47.978300000000004 fan_{952} + 2398.915 compressor_{952} + 47.978300000000004 fan_{953} + 2398.915 compressor_{953} + 47.978300000000004 fan_{954} + 2398.915 compressor_{954} + 47.978300000000004 fan_{955} + 2398.915 compressor_{955} + 47.978300000000004 fan_{956} + 2398.915 compressor_{956} + 47.978300000000004 fan_{957} + 2398.915 compressor_{957} + 47.978300000000004 fan_{958} + 2398.915 compressor_{958} + 47.978300000000004 fan_{959} + 2398.915 compressor_{959} + 47.67400000000001 fan_{960} + 2383.7000000000003 compressor_{960} + 47.67400000000001 fan_{961} + 2383.7000000000003 compressor_{961} + 47.67400000000001 fan_{962} + 2383.7000000000003 compressor_{962} + 47.67400000000001 fan_{963} + 2383.7000000000003 compressor_{963} + 47.67400000000001 fan_{964} + 2383.7000000000003 compressor_{964} + 47.67400000000001 fan_{965} + 2383.7000000000003 compressor_{965} + 47.67400000000001 fan_{966} + 2383.7000000000003 compressor_{966} + 47.67400000000001 fan_{967} + 2383.7000000000003 compressor_{967} + 47.67400000000001 fan_{968} + 2383.7000000000003 compressor_{968} + 47.67400000000001 fan_{969} + 2383.7000000000003 compressor_{969} + 47.67400000000001 fan_{970} + 2383.7000000000003 compressor_{970} + 47.67400000000001 fan_{971} + 2383.7000000000003 compressor_{971} + 47.67400000000001 fan_{972} + 2383.7000000000003 compressor_{972} + 47.67400000000001 fan_{973} + 2383.7000000000003 compressor_{973} + 47.67400000000001 fan_{974} + 2383.7000000000003 compressor_{974} + 47.67400000000001 fan_{975} + 2383.7000000000003 compressor_{975} + 47.67400000000001 fan_{976} + 2383.7000000000003 compressor_{976} + 47.67400000000001 fan_{977} + 2383.7000000000003 compressor_{977} + 47.67400000000001 fan_{978} + 2383.7000000000003 compressor_{978} + 47.67400000000001 fan_{979} + 2383.7000000000003 compressor_{979} + 47.67400000000001 fan_{980} + 2383.7000000000003 compressor_{980} + 47.67400000000001 fan_{981} + 2383.7000000000003 compressor_{981} + 47.67400000000001 fan_{982} + 2383.7000000000003 compressor_{982} + 47.67400000000001 fan_{983} + 2383.7000000000003 compressor_{983} + 47.67400000000001 fan_{984} + 2383.7000000000003 compressor_{984} + 47.67400000000001 fan_{985} + 2383.7000000000003 compressor_{985} + 47.67400000000001 fan_{986} + 2383.7000000000003 compressor_{986} + 47.67400000000001 fan_{987} + 2383.7000000000003 compressor_{987} + 47.67400000000001 fan_{988} + 2383.7000000000003 compressor_{988} + 47.67400000000001 fan_{989} + 2383.7000000000003 compressor_{989} + 47.67400000000001 fan_{990} + 2383.7000000000003 compressor_{990} + 47.67400000000001 fan_{991} + 2383.7000000000003 compressor_{991} + 47.67400000000001 fan_{992} + 2383.7000000000003 compressor_{992} + 47.67400000000001 fan_{993} + 2383.7000000000003 compressor_{993} + 47.67400000000001 fan_{994} + 2383.7000000000003 compressor_{994} + 47.67400000000001 fan_{995} + 2383.7000000000003 compressor_{995} + 47.67400000000001 fan_{996} + 2383.7000000000003 compressor_{996} + 47.67400000000001 fan_{997} + 2383.7000000000003 compressor_{997} + 47.67400000000001 fan_{998} + 2383.7000000000003 compressor_{998} + 47.67400000000001 fan_{999} + 2383.7000000000003 compressor_{999} + 47.67400000000001 fan_{1000} + 2383.7000000000003 compressor_{1000} + 47.67400000000001 fan_{1001} + 2383.7000000000003 compressor_{1001} + 47.67400000000001 fan_{1002} + 2383.7000000000003 compressor_{1002} + 47.67400000000001 fan_{1003} + 2383.7000000000003 compressor_{1003} + 47.67400000000001 fan_{1004} + 2383.7000000000003 compressor_{1004} + 47.67400000000001 fan_{1005} + 2383.7000000000003 compressor_{1005} + 47.67400000000001 fan_{1006} + 2383.7000000000003 compressor_{1006} + 47.67400000000001 fan_{1007} + 2383.7000000000003 compressor_{1007} + 47.67400000000001 fan_{1008} + 2383.7000000000003 compressor_{1008} + 47.67400000000001 fan_{1009} + 2383.7000000000003 compressor_{1009} + 47.67400000000001 fan_{1010} + 2383.7000000000003 compressor_{1010} + 47.67400000000001 fan_{1011} + 2383.7000000000003 compressor_{1011} + 47.67400000000001 fan_{1012} + 2383.7000000000003 compressor_{1012} + 47.67400000000001 fan_{1013} + 2383.7000000000003 compressor_{1013} + 47.67400000000001 fan_{1014} + 2383.7000000000003 compressor_{1014} + 47.67400000000001 fan_{1015} + 2383.7000000000003 compressor_{1015} + 47.67400000000001 fan_{1016} + 2383.7000000000003 compressor_{1016} + 47.67400000000001 fan_{1017} + 2383.7000000000003 compressor_{1017} + 47.67400000000001 fan_{1018} + 2383.7000000000003 compressor_{1018} + 47.67400000000001 fan_{1019} + 2383.7000000000003 compressor_{1019} + 47.3724 fan_{1020} + 2368.62 compressor_{1020} + 47.3724 fan_{1021} + 2368.62 compressor_{1021} + 47.3724 fan_{1022} + 2368.62 compressor_{1022} + 47.3724 fan_{1023} + 2368.62 compressor_{1023} + 47.3724 fan_{1024} + 2368.62 compressor_{1024} + 47.3724 fan_{1025} + 2368.62 compressor_{1025} + 47.3724 fan_{1026} + 2368.62 compressor_{1026} + 47.3724 fan_{1027} + 2368.62 compressor_{1027} + 47.372400000000006 fan_{1028} + 2368.6200000000003 compressor_{1028} + 47.372400000000006 fan_{1029} + 2368.6200000000003 compressor_{1029} + 47.3724 fan_{1030} + 2368.62 compressor_{1030} + 47.3724 fan_{1031} + 2368.62 compressor_{1031} + 47.3724 fan_{1032} + 2368.62 compressor_{1032} + 47.3724 fan_{1033} + 2368.62 compressor_{1033} + 47.3724 fan_{1034} + 2368.62 compressor_{1034} + 47.3724 fan_{1035} + 2368.62 compressor_{1035} + 47.3724 fan_{1036} + 2368.62 compressor_{1036} + 47.3724 fan_{1037} + 2368.62 compressor_{1037} + 47.3724 fan_{1038} + 2368.62 compressor_{1038} + 47.3724 fan_{1039} + 2368.62 compressor_{1039} + 47.3724 fan_{1040} + 2368.62 compressor_{1040} + 47.3724 fan_{1041} + 2368.62 compressor_{1041} + 47.3724 fan_{1042} + 2368.62 compressor_{1042} + 47.3724 fan_{1043} + 2368.62 compressor_{1043} + 47.3724 fan_{1044} + 2368.62 compressor_{1044} + 47.3724 fan_{1045} + 2368.62 compressor_{1045} + 47.3724 fan_{1046} + 2368.62 compressor_{1046} + 47.3724 fan_{1047} + 2368.62 compressor_{1047} + 47.3724 fan_{1048} + 2368.62 compressor_{1048} + 47.3724 fan_{1049} + 2368.62 compressor_{1049} + 47.3724 fan_{1050} + 2368.62 compressor_{1050} + 47.3724 fan_{1051} + 2368.62 compressor_{1051} + 47.3724 fan_{1052} + 2368.62 compressor_{1052} + 47.3724 fan_{1053} + 2368.62 compressor_{1053} + 47.3724 fan_{1054} + 2368.62 compressor_{1054} + 47.3724 fan_{1055} + 2368.62 compressor_{1055} + 47.3724 fan_{1056} + 2368.62 compressor_{1056} + 47.3724 fan_{1057} + 2368.62 compressor_{1057} + 47.3724 fan_{1058} + 2368.62 compressor_{1058} + 47.3724 fan_{1059} + 2368.62 compressor_{1059} + 47.3724 fan_{1060} + 2368.62 compressor_{1060} + 47.3724 fan_{1061} + 2368.62 compressor_{1061} + 47.3724 fan_{1062} + 2368.62 compressor_{1062} + 47.3724 fan_{1063} + 2368.62 compressor_{1063} + 47.3724 fan_{1064} + 2368.62 compressor_{1064} + 47.3724 fan_{1065} + 2368.62 compressor_{1065} + 47.3724 fan_{1066} + 2368.62 compressor_{1066} + 47.3724 fan_{1067} + 2368.62 compressor_{1067} + 47.3724 fan_{1068} + 2368.62 compressor_{1068} + 47.3724 fan_{1069} + 2368.62 compressor_{1069} + 47.3724 fan_{1070} + 2368.62 compressor_{1070} + 47.3724 fan_{1071} + 2368.62 compressor_{1071} + 47.3724 fan_{1072} + 2368.62 compressor_{1072} + 47.3724 fan_{1073} + 2368.62 compressor_{1073} + 47.3724 fan_{1074} + 2368.62 compressor_{1074} + 47.3724 fan_{1075} + 2368.62 compressor_{1075} + 47.3724 fan_{1076} + 2368.62 compressor_{1076} + 47.3724 fan_{1077} + 2368.62 compressor_{1077} + 47.3724 fan_{1078} + 2368.62 compressor_{1078} + 47.3724 fan_{1079} + 2368.62 compressor_{1079} + 47.258399999999995 fan_{1080} + 2362.92 compressor_{1080} + 47.258399999999995 fan_{1081} + 2362.92 compressor_{1081} + 47.258399999999995 fan_{1082} + 2362.92 compressor_{1082} + 47.258399999999995 fan_{1083} + 2362.92 compressor_{1083} + 47.258399999999995 fan_{1084} + 2362.92 compressor_{1084} + 47.258399999999995 fan_{1085} + 2362.92 compressor_{1085} + 47.25840000000001 fan_{1086} + 2362.9200000000005 compressor_{1086} + 47.258399999999995 fan_{1087} + 2362.92 compressor_{1087} + 47.258399999999995 fan_{1088} + 2362.92 compressor_{1088} + 47.258399999999995 fan_{1089} + 2362.92 compressor_{1089} + 47.258399999999995 fan_{1090} + 2362.92 compressor_{1090} + 47.258399999999995 fan_{1091} + 2362.92 compressor_{1091} + 47.258399999999995 fan_{1092} + 2362.92 compressor_{1092} + 47.258399999999995 fan_{1093} + 2362.92 compressor_{1093} + 47.258399999999995 fan_{1094} + 2362.92 compressor_{1094} + 47.258399999999995 fan_{1095} + 2362.92 compressor_{1095} + 47.258399999999995 fan_{1096} + 2362.92 compressor_{1096} + 47.258399999999995 fan_{1097} + 2362.92 compressor_{1097} + 47.258399999999995 fan_{1098} + 2362.92 compressor_{1098} + 47.258399999999995 fan_{1099} + 2362.92 compressor_{1099} + 47.258399999999995 fan_{1100} + 2362.92 compressor_{1100} + 47.258399999999995 fan_{1101} + 2362.92 compressor_{1101} + 47.258399999999995 fan_{1102} + 2362.92 compressor_{1102} + 47.258399999999995 fan_{1103} + 2362.92 compressor_{1103} + 47.258399999999995 fan_{1104} + 2362.92 compressor_{1104} + 47.258399999999995 fan_{1105} + 2362.92 compressor_{1105} + 47.258399999999995 fan_{1106} + 2362.92 compressor_{1106} + 47.258399999999995 fan_{1107} + 2362.92 compressor_{1107} + 47.258399999999995 fan_{1108} + 2362.92 compressor_{1108} + 47.258399999999995 fan_{1109} + 2362.92 compressor_{1109} + 47.258399999999995 fan_{1110} + 2362.92 compressor_{1110} + 47.258399999999995 fan_{1111} + 2362.92 compressor_{1111} + 47.258399999999995 fan_{1112} + 2362.92 compressor_{1112} + 47.258399999999995 fan_{1113} + 2362.92 compressor_{1113} + 47.258399999999995 fan_{1114} + 2362.92 compressor_{1114} + 47.258399999999995 fan_{1115} + 2362.92 compressor_{1115} + 47.258399999999995 fan_{1116} + 2362.92 compressor_{1116} + 47.258399999999995 fan_{1117} + 2362.92 compressor_{1117} + 47.258399999999995 fan_{1118} + 2362.92 compressor_{1118} + 47.258399999999995 fan_{1119} + 2362.92 compressor_{1119} + 47.258399999999995 fan_{1120} + 2362.92 compressor_{1120} + 47.258399999999995 fan_{1121} + 2362.92 compressor_{1121} + 47.258399999999995 fan_{1122} + 2362.92 compressor_{1122} + 47.258399999999995 fan_{1123} + 2362.92 compressor_{1123} + 47.258399999999995 fan_{1124} + 2362.92 compressor_{1124} + 47.258399999999995 fan_{1125} + 2362.92 compressor_{1125} + 47.258399999999995 fan_{1126} + 2362.92 compressor_{1126} + 47.258399999999995 fan_{1127} + 2362.92 compressor_{1127} + 47.258399999999995 fan_{1128} + 2362.92 compressor_{1128} + 47.258399999999995 fan_{1129} + 2362.92 compressor_{1129} + 47.258399999999995 fan_{1130} + 2362.92 compressor_{1130} + 47.258399999999995 fan_{1131} + 2362.92 compressor_{1131} + 47.258399999999995 fan_{1132} + 2362.92 compressor_{1132} + 47.258399999999995 fan_{1133} + 2362.92 compressor_{1133} + 47.258399999999995 fan_{1134} + 2362.92 compressor_{1134} + 47.258399999999995 fan_{1135} + 2362.92 compressor_{1135} + 47.258399999999995 fan_{1136} + 2362.92 compressor_{1136} + 47.258399999999995 fan_{1137} + 2362.92 compressor_{1137} + 47.258399999999995 fan_{1138} + 2362.92 compressor_{1138} + 47.258399999999995 fan_{1139} + 2362.92 compressor_{1139} + 47.316700000000004 fan_{1140} + 2365.835 compressor_{1140} + 47.316700000000004 fan_{1141} + 2365.835 compressor_{1141} + 47.316700000000004 fan_{1142} + 2365.835 compressor_{1142} + 47.316700000000004 fan_{1143} + 2365.835 compressor_{1143} + 47.316700000000004 fan_{1144} + 2365.835 compressor_{1144} + 47.316700000000004 fan_{1145} + 2365.835 compressor_{1145} + 47.316700000000004 fan_{1146} + 2365.835 compressor_{1146} + 47.316700000000004 fan_{1147} + 2365.835 compressor_{1147} + 47.316700000000004 fan_{1148} + 2365.835 compressor_{1148} + 47.31670000000001 fan_{1149} + 2365.8350000000005 compressor_{1149} + 47.316700000000004 fan_{1150} + 2365.835 compressor_{1150} + 47.316700000000004 fan_{1151} + 2365.835 compressor_{1151} + 47.316700000000004 fan_{1152} + 2365.835 compressor_{1152} + 47.316700000000004 fan_{1153} + 2365.835 compressor_{1153} + 47.316700000000004 fan_{1154} + 2365.835 compressor_{1154} + 47.316700000000004 fan_{1155} + 2365.835 compressor_{1155} + 47.316700000000004 fan_{1156} + 2365.835 compressor_{1156} + 47.316700000000004 fan_{1157} + 2365.835 compressor_{1157} + 47.31670000000001 fan_{1158} + 2365.8350000000005 compressor_{1158} + 47.316700000000004 fan_{1159} + 2365.835 compressor_{1159} + 47.31670000000001 fan_{1160} + 2365.8350000000005 compressor_{1160} + 47.316700000000004 fan_{1161} + 2365.835 compressor_{1161} + 47.316700000000004 fan_{1162} + 2365.835 compressor_{1162} + 47.316700000000004 fan_{1163} + 2365.835 compressor_{1163} + 47.316700000000004 fan_{1164} + 2365.835 compressor_{1164} + 47.316700000000004 fan_{1165} + 2365.835 compressor_{1165} + 47.316700000000004 fan_{1166} + 2365.835 compressor_{1166} + 47.316700000000004 fan_{1167} + 2365.835 compressor_{1167} + 47.316700000000004 fan_{1168} + 2365.835 compressor_{1168} + 47.316700000000004 fan_{1169} + 2365.835 compressor_{1169} + 47.316700000000004 fan_{1170} + 2365.835 compressor_{1170} + 47.316700000000004 fan_{1171} + 2365.835 compressor_{1171} + 47.316700000000004 fan_{1172} + 2365.835 compressor_{1172} + 47.316700000000004 fan_{1173} + 2365.835 compressor_{1173} + 47.316700000000004 fan_{1174} + 2365.835 compressor_{1174} + 47.316700000000004 fan_{1175} + 2365.835 compressor_{1175} + 47.316700000000004 fan_{1176} + 2365.835 compressor_{1176} + 47.316700000000004 fan_{1177} + 2365.835 compressor_{1177} + 47.316700000000004 fan_{1178} + 2365.835 compressor_{1178} + 47.316700000000004 fan_{1179} + 2365.835 compressor_{1179} + 47.316700000000004 fan_{1180} + 2365.835 compressor_{1180} + 47.316700000000004 fan_{1181} + 2365.835 compressor_{1181} + 47.316700000000004 fan_{1182} + 2365.835 compressor_{1182} + 47.316700000000004 fan_{1183} + 2365.835 compressor_{1183} + 47.316700000000004 fan_{1184} + 2365.835 compressor_{1184} + 47.316700000000004 fan_{1185} + 2365.835 compressor_{1185} + 47.316700000000004 fan_{1186} + 2365.835 compressor_{1186} + 47.316700000000004 fan_{1187} + 2365.835 compressor_{1187} + 47.316700000000004 fan_{1188} + 2365.835 compressor_{1188} + 47.316700000000004 fan_{1189} + 2365.835 compressor_{1189} + 47.316700000000004 fan_{1190} + 2365.835 compressor_{1190} + 47.316700000000004 fan_{1191} + 2365.835 compressor_{1191} + 47.316700000000004 fan_{1192} + 2365.835 compressor_{1192} + 47.316700000000004 fan_{1193} + 2365.835 compressor_{1193} + 47.316700000000004 fan_{1194} + 2365.835 compressor_{1194} + 47.316700000000004 fan_{1195} + 2365.835 compressor_{1195} + 47.316700000000004 fan_{1196} + 2365.835 compressor_{1196} + 47.316700000000004 fan_{1197} + 2365.835 compressor_{1197} + 47.316700000000004 fan_{1198} + 2365.835 compressor_{1198} + 47.316700000000004 fan_{1199} + 2365.835 compressor_{1199} + 47.3894 fan_{1200} + 2369.4700000000003 compressor_{1200} + 47.3894 fan_{1201} + 2369.4700000000003 compressor_{1201} + 47.3894 fan_{1202} + 2369.4700000000003 compressor_{1202} + 47.3894 fan_{1203} + 2369.4700000000003 compressor_{1203} + 47.3894 fan_{1204} + 2369.4700000000003 compressor_{1204} + 47.3894 fan_{1205} + 2369.4700000000003 compressor_{1205} + 47.3894 fan_{1206} + 2369.4700000000003 compressor_{1206} + 47.3894 fan_{1207} + 2369.4700000000003 compressor_{1207} + 47.3894 fan_{1208} + 2369.4700000000003 compressor_{1208} + 47.38940000000001 fan_{1209} + 2369.4700000000007 compressor_{1209} + 47.38940000000001 fan_{1210} + 2369.4700000000007 compressor_{1210} + 47.3894 fan_{1211} + 2369.4700000000003 compressor_{1211} + 47.3894 fan_{1212} + 2369.4700000000003 compressor_{1212} + 47.3894 fan_{1213} + 2369.4700000000003 compressor_{1213} + 47.3894 fan_{1214} + 2369.4700000000003 compressor_{1214} + 47.3894 fan_{1215} + 2369.4700000000003 compressor_{1215} + 47.3894 fan_{1216} + 2369.4700000000003 compressor_{1216} + 47.389399999999995 fan_{1217} + 2369.47 compressor_{1217} + 47.3894 fan_{1218} + 2369.4700000000003 compressor_{1218} + 47.389399999999995 fan_{1219} + 2369.47 compressor_{1219} + 47.3894 fan_{1220} + 2369.4700000000003 compressor_{1220} + 47.3894 fan_{1221} + 2369.4700000000003 compressor_{1221} + 47.3894 fan_{1222} + 2369.4700000000003 compressor_{1222} + 47.3894 fan_{1223} + 2369.4700000000003 compressor_{1223} + 47.3894 fan_{1224} + 2369.4700000000003 compressor_{1224} + 47.3894 fan_{1225} + 2369.4700000000003 compressor_{1225} + 47.3894 fan_{1226} + 2369.4700000000003 compressor_{1226} + 47.3894 fan_{1227} + 2369.4700000000003 compressor_{1227} + 47.3894 fan_{1228} + 2369.4700000000003 compressor_{1228} + 47.3894 fan_{1229} + 2369.4700000000003 compressor_{1229} + 47.3894 fan_{1230} + 2369.4700000000003 compressor_{1230} + 47.3894 fan_{1231} + 2369.4700000000003 compressor_{1231} + 47.3894 fan_{1232} + 2369.4700000000003 compressor_{1232} + 47.3894 fan_{1233} + 2369.4700000000003 compressor_{1233} + 47.3894 fan_{1234} + 2369.4700000000003 compressor_{1234} + 47.3894 fan_{1235} + 2369.4700000000003 compressor_{1235} + 47.3894 fan_{1236} + 2369.4700000000003 compressor_{1236} + 47.3894 fan_{1237} + 2369.4700000000003 compressor_{1237} + 47.3894 fan_{1238} + 2369.4700000000003 compressor_{1238} + 47.3894 fan_{1239} + 2369.4700000000003 compressor_{1239} + 47.3894 fan_{1240} + 2369.4700000000003 compressor_{1240} + 47.3894 fan_{1241} + 2369.4700000000003 compressor_{1241} + 47.3894 fan_{1242} + 2369.4700000000003 compressor_{1242} + 47.3894 fan_{1243} + 2369.4700000000003 compressor_{1243} + 47.3894 fan_{1244} + 2369.4700000000003 compressor_{1244} + 47.3894 fan_{1245} + 2369.4700000000003 compressor_{1245} + 47.3894 fan_{1246} + 2369.4700000000003 compressor_{1246} + 47.3894 fan_{1247} + 2369.4700000000003 compressor_{1247} + 47.3894 fan_{1248} + 2369.4700000000003 compressor_{1248} + 47.3894 fan_{1249} + 2369.4700000000003 compressor_{1249} + 47.3894 fan_{1250} + 2369.4700000000003 compressor_{1250} + 47.3894 fan_{1251} + 2369.4700000000003 compressor_{1251} + 47.38940000000001 fan_{1252} + 2369.4700000000007 compressor_{1252} + 47.3894 fan_{1253} + 2369.4700000000003 compressor_{1253} + 47.3894 fan_{1254} + 2369.4700000000003 compressor_{1254} + 47.3894 fan_{1255} + 2369.4700000000003 compressor_{1255} + 47.3894 fan_{1256} + 2369.4700000000003 compressor_{1256} + 47.3894 fan_{1257} + 2369.4700000000003 compressor_{1257} + 47.3894 fan_{1258} + 2369.4700000000003 compressor_{1258} + 47.3894 fan_{1259} + 2369.4700000000003 compressor_{1259} + 47.544000000000004 fan_{1260} + 2377.2000000000003 compressor_{1260} + 47.544000000000004 fan_{1261} + 2377.2000000000003 compressor_{1261} + 47.544000000000004 fan_{1262} + 2377.2000000000003 compressor_{1262} + 47.544000000000004 fan_{1263} + 2377.2000000000003 compressor_{1263} + 47.544000000000004 fan_{1264} + 2377.2000000000003 compressor_{1264} + 47.544000000000004 fan_{1265} + 2377.2000000000003 compressor_{1265} + 47.544000000000004 fan_{1266} + 2377.2000000000003 compressor_{1266} + 47.544000000000004 fan_{1267} + 2377.2000000000003 compressor_{1267} + 47.544000000000004 fan_{1268} + 2377.2000000000003 compressor_{1268} + 47.544000000000004 fan_{1269} + 2377.2000000000003 compressor_{1269} + 47.544000000000004 fan_{1270} + 2377.2000000000003 compressor_{1270} + 47.544000000000004 fan_{1271} + 2377.2000000000003 compressor_{1271} + 47.544000000000004 fan_{1272} + 2377.2000000000003 compressor_{1272} + 47.544000000000004 fan_{1273} + 2377.2000000000003 compressor_{1273} + 47.544000000000004 fan_{1274} + 2377.2000000000003 compressor_{1274} + 47.544000000000004 fan_{1275} + 2377.2000000000003 compressor_{1275} + 47.544000000000004 fan_{1276} + 2377.2000000000003 compressor_{1276} + 47.544000000000004 fan_{1277} + 2377.2000000000003 compressor_{1277} + 47.544000000000004 fan_{1278} + 2377.2000000000003 compressor_{1278} + 47.544000000000004 fan_{1279} + 2377.2000000000003 compressor_{1279} + 47.544000000000004 fan_{1280} + 2377.2000000000003 compressor_{1280} + 47.544000000000004 fan_{1281} + 2377.2000000000003 compressor_{1281} + 47.544000000000004 fan_{1282} + 2377.2000000000003 compressor_{1282} + 47.544000000000004 fan_{1283} + 2377.2000000000003 compressor_{1283} + 47.544000000000004 fan_{1284} + 2377.2000000000003 compressor_{1284} + 47.544000000000004 fan_{1285} + 2377.2000000000003 compressor_{1285} + 47.544000000000004 fan_{1286} + 2377.2000000000003 compressor_{1286} + 47.544000000000004 fan_{1287} + 2377.2000000000003 compressor_{1287} + 47.544000000000004 fan_{1288} + 2377.2000000000003 compressor_{1288} + 47.544000000000004 fan_{1289} + 2377.2000000000003 compressor_{1289} + 47.544000000000004 fan_{1290} + 2377.2000000000003 compressor_{1290} + 47.544000000000004 fan_{1291} + 2377.2000000000003 compressor_{1291} + 47.544000000000004 fan_{1292} + 2377.2000000000003 compressor_{1292} + 47.544000000000004 fan_{1293} + 2377.2000000000003 compressor_{1293} + 47.544000000000004 fan_{1294} + 2377.2000000000003 compressor_{1294} + 47.544000000000004 fan_{1295} + 2377.2000000000003 compressor_{1295} + 47.544000000000004 fan_{1296} + 2377.2000000000003 compressor_{1296} + 47.544000000000004 fan_{1297} + 2377.2000000000003 compressor_{1297} + 47.544000000000004 fan_{1298} + 2377.2000000000003 compressor_{1298} + 47.544000000000004 fan_{1299} + 2377.2000000000003 compressor_{1299} + 47.544000000000004 fan_{1300} + 2377.2000000000003 compressor_{1300} + 47.544000000000004 fan_{1301} + 2377.2000000000003 compressor_{1301} + 47.544000000000004 fan_{1302} + 2377.2000000000003 compressor_{1302} + 47.544000000000004 fan_{1303} + 2377.2000000000003 compressor_{1303} + 47.544000000000004 fan_{1304} + 2377.2000000000003 compressor_{1304} + 47.544000000000004 fan_{1305} + 2377.2000000000003 compressor_{1305} + 47.544000000000004 fan_{1306} + 2377.2000000000003 compressor_{1306} + 47.544000000000004 fan_{1307} + 2377.2000000000003 compressor_{1307} + 47.544000000000004 fan_{1308} + 2377.2000000000003 compressor_{1308} + 47.544000000000004 fan_{1309} + 2377.2000000000003 compressor_{1309} + 47.544000000000004 fan_{1310} + 2377.2000000000003 compressor_{1310} + 47.544000000000004 fan_{1311} + 2377.2000000000003 compressor_{1311} + 47.544000000000004 fan_{1312} + 2377.2000000000003 compressor_{1312} + 47.544000000000004 fan_{1313} + 2377.2000000000003 compressor_{1313} + 47.544000000000004 fan_{1314} + 2377.2000000000003 compressor_{1314} + 47.544000000000004 fan_{1315} + 2377.2000000000003 compressor_{1315} + 47.544000000000004 fan_{1316} + 2377.2000000000003 compressor_{1316} + 47.544000000000004 fan_{1317} + 2377.2000000000003 compressor_{1317} + 47.544000000000004 fan_{1318} + 2377.2000000000003 compressor_{1318} + 47.544000000000004 fan_{1319} + 2377.2000000000003 compressor_{1319} + 47.531800000000004 fan_{1320} + 2376.59 compressor_{1320} + 47.531800000000004 fan_{1321} + 2376.59 compressor_{1321} + 47.531800000000004 fan_{1322} + 2376.59 compressor_{1322} + 47.531800000000004 fan_{1323} + 2376.59 compressor_{1323} + 47.531800000000004 fan_{1324} + 2376.59 compressor_{1324} + 47.531800000000004 fan_{1325} + 2376.59 compressor_{1325} + 47.531800000000004 fan_{1326} + 2376.59 compressor_{1326} + 47.531800000000004 fan_{1327} + 2376.59 compressor_{1327} + 47.531800000000004 fan_{1328} + 2376.59 compressor_{1328} + 47.531800000000004 fan_{1329} + 2376.59 compressor_{1329} + 47.531800000000004 fan_{1330} + 2376.59 compressor_{1330} + 47.531800000000004 fan_{1331} + 2376.59 compressor_{1331} + 47.531800000000004 fan_{1332} + 2376.59 compressor_{1332} + 47.531800000000004 fan_{1333} + 2376.59 compressor_{1333} + 47.531800000000004 fan_{1334} + 2376.59 compressor_{1334} + 47.531800000000004 fan_{1335} + 2376.59 compressor_{1335} + 47.531800000000004 fan_{1336} + 2376.59 compressor_{1336} + 47.531800000000004 fan_{1337} + 2376.59 compressor_{1337} + 47.531800000000004 fan_{1338} + 2376.59 compressor_{1338} + 47.531800000000004 fan_{1339} + 2376.59 compressor_{1339} + 47.531800000000004 fan_{1340} + 2376.59 compressor_{1340} + 47.531800000000004 fan_{1341} + 2376.59 compressor_{1341} + 47.531800000000004 fan_{1342} + 2376.59 compressor_{1342} + 47.531800000000004 fan_{1343} + 2376.59 compressor_{1343} + 47.531800000000004 fan_{1344} + 2376.59 compressor_{1344} + 47.531800000000004 fan_{1345} + 2376.59 compressor_{1345} + 47.531800000000004 fan_{1346} + 2376.59 compressor_{1346} + 47.531800000000004 fan_{1347} + 2376.59 compressor_{1347} + 47.531800000000004 fan_{1348} + 2376.59 compressor_{1348} + 47.531800000000004 fan_{1349} + 2376.59 compressor_{1349} + 47.531800000000004 fan_{1350} + 2376.59 compressor_{1350} + 47.531800000000004 fan_{1351} + 2376.59 compressor_{1351} + 47.531800000000004 fan_{1352} + 2376.59 compressor_{1352} + 47.531800000000004 fan_{1353} + 2376.59 compressor_{1353} + 47.531800000000004 fan_{1354} + 2376.59 compressor_{1354} + 47.531800000000004 fan_{1355} + 2376.59 compressor_{1355} + 47.531800000000004 fan_{1356} + 2376.59 compressor_{1356} + 47.531800000000004 fan_{1357} + 2376.59 compressor_{1357} + 47.531800000000004 fan_{1358} + 2376.59 compressor_{1358} + 47.531800000000004 fan_{1359} + 2376.59 compressor_{1359} + 47.531800000000004 fan_{1360} + 2376.59 compressor_{1360} + 47.531800000000004 fan_{1361} + 2376.59 compressor_{1361} + 47.531800000000004 fan_{1362} + 2376.59 compressor_{1362} + 47.531800000000004 fan_{1363} + 2376.59 compressor_{1363} + 47.531800000000004 fan_{1364} + 2376.59 compressor_{1364} + 47.531800000000004 fan_{1365} + 2376.59 compressor_{1365} + 47.531800000000004 fan_{1366} + 2376.59 compressor_{1366} + 47.531800000000004 fan_{1367} + 2376.59 compressor_{1367} + 47.531800000000004 fan_{1368} + 2376.59 compressor_{1368} + 47.531800000000004 fan_{1369} + 2376.59 compressor_{1369} + 47.531800000000004 fan_{1370} + 2376.59 compressor_{1370} + 47.531800000000004 fan_{1371} + 2376.59 compressor_{1371} + 47.531800000000004 fan_{1372} + 2376.59 compressor_{1372} + 47.531800000000004 fan_{1373} + 2376.59 compressor_{1373} + 47.531800000000004 fan_{1374} + 2376.59 compressor_{1374} + 47.531800000000004 fan_{1375} + 2376.59 compressor_{1375} + 47.531800000000004 fan_{1376} + 2376.59 compressor_{1376} + 47.531800000000004 fan_{1377} + 2376.59 compressor_{1377} + 47.531800000000004 fan_{1378} + 2376.59 compressor_{1378} + 47.531800000000004 fan_{1379} + 2376.59 compressor_{1379} + 46.1478 fan_{1380} + 2307.39 compressor_{1380} + 46.1478 fan_{1381} + 2307.39 compressor_{1381} + 46.1478 fan_{1382} + 2307.39 compressor_{1382} + 46.1478 fan_{1383} + 2307.39 compressor_{1383} + 46.1478 fan_{1384} + 2307.39 compressor_{1384} + 46.1478 fan_{1385} + 2307.39 compressor_{1385} + 46.1478 fan_{1386} + 2307.39 compressor_{1386} + 46.1478 fan_{1387} + 2307.39 compressor_{1387} + 46.1478 fan_{1388} + 2307.39 compressor_{1388} + 46.1478 fan_{1389} + 2307.39 compressor_{1389} + 46.1478 fan_{1390} + 2307.39 compressor_{1390} + 46.1478 fan_{1391} + 2307.39 compressor_{1391} + 46.1478 fan_{1392} + 2307.39 compressor_{1392} + 46.1478 fan_{1393} + 2307.39 compressor_{1393} + 46.1478 fan_{1394} + 2307.39 compressor_{1394} + 46.1478 fan_{1395} + 2307.39 compressor_{1395} + 46.1478 fan_{1396} + 2307.39 compressor_{1396} + 46.1478 fan_{1397} + 2307.39 compressor_{1397} + 46.1478 fan_{1398} + 2307.39 compressor_{1398} + 46.1478 fan_{1399} + 2307.39 compressor_{1399} + 46.1478 fan_{1400} + 2307.39 compressor_{1400} + 46.1478 fan_{1401} + 2307.39 compressor_{1401} + 46.1478 fan_{1402} + 2307.39 compressor_{1402} + 46.1478 fan_{1403} + 2307.39 compressor_{1403} + 46.1478 fan_{1404} + 2307.39 compressor_{1404} + 46.1478 fan_{1405} + 2307.39 compressor_{1405} + 46.1478 fan_{1406} + 2307.39 compressor_{1406} + 46.1478 fan_{1407} + 2307.39 compressor_{1407} + 46.1478 fan_{1408} + 2307.39 compressor_{1408} + 46.1478 fan_{1409} + 2307.39 compressor_{1409} + 46.1478 fan_{1410} + 2307.39 compressor_{1410} + 46.1478 fan_{1411} + 2307.39 compressor_{1411} + 46.1478 fan_{1412} + 2307.39 compressor_{1412} + 46.1478 fan_{1413} + 2307.39 compressor_{1413} + 46.1478 fan_{1414} + 2307.39 compressor_{1414} + 46.1478 fan_{1415} + 2307.39 compressor_{1415} + 46.1478 fan_{1416} + 2307.39 compressor_{1416} + 46.1478 fan_{1417} + 2307.39 compressor_{1417} + 46.1478 fan_{1418} + 2307.39 compressor_{1418} + 46.1478 fan_{1419} + 2307.39 compressor_{1419} + 46.1478 fan_{1420} + 2307.39 compressor_{1420} + 46.1478 fan_{1421} + 2307.39 compressor_{1421} + 46.1478 fan_{1422} + 2307.39 compressor_{1422} + 46.1478 fan_{1423} + 2307.39 compressor_{1423} + 46.1478 fan_{1424} + 2307.39 compressor_{1424} + 46.1478 fan_{1425} + 2307.39 compressor_{1425} + 46.1478 fan_{1426} + 2307.39 compressor_{1426} + 46.1478 fan_{1427} + 2307.39 compressor_{1427} + 46.1478 fan_{1428} + 2307.39 compressor_{1428} + 46.1478 fan_{1429} + 2307.39 compressor_{1429} + 46.1478 fan_{1430} + 2307.39 compressor_{1430} + 46.1478 fan_{1431} + 2307.39 compressor_{1431} + 46.1478 fan_{1432} + 2307.39 compressor_{1432} + 46.1478 fan_{1433} + 2307.39 compressor_{1433} + 46.1478 fan_{1434} + 2307.39 compressor_{1434} + 46.1478 fan_{1435} + 2307.39 compressor_{1435} + 46.1478 fan_{1436} + 2307.39 compressor_{1436} + 46.1478 fan_{1437} + 2307.39 compressor_{1437} + 46.1478 fan_{1438} + 2307.39 compressor_{1438} + 46.1478 fan_{1439} + 2307.39 compressor_{1439} + 44.1704 fan_{1440} + 2208.52 compressor_{1440} $$"
      ],
      "text/plain": [
       "44.1704 fan[1] + 2208.52 compressor[1] + 44.1704 fan[2] + 2208.52 compressor[2] + 44.17040000000001 fan[3] + 2208.5200000000004 compressor[3] + 44.170399999999994 fan[4] + 2208.5199999999995 compressor[4] + 44.1704 fan[5] + 2208.52 compressor[5] + 44.1704 fan[6] + 2208.52 compressor[6] + 44.1704 fan[7] + 2208.52 compressor[7] + 44.1704 fan[8] + 2208.52 compressor[8] + 44.1704 fan[9] + 2208.52 compressor[9] + 44.1704 fan[10] + 2208.52 compressor[10] + 44.1704 fan[11] + 2208.52 compressor[11] + 44.1704 fan[12] + 2208.52 compressor[12] + 44.1704 fan[13] + 2208.52 compressor[13] + 44.1704 fan[14] + 2208.52 compressor[14] + 44.1704 fan[15] + 2208.52 compressor[15] + 44.1704 fan[16] + 2208.52 compressor[16] + 44.1704 fan[17] + 2208.52 compressor[17] + 44.1704 fan[18] + 2208.52 compressor[18] + 44.1704 fan[19] + 2208.52 compressor[19] + 44.1704 fan[20] + 2208.52 compressor[20] + 44.1704 fan[21] + 2208.52 compressor[21] + 44.1704 fan[22] + 2208.52 compressor[22] + 44.1704 fan[23] + 2208.52 compressor[23] + 44.1704 fan[24] + 2208.52 compressor[24] + 44.1704 fan[25] + 2208.52 compressor[25] + 44.1704 fan[26] + 2208.52 compressor[26] + 44.1704 fan[27] + 2208.52 compressor[27] + 44.1704 fan[28] + 2208.52 compressor[28] + 44.1704 fan[29] + 2208.52 compressor[29] + 44.1704 fan[30] + 2208.52 compressor[30] + 44.1704 fan[31] + 2208.52 compressor[31] + 44.1704 fan[32] + 2208.52 compressor[32] + 44.1704 fan[33] + 2208.52 compressor[33] + 44.1704 fan[34] + 2208.52 compressor[34] + 44.1704 fan[35] + 2208.52 compressor[35] + 44.1704 fan[36] + 2208.52 compressor[36] + 44.1704 fan[37] + 2208.52 compressor[37] + 44.1704 fan[38] + 2208.52 compressor[38] + 44.1704 fan[39] + 2208.52 compressor[39] + 44.1704 fan[40] + 2208.52 compressor[40] + 44.1704 fan[41] + 2208.52 compressor[41] + 44.1704 fan[42] + 2208.52 compressor[42] + 44.1704 fan[43] + 2208.52 compressor[43] + 44.1704 fan[44] + 2208.52 compressor[44] + 44.1704 fan[45] + 2208.52 compressor[45] + 44.1704 fan[46] + 2208.52 compressor[46] + 44.1704 fan[47] + 2208.52 compressor[47] + 44.1704 fan[48] + 2208.52 compressor[48] + 44.1704 fan[49] + 2208.52 compressor[49] + 44.1704 fan[50] + 2208.52 compressor[50] + 44.1704 fan[51] + 2208.52 compressor[51] + 44.1704 fan[52] + 2208.52 compressor[52] + 44.1704 fan[53] + 2208.52 compressor[53] + 44.1704 fan[54] + 2208.52 compressor[54] + 44.1704 fan[55] + 2208.52 compressor[55] + 44.1704 fan[56] + 2208.52 compressor[56] + 44.1704 fan[57] + 2208.52 compressor[57] + 44.1704 fan[58] + 2208.52 compressor[58] + 44.1704 fan[59] + 2208.52 compressor[59] + 42.5404 fan[60] + 2127.02 compressor[60] + 42.5404 fan[61] + 2127.02 compressor[61] + 42.54039999999999 fan[62] + 2127.0199999999995 compressor[62] + 42.5404 fan[63] + 2127.02 compressor[63] + 42.5404 fan[64] + 2127.02 compressor[64] + 42.5404 fan[65] + 2127.02 compressor[65] + 42.5404 fan[66] + 2127.02 compressor[66] + 42.5404 fan[67] + 2127.02 compressor[67] + 42.5404 fan[68] + 2127.02 compressor[68] + 42.5404 fan[69] + 2127.02 compressor[69] + 42.5404 fan[70] + 2127.02 compressor[70] + 42.5404 fan[71] + 2127.02 compressor[71] + 42.5404 fan[72] + 2127.02 compressor[72] + 42.5404 fan[73] + 2127.02 compressor[73] + 42.5404 fan[74] + 2127.02 compressor[74] + 42.5404 fan[75] + 2127.02 compressor[75] + 42.5404 fan[76] + 2127.02 compressor[76] + 42.5404 fan[77] + 2127.02 compressor[77] + 42.5404 fan[78] + 2127.02 compressor[78] + 42.5404 fan[79] + 2127.02 compressor[79] + 42.5404 fan[80] + 2127.02 compressor[80] + 42.5404 fan[81] + 2127.02 compressor[81] + 42.5404 fan[82] + 2127.02 compressor[82] + 42.5404 fan[83] + 2127.02 compressor[83] + 42.5404 fan[84] + 2127.02 compressor[84] + 42.5404 fan[85] + 2127.02 compressor[85] + 42.5404 fan[86] + 2127.02 compressor[86] + 42.5404 fan[87] + 2127.02 compressor[87] + 42.5404 fan[88] + 2127.02 compressor[88] + 42.5404 fan[89] + 2127.02 compressor[89] + 42.5404 fan[90] + 2127.02 compressor[90] + 42.5404 fan[91] + 2127.02 compressor[91] + 42.5404 fan[92] + 2127.02 compressor[92] + 42.5404 fan[93] + 2127.02 compressor[93] + 42.5404 fan[94] + 2127.02 compressor[94] + 42.5404 fan[95] + 2127.02 compressor[95] + 42.5404 fan[96] + 2127.02 compressor[96] + 42.5404 fan[97] + 2127.02 compressor[97] + 42.5404 fan[98] + 2127.02 compressor[98] + 42.5404 fan[99] + 2127.02 compressor[99] + 42.5404 fan[100] + 2127.02 compressor[100] + 42.5404 fan[101] + 2127.02 compressor[101] + 42.5404 fan[102] + 2127.02 compressor[102] + 42.5404 fan[103] + 2127.02 compressor[103] + 42.5404 fan[104] + 2127.02 compressor[104] + 42.5404 fan[105] + 2127.02 compressor[105] + 42.5404 fan[106] + 2127.02 compressor[106] + 42.5404 fan[107] + 2127.02 compressor[107] + 42.5404 fan[108] + 2127.02 compressor[108] + 42.5404 fan[109] + 2127.02 compressor[109] + 42.5404 fan[110] + 2127.02 compressor[110] + 42.5404 fan[111] + 2127.02 compressor[111] + 42.5404 fan[112] + 2127.02 compressor[112] + 42.5404 fan[113] + 2127.02 compressor[113] + 42.5404 fan[114] + 2127.02 compressor[114] + 42.5404 fan[115] + 2127.02 compressor[115] + 42.5404 fan[116] + 2127.02 compressor[116] + 42.5404 fan[117] + 2127.02 compressor[117] + 42.5404 fan[118] + 2127.02 compressor[118] + 42.5404 fan[119] + 2127.02 compressor[119] + 41.443599999999996 fan[120] + 2072.18 compressor[120] + 41.44359999999999 fan[121] + 2072.1799999999994 compressor[121] + 41.443599999999996 fan[122] + 2072.18 compressor[122] + 41.443599999999996 fan[123] + 2072.18 compressor[123] + 41.443599999999996 fan[124] + 2072.18 compressor[124] + 41.443599999999996 fan[125] + 2072.18 compressor[125] + 41.443599999999996 fan[126] + 2072.18 compressor[126] + 41.443599999999996 fan[127] + 2072.18 compressor[127] + 41.443599999999996 fan[128] + 2072.18 compressor[128] + 41.443599999999996 fan[129] + 2072.18 compressor[129] + 41.443599999999996 fan[130] + 2072.18 compressor[130] + 41.443599999999996 fan[131] + 2072.18 compressor[131] + 41.443599999999996 fan[132] + 2072.18 compressor[132] + 41.443599999999996 fan[133] + 2072.18 compressor[133] + 41.443599999999996 fan[134] + 2072.18 compressor[134] + 41.4436 fan[135] + 2072.1800000000003 compressor[135] + 41.44359999999999 fan[136] + 2072.1799999999994 compressor[136] + 41.443599999999996 fan[137] + 2072.18 compressor[137] + 41.443599999999996 fan[138] + 2072.18 compressor[138] + 41.443599999999996 fan[139] + 2072.18 compressor[139] + 41.443599999999996 fan[140] + 2072.18 compressor[140] + 41.44359999999999 fan[141] + 2072.1799999999994 compressor[141] + 41.443599999999996 fan[142] + 2072.18 compressor[142] + 41.443599999999996 fan[143] + 2072.18 compressor[143] + 41.443599999999996 fan[144] + 2072.18 compressor[144] + 41.443599999999996 fan[145] + 2072.18 compressor[145] + 41.443599999999996 fan[146] + 2072.18 compressor[146] + 41.443599999999996 fan[147] + 2072.18 compressor[147] + 41.443599999999996 fan[148] + 2072.18 compressor[148] + 41.443599999999996 fan[149] + 2072.18 compressor[149] + 41.443599999999996 fan[150] + 2072.18 compressor[150] + 41.443599999999996 fan[151] + 2072.18 compressor[151] + 41.443599999999996 fan[152] + 2072.18 compressor[152] + 41.443599999999996 fan[153] + 2072.18 compressor[153] + 41.443599999999996 fan[154] + 2072.18 compressor[154] + 41.443599999999996 fan[155] + 2072.18 compressor[155] + 41.443599999999996 fan[156] + 2072.18 compressor[156] + 41.443599999999996 fan[157] + 2072.18 compressor[157] + 41.443599999999996 fan[158] + 2072.18 compressor[158] + 41.443599999999996 fan[159] + 2072.18 compressor[159] + 41.443599999999996 fan[160] + 2072.18 compressor[160] + 41.443599999999996 fan[161] + 2072.18 compressor[161] + 41.443599999999996 fan[162] + 2072.18 compressor[162] + 41.443599999999996 fan[163] + 2072.18 compressor[163] + 41.443599999999996 fan[164] + 2072.18 compressor[164] + 41.443599999999996 fan[165] + 2072.18 compressor[165] + 41.443599999999996 fan[166] + 2072.18 compressor[166] + 41.443599999999996 fan[167] + 2072.18 compressor[167] + 41.443599999999996 fan[168] + 2072.18 compressor[168] + 41.443599999999996 fan[169] + 2072.18 compressor[169] + 41.443599999999996 fan[170] + 2072.18 compressor[170] + 41.443599999999996 fan[171] + 2072.18 compressor[171] + 41.443599999999996 fan[172] + 2072.18 compressor[172] + 41.443599999999996 fan[173] + 2072.18 compressor[173] + 41.443599999999996 fan[174] + 2072.18 compressor[174] + 41.443599999999996 fan[175] + 2072.18 compressor[175] + 41.443599999999996 fan[176] + 2072.18 compressor[176] + 41.443599999999996 fan[177] + 2072.18 compressor[177] + 41.443599999999996 fan[178] + 2072.18 compressor[178] + 41.443599999999996 fan[179] + 2072.18 compressor[179] + 40.546800000000005 fan[180] + 2027.3400000000001 compressor[180] + 40.546800000000005 fan[181] + 2027.3400000000001 compressor[181] + 40.546800000000005 fan[182] + 2027.3400000000001 compressor[182] + 40.546800000000005 fan[183] + 2027.3400000000001 compressor[183] + 40.546800000000005 fan[184] + 2027.3400000000001 compressor[184] + 40.546800000000005 fan[185] + 2027.3400000000001 compressor[185] + 40.546800000000005 fan[186] + 2027.3400000000001 compressor[186] + 40.546800000000005 fan[187] + 2027.3400000000001 compressor[187] + 40.546800000000005 fan[188] + 2027.3400000000001 compressor[188] + 40.546800000000005 fan[189] + 2027.3400000000001 compressor[189] + 40.546800000000005 fan[190] + 2027.3400000000001 compressor[190] + 40.546800000000005 fan[191] + 2027.3400000000001 compressor[191] + 40.546800000000005 fan[192] + 2027.3400000000001 compressor[192] + 40.546800000000005 fan[193] + 2027.3400000000001 compressor[193] + 40.546800000000005 fan[194] + 2027.3400000000001 compressor[194] + 40.546800000000005 fan[195] + 2027.3400000000001 compressor[195] + 40.54679999999999 fan[196] + 2027.3399999999997 compressor[196] + 40.546800000000005 fan[197] + 2027.3400000000001 compressor[197] + 40.546800000000005 fan[198] + 2027.3400000000001 compressor[198] + 40.546800000000005 fan[199] + 2027.3400000000001 compressor[199] + 40.546800000000005 fan[200] + 2027.3400000000001 compressor[200] + 40.54679999999999 fan[201] + 2027.3399999999997 compressor[201] + 40.546800000000005 fan[202] + 2027.3400000000001 compressor[202] + 40.546800000000005 fan[203] + 2027.3400000000001 compressor[203] + 40.546800000000005 fan[204] + 2027.3400000000001 compressor[204] + 40.546800000000005 fan[205] + 2027.3400000000001 compressor[205] + 40.546800000000005 fan[206] + 2027.3400000000001 compressor[206] + 40.546800000000005 fan[207] + 2027.3400000000001 compressor[207] + 40.546800000000005 fan[208] + 2027.3400000000001 compressor[208] + 40.546800000000005 fan[209] + 2027.3400000000001 compressor[209] + 40.546800000000005 fan[210] + 2027.3400000000001 compressor[210] + 40.546800000000005 fan[211] + 2027.3400000000001 compressor[211] + 40.546800000000005 fan[212] + 2027.3400000000001 compressor[212] + 40.546800000000005 fan[213] + 2027.3400000000001 compressor[213] + 40.546800000000005 fan[214] + 2027.3400000000001 compressor[214] + 40.546800000000005 fan[215] + 2027.3400000000001 compressor[215] + 40.546800000000005 fan[216] + 2027.3400000000001 compressor[216] + 40.546800000000005 fan[217] + 2027.3400000000001 compressor[217] + 40.546800000000005 fan[218] + 2027.3400000000001 compressor[218] + 40.546800000000005 fan[219] + 2027.3400000000001 compressor[219] + 40.546800000000005 fan[220] + 2027.3400000000001 compressor[220] + 40.546800000000005 fan[221] + 2027.3400000000001 compressor[221] + 40.546800000000005 fan[222] + 2027.3400000000001 compressor[222] + 40.546800000000005 fan[223] + 2027.3400000000001 compressor[223] + 40.546800000000005 fan[224] + 2027.3400000000001 compressor[224] + 40.546800000000005 fan[225] + 2027.3400000000001 compressor[225] + 40.546800000000005 fan[226] + 2027.3400000000001 compressor[226] + 40.546800000000005 fan[227] + 2027.3400000000001 compressor[227] + 40.546800000000005 fan[228] + 2027.3400000000001 compressor[228] + 40.546800000000005 fan[229] + 2027.3400000000001 compressor[229] + 40.546800000000005 fan[230] + 2027.3400000000001 compressor[230] + 40.546800000000005 fan[231] + 2027.3400000000001 compressor[231] + 40.546800000000005 fan[232] + 2027.3400000000001 compressor[232] + 40.546800000000005 fan[233] + 2027.3400000000001 compressor[233] + 40.546800000000005 fan[234] + 2027.3400000000001 compressor[234] + 40.546800000000005 fan[235] + 2027.3400000000001 compressor[235] + 40.546800000000005 fan[236] + 2027.3400000000001 compressor[236] + 40.546800000000005 fan[237] + 2027.3400000000001 compressor[237] + 40.546800000000005 fan[238] + 2027.3400000000001 compressor[238] + 40.546800000000005 fan[239] + 2027.3400000000001 compressor[239] + 40.1459 fan[240] + 2007.295 compressor[240] + 40.1459 fan[241] + 2007.295 compressor[241] + 40.1459 fan[242] + 2007.295 compressor[242] + 40.1459 fan[243] + 2007.295 compressor[243] + 40.1459 fan[244] + 2007.295 compressor[244] + 40.1459 fan[245] + 2007.295 compressor[245] + 40.1459 fan[246] + 2007.295 compressor[246] + 40.1459 fan[247] + 2007.295 compressor[247] + 40.1459 fan[248] + 2007.295 compressor[248] + 40.1459 fan[249] + 2007.295 compressor[249] + 40.1459 fan[250] + 2007.295 compressor[250] + 40.1459 fan[251] + 2007.295 compressor[251] + 40.1459 fan[252] + 2007.295 compressor[252] + 40.1459 fan[253] + 2007.295 compressor[253] + 40.1459 fan[254] + 2007.295 compressor[254] + 40.1459 fan[255] + 2007.295 compressor[255] + 40.1459 fan[256] + 2007.295 compressor[256] + 40.1459 fan[257] + 2007.295 compressor[257] + 40.1459 fan[258] + 2007.295 compressor[258] + 40.1459 fan[259] + 2007.295 compressor[259] + 40.1459 fan[260] + 2007.295 compressor[260] + 40.1459 fan[261] + 2007.295 compressor[261] + 40.1459 fan[262] + 2007.295 compressor[262] + 40.1459 fan[263] + 2007.295 compressor[263] + 40.1459 fan[264] + 2007.295 compressor[264] + 40.1459 fan[265] + 2007.295 compressor[265] + 40.1459 fan[266] + 2007.295 compressor[266] + 40.1459 fan[267] + 2007.295 compressor[267] + 40.1459 fan[268] + 2007.295 compressor[268] + 40.1459 fan[269] + 2007.295 compressor[269] + 40.1459 fan[270] + 2007.295 compressor[270] + 40.1459 fan[271] + 2007.295 compressor[271] + 40.1459 fan[272] + 2007.295 compressor[272] + 40.1459 fan[273] + 2007.295 compressor[273] + 40.1459 fan[274] + 2007.295 compressor[274] + 40.1459 fan[275] + 2007.295 compressor[275] + 40.1459 fan[276] + 2007.295 compressor[276] + 40.1459 fan[277] + 2007.295 compressor[277] + 40.1459 fan[278] + 2007.295 compressor[278] + 40.1459 fan[279] + 2007.295 compressor[279] + 40.1459 fan[280] + 2007.295 compressor[280] + 40.1459 fan[281] + 2007.295 compressor[281] + 40.1459 fan[282] + 2007.295 compressor[282] + 40.1459 fan[283] + 2007.295 compressor[283] + 40.1459 fan[284] + 2007.295 compressor[284] + 40.1459 fan[285] + 2007.295 compressor[285] + 40.1459 fan[286] + 2007.295 compressor[286] + 40.1459 fan[287] + 2007.295 compressor[287] + 40.1459 fan[288] + 2007.295 compressor[288] + 40.1459 fan[289] + 2007.295 compressor[289] + 40.1459 fan[290] + 2007.295 compressor[290] + 40.1459 fan[291] + 2007.295 compressor[291] + 40.1459 fan[292] + 2007.295 compressor[292] + 40.1459 fan[293] + 2007.295 compressor[293] + 40.1459 fan[294] + 2007.295 compressor[294] + 40.1459 fan[295] + 2007.295 compressor[295] + 40.1459 fan[296] + 2007.295 compressor[296] + 40.1459 fan[297] + 2007.295 compressor[297] + 40.1459 fan[298] + 2007.295 compressor[298] + 40.1459 fan[299] + 2007.295 compressor[299] + 40.263099999999994 fan[300] + 2013.1549999999997 compressor[300] + 40.263099999999994 fan[301] + 2013.1549999999997 compressor[301] + 40.263099999999994 fan[302] + 2013.1549999999997 compressor[302] + 40.263099999999994 fan[303] + 2013.1549999999997 compressor[303] + 40.263099999999994 fan[304] + 2013.1549999999997 compressor[304] + 40.263099999999994 fan[305] + 2013.1549999999997 compressor[305] + 40.263099999999994 fan[306] + 2013.1549999999997 compressor[306] + 40.263099999999994 fan[307] + 2013.1549999999997 compressor[307] + 40.263099999999994 fan[308] + 2013.1549999999997 compressor[308] + 40.263099999999994 fan[309] + 2013.1549999999997 compressor[309] + 40.263099999999994 fan[310] + 2013.1549999999997 compressor[310] + 40.263099999999994 fan[311] + 2013.1549999999997 compressor[311] + 40.263099999999994 fan[312] + 2013.1549999999997 compressor[312] + 40.263099999999994 fan[313] + 2013.1549999999997 compressor[313] + 40.263099999999994 fan[314] + 2013.1549999999997 compressor[314] + 40.263099999999994 fan[315] + 2013.1549999999997 compressor[315] + 40.263099999999994 fan[316] + 2013.1549999999997 compressor[316] + 40.263099999999994 fan[317] + 2013.1549999999997 compressor[317] + 40.263099999999994 fan[318] + 2013.1549999999997 compressor[318] + 40.263099999999994 fan[319] + 2013.1549999999997 compressor[319] + 40.263099999999994 fan[320] + 2013.1549999999997 compressor[320] + 40.263099999999994 fan[321] + 2013.1549999999997 compressor[321] + 40.263099999999994 fan[322] + 2013.1549999999997 compressor[322] + 40.263099999999994 fan[323] + 2013.1549999999997 compressor[323] + 40.263099999999994 fan[324] + 2013.1549999999997 compressor[324] + 40.263099999999994 fan[325] + 2013.1549999999997 compressor[325] + 40.263099999999994 fan[326] + 2013.1549999999997 compressor[326] + 40.263099999999994 fan[327] + 2013.1549999999997 compressor[327] + 40.263099999999994 fan[328] + 2013.1549999999997 compressor[328] + 40.263099999999994 fan[329] + 2013.1549999999997 compressor[329] + 40.263099999999994 fan[330] + 2013.1549999999997 compressor[330] + 40.263099999999994 fan[331] + 2013.1549999999997 compressor[331] + 40.263099999999994 fan[332] + 2013.1549999999997 compressor[332] + 40.263099999999994 fan[333] + 2013.1549999999997 compressor[333] + 40.263099999999994 fan[334] + 2013.1549999999997 compressor[334] + 40.263099999999994 fan[335] + 2013.1549999999997 compressor[335] + 40.263099999999994 fan[336] + 2013.1549999999997 compressor[336] + 40.263099999999994 fan[337] + 2013.1549999999997 compressor[337] + 40.263099999999994 fan[338] + 2013.1549999999997 compressor[338] + 40.263099999999994 fan[339] + 2013.1549999999997 compressor[339] + 40.263099999999994 fan[340] + 2013.1549999999997 compressor[340] + 40.263099999999994 fan[341] + 2013.1549999999997 compressor[341] + 40.263099999999994 fan[342] + 2013.1549999999997 compressor[342] + 40.263099999999994 fan[343] + 2013.1549999999997 compressor[343] + 40.263099999999994 fan[344] + 2013.1549999999997 compressor[344] + 40.263099999999994 fan[345] + 2013.1549999999997 compressor[345] + 40.263099999999994 fan[346] + 2013.1549999999997 compressor[346] + 40.263099999999994 fan[347] + 2013.1549999999997 compressor[347] + 40.263099999999994 fan[348] + 2013.1549999999997 compressor[348] + 40.263099999999994 fan[349] + 2013.1549999999997 compressor[349] + 40.263099999999994 fan[350] + 2013.1549999999997 compressor[350] + 40.263099999999994 fan[351] + 2013.1549999999997 compressor[351] + 40.263099999999994 fan[352] + 2013.1549999999997 compressor[352] + 40.263099999999994 fan[353] + 2013.1549999999997 compressor[353] + 40.263099999999994 fan[354] + 2013.1549999999997 compressor[354] + 40.263099999999994 fan[355] + 2013.1549999999997 compressor[355] + 40.263099999999994 fan[356] + 2013.1549999999997 compressor[356] + 40.263099999999994 fan[357] + 2013.1549999999997 compressor[357] + 40.263099999999994 fan[358] + 2013.1549999999997 compressor[358] + 40.263099999999994 fan[359] + 2013.1549999999997 compressor[359] + 41.613499999999995 fan[360] + 2080.6749999999997 compressor[360] + 41.61349999999999 fan[361] + 2080.6749999999993 compressor[361] + 41.613499999999995 fan[362] + 2080.6749999999997 compressor[362] + 41.613499999999995 fan[363] + 2080.6749999999997 compressor[363] + 41.613499999999995 fan[364] + 2080.6749999999997 compressor[364] + 41.613499999999995 fan[365] + 2080.6749999999997 compressor[365] + 41.613499999999995 fan[366] + 2080.6749999999997 compressor[366] + 41.613499999999995 fan[367] + 2080.6749999999997 compressor[367] + 41.613499999999995 fan[368] + 2080.6749999999997 compressor[368] + 41.613499999999995 fan[369] + 2080.6749999999997 compressor[369] + 41.613499999999995 fan[370] + 2080.6749999999997 compressor[370] + 41.613499999999995 fan[371] + 2080.6749999999997 compressor[371] + 41.613499999999995 fan[372] + 2080.6749999999997 compressor[372] + 41.613499999999995 fan[373] + 2080.6749999999997 compressor[373] + 41.613499999999995 fan[374] + 2080.6749999999997 compressor[374] + 41.613499999999995 fan[375] + 2080.6749999999997 compressor[375] + 41.613499999999995 fan[376] + 2080.6749999999997 compressor[376] + 41.613499999999995 fan[377] + 2080.6749999999997 compressor[377] + 41.613499999999995 fan[378] + 2080.6749999999997 compressor[378] + 41.613499999999995 fan[379] + 2080.6749999999997 compressor[379] + 41.613499999999995 fan[380] + 2080.6749999999997 compressor[380] + 41.613499999999995 fan[381] + 2080.6749999999997 compressor[381] + 41.613499999999995 fan[382] + 2080.6749999999997 compressor[382] + 41.613499999999995 fan[383] + 2080.6749999999997 compressor[383] + 41.61349999999999 fan[384] + 2080.6749999999993 compressor[384] + 41.613499999999995 fan[385] + 2080.6749999999997 compressor[385] + 41.61349999999999 fan[386] + 2080.6749999999993 compressor[386] + 41.613499999999995 fan[387] + 2080.6749999999997 compressor[387] + 41.613499999999995 fan[388] + 2080.6749999999997 compressor[388] + 41.613499999999995 fan[389] + 2080.6749999999997 compressor[389] + 41.613499999999995 fan[390] + 2080.6749999999997 compressor[390] + 41.613499999999995 fan[391] + 2080.6749999999997 compressor[391] + 41.613499999999995 fan[392] + 2080.6749999999997 compressor[392] + 41.613499999999995 fan[393] + 2080.6749999999997 compressor[393] + 41.613499999999995 fan[394] + 2080.6749999999997 compressor[394] + 41.613499999999995 fan[395] + 2080.6749999999997 compressor[395] + 41.613499999999995 fan[396] + 2080.6749999999997 compressor[396] + 41.613499999999995 fan[397] + 2080.6749999999997 compressor[397] + 41.613499999999995 fan[398] + 2080.6749999999997 compressor[398] + 41.613499999999995 fan[399] + 2080.6749999999997 compressor[399] + 41.613499999999995 fan[400] + 2080.6749999999997 compressor[400] + 41.613499999999995 fan[401] + 2080.6749999999997 compressor[401] + 41.613499999999995 fan[402] + 2080.6749999999997 compressor[402] + 41.613499999999995 fan[403] + 2080.6749999999997 compressor[403] + 41.613499999999995 fan[404] + 2080.6749999999997 compressor[404] + 41.613499999999995 fan[405] + 2080.6749999999997 compressor[405] + 41.613499999999995 fan[406] + 2080.6749999999997 compressor[406] + 41.613499999999995 fan[407] + 2080.6749999999997 compressor[407] + 41.613499999999995 fan[408] + 2080.6749999999997 compressor[408] + 41.613499999999995 fan[409] + 2080.6749999999997 compressor[409] + 41.613499999999995 fan[410] + 2080.6749999999997 compressor[410] + 41.613499999999995 fan[411] + 2080.6749999999997 compressor[411] + 41.613499999999995 fan[412] + 2080.6749999999997 compressor[412] + 41.613499999999995 fan[413] + 2080.6749999999997 compressor[413] + 41.613499999999995 fan[414] + 2080.6749999999997 compressor[414] + 41.613499999999995 fan[415] + 2080.6749999999997 compressor[415] + 41.613499999999995 fan[416] + 2080.6749999999997 compressor[416] + 41.613499999999995 fan[417] + 2080.6749999999997 compressor[417] + 41.613499999999995 fan[418] + 2080.6749999999997 compressor[418] + 41.613499999999995 fan[419] + 2080.6749999999997 compressor[419] + 42.4251 fan[420] + 2121.255 compressor[420] + 42.4251 fan[421] + 2121.255 compressor[421] + 42.4251 fan[422] + 2121.255 compressor[422] + 42.4251 fan[423] + 2121.255 compressor[423] + 42.4251 fan[424] + 2121.255 compressor[424] + 42.4251 fan[425] + 2121.255 compressor[425] + 42.4251 fan[426] + 2121.255 compressor[426] + 42.4251 fan[427] + 2121.255 compressor[427] + 42.4251 fan[428] + 2121.255 compressor[428] + 42.4251 fan[429] + 2121.255 compressor[429] + 42.4251 fan[430] + 2121.255 compressor[430] + 42.4251 fan[431] + 2121.255 compressor[431] + 42.4251 fan[432] + 2121.255 compressor[432] + 42.4251 fan[433] + 2121.255 compressor[433] + 42.4251 fan[434] + 2121.255 compressor[434] + 42.42509999999999 fan[435] + 2121.2549999999997 compressor[435] + 42.425100000000015 fan[436] + 2121.2550000000006 compressor[436] + 42.4251 fan[437] + 2121.255 compressor[437] + 42.4251 fan[438] + 2121.255 compressor[438] + 42.4251 fan[439] + 2121.255 compressor[439] + 42.4251 fan[440] + 2121.255 compressor[440] + 42.4251 fan[441] + 2121.255 compressor[441] + 42.4251 fan[442] + 2121.255 compressor[442] + 42.4251 fan[443] + 2121.255 compressor[443] + 42.4251 fan[444] + 2121.255 compressor[444] + 42.4251 fan[445] + 2121.255 compressor[445] + 42.4251 fan[446] + 2121.255 compressor[446] + 42.4251 fan[447] + 2121.255 compressor[447] + 42.42509999999999 fan[448] + 2121.2549999999997 compressor[448] + 42.4251 fan[449] + 2121.255 compressor[449] + 42.4251 fan[450] + 2121.255 compressor[450] + 42.4251 fan[451] + 2121.255 compressor[451] + 42.4251 fan[452] + 2121.255 compressor[452] + 42.4251 fan[453] + 2121.255 compressor[453] + 42.4251 fan[454] + 2121.255 compressor[454] + 42.4251 fan[455] + 2121.255 compressor[455] + 42.4251 fan[456] + 2121.255 compressor[456] + 42.4251 fan[457] + 2121.255 compressor[457] + 42.4251 fan[458] + 2121.255 compressor[458] + 42.4251 fan[459] + 2121.255 compressor[459] + 42.4251 fan[460] + 2121.255 compressor[460] + 42.4251 fan[461] + 2121.255 compressor[461] + 42.4251 fan[462] + 2121.255 compressor[462] + 42.4251 fan[463] + 2121.255 compressor[463] + 42.4251 fan[464] + 2121.255 compressor[464] + 42.4251 fan[465] + 2121.255 compressor[465] + 42.4251 fan[466] + 2121.255 compressor[466] + 42.4251 fan[467] + 2121.255 compressor[467] + 42.4251 fan[468] + 2121.255 compressor[468] + 42.4251 fan[469] + 2121.255 compressor[469] + 42.4251 fan[470] + 2121.255 compressor[470] + 42.4251 fan[471] + 2121.255 compressor[471] + 42.4251 fan[472] + 2121.255 compressor[472] + 42.4251 fan[473] + 2121.255 compressor[473] + 42.4251 fan[474] + 2121.255 compressor[474] + 42.4251 fan[475] + 2121.255 compressor[475] + 42.4251 fan[476] + 2121.255 compressor[476] + 42.425100000000015 fan[477] + 2121.2550000000006 compressor[477] + 42.4251 fan[478] + 2121.255 compressor[478] + 42.4251 fan[479] + 2121.255 compressor[479] + 44.997600000000006 fan[480] + 2249.88 compressor[480] + 44.997600000000006 fan[481] + 2249.88 compressor[481] + 44.997600000000006 fan[482] + 2249.88 compressor[482] + 44.997600000000006 fan[483] + 2249.88 compressor[483] + 44.997600000000006 fan[484] + 2249.88 compressor[484] + 44.997600000000006 fan[485] + 2249.88 compressor[485] + 44.997600000000006 fan[486] + 2249.88 compressor[486] + 44.997600000000006 fan[487] + 2249.88 compressor[487] + 44.997600000000006 fan[488] + 2249.88 compressor[488] + 44.997600000000006 fan[489] + 2249.88 compressor[489] + 44.997600000000006 fan[490] + 2249.88 compressor[490] + 44.997600000000006 fan[491] + 2249.88 compressor[491] + 44.997600000000006 fan[492] + 2249.88 compressor[492] + 44.997600000000006 fan[493] + 2249.88 compressor[493] + 44.997600000000006 fan[494] + 2249.88 compressor[494] + 44.997600000000006 fan[495] + 2249.88 compressor[495] + 44.997600000000006 fan[496] + 2249.88 compressor[496] + 44.997600000000006 fan[497] + 2249.88 compressor[497] + 44.997600000000006 fan[498] + 2249.88 compressor[498] + 44.997600000000006 fan[499] + 2249.88 compressor[499] + 44.997600000000006 fan[500] + 2249.88 compressor[500] + 44.997600000000006 fan[501] + 2249.88 compressor[501] + 44.997600000000006 fan[502] + 2249.88 compressor[502] + 44.997600000000006 fan[503] + 2249.88 compressor[503] + 44.997600000000006 fan[504] + 2249.88 compressor[504] + 44.997600000000006 fan[505] + 2249.88 compressor[505] + 44.997600000000006 fan[506] + 2249.88 compressor[506] + 44.997600000000006 fan[507] + 2249.88 compressor[507] + 44.997600000000006 fan[508] + 2249.88 compressor[508] + 44.997600000000006 fan[509] + 2249.88 compressor[509] + 44.997600000000006 fan[510] + 2249.88 compressor[510] + 44.997600000000006 fan[511] + 2249.88 compressor[511] + 44.997600000000006 fan[512] + 2249.88 compressor[512] + 44.997600000000006 fan[513] + 2249.88 compressor[513] + 44.997600000000006 fan[514] + 2249.88 compressor[514] + 44.997600000000006 fan[515] + 2249.88 compressor[515] + 44.997600000000006 fan[516] + 2249.88 compressor[516] + 44.997600000000006 fan[517] + 2249.88 compressor[517] + 44.997600000000006 fan[518] + 2249.88 compressor[518] + 44.997600000000006 fan[519] + 2249.88 compressor[519] + 44.997600000000006 fan[520] + 2249.88 compressor[520] + 44.997600000000006 fan[521] + 2249.88 compressor[521] + 44.997600000000006 fan[522] + 2249.88 compressor[522] + 44.997600000000006 fan[523] + 2249.88 compressor[523] + 44.997600000000006 fan[524] + 2249.88 compressor[524] + 44.997600000000006 fan[525] + 2249.88 compressor[525] + 44.997600000000006 fan[526] + 2249.88 compressor[526] + 44.997600000000006 fan[527] + 2249.88 compressor[527] + 44.997600000000006 fan[528] + 2249.88 compressor[528] + 44.997600000000006 fan[529] + 2249.88 compressor[529] + 44.997600000000006 fan[530] + 2249.88 compressor[530] + 44.997600000000006 fan[531] + 2249.88 compressor[531] + 44.997600000000006 fan[532] + 2249.88 compressor[532] + 44.997600000000006 fan[533] + 2249.88 compressor[533] + 44.997600000000006 fan[534] + 2249.88 compressor[534] + 44.997600000000006 fan[535] + 2249.88 compressor[535] + 44.997600000000006 fan[536] + 2249.88 compressor[536] + 44.997600000000006 fan[537] + 2249.88 compressor[537] + 44.997600000000006 fan[538] + 2249.88 compressor[538] + 44.997600000000006 fan[539] + 2249.88 compressor[539] + 45.9363 fan[540] + 2296.815 compressor[540] + 45.9363 fan[541] + 2296.815 compressor[541] + 45.93629999999999 fan[542] + 2296.8149999999996 compressor[542] + 45.9363 fan[543] + 2296.815 compressor[543] + 45.9363 fan[544] + 2296.815 compressor[544] + 45.9363 fan[545] + 2296.815 compressor[545] + 45.93629999999999 fan[546] + 2296.8149999999996 compressor[546] + 45.9363 fan[547] + 2296.815 compressor[547] + 45.9363 fan[548] + 2296.815 compressor[548] + 45.9363 fan[549] + 2296.815 compressor[549] + 45.9363 fan[550] + 2296.815 compressor[550] + 45.9363 fan[551] + 2296.815 compressor[551] + 45.9363 fan[552] + 2296.815 compressor[552] + 45.9363 fan[553] + 2296.815 compressor[553] + 45.9363 fan[554] + 2296.815 compressor[554] + 45.9363 fan[555] + 2296.815 compressor[555] + 45.9363 fan[556] + 2296.815 compressor[556] + 45.9363 fan[557] + 2296.815 compressor[557] + 45.9363 fan[558] + 2296.815 compressor[558] + 45.9363 fan[559] + 2296.815 compressor[559] + 45.9363 fan[560] + 2296.815 compressor[560] + 45.9363 fan[561] + 2296.815 compressor[561] + 45.9363 fan[562] + 2296.815 compressor[562] + 45.9363 fan[563] + 2296.815 compressor[563] + 45.9363 fan[564] + 2296.815 compressor[564] + 45.9363 fan[565] + 2296.815 compressor[565] + 45.9363 fan[566] + 2296.815 compressor[566] + 45.9363 fan[567] + 2296.815 compressor[567] + 45.93629999999999 fan[568] + 2296.8149999999996 compressor[568] + 45.93630000000001 fan[569] + 2296.8150000000005 compressor[569] + 45.9363 fan[570] + 2296.815 compressor[570] + 45.9363 fan[571] + 2296.815 compressor[571] + 45.9363 fan[572] + 2296.815 compressor[572] + 45.9363 fan[573] + 2296.815 compressor[573] + 45.9363 fan[574] + 2296.815 compressor[574] + 45.9363 fan[575] + 2296.815 compressor[575] + 45.9363 fan[576] + 2296.815 compressor[576] + 45.9363 fan[577] + 2296.815 compressor[577] + 45.9363 fan[578] + 2296.815 compressor[578] + 45.9363 fan[579] + 2296.815 compressor[579] + 45.9363 fan[580] + 2296.815 compressor[580] + 45.9363 fan[581] + 2296.815 compressor[581] + 45.9363 fan[582] + 2296.815 compressor[582] + 45.9363 fan[583] + 2296.815 compressor[583] + 45.9363 fan[584] + 2296.815 compressor[584] + 45.9363 fan[585] + 2296.815 compressor[585] + 45.9363 fan[586] + 2296.815 compressor[586] + 45.9363 fan[587] + 2296.815 compressor[587] + 45.9363 fan[588] + 2296.815 compressor[588] + 45.9363 fan[589] + 2296.815 compressor[589] + 45.9363 fan[590] + 2296.815 compressor[590] + 45.9363 fan[591] + 2296.815 compressor[591] + 45.9363 fan[592] + 2296.815 compressor[592] + 45.9363 fan[593] + 2296.815 compressor[593] + 45.9363 fan[594] + 2296.815 compressor[594] + 45.9363 fan[595] + 2296.815 compressor[595] + 45.9363 fan[596] + 2296.815 compressor[596] + 45.9363 fan[597] + 2296.815 compressor[597] + 45.9363 fan[598] + 2296.815 compressor[598] + 45.9363 fan[599] + 2296.815 compressor[599] + 47.739399999999996 fan[600] + 2386.97 compressor[600] + 47.739399999999996 fan[601] + 2386.97 compressor[601] + 47.739399999999996 fan[602] + 2386.97 compressor[602] + 47.739399999999996 fan[603] + 2386.97 compressor[603] + 47.739399999999996 fan[604] + 2386.97 compressor[604] + 47.739399999999996 fan[605] + 2386.97 compressor[605] + 47.739399999999996 fan[606] + 2386.97 compressor[606] + 47.739399999999996 fan[607] + 2386.97 compressor[607] + 47.739399999999996 fan[608] + 2386.97 compressor[608] + 47.739399999999996 fan[609] + 2386.97 compressor[609] + 47.739399999999996 fan[610] + 2386.97 compressor[610] + 47.739399999999996 fan[611] + 2386.97 compressor[611] + 47.739399999999996 fan[612] + 2386.97 compressor[612] + 47.739399999999996 fan[613] + 2386.97 compressor[613] + 47.739399999999996 fan[614] + 2386.97 compressor[614] + 47.739399999999996 fan[615] + 2386.97 compressor[615] + 47.739399999999996 fan[616] + 2386.97 compressor[616] + 47.739399999999996 fan[617] + 2386.97 compressor[617] + 47.739399999999996 fan[618] + 2386.97 compressor[618] + 47.739399999999996 fan[619] + 2386.97 compressor[619] + 47.739399999999996 fan[620] + 2386.97 compressor[620] + 47.739399999999996 fan[621] + 2386.97 compressor[621] + 47.739399999999996 fan[622] + 2386.97 compressor[622] + 47.739399999999996 fan[623] + 2386.97 compressor[623] + 47.739399999999996 fan[624] + 2386.97 compressor[624] + 47.739399999999996 fan[625] + 2386.97 compressor[625] + 47.739399999999996 fan[626] + 2386.97 compressor[626] + 47.739399999999996 fan[627] + 2386.97 compressor[627] + 47.739399999999996 fan[628] + 2386.97 compressor[628] + 47.739399999999996 fan[629] + 2386.97 compressor[629] + 47.739399999999996 fan[630] + 2386.97 compressor[630] + 47.739399999999996 fan[631] + 2386.97 compressor[631] + 47.739399999999996 fan[632] + 2386.97 compressor[632] + 47.739399999999996 fan[633] + 2386.97 compressor[633] + 47.739399999999996 fan[634] + 2386.97 compressor[634] + 47.739399999999996 fan[635] + 2386.97 compressor[635] + 47.739399999999996 fan[636] + 2386.97 compressor[636] + 47.739399999999996 fan[637] + 2386.97 compressor[637] + 47.739399999999996 fan[638] + 2386.97 compressor[638] + 47.739399999999996 fan[639] + 2386.97 compressor[639] + 47.739399999999996 fan[640] + 2386.97 compressor[640] + 47.739399999999996 fan[641] + 2386.97 compressor[641] + 47.739399999999996 fan[642] + 2386.97 compressor[642] + 47.739399999999996 fan[643] + 2386.97 compressor[643] + 47.739399999999996 fan[644] + 2386.97 compressor[644] + 47.739399999999996 fan[645] + 2386.97 compressor[645] + 47.739399999999996 fan[646] + 2386.97 compressor[646] + 47.739399999999996 fan[647] + 2386.97 compressor[647] + 47.739399999999996 fan[648] + 2386.97 compressor[648] + 47.739399999999996 fan[649] + 2386.97 compressor[649] + 47.739399999999996 fan[650] + 2386.97 compressor[650] + 47.739399999999996 fan[651] + 2386.97 compressor[651] + 47.739399999999996 fan[652] + 2386.97 compressor[652] + 47.739399999999996 fan[653] + 2386.97 compressor[653] + 47.739399999999996 fan[654] + 2386.97 compressor[654] + 47.739399999999996 fan[655] + 2386.97 compressor[655] + 47.739399999999996 fan[656] + 2386.97 compressor[656] + 47.739399999999996 fan[657] + 2386.97 compressor[657] + 47.739399999999996 fan[658] + 2386.97 compressor[658] + 47.739399999999996 fan[659] + 2386.97 compressor[659] + 48.0014 fan[660] + 2400.0699999999997 compressor[660] + 48.0014 fan[661] + 2400.0699999999997 compressor[661] + 48.0014 fan[662] + 2400.0699999999997 compressor[662] + 48.0014 fan[663] + 2400.0699999999997 compressor[663] + 48.0014 fan[664] + 2400.0699999999997 compressor[664] + 48.0014 fan[665] + 2400.0699999999997 compressor[665] + 48.0014 fan[666] + 2400.0699999999997 compressor[666] + 48.0014 fan[667] + 2400.0699999999997 compressor[667] + 48.001400000000004 fan[668] + 2400.07 compressor[668] + 48.0014 fan[669] + 2400.0699999999997 compressor[669] + 48.0014 fan[670] + 2400.0699999999997 compressor[670] + 48.0014 fan[671] + 2400.0699999999997 compressor[671] + 48.0014 fan[672] + 2400.0699999999997 compressor[672] + 48.0014 fan[673] + 2400.0699999999997 compressor[673] + 48.0014 fan[674] + 2400.0699999999997 compressor[674] + 48.0014 fan[675] + 2400.0699999999997 compressor[675] + 48.0014 fan[676] + 2400.0699999999997 compressor[676] + 48.0014 fan[677] + 2400.0699999999997 compressor[677] + 48.0014 fan[678] + 2400.0699999999997 compressor[678] + 48.001400000000004 fan[679] + 2400.07 compressor[679] + 48.0014 fan[680] + 2400.0699999999997 compressor[680] + 48.0014 fan[681] + 2400.0699999999997 compressor[681] + 48.0014 fan[682] + 2400.0699999999997 compressor[682] + 48.0014 fan[683] + 2400.0699999999997 compressor[683] + 48.001400000000004 fan[684] + 2400.07 compressor[684] + 48.0014 fan[685] + 2400.0699999999997 compressor[685] + 48.0014 fan[686] + 2400.0699999999997 compressor[686] + 48.0014 fan[687] + 2400.0699999999997 compressor[687] + 48.00139999999999 fan[688] + 2400.0699999999997 compressor[688] + 48.0014 fan[689] + 2400.0699999999997 compressor[689] + 48.0014 fan[690] + 2400.0699999999997 compressor[690] + 48.0014 fan[691] + 2400.0699999999997 compressor[691] + 48.0014 fan[692] + 2400.0699999999997 compressor[692] + 48.0014 fan[693] + 2400.0699999999997 compressor[693] + 48.0014 fan[694] + 2400.0699999999997 compressor[694] + 48.0014 fan[695] + 2400.0699999999997 compressor[695] + 48.0014 fan[696] + 2400.0699999999997 compressor[696] + 48.0014 fan[697] + 2400.0699999999997 compressor[697] + 48.0014 fan[698] + 2400.0699999999997 compressor[698] + 48.0014 fan[699] + 2400.0699999999997 compressor[699] + 48.0014 fan[700] + 2400.0699999999997 compressor[700] + 48.0014 fan[701] + 2400.0699999999997 compressor[701] + 48.0014 fan[702] + 2400.0699999999997 compressor[702] + 48.0014 fan[703] + 2400.0699999999997 compressor[703] + 48.0014 fan[704] + 2400.0699999999997 compressor[704] + 48.0014 fan[705] + 2400.0699999999997 compressor[705] + 48.0014 fan[706] + 2400.0699999999997 compressor[706] + 48.0014 fan[707] + 2400.0699999999997 compressor[707] + 48.0014 fan[708] + 2400.0699999999997 compressor[708] + 48.0014 fan[709] + 2400.0699999999997 compressor[709] + 48.0014 fan[710] + 2400.0699999999997 compressor[710] + 48.0014 fan[711] + 2400.0699999999997 compressor[711] + 48.0014 fan[712] + 2400.0699999999997 compressor[712] + 48.0014 fan[713] + 2400.0699999999997 compressor[713] + 48.0014 fan[714] + 2400.0699999999997 compressor[714] + 48.0014 fan[715] + 2400.0699999999997 compressor[715] + 48.0014 fan[716] + 2400.0699999999997 compressor[716] + 48.0014 fan[717] + 2400.0699999999997 compressor[717] + 48.0014 fan[718] + 2400.0699999999997 compressor[718] + 48.0014 fan[719] + 2400.0699999999997 compressor[719] + 47.8849 fan[720] + 2394.2450000000003 compressor[720] + 47.8849 fan[721] + 2394.2450000000003 compressor[721] + 47.8849 fan[722] + 2394.2450000000003 compressor[722] + 47.8849 fan[723] + 2394.2450000000003 compressor[723] + 47.8849 fan[724] + 2394.2450000000003 compressor[724] + 47.8849 fan[725] + 2394.2450000000003 compressor[725] + 47.884899999999995 fan[726] + 2394.245 compressor[726] + 47.8849 fan[727] + 2394.2450000000003 compressor[727] + 47.8849 fan[728] + 2394.2450000000003 compressor[728] + 47.8849 fan[729] + 2394.2450000000003 compressor[729] + 47.8849 fan[730] + 2394.2450000000003 compressor[730] + 47.8849 fan[731] + 2394.2450000000003 compressor[731] + 47.8849 fan[732] + 2394.2450000000003 compressor[732] + 47.8849 fan[733] + 2394.2450000000003 compressor[733] + 47.8849 fan[734] + 2394.2450000000003 compressor[734] + 47.8849 fan[735] + 2394.2450000000003 compressor[735] + 47.884900000000016 fan[736] + 2394.245000000001 compressor[736] + 47.8849 fan[737] + 2394.2450000000003 compressor[737] + 47.8849 fan[738] + 2394.2450000000003 compressor[738] + 47.8849 fan[739] + 2394.2450000000003 compressor[739] + 47.884899999999995 fan[740] + 2394.245 compressor[740] + 47.8849 fan[741] + 2394.2450000000003 compressor[741] + 47.8849 fan[742] + 2394.2450000000003 compressor[742] + 47.8849 fan[743] + 2394.2450000000003 compressor[743] + 47.8849 fan[744] + 2394.2450000000003 compressor[744] + 47.8849 fan[745] + 2394.2450000000003 compressor[745] + 47.8849 fan[746] + 2394.2450000000003 compressor[746] + 47.8849 fan[747] + 2394.2450000000003 compressor[747] + 47.884899999999995 fan[748] + 2394.245 compressor[748] + 47.884900000000016 fan[749] + 2394.245000000001 compressor[749] + 47.8849 fan[750] + 2394.2450000000003 compressor[750] + 47.8849 fan[751] + 2394.2450000000003 compressor[751] + 47.8849 fan[752] + 2394.2450000000003 compressor[752] + 47.8849 fan[753] + 2394.2450000000003 compressor[753] + 47.8849 fan[754] + 2394.2450000000003 compressor[754] + 47.8849 fan[755] + 2394.2450000000003 compressor[755] + 47.8849 fan[756] + 2394.2450000000003 compressor[756] + 47.8849 fan[757] + 2394.2450000000003 compressor[757] + 47.8849 fan[758] + 2394.2450000000003 compressor[758] + 47.8849 fan[759] + 2394.2450000000003 compressor[759] + 47.8849 fan[760] + 2394.2450000000003 compressor[760] + 47.8849 fan[761] + 2394.2450000000003 compressor[761] + 47.8849 fan[762] + 2394.2450000000003 compressor[762] + 47.8849 fan[763] + 2394.2450000000003 compressor[763] + 47.8849 fan[764] + 2394.2450000000003 compressor[764] + 47.8849 fan[765] + 2394.2450000000003 compressor[765] + 47.8849 fan[766] + 2394.2450000000003 compressor[766] + 47.8849 fan[767] + 2394.2450000000003 compressor[767] + 47.8849 fan[768] + 2394.2450000000003 compressor[768] + 47.8849 fan[769] + 2394.2450000000003 compressor[769] + 47.8849 fan[770] + 2394.2450000000003 compressor[770] + 47.8849 fan[771] + 2394.2450000000003 compressor[771] + 47.8849 fan[772] + 2394.2450000000003 compressor[772] + 47.8849 fan[773] + 2394.2450000000003 compressor[773] + 47.8849 fan[774] + 2394.2450000000003 compressor[774] + 47.884899999999995 fan[775] + 2394.245 compressor[775] + 47.8849 fan[776] + 2394.2450000000003 compressor[776] + 47.8849 fan[777] + 2394.2450000000003 compressor[777] + 47.8849 fan[778] + 2394.2450000000003 compressor[778] + 47.8849 fan[779] + 2394.2450000000003 compressor[779] + 47.575700000000005 fan[780] + 2378.7850000000003 compressor[780] + 47.575700000000005 fan[781] + 2378.7850000000003 compressor[781] + 47.575700000000005 fan[782] + 2378.7850000000003 compressor[782] + 47.575700000000005 fan[783] + 2378.7850000000003 compressor[783] + 47.575700000000005 fan[784] + 2378.7850000000003 compressor[784] + 47.575700000000005 fan[785] + 2378.7850000000003 compressor[785] + 47.575700000000005 fan[786] + 2378.7850000000003 compressor[786] + 47.575700000000005 fan[787] + 2378.7850000000003 compressor[787] + 47.575700000000005 fan[788] + 2378.7850000000003 compressor[788] + 47.575700000000005 fan[789] + 2378.7850000000003 compressor[789] + 47.575700000000005 fan[790] + 2378.7850000000003 compressor[790] + 47.575700000000005 fan[791] + 2378.7850000000003 compressor[791] + 47.575700000000005 fan[792] + 2378.7850000000003 compressor[792] + 47.575700000000005 fan[793] + 2378.7850000000003 compressor[793] + 47.575700000000005 fan[794] + 2378.7850000000003 compressor[794] + 47.5757 fan[795] + 2378.785 compressor[795] + 47.57570000000001 fan[796] + 2378.7850000000008 compressor[796] + 47.575700000000005 fan[797] + 2378.7850000000003 compressor[797] + 47.575700000000005 fan[798] + 2378.7850000000003 compressor[798] + 47.57570000000001 fan[799] + 2378.7850000000008 compressor[799] + 47.575700000000005 fan[800] + 2378.7850000000003 compressor[800] + 47.575700000000005 fan[801] + 2378.7850000000003 compressor[801] + 47.575700000000005 fan[802] + 2378.7850000000003 compressor[802] + 47.575700000000005 fan[803] + 2378.7850000000003 compressor[803] + 47.575700000000005 fan[804] + 2378.7850000000003 compressor[804] + 47.575700000000005 fan[805] + 2378.7850000000003 compressor[805] + 47.575700000000005 fan[806] + 2378.7850000000003 compressor[806] + 47.575700000000005 fan[807] + 2378.7850000000003 compressor[807] + 47.575700000000005 fan[808] + 2378.7850000000003 compressor[808] + 47.575700000000005 fan[809] + 2378.7850000000003 compressor[809] + 47.575700000000005 fan[810] + 2378.7850000000003 compressor[810] + 47.575700000000005 fan[811] + 2378.7850000000003 compressor[811] + 47.575700000000005 fan[812] + 2378.7850000000003 compressor[812] + 47.575700000000005 fan[813] + 2378.7850000000003 compressor[813] + 47.575700000000005 fan[814] + 2378.7850000000003 compressor[814] + 47.575700000000005 fan[815] + 2378.7850000000003 compressor[815] + 47.575700000000005 fan[816] + 2378.7850000000003 compressor[816] + 47.575700000000005 fan[817] + 2378.7850000000003 compressor[817] + 47.575700000000005 fan[818] + 2378.7850000000003 compressor[818] + 47.575700000000005 fan[819] + 2378.7850000000003 compressor[819] + 47.575700000000005 fan[820] + 2378.7850000000003 compressor[820] + 47.575700000000005 fan[821] + 2378.7850000000003 compressor[821] + 47.575700000000005 fan[822] + 2378.7850000000003 compressor[822] + 47.575700000000005 fan[823] + 2378.7850000000003 compressor[823] + 47.575700000000005 fan[824] + 2378.7850000000003 compressor[824] + 47.575700000000005 fan[825] + 2378.7850000000003 compressor[825] + 47.575700000000005 fan[826] + 2378.7850000000003 compressor[826] + 47.575700000000005 fan[827] + 2378.7850000000003 compressor[827] + 47.575700000000005 fan[828] + 2378.7850000000003 compressor[828] + 47.575700000000005 fan[829] + 2378.7850000000003 compressor[829] + 47.575700000000005 fan[830] + 2378.7850000000003 compressor[830] + 47.57570000000001 fan[831] + 2378.7850000000008 compressor[831] + 47.575700000000005 fan[832] + 2378.7850000000003 compressor[832] + 47.575700000000005 fan[833] + 2378.7850000000003 compressor[833] + 47.575700000000005 fan[834] + 2378.7850000000003 compressor[834] + 47.575700000000005 fan[835] + 2378.7850000000003 compressor[835] + 47.575700000000005 fan[836] + 2378.7850000000003 compressor[836] + 47.575700000000005 fan[837] + 2378.7850000000003 compressor[837] + 47.575700000000005 fan[838] + 2378.7850000000003 compressor[838] + 47.575700000000005 fan[839] + 2378.7850000000003 compressor[839] + 47.7814 fan[840] + 2389.0699999999997 compressor[840] + 47.7814 fan[841] + 2389.0699999999997 compressor[841] + 47.7814 fan[842] + 2389.0699999999997 compressor[842] + 47.7814 fan[843] + 2389.0699999999997 compressor[843] + 47.7814 fan[844] + 2389.0699999999997 compressor[844] + 47.7814 fan[845] + 2389.0699999999997 compressor[845] + 47.7814 fan[846] + 2389.0699999999997 compressor[846] + 47.7814 fan[847] + 2389.0699999999997 compressor[847] + 47.7814 fan[848] + 2389.0699999999997 compressor[848] + 47.7814 fan[849] + 2389.0699999999997 compressor[849] + 47.7814 fan[850] + 2389.0699999999997 compressor[850] + 47.7814 fan[851] + 2389.0699999999997 compressor[851] + 47.7814 fan[852] + 2389.0699999999997 compressor[852] + 47.7814 fan[853] + 2389.0699999999997 compressor[853] + 47.7814 fan[854] + 2389.0699999999997 compressor[854] + 47.78139999999999 fan[855] + 2389.0699999999993 compressor[855] + 47.781400000000005 fan[856] + 2389.07 compressor[856] + 47.7814 fan[857] + 2389.0699999999997 compressor[857] + 47.7814 fan[858] + 2389.0699999999997 compressor[858] + 47.7814 fan[859] + 2389.0699999999997 compressor[859] + 47.7814 fan[860] + 2389.0699999999997 compressor[860] + 47.7814 fan[861] + 2389.0699999999997 compressor[861] + 47.7814 fan[862] + 2389.0699999999997 compressor[862] + 47.78139999999999 fan[863] + 2389.0699999999993 compressor[863] + 47.781400000000005 fan[864] + 2389.07 compressor[864] + 47.7814 fan[865] + 2389.0699999999997 compressor[865] + 47.7814 fan[866] + 2389.0699999999997 compressor[866] + 47.7814 fan[867] + 2389.0699999999997 compressor[867] + 47.78139999999999 fan[868] + 2389.0699999999993 compressor[868] + 47.7814 fan[869] + 2389.0699999999997 compressor[869] + 47.7814 fan[870] + 2389.0699999999997 compressor[870] + 47.7814 fan[871] + 2389.0699999999997 compressor[871] + 47.7814 fan[872] + 2389.0699999999997 compressor[872] + 47.7814 fan[873] + 2389.0699999999997 compressor[873] + 47.7814 fan[874] + 2389.0699999999997 compressor[874] + 47.7814 fan[875] + 2389.0699999999997 compressor[875] + 47.7814 fan[876] + 2389.0699999999997 compressor[876] + 47.7814 fan[877] + 2389.0699999999997 compressor[877] + 47.7814 fan[878] + 2389.0699999999997 compressor[878] + 47.7814 fan[879] + 2389.0699999999997 compressor[879] + 47.7814 fan[880] + 2389.0699999999997 compressor[880] + 47.7814 fan[881] + 2389.0699999999997 compressor[881] + 47.7814 fan[882] + 2389.0699999999997 compressor[882] + 47.7814 fan[883] + 2389.0699999999997 compressor[883] + 47.7814 fan[884] + 2389.0699999999997 compressor[884] + 47.7814 fan[885] + 2389.0699999999997 compressor[885] + 47.7814 fan[886] + 2389.0699999999997 compressor[886] + 47.7814 fan[887] + 2389.0699999999997 compressor[887] + 47.7814 fan[888] + 2389.0699999999997 compressor[888] + 47.7814 fan[889] + 2389.0699999999997 compressor[889] + 47.7814 fan[890] + 2389.0699999999997 compressor[890] + 47.7814 fan[891] + 2389.0699999999997 compressor[891] + 47.7814 fan[892] + 2389.0699999999997 compressor[892] + 47.781400000000005 fan[893] + 2389.07 compressor[893] + 47.7814 fan[894] + 2389.0699999999997 compressor[894] + 47.7814 fan[895] + 2389.0699999999997 compressor[895] + 47.78139999999999 fan[896] + 2389.0699999999993 compressor[896] + 47.7814 fan[897] + 2389.0699999999997 compressor[897] + 47.7814 fan[898] + 2389.0699999999997 compressor[898] + 47.7814 fan[899] + 2389.0699999999997 compressor[899] + 47.978300000000004 fan[900] + 2398.915 compressor[900] + 47.978300000000004 fan[901] + 2398.915 compressor[901] + 47.978300000000004 fan[902] + 2398.915 compressor[902] + 47.978300000000004 fan[903] + 2398.915 compressor[903] + 47.978300000000004 fan[904] + 2398.915 compressor[904] + 47.978300000000004 fan[905] + 2398.915 compressor[905] + 47.97829999999999 fan[906] + 2398.9149999999995 compressor[906] + 47.978300000000004 fan[907] + 2398.915 compressor[907] + 47.978300000000004 fan[908] + 2398.915 compressor[908] + 47.978300000000004 fan[909] + 2398.915 compressor[909] + 47.978300000000004 fan[910] + 2398.915 compressor[910] + 47.97830000000001 fan[911] + 2398.9150000000004 compressor[911] + 47.978300000000004 fan[912] + 2398.915 compressor[912] + 47.978300000000004 fan[913] + 2398.915 compressor[913] + 47.978300000000004 fan[914] + 2398.915 compressor[914] + 47.97829999999999 fan[915] + 2398.9149999999995 compressor[915] + 47.97830000000001 fan[916] + 2398.9150000000004 compressor[916] + 47.978300000000004 fan[917] + 2398.915 compressor[917] + 47.978300000000004 fan[918] + 2398.915 compressor[918] + 47.978300000000004 fan[919] + 2398.915 compressor[919] + 47.97829999999999 fan[920] + 2398.9149999999995 compressor[920] + 47.978300000000004 fan[921] + 2398.915 compressor[921] + 47.978300000000004 fan[922] + 2398.915 compressor[922] + 47.978300000000004 fan[923] + 2398.915 compressor[923] + 47.978300000000004 fan[924] + 2398.915 compressor[924] + 47.978300000000004 fan[925] + 2398.915 compressor[925] + 47.978300000000004 fan[926] + 2398.915 compressor[926] + 47.978300000000004 fan[927] + 2398.915 compressor[927] + 47.978300000000004 fan[928] + 2398.915 compressor[928] + 47.978300000000004 fan[929] + 2398.915 compressor[929] + 47.978300000000004 fan[930] + 2398.915 compressor[930] + 47.978300000000004 fan[931] + 2398.915 compressor[931] + 47.978300000000004 fan[932] + 2398.915 compressor[932] + 47.978300000000004 fan[933] + 2398.915 compressor[933] + 47.978300000000004 fan[934] + 2398.915 compressor[934] + 47.978300000000004 fan[935] + 2398.915 compressor[935] + 47.978300000000004 fan[936] + 2398.915 compressor[936] + 47.978300000000004 fan[937] + 2398.915 compressor[937] + 47.978300000000004 fan[938] + 2398.915 compressor[938] + 47.978300000000004 fan[939] + 2398.915 compressor[939] + 47.978300000000004 fan[940] + 2398.915 compressor[940] + 47.978300000000004 fan[941] + 2398.915 compressor[941] + 47.978300000000004 fan[942] + 2398.915 compressor[942] + 47.978300000000004 fan[943] + 2398.915 compressor[943] + 47.978300000000004 fan[944] + 2398.915 compressor[944] + 47.978300000000004 fan[945] + 2398.915 compressor[945] + 47.978300000000004 fan[946] + 2398.915 compressor[946] + 47.978300000000004 fan[947] + 2398.915 compressor[947] + 47.978300000000004 fan[948] + 2398.915 compressor[948] + 47.978300000000004 fan[949] + 2398.915 compressor[949] + 47.97830000000001 fan[950] + 2398.9150000000004 compressor[950] + 47.978300000000004 fan[951] + 2398.915 compressor[951] + 47.978300000000004 fan[952] + 2398.915 compressor[952] + 47.978300000000004 fan[953] + 2398.915 compressor[953] + 47.978300000000004 fan[954] + 2398.915 compressor[954] + 47.978300000000004 fan[955] + 2398.915 compressor[955] + 47.978300000000004 fan[956] + 2398.915 compressor[956] + 47.978300000000004 fan[957] + 2398.915 compressor[957] + 47.978300000000004 fan[958] + 2398.915 compressor[958] + 47.978300000000004 fan[959] + 2398.915 compressor[959] + 47.67400000000001 fan[960] + 2383.7000000000003 compressor[960] + 47.67400000000001 fan[961] + 2383.7000000000003 compressor[961] + 47.67400000000001 fan[962] + 2383.7000000000003 compressor[962] + 47.67400000000001 fan[963] + 2383.7000000000003 compressor[963] + 47.67400000000001 fan[964] + 2383.7000000000003 compressor[964] + 47.67400000000001 fan[965] + 2383.7000000000003 compressor[965] + 47.67400000000001 fan[966] + 2383.7000000000003 compressor[966] + 47.67400000000001 fan[967] + 2383.7000000000003 compressor[967] + 47.67400000000001 fan[968] + 2383.7000000000003 compressor[968] + 47.67400000000001 fan[969] + 2383.7000000000003 compressor[969] + 47.67400000000001 fan[970] + 2383.7000000000003 compressor[970] + 47.67400000000001 fan[971] + 2383.7000000000003 compressor[971] + 47.67400000000001 fan[972] + 2383.7000000000003 compressor[972] + 47.67400000000001 fan[973] + 2383.7000000000003 compressor[973] + 47.67400000000001 fan[974] + 2383.7000000000003 compressor[974] + 47.67400000000001 fan[975] + 2383.7000000000003 compressor[975] + 47.67400000000001 fan[976] + 2383.7000000000003 compressor[976] + 47.67400000000001 fan[977] + 2383.7000000000003 compressor[977] + 47.67400000000001 fan[978] + 2383.7000000000003 compressor[978] + 47.67400000000001 fan[979] + 2383.7000000000003 compressor[979] + 47.67400000000001 fan[980] + 2383.7000000000003 compressor[980] + 47.67400000000001 fan[981] + 2383.7000000000003 compressor[981] + 47.67400000000001 fan[982] + 2383.7000000000003 compressor[982] + 47.67400000000001 fan[983] + 2383.7000000000003 compressor[983] + 47.67400000000001 fan[984] + 2383.7000000000003 compressor[984] + 47.67400000000001 fan[985] + 2383.7000000000003 compressor[985] + 47.67400000000001 fan[986] + 2383.7000000000003 compressor[986] + 47.67400000000001 fan[987] + 2383.7000000000003 compressor[987] + 47.67400000000001 fan[988] + 2383.7000000000003 compressor[988] + 47.67400000000001 fan[989] + 2383.7000000000003 compressor[989] + 47.67400000000001 fan[990] + 2383.7000000000003 compressor[990] + 47.67400000000001 fan[991] + 2383.7000000000003 compressor[991] + 47.67400000000001 fan[992] + 2383.7000000000003 compressor[992] + 47.67400000000001 fan[993] + 2383.7000000000003 compressor[993] + 47.67400000000001 fan[994] + 2383.7000000000003 compressor[994] + 47.67400000000001 fan[995] + 2383.7000000000003 compressor[995] + 47.67400000000001 fan[996] + 2383.7000000000003 compressor[996] + 47.67400000000001 fan[997] + 2383.7000000000003 compressor[997] + 47.67400000000001 fan[998] + 2383.7000000000003 compressor[998] + 47.67400000000001 fan[999] + 2383.7000000000003 compressor[999] + 47.67400000000001 fan[1000] + 2383.7000000000003 compressor[1000] + 47.67400000000001 fan[1001] + 2383.7000000000003 compressor[1001] + 47.67400000000001 fan[1002] + 2383.7000000000003 compressor[1002] + 47.67400000000001 fan[1003] + 2383.7000000000003 compressor[1003] + 47.67400000000001 fan[1004] + 2383.7000000000003 compressor[1004] + 47.67400000000001 fan[1005] + 2383.7000000000003 compressor[1005] + 47.67400000000001 fan[1006] + 2383.7000000000003 compressor[1006] + 47.67400000000001 fan[1007] + 2383.7000000000003 compressor[1007] + 47.67400000000001 fan[1008] + 2383.7000000000003 compressor[1008] + 47.67400000000001 fan[1009] + 2383.7000000000003 compressor[1009] + 47.67400000000001 fan[1010] + 2383.7000000000003 compressor[1010] + 47.67400000000001 fan[1011] + 2383.7000000000003 compressor[1011] + 47.67400000000001 fan[1012] + 2383.7000000000003 compressor[1012] + 47.67400000000001 fan[1013] + 2383.7000000000003 compressor[1013] + 47.67400000000001 fan[1014] + 2383.7000000000003 compressor[1014] + 47.67400000000001 fan[1015] + 2383.7000000000003 compressor[1015] + 47.67400000000001 fan[1016] + 2383.7000000000003 compressor[1016] + 47.67400000000001 fan[1017] + 2383.7000000000003 compressor[1017] + 47.67400000000001 fan[1018] + 2383.7000000000003 compressor[1018] + 47.67400000000001 fan[1019] + 2383.7000000000003 compressor[1019] + 47.3724 fan[1020] + 2368.62 compressor[1020] + 47.3724 fan[1021] + 2368.62 compressor[1021] + 47.3724 fan[1022] + 2368.62 compressor[1022] + 47.3724 fan[1023] + 2368.62 compressor[1023] + 47.3724 fan[1024] + 2368.62 compressor[1024] + 47.3724 fan[1025] + 2368.62 compressor[1025] + 47.3724 fan[1026] + 2368.62 compressor[1026] + 47.3724 fan[1027] + 2368.62 compressor[1027] + 47.372400000000006 fan[1028] + 2368.6200000000003 compressor[1028] + 47.372400000000006 fan[1029] + 2368.6200000000003 compressor[1029] + 47.3724 fan[1030] + 2368.62 compressor[1030] + 47.3724 fan[1031] + 2368.62 compressor[1031] + 47.3724 fan[1032] + 2368.62 compressor[1032] + 47.3724 fan[1033] + 2368.62 compressor[1033] + 47.3724 fan[1034] + 2368.62 compressor[1034] + 47.3724 fan[1035] + 2368.62 compressor[1035] + 47.3724 fan[1036] + 2368.62 compressor[1036] + 47.3724 fan[1037] + 2368.62 compressor[1037] + 47.3724 fan[1038] + 2368.62 compressor[1038] + 47.3724 fan[1039] + 2368.62 compressor[1039] + 47.3724 fan[1040] + 2368.62 compressor[1040] + 47.3724 fan[1041] + 2368.62 compressor[1041] + 47.3724 fan[1042] + 2368.62 compressor[1042] + 47.3724 fan[1043] + 2368.62 compressor[1043] + 47.3724 fan[1044] + 2368.62 compressor[1044] + 47.3724 fan[1045] + 2368.62 compressor[1045] + 47.3724 fan[1046] + 2368.62 compressor[1046] + 47.3724 fan[1047] + 2368.62 compressor[1047] + 47.3724 fan[1048] + 2368.62 compressor[1048] + 47.3724 fan[1049] + 2368.62 compressor[1049] + 47.3724 fan[1050] + 2368.62 compressor[1050] + 47.3724 fan[1051] + 2368.62 compressor[1051] + 47.3724 fan[1052] + 2368.62 compressor[1052] + 47.3724 fan[1053] + 2368.62 compressor[1053] + 47.3724 fan[1054] + 2368.62 compressor[1054] + 47.3724 fan[1055] + 2368.62 compressor[1055] + 47.3724 fan[1056] + 2368.62 compressor[1056] + 47.3724 fan[1057] + 2368.62 compressor[1057] + 47.3724 fan[1058] + 2368.62 compressor[1058] + 47.3724 fan[1059] + 2368.62 compressor[1059] + 47.3724 fan[1060] + 2368.62 compressor[1060] + 47.3724 fan[1061] + 2368.62 compressor[1061] + 47.3724 fan[1062] + 2368.62 compressor[1062] + 47.3724 fan[1063] + 2368.62 compressor[1063] + 47.3724 fan[1064] + 2368.62 compressor[1064] + 47.3724 fan[1065] + 2368.62 compressor[1065] + 47.3724 fan[1066] + 2368.62 compressor[1066] + 47.3724 fan[1067] + 2368.62 compressor[1067] + 47.3724 fan[1068] + 2368.62 compressor[1068] + 47.3724 fan[1069] + 2368.62 compressor[1069] + 47.3724 fan[1070] + 2368.62 compressor[1070] + 47.3724 fan[1071] + 2368.62 compressor[1071] + 47.3724 fan[1072] + 2368.62 compressor[1072] + 47.3724 fan[1073] + 2368.62 compressor[1073] + 47.3724 fan[1074] + 2368.62 compressor[1074] + 47.3724 fan[1075] + 2368.62 compressor[1075] + 47.3724 fan[1076] + 2368.62 compressor[1076] + 47.3724 fan[1077] + 2368.62 compressor[1077] + 47.3724 fan[1078] + 2368.62 compressor[1078] + 47.3724 fan[1079] + 2368.62 compressor[1079] + 47.258399999999995 fan[1080] + 2362.92 compressor[1080] + 47.258399999999995 fan[1081] + 2362.92 compressor[1081] + 47.258399999999995 fan[1082] + 2362.92 compressor[1082] + 47.258399999999995 fan[1083] + 2362.92 compressor[1083] + 47.258399999999995 fan[1084] + 2362.92 compressor[1084] + 47.258399999999995 fan[1085] + 2362.92 compressor[1085] + 47.25840000000001 fan[1086] + 2362.9200000000005 compressor[1086] + 47.258399999999995 fan[1087] + 2362.92 compressor[1087] + 47.258399999999995 fan[1088] + 2362.92 compressor[1088] + 47.258399999999995 fan[1089] + 2362.92 compressor[1089] + 47.258399999999995 fan[1090] + 2362.92 compressor[1090] + 47.258399999999995 fan[1091] + 2362.92 compressor[1091] + 47.258399999999995 fan[1092] + 2362.92 compressor[1092] + 47.258399999999995 fan[1093] + 2362.92 compressor[1093] + 47.258399999999995 fan[1094] + 2362.92 compressor[1094] + 47.258399999999995 fan[1095] + 2362.92 compressor[1095] + 47.258399999999995 fan[1096] + 2362.92 compressor[1096] + 47.258399999999995 fan[1097] + 2362.92 compressor[1097] + 47.258399999999995 fan[1098] + 2362.92 compressor[1098] + 47.258399999999995 fan[1099] + 2362.92 compressor[1099] + 47.258399999999995 fan[1100] + 2362.92 compressor[1100] + 47.258399999999995 fan[1101] + 2362.92 compressor[1101] + 47.258399999999995 fan[1102] + 2362.92 compressor[1102] + 47.258399999999995 fan[1103] + 2362.92 compressor[1103] + 47.258399999999995 fan[1104] + 2362.92 compressor[1104] + 47.258399999999995 fan[1105] + 2362.92 compressor[1105] + 47.258399999999995 fan[1106] + 2362.92 compressor[1106] + 47.258399999999995 fan[1107] + 2362.92 compressor[1107] + 47.258399999999995 fan[1108] + 2362.92 compressor[1108] + 47.258399999999995 fan[1109] + 2362.92 compressor[1109] + 47.258399999999995 fan[1110] + 2362.92 compressor[1110] + 47.258399999999995 fan[1111] + 2362.92 compressor[1111] + 47.258399999999995 fan[1112] + 2362.92 compressor[1112] + 47.258399999999995 fan[1113] + 2362.92 compressor[1113] + 47.258399999999995 fan[1114] + 2362.92 compressor[1114] + 47.258399999999995 fan[1115] + 2362.92 compressor[1115] + 47.258399999999995 fan[1116] + 2362.92 compressor[1116] + 47.258399999999995 fan[1117] + 2362.92 compressor[1117] + 47.258399999999995 fan[1118] + 2362.92 compressor[1118] + 47.258399999999995 fan[1119] + 2362.92 compressor[1119] + 47.258399999999995 fan[1120] + 2362.92 compressor[1120] + 47.258399999999995 fan[1121] + 2362.92 compressor[1121] + 47.258399999999995 fan[1122] + 2362.92 compressor[1122] + 47.258399999999995 fan[1123] + 2362.92 compressor[1123] + 47.258399999999995 fan[1124] + 2362.92 compressor[1124] + 47.258399999999995 fan[1125] + 2362.92 compressor[1125] + 47.258399999999995 fan[1126] + 2362.92 compressor[1126] + 47.258399999999995 fan[1127] + 2362.92 compressor[1127] + 47.258399999999995 fan[1128] + 2362.92 compressor[1128] + 47.258399999999995 fan[1129] + 2362.92 compressor[1129] + 47.258399999999995 fan[1130] + 2362.92 compressor[1130] + 47.258399999999995 fan[1131] + 2362.92 compressor[1131] + 47.258399999999995 fan[1132] + 2362.92 compressor[1132] + 47.258399999999995 fan[1133] + 2362.92 compressor[1133] + 47.258399999999995 fan[1134] + 2362.92 compressor[1134] + 47.258399999999995 fan[1135] + 2362.92 compressor[1135] + 47.258399999999995 fan[1136] + 2362.92 compressor[1136] + 47.258399999999995 fan[1137] + 2362.92 compressor[1137] + 47.258399999999995 fan[1138] + 2362.92 compressor[1138] + 47.258399999999995 fan[1139] + 2362.92 compressor[1139] + 47.316700000000004 fan[1140] + 2365.835 compressor[1140] + 47.316700000000004 fan[1141] + 2365.835 compressor[1141] + 47.316700000000004 fan[1142] + 2365.835 compressor[1142] + 47.316700000000004 fan[1143] + 2365.835 compressor[1143] + 47.316700000000004 fan[1144] + 2365.835 compressor[1144] + 47.316700000000004 fan[1145] + 2365.835 compressor[1145] + 47.316700000000004 fan[1146] + 2365.835 compressor[1146] + 47.316700000000004 fan[1147] + 2365.835 compressor[1147] + 47.316700000000004 fan[1148] + 2365.835 compressor[1148] + 47.31670000000001 fan[1149] + 2365.8350000000005 compressor[1149] + 47.316700000000004 fan[1150] + 2365.835 compressor[1150] + 47.316700000000004 fan[1151] + 2365.835 compressor[1151] + 47.316700000000004 fan[1152] + 2365.835 compressor[1152] + 47.316700000000004 fan[1153] + 2365.835 compressor[1153] + 47.316700000000004 fan[1154] + 2365.835 compressor[1154] + 47.316700000000004 fan[1155] + 2365.835 compressor[1155] + 47.316700000000004 fan[1156] + 2365.835 compressor[1156] + 47.316700000000004 fan[1157] + 2365.835 compressor[1157] + 47.31670000000001 fan[1158] + 2365.8350000000005 compressor[1158] + 47.316700000000004 fan[1159] + 2365.835 compressor[1159] + 47.31670000000001 fan[1160] + 2365.8350000000005 compressor[1160] + 47.316700000000004 fan[1161] + 2365.835 compressor[1161] + 47.316700000000004 fan[1162] + 2365.835 compressor[1162] + 47.316700000000004 fan[1163] + 2365.835 compressor[1163] + 47.316700000000004 fan[1164] + 2365.835 compressor[1164] + 47.316700000000004 fan[1165] + 2365.835 compressor[1165] + 47.316700000000004 fan[1166] + 2365.835 compressor[1166] + 47.316700000000004 fan[1167] + 2365.835 compressor[1167] + 47.316700000000004 fan[1168] + 2365.835 compressor[1168] + 47.316700000000004 fan[1169] + 2365.835 compressor[1169] + 47.316700000000004 fan[1170] + 2365.835 compressor[1170] + 47.316700000000004 fan[1171] + 2365.835 compressor[1171] + 47.316700000000004 fan[1172] + 2365.835 compressor[1172] + 47.316700000000004 fan[1173] + 2365.835 compressor[1173] + 47.316700000000004 fan[1174] + 2365.835 compressor[1174] + 47.316700000000004 fan[1175] + 2365.835 compressor[1175] + 47.316700000000004 fan[1176] + 2365.835 compressor[1176] + 47.316700000000004 fan[1177] + 2365.835 compressor[1177] + 47.316700000000004 fan[1178] + 2365.835 compressor[1178] + 47.316700000000004 fan[1179] + 2365.835 compressor[1179] + 47.316700000000004 fan[1180] + 2365.835 compressor[1180] + 47.316700000000004 fan[1181] + 2365.835 compressor[1181] + 47.316700000000004 fan[1182] + 2365.835 compressor[1182] + 47.316700000000004 fan[1183] + 2365.835 compressor[1183] + 47.316700000000004 fan[1184] + 2365.835 compressor[1184] + 47.316700000000004 fan[1185] + 2365.835 compressor[1185] + 47.316700000000004 fan[1186] + 2365.835 compressor[1186] + 47.316700000000004 fan[1187] + 2365.835 compressor[1187] + 47.316700000000004 fan[1188] + 2365.835 compressor[1188] + 47.316700000000004 fan[1189] + 2365.835 compressor[1189] + 47.316700000000004 fan[1190] + 2365.835 compressor[1190] + 47.316700000000004 fan[1191] + 2365.835 compressor[1191] + 47.316700000000004 fan[1192] + 2365.835 compressor[1192] + 47.316700000000004 fan[1193] + 2365.835 compressor[1193] + 47.316700000000004 fan[1194] + 2365.835 compressor[1194] + 47.316700000000004 fan[1195] + 2365.835 compressor[1195] + 47.316700000000004 fan[1196] + 2365.835 compressor[1196] + 47.316700000000004 fan[1197] + 2365.835 compressor[1197] + 47.316700000000004 fan[1198] + 2365.835 compressor[1198] + 47.316700000000004 fan[1199] + 2365.835 compressor[1199] + 47.3894 fan[1200] + 2369.4700000000003 compressor[1200] + 47.3894 fan[1201] + 2369.4700000000003 compressor[1201] + 47.3894 fan[1202] + 2369.4700000000003 compressor[1202] + 47.3894 fan[1203] + 2369.4700000000003 compressor[1203] + 47.3894 fan[1204] + 2369.4700000000003 compressor[1204] + 47.3894 fan[1205] + 2369.4700000000003 compressor[1205] + 47.3894 fan[1206] + 2369.4700000000003 compressor[1206] + 47.3894 fan[1207] + 2369.4700000000003 compressor[1207] + 47.3894 fan[1208] + 2369.4700000000003 compressor[1208] + 47.38940000000001 fan[1209] + 2369.4700000000007 compressor[1209] + 47.38940000000001 fan[1210] + 2369.4700000000007 compressor[1210] + 47.3894 fan[1211] + 2369.4700000000003 compressor[1211] + 47.3894 fan[1212] + 2369.4700000000003 compressor[1212] + 47.3894 fan[1213] + 2369.4700000000003 compressor[1213] + 47.3894 fan[1214] + 2369.4700000000003 compressor[1214] + 47.3894 fan[1215] + 2369.4700000000003 compressor[1215] + 47.3894 fan[1216] + 2369.4700000000003 compressor[1216] + 47.389399999999995 fan[1217] + 2369.47 compressor[1217] + 47.3894 fan[1218] + 2369.4700000000003 compressor[1218] + 47.389399999999995 fan[1219] + 2369.47 compressor[1219] + 47.3894 fan[1220] + 2369.4700000000003 compressor[1220] + 47.3894 fan[1221] + 2369.4700000000003 compressor[1221] + 47.3894 fan[1222] + 2369.4700000000003 compressor[1222] + 47.3894 fan[1223] + 2369.4700000000003 compressor[1223] + 47.3894 fan[1224] + 2369.4700000000003 compressor[1224] + 47.3894 fan[1225] + 2369.4700000000003 compressor[1225] + 47.3894 fan[1226] + 2369.4700000000003 compressor[1226] + 47.3894 fan[1227] + 2369.4700000000003 compressor[1227] + 47.3894 fan[1228] + 2369.4700000000003 compressor[1228] + 47.3894 fan[1229] + 2369.4700000000003 compressor[1229] + 47.3894 fan[1230] + 2369.4700000000003 compressor[1230] + 47.3894 fan[1231] + 2369.4700000000003 compressor[1231] + 47.3894 fan[1232] + 2369.4700000000003 compressor[1232] + 47.3894 fan[1233] + 2369.4700000000003 compressor[1233] + 47.3894 fan[1234] + 2369.4700000000003 compressor[1234] + 47.3894 fan[1235] + 2369.4700000000003 compressor[1235] + 47.3894 fan[1236] + 2369.4700000000003 compressor[1236] + 47.3894 fan[1237] + 2369.4700000000003 compressor[1237] + 47.3894 fan[1238] + 2369.4700000000003 compressor[1238] + 47.3894 fan[1239] + 2369.4700000000003 compressor[1239] + 47.3894 fan[1240] + 2369.4700000000003 compressor[1240] + 47.3894 fan[1241] + 2369.4700000000003 compressor[1241] + 47.3894 fan[1242] + 2369.4700000000003 compressor[1242] + 47.3894 fan[1243] + 2369.4700000000003 compressor[1243] + 47.3894 fan[1244] + 2369.4700000000003 compressor[1244] + 47.3894 fan[1245] + 2369.4700000000003 compressor[1245] + 47.3894 fan[1246] + 2369.4700000000003 compressor[1246] + 47.3894 fan[1247] + 2369.4700000000003 compressor[1247] + 47.3894 fan[1248] + 2369.4700000000003 compressor[1248] + 47.3894 fan[1249] + 2369.4700000000003 compressor[1249] + 47.3894 fan[1250] + 2369.4700000000003 compressor[1250] + 47.3894 fan[1251] + 2369.4700000000003 compressor[1251] + 47.38940000000001 fan[1252] + 2369.4700000000007 compressor[1252] + 47.3894 fan[1253] + 2369.4700000000003 compressor[1253] + 47.3894 fan[1254] + 2369.4700000000003 compressor[1254] + 47.3894 fan[1255] + 2369.4700000000003 compressor[1255] + 47.3894 fan[1256] + 2369.4700000000003 compressor[1256] + 47.3894 fan[1257] + 2369.4700000000003 compressor[1257] + 47.3894 fan[1258] + 2369.4700000000003 compressor[1258] + 47.3894 fan[1259] + 2369.4700000000003 compressor[1259] + 47.544000000000004 fan[1260] + 2377.2000000000003 compressor[1260] + 47.544000000000004 fan[1261] + 2377.2000000000003 compressor[1261] + 47.544000000000004 fan[1262] + 2377.2000000000003 compressor[1262] + 47.544000000000004 fan[1263] + 2377.2000000000003 compressor[1263] + 47.544000000000004 fan[1264] + 2377.2000000000003 compressor[1264] + 47.544000000000004 fan[1265] + 2377.2000000000003 compressor[1265] + 47.544000000000004 fan[1266] + 2377.2000000000003 compressor[1266] + 47.544000000000004 fan[1267] + 2377.2000000000003 compressor[1267] + 47.544000000000004 fan[1268] + 2377.2000000000003 compressor[1268] + 47.544000000000004 fan[1269] + 2377.2000000000003 compressor[1269] + 47.544000000000004 fan[1270] + 2377.2000000000003 compressor[1270] + 47.544000000000004 fan[1271] + 2377.2000000000003 compressor[1271] + 47.544000000000004 fan[1272] + 2377.2000000000003 compressor[1272] + 47.544000000000004 fan[1273] + 2377.2000000000003 compressor[1273] + 47.544000000000004 fan[1274] + 2377.2000000000003 compressor[1274] + 47.544000000000004 fan[1275] + 2377.2000000000003 compressor[1275] + 47.544000000000004 fan[1276] + 2377.2000000000003 compressor[1276] + 47.544000000000004 fan[1277] + 2377.2000000000003 compressor[1277] + 47.544000000000004 fan[1278] + 2377.2000000000003 compressor[1278] + 47.544000000000004 fan[1279] + 2377.2000000000003 compressor[1279] + 47.544000000000004 fan[1280] + 2377.2000000000003 compressor[1280] + 47.544000000000004 fan[1281] + 2377.2000000000003 compressor[1281] + 47.544000000000004 fan[1282] + 2377.2000000000003 compressor[1282] + 47.544000000000004 fan[1283] + 2377.2000000000003 compressor[1283] + 47.544000000000004 fan[1284] + 2377.2000000000003 compressor[1284] + 47.544000000000004 fan[1285] + 2377.2000000000003 compressor[1285] + 47.544000000000004 fan[1286] + 2377.2000000000003 compressor[1286] + 47.544000000000004 fan[1287] + 2377.2000000000003 compressor[1287] + 47.544000000000004 fan[1288] + 2377.2000000000003 compressor[1288] + 47.544000000000004 fan[1289] + 2377.2000000000003 compressor[1289] + 47.544000000000004 fan[1290] + 2377.2000000000003 compressor[1290] + 47.544000000000004 fan[1291] + 2377.2000000000003 compressor[1291] + 47.544000000000004 fan[1292] + 2377.2000000000003 compressor[1292] + 47.544000000000004 fan[1293] + 2377.2000000000003 compressor[1293] + 47.544000000000004 fan[1294] + 2377.2000000000003 compressor[1294] + 47.544000000000004 fan[1295] + 2377.2000000000003 compressor[1295] + 47.544000000000004 fan[1296] + 2377.2000000000003 compressor[1296] + 47.544000000000004 fan[1297] + 2377.2000000000003 compressor[1297] + 47.544000000000004 fan[1298] + 2377.2000000000003 compressor[1298] + 47.544000000000004 fan[1299] + 2377.2000000000003 compressor[1299] + 47.544000000000004 fan[1300] + 2377.2000000000003 compressor[1300] + 47.544000000000004 fan[1301] + 2377.2000000000003 compressor[1301] + 47.544000000000004 fan[1302] + 2377.2000000000003 compressor[1302] + 47.544000000000004 fan[1303] + 2377.2000000000003 compressor[1303] + 47.544000000000004 fan[1304] + 2377.2000000000003 compressor[1304] + 47.544000000000004 fan[1305] + 2377.2000000000003 compressor[1305] + 47.544000000000004 fan[1306] + 2377.2000000000003 compressor[1306] + 47.544000000000004 fan[1307] + 2377.2000000000003 compressor[1307] + 47.544000000000004 fan[1308] + 2377.2000000000003 compressor[1308] + 47.544000000000004 fan[1309] + 2377.2000000000003 compressor[1309] + 47.544000000000004 fan[1310] + 2377.2000000000003 compressor[1310] + 47.544000000000004 fan[1311] + 2377.2000000000003 compressor[1311] + 47.544000000000004 fan[1312] + 2377.2000000000003 compressor[1312] + 47.544000000000004 fan[1313] + 2377.2000000000003 compressor[1313] + 47.544000000000004 fan[1314] + 2377.2000000000003 compressor[1314] + 47.544000000000004 fan[1315] + 2377.2000000000003 compressor[1315] + 47.544000000000004 fan[1316] + 2377.2000000000003 compressor[1316] + 47.544000000000004 fan[1317] + 2377.2000000000003 compressor[1317] + 47.544000000000004 fan[1318] + 2377.2000000000003 compressor[1318] + 47.544000000000004 fan[1319] + 2377.2000000000003 compressor[1319] + 47.531800000000004 fan[1320] + 2376.59 compressor[1320] + 47.531800000000004 fan[1321] + 2376.59 compressor[1321] + 47.531800000000004 fan[1322] + 2376.59 compressor[1322] + 47.531800000000004 fan[1323] + 2376.59 compressor[1323] + 47.531800000000004 fan[1324] + 2376.59 compressor[1324] + 47.531800000000004 fan[1325] + 2376.59 compressor[1325] + 47.531800000000004 fan[1326] + 2376.59 compressor[1326] + 47.531800000000004 fan[1327] + 2376.59 compressor[1327] + 47.531800000000004 fan[1328] + 2376.59 compressor[1328] + 47.531800000000004 fan[1329] + 2376.59 compressor[1329] + 47.531800000000004 fan[1330] + 2376.59 compressor[1330] + 47.531800000000004 fan[1331] + 2376.59 compressor[1331] + 47.531800000000004 fan[1332] + 2376.59 compressor[1332] + 47.531800000000004 fan[1333] + 2376.59 compressor[1333] + 47.531800000000004 fan[1334] + 2376.59 compressor[1334] + 47.531800000000004 fan[1335] + 2376.59 compressor[1335] + 47.531800000000004 fan[1336] + 2376.59 compressor[1336] + 47.531800000000004 fan[1337] + 2376.59 compressor[1337] + 47.531800000000004 fan[1338] + 2376.59 compressor[1338] + 47.531800000000004 fan[1339] + 2376.59 compressor[1339] + 47.531800000000004 fan[1340] + 2376.59 compressor[1340] + 47.531800000000004 fan[1341] + 2376.59 compressor[1341] + 47.531800000000004 fan[1342] + 2376.59 compressor[1342] + 47.531800000000004 fan[1343] + 2376.59 compressor[1343] + 47.531800000000004 fan[1344] + 2376.59 compressor[1344] + 47.531800000000004 fan[1345] + 2376.59 compressor[1345] + 47.531800000000004 fan[1346] + 2376.59 compressor[1346] + 47.531800000000004 fan[1347] + 2376.59 compressor[1347] + 47.531800000000004 fan[1348] + 2376.59 compressor[1348] + 47.531800000000004 fan[1349] + 2376.59 compressor[1349] + 47.531800000000004 fan[1350] + 2376.59 compressor[1350] + 47.531800000000004 fan[1351] + 2376.59 compressor[1351] + 47.531800000000004 fan[1352] + 2376.59 compressor[1352] + 47.531800000000004 fan[1353] + 2376.59 compressor[1353] + 47.531800000000004 fan[1354] + 2376.59 compressor[1354] + 47.531800000000004 fan[1355] + 2376.59 compressor[1355] + 47.531800000000004 fan[1356] + 2376.59 compressor[1356] + 47.531800000000004 fan[1357] + 2376.59 compressor[1357] + 47.531800000000004 fan[1358] + 2376.59 compressor[1358] + 47.531800000000004 fan[1359] + 2376.59 compressor[1359] + 47.531800000000004 fan[1360] + 2376.59 compressor[1360] + 47.531800000000004 fan[1361] + 2376.59 compressor[1361] + 47.531800000000004 fan[1362] + 2376.59 compressor[1362] + 47.531800000000004 fan[1363] + 2376.59 compressor[1363] + 47.531800000000004 fan[1364] + 2376.59 compressor[1364] + 47.531800000000004 fan[1365] + 2376.59 compressor[1365] + 47.531800000000004 fan[1366] + 2376.59 compressor[1366] + 47.531800000000004 fan[1367] + 2376.59 compressor[1367] + 47.531800000000004 fan[1368] + 2376.59 compressor[1368] + 47.531800000000004 fan[1369] + 2376.59 compressor[1369] + 47.531800000000004 fan[1370] + 2376.59 compressor[1370] + 47.531800000000004 fan[1371] + 2376.59 compressor[1371] + 47.531800000000004 fan[1372] + 2376.59 compressor[1372] + 47.531800000000004 fan[1373] + 2376.59 compressor[1373] + 47.531800000000004 fan[1374] + 2376.59 compressor[1374] + 47.531800000000004 fan[1375] + 2376.59 compressor[1375] + 47.531800000000004 fan[1376] + 2376.59 compressor[1376] + 47.531800000000004 fan[1377] + 2376.59 compressor[1377] + 47.531800000000004 fan[1378] + 2376.59 compressor[1378] + 47.531800000000004 fan[1379] + 2376.59 compressor[1379] + 46.1478 fan[1380] + 2307.39 compressor[1380] + 46.1478 fan[1381] + 2307.39 compressor[1381] + 46.1478 fan[1382] + 2307.39 compressor[1382] + 46.1478 fan[1383] + 2307.39 compressor[1383] + 46.1478 fan[1384] + 2307.39 compressor[1384] + 46.1478 fan[1385] + 2307.39 compressor[1385] + 46.1478 fan[1386] + 2307.39 compressor[1386] + 46.1478 fan[1387] + 2307.39 compressor[1387] + 46.1478 fan[1388] + 2307.39 compressor[1388] + 46.1478 fan[1389] + 2307.39 compressor[1389] + 46.1478 fan[1390] + 2307.39 compressor[1390] + 46.1478 fan[1391] + 2307.39 compressor[1391] + 46.1478 fan[1392] + 2307.39 compressor[1392] + 46.1478 fan[1393] + 2307.39 compressor[1393] + 46.1478 fan[1394] + 2307.39 compressor[1394] + 46.1478 fan[1395] + 2307.39 compressor[1395] + 46.1478 fan[1396] + 2307.39 compressor[1396] + 46.1478 fan[1397] + 2307.39 compressor[1397] + 46.1478 fan[1398] + 2307.39 compressor[1398] + 46.1478 fan[1399] + 2307.39 compressor[1399] + 46.1478 fan[1400] + 2307.39 compressor[1400] + 46.1478 fan[1401] + 2307.39 compressor[1401] + 46.1478 fan[1402] + 2307.39 compressor[1402] + 46.1478 fan[1403] + 2307.39 compressor[1403] + 46.1478 fan[1404] + 2307.39 compressor[1404] + 46.1478 fan[1405] + 2307.39 compressor[1405] + 46.1478 fan[1406] + 2307.39 compressor[1406] + 46.1478 fan[1407] + 2307.39 compressor[1407] + 46.1478 fan[1408] + 2307.39 compressor[1408] + 46.1478 fan[1409] + 2307.39 compressor[1409] + 46.1478 fan[1410] + 2307.39 compressor[1410] + 46.1478 fan[1411] + 2307.39 compressor[1411] + 46.1478 fan[1412] + 2307.39 compressor[1412] + 46.1478 fan[1413] + 2307.39 compressor[1413] + 46.1478 fan[1414] + 2307.39 compressor[1414] + 46.1478 fan[1415] + 2307.39 compressor[1415] + 46.1478 fan[1416] + 2307.39 compressor[1416] + 46.1478 fan[1417] + 2307.39 compressor[1417] + 46.1478 fan[1418] + 2307.39 compressor[1418] + 46.1478 fan[1419] + 2307.39 compressor[1419] + 46.1478 fan[1420] + 2307.39 compressor[1420] + 46.1478 fan[1421] + 2307.39 compressor[1421] + 46.1478 fan[1422] + 2307.39 compressor[1422] + 46.1478 fan[1423] + 2307.39 compressor[1423] + 46.1478 fan[1424] + 2307.39 compressor[1424] + 46.1478 fan[1425] + 2307.39 compressor[1425] + 46.1478 fan[1426] + 2307.39 compressor[1426] + 46.1478 fan[1427] + 2307.39 compressor[1427] + 46.1478 fan[1428] + 2307.39 compressor[1428] + 46.1478 fan[1429] + 2307.39 compressor[1429] + 46.1478 fan[1430] + 2307.39 compressor[1430] + 46.1478 fan[1431] + 2307.39 compressor[1431] + 46.1478 fan[1432] + 2307.39 compressor[1432] + 46.1478 fan[1433] + 2307.39 compressor[1433] + 46.1478 fan[1434] + 2307.39 compressor[1434] + 46.1478 fan[1435] + 2307.39 compressor[1435] + 46.1478 fan[1436] + 2307.39 compressor[1436] + 46.1478 fan[1437] + 2307.39 compressor[1437] + 46.1478 fan[1438] + 2307.39 compressor[1438] + 46.1478 fan[1439] + 2307.39 compressor[1439] + 44.1704 fan[1440] + 2208.52 compressor[1440]"
      ]
     },
     "execution_count": 37,
     "metadata": {},
     "output_type": "execute_result"
    }
   ],
   "source": [
    "@expression(m2, expr_obj, sum(expr_obj_init[j] * expr_price[j] for j in 1:1440))"
   ]
  },
  {
   "cell_type": "code",
   "execution_count": null,
   "metadata": {},
   "outputs": [],
   "source": []
  },
  {
   "cell_type": "code",
   "execution_count": 38,
   "metadata": {},
   "outputs": [
    {
     "data": {
      "text/latex": [
       "$$ 44.1704 fan_{1} + 2208.52 compressor_{1} + 44.1704 fan_{2} + 2208.52 compressor_{2} + 44.17040000000001 fan_{3} + 2208.5200000000004 compressor_{3} + 44.170399999999994 fan_{4} + 2208.5199999999995 compressor_{4} + 44.1704 fan_{5} + 2208.52 compressor_{5} + 44.1704 fan_{6} + 2208.52 compressor_{6} + 44.1704 fan_{7} + 2208.52 compressor_{7} + 44.1704 fan_{8} + 2208.52 compressor_{8} + 44.1704 fan_{9} + 2208.52 compressor_{9} + 44.1704 fan_{10} + 2208.52 compressor_{10} + 44.1704 fan_{11} + 2208.52 compressor_{11} + 44.1704 fan_{12} + 2208.52 compressor_{12} + 44.1704 fan_{13} + 2208.52 compressor_{13} + 44.1704 fan_{14} + 2208.52 compressor_{14} + 44.1704 fan_{15} + 2208.52 compressor_{15} + 44.1704 fan_{16} + 2208.52 compressor_{16} + 44.1704 fan_{17} + 2208.52 compressor_{17} + 44.1704 fan_{18} + 2208.52 compressor_{18} + 44.1704 fan_{19} + 2208.52 compressor_{19} + 44.1704 fan_{20} + 2208.52 compressor_{20} + 44.1704 fan_{21} + 2208.52 compressor_{21} + 44.1704 fan_{22} + 2208.52 compressor_{22} + 44.1704 fan_{23} + 2208.52 compressor_{23} + 44.1704 fan_{24} + 2208.52 compressor_{24} + 44.1704 fan_{25} + 2208.52 compressor_{25} + 44.1704 fan_{26} + 2208.52 compressor_{26} + 44.1704 fan_{27} + 2208.52 compressor_{27} + 44.1704 fan_{28} + 2208.52 compressor_{28} + 44.1704 fan_{29} + 2208.52 compressor_{29} + 44.1704 fan_{30} + 2208.52 compressor_{30} + 44.1704 fan_{31} + 2208.52 compressor_{31} + 44.1704 fan_{32} + 2208.52 compressor_{32} + 44.1704 fan_{33} + 2208.52 compressor_{33} + 44.1704 fan_{34} + 2208.52 compressor_{34} + 44.1704 fan_{35} + 2208.52 compressor_{35} + 44.1704 fan_{36} + 2208.52 compressor_{36} + 44.1704 fan_{37} + 2208.52 compressor_{37} + 44.1704 fan_{38} + 2208.52 compressor_{38} + 44.1704 fan_{39} + 2208.52 compressor_{39} + 44.1704 fan_{40} + 2208.52 compressor_{40} + 44.1704 fan_{41} + 2208.52 compressor_{41} + 44.1704 fan_{42} + 2208.52 compressor_{42} + 44.1704 fan_{43} + 2208.52 compressor_{43} + 44.1704 fan_{44} + 2208.52 compressor_{44} + 44.1704 fan_{45} + 2208.52 compressor_{45} + 44.1704 fan_{46} + 2208.52 compressor_{46} + 44.1704 fan_{47} + 2208.52 compressor_{47} + 44.1704 fan_{48} + 2208.52 compressor_{48} + 44.1704 fan_{49} + 2208.52 compressor_{49} + 44.1704 fan_{50} + 2208.52 compressor_{50} + 44.1704 fan_{51} + 2208.52 compressor_{51} + 44.1704 fan_{52} + 2208.52 compressor_{52} + 44.1704 fan_{53} + 2208.52 compressor_{53} + 44.1704 fan_{54} + 2208.52 compressor_{54} + 44.1704 fan_{55} + 2208.52 compressor_{55} + 44.1704 fan_{56} + 2208.52 compressor_{56} + 44.1704 fan_{57} + 2208.52 compressor_{57} + 44.1704 fan_{58} + 2208.52 compressor_{58} + 44.1704 fan_{59} + 2208.52 compressor_{59} + 42.5404 fan_{60} + 2127.02 compressor_{60} + 42.5404 fan_{61} + 2127.02 compressor_{61} + 42.54039999999999 fan_{62} + 2127.0199999999995 compressor_{62} + 42.5404 fan_{63} + 2127.02 compressor_{63} + 42.5404 fan_{64} + 2127.02 compressor_{64} + 42.5404 fan_{65} + 2127.02 compressor_{65} + 42.5404 fan_{66} + 2127.02 compressor_{66} + 42.5404 fan_{67} + 2127.02 compressor_{67} + 42.5404 fan_{68} + 2127.02 compressor_{68} + 42.5404 fan_{69} + 2127.02 compressor_{69} + 42.5404 fan_{70} + 2127.02 compressor_{70} + 42.5404 fan_{71} + 2127.02 compressor_{71} + 42.5404 fan_{72} + 2127.02 compressor_{72} + 42.5404 fan_{73} + 2127.02 compressor_{73} + 42.5404 fan_{74} + 2127.02 compressor_{74} + 42.5404 fan_{75} + 2127.02 compressor_{75} + 42.5404 fan_{76} + 2127.02 compressor_{76} + 42.5404 fan_{77} + 2127.02 compressor_{77} + 42.5404 fan_{78} + 2127.02 compressor_{78} + 42.5404 fan_{79} + 2127.02 compressor_{79} + 42.5404 fan_{80} + 2127.02 compressor_{80} + 42.5404 fan_{81} + 2127.02 compressor_{81} + 42.5404 fan_{82} + 2127.02 compressor_{82} + 42.5404 fan_{83} + 2127.02 compressor_{83} + 42.5404 fan_{84} + 2127.02 compressor_{84} + 42.5404 fan_{85} + 2127.02 compressor_{85} + 42.5404 fan_{86} + 2127.02 compressor_{86} + 42.5404 fan_{87} + 2127.02 compressor_{87} + 42.5404 fan_{88} + 2127.02 compressor_{88} + 42.5404 fan_{89} + 2127.02 compressor_{89} + 42.5404 fan_{90} + 2127.02 compressor_{90} + 42.5404 fan_{91} + 2127.02 compressor_{91} + 42.5404 fan_{92} + 2127.02 compressor_{92} + 42.5404 fan_{93} + 2127.02 compressor_{93} + 42.5404 fan_{94} + 2127.02 compressor_{94} + 42.5404 fan_{95} + 2127.02 compressor_{95} + 42.5404 fan_{96} + 2127.02 compressor_{96} + 42.5404 fan_{97} + 2127.02 compressor_{97} + 42.5404 fan_{98} + 2127.02 compressor_{98} + 42.5404 fan_{99} + 2127.02 compressor_{99} + 42.5404 fan_{100} + 2127.02 compressor_{100} + 42.5404 fan_{101} + 2127.02 compressor_{101} + 42.5404 fan_{102} + 2127.02 compressor_{102} + 42.5404 fan_{103} + 2127.02 compressor_{103} + 42.5404 fan_{104} + 2127.02 compressor_{104} + 42.5404 fan_{105} + 2127.02 compressor_{105} + 42.5404 fan_{106} + 2127.02 compressor_{106} + 42.5404 fan_{107} + 2127.02 compressor_{107} + 42.5404 fan_{108} + 2127.02 compressor_{108} + 42.5404 fan_{109} + 2127.02 compressor_{109} + 42.5404 fan_{110} + 2127.02 compressor_{110} + 42.5404 fan_{111} + 2127.02 compressor_{111} + 42.5404 fan_{112} + 2127.02 compressor_{112} + 42.5404 fan_{113} + 2127.02 compressor_{113} + 42.5404 fan_{114} + 2127.02 compressor_{114} + 42.5404 fan_{115} + 2127.02 compressor_{115} + 42.5404 fan_{116} + 2127.02 compressor_{116} + 42.5404 fan_{117} + 2127.02 compressor_{117} + 42.5404 fan_{118} + 2127.02 compressor_{118} + 42.5404 fan_{119} + 2127.02 compressor_{119} + 41.443599999999996 fan_{120} + 2072.18 compressor_{120} + 41.44359999999999 fan_{121} + 2072.1799999999994 compressor_{121} + 41.443599999999996 fan_{122} + 2072.18 compressor_{122} + 41.443599999999996 fan_{123} + 2072.18 compressor_{123} + 41.443599999999996 fan_{124} + 2072.18 compressor_{124} + 41.443599999999996 fan_{125} + 2072.18 compressor_{125} + 41.443599999999996 fan_{126} + 2072.18 compressor_{126} + 41.443599999999996 fan_{127} + 2072.18 compressor_{127} + 41.443599999999996 fan_{128} + 2072.18 compressor_{128} + 41.443599999999996 fan_{129} + 2072.18 compressor_{129} + 41.443599999999996 fan_{130} + 2072.18 compressor_{130} + 41.443599999999996 fan_{131} + 2072.18 compressor_{131} + 41.443599999999996 fan_{132} + 2072.18 compressor_{132} + 41.443599999999996 fan_{133} + 2072.18 compressor_{133} + 41.443599999999996 fan_{134} + 2072.18 compressor_{134} + 41.4436 fan_{135} + 2072.1800000000003 compressor_{135} + 41.44359999999999 fan_{136} + 2072.1799999999994 compressor_{136} + 41.443599999999996 fan_{137} + 2072.18 compressor_{137} + 41.443599999999996 fan_{138} + 2072.18 compressor_{138} + 41.443599999999996 fan_{139} + 2072.18 compressor_{139} + 41.443599999999996 fan_{140} + 2072.18 compressor_{140} + 41.44359999999999 fan_{141} + 2072.1799999999994 compressor_{141} + 41.443599999999996 fan_{142} + 2072.18 compressor_{142} + 41.443599999999996 fan_{143} + 2072.18 compressor_{143} + 41.443599999999996 fan_{144} + 2072.18 compressor_{144} + 41.443599999999996 fan_{145} + 2072.18 compressor_{145} + 41.443599999999996 fan_{146} + 2072.18 compressor_{146} + 41.443599999999996 fan_{147} + 2072.18 compressor_{147} + 41.443599999999996 fan_{148} + 2072.18 compressor_{148} + 41.443599999999996 fan_{149} + 2072.18 compressor_{149} + 41.443599999999996 fan_{150} + 2072.18 compressor_{150} + 41.443599999999996 fan_{151} + 2072.18 compressor_{151} + 41.443599999999996 fan_{152} + 2072.18 compressor_{152} + 41.443599999999996 fan_{153} + 2072.18 compressor_{153} + 41.443599999999996 fan_{154} + 2072.18 compressor_{154} + 41.443599999999996 fan_{155} + 2072.18 compressor_{155} + 41.443599999999996 fan_{156} + 2072.18 compressor_{156} + 41.443599999999996 fan_{157} + 2072.18 compressor_{157} + 41.443599999999996 fan_{158} + 2072.18 compressor_{158} + 41.443599999999996 fan_{159} + 2072.18 compressor_{159} + 41.443599999999996 fan_{160} + 2072.18 compressor_{160} + 41.443599999999996 fan_{161} + 2072.18 compressor_{161} + 41.443599999999996 fan_{162} + 2072.18 compressor_{162} + 41.443599999999996 fan_{163} + 2072.18 compressor_{163} + 41.443599999999996 fan_{164} + 2072.18 compressor_{164} + 41.443599999999996 fan_{165} + 2072.18 compressor_{165} + 41.443599999999996 fan_{166} + 2072.18 compressor_{166} + 41.443599999999996 fan_{167} + 2072.18 compressor_{167} + 41.443599999999996 fan_{168} + 2072.18 compressor_{168} + 41.443599999999996 fan_{169} + 2072.18 compressor_{169} + 41.443599999999996 fan_{170} + 2072.18 compressor_{170} + 41.443599999999996 fan_{171} + 2072.18 compressor_{171} + 41.443599999999996 fan_{172} + 2072.18 compressor_{172} + 41.443599999999996 fan_{173} + 2072.18 compressor_{173} + 41.443599999999996 fan_{174} + 2072.18 compressor_{174} + 41.443599999999996 fan_{175} + 2072.18 compressor_{175} + 41.443599999999996 fan_{176} + 2072.18 compressor_{176} + 41.443599999999996 fan_{177} + 2072.18 compressor_{177} + 41.443599999999996 fan_{178} + 2072.18 compressor_{178} + 41.443599999999996 fan_{179} + 2072.18 compressor_{179} + 40.546800000000005 fan_{180} + 2027.3400000000001 compressor_{180} + 40.546800000000005 fan_{181} + 2027.3400000000001 compressor_{181} + 40.546800000000005 fan_{182} + 2027.3400000000001 compressor_{182} + 40.546800000000005 fan_{183} + 2027.3400000000001 compressor_{183} + 40.546800000000005 fan_{184} + 2027.3400000000001 compressor_{184} + 40.546800000000005 fan_{185} + 2027.3400000000001 compressor_{185} + 40.546800000000005 fan_{186} + 2027.3400000000001 compressor_{186} + 40.546800000000005 fan_{187} + 2027.3400000000001 compressor_{187} + 40.546800000000005 fan_{188} + 2027.3400000000001 compressor_{188} + 40.546800000000005 fan_{189} + 2027.3400000000001 compressor_{189} + 40.546800000000005 fan_{190} + 2027.3400000000001 compressor_{190} + 40.546800000000005 fan_{191} + 2027.3400000000001 compressor_{191} + 40.546800000000005 fan_{192} + 2027.3400000000001 compressor_{192} + 40.546800000000005 fan_{193} + 2027.3400000000001 compressor_{193} + 40.546800000000005 fan_{194} + 2027.3400000000001 compressor_{194} + 40.546800000000005 fan_{195} + 2027.3400000000001 compressor_{195} + 40.54679999999999 fan_{196} + 2027.3399999999997 compressor_{196} + 40.546800000000005 fan_{197} + 2027.3400000000001 compressor_{197} + 40.546800000000005 fan_{198} + 2027.3400000000001 compressor_{198} + 40.546800000000005 fan_{199} + 2027.3400000000001 compressor_{199} + 40.546800000000005 fan_{200} + 2027.3400000000001 compressor_{200} + 40.54679999999999 fan_{201} + 2027.3399999999997 compressor_{201} + 40.546800000000005 fan_{202} + 2027.3400000000001 compressor_{202} + 40.546800000000005 fan_{203} + 2027.3400000000001 compressor_{203} + 40.546800000000005 fan_{204} + 2027.3400000000001 compressor_{204} + 40.546800000000005 fan_{205} + 2027.3400000000001 compressor_{205} + 40.546800000000005 fan_{206} + 2027.3400000000001 compressor_{206} + 40.546800000000005 fan_{207} + 2027.3400000000001 compressor_{207} + 40.546800000000005 fan_{208} + 2027.3400000000001 compressor_{208} + 40.546800000000005 fan_{209} + 2027.3400000000001 compressor_{209} + 40.546800000000005 fan_{210} + 2027.3400000000001 compressor_{210} + 40.546800000000005 fan_{211} + 2027.3400000000001 compressor_{211} + 40.546800000000005 fan_{212} + 2027.3400000000001 compressor_{212} + 40.546800000000005 fan_{213} + 2027.3400000000001 compressor_{213} + 40.546800000000005 fan_{214} + 2027.3400000000001 compressor_{214} + 40.546800000000005 fan_{215} + 2027.3400000000001 compressor_{215} + 40.546800000000005 fan_{216} + 2027.3400000000001 compressor_{216} + 40.546800000000005 fan_{217} + 2027.3400000000001 compressor_{217} + 40.546800000000005 fan_{218} + 2027.3400000000001 compressor_{218} + 40.546800000000005 fan_{219} + 2027.3400000000001 compressor_{219} + 40.546800000000005 fan_{220} + 2027.3400000000001 compressor_{220} + 40.546800000000005 fan_{221} + 2027.3400000000001 compressor_{221} + 40.546800000000005 fan_{222} + 2027.3400000000001 compressor_{222} + 40.546800000000005 fan_{223} + 2027.3400000000001 compressor_{223} + 40.546800000000005 fan_{224} + 2027.3400000000001 compressor_{224} + 40.546800000000005 fan_{225} + 2027.3400000000001 compressor_{225} + 40.546800000000005 fan_{226} + 2027.3400000000001 compressor_{226} + 40.546800000000005 fan_{227} + 2027.3400000000001 compressor_{227} + 40.546800000000005 fan_{228} + 2027.3400000000001 compressor_{228} + 40.546800000000005 fan_{229} + 2027.3400000000001 compressor_{229} + 40.546800000000005 fan_{230} + 2027.3400000000001 compressor_{230} + 40.546800000000005 fan_{231} + 2027.3400000000001 compressor_{231} + 40.546800000000005 fan_{232} + 2027.3400000000001 compressor_{232} + 40.546800000000005 fan_{233} + 2027.3400000000001 compressor_{233} + 40.546800000000005 fan_{234} + 2027.3400000000001 compressor_{234} + 40.546800000000005 fan_{235} + 2027.3400000000001 compressor_{235} + 40.546800000000005 fan_{236} + 2027.3400000000001 compressor_{236} + 40.546800000000005 fan_{237} + 2027.3400000000001 compressor_{237} + 40.546800000000005 fan_{238} + 2027.3400000000001 compressor_{238} + 40.546800000000005 fan_{239} + 2027.3400000000001 compressor_{239} + 40.1459 fan_{240} + 2007.295 compressor_{240} + 40.1459 fan_{241} + 2007.295 compressor_{241} + 40.1459 fan_{242} + 2007.295 compressor_{242} + 40.1459 fan_{243} + 2007.295 compressor_{243} + 40.1459 fan_{244} + 2007.295 compressor_{244} + 40.1459 fan_{245} + 2007.295 compressor_{245} + 40.1459 fan_{246} + 2007.295 compressor_{246} + 40.1459 fan_{247} + 2007.295 compressor_{247} + 40.1459 fan_{248} + 2007.295 compressor_{248} + 40.1459 fan_{249} + 2007.295 compressor_{249} + 40.1459 fan_{250} + 2007.295 compressor_{250} + 40.1459 fan_{251} + 2007.295 compressor_{251} + 40.1459 fan_{252} + 2007.295 compressor_{252} + 40.1459 fan_{253} + 2007.295 compressor_{253} + 40.1459 fan_{254} + 2007.295 compressor_{254} + 40.1459 fan_{255} + 2007.295 compressor_{255} + 40.1459 fan_{256} + 2007.295 compressor_{256} + 40.1459 fan_{257} + 2007.295 compressor_{257} + 40.1459 fan_{258} + 2007.295 compressor_{258} + 40.1459 fan_{259} + 2007.295 compressor_{259} + 40.1459 fan_{260} + 2007.295 compressor_{260} + 40.1459 fan_{261} + 2007.295 compressor_{261} + 40.1459 fan_{262} + 2007.295 compressor_{262} + 40.1459 fan_{263} + 2007.295 compressor_{263} + 40.1459 fan_{264} + 2007.295 compressor_{264} + 40.1459 fan_{265} + 2007.295 compressor_{265} + 40.1459 fan_{266} + 2007.295 compressor_{266} + 40.1459 fan_{267} + 2007.295 compressor_{267} + 40.1459 fan_{268} + 2007.295 compressor_{268} + 40.1459 fan_{269} + 2007.295 compressor_{269} + 40.1459 fan_{270} + 2007.295 compressor_{270} + 40.1459 fan_{271} + 2007.295 compressor_{271} + 40.1459 fan_{272} + 2007.295 compressor_{272} + 40.1459 fan_{273} + 2007.295 compressor_{273} + 40.1459 fan_{274} + 2007.295 compressor_{274} + 40.1459 fan_{275} + 2007.295 compressor_{275} + 40.1459 fan_{276} + 2007.295 compressor_{276} + 40.1459 fan_{277} + 2007.295 compressor_{277} + 40.1459 fan_{278} + 2007.295 compressor_{278} + 40.1459 fan_{279} + 2007.295 compressor_{279} + 40.1459 fan_{280} + 2007.295 compressor_{280} + 40.1459 fan_{281} + 2007.295 compressor_{281} + 40.1459 fan_{282} + 2007.295 compressor_{282} + 40.1459 fan_{283} + 2007.295 compressor_{283} + 40.1459 fan_{284} + 2007.295 compressor_{284} + 40.1459 fan_{285} + 2007.295 compressor_{285} + 40.1459 fan_{286} + 2007.295 compressor_{286} + 40.1459 fan_{287} + 2007.295 compressor_{287} + 40.1459 fan_{288} + 2007.295 compressor_{288} + 40.1459 fan_{289} + 2007.295 compressor_{289} + 40.1459 fan_{290} + 2007.295 compressor_{290} + 40.1459 fan_{291} + 2007.295 compressor_{291} + 40.1459 fan_{292} + 2007.295 compressor_{292} + 40.1459 fan_{293} + 2007.295 compressor_{293} + 40.1459 fan_{294} + 2007.295 compressor_{294} + 40.1459 fan_{295} + 2007.295 compressor_{295} + 40.1459 fan_{296} + 2007.295 compressor_{296} + 40.1459 fan_{297} + 2007.295 compressor_{297} + 40.1459 fan_{298} + 2007.295 compressor_{298} + 40.1459 fan_{299} + 2007.295 compressor_{299} + 40.263099999999994 fan_{300} + 2013.1549999999997 compressor_{300} + 40.263099999999994 fan_{301} + 2013.1549999999997 compressor_{301} + 40.263099999999994 fan_{302} + 2013.1549999999997 compressor_{302} + 40.263099999999994 fan_{303} + 2013.1549999999997 compressor_{303} + 40.263099999999994 fan_{304} + 2013.1549999999997 compressor_{304} + 40.263099999999994 fan_{305} + 2013.1549999999997 compressor_{305} + 40.263099999999994 fan_{306} + 2013.1549999999997 compressor_{306} + 40.263099999999994 fan_{307} + 2013.1549999999997 compressor_{307} + 40.263099999999994 fan_{308} + 2013.1549999999997 compressor_{308} + 40.263099999999994 fan_{309} + 2013.1549999999997 compressor_{309} + 40.263099999999994 fan_{310} + 2013.1549999999997 compressor_{310} + 40.263099999999994 fan_{311} + 2013.1549999999997 compressor_{311} + 40.263099999999994 fan_{312} + 2013.1549999999997 compressor_{312} + 40.263099999999994 fan_{313} + 2013.1549999999997 compressor_{313} + 40.263099999999994 fan_{314} + 2013.1549999999997 compressor_{314} + 40.263099999999994 fan_{315} + 2013.1549999999997 compressor_{315} + 40.263099999999994 fan_{316} + 2013.1549999999997 compressor_{316} + 40.263099999999994 fan_{317} + 2013.1549999999997 compressor_{317} + 40.263099999999994 fan_{318} + 2013.1549999999997 compressor_{318} + 40.263099999999994 fan_{319} + 2013.1549999999997 compressor_{319} + 40.263099999999994 fan_{320} + 2013.1549999999997 compressor_{320} + 40.263099999999994 fan_{321} + 2013.1549999999997 compressor_{321} + 40.263099999999994 fan_{322} + 2013.1549999999997 compressor_{322} + 40.263099999999994 fan_{323} + 2013.1549999999997 compressor_{323} + 40.263099999999994 fan_{324} + 2013.1549999999997 compressor_{324} + 40.263099999999994 fan_{325} + 2013.1549999999997 compressor_{325} + 40.263099999999994 fan_{326} + 2013.1549999999997 compressor_{326} + 40.263099999999994 fan_{327} + 2013.1549999999997 compressor_{327} + 40.263099999999994 fan_{328} + 2013.1549999999997 compressor_{328} + 40.263099999999994 fan_{329} + 2013.1549999999997 compressor_{329} + 40.263099999999994 fan_{330} + 2013.1549999999997 compressor_{330} + 40.263099999999994 fan_{331} + 2013.1549999999997 compressor_{331} + 40.263099999999994 fan_{332} + 2013.1549999999997 compressor_{332} + 40.263099999999994 fan_{333} + 2013.1549999999997 compressor_{333} + 40.263099999999994 fan_{334} + 2013.1549999999997 compressor_{334} + 40.263099999999994 fan_{335} + 2013.1549999999997 compressor_{335} + 40.263099999999994 fan_{336} + 2013.1549999999997 compressor_{336} + 40.263099999999994 fan_{337} + 2013.1549999999997 compressor_{337} + 40.263099999999994 fan_{338} + 2013.1549999999997 compressor_{338} + 40.263099999999994 fan_{339} + 2013.1549999999997 compressor_{339} + 40.263099999999994 fan_{340} + 2013.1549999999997 compressor_{340} + 40.263099999999994 fan_{341} + 2013.1549999999997 compressor_{341} + 40.263099999999994 fan_{342} + 2013.1549999999997 compressor_{342} + 40.263099999999994 fan_{343} + 2013.1549999999997 compressor_{343} + 40.263099999999994 fan_{344} + 2013.1549999999997 compressor_{344} + 40.263099999999994 fan_{345} + 2013.1549999999997 compressor_{345} + 40.263099999999994 fan_{346} + 2013.1549999999997 compressor_{346} + 40.263099999999994 fan_{347} + 2013.1549999999997 compressor_{347} + 40.263099999999994 fan_{348} + 2013.1549999999997 compressor_{348} + 40.263099999999994 fan_{349} + 2013.1549999999997 compressor_{349} + 40.263099999999994 fan_{350} + 2013.1549999999997 compressor_{350} + 40.263099999999994 fan_{351} + 2013.1549999999997 compressor_{351} + 40.263099999999994 fan_{352} + 2013.1549999999997 compressor_{352} + 40.263099999999994 fan_{353} + 2013.1549999999997 compressor_{353} + 40.263099999999994 fan_{354} + 2013.1549999999997 compressor_{354} + 40.263099999999994 fan_{355} + 2013.1549999999997 compressor_{355} + 40.263099999999994 fan_{356} + 2013.1549999999997 compressor_{356} + 40.263099999999994 fan_{357} + 2013.1549999999997 compressor_{357} + 40.263099999999994 fan_{358} + 2013.1549999999997 compressor_{358} + 40.263099999999994 fan_{359} + 2013.1549999999997 compressor_{359} + 41.613499999999995 fan_{360} + 2080.6749999999997 compressor_{360} + 41.61349999999999 fan_{361} + 2080.6749999999993 compressor_{361} + 41.613499999999995 fan_{362} + 2080.6749999999997 compressor_{362} + 41.613499999999995 fan_{363} + 2080.6749999999997 compressor_{363} + 41.613499999999995 fan_{364} + 2080.6749999999997 compressor_{364} + 41.613499999999995 fan_{365} + 2080.6749999999997 compressor_{365} + 41.613499999999995 fan_{366} + 2080.6749999999997 compressor_{366} + 41.613499999999995 fan_{367} + 2080.6749999999997 compressor_{367} + 41.613499999999995 fan_{368} + 2080.6749999999997 compressor_{368} + 41.613499999999995 fan_{369} + 2080.6749999999997 compressor_{369} + 41.613499999999995 fan_{370} + 2080.6749999999997 compressor_{370} + 41.613499999999995 fan_{371} + 2080.6749999999997 compressor_{371} + 41.613499999999995 fan_{372} + 2080.6749999999997 compressor_{372} + 41.613499999999995 fan_{373} + 2080.6749999999997 compressor_{373} + 41.613499999999995 fan_{374} + 2080.6749999999997 compressor_{374} + 41.613499999999995 fan_{375} + 2080.6749999999997 compressor_{375} + 41.613499999999995 fan_{376} + 2080.6749999999997 compressor_{376} + 41.613499999999995 fan_{377} + 2080.6749999999997 compressor_{377} + 41.613499999999995 fan_{378} + 2080.6749999999997 compressor_{378} + 41.613499999999995 fan_{379} + 2080.6749999999997 compressor_{379} + 41.613499999999995 fan_{380} + 2080.6749999999997 compressor_{380} + 41.613499999999995 fan_{381} + 2080.6749999999997 compressor_{381} + 41.613499999999995 fan_{382} + 2080.6749999999997 compressor_{382} + 41.613499999999995 fan_{383} + 2080.6749999999997 compressor_{383} + 41.61349999999999 fan_{384} + 2080.6749999999993 compressor_{384} + 41.613499999999995 fan_{385} + 2080.6749999999997 compressor_{385} + 41.61349999999999 fan_{386} + 2080.6749999999993 compressor_{386} + 41.613499999999995 fan_{387} + 2080.6749999999997 compressor_{387} + 41.613499999999995 fan_{388} + 2080.6749999999997 compressor_{388} + 41.613499999999995 fan_{389} + 2080.6749999999997 compressor_{389} + 41.613499999999995 fan_{390} + 2080.6749999999997 compressor_{390} + 41.613499999999995 fan_{391} + 2080.6749999999997 compressor_{391} + 41.613499999999995 fan_{392} + 2080.6749999999997 compressor_{392} + 41.613499999999995 fan_{393} + 2080.6749999999997 compressor_{393} + 41.613499999999995 fan_{394} + 2080.6749999999997 compressor_{394} + 41.613499999999995 fan_{395} + 2080.6749999999997 compressor_{395} + 41.613499999999995 fan_{396} + 2080.6749999999997 compressor_{396} + 41.613499999999995 fan_{397} + 2080.6749999999997 compressor_{397} + 41.613499999999995 fan_{398} + 2080.6749999999997 compressor_{398} + 41.613499999999995 fan_{399} + 2080.6749999999997 compressor_{399} + 41.613499999999995 fan_{400} + 2080.6749999999997 compressor_{400} + 41.613499999999995 fan_{401} + 2080.6749999999997 compressor_{401} + 41.613499999999995 fan_{402} + 2080.6749999999997 compressor_{402} + 41.613499999999995 fan_{403} + 2080.6749999999997 compressor_{403} + 41.613499999999995 fan_{404} + 2080.6749999999997 compressor_{404} + 41.613499999999995 fan_{405} + 2080.6749999999997 compressor_{405} + 41.613499999999995 fan_{406} + 2080.6749999999997 compressor_{406} + 41.613499999999995 fan_{407} + 2080.6749999999997 compressor_{407} + 41.613499999999995 fan_{408} + 2080.6749999999997 compressor_{408} + 41.613499999999995 fan_{409} + 2080.6749999999997 compressor_{409} + 41.613499999999995 fan_{410} + 2080.6749999999997 compressor_{410} + 41.613499999999995 fan_{411} + 2080.6749999999997 compressor_{411} + 41.613499999999995 fan_{412} + 2080.6749999999997 compressor_{412} + 41.613499999999995 fan_{413} + 2080.6749999999997 compressor_{413} + 41.613499999999995 fan_{414} + 2080.6749999999997 compressor_{414} + 41.613499999999995 fan_{415} + 2080.6749999999997 compressor_{415} + 41.613499999999995 fan_{416} + 2080.6749999999997 compressor_{416} + 41.613499999999995 fan_{417} + 2080.6749999999997 compressor_{417} + 41.613499999999995 fan_{418} + 2080.6749999999997 compressor_{418} + 41.613499999999995 fan_{419} + 2080.6749999999997 compressor_{419} + 42.4251 fan_{420} + 2121.255 compressor_{420} + 42.4251 fan_{421} + 2121.255 compressor_{421} + 42.4251 fan_{422} + 2121.255 compressor_{422} + 42.4251 fan_{423} + 2121.255 compressor_{423} + 42.4251 fan_{424} + 2121.255 compressor_{424} + 42.4251 fan_{425} + 2121.255 compressor_{425} + 42.4251 fan_{426} + 2121.255 compressor_{426} + 42.4251 fan_{427} + 2121.255 compressor_{427} + 42.4251 fan_{428} + 2121.255 compressor_{428} + 42.4251 fan_{429} + 2121.255 compressor_{429} + 42.4251 fan_{430} + 2121.255 compressor_{430} + 42.4251 fan_{431} + 2121.255 compressor_{431} + 42.4251 fan_{432} + 2121.255 compressor_{432} + 42.4251 fan_{433} + 2121.255 compressor_{433} + 42.4251 fan_{434} + 2121.255 compressor_{434} + 42.42509999999999 fan_{435} + 2121.2549999999997 compressor_{435} + 42.425100000000015 fan_{436} + 2121.2550000000006 compressor_{436} + 42.4251 fan_{437} + 2121.255 compressor_{437} + 42.4251 fan_{438} + 2121.255 compressor_{438} + 42.4251 fan_{439} + 2121.255 compressor_{439} + 42.4251 fan_{440} + 2121.255 compressor_{440} + 42.4251 fan_{441} + 2121.255 compressor_{441} + 42.4251 fan_{442} + 2121.255 compressor_{442} + 42.4251 fan_{443} + 2121.255 compressor_{443} + 42.4251 fan_{444} + 2121.255 compressor_{444} + 42.4251 fan_{445} + 2121.255 compressor_{445} + 42.4251 fan_{446} + 2121.255 compressor_{446} + 42.4251 fan_{447} + 2121.255 compressor_{447} + 42.42509999999999 fan_{448} + 2121.2549999999997 compressor_{448} + 42.4251 fan_{449} + 2121.255 compressor_{449} + 42.4251 fan_{450} + 2121.255 compressor_{450} + 42.4251 fan_{451} + 2121.255 compressor_{451} + 42.4251 fan_{452} + 2121.255 compressor_{452} + 42.4251 fan_{453} + 2121.255 compressor_{453} + 42.4251 fan_{454} + 2121.255 compressor_{454} + 42.4251 fan_{455} + 2121.255 compressor_{455} + 42.4251 fan_{456} + 2121.255 compressor_{456} + 42.4251 fan_{457} + 2121.255 compressor_{457} + 42.4251 fan_{458} + 2121.255 compressor_{458} + 42.4251 fan_{459} + 2121.255 compressor_{459} + 42.4251 fan_{460} + 2121.255 compressor_{460} + 42.4251 fan_{461} + 2121.255 compressor_{461} + 42.4251 fan_{462} + 2121.255 compressor_{462} + 42.4251 fan_{463} + 2121.255 compressor_{463} + 42.4251 fan_{464} + 2121.255 compressor_{464} + 42.4251 fan_{465} + 2121.255 compressor_{465} + 42.4251 fan_{466} + 2121.255 compressor_{466} + 42.4251 fan_{467} + 2121.255 compressor_{467} + 42.4251 fan_{468} + 2121.255 compressor_{468} + 42.4251 fan_{469} + 2121.255 compressor_{469} + 42.4251 fan_{470} + 2121.255 compressor_{470} + 42.4251 fan_{471} + 2121.255 compressor_{471} + 42.4251 fan_{472} + 2121.255 compressor_{472} + 42.4251 fan_{473} + 2121.255 compressor_{473} + 42.4251 fan_{474} + 2121.255 compressor_{474} + 42.4251 fan_{475} + 2121.255 compressor_{475} + 42.4251 fan_{476} + 2121.255 compressor_{476} + 42.425100000000015 fan_{477} + 2121.2550000000006 compressor_{477} + 42.4251 fan_{478} + 2121.255 compressor_{478} + 42.4251 fan_{479} + 2121.255 compressor_{479} + 44.997600000000006 fan_{480} + 2249.88 compressor_{480} + 44.997600000000006 fan_{481} + 2249.88 compressor_{481} + 44.997600000000006 fan_{482} + 2249.88 compressor_{482} + 44.997600000000006 fan_{483} + 2249.88 compressor_{483} + 44.997600000000006 fan_{484} + 2249.88 compressor_{484} + 44.997600000000006 fan_{485} + 2249.88 compressor_{485} + 44.997600000000006 fan_{486} + 2249.88 compressor_{486} + 44.997600000000006 fan_{487} + 2249.88 compressor_{487} + 44.997600000000006 fan_{488} + 2249.88 compressor_{488} + 44.997600000000006 fan_{489} + 2249.88 compressor_{489} + 44.997600000000006 fan_{490} + 2249.88 compressor_{490} + 44.997600000000006 fan_{491} + 2249.88 compressor_{491} + 44.997600000000006 fan_{492} + 2249.88 compressor_{492} + 44.997600000000006 fan_{493} + 2249.88 compressor_{493} + 44.997600000000006 fan_{494} + 2249.88 compressor_{494} + 44.997600000000006 fan_{495} + 2249.88 compressor_{495} + 44.997600000000006 fan_{496} + 2249.88 compressor_{496} + 44.997600000000006 fan_{497} + 2249.88 compressor_{497} + 44.997600000000006 fan_{498} + 2249.88 compressor_{498} + 44.997600000000006 fan_{499} + 2249.88 compressor_{499} + 44.997600000000006 fan_{500} + 2249.88 compressor_{500} + 44.997600000000006 fan_{501} + 2249.88 compressor_{501} + 44.997600000000006 fan_{502} + 2249.88 compressor_{502} + 44.997600000000006 fan_{503} + 2249.88 compressor_{503} + 44.997600000000006 fan_{504} + 2249.88 compressor_{504} + 44.997600000000006 fan_{505} + 2249.88 compressor_{505} + 44.997600000000006 fan_{506} + 2249.88 compressor_{506} + 44.997600000000006 fan_{507} + 2249.88 compressor_{507} + 44.997600000000006 fan_{508} + 2249.88 compressor_{508} + 44.997600000000006 fan_{509} + 2249.88 compressor_{509} + 44.997600000000006 fan_{510} + 2249.88 compressor_{510} + 44.997600000000006 fan_{511} + 2249.88 compressor_{511} + 44.997600000000006 fan_{512} + 2249.88 compressor_{512} + 44.997600000000006 fan_{513} + 2249.88 compressor_{513} + 44.997600000000006 fan_{514} + 2249.88 compressor_{514} + 44.997600000000006 fan_{515} + 2249.88 compressor_{515} + 44.997600000000006 fan_{516} + 2249.88 compressor_{516} + 44.997600000000006 fan_{517} + 2249.88 compressor_{517} + 44.997600000000006 fan_{518} + 2249.88 compressor_{518} + 44.997600000000006 fan_{519} + 2249.88 compressor_{519} + 44.997600000000006 fan_{520} + 2249.88 compressor_{520} + 44.997600000000006 fan_{521} + 2249.88 compressor_{521} + 44.997600000000006 fan_{522} + 2249.88 compressor_{522} + 44.997600000000006 fan_{523} + 2249.88 compressor_{523} + 44.997600000000006 fan_{524} + 2249.88 compressor_{524} + 44.997600000000006 fan_{525} + 2249.88 compressor_{525} + 44.997600000000006 fan_{526} + 2249.88 compressor_{526} + 44.997600000000006 fan_{527} + 2249.88 compressor_{527} + 44.997600000000006 fan_{528} + 2249.88 compressor_{528} + 44.997600000000006 fan_{529} + 2249.88 compressor_{529} + 44.997600000000006 fan_{530} + 2249.88 compressor_{530} + 44.997600000000006 fan_{531} + 2249.88 compressor_{531} + 44.997600000000006 fan_{532} + 2249.88 compressor_{532} + 44.997600000000006 fan_{533} + 2249.88 compressor_{533} + 44.997600000000006 fan_{534} + 2249.88 compressor_{534} + 44.997600000000006 fan_{535} + 2249.88 compressor_{535} + 44.997600000000006 fan_{536} + 2249.88 compressor_{536} + 44.997600000000006 fan_{537} + 2249.88 compressor_{537} + 44.997600000000006 fan_{538} + 2249.88 compressor_{538} + 44.997600000000006 fan_{539} + 2249.88 compressor_{539} + 45.9363 fan_{540} + 2296.815 compressor_{540} + 45.9363 fan_{541} + 2296.815 compressor_{541} + 45.93629999999999 fan_{542} + 2296.8149999999996 compressor_{542} + 45.9363 fan_{543} + 2296.815 compressor_{543} + 45.9363 fan_{544} + 2296.815 compressor_{544} + 45.9363 fan_{545} + 2296.815 compressor_{545} + 45.93629999999999 fan_{546} + 2296.8149999999996 compressor_{546} + 45.9363 fan_{547} + 2296.815 compressor_{547} + 45.9363 fan_{548} + 2296.815 compressor_{548} + 45.9363 fan_{549} + 2296.815 compressor_{549} + 45.9363 fan_{550} + 2296.815 compressor_{550} + 45.9363 fan_{551} + 2296.815 compressor_{551} + 45.9363 fan_{552} + 2296.815 compressor_{552} + 45.9363 fan_{553} + 2296.815 compressor_{553} + 45.9363 fan_{554} + 2296.815 compressor_{554} + 45.9363 fan_{555} + 2296.815 compressor_{555} + 45.9363 fan_{556} + 2296.815 compressor_{556} + 45.9363 fan_{557} + 2296.815 compressor_{557} + 45.9363 fan_{558} + 2296.815 compressor_{558} + 45.9363 fan_{559} + 2296.815 compressor_{559} + 45.9363 fan_{560} + 2296.815 compressor_{560} + 45.9363 fan_{561} + 2296.815 compressor_{561} + 45.9363 fan_{562} + 2296.815 compressor_{562} + 45.9363 fan_{563} + 2296.815 compressor_{563} + 45.9363 fan_{564} + 2296.815 compressor_{564} + 45.9363 fan_{565} + 2296.815 compressor_{565} + 45.9363 fan_{566} + 2296.815 compressor_{566} + 45.9363 fan_{567} + 2296.815 compressor_{567} + 45.93629999999999 fan_{568} + 2296.8149999999996 compressor_{568} + 45.93630000000001 fan_{569} + 2296.8150000000005 compressor_{569} + 45.9363 fan_{570} + 2296.815 compressor_{570} + 45.9363 fan_{571} + 2296.815 compressor_{571} + 45.9363 fan_{572} + 2296.815 compressor_{572} + 45.9363 fan_{573} + 2296.815 compressor_{573} + 45.9363 fan_{574} + 2296.815 compressor_{574} + 45.9363 fan_{575} + 2296.815 compressor_{575} + 45.9363 fan_{576} + 2296.815 compressor_{576} + 45.9363 fan_{577} + 2296.815 compressor_{577} + 45.9363 fan_{578} + 2296.815 compressor_{578} + 45.9363 fan_{579} + 2296.815 compressor_{579} + 45.9363 fan_{580} + 2296.815 compressor_{580} + 45.9363 fan_{581} + 2296.815 compressor_{581} + 45.9363 fan_{582} + 2296.815 compressor_{582} + 45.9363 fan_{583} + 2296.815 compressor_{583} + 45.9363 fan_{584} + 2296.815 compressor_{584} + 45.9363 fan_{585} + 2296.815 compressor_{585} + 45.9363 fan_{586} + 2296.815 compressor_{586} + 45.9363 fan_{587} + 2296.815 compressor_{587} + 45.9363 fan_{588} + 2296.815 compressor_{588} + 45.9363 fan_{589} + 2296.815 compressor_{589} + 45.9363 fan_{590} + 2296.815 compressor_{590} + 45.9363 fan_{591} + 2296.815 compressor_{591} + 45.9363 fan_{592} + 2296.815 compressor_{592} + 45.9363 fan_{593} + 2296.815 compressor_{593} + 45.9363 fan_{594} + 2296.815 compressor_{594} + 45.9363 fan_{595} + 2296.815 compressor_{595} + 45.9363 fan_{596} + 2296.815 compressor_{596} + 45.9363 fan_{597} + 2296.815 compressor_{597} + 45.9363 fan_{598} + 2296.815 compressor_{598} + 45.9363 fan_{599} + 2296.815 compressor_{599} + 47.739399999999996 fan_{600} + 2386.97 compressor_{600} + 47.739399999999996 fan_{601} + 2386.97 compressor_{601} + 47.739399999999996 fan_{602} + 2386.97 compressor_{602} + 47.739399999999996 fan_{603} + 2386.97 compressor_{603} + 47.739399999999996 fan_{604} + 2386.97 compressor_{604} + 47.739399999999996 fan_{605} + 2386.97 compressor_{605} + 47.739399999999996 fan_{606} + 2386.97 compressor_{606} + 47.739399999999996 fan_{607} + 2386.97 compressor_{607} + 47.739399999999996 fan_{608} + 2386.97 compressor_{608} + 47.739399999999996 fan_{609} + 2386.97 compressor_{609} + 47.739399999999996 fan_{610} + 2386.97 compressor_{610} + 47.739399999999996 fan_{611} + 2386.97 compressor_{611} + 47.739399999999996 fan_{612} + 2386.97 compressor_{612} + 47.739399999999996 fan_{613} + 2386.97 compressor_{613} + 47.739399999999996 fan_{614} + 2386.97 compressor_{614} + 47.739399999999996 fan_{615} + 2386.97 compressor_{615} + 47.739399999999996 fan_{616} + 2386.97 compressor_{616} + 47.739399999999996 fan_{617} + 2386.97 compressor_{617} + 47.739399999999996 fan_{618} + 2386.97 compressor_{618} + 47.739399999999996 fan_{619} + 2386.97 compressor_{619} + 47.739399999999996 fan_{620} + 2386.97 compressor_{620} + 47.739399999999996 fan_{621} + 2386.97 compressor_{621} + 47.739399999999996 fan_{622} + 2386.97 compressor_{622} + 47.739399999999996 fan_{623} + 2386.97 compressor_{623} + 47.739399999999996 fan_{624} + 2386.97 compressor_{624} + 47.739399999999996 fan_{625} + 2386.97 compressor_{625} + 47.739399999999996 fan_{626} + 2386.97 compressor_{626} + 47.739399999999996 fan_{627} + 2386.97 compressor_{627} + 47.739399999999996 fan_{628} + 2386.97 compressor_{628} + 47.739399999999996 fan_{629} + 2386.97 compressor_{629} + 47.739399999999996 fan_{630} + 2386.97 compressor_{630} + 47.739399999999996 fan_{631} + 2386.97 compressor_{631} + 47.739399999999996 fan_{632} + 2386.97 compressor_{632} + 47.739399999999996 fan_{633} + 2386.97 compressor_{633} + 47.739399999999996 fan_{634} + 2386.97 compressor_{634} + 47.739399999999996 fan_{635} + 2386.97 compressor_{635} + 47.739399999999996 fan_{636} + 2386.97 compressor_{636} + 47.739399999999996 fan_{637} + 2386.97 compressor_{637} + 47.739399999999996 fan_{638} + 2386.97 compressor_{638} + 47.739399999999996 fan_{639} + 2386.97 compressor_{639} + 47.739399999999996 fan_{640} + 2386.97 compressor_{640} + 47.739399999999996 fan_{641} + 2386.97 compressor_{641} + 47.739399999999996 fan_{642} + 2386.97 compressor_{642} + 47.739399999999996 fan_{643} + 2386.97 compressor_{643} + 47.739399999999996 fan_{644} + 2386.97 compressor_{644} + 47.739399999999996 fan_{645} + 2386.97 compressor_{645} + 47.739399999999996 fan_{646} + 2386.97 compressor_{646} + 47.739399999999996 fan_{647} + 2386.97 compressor_{647} + 47.739399999999996 fan_{648} + 2386.97 compressor_{648} + 47.739399999999996 fan_{649} + 2386.97 compressor_{649} + 47.739399999999996 fan_{650} + 2386.97 compressor_{650} + 47.739399999999996 fan_{651} + 2386.97 compressor_{651} + 47.739399999999996 fan_{652} + 2386.97 compressor_{652} + 47.739399999999996 fan_{653} + 2386.97 compressor_{653} + 47.739399999999996 fan_{654} + 2386.97 compressor_{654} + 47.739399999999996 fan_{655} + 2386.97 compressor_{655} + 47.739399999999996 fan_{656} + 2386.97 compressor_{656} + 47.739399999999996 fan_{657} + 2386.97 compressor_{657} + 47.739399999999996 fan_{658} + 2386.97 compressor_{658} + 47.739399999999996 fan_{659} + 2386.97 compressor_{659} + 48.0014 fan_{660} + 2400.0699999999997 compressor_{660} + 48.0014 fan_{661} + 2400.0699999999997 compressor_{661} + 48.0014 fan_{662} + 2400.0699999999997 compressor_{662} + 48.0014 fan_{663} + 2400.0699999999997 compressor_{663} + 48.0014 fan_{664} + 2400.0699999999997 compressor_{664} + 48.0014 fan_{665} + 2400.0699999999997 compressor_{665} + 48.0014 fan_{666} + 2400.0699999999997 compressor_{666} + 48.0014 fan_{667} + 2400.0699999999997 compressor_{667} + 48.001400000000004 fan_{668} + 2400.07 compressor_{668} + 48.0014 fan_{669} + 2400.0699999999997 compressor_{669} + 48.0014 fan_{670} + 2400.0699999999997 compressor_{670} + 48.0014 fan_{671} + 2400.0699999999997 compressor_{671} + 48.0014 fan_{672} + 2400.0699999999997 compressor_{672} + 48.0014 fan_{673} + 2400.0699999999997 compressor_{673} + 48.0014 fan_{674} + 2400.0699999999997 compressor_{674} + 48.0014 fan_{675} + 2400.0699999999997 compressor_{675} + 48.0014 fan_{676} + 2400.0699999999997 compressor_{676} + 48.0014 fan_{677} + 2400.0699999999997 compressor_{677} + 48.0014 fan_{678} + 2400.0699999999997 compressor_{678} + 48.001400000000004 fan_{679} + 2400.07 compressor_{679} + 48.0014 fan_{680} + 2400.0699999999997 compressor_{680} + 48.0014 fan_{681} + 2400.0699999999997 compressor_{681} + 48.0014 fan_{682} + 2400.0699999999997 compressor_{682} + 48.0014 fan_{683} + 2400.0699999999997 compressor_{683} + 48.001400000000004 fan_{684} + 2400.07 compressor_{684} + 48.0014 fan_{685} + 2400.0699999999997 compressor_{685} + 48.0014 fan_{686} + 2400.0699999999997 compressor_{686} + 48.0014 fan_{687} + 2400.0699999999997 compressor_{687} + 48.00139999999999 fan_{688} + 2400.0699999999997 compressor_{688} + 48.0014 fan_{689} + 2400.0699999999997 compressor_{689} + 48.0014 fan_{690} + 2400.0699999999997 compressor_{690} + 48.0014 fan_{691} + 2400.0699999999997 compressor_{691} + 48.0014 fan_{692} + 2400.0699999999997 compressor_{692} + 48.0014 fan_{693} + 2400.0699999999997 compressor_{693} + 48.0014 fan_{694} + 2400.0699999999997 compressor_{694} + 48.0014 fan_{695} + 2400.0699999999997 compressor_{695} + 48.0014 fan_{696} + 2400.0699999999997 compressor_{696} + 48.0014 fan_{697} + 2400.0699999999997 compressor_{697} + 48.0014 fan_{698} + 2400.0699999999997 compressor_{698} + 48.0014 fan_{699} + 2400.0699999999997 compressor_{699} + 48.0014 fan_{700} + 2400.0699999999997 compressor_{700} + 48.0014 fan_{701} + 2400.0699999999997 compressor_{701} + 48.0014 fan_{702} + 2400.0699999999997 compressor_{702} + 48.0014 fan_{703} + 2400.0699999999997 compressor_{703} + 48.0014 fan_{704} + 2400.0699999999997 compressor_{704} + 48.0014 fan_{705} + 2400.0699999999997 compressor_{705} + 48.0014 fan_{706} + 2400.0699999999997 compressor_{706} + 48.0014 fan_{707} + 2400.0699999999997 compressor_{707} + 48.0014 fan_{708} + 2400.0699999999997 compressor_{708} + 48.0014 fan_{709} + 2400.0699999999997 compressor_{709} + 48.0014 fan_{710} + 2400.0699999999997 compressor_{710} + 48.0014 fan_{711} + 2400.0699999999997 compressor_{711} + 48.0014 fan_{712} + 2400.0699999999997 compressor_{712} + 48.0014 fan_{713} + 2400.0699999999997 compressor_{713} + 48.0014 fan_{714} + 2400.0699999999997 compressor_{714} + 48.0014 fan_{715} + 2400.0699999999997 compressor_{715} + 48.0014 fan_{716} + 2400.0699999999997 compressor_{716} + 48.0014 fan_{717} + 2400.0699999999997 compressor_{717} + 48.0014 fan_{718} + 2400.0699999999997 compressor_{718} + 48.0014 fan_{719} + 2400.0699999999997 compressor_{719} + 47.8849 fan_{720} + 2394.2450000000003 compressor_{720} + 47.8849 fan_{721} + 2394.2450000000003 compressor_{721} + 47.8849 fan_{722} + 2394.2450000000003 compressor_{722} + 47.8849 fan_{723} + 2394.2450000000003 compressor_{723} + 47.8849 fan_{724} + 2394.2450000000003 compressor_{724} + 47.8849 fan_{725} + 2394.2450000000003 compressor_{725} + 47.884899999999995 fan_{726} + 2394.245 compressor_{726} + 47.8849 fan_{727} + 2394.2450000000003 compressor_{727} + 47.8849 fan_{728} + 2394.2450000000003 compressor_{728} + 47.8849 fan_{729} + 2394.2450000000003 compressor_{729} + 47.8849 fan_{730} + 2394.2450000000003 compressor_{730} + 47.8849 fan_{731} + 2394.2450000000003 compressor_{731} + 47.8849 fan_{732} + 2394.2450000000003 compressor_{732} + 47.8849 fan_{733} + 2394.2450000000003 compressor_{733} + 47.8849 fan_{734} + 2394.2450000000003 compressor_{734} + 47.8849 fan_{735} + 2394.2450000000003 compressor_{735} + 47.884900000000016 fan_{736} + 2394.245000000001 compressor_{736} + 47.8849 fan_{737} + 2394.2450000000003 compressor_{737} + 47.8849 fan_{738} + 2394.2450000000003 compressor_{738} + 47.8849 fan_{739} + 2394.2450000000003 compressor_{739} + 47.884899999999995 fan_{740} + 2394.245 compressor_{740} + 47.8849 fan_{741} + 2394.2450000000003 compressor_{741} + 47.8849 fan_{742} + 2394.2450000000003 compressor_{742} + 47.8849 fan_{743} + 2394.2450000000003 compressor_{743} + 47.8849 fan_{744} + 2394.2450000000003 compressor_{744} + 47.8849 fan_{745} + 2394.2450000000003 compressor_{745} + 47.8849 fan_{746} + 2394.2450000000003 compressor_{746} + 47.8849 fan_{747} + 2394.2450000000003 compressor_{747} + 47.884899999999995 fan_{748} + 2394.245 compressor_{748} + 47.884900000000016 fan_{749} + 2394.245000000001 compressor_{749} + 47.8849 fan_{750} + 2394.2450000000003 compressor_{750} + 47.8849 fan_{751} + 2394.2450000000003 compressor_{751} + 47.8849 fan_{752} + 2394.2450000000003 compressor_{752} + 47.8849 fan_{753} + 2394.2450000000003 compressor_{753} + 47.8849 fan_{754} + 2394.2450000000003 compressor_{754} + 47.8849 fan_{755} + 2394.2450000000003 compressor_{755} + 47.8849 fan_{756} + 2394.2450000000003 compressor_{756} + 47.8849 fan_{757} + 2394.2450000000003 compressor_{757} + 47.8849 fan_{758} + 2394.2450000000003 compressor_{758} + 47.8849 fan_{759} + 2394.2450000000003 compressor_{759} + 47.8849 fan_{760} + 2394.2450000000003 compressor_{760} + 47.8849 fan_{761} + 2394.2450000000003 compressor_{761} + 47.8849 fan_{762} + 2394.2450000000003 compressor_{762} + 47.8849 fan_{763} + 2394.2450000000003 compressor_{763} + 47.8849 fan_{764} + 2394.2450000000003 compressor_{764} + 47.8849 fan_{765} + 2394.2450000000003 compressor_{765} + 47.8849 fan_{766} + 2394.2450000000003 compressor_{766} + 47.8849 fan_{767} + 2394.2450000000003 compressor_{767} + 47.8849 fan_{768} + 2394.2450000000003 compressor_{768} + 47.8849 fan_{769} + 2394.2450000000003 compressor_{769} + 47.8849 fan_{770} + 2394.2450000000003 compressor_{770} + 47.8849 fan_{771} + 2394.2450000000003 compressor_{771} + 47.8849 fan_{772} + 2394.2450000000003 compressor_{772} + 47.8849 fan_{773} + 2394.2450000000003 compressor_{773} + 47.8849 fan_{774} + 2394.2450000000003 compressor_{774} + 47.884899999999995 fan_{775} + 2394.245 compressor_{775} + 47.8849 fan_{776} + 2394.2450000000003 compressor_{776} + 47.8849 fan_{777} + 2394.2450000000003 compressor_{777} + 47.8849 fan_{778} + 2394.2450000000003 compressor_{778} + 47.8849 fan_{779} + 2394.2450000000003 compressor_{779} + 47.575700000000005 fan_{780} + 2378.7850000000003 compressor_{780} + 47.575700000000005 fan_{781} + 2378.7850000000003 compressor_{781} + 47.575700000000005 fan_{782} + 2378.7850000000003 compressor_{782} + 47.575700000000005 fan_{783} + 2378.7850000000003 compressor_{783} + 47.575700000000005 fan_{784} + 2378.7850000000003 compressor_{784} + 47.575700000000005 fan_{785} + 2378.7850000000003 compressor_{785} + 47.575700000000005 fan_{786} + 2378.7850000000003 compressor_{786} + 47.575700000000005 fan_{787} + 2378.7850000000003 compressor_{787} + 47.575700000000005 fan_{788} + 2378.7850000000003 compressor_{788} + 47.575700000000005 fan_{789} + 2378.7850000000003 compressor_{789} + 47.575700000000005 fan_{790} + 2378.7850000000003 compressor_{790} + 47.575700000000005 fan_{791} + 2378.7850000000003 compressor_{791} + 47.575700000000005 fan_{792} + 2378.7850000000003 compressor_{792} + 47.575700000000005 fan_{793} + 2378.7850000000003 compressor_{793} + 47.575700000000005 fan_{794} + 2378.7850000000003 compressor_{794} + 47.5757 fan_{795} + 2378.785 compressor_{795} + 47.57570000000001 fan_{796} + 2378.7850000000008 compressor_{796} + 47.575700000000005 fan_{797} + 2378.7850000000003 compressor_{797} + 47.575700000000005 fan_{798} + 2378.7850000000003 compressor_{798} + 47.57570000000001 fan_{799} + 2378.7850000000008 compressor_{799} + 47.575700000000005 fan_{800} + 2378.7850000000003 compressor_{800} + 47.575700000000005 fan_{801} + 2378.7850000000003 compressor_{801} + 47.575700000000005 fan_{802} + 2378.7850000000003 compressor_{802} + 47.575700000000005 fan_{803} + 2378.7850000000003 compressor_{803} + 47.575700000000005 fan_{804} + 2378.7850000000003 compressor_{804} + 47.575700000000005 fan_{805} + 2378.7850000000003 compressor_{805} + 47.575700000000005 fan_{806} + 2378.7850000000003 compressor_{806} + 47.575700000000005 fan_{807} + 2378.7850000000003 compressor_{807} + 47.575700000000005 fan_{808} + 2378.7850000000003 compressor_{808} + 47.575700000000005 fan_{809} + 2378.7850000000003 compressor_{809} + 47.575700000000005 fan_{810} + 2378.7850000000003 compressor_{810} + 47.575700000000005 fan_{811} + 2378.7850000000003 compressor_{811} + 47.575700000000005 fan_{812} + 2378.7850000000003 compressor_{812} + 47.575700000000005 fan_{813} + 2378.7850000000003 compressor_{813} + 47.575700000000005 fan_{814} + 2378.7850000000003 compressor_{814} + 47.575700000000005 fan_{815} + 2378.7850000000003 compressor_{815} + 47.575700000000005 fan_{816} + 2378.7850000000003 compressor_{816} + 47.575700000000005 fan_{817} + 2378.7850000000003 compressor_{817} + 47.575700000000005 fan_{818} + 2378.7850000000003 compressor_{818} + 47.575700000000005 fan_{819} + 2378.7850000000003 compressor_{819} + 47.575700000000005 fan_{820} + 2378.7850000000003 compressor_{820} + 47.575700000000005 fan_{821} + 2378.7850000000003 compressor_{821} + 47.575700000000005 fan_{822} + 2378.7850000000003 compressor_{822} + 47.575700000000005 fan_{823} + 2378.7850000000003 compressor_{823} + 47.575700000000005 fan_{824} + 2378.7850000000003 compressor_{824} + 47.575700000000005 fan_{825} + 2378.7850000000003 compressor_{825} + 47.575700000000005 fan_{826} + 2378.7850000000003 compressor_{826} + 47.575700000000005 fan_{827} + 2378.7850000000003 compressor_{827} + 47.575700000000005 fan_{828} + 2378.7850000000003 compressor_{828} + 47.575700000000005 fan_{829} + 2378.7850000000003 compressor_{829} + 47.575700000000005 fan_{830} + 2378.7850000000003 compressor_{830} + 47.57570000000001 fan_{831} + 2378.7850000000008 compressor_{831} + 47.575700000000005 fan_{832} + 2378.7850000000003 compressor_{832} + 47.575700000000005 fan_{833} + 2378.7850000000003 compressor_{833} + 47.575700000000005 fan_{834} + 2378.7850000000003 compressor_{834} + 47.575700000000005 fan_{835} + 2378.7850000000003 compressor_{835} + 47.575700000000005 fan_{836} + 2378.7850000000003 compressor_{836} + 47.575700000000005 fan_{837} + 2378.7850000000003 compressor_{837} + 47.575700000000005 fan_{838} + 2378.7850000000003 compressor_{838} + 47.575700000000005 fan_{839} + 2378.7850000000003 compressor_{839} + 47.7814 fan_{840} + 2389.0699999999997 compressor_{840} + 47.7814 fan_{841} + 2389.0699999999997 compressor_{841} + 47.7814 fan_{842} + 2389.0699999999997 compressor_{842} + 47.7814 fan_{843} + 2389.0699999999997 compressor_{843} + 47.7814 fan_{844} + 2389.0699999999997 compressor_{844} + 47.7814 fan_{845} + 2389.0699999999997 compressor_{845} + 47.7814 fan_{846} + 2389.0699999999997 compressor_{846} + 47.7814 fan_{847} + 2389.0699999999997 compressor_{847} + 47.7814 fan_{848} + 2389.0699999999997 compressor_{848} + 47.7814 fan_{849} + 2389.0699999999997 compressor_{849} + 47.7814 fan_{850} + 2389.0699999999997 compressor_{850} + 47.7814 fan_{851} + 2389.0699999999997 compressor_{851} + 47.7814 fan_{852} + 2389.0699999999997 compressor_{852} + 47.7814 fan_{853} + 2389.0699999999997 compressor_{853} + 47.7814 fan_{854} + 2389.0699999999997 compressor_{854} + 47.78139999999999 fan_{855} + 2389.0699999999993 compressor_{855} + 47.781400000000005 fan_{856} + 2389.07 compressor_{856} + 47.7814 fan_{857} + 2389.0699999999997 compressor_{857} + 47.7814 fan_{858} + 2389.0699999999997 compressor_{858} + 47.7814 fan_{859} + 2389.0699999999997 compressor_{859} + 47.7814 fan_{860} + 2389.0699999999997 compressor_{860} + 47.7814 fan_{861} + 2389.0699999999997 compressor_{861} + 47.7814 fan_{862} + 2389.0699999999997 compressor_{862} + 47.78139999999999 fan_{863} + 2389.0699999999993 compressor_{863} + 47.781400000000005 fan_{864} + 2389.07 compressor_{864} + 47.7814 fan_{865} + 2389.0699999999997 compressor_{865} + 47.7814 fan_{866} + 2389.0699999999997 compressor_{866} + 47.7814 fan_{867} + 2389.0699999999997 compressor_{867} + 47.78139999999999 fan_{868} + 2389.0699999999993 compressor_{868} + 47.7814 fan_{869} + 2389.0699999999997 compressor_{869} + 47.7814 fan_{870} + 2389.0699999999997 compressor_{870} + 47.7814 fan_{871} + 2389.0699999999997 compressor_{871} + 47.7814 fan_{872} + 2389.0699999999997 compressor_{872} + 47.7814 fan_{873} + 2389.0699999999997 compressor_{873} + 47.7814 fan_{874} + 2389.0699999999997 compressor_{874} + 47.7814 fan_{875} + 2389.0699999999997 compressor_{875} + 47.7814 fan_{876} + 2389.0699999999997 compressor_{876} + 47.7814 fan_{877} + 2389.0699999999997 compressor_{877} + 47.7814 fan_{878} + 2389.0699999999997 compressor_{878} + 47.7814 fan_{879} + 2389.0699999999997 compressor_{879} + 47.7814 fan_{880} + 2389.0699999999997 compressor_{880} + 47.7814 fan_{881} + 2389.0699999999997 compressor_{881} + 47.7814 fan_{882} + 2389.0699999999997 compressor_{882} + 47.7814 fan_{883} + 2389.0699999999997 compressor_{883} + 47.7814 fan_{884} + 2389.0699999999997 compressor_{884} + 47.7814 fan_{885} + 2389.0699999999997 compressor_{885} + 47.7814 fan_{886} + 2389.0699999999997 compressor_{886} + 47.7814 fan_{887} + 2389.0699999999997 compressor_{887} + 47.7814 fan_{888} + 2389.0699999999997 compressor_{888} + 47.7814 fan_{889} + 2389.0699999999997 compressor_{889} + 47.7814 fan_{890} + 2389.0699999999997 compressor_{890} + 47.7814 fan_{891} + 2389.0699999999997 compressor_{891} + 47.7814 fan_{892} + 2389.0699999999997 compressor_{892} + 47.781400000000005 fan_{893} + 2389.07 compressor_{893} + 47.7814 fan_{894} + 2389.0699999999997 compressor_{894} + 47.7814 fan_{895} + 2389.0699999999997 compressor_{895} + 47.78139999999999 fan_{896} + 2389.0699999999993 compressor_{896} + 47.7814 fan_{897} + 2389.0699999999997 compressor_{897} + 47.7814 fan_{898} + 2389.0699999999997 compressor_{898} + 47.7814 fan_{899} + 2389.0699999999997 compressor_{899} + 47.978300000000004 fan_{900} + 2398.915 compressor_{900} + 47.978300000000004 fan_{901} + 2398.915 compressor_{901} + 47.978300000000004 fan_{902} + 2398.915 compressor_{902} + 47.978300000000004 fan_{903} + 2398.915 compressor_{903} + 47.978300000000004 fan_{904} + 2398.915 compressor_{904} + 47.978300000000004 fan_{905} + 2398.915 compressor_{905} + 47.97829999999999 fan_{906} + 2398.9149999999995 compressor_{906} + 47.978300000000004 fan_{907} + 2398.915 compressor_{907} + 47.978300000000004 fan_{908} + 2398.915 compressor_{908} + 47.978300000000004 fan_{909} + 2398.915 compressor_{909} + 47.978300000000004 fan_{910} + 2398.915 compressor_{910} + 47.97830000000001 fan_{911} + 2398.9150000000004 compressor_{911} + 47.978300000000004 fan_{912} + 2398.915 compressor_{912} + 47.978300000000004 fan_{913} + 2398.915 compressor_{913} + 47.978300000000004 fan_{914} + 2398.915 compressor_{914} + 47.97829999999999 fan_{915} + 2398.9149999999995 compressor_{915} + 47.97830000000001 fan_{916} + 2398.9150000000004 compressor_{916} + 47.978300000000004 fan_{917} + 2398.915 compressor_{917} + 47.978300000000004 fan_{918} + 2398.915 compressor_{918} + 47.978300000000004 fan_{919} + 2398.915 compressor_{919} + 47.97829999999999 fan_{920} + 2398.9149999999995 compressor_{920} + 47.978300000000004 fan_{921} + 2398.915 compressor_{921} + 47.978300000000004 fan_{922} + 2398.915 compressor_{922} + 47.978300000000004 fan_{923} + 2398.915 compressor_{923} + 47.978300000000004 fan_{924} + 2398.915 compressor_{924} + 47.978300000000004 fan_{925} + 2398.915 compressor_{925} + 47.978300000000004 fan_{926} + 2398.915 compressor_{926} + 47.978300000000004 fan_{927} + 2398.915 compressor_{927} + 47.978300000000004 fan_{928} + 2398.915 compressor_{928} + 47.978300000000004 fan_{929} + 2398.915 compressor_{929} + 47.978300000000004 fan_{930} + 2398.915 compressor_{930} + 47.978300000000004 fan_{931} + 2398.915 compressor_{931} + 47.978300000000004 fan_{932} + 2398.915 compressor_{932} + 47.978300000000004 fan_{933} + 2398.915 compressor_{933} + 47.978300000000004 fan_{934} + 2398.915 compressor_{934} + 47.978300000000004 fan_{935} + 2398.915 compressor_{935} + 47.978300000000004 fan_{936} + 2398.915 compressor_{936} + 47.978300000000004 fan_{937} + 2398.915 compressor_{937} + 47.978300000000004 fan_{938} + 2398.915 compressor_{938} + 47.978300000000004 fan_{939} + 2398.915 compressor_{939} + 47.978300000000004 fan_{940} + 2398.915 compressor_{940} + 47.978300000000004 fan_{941} + 2398.915 compressor_{941} + 47.978300000000004 fan_{942} + 2398.915 compressor_{942} + 47.978300000000004 fan_{943} + 2398.915 compressor_{943} + 47.978300000000004 fan_{944} + 2398.915 compressor_{944} + 47.978300000000004 fan_{945} + 2398.915 compressor_{945} + 47.978300000000004 fan_{946} + 2398.915 compressor_{946} + 47.978300000000004 fan_{947} + 2398.915 compressor_{947} + 47.978300000000004 fan_{948} + 2398.915 compressor_{948} + 47.978300000000004 fan_{949} + 2398.915 compressor_{949} + 47.97830000000001 fan_{950} + 2398.9150000000004 compressor_{950} + 47.978300000000004 fan_{951} + 2398.915 compressor_{951} + 47.978300000000004 fan_{952} + 2398.915 compressor_{952} + 47.978300000000004 fan_{953} + 2398.915 compressor_{953} + 47.978300000000004 fan_{954} + 2398.915 compressor_{954} + 47.978300000000004 fan_{955} + 2398.915 compressor_{955} + 47.978300000000004 fan_{956} + 2398.915 compressor_{956} + 47.978300000000004 fan_{957} + 2398.915 compressor_{957} + 47.978300000000004 fan_{958} + 2398.915 compressor_{958} + 47.978300000000004 fan_{959} + 2398.915 compressor_{959} + 47.67400000000001 fan_{960} + 2383.7000000000003 compressor_{960} + 47.67400000000001 fan_{961} + 2383.7000000000003 compressor_{961} + 47.67400000000001 fan_{962} + 2383.7000000000003 compressor_{962} + 47.67400000000001 fan_{963} + 2383.7000000000003 compressor_{963} + 47.67400000000001 fan_{964} + 2383.7000000000003 compressor_{964} + 47.67400000000001 fan_{965} + 2383.7000000000003 compressor_{965} + 47.67400000000001 fan_{966} + 2383.7000000000003 compressor_{966} + 47.67400000000001 fan_{967} + 2383.7000000000003 compressor_{967} + 47.67400000000001 fan_{968} + 2383.7000000000003 compressor_{968} + 47.67400000000001 fan_{969} + 2383.7000000000003 compressor_{969} + 47.67400000000001 fan_{970} + 2383.7000000000003 compressor_{970} + 47.67400000000001 fan_{971} + 2383.7000000000003 compressor_{971} + 47.67400000000001 fan_{972} + 2383.7000000000003 compressor_{972} + 47.67400000000001 fan_{973} + 2383.7000000000003 compressor_{973} + 47.67400000000001 fan_{974} + 2383.7000000000003 compressor_{974} + 47.67400000000001 fan_{975} + 2383.7000000000003 compressor_{975} + 47.67400000000001 fan_{976} + 2383.7000000000003 compressor_{976} + 47.67400000000001 fan_{977} + 2383.7000000000003 compressor_{977} + 47.67400000000001 fan_{978} + 2383.7000000000003 compressor_{978} + 47.67400000000001 fan_{979} + 2383.7000000000003 compressor_{979} + 47.67400000000001 fan_{980} + 2383.7000000000003 compressor_{980} + 47.67400000000001 fan_{981} + 2383.7000000000003 compressor_{981} + 47.67400000000001 fan_{982} + 2383.7000000000003 compressor_{982} + 47.67400000000001 fan_{983} + 2383.7000000000003 compressor_{983} + 47.67400000000001 fan_{984} + 2383.7000000000003 compressor_{984} + 47.67400000000001 fan_{985} + 2383.7000000000003 compressor_{985} + 47.67400000000001 fan_{986} + 2383.7000000000003 compressor_{986} + 47.67400000000001 fan_{987} + 2383.7000000000003 compressor_{987} + 47.67400000000001 fan_{988} + 2383.7000000000003 compressor_{988} + 47.67400000000001 fan_{989} + 2383.7000000000003 compressor_{989} + 47.67400000000001 fan_{990} + 2383.7000000000003 compressor_{990} + 47.67400000000001 fan_{991} + 2383.7000000000003 compressor_{991} + 47.67400000000001 fan_{992} + 2383.7000000000003 compressor_{992} + 47.67400000000001 fan_{993} + 2383.7000000000003 compressor_{993} + 47.67400000000001 fan_{994} + 2383.7000000000003 compressor_{994} + 47.67400000000001 fan_{995} + 2383.7000000000003 compressor_{995} + 47.67400000000001 fan_{996} + 2383.7000000000003 compressor_{996} + 47.67400000000001 fan_{997} + 2383.7000000000003 compressor_{997} + 47.67400000000001 fan_{998} + 2383.7000000000003 compressor_{998} + 47.67400000000001 fan_{999} + 2383.7000000000003 compressor_{999} + 47.67400000000001 fan_{1000} + 2383.7000000000003 compressor_{1000} + 47.67400000000001 fan_{1001} + 2383.7000000000003 compressor_{1001} + 47.67400000000001 fan_{1002} + 2383.7000000000003 compressor_{1002} + 47.67400000000001 fan_{1003} + 2383.7000000000003 compressor_{1003} + 47.67400000000001 fan_{1004} + 2383.7000000000003 compressor_{1004} + 47.67400000000001 fan_{1005} + 2383.7000000000003 compressor_{1005} + 47.67400000000001 fan_{1006} + 2383.7000000000003 compressor_{1006} + 47.67400000000001 fan_{1007} + 2383.7000000000003 compressor_{1007} + 47.67400000000001 fan_{1008} + 2383.7000000000003 compressor_{1008} + 47.67400000000001 fan_{1009} + 2383.7000000000003 compressor_{1009} + 47.67400000000001 fan_{1010} + 2383.7000000000003 compressor_{1010} + 47.67400000000001 fan_{1011} + 2383.7000000000003 compressor_{1011} + 47.67400000000001 fan_{1012} + 2383.7000000000003 compressor_{1012} + 47.67400000000001 fan_{1013} + 2383.7000000000003 compressor_{1013} + 47.67400000000001 fan_{1014} + 2383.7000000000003 compressor_{1014} + 47.67400000000001 fan_{1015} + 2383.7000000000003 compressor_{1015} + 47.67400000000001 fan_{1016} + 2383.7000000000003 compressor_{1016} + 47.67400000000001 fan_{1017} + 2383.7000000000003 compressor_{1017} + 47.67400000000001 fan_{1018} + 2383.7000000000003 compressor_{1018} + 47.67400000000001 fan_{1019} + 2383.7000000000003 compressor_{1019} + 47.3724 fan_{1020} + 2368.62 compressor_{1020} + 47.3724 fan_{1021} + 2368.62 compressor_{1021} + 47.3724 fan_{1022} + 2368.62 compressor_{1022} + 47.3724 fan_{1023} + 2368.62 compressor_{1023} + 47.3724 fan_{1024} + 2368.62 compressor_{1024} + 47.3724 fan_{1025} + 2368.62 compressor_{1025} + 47.3724 fan_{1026} + 2368.62 compressor_{1026} + 47.3724 fan_{1027} + 2368.62 compressor_{1027} + 47.372400000000006 fan_{1028} + 2368.6200000000003 compressor_{1028} + 47.372400000000006 fan_{1029} + 2368.6200000000003 compressor_{1029} + 47.3724 fan_{1030} + 2368.62 compressor_{1030} + 47.3724 fan_{1031} + 2368.62 compressor_{1031} + 47.3724 fan_{1032} + 2368.62 compressor_{1032} + 47.3724 fan_{1033} + 2368.62 compressor_{1033} + 47.3724 fan_{1034} + 2368.62 compressor_{1034} + 47.3724 fan_{1035} + 2368.62 compressor_{1035} + 47.3724 fan_{1036} + 2368.62 compressor_{1036} + 47.3724 fan_{1037} + 2368.62 compressor_{1037} + 47.3724 fan_{1038} + 2368.62 compressor_{1038} + 47.3724 fan_{1039} + 2368.62 compressor_{1039} + 47.3724 fan_{1040} + 2368.62 compressor_{1040} + 47.3724 fan_{1041} + 2368.62 compressor_{1041} + 47.3724 fan_{1042} + 2368.62 compressor_{1042} + 47.3724 fan_{1043} + 2368.62 compressor_{1043} + 47.3724 fan_{1044} + 2368.62 compressor_{1044} + 47.3724 fan_{1045} + 2368.62 compressor_{1045} + 47.3724 fan_{1046} + 2368.62 compressor_{1046} + 47.3724 fan_{1047} + 2368.62 compressor_{1047} + 47.3724 fan_{1048} + 2368.62 compressor_{1048} + 47.3724 fan_{1049} + 2368.62 compressor_{1049} + 47.3724 fan_{1050} + 2368.62 compressor_{1050} + 47.3724 fan_{1051} + 2368.62 compressor_{1051} + 47.3724 fan_{1052} + 2368.62 compressor_{1052} + 47.3724 fan_{1053} + 2368.62 compressor_{1053} + 47.3724 fan_{1054} + 2368.62 compressor_{1054} + 47.3724 fan_{1055} + 2368.62 compressor_{1055} + 47.3724 fan_{1056} + 2368.62 compressor_{1056} + 47.3724 fan_{1057} + 2368.62 compressor_{1057} + 47.3724 fan_{1058} + 2368.62 compressor_{1058} + 47.3724 fan_{1059} + 2368.62 compressor_{1059} + 47.3724 fan_{1060} + 2368.62 compressor_{1060} + 47.3724 fan_{1061} + 2368.62 compressor_{1061} + 47.3724 fan_{1062} + 2368.62 compressor_{1062} + 47.3724 fan_{1063} + 2368.62 compressor_{1063} + 47.3724 fan_{1064} + 2368.62 compressor_{1064} + 47.3724 fan_{1065} + 2368.62 compressor_{1065} + 47.3724 fan_{1066} + 2368.62 compressor_{1066} + 47.3724 fan_{1067} + 2368.62 compressor_{1067} + 47.3724 fan_{1068} + 2368.62 compressor_{1068} + 47.3724 fan_{1069} + 2368.62 compressor_{1069} + 47.3724 fan_{1070} + 2368.62 compressor_{1070} + 47.3724 fan_{1071} + 2368.62 compressor_{1071} + 47.3724 fan_{1072} + 2368.62 compressor_{1072} + 47.3724 fan_{1073} + 2368.62 compressor_{1073} + 47.3724 fan_{1074} + 2368.62 compressor_{1074} + 47.3724 fan_{1075} + 2368.62 compressor_{1075} + 47.3724 fan_{1076} + 2368.62 compressor_{1076} + 47.3724 fan_{1077} + 2368.62 compressor_{1077} + 47.3724 fan_{1078} + 2368.62 compressor_{1078} + 47.3724 fan_{1079} + 2368.62 compressor_{1079} + 47.258399999999995 fan_{1080} + 2362.92 compressor_{1080} + 47.258399999999995 fan_{1081} + 2362.92 compressor_{1081} + 47.258399999999995 fan_{1082} + 2362.92 compressor_{1082} + 47.258399999999995 fan_{1083} + 2362.92 compressor_{1083} + 47.258399999999995 fan_{1084} + 2362.92 compressor_{1084} + 47.258399999999995 fan_{1085} + 2362.92 compressor_{1085} + 47.25840000000001 fan_{1086} + 2362.9200000000005 compressor_{1086} + 47.258399999999995 fan_{1087} + 2362.92 compressor_{1087} + 47.258399999999995 fan_{1088} + 2362.92 compressor_{1088} + 47.258399999999995 fan_{1089} + 2362.92 compressor_{1089} + 47.258399999999995 fan_{1090} + 2362.92 compressor_{1090} + 47.258399999999995 fan_{1091} + 2362.92 compressor_{1091} + 47.258399999999995 fan_{1092} + 2362.92 compressor_{1092} + 47.258399999999995 fan_{1093} + 2362.92 compressor_{1093} + 47.258399999999995 fan_{1094} + 2362.92 compressor_{1094} + 47.258399999999995 fan_{1095} + 2362.92 compressor_{1095} + 47.258399999999995 fan_{1096} + 2362.92 compressor_{1096} + 47.258399999999995 fan_{1097} + 2362.92 compressor_{1097} + 47.258399999999995 fan_{1098} + 2362.92 compressor_{1098} + 47.258399999999995 fan_{1099} + 2362.92 compressor_{1099} + 47.258399999999995 fan_{1100} + 2362.92 compressor_{1100} + 47.258399999999995 fan_{1101} + 2362.92 compressor_{1101} + 47.258399999999995 fan_{1102} + 2362.92 compressor_{1102} + 47.258399999999995 fan_{1103} + 2362.92 compressor_{1103} + 47.258399999999995 fan_{1104} + 2362.92 compressor_{1104} + 47.258399999999995 fan_{1105} + 2362.92 compressor_{1105} + 47.258399999999995 fan_{1106} + 2362.92 compressor_{1106} + 47.258399999999995 fan_{1107} + 2362.92 compressor_{1107} + 47.258399999999995 fan_{1108} + 2362.92 compressor_{1108} + 47.258399999999995 fan_{1109} + 2362.92 compressor_{1109} + 47.258399999999995 fan_{1110} + 2362.92 compressor_{1110} + 47.258399999999995 fan_{1111} + 2362.92 compressor_{1111} + 47.258399999999995 fan_{1112} + 2362.92 compressor_{1112} + 47.258399999999995 fan_{1113} + 2362.92 compressor_{1113} + 47.258399999999995 fan_{1114} + 2362.92 compressor_{1114} + 47.258399999999995 fan_{1115} + 2362.92 compressor_{1115} + 47.258399999999995 fan_{1116} + 2362.92 compressor_{1116} + 47.258399999999995 fan_{1117} + 2362.92 compressor_{1117} + 47.258399999999995 fan_{1118} + 2362.92 compressor_{1118} + 47.258399999999995 fan_{1119} + 2362.92 compressor_{1119} + 47.258399999999995 fan_{1120} + 2362.92 compressor_{1120} + 47.258399999999995 fan_{1121} + 2362.92 compressor_{1121} + 47.258399999999995 fan_{1122} + 2362.92 compressor_{1122} + 47.258399999999995 fan_{1123} + 2362.92 compressor_{1123} + 47.258399999999995 fan_{1124} + 2362.92 compressor_{1124} + 47.258399999999995 fan_{1125} + 2362.92 compressor_{1125} + 47.258399999999995 fan_{1126} + 2362.92 compressor_{1126} + 47.258399999999995 fan_{1127} + 2362.92 compressor_{1127} + 47.258399999999995 fan_{1128} + 2362.92 compressor_{1128} + 47.258399999999995 fan_{1129} + 2362.92 compressor_{1129} + 47.258399999999995 fan_{1130} + 2362.92 compressor_{1130} + 47.258399999999995 fan_{1131} + 2362.92 compressor_{1131} + 47.258399999999995 fan_{1132} + 2362.92 compressor_{1132} + 47.258399999999995 fan_{1133} + 2362.92 compressor_{1133} + 47.258399999999995 fan_{1134} + 2362.92 compressor_{1134} + 47.258399999999995 fan_{1135} + 2362.92 compressor_{1135} + 47.258399999999995 fan_{1136} + 2362.92 compressor_{1136} + 47.258399999999995 fan_{1137} + 2362.92 compressor_{1137} + 47.258399999999995 fan_{1138} + 2362.92 compressor_{1138} + 47.258399999999995 fan_{1139} + 2362.92 compressor_{1139} + 47.316700000000004 fan_{1140} + 2365.835 compressor_{1140} + 47.316700000000004 fan_{1141} + 2365.835 compressor_{1141} + 47.316700000000004 fan_{1142} + 2365.835 compressor_{1142} + 47.316700000000004 fan_{1143} + 2365.835 compressor_{1143} + 47.316700000000004 fan_{1144} + 2365.835 compressor_{1144} + 47.316700000000004 fan_{1145} + 2365.835 compressor_{1145} + 47.316700000000004 fan_{1146} + 2365.835 compressor_{1146} + 47.316700000000004 fan_{1147} + 2365.835 compressor_{1147} + 47.316700000000004 fan_{1148} + 2365.835 compressor_{1148} + 47.31670000000001 fan_{1149} + 2365.8350000000005 compressor_{1149} + 47.316700000000004 fan_{1150} + 2365.835 compressor_{1150} + 47.316700000000004 fan_{1151} + 2365.835 compressor_{1151} + 47.316700000000004 fan_{1152} + 2365.835 compressor_{1152} + 47.316700000000004 fan_{1153} + 2365.835 compressor_{1153} + 47.316700000000004 fan_{1154} + 2365.835 compressor_{1154} + 47.316700000000004 fan_{1155} + 2365.835 compressor_{1155} + 47.316700000000004 fan_{1156} + 2365.835 compressor_{1156} + 47.316700000000004 fan_{1157} + 2365.835 compressor_{1157} + 47.31670000000001 fan_{1158} + 2365.8350000000005 compressor_{1158} + 47.316700000000004 fan_{1159} + 2365.835 compressor_{1159} + 47.31670000000001 fan_{1160} + 2365.8350000000005 compressor_{1160} + 47.316700000000004 fan_{1161} + 2365.835 compressor_{1161} + 47.316700000000004 fan_{1162} + 2365.835 compressor_{1162} + 47.316700000000004 fan_{1163} + 2365.835 compressor_{1163} + 47.316700000000004 fan_{1164} + 2365.835 compressor_{1164} + 47.316700000000004 fan_{1165} + 2365.835 compressor_{1165} + 47.316700000000004 fan_{1166} + 2365.835 compressor_{1166} + 47.316700000000004 fan_{1167} + 2365.835 compressor_{1167} + 47.316700000000004 fan_{1168} + 2365.835 compressor_{1168} + 47.316700000000004 fan_{1169} + 2365.835 compressor_{1169} + 47.316700000000004 fan_{1170} + 2365.835 compressor_{1170} + 47.316700000000004 fan_{1171} + 2365.835 compressor_{1171} + 47.316700000000004 fan_{1172} + 2365.835 compressor_{1172} + 47.316700000000004 fan_{1173} + 2365.835 compressor_{1173} + 47.316700000000004 fan_{1174} + 2365.835 compressor_{1174} + 47.316700000000004 fan_{1175} + 2365.835 compressor_{1175} + 47.316700000000004 fan_{1176} + 2365.835 compressor_{1176} + 47.316700000000004 fan_{1177} + 2365.835 compressor_{1177} + 47.316700000000004 fan_{1178} + 2365.835 compressor_{1178} + 47.316700000000004 fan_{1179} + 2365.835 compressor_{1179} + 47.316700000000004 fan_{1180} + 2365.835 compressor_{1180} + 47.316700000000004 fan_{1181} + 2365.835 compressor_{1181} + 47.316700000000004 fan_{1182} + 2365.835 compressor_{1182} + 47.316700000000004 fan_{1183} + 2365.835 compressor_{1183} + 47.316700000000004 fan_{1184} + 2365.835 compressor_{1184} + 47.316700000000004 fan_{1185} + 2365.835 compressor_{1185} + 47.316700000000004 fan_{1186} + 2365.835 compressor_{1186} + 47.316700000000004 fan_{1187} + 2365.835 compressor_{1187} + 47.316700000000004 fan_{1188} + 2365.835 compressor_{1188} + 47.316700000000004 fan_{1189} + 2365.835 compressor_{1189} + 47.316700000000004 fan_{1190} + 2365.835 compressor_{1190} + 47.316700000000004 fan_{1191} + 2365.835 compressor_{1191} + 47.316700000000004 fan_{1192} + 2365.835 compressor_{1192} + 47.316700000000004 fan_{1193} + 2365.835 compressor_{1193} + 47.316700000000004 fan_{1194} + 2365.835 compressor_{1194} + 47.316700000000004 fan_{1195} + 2365.835 compressor_{1195} + 47.316700000000004 fan_{1196} + 2365.835 compressor_{1196} + 47.316700000000004 fan_{1197} + 2365.835 compressor_{1197} + 47.316700000000004 fan_{1198} + 2365.835 compressor_{1198} + 47.316700000000004 fan_{1199} + 2365.835 compressor_{1199} + 47.3894 fan_{1200} + 2369.4700000000003 compressor_{1200} + 47.3894 fan_{1201} + 2369.4700000000003 compressor_{1201} + 47.3894 fan_{1202} + 2369.4700000000003 compressor_{1202} + 47.3894 fan_{1203} + 2369.4700000000003 compressor_{1203} + 47.3894 fan_{1204} + 2369.4700000000003 compressor_{1204} + 47.3894 fan_{1205} + 2369.4700000000003 compressor_{1205} + 47.3894 fan_{1206} + 2369.4700000000003 compressor_{1206} + 47.3894 fan_{1207} + 2369.4700000000003 compressor_{1207} + 47.3894 fan_{1208} + 2369.4700000000003 compressor_{1208} + 47.38940000000001 fan_{1209} + 2369.4700000000007 compressor_{1209} + 47.38940000000001 fan_{1210} + 2369.4700000000007 compressor_{1210} + 47.3894 fan_{1211} + 2369.4700000000003 compressor_{1211} + 47.3894 fan_{1212} + 2369.4700000000003 compressor_{1212} + 47.3894 fan_{1213} + 2369.4700000000003 compressor_{1213} + 47.3894 fan_{1214} + 2369.4700000000003 compressor_{1214} + 47.3894 fan_{1215} + 2369.4700000000003 compressor_{1215} + 47.3894 fan_{1216} + 2369.4700000000003 compressor_{1216} + 47.389399999999995 fan_{1217} + 2369.47 compressor_{1217} + 47.3894 fan_{1218} + 2369.4700000000003 compressor_{1218} + 47.389399999999995 fan_{1219} + 2369.47 compressor_{1219} + 47.3894 fan_{1220} + 2369.4700000000003 compressor_{1220} + 47.3894 fan_{1221} + 2369.4700000000003 compressor_{1221} + 47.3894 fan_{1222} + 2369.4700000000003 compressor_{1222} + 47.3894 fan_{1223} + 2369.4700000000003 compressor_{1223} + 47.3894 fan_{1224} + 2369.4700000000003 compressor_{1224} + 47.3894 fan_{1225} + 2369.4700000000003 compressor_{1225} + 47.3894 fan_{1226} + 2369.4700000000003 compressor_{1226} + 47.3894 fan_{1227} + 2369.4700000000003 compressor_{1227} + 47.3894 fan_{1228} + 2369.4700000000003 compressor_{1228} + 47.3894 fan_{1229} + 2369.4700000000003 compressor_{1229} + 47.3894 fan_{1230} + 2369.4700000000003 compressor_{1230} + 47.3894 fan_{1231} + 2369.4700000000003 compressor_{1231} + 47.3894 fan_{1232} + 2369.4700000000003 compressor_{1232} + 47.3894 fan_{1233} + 2369.4700000000003 compressor_{1233} + 47.3894 fan_{1234} + 2369.4700000000003 compressor_{1234} + 47.3894 fan_{1235} + 2369.4700000000003 compressor_{1235} + 47.3894 fan_{1236} + 2369.4700000000003 compressor_{1236} + 47.3894 fan_{1237} + 2369.4700000000003 compressor_{1237} + 47.3894 fan_{1238} + 2369.4700000000003 compressor_{1238} + 47.3894 fan_{1239} + 2369.4700000000003 compressor_{1239} + 47.3894 fan_{1240} + 2369.4700000000003 compressor_{1240} + 47.3894 fan_{1241} + 2369.4700000000003 compressor_{1241} + 47.3894 fan_{1242} + 2369.4700000000003 compressor_{1242} + 47.3894 fan_{1243} + 2369.4700000000003 compressor_{1243} + 47.3894 fan_{1244} + 2369.4700000000003 compressor_{1244} + 47.3894 fan_{1245} + 2369.4700000000003 compressor_{1245} + 47.3894 fan_{1246} + 2369.4700000000003 compressor_{1246} + 47.3894 fan_{1247} + 2369.4700000000003 compressor_{1247} + 47.3894 fan_{1248} + 2369.4700000000003 compressor_{1248} + 47.3894 fan_{1249} + 2369.4700000000003 compressor_{1249} + 47.3894 fan_{1250} + 2369.4700000000003 compressor_{1250} + 47.3894 fan_{1251} + 2369.4700000000003 compressor_{1251} + 47.38940000000001 fan_{1252} + 2369.4700000000007 compressor_{1252} + 47.3894 fan_{1253} + 2369.4700000000003 compressor_{1253} + 47.3894 fan_{1254} + 2369.4700000000003 compressor_{1254} + 47.3894 fan_{1255} + 2369.4700000000003 compressor_{1255} + 47.3894 fan_{1256} + 2369.4700000000003 compressor_{1256} + 47.3894 fan_{1257} + 2369.4700000000003 compressor_{1257} + 47.3894 fan_{1258} + 2369.4700000000003 compressor_{1258} + 47.3894 fan_{1259} + 2369.4700000000003 compressor_{1259} + 47.544000000000004 fan_{1260} + 2377.2000000000003 compressor_{1260} + 47.544000000000004 fan_{1261} + 2377.2000000000003 compressor_{1261} + 47.544000000000004 fan_{1262} + 2377.2000000000003 compressor_{1262} + 47.544000000000004 fan_{1263} + 2377.2000000000003 compressor_{1263} + 47.544000000000004 fan_{1264} + 2377.2000000000003 compressor_{1264} + 47.544000000000004 fan_{1265} + 2377.2000000000003 compressor_{1265} + 47.544000000000004 fan_{1266} + 2377.2000000000003 compressor_{1266} + 47.544000000000004 fan_{1267} + 2377.2000000000003 compressor_{1267} + 47.544000000000004 fan_{1268} + 2377.2000000000003 compressor_{1268} + 47.544000000000004 fan_{1269} + 2377.2000000000003 compressor_{1269} + 47.544000000000004 fan_{1270} + 2377.2000000000003 compressor_{1270} + 47.544000000000004 fan_{1271} + 2377.2000000000003 compressor_{1271} + 47.544000000000004 fan_{1272} + 2377.2000000000003 compressor_{1272} + 47.544000000000004 fan_{1273} + 2377.2000000000003 compressor_{1273} + 47.544000000000004 fan_{1274} + 2377.2000000000003 compressor_{1274} + 47.544000000000004 fan_{1275} + 2377.2000000000003 compressor_{1275} + 47.544000000000004 fan_{1276} + 2377.2000000000003 compressor_{1276} + 47.544000000000004 fan_{1277} + 2377.2000000000003 compressor_{1277} + 47.544000000000004 fan_{1278} + 2377.2000000000003 compressor_{1278} + 47.544000000000004 fan_{1279} + 2377.2000000000003 compressor_{1279} + 47.544000000000004 fan_{1280} + 2377.2000000000003 compressor_{1280} + 47.544000000000004 fan_{1281} + 2377.2000000000003 compressor_{1281} + 47.544000000000004 fan_{1282} + 2377.2000000000003 compressor_{1282} + 47.544000000000004 fan_{1283} + 2377.2000000000003 compressor_{1283} + 47.544000000000004 fan_{1284} + 2377.2000000000003 compressor_{1284} + 47.544000000000004 fan_{1285} + 2377.2000000000003 compressor_{1285} + 47.544000000000004 fan_{1286} + 2377.2000000000003 compressor_{1286} + 47.544000000000004 fan_{1287} + 2377.2000000000003 compressor_{1287} + 47.544000000000004 fan_{1288} + 2377.2000000000003 compressor_{1288} + 47.544000000000004 fan_{1289} + 2377.2000000000003 compressor_{1289} + 47.544000000000004 fan_{1290} + 2377.2000000000003 compressor_{1290} + 47.544000000000004 fan_{1291} + 2377.2000000000003 compressor_{1291} + 47.544000000000004 fan_{1292} + 2377.2000000000003 compressor_{1292} + 47.544000000000004 fan_{1293} + 2377.2000000000003 compressor_{1293} + 47.544000000000004 fan_{1294} + 2377.2000000000003 compressor_{1294} + 47.544000000000004 fan_{1295} + 2377.2000000000003 compressor_{1295} + 47.544000000000004 fan_{1296} + 2377.2000000000003 compressor_{1296} + 47.544000000000004 fan_{1297} + 2377.2000000000003 compressor_{1297} + 47.544000000000004 fan_{1298} + 2377.2000000000003 compressor_{1298} + 47.544000000000004 fan_{1299} + 2377.2000000000003 compressor_{1299} + 47.544000000000004 fan_{1300} + 2377.2000000000003 compressor_{1300} + 47.544000000000004 fan_{1301} + 2377.2000000000003 compressor_{1301} + 47.544000000000004 fan_{1302} + 2377.2000000000003 compressor_{1302} + 47.544000000000004 fan_{1303} + 2377.2000000000003 compressor_{1303} + 47.544000000000004 fan_{1304} + 2377.2000000000003 compressor_{1304} + 47.544000000000004 fan_{1305} + 2377.2000000000003 compressor_{1305} + 47.544000000000004 fan_{1306} + 2377.2000000000003 compressor_{1306} + 47.544000000000004 fan_{1307} + 2377.2000000000003 compressor_{1307} + 47.544000000000004 fan_{1308} + 2377.2000000000003 compressor_{1308} + 47.544000000000004 fan_{1309} + 2377.2000000000003 compressor_{1309} + 47.544000000000004 fan_{1310} + 2377.2000000000003 compressor_{1310} + 47.544000000000004 fan_{1311} + 2377.2000000000003 compressor_{1311} + 47.544000000000004 fan_{1312} + 2377.2000000000003 compressor_{1312} + 47.544000000000004 fan_{1313} + 2377.2000000000003 compressor_{1313} + 47.544000000000004 fan_{1314} + 2377.2000000000003 compressor_{1314} + 47.544000000000004 fan_{1315} + 2377.2000000000003 compressor_{1315} + 47.544000000000004 fan_{1316} + 2377.2000000000003 compressor_{1316} + 47.544000000000004 fan_{1317} + 2377.2000000000003 compressor_{1317} + 47.544000000000004 fan_{1318} + 2377.2000000000003 compressor_{1318} + 47.544000000000004 fan_{1319} + 2377.2000000000003 compressor_{1319} + 47.531800000000004 fan_{1320} + 2376.59 compressor_{1320} + 47.531800000000004 fan_{1321} + 2376.59 compressor_{1321} + 47.531800000000004 fan_{1322} + 2376.59 compressor_{1322} + 47.531800000000004 fan_{1323} + 2376.59 compressor_{1323} + 47.531800000000004 fan_{1324} + 2376.59 compressor_{1324} + 47.531800000000004 fan_{1325} + 2376.59 compressor_{1325} + 47.531800000000004 fan_{1326} + 2376.59 compressor_{1326} + 47.531800000000004 fan_{1327} + 2376.59 compressor_{1327} + 47.531800000000004 fan_{1328} + 2376.59 compressor_{1328} + 47.531800000000004 fan_{1329} + 2376.59 compressor_{1329} + 47.531800000000004 fan_{1330} + 2376.59 compressor_{1330} + 47.531800000000004 fan_{1331} + 2376.59 compressor_{1331} + 47.531800000000004 fan_{1332} + 2376.59 compressor_{1332} + 47.531800000000004 fan_{1333} + 2376.59 compressor_{1333} + 47.531800000000004 fan_{1334} + 2376.59 compressor_{1334} + 47.531800000000004 fan_{1335} + 2376.59 compressor_{1335} + 47.531800000000004 fan_{1336} + 2376.59 compressor_{1336} + 47.531800000000004 fan_{1337} + 2376.59 compressor_{1337} + 47.531800000000004 fan_{1338} + 2376.59 compressor_{1338} + 47.531800000000004 fan_{1339} + 2376.59 compressor_{1339} + 47.531800000000004 fan_{1340} + 2376.59 compressor_{1340} + 47.531800000000004 fan_{1341} + 2376.59 compressor_{1341} + 47.531800000000004 fan_{1342} + 2376.59 compressor_{1342} + 47.531800000000004 fan_{1343} + 2376.59 compressor_{1343} + 47.531800000000004 fan_{1344} + 2376.59 compressor_{1344} + 47.531800000000004 fan_{1345} + 2376.59 compressor_{1345} + 47.531800000000004 fan_{1346} + 2376.59 compressor_{1346} + 47.531800000000004 fan_{1347} + 2376.59 compressor_{1347} + 47.531800000000004 fan_{1348} + 2376.59 compressor_{1348} + 47.531800000000004 fan_{1349} + 2376.59 compressor_{1349} + 47.531800000000004 fan_{1350} + 2376.59 compressor_{1350} + 47.531800000000004 fan_{1351} + 2376.59 compressor_{1351} + 47.531800000000004 fan_{1352} + 2376.59 compressor_{1352} + 47.531800000000004 fan_{1353} + 2376.59 compressor_{1353} + 47.531800000000004 fan_{1354} + 2376.59 compressor_{1354} + 47.531800000000004 fan_{1355} + 2376.59 compressor_{1355} + 47.531800000000004 fan_{1356} + 2376.59 compressor_{1356} + 47.531800000000004 fan_{1357} + 2376.59 compressor_{1357} + 47.531800000000004 fan_{1358} + 2376.59 compressor_{1358} + 47.531800000000004 fan_{1359} + 2376.59 compressor_{1359} + 47.531800000000004 fan_{1360} + 2376.59 compressor_{1360} + 47.531800000000004 fan_{1361} + 2376.59 compressor_{1361} + 47.531800000000004 fan_{1362} + 2376.59 compressor_{1362} + 47.531800000000004 fan_{1363} + 2376.59 compressor_{1363} + 47.531800000000004 fan_{1364} + 2376.59 compressor_{1364} + 47.531800000000004 fan_{1365} + 2376.59 compressor_{1365} + 47.531800000000004 fan_{1366} + 2376.59 compressor_{1366} + 47.531800000000004 fan_{1367} + 2376.59 compressor_{1367} + 47.531800000000004 fan_{1368} + 2376.59 compressor_{1368} + 47.531800000000004 fan_{1369} + 2376.59 compressor_{1369} + 47.531800000000004 fan_{1370} + 2376.59 compressor_{1370} + 47.531800000000004 fan_{1371} + 2376.59 compressor_{1371} + 47.531800000000004 fan_{1372} + 2376.59 compressor_{1372} + 47.531800000000004 fan_{1373} + 2376.59 compressor_{1373} + 47.531800000000004 fan_{1374} + 2376.59 compressor_{1374} + 47.531800000000004 fan_{1375} + 2376.59 compressor_{1375} + 47.531800000000004 fan_{1376} + 2376.59 compressor_{1376} + 47.531800000000004 fan_{1377} + 2376.59 compressor_{1377} + 47.531800000000004 fan_{1378} + 2376.59 compressor_{1378} + 47.531800000000004 fan_{1379} + 2376.59 compressor_{1379} + 46.1478 fan_{1380} + 2307.39 compressor_{1380} + 46.1478 fan_{1381} + 2307.39 compressor_{1381} + 46.1478 fan_{1382} + 2307.39 compressor_{1382} + 46.1478 fan_{1383} + 2307.39 compressor_{1383} + 46.1478 fan_{1384} + 2307.39 compressor_{1384} + 46.1478 fan_{1385} + 2307.39 compressor_{1385} + 46.1478 fan_{1386} + 2307.39 compressor_{1386} + 46.1478 fan_{1387} + 2307.39 compressor_{1387} + 46.1478 fan_{1388} + 2307.39 compressor_{1388} + 46.1478 fan_{1389} + 2307.39 compressor_{1389} + 46.1478 fan_{1390} + 2307.39 compressor_{1390} + 46.1478 fan_{1391} + 2307.39 compressor_{1391} + 46.1478 fan_{1392} + 2307.39 compressor_{1392} + 46.1478 fan_{1393} + 2307.39 compressor_{1393} + 46.1478 fan_{1394} + 2307.39 compressor_{1394} + 46.1478 fan_{1395} + 2307.39 compressor_{1395} + 46.1478 fan_{1396} + 2307.39 compressor_{1396} + 46.1478 fan_{1397} + 2307.39 compressor_{1397} + 46.1478 fan_{1398} + 2307.39 compressor_{1398} + 46.1478 fan_{1399} + 2307.39 compressor_{1399} + 46.1478 fan_{1400} + 2307.39 compressor_{1400} + 46.1478 fan_{1401} + 2307.39 compressor_{1401} + 46.1478 fan_{1402} + 2307.39 compressor_{1402} + 46.1478 fan_{1403} + 2307.39 compressor_{1403} + 46.1478 fan_{1404} + 2307.39 compressor_{1404} + 46.1478 fan_{1405} + 2307.39 compressor_{1405} + 46.1478 fan_{1406} + 2307.39 compressor_{1406} + 46.1478 fan_{1407} + 2307.39 compressor_{1407} + 46.1478 fan_{1408} + 2307.39 compressor_{1408} + 46.1478 fan_{1409} + 2307.39 compressor_{1409} + 46.1478 fan_{1410} + 2307.39 compressor_{1410} + 46.1478 fan_{1411} + 2307.39 compressor_{1411} + 46.1478 fan_{1412} + 2307.39 compressor_{1412} + 46.1478 fan_{1413} + 2307.39 compressor_{1413} + 46.1478 fan_{1414} + 2307.39 compressor_{1414} + 46.1478 fan_{1415} + 2307.39 compressor_{1415} + 46.1478 fan_{1416} + 2307.39 compressor_{1416} + 46.1478 fan_{1417} + 2307.39 compressor_{1417} + 46.1478 fan_{1418} + 2307.39 compressor_{1418} + 46.1478 fan_{1419} + 2307.39 compressor_{1419} + 46.1478 fan_{1420} + 2307.39 compressor_{1420} + 46.1478 fan_{1421} + 2307.39 compressor_{1421} + 46.1478 fan_{1422} + 2307.39 compressor_{1422} + 46.1478 fan_{1423} + 2307.39 compressor_{1423} + 46.1478 fan_{1424} + 2307.39 compressor_{1424} + 46.1478 fan_{1425} + 2307.39 compressor_{1425} + 46.1478 fan_{1426} + 2307.39 compressor_{1426} + 46.1478 fan_{1427} + 2307.39 compressor_{1427} + 46.1478 fan_{1428} + 2307.39 compressor_{1428} + 46.1478 fan_{1429} + 2307.39 compressor_{1429} + 46.1478 fan_{1430} + 2307.39 compressor_{1430} + 46.1478 fan_{1431} + 2307.39 compressor_{1431} + 46.1478 fan_{1432} + 2307.39 compressor_{1432} + 46.1478 fan_{1433} + 2307.39 compressor_{1433} + 46.1478 fan_{1434} + 2307.39 compressor_{1434} + 46.1478 fan_{1435} + 2307.39 compressor_{1435} + 46.1478 fan_{1436} + 2307.39 compressor_{1436} + 46.1478 fan_{1437} + 2307.39 compressor_{1437} + 46.1478 fan_{1438} + 2307.39 compressor_{1438} + 46.1478 fan_{1439} + 2307.39 compressor_{1439} + 44.1704 fan_{1440} + 2208.52 compressor_{1440} $$"
      ],
      "text/plain": [
       "44.1704 fan[1] + 2208.52 compressor[1] + 44.1704 fan[2] + 2208.52 compressor[2] + 44.17040000000001 fan[3] + 2208.5200000000004 compressor[3] + 44.170399999999994 fan[4] + 2208.5199999999995 compressor[4] + 44.1704 fan[5] + 2208.52 compressor[5] + 44.1704 fan[6] + 2208.52 compressor[6] + 44.1704 fan[7] + 2208.52 compressor[7] + 44.1704 fan[8] + 2208.52 compressor[8] + 44.1704 fan[9] + 2208.52 compressor[9] + 44.1704 fan[10] + 2208.52 compressor[10] + 44.1704 fan[11] + 2208.52 compressor[11] + 44.1704 fan[12] + 2208.52 compressor[12] + 44.1704 fan[13] + 2208.52 compressor[13] + 44.1704 fan[14] + 2208.52 compressor[14] + 44.1704 fan[15] + 2208.52 compressor[15] + 44.1704 fan[16] + 2208.52 compressor[16] + 44.1704 fan[17] + 2208.52 compressor[17] + 44.1704 fan[18] + 2208.52 compressor[18] + 44.1704 fan[19] + 2208.52 compressor[19] + 44.1704 fan[20] + 2208.52 compressor[20] + 44.1704 fan[21] + 2208.52 compressor[21] + 44.1704 fan[22] + 2208.52 compressor[22] + 44.1704 fan[23] + 2208.52 compressor[23] + 44.1704 fan[24] + 2208.52 compressor[24] + 44.1704 fan[25] + 2208.52 compressor[25] + 44.1704 fan[26] + 2208.52 compressor[26] + 44.1704 fan[27] + 2208.52 compressor[27] + 44.1704 fan[28] + 2208.52 compressor[28] + 44.1704 fan[29] + 2208.52 compressor[29] + 44.1704 fan[30] + 2208.52 compressor[30] + 44.1704 fan[31] + 2208.52 compressor[31] + 44.1704 fan[32] + 2208.52 compressor[32] + 44.1704 fan[33] + 2208.52 compressor[33] + 44.1704 fan[34] + 2208.52 compressor[34] + 44.1704 fan[35] + 2208.52 compressor[35] + 44.1704 fan[36] + 2208.52 compressor[36] + 44.1704 fan[37] + 2208.52 compressor[37] + 44.1704 fan[38] + 2208.52 compressor[38] + 44.1704 fan[39] + 2208.52 compressor[39] + 44.1704 fan[40] + 2208.52 compressor[40] + 44.1704 fan[41] + 2208.52 compressor[41] + 44.1704 fan[42] + 2208.52 compressor[42] + 44.1704 fan[43] + 2208.52 compressor[43] + 44.1704 fan[44] + 2208.52 compressor[44] + 44.1704 fan[45] + 2208.52 compressor[45] + 44.1704 fan[46] + 2208.52 compressor[46] + 44.1704 fan[47] + 2208.52 compressor[47] + 44.1704 fan[48] + 2208.52 compressor[48] + 44.1704 fan[49] + 2208.52 compressor[49] + 44.1704 fan[50] + 2208.52 compressor[50] + 44.1704 fan[51] + 2208.52 compressor[51] + 44.1704 fan[52] + 2208.52 compressor[52] + 44.1704 fan[53] + 2208.52 compressor[53] + 44.1704 fan[54] + 2208.52 compressor[54] + 44.1704 fan[55] + 2208.52 compressor[55] + 44.1704 fan[56] + 2208.52 compressor[56] + 44.1704 fan[57] + 2208.52 compressor[57] + 44.1704 fan[58] + 2208.52 compressor[58] + 44.1704 fan[59] + 2208.52 compressor[59] + 42.5404 fan[60] + 2127.02 compressor[60] + 42.5404 fan[61] + 2127.02 compressor[61] + 42.54039999999999 fan[62] + 2127.0199999999995 compressor[62] + 42.5404 fan[63] + 2127.02 compressor[63] + 42.5404 fan[64] + 2127.02 compressor[64] + 42.5404 fan[65] + 2127.02 compressor[65] + 42.5404 fan[66] + 2127.02 compressor[66] + 42.5404 fan[67] + 2127.02 compressor[67] + 42.5404 fan[68] + 2127.02 compressor[68] + 42.5404 fan[69] + 2127.02 compressor[69] + 42.5404 fan[70] + 2127.02 compressor[70] + 42.5404 fan[71] + 2127.02 compressor[71] + 42.5404 fan[72] + 2127.02 compressor[72] + 42.5404 fan[73] + 2127.02 compressor[73] + 42.5404 fan[74] + 2127.02 compressor[74] + 42.5404 fan[75] + 2127.02 compressor[75] + 42.5404 fan[76] + 2127.02 compressor[76] + 42.5404 fan[77] + 2127.02 compressor[77] + 42.5404 fan[78] + 2127.02 compressor[78] + 42.5404 fan[79] + 2127.02 compressor[79] + 42.5404 fan[80] + 2127.02 compressor[80] + 42.5404 fan[81] + 2127.02 compressor[81] + 42.5404 fan[82] + 2127.02 compressor[82] + 42.5404 fan[83] + 2127.02 compressor[83] + 42.5404 fan[84] + 2127.02 compressor[84] + 42.5404 fan[85] + 2127.02 compressor[85] + 42.5404 fan[86] + 2127.02 compressor[86] + 42.5404 fan[87] + 2127.02 compressor[87] + 42.5404 fan[88] + 2127.02 compressor[88] + 42.5404 fan[89] + 2127.02 compressor[89] + 42.5404 fan[90] + 2127.02 compressor[90] + 42.5404 fan[91] + 2127.02 compressor[91] + 42.5404 fan[92] + 2127.02 compressor[92] + 42.5404 fan[93] + 2127.02 compressor[93] + 42.5404 fan[94] + 2127.02 compressor[94] + 42.5404 fan[95] + 2127.02 compressor[95] + 42.5404 fan[96] + 2127.02 compressor[96] + 42.5404 fan[97] + 2127.02 compressor[97] + 42.5404 fan[98] + 2127.02 compressor[98] + 42.5404 fan[99] + 2127.02 compressor[99] + 42.5404 fan[100] + 2127.02 compressor[100] + 42.5404 fan[101] + 2127.02 compressor[101] + 42.5404 fan[102] + 2127.02 compressor[102] + 42.5404 fan[103] + 2127.02 compressor[103] + 42.5404 fan[104] + 2127.02 compressor[104] + 42.5404 fan[105] + 2127.02 compressor[105] + 42.5404 fan[106] + 2127.02 compressor[106] + 42.5404 fan[107] + 2127.02 compressor[107] + 42.5404 fan[108] + 2127.02 compressor[108] + 42.5404 fan[109] + 2127.02 compressor[109] + 42.5404 fan[110] + 2127.02 compressor[110] + 42.5404 fan[111] + 2127.02 compressor[111] + 42.5404 fan[112] + 2127.02 compressor[112] + 42.5404 fan[113] + 2127.02 compressor[113] + 42.5404 fan[114] + 2127.02 compressor[114] + 42.5404 fan[115] + 2127.02 compressor[115] + 42.5404 fan[116] + 2127.02 compressor[116] + 42.5404 fan[117] + 2127.02 compressor[117] + 42.5404 fan[118] + 2127.02 compressor[118] + 42.5404 fan[119] + 2127.02 compressor[119] + 41.443599999999996 fan[120] + 2072.18 compressor[120] + 41.44359999999999 fan[121] + 2072.1799999999994 compressor[121] + 41.443599999999996 fan[122] + 2072.18 compressor[122] + 41.443599999999996 fan[123] + 2072.18 compressor[123] + 41.443599999999996 fan[124] + 2072.18 compressor[124] + 41.443599999999996 fan[125] + 2072.18 compressor[125] + 41.443599999999996 fan[126] + 2072.18 compressor[126] + 41.443599999999996 fan[127] + 2072.18 compressor[127] + 41.443599999999996 fan[128] + 2072.18 compressor[128] + 41.443599999999996 fan[129] + 2072.18 compressor[129] + 41.443599999999996 fan[130] + 2072.18 compressor[130] + 41.443599999999996 fan[131] + 2072.18 compressor[131] + 41.443599999999996 fan[132] + 2072.18 compressor[132] + 41.443599999999996 fan[133] + 2072.18 compressor[133] + 41.443599999999996 fan[134] + 2072.18 compressor[134] + 41.4436 fan[135] + 2072.1800000000003 compressor[135] + 41.44359999999999 fan[136] + 2072.1799999999994 compressor[136] + 41.443599999999996 fan[137] + 2072.18 compressor[137] + 41.443599999999996 fan[138] + 2072.18 compressor[138] + 41.443599999999996 fan[139] + 2072.18 compressor[139] + 41.443599999999996 fan[140] + 2072.18 compressor[140] + 41.44359999999999 fan[141] + 2072.1799999999994 compressor[141] + 41.443599999999996 fan[142] + 2072.18 compressor[142] + 41.443599999999996 fan[143] + 2072.18 compressor[143] + 41.443599999999996 fan[144] + 2072.18 compressor[144] + 41.443599999999996 fan[145] + 2072.18 compressor[145] + 41.443599999999996 fan[146] + 2072.18 compressor[146] + 41.443599999999996 fan[147] + 2072.18 compressor[147] + 41.443599999999996 fan[148] + 2072.18 compressor[148] + 41.443599999999996 fan[149] + 2072.18 compressor[149] + 41.443599999999996 fan[150] + 2072.18 compressor[150] + 41.443599999999996 fan[151] + 2072.18 compressor[151] + 41.443599999999996 fan[152] + 2072.18 compressor[152] + 41.443599999999996 fan[153] + 2072.18 compressor[153] + 41.443599999999996 fan[154] + 2072.18 compressor[154] + 41.443599999999996 fan[155] + 2072.18 compressor[155] + 41.443599999999996 fan[156] + 2072.18 compressor[156] + 41.443599999999996 fan[157] + 2072.18 compressor[157] + 41.443599999999996 fan[158] + 2072.18 compressor[158] + 41.443599999999996 fan[159] + 2072.18 compressor[159] + 41.443599999999996 fan[160] + 2072.18 compressor[160] + 41.443599999999996 fan[161] + 2072.18 compressor[161] + 41.443599999999996 fan[162] + 2072.18 compressor[162] + 41.443599999999996 fan[163] + 2072.18 compressor[163] + 41.443599999999996 fan[164] + 2072.18 compressor[164] + 41.443599999999996 fan[165] + 2072.18 compressor[165] + 41.443599999999996 fan[166] + 2072.18 compressor[166] + 41.443599999999996 fan[167] + 2072.18 compressor[167] + 41.443599999999996 fan[168] + 2072.18 compressor[168] + 41.443599999999996 fan[169] + 2072.18 compressor[169] + 41.443599999999996 fan[170] + 2072.18 compressor[170] + 41.443599999999996 fan[171] + 2072.18 compressor[171] + 41.443599999999996 fan[172] + 2072.18 compressor[172] + 41.443599999999996 fan[173] + 2072.18 compressor[173] + 41.443599999999996 fan[174] + 2072.18 compressor[174] + 41.443599999999996 fan[175] + 2072.18 compressor[175] + 41.443599999999996 fan[176] + 2072.18 compressor[176] + 41.443599999999996 fan[177] + 2072.18 compressor[177] + 41.443599999999996 fan[178] + 2072.18 compressor[178] + 41.443599999999996 fan[179] + 2072.18 compressor[179] + 40.546800000000005 fan[180] + 2027.3400000000001 compressor[180] + 40.546800000000005 fan[181] + 2027.3400000000001 compressor[181] + 40.546800000000005 fan[182] + 2027.3400000000001 compressor[182] + 40.546800000000005 fan[183] + 2027.3400000000001 compressor[183] + 40.546800000000005 fan[184] + 2027.3400000000001 compressor[184] + 40.546800000000005 fan[185] + 2027.3400000000001 compressor[185] + 40.546800000000005 fan[186] + 2027.3400000000001 compressor[186] + 40.546800000000005 fan[187] + 2027.3400000000001 compressor[187] + 40.546800000000005 fan[188] + 2027.3400000000001 compressor[188] + 40.546800000000005 fan[189] + 2027.3400000000001 compressor[189] + 40.546800000000005 fan[190] + 2027.3400000000001 compressor[190] + 40.546800000000005 fan[191] + 2027.3400000000001 compressor[191] + 40.546800000000005 fan[192] + 2027.3400000000001 compressor[192] + 40.546800000000005 fan[193] + 2027.3400000000001 compressor[193] + 40.546800000000005 fan[194] + 2027.3400000000001 compressor[194] + 40.546800000000005 fan[195] + 2027.3400000000001 compressor[195] + 40.54679999999999 fan[196] + 2027.3399999999997 compressor[196] + 40.546800000000005 fan[197] + 2027.3400000000001 compressor[197] + 40.546800000000005 fan[198] + 2027.3400000000001 compressor[198] + 40.546800000000005 fan[199] + 2027.3400000000001 compressor[199] + 40.546800000000005 fan[200] + 2027.3400000000001 compressor[200] + 40.54679999999999 fan[201] + 2027.3399999999997 compressor[201] + 40.546800000000005 fan[202] + 2027.3400000000001 compressor[202] + 40.546800000000005 fan[203] + 2027.3400000000001 compressor[203] + 40.546800000000005 fan[204] + 2027.3400000000001 compressor[204] + 40.546800000000005 fan[205] + 2027.3400000000001 compressor[205] + 40.546800000000005 fan[206] + 2027.3400000000001 compressor[206] + 40.546800000000005 fan[207] + 2027.3400000000001 compressor[207] + 40.546800000000005 fan[208] + 2027.3400000000001 compressor[208] + 40.546800000000005 fan[209] + 2027.3400000000001 compressor[209] + 40.546800000000005 fan[210] + 2027.3400000000001 compressor[210] + 40.546800000000005 fan[211] + 2027.3400000000001 compressor[211] + 40.546800000000005 fan[212] + 2027.3400000000001 compressor[212] + 40.546800000000005 fan[213] + 2027.3400000000001 compressor[213] + 40.546800000000005 fan[214] + 2027.3400000000001 compressor[214] + 40.546800000000005 fan[215] + 2027.3400000000001 compressor[215] + 40.546800000000005 fan[216] + 2027.3400000000001 compressor[216] + 40.546800000000005 fan[217] + 2027.3400000000001 compressor[217] + 40.546800000000005 fan[218] + 2027.3400000000001 compressor[218] + 40.546800000000005 fan[219] + 2027.3400000000001 compressor[219] + 40.546800000000005 fan[220] + 2027.3400000000001 compressor[220] + 40.546800000000005 fan[221] + 2027.3400000000001 compressor[221] + 40.546800000000005 fan[222] + 2027.3400000000001 compressor[222] + 40.546800000000005 fan[223] + 2027.3400000000001 compressor[223] + 40.546800000000005 fan[224] + 2027.3400000000001 compressor[224] + 40.546800000000005 fan[225] + 2027.3400000000001 compressor[225] + 40.546800000000005 fan[226] + 2027.3400000000001 compressor[226] + 40.546800000000005 fan[227] + 2027.3400000000001 compressor[227] + 40.546800000000005 fan[228] + 2027.3400000000001 compressor[228] + 40.546800000000005 fan[229] + 2027.3400000000001 compressor[229] + 40.546800000000005 fan[230] + 2027.3400000000001 compressor[230] + 40.546800000000005 fan[231] + 2027.3400000000001 compressor[231] + 40.546800000000005 fan[232] + 2027.3400000000001 compressor[232] + 40.546800000000005 fan[233] + 2027.3400000000001 compressor[233] + 40.546800000000005 fan[234] + 2027.3400000000001 compressor[234] + 40.546800000000005 fan[235] + 2027.3400000000001 compressor[235] + 40.546800000000005 fan[236] + 2027.3400000000001 compressor[236] + 40.546800000000005 fan[237] + 2027.3400000000001 compressor[237] + 40.546800000000005 fan[238] + 2027.3400000000001 compressor[238] + 40.546800000000005 fan[239] + 2027.3400000000001 compressor[239] + 40.1459 fan[240] + 2007.295 compressor[240] + 40.1459 fan[241] + 2007.295 compressor[241] + 40.1459 fan[242] + 2007.295 compressor[242] + 40.1459 fan[243] + 2007.295 compressor[243] + 40.1459 fan[244] + 2007.295 compressor[244] + 40.1459 fan[245] + 2007.295 compressor[245] + 40.1459 fan[246] + 2007.295 compressor[246] + 40.1459 fan[247] + 2007.295 compressor[247] + 40.1459 fan[248] + 2007.295 compressor[248] + 40.1459 fan[249] + 2007.295 compressor[249] + 40.1459 fan[250] + 2007.295 compressor[250] + 40.1459 fan[251] + 2007.295 compressor[251] + 40.1459 fan[252] + 2007.295 compressor[252] + 40.1459 fan[253] + 2007.295 compressor[253] + 40.1459 fan[254] + 2007.295 compressor[254] + 40.1459 fan[255] + 2007.295 compressor[255] + 40.1459 fan[256] + 2007.295 compressor[256] + 40.1459 fan[257] + 2007.295 compressor[257] + 40.1459 fan[258] + 2007.295 compressor[258] + 40.1459 fan[259] + 2007.295 compressor[259] + 40.1459 fan[260] + 2007.295 compressor[260] + 40.1459 fan[261] + 2007.295 compressor[261] + 40.1459 fan[262] + 2007.295 compressor[262] + 40.1459 fan[263] + 2007.295 compressor[263] + 40.1459 fan[264] + 2007.295 compressor[264] + 40.1459 fan[265] + 2007.295 compressor[265] + 40.1459 fan[266] + 2007.295 compressor[266] + 40.1459 fan[267] + 2007.295 compressor[267] + 40.1459 fan[268] + 2007.295 compressor[268] + 40.1459 fan[269] + 2007.295 compressor[269] + 40.1459 fan[270] + 2007.295 compressor[270] + 40.1459 fan[271] + 2007.295 compressor[271] + 40.1459 fan[272] + 2007.295 compressor[272] + 40.1459 fan[273] + 2007.295 compressor[273] + 40.1459 fan[274] + 2007.295 compressor[274] + 40.1459 fan[275] + 2007.295 compressor[275] + 40.1459 fan[276] + 2007.295 compressor[276] + 40.1459 fan[277] + 2007.295 compressor[277] + 40.1459 fan[278] + 2007.295 compressor[278] + 40.1459 fan[279] + 2007.295 compressor[279] + 40.1459 fan[280] + 2007.295 compressor[280] + 40.1459 fan[281] + 2007.295 compressor[281] + 40.1459 fan[282] + 2007.295 compressor[282] + 40.1459 fan[283] + 2007.295 compressor[283] + 40.1459 fan[284] + 2007.295 compressor[284] + 40.1459 fan[285] + 2007.295 compressor[285] + 40.1459 fan[286] + 2007.295 compressor[286] + 40.1459 fan[287] + 2007.295 compressor[287] + 40.1459 fan[288] + 2007.295 compressor[288] + 40.1459 fan[289] + 2007.295 compressor[289] + 40.1459 fan[290] + 2007.295 compressor[290] + 40.1459 fan[291] + 2007.295 compressor[291] + 40.1459 fan[292] + 2007.295 compressor[292] + 40.1459 fan[293] + 2007.295 compressor[293] + 40.1459 fan[294] + 2007.295 compressor[294] + 40.1459 fan[295] + 2007.295 compressor[295] + 40.1459 fan[296] + 2007.295 compressor[296] + 40.1459 fan[297] + 2007.295 compressor[297] + 40.1459 fan[298] + 2007.295 compressor[298] + 40.1459 fan[299] + 2007.295 compressor[299] + 40.263099999999994 fan[300] + 2013.1549999999997 compressor[300] + 40.263099999999994 fan[301] + 2013.1549999999997 compressor[301] + 40.263099999999994 fan[302] + 2013.1549999999997 compressor[302] + 40.263099999999994 fan[303] + 2013.1549999999997 compressor[303] + 40.263099999999994 fan[304] + 2013.1549999999997 compressor[304] + 40.263099999999994 fan[305] + 2013.1549999999997 compressor[305] + 40.263099999999994 fan[306] + 2013.1549999999997 compressor[306] + 40.263099999999994 fan[307] + 2013.1549999999997 compressor[307] + 40.263099999999994 fan[308] + 2013.1549999999997 compressor[308] + 40.263099999999994 fan[309] + 2013.1549999999997 compressor[309] + 40.263099999999994 fan[310] + 2013.1549999999997 compressor[310] + 40.263099999999994 fan[311] + 2013.1549999999997 compressor[311] + 40.263099999999994 fan[312] + 2013.1549999999997 compressor[312] + 40.263099999999994 fan[313] + 2013.1549999999997 compressor[313] + 40.263099999999994 fan[314] + 2013.1549999999997 compressor[314] + 40.263099999999994 fan[315] + 2013.1549999999997 compressor[315] + 40.263099999999994 fan[316] + 2013.1549999999997 compressor[316] + 40.263099999999994 fan[317] + 2013.1549999999997 compressor[317] + 40.263099999999994 fan[318] + 2013.1549999999997 compressor[318] + 40.263099999999994 fan[319] + 2013.1549999999997 compressor[319] + 40.263099999999994 fan[320] + 2013.1549999999997 compressor[320] + 40.263099999999994 fan[321] + 2013.1549999999997 compressor[321] + 40.263099999999994 fan[322] + 2013.1549999999997 compressor[322] + 40.263099999999994 fan[323] + 2013.1549999999997 compressor[323] + 40.263099999999994 fan[324] + 2013.1549999999997 compressor[324] + 40.263099999999994 fan[325] + 2013.1549999999997 compressor[325] + 40.263099999999994 fan[326] + 2013.1549999999997 compressor[326] + 40.263099999999994 fan[327] + 2013.1549999999997 compressor[327] + 40.263099999999994 fan[328] + 2013.1549999999997 compressor[328] + 40.263099999999994 fan[329] + 2013.1549999999997 compressor[329] + 40.263099999999994 fan[330] + 2013.1549999999997 compressor[330] + 40.263099999999994 fan[331] + 2013.1549999999997 compressor[331] + 40.263099999999994 fan[332] + 2013.1549999999997 compressor[332] + 40.263099999999994 fan[333] + 2013.1549999999997 compressor[333] + 40.263099999999994 fan[334] + 2013.1549999999997 compressor[334] + 40.263099999999994 fan[335] + 2013.1549999999997 compressor[335] + 40.263099999999994 fan[336] + 2013.1549999999997 compressor[336] + 40.263099999999994 fan[337] + 2013.1549999999997 compressor[337] + 40.263099999999994 fan[338] + 2013.1549999999997 compressor[338] + 40.263099999999994 fan[339] + 2013.1549999999997 compressor[339] + 40.263099999999994 fan[340] + 2013.1549999999997 compressor[340] + 40.263099999999994 fan[341] + 2013.1549999999997 compressor[341] + 40.263099999999994 fan[342] + 2013.1549999999997 compressor[342] + 40.263099999999994 fan[343] + 2013.1549999999997 compressor[343] + 40.263099999999994 fan[344] + 2013.1549999999997 compressor[344] + 40.263099999999994 fan[345] + 2013.1549999999997 compressor[345] + 40.263099999999994 fan[346] + 2013.1549999999997 compressor[346] + 40.263099999999994 fan[347] + 2013.1549999999997 compressor[347] + 40.263099999999994 fan[348] + 2013.1549999999997 compressor[348] + 40.263099999999994 fan[349] + 2013.1549999999997 compressor[349] + 40.263099999999994 fan[350] + 2013.1549999999997 compressor[350] + 40.263099999999994 fan[351] + 2013.1549999999997 compressor[351] + 40.263099999999994 fan[352] + 2013.1549999999997 compressor[352] + 40.263099999999994 fan[353] + 2013.1549999999997 compressor[353] + 40.263099999999994 fan[354] + 2013.1549999999997 compressor[354] + 40.263099999999994 fan[355] + 2013.1549999999997 compressor[355] + 40.263099999999994 fan[356] + 2013.1549999999997 compressor[356] + 40.263099999999994 fan[357] + 2013.1549999999997 compressor[357] + 40.263099999999994 fan[358] + 2013.1549999999997 compressor[358] + 40.263099999999994 fan[359] + 2013.1549999999997 compressor[359] + 41.613499999999995 fan[360] + 2080.6749999999997 compressor[360] + 41.61349999999999 fan[361] + 2080.6749999999993 compressor[361] + 41.613499999999995 fan[362] + 2080.6749999999997 compressor[362] + 41.613499999999995 fan[363] + 2080.6749999999997 compressor[363] + 41.613499999999995 fan[364] + 2080.6749999999997 compressor[364] + 41.613499999999995 fan[365] + 2080.6749999999997 compressor[365] + 41.613499999999995 fan[366] + 2080.6749999999997 compressor[366] + 41.613499999999995 fan[367] + 2080.6749999999997 compressor[367] + 41.613499999999995 fan[368] + 2080.6749999999997 compressor[368] + 41.613499999999995 fan[369] + 2080.6749999999997 compressor[369] + 41.613499999999995 fan[370] + 2080.6749999999997 compressor[370] + 41.613499999999995 fan[371] + 2080.6749999999997 compressor[371] + 41.613499999999995 fan[372] + 2080.6749999999997 compressor[372] + 41.613499999999995 fan[373] + 2080.6749999999997 compressor[373] + 41.613499999999995 fan[374] + 2080.6749999999997 compressor[374] + 41.613499999999995 fan[375] + 2080.6749999999997 compressor[375] + 41.613499999999995 fan[376] + 2080.6749999999997 compressor[376] + 41.613499999999995 fan[377] + 2080.6749999999997 compressor[377] + 41.613499999999995 fan[378] + 2080.6749999999997 compressor[378] + 41.613499999999995 fan[379] + 2080.6749999999997 compressor[379] + 41.613499999999995 fan[380] + 2080.6749999999997 compressor[380] + 41.613499999999995 fan[381] + 2080.6749999999997 compressor[381] + 41.613499999999995 fan[382] + 2080.6749999999997 compressor[382] + 41.613499999999995 fan[383] + 2080.6749999999997 compressor[383] + 41.61349999999999 fan[384] + 2080.6749999999993 compressor[384] + 41.613499999999995 fan[385] + 2080.6749999999997 compressor[385] + 41.61349999999999 fan[386] + 2080.6749999999993 compressor[386] + 41.613499999999995 fan[387] + 2080.6749999999997 compressor[387] + 41.613499999999995 fan[388] + 2080.6749999999997 compressor[388] + 41.613499999999995 fan[389] + 2080.6749999999997 compressor[389] + 41.613499999999995 fan[390] + 2080.6749999999997 compressor[390] + 41.613499999999995 fan[391] + 2080.6749999999997 compressor[391] + 41.613499999999995 fan[392] + 2080.6749999999997 compressor[392] + 41.613499999999995 fan[393] + 2080.6749999999997 compressor[393] + 41.613499999999995 fan[394] + 2080.6749999999997 compressor[394] + 41.613499999999995 fan[395] + 2080.6749999999997 compressor[395] + 41.613499999999995 fan[396] + 2080.6749999999997 compressor[396] + 41.613499999999995 fan[397] + 2080.6749999999997 compressor[397] + 41.613499999999995 fan[398] + 2080.6749999999997 compressor[398] + 41.613499999999995 fan[399] + 2080.6749999999997 compressor[399] + 41.613499999999995 fan[400] + 2080.6749999999997 compressor[400] + 41.613499999999995 fan[401] + 2080.6749999999997 compressor[401] + 41.613499999999995 fan[402] + 2080.6749999999997 compressor[402] + 41.613499999999995 fan[403] + 2080.6749999999997 compressor[403] + 41.613499999999995 fan[404] + 2080.6749999999997 compressor[404] + 41.613499999999995 fan[405] + 2080.6749999999997 compressor[405] + 41.613499999999995 fan[406] + 2080.6749999999997 compressor[406] + 41.613499999999995 fan[407] + 2080.6749999999997 compressor[407] + 41.613499999999995 fan[408] + 2080.6749999999997 compressor[408] + 41.613499999999995 fan[409] + 2080.6749999999997 compressor[409] + 41.613499999999995 fan[410] + 2080.6749999999997 compressor[410] + 41.613499999999995 fan[411] + 2080.6749999999997 compressor[411] + 41.613499999999995 fan[412] + 2080.6749999999997 compressor[412] + 41.613499999999995 fan[413] + 2080.6749999999997 compressor[413] + 41.613499999999995 fan[414] + 2080.6749999999997 compressor[414] + 41.613499999999995 fan[415] + 2080.6749999999997 compressor[415] + 41.613499999999995 fan[416] + 2080.6749999999997 compressor[416] + 41.613499999999995 fan[417] + 2080.6749999999997 compressor[417] + 41.613499999999995 fan[418] + 2080.6749999999997 compressor[418] + 41.613499999999995 fan[419] + 2080.6749999999997 compressor[419] + 42.4251 fan[420] + 2121.255 compressor[420] + 42.4251 fan[421] + 2121.255 compressor[421] + 42.4251 fan[422] + 2121.255 compressor[422] + 42.4251 fan[423] + 2121.255 compressor[423] + 42.4251 fan[424] + 2121.255 compressor[424] + 42.4251 fan[425] + 2121.255 compressor[425] + 42.4251 fan[426] + 2121.255 compressor[426] + 42.4251 fan[427] + 2121.255 compressor[427] + 42.4251 fan[428] + 2121.255 compressor[428] + 42.4251 fan[429] + 2121.255 compressor[429] + 42.4251 fan[430] + 2121.255 compressor[430] + 42.4251 fan[431] + 2121.255 compressor[431] + 42.4251 fan[432] + 2121.255 compressor[432] + 42.4251 fan[433] + 2121.255 compressor[433] + 42.4251 fan[434] + 2121.255 compressor[434] + 42.42509999999999 fan[435] + 2121.2549999999997 compressor[435] + 42.425100000000015 fan[436] + 2121.2550000000006 compressor[436] + 42.4251 fan[437] + 2121.255 compressor[437] + 42.4251 fan[438] + 2121.255 compressor[438] + 42.4251 fan[439] + 2121.255 compressor[439] + 42.4251 fan[440] + 2121.255 compressor[440] + 42.4251 fan[441] + 2121.255 compressor[441] + 42.4251 fan[442] + 2121.255 compressor[442] + 42.4251 fan[443] + 2121.255 compressor[443] + 42.4251 fan[444] + 2121.255 compressor[444] + 42.4251 fan[445] + 2121.255 compressor[445] + 42.4251 fan[446] + 2121.255 compressor[446] + 42.4251 fan[447] + 2121.255 compressor[447] + 42.42509999999999 fan[448] + 2121.2549999999997 compressor[448] + 42.4251 fan[449] + 2121.255 compressor[449] + 42.4251 fan[450] + 2121.255 compressor[450] + 42.4251 fan[451] + 2121.255 compressor[451] + 42.4251 fan[452] + 2121.255 compressor[452] + 42.4251 fan[453] + 2121.255 compressor[453] + 42.4251 fan[454] + 2121.255 compressor[454] + 42.4251 fan[455] + 2121.255 compressor[455] + 42.4251 fan[456] + 2121.255 compressor[456] + 42.4251 fan[457] + 2121.255 compressor[457] + 42.4251 fan[458] + 2121.255 compressor[458] + 42.4251 fan[459] + 2121.255 compressor[459] + 42.4251 fan[460] + 2121.255 compressor[460] + 42.4251 fan[461] + 2121.255 compressor[461] + 42.4251 fan[462] + 2121.255 compressor[462] + 42.4251 fan[463] + 2121.255 compressor[463] + 42.4251 fan[464] + 2121.255 compressor[464] + 42.4251 fan[465] + 2121.255 compressor[465] + 42.4251 fan[466] + 2121.255 compressor[466] + 42.4251 fan[467] + 2121.255 compressor[467] + 42.4251 fan[468] + 2121.255 compressor[468] + 42.4251 fan[469] + 2121.255 compressor[469] + 42.4251 fan[470] + 2121.255 compressor[470] + 42.4251 fan[471] + 2121.255 compressor[471] + 42.4251 fan[472] + 2121.255 compressor[472] + 42.4251 fan[473] + 2121.255 compressor[473] + 42.4251 fan[474] + 2121.255 compressor[474] + 42.4251 fan[475] + 2121.255 compressor[475] + 42.4251 fan[476] + 2121.255 compressor[476] + 42.425100000000015 fan[477] + 2121.2550000000006 compressor[477] + 42.4251 fan[478] + 2121.255 compressor[478] + 42.4251 fan[479] + 2121.255 compressor[479] + 44.997600000000006 fan[480] + 2249.88 compressor[480] + 44.997600000000006 fan[481] + 2249.88 compressor[481] + 44.997600000000006 fan[482] + 2249.88 compressor[482] + 44.997600000000006 fan[483] + 2249.88 compressor[483] + 44.997600000000006 fan[484] + 2249.88 compressor[484] + 44.997600000000006 fan[485] + 2249.88 compressor[485] + 44.997600000000006 fan[486] + 2249.88 compressor[486] + 44.997600000000006 fan[487] + 2249.88 compressor[487] + 44.997600000000006 fan[488] + 2249.88 compressor[488] + 44.997600000000006 fan[489] + 2249.88 compressor[489] + 44.997600000000006 fan[490] + 2249.88 compressor[490] + 44.997600000000006 fan[491] + 2249.88 compressor[491] + 44.997600000000006 fan[492] + 2249.88 compressor[492] + 44.997600000000006 fan[493] + 2249.88 compressor[493] + 44.997600000000006 fan[494] + 2249.88 compressor[494] + 44.997600000000006 fan[495] + 2249.88 compressor[495] + 44.997600000000006 fan[496] + 2249.88 compressor[496] + 44.997600000000006 fan[497] + 2249.88 compressor[497] + 44.997600000000006 fan[498] + 2249.88 compressor[498] + 44.997600000000006 fan[499] + 2249.88 compressor[499] + 44.997600000000006 fan[500] + 2249.88 compressor[500] + 44.997600000000006 fan[501] + 2249.88 compressor[501] + 44.997600000000006 fan[502] + 2249.88 compressor[502] + 44.997600000000006 fan[503] + 2249.88 compressor[503] + 44.997600000000006 fan[504] + 2249.88 compressor[504] + 44.997600000000006 fan[505] + 2249.88 compressor[505] + 44.997600000000006 fan[506] + 2249.88 compressor[506] + 44.997600000000006 fan[507] + 2249.88 compressor[507] + 44.997600000000006 fan[508] + 2249.88 compressor[508] + 44.997600000000006 fan[509] + 2249.88 compressor[509] + 44.997600000000006 fan[510] + 2249.88 compressor[510] + 44.997600000000006 fan[511] + 2249.88 compressor[511] + 44.997600000000006 fan[512] + 2249.88 compressor[512] + 44.997600000000006 fan[513] + 2249.88 compressor[513] + 44.997600000000006 fan[514] + 2249.88 compressor[514] + 44.997600000000006 fan[515] + 2249.88 compressor[515] + 44.997600000000006 fan[516] + 2249.88 compressor[516] + 44.997600000000006 fan[517] + 2249.88 compressor[517] + 44.997600000000006 fan[518] + 2249.88 compressor[518] + 44.997600000000006 fan[519] + 2249.88 compressor[519] + 44.997600000000006 fan[520] + 2249.88 compressor[520] + 44.997600000000006 fan[521] + 2249.88 compressor[521] + 44.997600000000006 fan[522] + 2249.88 compressor[522] + 44.997600000000006 fan[523] + 2249.88 compressor[523] + 44.997600000000006 fan[524] + 2249.88 compressor[524] + 44.997600000000006 fan[525] + 2249.88 compressor[525] + 44.997600000000006 fan[526] + 2249.88 compressor[526] + 44.997600000000006 fan[527] + 2249.88 compressor[527] + 44.997600000000006 fan[528] + 2249.88 compressor[528] + 44.997600000000006 fan[529] + 2249.88 compressor[529] + 44.997600000000006 fan[530] + 2249.88 compressor[530] + 44.997600000000006 fan[531] + 2249.88 compressor[531] + 44.997600000000006 fan[532] + 2249.88 compressor[532] + 44.997600000000006 fan[533] + 2249.88 compressor[533] + 44.997600000000006 fan[534] + 2249.88 compressor[534] + 44.997600000000006 fan[535] + 2249.88 compressor[535] + 44.997600000000006 fan[536] + 2249.88 compressor[536] + 44.997600000000006 fan[537] + 2249.88 compressor[537] + 44.997600000000006 fan[538] + 2249.88 compressor[538] + 44.997600000000006 fan[539] + 2249.88 compressor[539] + 45.9363 fan[540] + 2296.815 compressor[540] + 45.9363 fan[541] + 2296.815 compressor[541] + 45.93629999999999 fan[542] + 2296.8149999999996 compressor[542] + 45.9363 fan[543] + 2296.815 compressor[543] + 45.9363 fan[544] + 2296.815 compressor[544] + 45.9363 fan[545] + 2296.815 compressor[545] + 45.93629999999999 fan[546] + 2296.8149999999996 compressor[546] + 45.9363 fan[547] + 2296.815 compressor[547] + 45.9363 fan[548] + 2296.815 compressor[548] + 45.9363 fan[549] + 2296.815 compressor[549] + 45.9363 fan[550] + 2296.815 compressor[550] + 45.9363 fan[551] + 2296.815 compressor[551] + 45.9363 fan[552] + 2296.815 compressor[552] + 45.9363 fan[553] + 2296.815 compressor[553] + 45.9363 fan[554] + 2296.815 compressor[554] + 45.9363 fan[555] + 2296.815 compressor[555] + 45.9363 fan[556] + 2296.815 compressor[556] + 45.9363 fan[557] + 2296.815 compressor[557] + 45.9363 fan[558] + 2296.815 compressor[558] + 45.9363 fan[559] + 2296.815 compressor[559] + 45.9363 fan[560] + 2296.815 compressor[560] + 45.9363 fan[561] + 2296.815 compressor[561] + 45.9363 fan[562] + 2296.815 compressor[562] + 45.9363 fan[563] + 2296.815 compressor[563] + 45.9363 fan[564] + 2296.815 compressor[564] + 45.9363 fan[565] + 2296.815 compressor[565] + 45.9363 fan[566] + 2296.815 compressor[566] + 45.9363 fan[567] + 2296.815 compressor[567] + 45.93629999999999 fan[568] + 2296.8149999999996 compressor[568] + 45.93630000000001 fan[569] + 2296.8150000000005 compressor[569] + 45.9363 fan[570] + 2296.815 compressor[570] + 45.9363 fan[571] + 2296.815 compressor[571] + 45.9363 fan[572] + 2296.815 compressor[572] + 45.9363 fan[573] + 2296.815 compressor[573] + 45.9363 fan[574] + 2296.815 compressor[574] + 45.9363 fan[575] + 2296.815 compressor[575] + 45.9363 fan[576] + 2296.815 compressor[576] + 45.9363 fan[577] + 2296.815 compressor[577] + 45.9363 fan[578] + 2296.815 compressor[578] + 45.9363 fan[579] + 2296.815 compressor[579] + 45.9363 fan[580] + 2296.815 compressor[580] + 45.9363 fan[581] + 2296.815 compressor[581] + 45.9363 fan[582] + 2296.815 compressor[582] + 45.9363 fan[583] + 2296.815 compressor[583] + 45.9363 fan[584] + 2296.815 compressor[584] + 45.9363 fan[585] + 2296.815 compressor[585] + 45.9363 fan[586] + 2296.815 compressor[586] + 45.9363 fan[587] + 2296.815 compressor[587] + 45.9363 fan[588] + 2296.815 compressor[588] + 45.9363 fan[589] + 2296.815 compressor[589] + 45.9363 fan[590] + 2296.815 compressor[590] + 45.9363 fan[591] + 2296.815 compressor[591] + 45.9363 fan[592] + 2296.815 compressor[592] + 45.9363 fan[593] + 2296.815 compressor[593] + 45.9363 fan[594] + 2296.815 compressor[594] + 45.9363 fan[595] + 2296.815 compressor[595] + 45.9363 fan[596] + 2296.815 compressor[596] + 45.9363 fan[597] + 2296.815 compressor[597] + 45.9363 fan[598] + 2296.815 compressor[598] + 45.9363 fan[599] + 2296.815 compressor[599] + 47.739399999999996 fan[600] + 2386.97 compressor[600] + 47.739399999999996 fan[601] + 2386.97 compressor[601] + 47.739399999999996 fan[602] + 2386.97 compressor[602] + 47.739399999999996 fan[603] + 2386.97 compressor[603] + 47.739399999999996 fan[604] + 2386.97 compressor[604] + 47.739399999999996 fan[605] + 2386.97 compressor[605] + 47.739399999999996 fan[606] + 2386.97 compressor[606] + 47.739399999999996 fan[607] + 2386.97 compressor[607] + 47.739399999999996 fan[608] + 2386.97 compressor[608] + 47.739399999999996 fan[609] + 2386.97 compressor[609] + 47.739399999999996 fan[610] + 2386.97 compressor[610] + 47.739399999999996 fan[611] + 2386.97 compressor[611] + 47.739399999999996 fan[612] + 2386.97 compressor[612] + 47.739399999999996 fan[613] + 2386.97 compressor[613] + 47.739399999999996 fan[614] + 2386.97 compressor[614] + 47.739399999999996 fan[615] + 2386.97 compressor[615] + 47.739399999999996 fan[616] + 2386.97 compressor[616] + 47.739399999999996 fan[617] + 2386.97 compressor[617] + 47.739399999999996 fan[618] + 2386.97 compressor[618] + 47.739399999999996 fan[619] + 2386.97 compressor[619] + 47.739399999999996 fan[620] + 2386.97 compressor[620] + 47.739399999999996 fan[621] + 2386.97 compressor[621] + 47.739399999999996 fan[622] + 2386.97 compressor[622] + 47.739399999999996 fan[623] + 2386.97 compressor[623] + 47.739399999999996 fan[624] + 2386.97 compressor[624] + 47.739399999999996 fan[625] + 2386.97 compressor[625] + 47.739399999999996 fan[626] + 2386.97 compressor[626] + 47.739399999999996 fan[627] + 2386.97 compressor[627] + 47.739399999999996 fan[628] + 2386.97 compressor[628] + 47.739399999999996 fan[629] + 2386.97 compressor[629] + 47.739399999999996 fan[630] + 2386.97 compressor[630] + 47.739399999999996 fan[631] + 2386.97 compressor[631] + 47.739399999999996 fan[632] + 2386.97 compressor[632] + 47.739399999999996 fan[633] + 2386.97 compressor[633] + 47.739399999999996 fan[634] + 2386.97 compressor[634] + 47.739399999999996 fan[635] + 2386.97 compressor[635] + 47.739399999999996 fan[636] + 2386.97 compressor[636] + 47.739399999999996 fan[637] + 2386.97 compressor[637] + 47.739399999999996 fan[638] + 2386.97 compressor[638] + 47.739399999999996 fan[639] + 2386.97 compressor[639] + 47.739399999999996 fan[640] + 2386.97 compressor[640] + 47.739399999999996 fan[641] + 2386.97 compressor[641] + 47.739399999999996 fan[642] + 2386.97 compressor[642] + 47.739399999999996 fan[643] + 2386.97 compressor[643] + 47.739399999999996 fan[644] + 2386.97 compressor[644] + 47.739399999999996 fan[645] + 2386.97 compressor[645] + 47.739399999999996 fan[646] + 2386.97 compressor[646] + 47.739399999999996 fan[647] + 2386.97 compressor[647] + 47.739399999999996 fan[648] + 2386.97 compressor[648] + 47.739399999999996 fan[649] + 2386.97 compressor[649] + 47.739399999999996 fan[650] + 2386.97 compressor[650] + 47.739399999999996 fan[651] + 2386.97 compressor[651] + 47.739399999999996 fan[652] + 2386.97 compressor[652] + 47.739399999999996 fan[653] + 2386.97 compressor[653] + 47.739399999999996 fan[654] + 2386.97 compressor[654] + 47.739399999999996 fan[655] + 2386.97 compressor[655] + 47.739399999999996 fan[656] + 2386.97 compressor[656] + 47.739399999999996 fan[657] + 2386.97 compressor[657] + 47.739399999999996 fan[658] + 2386.97 compressor[658] + 47.739399999999996 fan[659] + 2386.97 compressor[659] + 48.0014 fan[660] + 2400.0699999999997 compressor[660] + 48.0014 fan[661] + 2400.0699999999997 compressor[661] + 48.0014 fan[662] + 2400.0699999999997 compressor[662] + 48.0014 fan[663] + 2400.0699999999997 compressor[663] + 48.0014 fan[664] + 2400.0699999999997 compressor[664] + 48.0014 fan[665] + 2400.0699999999997 compressor[665] + 48.0014 fan[666] + 2400.0699999999997 compressor[666] + 48.0014 fan[667] + 2400.0699999999997 compressor[667] + 48.001400000000004 fan[668] + 2400.07 compressor[668] + 48.0014 fan[669] + 2400.0699999999997 compressor[669] + 48.0014 fan[670] + 2400.0699999999997 compressor[670] + 48.0014 fan[671] + 2400.0699999999997 compressor[671] + 48.0014 fan[672] + 2400.0699999999997 compressor[672] + 48.0014 fan[673] + 2400.0699999999997 compressor[673] + 48.0014 fan[674] + 2400.0699999999997 compressor[674] + 48.0014 fan[675] + 2400.0699999999997 compressor[675] + 48.0014 fan[676] + 2400.0699999999997 compressor[676] + 48.0014 fan[677] + 2400.0699999999997 compressor[677] + 48.0014 fan[678] + 2400.0699999999997 compressor[678] + 48.001400000000004 fan[679] + 2400.07 compressor[679] + 48.0014 fan[680] + 2400.0699999999997 compressor[680] + 48.0014 fan[681] + 2400.0699999999997 compressor[681] + 48.0014 fan[682] + 2400.0699999999997 compressor[682] + 48.0014 fan[683] + 2400.0699999999997 compressor[683] + 48.001400000000004 fan[684] + 2400.07 compressor[684] + 48.0014 fan[685] + 2400.0699999999997 compressor[685] + 48.0014 fan[686] + 2400.0699999999997 compressor[686] + 48.0014 fan[687] + 2400.0699999999997 compressor[687] + 48.00139999999999 fan[688] + 2400.0699999999997 compressor[688] + 48.0014 fan[689] + 2400.0699999999997 compressor[689] + 48.0014 fan[690] + 2400.0699999999997 compressor[690] + 48.0014 fan[691] + 2400.0699999999997 compressor[691] + 48.0014 fan[692] + 2400.0699999999997 compressor[692] + 48.0014 fan[693] + 2400.0699999999997 compressor[693] + 48.0014 fan[694] + 2400.0699999999997 compressor[694] + 48.0014 fan[695] + 2400.0699999999997 compressor[695] + 48.0014 fan[696] + 2400.0699999999997 compressor[696] + 48.0014 fan[697] + 2400.0699999999997 compressor[697] + 48.0014 fan[698] + 2400.0699999999997 compressor[698] + 48.0014 fan[699] + 2400.0699999999997 compressor[699] + 48.0014 fan[700] + 2400.0699999999997 compressor[700] + 48.0014 fan[701] + 2400.0699999999997 compressor[701] + 48.0014 fan[702] + 2400.0699999999997 compressor[702] + 48.0014 fan[703] + 2400.0699999999997 compressor[703] + 48.0014 fan[704] + 2400.0699999999997 compressor[704] + 48.0014 fan[705] + 2400.0699999999997 compressor[705] + 48.0014 fan[706] + 2400.0699999999997 compressor[706] + 48.0014 fan[707] + 2400.0699999999997 compressor[707] + 48.0014 fan[708] + 2400.0699999999997 compressor[708] + 48.0014 fan[709] + 2400.0699999999997 compressor[709] + 48.0014 fan[710] + 2400.0699999999997 compressor[710] + 48.0014 fan[711] + 2400.0699999999997 compressor[711] + 48.0014 fan[712] + 2400.0699999999997 compressor[712] + 48.0014 fan[713] + 2400.0699999999997 compressor[713] + 48.0014 fan[714] + 2400.0699999999997 compressor[714] + 48.0014 fan[715] + 2400.0699999999997 compressor[715] + 48.0014 fan[716] + 2400.0699999999997 compressor[716] + 48.0014 fan[717] + 2400.0699999999997 compressor[717] + 48.0014 fan[718] + 2400.0699999999997 compressor[718] + 48.0014 fan[719] + 2400.0699999999997 compressor[719] + 47.8849 fan[720] + 2394.2450000000003 compressor[720] + 47.8849 fan[721] + 2394.2450000000003 compressor[721] + 47.8849 fan[722] + 2394.2450000000003 compressor[722] + 47.8849 fan[723] + 2394.2450000000003 compressor[723] + 47.8849 fan[724] + 2394.2450000000003 compressor[724] + 47.8849 fan[725] + 2394.2450000000003 compressor[725] + 47.884899999999995 fan[726] + 2394.245 compressor[726] + 47.8849 fan[727] + 2394.2450000000003 compressor[727] + 47.8849 fan[728] + 2394.2450000000003 compressor[728] + 47.8849 fan[729] + 2394.2450000000003 compressor[729] + 47.8849 fan[730] + 2394.2450000000003 compressor[730] + 47.8849 fan[731] + 2394.2450000000003 compressor[731] + 47.8849 fan[732] + 2394.2450000000003 compressor[732] + 47.8849 fan[733] + 2394.2450000000003 compressor[733] + 47.8849 fan[734] + 2394.2450000000003 compressor[734] + 47.8849 fan[735] + 2394.2450000000003 compressor[735] + 47.884900000000016 fan[736] + 2394.245000000001 compressor[736] + 47.8849 fan[737] + 2394.2450000000003 compressor[737] + 47.8849 fan[738] + 2394.2450000000003 compressor[738] + 47.8849 fan[739] + 2394.2450000000003 compressor[739] + 47.884899999999995 fan[740] + 2394.245 compressor[740] + 47.8849 fan[741] + 2394.2450000000003 compressor[741] + 47.8849 fan[742] + 2394.2450000000003 compressor[742] + 47.8849 fan[743] + 2394.2450000000003 compressor[743] + 47.8849 fan[744] + 2394.2450000000003 compressor[744] + 47.8849 fan[745] + 2394.2450000000003 compressor[745] + 47.8849 fan[746] + 2394.2450000000003 compressor[746] + 47.8849 fan[747] + 2394.2450000000003 compressor[747] + 47.884899999999995 fan[748] + 2394.245 compressor[748] + 47.884900000000016 fan[749] + 2394.245000000001 compressor[749] + 47.8849 fan[750] + 2394.2450000000003 compressor[750] + 47.8849 fan[751] + 2394.2450000000003 compressor[751] + 47.8849 fan[752] + 2394.2450000000003 compressor[752] + 47.8849 fan[753] + 2394.2450000000003 compressor[753] + 47.8849 fan[754] + 2394.2450000000003 compressor[754] + 47.8849 fan[755] + 2394.2450000000003 compressor[755] + 47.8849 fan[756] + 2394.2450000000003 compressor[756] + 47.8849 fan[757] + 2394.2450000000003 compressor[757] + 47.8849 fan[758] + 2394.2450000000003 compressor[758] + 47.8849 fan[759] + 2394.2450000000003 compressor[759] + 47.8849 fan[760] + 2394.2450000000003 compressor[760] + 47.8849 fan[761] + 2394.2450000000003 compressor[761] + 47.8849 fan[762] + 2394.2450000000003 compressor[762] + 47.8849 fan[763] + 2394.2450000000003 compressor[763] + 47.8849 fan[764] + 2394.2450000000003 compressor[764] + 47.8849 fan[765] + 2394.2450000000003 compressor[765] + 47.8849 fan[766] + 2394.2450000000003 compressor[766] + 47.8849 fan[767] + 2394.2450000000003 compressor[767] + 47.8849 fan[768] + 2394.2450000000003 compressor[768] + 47.8849 fan[769] + 2394.2450000000003 compressor[769] + 47.8849 fan[770] + 2394.2450000000003 compressor[770] + 47.8849 fan[771] + 2394.2450000000003 compressor[771] + 47.8849 fan[772] + 2394.2450000000003 compressor[772] + 47.8849 fan[773] + 2394.2450000000003 compressor[773] + 47.8849 fan[774] + 2394.2450000000003 compressor[774] + 47.884899999999995 fan[775] + 2394.245 compressor[775] + 47.8849 fan[776] + 2394.2450000000003 compressor[776] + 47.8849 fan[777] + 2394.2450000000003 compressor[777] + 47.8849 fan[778] + 2394.2450000000003 compressor[778] + 47.8849 fan[779] + 2394.2450000000003 compressor[779] + 47.575700000000005 fan[780] + 2378.7850000000003 compressor[780] + 47.575700000000005 fan[781] + 2378.7850000000003 compressor[781] + 47.575700000000005 fan[782] + 2378.7850000000003 compressor[782] + 47.575700000000005 fan[783] + 2378.7850000000003 compressor[783] + 47.575700000000005 fan[784] + 2378.7850000000003 compressor[784] + 47.575700000000005 fan[785] + 2378.7850000000003 compressor[785] + 47.575700000000005 fan[786] + 2378.7850000000003 compressor[786] + 47.575700000000005 fan[787] + 2378.7850000000003 compressor[787] + 47.575700000000005 fan[788] + 2378.7850000000003 compressor[788] + 47.575700000000005 fan[789] + 2378.7850000000003 compressor[789] + 47.575700000000005 fan[790] + 2378.7850000000003 compressor[790] + 47.575700000000005 fan[791] + 2378.7850000000003 compressor[791] + 47.575700000000005 fan[792] + 2378.7850000000003 compressor[792] + 47.575700000000005 fan[793] + 2378.7850000000003 compressor[793] + 47.575700000000005 fan[794] + 2378.7850000000003 compressor[794] + 47.5757 fan[795] + 2378.785 compressor[795] + 47.57570000000001 fan[796] + 2378.7850000000008 compressor[796] + 47.575700000000005 fan[797] + 2378.7850000000003 compressor[797] + 47.575700000000005 fan[798] + 2378.7850000000003 compressor[798] + 47.57570000000001 fan[799] + 2378.7850000000008 compressor[799] + 47.575700000000005 fan[800] + 2378.7850000000003 compressor[800] + 47.575700000000005 fan[801] + 2378.7850000000003 compressor[801] + 47.575700000000005 fan[802] + 2378.7850000000003 compressor[802] + 47.575700000000005 fan[803] + 2378.7850000000003 compressor[803] + 47.575700000000005 fan[804] + 2378.7850000000003 compressor[804] + 47.575700000000005 fan[805] + 2378.7850000000003 compressor[805] + 47.575700000000005 fan[806] + 2378.7850000000003 compressor[806] + 47.575700000000005 fan[807] + 2378.7850000000003 compressor[807] + 47.575700000000005 fan[808] + 2378.7850000000003 compressor[808] + 47.575700000000005 fan[809] + 2378.7850000000003 compressor[809] + 47.575700000000005 fan[810] + 2378.7850000000003 compressor[810] + 47.575700000000005 fan[811] + 2378.7850000000003 compressor[811] + 47.575700000000005 fan[812] + 2378.7850000000003 compressor[812] + 47.575700000000005 fan[813] + 2378.7850000000003 compressor[813] + 47.575700000000005 fan[814] + 2378.7850000000003 compressor[814] + 47.575700000000005 fan[815] + 2378.7850000000003 compressor[815] + 47.575700000000005 fan[816] + 2378.7850000000003 compressor[816] + 47.575700000000005 fan[817] + 2378.7850000000003 compressor[817] + 47.575700000000005 fan[818] + 2378.7850000000003 compressor[818] + 47.575700000000005 fan[819] + 2378.7850000000003 compressor[819] + 47.575700000000005 fan[820] + 2378.7850000000003 compressor[820] + 47.575700000000005 fan[821] + 2378.7850000000003 compressor[821] + 47.575700000000005 fan[822] + 2378.7850000000003 compressor[822] + 47.575700000000005 fan[823] + 2378.7850000000003 compressor[823] + 47.575700000000005 fan[824] + 2378.7850000000003 compressor[824] + 47.575700000000005 fan[825] + 2378.7850000000003 compressor[825] + 47.575700000000005 fan[826] + 2378.7850000000003 compressor[826] + 47.575700000000005 fan[827] + 2378.7850000000003 compressor[827] + 47.575700000000005 fan[828] + 2378.7850000000003 compressor[828] + 47.575700000000005 fan[829] + 2378.7850000000003 compressor[829] + 47.575700000000005 fan[830] + 2378.7850000000003 compressor[830] + 47.57570000000001 fan[831] + 2378.7850000000008 compressor[831] + 47.575700000000005 fan[832] + 2378.7850000000003 compressor[832] + 47.575700000000005 fan[833] + 2378.7850000000003 compressor[833] + 47.575700000000005 fan[834] + 2378.7850000000003 compressor[834] + 47.575700000000005 fan[835] + 2378.7850000000003 compressor[835] + 47.575700000000005 fan[836] + 2378.7850000000003 compressor[836] + 47.575700000000005 fan[837] + 2378.7850000000003 compressor[837] + 47.575700000000005 fan[838] + 2378.7850000000003 compressor[838] + 47.575700000000005 fan[839] + 2378.7850000000003 compressor[839] + 47.7814 fan[840] + 2389.0699999999997 compressor[840] + 47.7814 fan[841] + 2389.0699999999997 compressor[841] + 47.7814 fan[842] + 2389.0699999999997 compressor[842] + 47.7814 fan[843] + 2389.0699999999997 compressor[843] + 47.7814 fan[844] + 2389.0699999999997 compressor[844] + 47.7814 fan[845] + 2389.0699999999997 compressor[845] + 47.7814 fan[846] + 2389.0699999999997 compressor[846] + 47.7814 fan[847] + 2389.0699999999997 compressor[847] + 47.7814 fan[848] + 2389.0699999999997 compressor[848] + 47.7814 fan[849] + 2389.0699999999997 compressor[849] + 47.7814 fan[850] + 2389.0699999999997 compressor[850] + 47.7814 fan[851] + 2389.0699999999997 compressor[851] + 47.7814 fan[852] + 2389.0699999999997 compressor[852] + 47.7814 fan[853] + 2389.0699999999997 compressor[853] + 47.7814 fan[854] + 2389.0699999999997 compressor[854] + 47.78139999999999 fan[855] + 2389.0699999999993 compressor[855] + 47.781400000000005 fan[856] + 2389.07 compressor[856] + 47.7814 fan[857] + 2389.0699999999997 compressor[857] + 47.7814 fan[858] + 2389.0699999999997 compressor[858] + 47.7814 fan[859] + 2389.0699999999997 compressor[859] + 47.7814 fan[860] + 2389.0699999999997 compressor[860] + 47.7814 fan[861] + 2389.0699999999997 compressor[861] + 47.7814 fan[862] + 2389.0699999999997 compressor[862] + 47.78139999999999 fan[863] + 2389.0699999999993 compressor[863] + 47.781400000000005 fan[864] + 2389.07 compressor[864] + 47.7814 fan[865] + 2389.0699999999997 compressor[865] + 47.7814 fan[866] + 2389.0699999999997 compressor[866] + 47.7814 fan[867] + 2389.0699999999997 compressor[867] + 47.78139999999999 fan[868] + 2389.0699999999993 compressor[868] + 47.7814 fan[869] + 2389.0699999999997 compressor[869] + 47.7814 fan[870] + 2389.0699999999997 compressor[870] + 47.7814 fan[871] + 2389.0699999999997 compressor[871] + 47.7814 fan[872] + 2389.0699999999997 compressor[872] + 47.7814 fan[873] + 2389.0699999999997 compressor[873] + 47.7814 fan[874] + 2389.0699999999997 compressor[874] + 47.7814 fan[875] + 2389.0699999999997 compressor[875] + 47.7814 fan[876] + 2389.0699999999997 compressor[876] + 47.7814 fan[877] + 2389.0699999999997 compressor[877] + 47.7814 fan[878] + 2389.0699999999997 compressor[878] + 47.7814 fan[879] + 2389.0699999999997 compressor[879] + 47.7814 fan[880] + 2389.0699999999997 compressor[880] + 47.7814 fan[881] + 2389.0699999999997 compressor[881] + 47.7814 fan[882] + 2389.0699999999997 compressor[882] + 47.7814 fan[883] + 2389.0699999999997 compressor[883] + 47.7814 fan[884] + 2389.0699999999997 compressor[884] + 47.7814 fan[885] + 2389.0699999999997 compressor[885] + 47.7814 fan[886] + 2389.0699999999997 compressor[886] + 47.7814 fan[887] + 2389.0699999999997 compressor[887] + 47.7814 fan[888] + 2389.0699999999997 compressor[888] + 47.7814 fan[889] + 2389.0699999999997 compressor[889] + 47.7814 fan[890] + 2389.0699999999997 compressor[890] + 47.7814 fan[891] + 2389.0699999999997 compressor[891] + 47.7814 fan[892] + 2389.0699999999997 compressor[892] + 47.781400000000005 fan[893] + 2389.07 compressor[893] + 47.7814 fan[894] + 2389.0699999999997 compressor[894] + 47.7814 fan[895] + 2389.0699999999997 compressor[895] + 47.78139999999999 fan[896] + 2389.0699999999993 compressor[896] + 47.7814 fan[897] + 2389.0699999999997 compressor[897] + 47.7814 fan[898] + 2389.0699999999997 compressor[898] + 47.7814 fan[899] + 2389.0699999999997 compressor[899] + 47.978300000000004 fan[900] + 2398.915 compressor[900] + 47.978300000000004 fan[901] + 2398.915 compressor[901] + 47.978300000000004 fan[902] + 2398.915 compressor[902] + 47.978300000000004 fan[903] + 2398.915 compressor[903] + 47.978300000000004 fan[904] + 2398.915 compressor[904] + 47.978300000000004 fan[905] + 2398.915 compressor[905] + 47.97829999999999 fan[906] + 2398.9149999999995 compressor[906] + 47.978300000000004 fan[907] + 2398.915 compressor[907] + 47.978300000000004 fan[908] + 2398.915 compressor[908] + 47.978300000000004 fan[909] + 2398.915 compressor[909] + 47.978300000000004 fan[910] + 2398.915 compressor[910] + 47.97830000000001 fan[911] + 2398.9150000000004 compressor[911] + 47.978300000000004 fan[912] + 2398.915 compressor[912] + 47.978300000000004 fan[913] + 2398.915 compressor[913] + 47.978300000000004 fan[914] + 2398.915 compressor[914] + 47.97829999999999 fan[915] + 2398.9149999999995 compressor[915] + 47.97830000000001 fan[916] + 2398.9150000000004 compressor[916] + 47.978300000000004 fan[917] + 2398.915 compressor[917] + 47.978300000000004 fan[918] + 2398.915 compressor[918] + 47.978300000000004 fan[919] + 2398.915 compressor[919] + 47.97829999999999 fan[920] + 2398.9149999999995 compressor[920] + 47.978300000000004 fan[921] + 2398.915 compressor[921] + 47.978300000000004 fan[922] + 2398.915 compressor[922] + 47.978300000000004 fan[923] + 2398.915 compressor[923] + 47.978300000000004 fan[924] + 2398.915 compressor[924] + 47.978300000000004 fan[925] + 2398.915 compressor[925] + 47.978300000000004 fan[926] + 2398.915 compressor[926] + 47.978300000000004 fan[927] + 2398.915 compressor[927] + 47.978300000000004 fan[928] + 2398.915 compressor[928] + 47.978300000000004 fan[929] + 2398.915 compressor[929] + 47.978300000000004 fan[930] + 2398.915 compressor[930] + 47.978300000000004 fan[931] + 2398.915 compressor[931] + 47.978300000000004 fan[932] + 2398.915 compressor[932] + 47.978300000000004 fan[933] + 2398.915 compressor[933] + 47.978300000000004 fan[934] + 2398.915 compressor[934] + 47.978300000000004 fan[935] + 2398.915 compressor[935] + 47.978300000000004 fan[936] + 2398.915 compressor[936] + 47.978300000000004 fan[937] + 2398.915 compressor[937] + 47.978300000000004 fan[938] + 2398.915 compressor[938] + 47.978300000000004 fan[939] + 2398.915 compressor[939] + 47.978300000000004 fan[940] + 2398.915 compressor[940] + 47.978300000000004 fan[941] + 2398.915 compressor[941] + 47.978300000000004 fan[942] + 2398.915 compressor[942] + 47.978300000000004 fan[943] + 2398.915 compressor[943] + 47.978300000000004 fan[944] + 2398.915 compressor[944] + 47.978300000000004 fan[945] + 2398.915 compressor[945] + 47.978300000000004 fan[946] + 2398.915 compressor[946] + 47.978300000000004 fan[947] + 2398.915 compressor[947] + 47.978300000000004 fan[948] + 2398.915 compressor[948] + 47.978300000000004 fan[949] + 2398.915 compressor[949] + 47.97830000000001 fan[950] + 2398.9150000000004 compressor[950] + 47.978300000000004 fan[951] + 2398.915 compressor[951] + 47.978300000000004 fan[952] + 2398.915 compressor[952] + 47.978300000000004 fan[953] + 2398.915 compressor[953] + 47.978300000000004 fan[954] + 2398.915 compressor[954] + 47.978300000000004 fan[955] + 2398.915 compressor[955] + 47.978300000000004 fan[956] + 2398.915 compressor[956] + 47.978300000000004 fan[957] + 2398.915 compressor[957] + 47.978300000000004 fan[958] + 2398.915 compressor[958] + 47.978300000000004 fan[959] + 2398.915 compressor[959] + 47.67400000000001 fan[960] + 2383.7000000000003 compressor[960] + 47.67400000000001 fan[961] + 2383.7000000000003 compressor[961] + 47.67400000000001 fan[962] + 2383.7000000000003 compressor[962] + 47.67400000000001 fan[963] + 2383.7000000000003 compressor[963] + 47.67400000000001 fan[964] + 2383.7000000000003 compressor[964] + 47.67400000000001 fan[965] + 2383.7000000000003 compressor[965] + 47.67400000000001 fan[966] + 2383.7000000000003 compressor[966] + 47.67400000000001 fan[967] + 2383.7000000000003 compressor[967] + 47.67400000000001 fan[968] + 2383.7000000000003 compressor[968] + 47.67400000000001 fan[969] + 2383.7000000000003 compressor[969] + 47.67400000000001 fan[970] + 2383.7000000000003 compressor[970] + 47.67400000000001 fan[971] + 2383.7000000000003 compressor[971] + 47.67400000000001 fan[972] + 2383.7000000000003 compressor[972] + 47.67400000000001 fan[973] + 2383.7000000000003 compressor[973] + 47.67400000000001 fan[974] + 2383.7000000000003 compressor[974] + 47.67400000000001 fan[975] + 2383.7000000000003 compressor[975] + 47.67400000000001 fan[976] + 2383.7000000000003 compressor[976] + 47.67400000000001 fan[977] + 2383.7000000000003 compressor[977] + 47.67400000000001 fan[978] + 2383.7000000000003 compressor[978] + 47.67400000000001 fan[979] + 2383.7000000000003 compressor[979] + 47.67400000000001 fan[980] + 2383.7000000000003 compressor[980] + 47.67400000000001 fan[981] + 2383.7000000000003 compressor[981] + 47.67400000000001 fan[982] + 2383.7000000000003 compressor[982] + 47.67400000000001 fan[983] + 2383.7000000000003 compressor[983] + 47.67400000000001 fan[984] + 2383.7000000000003 compressor[984] + 47.67400000000001 fan[985] + 2383.7000000000003 compressor[985] + 47.67400000000001 fan[986] + 2383.7000000000003 compressor[986] + 47.67400000000001 fan[987] + 2383.7000000000003 compressor[987] + 47.67400000000001 fan[988] + 2383.7000000000003 compressor[988] + 47.67400000000001 fan[989] + 2383.7000000000003 compressor[989] + 47.67400000000001 fan[990] + 2383.7000000000003 compressor[990] + 47.67400000000001 fan[991] + 2383.7000000000003 compressor[991] + 47.67400000000001 fan[992] + 2383.7000000000003 compressor[992] + 47.67400000000001 fan[993] + 2383.7000000000003 compressor[993] + 47.67400000000001 fan[994] + 2383.7000000000003 compressor[994] + 47.67400000000001 fan[995] + 2383.7000000000003 compressor[995] + 47.67400000000001 fan[996] + 2383.7000000000003 compressor[996] + 47.67400000000001 fan[997] + 2383.7000000000003 compressor[997] + 47.67400000000001 fan[998] + 2383.7000000000003 compressor[998] + 47.67400000000001 fan[999] + 2383.7000000000003 compressor[999] + 47.67400000000001 fan[1000] + 2383.7000000000003 compressor[1000] + 47.67400000000001 fan[1001] + 2383.7000000000003 compressor[1001] + 47.67400000000001 fan[1002] + 2383.7000000000003 compressor[1002] + 47.67400000000001 fan[1003] + 2383.7000000000003 compressor[1003] + 47.67400000000001 fan[1004] + 2383.7000000000003 compressor[1004] + 47.67400000000001 fan[1005] + 2383.7000000000003 compressor[1005] + 47.67400000000001 fan[1006] + 2383.7000000000003 compressor[1006] + 47.67400000000001 fan[1007] + 2383.7000000000003 compressor[1007] + 47.67400000000001 fan[1008] + 2383.7000000000003 compressor[1008] + 47.67400000000001 fan[1009] + 2383.7000000000003 compressor[1009] + 47.67400000000001 fan[1010] + 2383.7000000000003 compressor[1010] + 47.67400000000001 fan[1011] + 2383.7000000000003 compressor[1011] + 47.67400000000001 fan[1012] + 2383.7000000000003 compressor[1012] + 47.67400000000001 fan[1013] + 2383.7000000000003 compressor[1013] + 47.67400000000001 fan[1014] + 2383.7000000000003 compressor[1014] + 47.67400000000001 fan[1015] + 2383.7000000000003 compressor[1015] + 47.67400000000001 fan[1016] + 2383.7000000000003 compressor[1016] + 47.67400000000001 fan[1017] + 2383.7000000000003 compressor[1017] + 47.67400000000001 fan[1018] + 2383.7000000000003 compressor[1018] + 47.67400000000001 fan[1019] + 2383.7000000000003 compressor[1019] + 47.3724 fan[1020] + 2368.62 compressor[1020] + 47.3724 fan[1021] + 2368.62 compressor[1021] + 47.3724 fan[1022] + 2368.62 compressor[1022] + 47.3724 fan[1023] + 2368.62 compressor[1023] + 47.3724 fan[1024] + 2368.62 compressor[1024] + 47.3724 fan[1025] + 2368.62 compressor[1025] + 47.3724 fan[1026] + 2368.62 compressor[1026] + 47.3724 fan[1027] + 2368.62 compressor[1027] + 47.372400000000006 fan[1028] + 2368.6200000000003 compressor[1028] + 47.372400000000006 fan[1029] + 2368.6200000000003 compressor[1029] + 47.3724 fan[1030] + 2368.62 compressor[1030] + 47.3724 fan[1031] + 2368.62 compressor[1031] + 47.3724 fan[1032] + 2368.62 compressor[1032] + 47.3724 fan[1033] + 2368.62 compressor[1033] + 47.3724 fan[1034] + 2368.62 compressor[1034] + 47.3724 fan[1035] + 2368.62 compressor[1035] + 47.3724 fan[1036] + 2368.62 compressor[1036] + 47.3724 fan[1037] + 2368.62 compressor[1037] + 47.3724 fan[1038] + 2368.62 compressor[1038] + 47.3724 fan[1039] + 2368.62 compressor[1039] + 47.3724 fan[1040] + 2368.62 compressor[1040] + 47.3724 fan[1041] + 2368.62 compressor[1041] + 47.3724 fan[1042] + 2368.62 compressor[1042] + 47.3724 fan[1043] + 2368.62 compressor[1043] + 47.3724 fan[1044] + 2368.62 compressor[1044] + 47.3724 fan[1045] + 2368.62 compressor[1045] + 47.3724 fan[1046] + 2368.62 compressor[1046] + 47.3724 fan[1047] + 2368.62 compressor[1047] + 47.3724 fan[1048] + 2368.62 compressor[1048] + 47.3724 fan[1049] + 2368.62 compressor[1049] + 47.3724 fan[1050] + 2368.62 compressor[1050] + 47.3724 fan[1051] + 2368.62 compressor[1051] + 47.3724 fan[1052] + 2368.62 compressor[1052] + 47.3724 fan[1053] + 2368.62 compressor[1053] + 47.3724 fan[1054] + 2368.62 compressor[1054] + 47.3724 fan[1055] + 2368.62 compressor[1055] + 47.3724 fan[1056] + 2368.62 compressor[1056] + 47.3724 fan[1057] + 2368.62 compressor[1057] + 47.3724 fan[1058] + 2368.62 compressor[1058] + 47.3724 fan[1059] + 2368.62 compressor[1059] + 47.3724 fan[1060] + 2368.62 compressor[1060] + 47.3724 fan[1061] + 2368.62 compressor[1061] + 47.3724 fan[1062] + 2368.62 compressor[1062] + 47.3724 fan[1063] + 2368.62 compressor[1063] + 47.3724 fan[1064] + 2368.62 compressor[1064] + 47.3724 fan[1065] + 2368.62 compressor[1065] + 47.3724 fan[1066] + 2368.62 compressor[1066] + 47.3724 fan[1067] + 2368.62 compressor[1067] + 47.3724 fan[1068] + 2368.62 compressor[1068] + 47.3724 fan[1069] + 2368.62 compressor[1069] + 47.3724 fan[1070] + 2368.62 compressor[1070] + 47.3724 fan[1071] + 2368.62 compressor[1071] + 47.3724 fan[1072] + 2368.62 compressor[1072] + 47.3724 fan[1073] + 2368.62 compressor[1073] + 47.3724 fan[1074] + 2368.62 compressor[1074] + 47.3724 fan[1075] + 2368.62 compressor[1075] + 47.3724 fan[1076] + 2368.62 compressor[1076] + 47.3724 fan[1077] + 2368.62 compressor[1077] + 47.3724 fan[1078] + 2368.62 compressor[1078] + 47.3724 fan[1079] + 2368.62 compressor[1079] + 47.258399999999995 fan[1080] + 2362.92 compressor[1080] + 47.258399999999995 fan[1081] + 2362.92 compressor[1081] + 47.258399999999995 fan[1082] + 2362.92 compressor[1082] + 47.258399999999995 fan[1083] + 2362.92 compressor[1083] + 47.258399999999995 fan[1084] + 2362.92 compressor[1084] + 47.258399999999995 fan[1085] + 2362.92 compressor[1085] + 47.25840000000001 fan[1086] + 2362.9200000000005 compressor[1086] + 47.258399999999995 fan[1087] + 2362.92 compressor[1087] + 47.258399999999995 fan[1088] + 2362.92 compressor[1088] + 47.258399999999995 fan[1089] + 2362.92 compressor[1089] + 47.258399999999995 fan[1090] + 2362.92 compressor[1090] + 47.258399999999995 fan[1091] + 2362.92 compressor[1091] + 47.258399999999995 fan[1092] + 2362.92 compressor[1092] + 47.258399999999995 fan[1093] + 2362.92 compressor[1093] + 47.258399999999995 fan[1094] + 2362.92 compressor[1094] + 47.258399999999995 fan[1095] + 2362.92 compressor[1095] + 47.258399999999995 fan[1096] + 2362.92 compressor[1096] + 47.258399999999995 fan[1097] + 2362.92 compressor[1097] + 47.258399999999995 fan[1098] + 2362.92 compressor[1098] + 47.258399999999995 fan[1099] + 2362.92 compressor[1099] + 47.258399999999995 fan[1100] + 2362.92 compressor[1100] + 47.258399999999995 fan[1101] + 2362.92 compressor[1101] + 47.258399999999995 fan[1102] + 2362.92 compressor[1102] + 47.258399999999995 fan[1103] + 2362.92 compressor[1103] + 47.258399999999995 fan[1104] + 2362.92 compressor[1104] + 47.258399999999995 fan[1105] + 2362.92 compressor[1105] + 47.258399999999995 fan[1106] + 2362.92 compressor[1106] + 47.258399999999995 fan[1107] + 2362.92 compressor[1107] + 47.258399999999995 fan[1108] + 2362.92 compressor[1108] + 47.258399999999995 fan[1109] + 2362.92 compressor[1109] + 47.258399999999995 fan[1110] + 2362.92 compressor[1110] + 47.258399999999995 fan[1111] + 2362.92 compressor[1111] + 47.258399999999995 fan[1112] + 2362.92 compressor[1112] + 47.258399999999995 fan[1113] + 2362.92 compressor[1113] + 47.258399999999995 fan[1114] + 2362.92 compressor[1114] + 47.258399999999995 fan[1115] + 2362.92 compressor[1115] + 47.258399999999995 fan[1116] + 2362.92 compressor[1116] + 47.258399999999995 fan[1117] + 2362.92 compressor[1117] + 47.258399999999995 fan[1118] + 2362.92 compressor[1118] + 47.258399999999995 fan[1119] + 2362.92 compressor[1119] + 47.258399999999995 fan[1120] + 2362.92 compressor[1120] + 47.258399999999995 fan[1121] + 2362.92 compressor[1121] + 47.258399999999995 fan[1122] + 2362.92 compressor[1122] + 47.258399999999995 fan[1123] + 2362.92 compressor[1123] + 47.258399999999995 fan[1124] + 2362.92 compressor[1124] + 47.258399999999995 fan[1125] + 2362.92 compressor[1125] + 47.258399999999995 fan[1126] + 2362.92 compressor[1126] + 47.258399999999995 fan[1127] + 2362.92 compressor[1127] + 47.258399999999995 fan[1128] + 2362.92 compressor[1128] + 47.258399999999995 fan[1129] + 2362.92 compressor[1129] + 47.258399999999995 fan[1130] + 2362.92 compressor[1130] + 47.258399999999995 fan[1131] + 2362.92 compressor[1131] + 47.258399999999995 fan[1132] + 2362.92 compressor[1132] + 47.258399999999995 fan[1133] + 2362.92 compressor[1133] + 47.258399999999995 fan[1134] + 2362.92 compressor[1134] + 47.258399999999995 fan[1135] + 2362.92 compressor[1135] + 47.258399999999995 fan[1136] + 2362.92 compressor[1136] + 47.258399999999995 fan[1137] + 2362.92 compressor[1137] + 47.258399999999995 fan[1138] + 2362.92 compressor[1138] + 47.258399999999995 fan[1139] + 2362.92 compressor[1139] + 47.316700000000004 fan[1140] + 2365.835 compressor[1140] + 47.316700000000004 fan[1141] + 2365.835 compressor[1141] + 47.316700000000004 fan[1142] + 2365.835 compressor[1142] + 47.316700000000004 fan[1143] + 2365.835 compressor[1143] + 47.316700000000004 fan[1144] + 2365.835 compressor[1144] + 47.316700000000004 fan[1145] + 2365.835 compressor[1145] + 47.316700000000004 fan[1146] + 2365.835 compressor[1146] + 47.316700000000004 fan[1147] + 2365.835 compressor[1147] + 47.316700000000004 fan[1148] + 2365.835 compressor[1148] + 47.31670000000001 fan[1149] + 2365.8350000000005 compressor[1149] + 47.316700000000004 fan[1150] + 2365.835 compressor[1150] + 47.316700000000004 fan[1151] + 2365.835 compressor[1151] + 47.316700000000004 fan[1152] + 2365.835 compressor[1152] + 47.316700000000004 fan[1153] + 2365.835 compressor[1153] + 47.316700000000004 fan[1154] + 2365.835 compressor[1154] + 47.316700000000004 fan[1155] + 2365.835 compressor[1155] + 47.316700000000004 fan[1156] + 2365.835 compressor[1156] + 47.316700000000004 fan[1157] + 2365.835 compressor[1157] + 47.31670000000001 fan[1158] + 2365.8350000000005 compressor[1158] + 47.316700000000004 fan[1159] + 2365.835 compressor[1159] + 47.31670000000001 fan[1160] + 2365.8350000000005 compressor[1160] + 47.316700000000004 fan[1161] + 2365.835 compressor[1161] + 47.316700000000004 fan[1162] + 2365.835 compressor[1162] + 47.316700000000004 fan[1163] + 2365.835 compressor[1163] + 47.316700000000004 fan[1164] + 2365.835 compressor[1164] + 47.316700000000004 fan[1165] + 2365.835 compressor[1165] + 47.316700000000004 fan[1166] + 2365.835 compressor[1166] + 47.316700000000004 fan[1167] + 2365.835 compressor[1167] + 47.316700000000004 fan[1168] + 2365.835 compressor[1168] + 47.316700000000004 fan[1169] + 2365.835 compressor[1169] + 47.316700000000004 fan[1170] + 2365.835 compressor[1170] + 47.316700000000004 fan[1171] + 2365.835 compressor[1171] + 47.316700000000004 fan[1172] + 2365.835 compressor[1172] + 47.316700000000004 fan[1173] + 2365.835 compressor[1173] + 47.316700000000004 fan[1174] + 2365.835 compressor[1174] + 47.316700000000004 fan[1175] + 2365.835 compressor[1175] + 47.316700000000004 fan[1176] + 2365.835 compressor[1176] + 47.316700000000004 fan[1177] + 2365.835 compressor[1177] + 47.316700000000004 fan[1178] + 2365.835 compressor[1178] + 47.316700000000004 fan[1179] + 2365.835 compressor[1179] + 47.316700000000004 fan[1180] + 2365.835 compressor[1180] + 47.316700000000004 fan[1181] + 2365.835 compressor[1181] + 47.316700000000004 fan[1182] + 2365.835 compressor[1182] + 47.316700000000004 fan[1183] + 2365.835 compressor[1183] + 47.316700000000004 fan[1184] + 2365.835 compressor[1184] + 47.316700000000004 fan[1185] + 2365.835 compressor[1185] + 47.316700000000004 fan[1186] + 2365.835 compressor[1186] + 47.316700000000004 fan[1187] + 2365.835 compressor[1187] + 47.316700000000004 fan[1188] + 2365.835 compressor[1188] + 47.316700000000004 fan[1189] + 2365.835 compressor[1189] + 47.316700000000004 fan[1190] + 2365.835 compressor[1190] + 47.316700000000004 fan[1191] + 2365.835 compressor[1191] + 47.316700000000004 fan[1192] + 2365.835 compressor[1192] + 47.316700000000004 fan[1193] + 2365.835 compressor[1193] + 47.316700000000004 fan[1194] + 2365.835 compressor[1194] + 47.316700000000004 fan[1195] + 2365.835 compressor[1195] + 47.316700000000004 fan[1196] + 2365.835 compressor[1196] + 47.316700000000004 fan[1197] + 2365.835 compressor[1197] + 47.316700000000004 fan[1198] + 2365.835 compressor[1198] + 47.316700000000004 fan[1199] + 2365.835 compressor[1199] + 47.3894 fan[1200] + 2369.4700000000003 compressor[1200] + 47.3894 fan[1201] + 2369.4700000000003 compressor[1201] + 47.3894 fan[1202] + 2369.4700000000003 compressor[1202] + 47.3894 fan[1203] + 2369.4700000000003 compressor[1203] + 47.3894 fan[1204] + 2369.4700000000003 compressor[1204] + 47.3894 fan[1205] + 2369.4700000000003 compressor[1205] + 47.3894 fan[1206] + 2369.4700000000003 compressor[1206] + 47.3894 fan[1207] + 2369.4700000000003 compressor[1207] + 47.3894 fan[1208] + 2369.4700000000003 compressor[1208] + 47.38940000000001 fan[1209] + 2369.4700000000007 compressor[1209] + 47.38940000000001 fan[1210] + 2369.4700000000007 compressor[1210] + 47.3894 fan[1211] + 2369.4700000000003 compressor[1211] + 47.3894 fan[1212] + 2369.4700000000003 compressor[1212] + 47.3894 fan[1213] + 2369.4700000000003 compressor[1213] + 47.3894 fan[1214] + 2369.4700000000003 compressor[1214] + 47.3894 fan[1215] + 2369.4700000000003 compressor[1215] + 47.3894 fan[1216] + 2369.4700000000003 compressor[1216] + 47.389399999999995 fan[1217] + 2369.47 compressor[1217] + 47.3894 fan[1218] + 2369.4700000000003 compressor[1218] + 47.389399999999995 fan[1219] + 2369.47 compressor[1219] + 47.3894 fan[1220] + 2369.4700000000003 compressor[1220] + 47.3894 fan[1221] + 2369.4700000000003 compressor[1221] + 47.3894 fan[1222] + 2369.4700000000003 compressor[1222] + 47.3894 fan[1223] + 2369.4700000000003 compressor[1223] + 47.3894 fan[1224] + 2369.4700000000003 compressor[1224] + 47.3894 fan[1225] + 2369.4700000000003 compressor[1225] + 47.3894 fan[1226] + 2369.4700000000003 compressor[1226] + 47.3894 fan[1227] + 2369.4700000000003 compressor[1227] + 47.3894 fan[1228] + 2369.4700000000003 compressor[1228] + 47.3894 fan[1229] + 2369.4700000000003 compressor[1229] + 47.3894 fan[1230] + 2369.4700000000003 compressor[1230] + 47.3894 fan[1231] + 2369.4700000000003 compressor[1231] + 47.3894 fan[1232] + 2369.4700000000003 compressor[1232] + 47.3894 fan[1233] + 2369.4700000000003 compressor[1233] + 47.3894 fan[1234] + 2369.4700000000003 compressor[1234] + 47.3894 fan[1235] + 2369.4700000000003 compressor[1235] + 47.3894 fan[1236] + 2369.4700000000003 compressor[1236] + 47.3894 fan[1237] + 2369.4700000000003 compressor[1237] + 47.3894 fan[1238] + 2369.4700000000003 compressor[1238] + 47.3894 fan[1239] + 2369.4700000000003 compressor[1239] + 47.3894 fan[1240] + 2369.4700000000003 compressor[1240] + 47.3894 fan[1241] + 2369.4700000000003 compressor[1241] + 47.3894 fan[1242] + 2369.4700000000003 compressor[1242] + 47.3894 fan[1243] + 2369.4700000000003 compressor[1243] + 47.3894 fan[1244] + 2369.4700000000003 compressor[1244] + 47.3894 fan[1245] + 2369.4700000000003 compressor[1245] + 47.3894 fan[1246] + 2369.4700000000003 compressor[1246] + 47.3894 fan[1247] + 2369.4700000000003 compressor[1247] + 47.3894 fan[1248] + 2369.4700000000003 compressor[1248] + 47.3894 fan[1249] + 2369.4700000000003 compressor[1249] + 47.3894 fan[1250] + 2369.4700000000003 compressor[1250] + 47.3894 fan[1251] + 2369.4700000000003 compressor[1251] + 47.38940000000001 fan[1252] + 2369.4700000000007 compressor[1252] + 47.3894 fan[1253] + 2369.4700000000003 compressor[1253] + 47.3894 fan[1254] + 2369.4700000000003 compressor[1254] + 47.3894 fan[1255] + 2369.4700000000003 compressor[1255] + 47.3894 fan[1256] + 2369.4700000000003 compressor[1256] + 47.3894 fan[1257] + 2369.4700000000003 compressor[1257] + 47.3894 fan[1258] + 2369.4700000000003 compressor[1258] + 47.3894 fan[1259] + 2369.4700000000003 compressor[1259] + 47.544000000000004 fan[1260] + 2377.2000000000003 compressor[1260] + 47.544000000000004 fan[1261] + 2377.2000000000003 compressor[1261] + 47.544000000000004 fan[1262] + 2377.2000000000003 compressor[1262] + 47.544000000000004 fan[1263] + 2377.2000000000003 compressor[1263] + 47.544000000000004 fan[1264] + 2377.2000000000003 compressor[1264] + 47.544000000000004 fan[1265] + 2377.2000000000003 compressor[1265] + 47.544000000000004 fan[1266] + 2377.2000000000003 compressor[1266] + 47.544000000000004 fan[1267] + 2377.2000000000003 compressor[1267] + 47.544000000000004 fan[1268] + 2377.2000000000003 compressor[1268] + 47.544000000000004 fan[1269] + 2377.2000000000003 compressor[1269] + 47.544000000000004 fan[1270] + 2377.2000000000003 compressor[1270] + 47.544000000000004 fan[1271] + 2377.2000000000003 compressor[1271] + 47.544000000000004 fan[1272] + 2377.2000000000003 compressor[1272] + 47.544000000000004 fan[1273] + 2377.2000000000003 compressor[1273] + 47.544000000000004 fan[1274] + 2377.2000000000003 compressor[1274] + 47.544000000000004 fan[1275] + 2377.2000000000003 compressor[1275] + 47.544000000000004 fan[1276] + 2377.2000000000003 compressor[1276] + 47.544000000000004 fan[1277] + 2377.2000000000003 compressor[1277] + 47.544000000000004 fan[1278] + 2377.2000000000003 compressor[1278] + 47.544000000000004 fan[1279] + 2377.2000000000003 compressor[1279] + 47.544000000000004 fan[1280] + 2377.2000000000003 compressor[1280] + 47.544000000000004 fan[1281] + 2377.2000000000003 compressor[1281] + 47.544000000000004 fan[1282] + 2377.2000000000003 compressor[1282] + 47.544000000000004 fan[1283] + 2377.2000000000003 compressor[1283] + 47.544000000000004 fan[1284] + 2377.2000000000003 compressor[1284] + 47.544000000000004 fan[1285] + 2377.2000000000003 compressor[1285] + 47.544000000000004 fan[1286] + 2377.2000000000003 compressor[1286] + 47.544000000000004 fan[1287] + 2377.2000000000003 compressor[1287] + 47.544000000000004 fan[1288] + 2377.2000000000003 compressor[1288] + 47.544000000000004 fan[1289] + 2377.2000000000003 compressor[1289] + 47.544000000000004 fan[1290] + 2377.2000000000003 compressor[1290] + 47.544000000000004 fan[1291] + 2377.2000000000003 compressor[1291] + 47.544000000000004 fan[1292] + 2377.2000000000003 compressor[1292] + 47.544000000000004 fan[1293] + 2377.2000000000003 compressor[1293] + 47.544000000000004 fan[1294] + 2377.2000000000003 compressor[1294] + 47.544000000000004 fan[1295] + 2377.2000000000003 compressor[1295] + 47.544000000000004 fan[1296] + 2377.2000000000003 compressor[1296] + 47.544000000000004 fan[1297] + 2377.2000000000003 compressor[1297] + 47.544000000000004 fan[1298] + 2377.2000000000003 compressor[1298] + 47.544000000000004 fan[1299] + 2377.2000000000003 compressor[1299] + 47.544000000000004 fan[1300] + 2377.2000000000003 compressor[1300] + 47.544000000000004 fan[1301] + 2377.2000000000003 compressor[1301] + 47.544000000000004 fan[1302] + 2377.2000000000003 compressor[1302] + 47.544000000000004 fan[1303] + 2377.2000000000003 compressor[1303] + 47.544000000000004 fan[1304] + 2377.2000000000003 compressor[1304] + 47.544000000000004 fan[1305] + 2377.2000000000003 compressor[1305] + 47.544000000000004 fan[1306] + 2377.2000000000003 compressor[1306] + 47.544000000000004 fan[1307] + 2377.2000000000003 compressor[1307] + 47.544000000000004 fan[1308] + 2377.2000000000003 compressor[1308] + 47.544000000000004 fan[1309] + 2377.2000000000003 compressor[1309] + 47.544000000000004 fan[1310] + 2377.2000000000003 compressor[1310] + 47.544000000000004 fan[1311] + 2377.2000000000003 compressor[1311] + 47.544000000000004 fan[1312] + 2377.2000000000003 compressor[1312] + 47.544000000000004 fan[1313] + 2377.2000000000003 compressor[1313] + 47.544000000000004 fan[1314] + 2377.2000000000003 compressor[1314] + 47.544000000000004 fan[1315] + 2377.2000000000003 compressor[1315] + 47.544000000000004 fan[1316] + 2377.2000000000003 compressor[1316] + 47.544000000000004 fan[1317] + 2377.2000000000003 compressor[1317] + 47.544000000000004 fan[1318] + 2377.2000000000003 compressor[1318] + 47.544000000000004 fan[1319] + 2377.2000000000003 compressor[1319] + 47.531800000000004 fan[1320] + 2376.59 compressor[1320] + 47.531800000000004 fan[1321] + 2376.59 compressor[1321] + 47.531800000000004 fan[1322] + 2376.59 compressor[1322] + 47.531800000000004 fan[1323] + 2376.59 compressor[1323] + 47.531800000000004 fan[1324] + 2376.59 compressor[1324] + 47.531800000000004 fan[1325] + 2376.59 compressor[1325] + 47.531800000000004 fan[1326] + 2376.59 compressor[1326] + 47.531800000000004 fan[1327] + 2376.59 compressor[1327] + 47.531800000000004 fan[1328] + 2376.59 compressor[1328] + 47.531800000000004 fan[1329] + 2376.59 compressor[1329] + 47.531800000000004 fan[1330] + 2376.59 compressor[1330] + 47.531800000000004 fan[1331] + 2376.59 compressor[1331] + 47.531800000000004 fan[1332] + 2376.59 compressor[1332] + 47.531800000000004 fan[1333] + 2376.59 compressor[1333] + 47.531800000000004 fan[1334] + 2376.59 compressor[1334] + 47.531800000000004 fan[1335] + 2376.59 compressor[1335] + 47.531800000000004 fan[1336] + 2376.59 compressor[1336] + 47.531800000000004 fan[1337] + 2376.59 compressor[1337] + 47.531800000000004 fan[1338] + 2376.59 compressor[1338] + 47.531800000000004 fan[1339] + 2376.59 compressor[1339] + 47.531800000000004 fan[1340] + 2376.59 compressor[1340] + 47.531800000000004 fan[1341] + 2376.59 compressor[1341] + 47.531800000000004 fan[1342] + 2376.59 compressor[1342] + 47.531800000000004 fan[1343] + 2376.59 compressor[1343] + 47.531800000000004 fan[1344] + 2376.59 compressor[1344] + 47.531800000000004 fan[1345] + 2376.59 compressor[1345] + 47.531800000000004 fan[1346] + 2376.59 compressor[1346] + 47.531800000000004 fan[1347] + 2376.59 compressor[1347] + 47.531800000000004 fan[1348] + 2376.59 compressor[1348] + 47.531800000000004 fan[1349] + 2376.59 compressor[1349] + 47.531800000000004 fan[1350] + 2376.59 compressor[1350] + 47.531800000000004 fan[1351] + 2376.59 compressor[1351] + 47.531800000000004 fan[1352] + 2376.59 compressor[1352] + 47.531800000000004 fan[1353] + 2376.59 compressor[1353] + 47.531800000000004 fan[1354] + 2376.59 compressor[1354] + 47.531800000000004 fan[1355] + 2376.59 compressor[1355] + 47.531800000000004 fan[1356] + 2376.59 compressor[1356] + 47.531800000000004 fan[1357] + 2376.59 compressor[1357] + 47.531800000000004 fan[1358] + 2376.59 compressor[1358] + 47.531800000000004 fan[1359] + 2376.59 compressor[1359] + 47.531800000000004 fan[1360] + 2376.59 compressor[1360] + 47.531800000000004 fan[1361] + 2376.59 compressor[1361] + 47.531800000000004 fan[1362] + 2376.59 compressor[1362] + 47.531800000000004 fan[1363] + 2376.59 compressor[1363] + 47.531800000000004 fan[1364] + 2376.59 compressor[1364] + 47.531800000000004 fan[1365] + 2376.59 compressor[1365] + 47.531800000000004 fan[1366] + 2376.59 compressor[1366] + 47.531800000000004 fan[1367] + 2376.59 compressor[1367] + 47.531800000000004 fan[1368] + 2376.59 compressor[1368] + 47.531800000000004 fan[1369] + 2376.59 compressor[1369] + 47.531800000000004 fan[1370] + 2376.59 compressor[1370] + 47.531800000000004 fan[1371] + 2376.59 compressor[1371] + 47.531800000000004 fan[1372] + 2376.59 compressor[1372] + 47.531800000000004 fan[1373] + 2376.59 compressor[1373] + 47.531800000000004 fan[1374] + 2376.59 compressor[1374] + 47.531800000000004 fan[1375] + 2376.59 compressor[1375] + 47.531800000000004 fan[1376] + 2376.59 compressor[1376] + 47.531800000000004 fan[1377] + 2376.59 compressor[1377] + 47.531800000000004 fan[1378] + 2376.59 compressor[1378] + 47.531800000000004 fan[1379] + 2376.59 compressor[1379] + 46.1478 fan[1380] + 2307.39 compressor[1380] + 46.1478 fan[1381] + 2307.39 compressor[1381] + 46.1478 fan[1382] + 2307.39 compressor[1382] + 46.1478 fan[1383] + 2307.39 compressor[1383] + 46.1478 fan[1384] + 2307.39 compressor[1384] + 46.1478 fan[1385] + 2307.39 compressor[1385] + 46.1478 fan[1386] + 2307.39 compressor[1386] + 46.1478 fan[1387] + 2307.39 compressor[1387] + 46.1478 fan[1388] + 2307.39 compressor[1388] + 46.1478 fan[1389] + 2307.39 compressor[1389] + 46.1478 fan[1390] + 2307.39 compressor[1390] + 46.1478 fan[1391] + 2307.39 compressor[1391] + 46.1478 fan[1392] + 2307.39 compressor[1392] + 46.1478 fan[1393] + 2307.39 compressor[1393] + 46.1478 fan[1394] + 2307.39 compressor[1394] + 46.1478 fan[1395] + 2307.39 compressor[1395] + 46.1478 fan[1396] + 2307.39 compressor[1396] + 46.1478 fan[1397] + 2307.39 compressor[1397] + 46.1478 fan[1398] + 2307.39 compressor[1398] + 46.1478 fan[1399] + 2307.39 compressor[1399] + 46.1478 fan[1400] + 2307.39 compressor[1400] + 46.1478 fan[1401] + 2307.39 compressor[1401] + 46.1478 fan[1402] + 2307.39 compressor[1402] + 46.1478 fan[1403] + 2307.39 compressor[1403] + 46.1478 fan[1404] + 2307.39 compressor[1404] + 46.1478 fan[1405] + 2307.39 compressor[1405] + 46.1478 fan[1406] + 2307.39 compressor[1406] + 46.1478 fan[1407] + 2307.39 compressor[1407] + 46.1478 fan[1408] + 2307.39 compressor[1408] + 46.1478 fan[1409] + 2307.39 compressor[1409] + 46.1478 fan[1410] + 2307.39 compressor[1410] + 46.1478 fan[1411] + 2307.39 compressor[1411] + 46.1478 fan[1412] + 2307.39 compressor[1412] + 46.1478 fan[1413] + 2307.39 compressor[1413] + 46.1478 fan[1414] + 2307.39 compressor[1414] + 46.1478 fan[1415] + 2307.39 compressor[1415] + 46.1478 fan[1416] + 2307.39 compressor[1416] + 46.1478 fan[1417] + 2307.39 compressor[1417] + 46.1478 fan[1418] + 2307.39 compressor[1418] + 46.1478 fan[1419] + 2307.39 compressor[1419] + 46.1478 fan[1420] + 2307.39 compressor[1420] + 46.1478 fan[1421] + 2307.39 compressor[1421] + 46.1478 fan[1422] + 2307.39 compressor[1422] + 46.1478 fan[1423] + 2307.39 compressor[1423] + 46.1478 fan[1424] + 2307.39 compressor[1424] + 46.1478 fan[1425] + 2307.39 compressor[1425] + 46.1478 fan[1426] + 2307.39 compressor[1426] + 46.1478 fan[1427] + 2307.39 compressor[1427] + 46.1478 fan[1428] + 2307.39 compressor[1428] + 46.1478 fan[1429] + 2307.39 compressor[1429] + 46.1478 fan[1430] + 2307.39 compressor[1430] + 46.1478 fan[1431] + 2307.39 compressor[1431] + 46.1478 fan[1432] + 2307.39 compressor[1432] + 46.1478 fan[1433] + 2307.39 compressor[1433] + 46.1478 fan[1434] + 2307.39 compressor[1434] + 46.1478 fan[1435] + 2307.39 compressor[1435] + 46.1478 fan[1436] + 2307.39 compressor[1436] + 46.1478 fan[1437] + 2307.39 compressor[1437] + 46.1478 fan[1438] + 2307.39 compressor[1438] + 46.1478 fan[1439] + 2307.39 compressor[1439] + 44.1704 fan[1440] + 2208.52 compressor[1440]"
      ]
     },
     "execution_count": 38,
     "metadata": {},
     "output_type": "execute_result"
    }
   ],
   "source": [
    "@objective(m2, Min, expr_obj)"
   ]
  },
  {
   "cell_type": "code",
   "execution_count": 42,
   "metadata": {},
   "outputs": [
    {
     "data": {
      "text/plain": [
       "1440-element Array{ConstraintRef{Model,MathOptInterface.ConstraintIndex{MathOptInterface.ScalarAffineFunction{Float64},MathOptInterface.EqualTo{Float64}},ScalarShape},1}:\n",
       " con2[1] : W_hvac[1] - 1500 compressor[1] == 0.0         \n",
       " con2[2] : W_hvac[2] - 1500 compressor[2] == 0.0         \n",
       " con2[3] : W_hvac[3] - 1500 compressor[3] == 0.0         \n",
       " con2[4] : W_hvac[4] - 1500 compressor[4] == 0.0         \n",
       " con2[5] : W_hvac[5] - 1500 compressor[5] == 0.0         \n",
       " con2[6] : W_hvac[6] - 1500 compressor[6] == 0.0         \n",
       " con2[7] : W_hvac[7] - 1500 compressor[7] == 0.0         \n",
       " con2[8] : W_hvac[8] - 1500 compressor[8] == 0.0         \n",
       " con2[9] : W_hvac[9] - 1500 compressor[9] == 0.0         \n",
       " con2[10] : W_hvac[10] - 1500 compressor[10] == 0.0      \n",
       " con2[11] : W_hvac[11] - 1500 compressor[11] == 0.0      \n",
       " con2[12] : W_hvac[12] - 1500 compressor[12] == 0.0      \n",
       " con2[13] : W_hvac[13] - 1500 compressor[13] == 0.0      \n",
       " ⋮                                                       \n",
       " con2[1429] : W_hvac[1429] - 1500 compressor[1429] == 0.0\n",
       " con2[1430] : W_hvac[1430] - 1500 compressor[1430] == 0.0\n",
       " con2[1431] : W_hvac[1431] - 1500 compressor[1431] == 0.0\n",
       " con2[1432] : W_hvac[1432] - 1500 compressor[1432] == 0.0\n",
       " con2[1433] : W_hvac[1433] - 1500 compressor[1433] == 0.0\n",
       " con2[1434] : W_hvac[1434] - 1500 compressor[1434] == 0.0\n",
       " con2[1435] : W_hvac[1435] - 1500 compressor[1435] == 0.0\n",
       " con2[1436] : W_hvac[1436] - 1500 compressor[1436] == 0.0\n",
       " con2[1437] : W_hvac[1437] - 1500 compressor[1437] == 0.0\n",
       " con2[1438] : W_hvac[1438] - 1500 compressor[1438] == 0.0\n",
       " con2[1439] : W_hvac[1439] - 1500 compressor[1439] == 0.0\n",
       " con2[1440] : W_hvac[1440] - 1500 compressor[1440] == 0.0"
      ]
     },
     "execution_count": 42,
     "metadata": {},
     "output_type": "execute_result"
    }
   ],
   "source": [
    "# @constraint(m2,con2, W_hvac - COP * 500 * P_c + W_dis - W_ch == 0)\n",
    "@constraint(m2,con2[i in 1:1440], W_hvac[i] - COP * 500 * P_c[i] == 0)"
   ]
  },
  {
   "cell_type": "code",
   "execution_count": 43,
   "metadata": {},
   "outputs": [
    {
     "data": {
      "text/plain": [
       "1440-element Array{ConstraintRef{Model,MathOptInterface.ConstraintIndex{MathOptInterface.ScalarAffineFunction{Float64},MathOptInterface.EqualTo{Float64}},ScalarShape},1}:\n",
       " con3[1] : Q[1] - 0.055 fan[1] == 0.0         \n",
       " con3[2] : Q[2] - 0.055 fan[2] == 0.0         \n",
       " con3[3] : Q[3] - 0.055 fan[3] == 0.0         \n",
       " con3[4] : Q[4] - 0.055 fan[4] == 0.0         \n",
       " con3[5] : Q[5] - 0.055 fan[5] == 0.0         \n",
       " con3[6] : Q[6] - 0.055 fan[6] == 0.0         \n",
       " con3[7] : Q[7] - 0.055 fan[7] == 0.0         \n",
       " con3[8] : Q[8] - 0.055 fan[8] == 0.0         \n",
       " con3[9] : Q[9] - 0.055 fan[9] == 0.0         \n",
       " con3[10] : Q[10] - 0.055 fan[10] == 0.0      \n",
       " con3[11] : Q[11] - 0.055 fan[11] == 0.0      \n",
       " con3[12] : Q[12] - 0.055 fan[12] == 0.0      \n",
       " con3[13] : Q[13] - 0.055 fan[13] == 0.0      \n",
       " ⋮                                            \n",
       " con3[1429] : Q[1429] - 0.055 fan[1429] == 0.0\n",
       " con3[1430] : Q[1430] - 0.055 fan[1430] == 0.0\n",
       " con3[1431] : Q[1431] - 0.055 fan[1431] == 0.0\n",
       " con3[1432] : Q[1432] - 0.055 fan[1432] == 0.0\n",
       " con3[1433] : Q[1433] - 0.055 fan[1433] == 0.0\n",
       " con3[1434] : Q[1434] - 0.055 fan[1434] == 0.0\n",
       " con3[1435] : Q[1435] - 0.055 fan[1435] == 0.0\n",
       " con3[1436] : Q[1436] - 0.055 fan[1436] == 0.0\n",
       " con3[1437] : Q[1437] - 0.055 fan[1437] == 0.0\n",
       " con3[1438] : Q[1438] - 0.055 fan[1438] == 0.0\n",
       " con3[1439] : Q[1439] - 0.055 fan[1439] == 0.0\n",
       " con3[1440] : Q[1440] - 0.055 fan[1440] == 0.0"
      ]
     },
     "execution_count": 43,
     "metadata": {},
     "output_type": "execute_result"
    }
   ],
   "source": [
    "@constraint(m2,con3[i in 1:1440], Q[i] - 0.55 * P_f[i] * 10 / 100 == 0)"
   ]
  },
  {
   "cell_type": "code",
   "execution_count": 44,
   "metadata": {},
   "outputs": [
    {
     "data": {
      "text/latex": [
       "con7 : $ n_co2_{1} = 400.0 $"
      ],
      "text/plain": [
       "con7 : n_co2[1] == 400.0"
      ]
     },
     "execution_count": 44,
     "metadata": {},
     "output_type": "execute_result"
    }
   ],
   "source": [
    "# @constraint(m2,con4, E[1] == 0)\n",
    "@constraint(m2,con5, T_r[1] == 19)\n",
    "@constraint(m2,con6, T_w[1] == 19)\n",
    "@constraint(m2,con7, n_co2[1] == 400)"
   ]
  },
  {
   "cell_type": "code",
   "execution_count": 45,
   "metadata": {},
   "outputs": [
    {
     "data": {
      "text/plain": [
       "1440-element Array{ConstraintRef{Model,MathOptInterface.ConstraintIndex{MathOptInterface.ScalarAffineFunction{Float64},MathOptInterface.LessThan{Float64}},ScalarShape},1}:\n",
       " con10[1] : n_co2[1] <= 800.0      \n",
       " con10[2] : n_co2[2] <= 800.0      \n",
       " con10[3] : n_co2[3] <= 800.0      \n",
       " con10[4] : n_co2[4] <= 800.0      \n",
       " con10[5] : n_co2[5] <= 800.0      \n",
       " con10[6] : n_co2[6] <= 800.0      \n",
       " con10[7] : n_co2[7] <= 800.0      \n",
       " con10[8] : n_co2[8] <= 800.0      \n",
       " con10[9] : n_co2[9] <= 800.0      \n",
       " con10[10] : n_co2[10] <= 800.0    \n",
       " con10[11] : n_co2[11] <= 800.0    \n",
       " con10[12] : n_co2[12] <= 800.0    \n",
       " con10[13] : n_co2[13] <= 800.0    \n",
       " ⋮                                 \n",
       " con10[1429] : n_co2[1429] <= 800.0\n",
       " con10[1430] : n_co2[1430] <= 800.0\n",
       " con10[1431] : n_co2[1431] <= 800.0\n",
       " con10[1432] : n_co2[1432] <= 800.0\n",
       " con10[1433] : n_co2[1433] <= 800.0\n",
       " con10[1434] : n_co2[1434] <= 800.0\n",
       " con10[1435] : n_co2[1435] <= 800.0\n",
       " con10[1436] : n_co2[1436] <= 800.0\n",
       " con10[1437] : n_co2[1437] <= 800.0\n",
       " con10[1438] : n_co2[1438] <= 800.0\n",
       " con10[1439] : n_co2[1439] <= 800.0\n",
       " con10[1440] : n_co2[1440] <= 800.0"
      ]
     },
     "execution_count": 45,
     "metadata": {},
     "output_type": "execute_result"
    }
   ],
   "source": [
    "@constraint(m2,con8[i in 1:1440], T_r[i] >= 18)\n",
    "@constraint(m2,con9[i in 1:1440], T_r[i] <= 24)\n",
    "@constraint(m2,con10[i in 1:1440], n_co2[i] <= 800)"
   ]
  },
  {
   "cell_type": "code",
   "execution_count": 46,
   "metadata": {},
   "outputs": [
    {
     "data": {
      "text/plain": [
       "1440-element Array{Float64,1}:\n",
       " -17.01900928328442 \n",
       " -17.037917169970726\n",
       " -17.056723881669004\n",
       " -17.07542963998933 \n",
       " -17.09403466654177 \n",
       " -17.112539182936395\n",
       " -17.13094341078329 \n",
       " -17.149247571692506\n",
       " -17.16745188727414 \n",
       " -17.185556579138247\n",
       " -17.203561868894916\n",
       " -17.221467978154205\n",
       " -17.239275128526195\n",
       "   ⋮                \n",
       " -20.9635603093405  \n",
       " -20.95944908878232 \n",
       " -20.955092084463015\n",
       " -20.950488231016415\n",
       " -20.945636463076355\n",
       " -20.940535715276663\n",
       " -20.935184922251175\n",
       " -20.929583018633725\n",
       " -20.923728939058144\n",
       " -20.917621618158265\n",
       " -20.911259990567913\n",
       " -20.904642990920927"
      ]
     },
     "execution_count": 46,
     "metadata": {},
     "output_type": "execute_result"
    }
   ],
   "source": [
    "@expression(m2, expr_out[i = 1:1440], Spline1D([0, 3, 6 , 9, 12, 15, 18, 21, 25], [-17, -19, -19, -18, -16, -14, -15, -19, -20])(i/60))"
   ]
  },
  {
   "cell_type": "code",
   "execution_count": 47,
   "metadata": {},
   "outputs": [
    {
     "data": {
      "text/plain": [
       "1440-element Array{Float64,1}:\n",
       " 0.0\n",
       " 0.0\n",
       " 0.0\n",
       " 0.0\n",
       " 0.0\n",
       " 0.0\n",
       " 0.0\n",
       " 0.0\n",
       " 0.0\n",
       " 0.0\n",
       " 0.0\n",
       " 0.0\n",
       " 0.0\n",
       " ⋮  \n",
       " 0.0\n",
       " 0.0\n",
       " 0.0\n",
       " 0.0\n",
       " 0.0\n",
       " 0.0\n",
       " 0.0\n",
       " 0.0\n",
       " 0.0\n",
       " 0.0\n",
       " 0.0\n",
       " 0.0"
      ]
     },
     "execution_count": 47,
     "metadata": {},
     "output_type": "execute_result"
    }
   ],
   "source": [
    "@expression(m2, expr_occup[i = 1:1440], LinearInterpolation([0, 8.9, 9, 12, 12.1, 15, 15.1, 18, 18.1], [0, 0,   20,20, 30,   30, 10,    10,  0],extrapolation_bc=Flat())(i/60))"
   ]
  },
  {
   "cell_type": "code",
   "execution_count": 48,
   "metadata": {},
   "outputs": [
    {
     "data": {
      "text/plain": [
       "1439-element Array{ConstraintRef{Model,NonlinearConstraintIndex,ScalarShape},1}:\n",
       " (T_r[2] - (T_r[1] + 0.0001755926251097454 * ((((((9.15 + 1.8983333333333334) * (-17.01900928328442 - T_r[1]) + 348.0 * (T_w[1] - T_r[1]) + 113.007 * 0.0) - W_hvac[1]) + 1005.0 * 21.0 * Q[1]) - 1005.0 * T_r[1] * Q[1]) + 300.0))) - 0.0 == 0                            \n",
       " (T_r[3] - (T_r[2] + 0.0001755926251097454 * ((((((9.15 + 1.8983333333333334) * (-17.037917169970726 - T_r[2]) + 348.0 * (T_w[2] - T_r[2]) + 113.007 * 0.0) - W_hvac[2]) + 1005.0 * 21.0 * Q[2]) - 1005.0 * T_r[2] * Q[2]) + 300.0))) - 0.0 == 0                           \n",
       " (T_r[4] - (T_r[3] + 0.0001755926251097454 * ((((((9.15 + 1.8983333333333334) * (-17.056723881669004 - T_r[3]) + 348.0 * (T_w[3] - T_r[3]) + 113.007 * 0.0) - W_hvac[3]) + 1005.0 * 21.0 * Q[3]) - 1005.0 * T_r[3] * Q[3]) + 300.0))) - 0.0 == 0                           \n",
       " (T_r[5] - (T_r[4] + 0.0001755926251097454 * ((((((9.15 + 1.8983333333333334) * (-17.07542963998933 - T_r[4]) + 348.0 * (T_w[4] - T_r[4]) + 113.007 * 0.0) - W_hvac[4]) + 1005.0 * 21.0 * Q[4]) - 1005.0 * T_r[4] * Q[4]) + 300.0))) - 0.0 == 0                            \n",
       " (T_r[6] - (T_r[5] + 0.0001755926251097454 * ((((((9.15 + 1.8983333333333334) * (-17.09403466654177 - T_r[5]) + 348.0 * (T_w[5] - T_r[5]) + 113.007 * 0.0) - W_hvac[5]) + 1005.0 * 21.0 * Q[5]) - 1005.0 * T_r[5] * Q[5]) + 300.0))) - 0.0 == 0                            \n",
       " (T_r[7] - (T_r[6] + 0.0001755926251097454 * ((((((9.15 + 1.8983333333333334) * (-17.112539182936395 - T_r[6]) + 348.0 * (T_w[6] - T_r[6]) + 113.007 * 0.0) - W_hvac[6]) + 1005.0 * 21.0 * Q[6]) - 1005.0 * T_r[6] * Q[6]) + 300.0))) - 0.0 == 0                           \n",
       " (T_r[8] - (T_r[7] + 0.0001755926251097454 * ((((((9.15 + 1.8983333333333334) * (-17.13094341078329 - T_r[7]) + 348.0 * (T_w[7] - T_r[7]) + 113.007 * 0.0) - W_hvac[7]) + 1005.0 * 21.0 * Q[7]) - 1005.0 * T_r[7] * Q[7]) + 300.0))) - 0.0 == 0                            \n",
       " (T_r[9] - (T_r[8] + 0.0001755926251097454 * ((((((9.15 + 1.8983333333333334) * (-17.149247571692506 - T_r[8]) + 348.0 * (T_w[8] - T_r[8]) + 113.007 * 0.0) - W_hvac[8]) + 1005.0 * 21.0 * Q[8]) - 1005.0 * T_r[8] * Q[8]) + 300.0))) - 0.0 == 0                           \n",
       " (T_r[10] - (T_r[9] + 0.0001755926251097454 * ((((((9.15 + 1.8983333333333334) * (-17.16745188727414 - T_r[9]) + 348.0 * (T_w[9] - T_r[9]) + 113.007 * 0.0) - W_hvac[9]) + 1005.0 * 21.0 * Q[9]) - 1005.0 * T_r[9] * Q[9]) + 300.0))) - 0.0 == 0                           \n",
       " (T_r[11] - (T_r[10] + 0.0001755926251097454 * ((((((9.15 + 1.8983333333333334) * (-17.185556579138247 - T_r[10]) + 348.0 * (T_w[10] - T_r[10]) + 113.007 * 0.0) - W_hvac[10]) + 1005.0 * 21.0 * Q[10]) - 1005.0 * T_r[10] * Q[10]) + 300.0))) - 0.0 == 0                  \n",
       " (T_r[12] - (T_r[11] + 0.0001755926251097454 * ((((((9.15 + 1.8983333333333334) * (-17.203561868894916 - T_r[11]) + 348.0 * (T_w[11] - T_r[11]) + 113.007 * 0.0) - W_hvac[11]) + 1005.0 * 21.0 * Q[11]) - 1005.0 * T_r[11] * Q[11]) + 300.0))) - 0.0 == 0                  \n",
       " (T_r[13] - (T_r[12] + 0.0001755926251097454 * ((((((9.15 + 1.8983333333333334) * (-17.221467978154205 - T_r[12]) + 348.0 * (T_w[12] - T_r[12]) + 113.007 * 0.0) - W_hvac[12]) + 1005.0 * 21.0 * Q[12]) - 1005.0 * T_r[12] * Q[12]) + 300.0))) - 0.0 == 0                  \n",
       " (T_r[14] - (T_r[13] + 0.0001755926251097454 * ((((((9.15 + 1.8983333333333334) * (-17.239275128526195 - T_r[13]) + 348.0 * (T_w[13] - T_r[13]) + 113.007 * 0.0) - W_hvac[13]) + 1005.0 * 21.0 * Q[13]) - 1005.0 * T_r[13] * Q[13]) + 300.0))) - 0.0 == 0                  \n",
       " ⋮                                                                                                                                                                                                                                                                         \n",
       " (T_r[1429] - (T_r[1428] + 0.0001755926251097454 * ((((((9.15 + 1.8983333333333334) * (-20.967426811503728 - T_r[1428]) + 348.0 * (T_w[1428] - T_r[1428]) + 113.007 * 0.0) - W_hvac[1428]) + 1005.0 * 21.0 * Q[1428]) - 1005.0 * T_r[1428] * Q[1428]) + 300.0))) - 0.0 == 0\n",
       " (T_r[1430] - (T_r[1429] + 0.0001755926251097454 * ((((((9.15 + 1.8983333333333334) * (-20.9635603093405 - T_r[1429]) + 348.0 * (T_w[1429] - T_r[1429]) + 113.007 * 0.0) - W_hvac[1429]) + 1005.0 * 21.0 * Q[1429]) - 1005.0 * T_r[1429] * Q[1429]) + 300.0))) - 0.0 == 0  \n",
       " (T_r[1431] - (T_r[1430] + 0.0001755926251097454 * ((((((9.15 + 1.8983333333333334) * (-20.95944908878232 - T_r[1430]) + 348.0 * (T_w[1430] - T_r[1430]) + 113.007 * 0.0) - W_hvac[1430]) + 1005.0 * 21.0 * Q[1430]) - 1005.0 * T_r[1430] * Q[1430]) + 300.0))) - 0.0 == 0 \n",
       " (T_r[1432] - (T_r[1431] + 0.0001755926251097454 * ((((((9.15 + 1.8983333333333334) * (-20.955092084463015 - T_r[1431]) + 348.0 * (T_w[1431] - T_r[1431]) + 113.007 * 0.0) - W_hvac[1431]) + 1005.0 * 21.0 * Q[1431]) - 1005.0 * T_r[1431] * Q[1431]) + 300.0))) - 0.0 == 0\n",
       " (T_r[1433] - (T_r[1432] + 0.0001755926251097454 * ((((((9.15 + 1.8983333333333334) * (-20.950488231016415 - T_r[1432]) + 348.0 * (T_w[1432] - T_r[1432]) + 113.007 * 0.0) - W_hvac[1432]) + 1005.0 * 21.0 * Q[1432]) - 1005.0 * T_r[1432] * Q[1432]) + 300.0))) - 0.0 == 0\n",
       " (T_r[1434] - (T_r[1433] + 0.0001755926251097454 * ((((((9.15 + 1.8983333333333334) * (-20.945636463076355 - T_r[1433]) + 348.0 * (T_w[1433] - T_r[1433]) + 113.007 * 0.0) - W_hvac[1433]) + 1005.0 * 21.0 * Q[1433]) - 1005.0 * T_r[1433] * Q[1433]) + 300.0))) - 0.0 == 0\n",
       " (T_r[1435] - (T_r[1434] + 0.0001755926251097454 * ((((((9.15 + 1.8983333333333334) * (-20.940535715276663 - T_r[1434]) + 348.0 * (T_w[1434] - T_r[1434]) + 113.007 * 0.0) - W_hvac[1434]) + 1005.0 * 21.0 * Q[1434]) - 1005.0 * T_r[1434] * Q[1434]) + 300.0))) - 0.0 == 0\n",
       " (T_r[1436] - (T_r[1435] + 0.0001755926251097454 * ((((((9.15 + 1.8983333333333334) * (-20.935184922251175 - T_r[1435]) + 348.0 * (T_w[1435] - T_r[1435]) + 113.007 * 0.0) - W_hvac[1435]) + 1005.0 * 21.0 * Q[1435]) - 1005.0 * T_r[1435] * Q[1435]) + 300.0))) - 0.0 == 0\n",
       " (T_r[1437] - (T_r[1436] + 0.0001755926251097454 * ((((((9.15 + 1.8983333333333334) * (-20.929583018633725 - T_r[1436]) + 348.0 * (T_w[1436] - T_r[1436]) + 113.007 * 0.0) - W_hvac[1436]) + 1005.0 * 21.0 * Q[1436]) - 1005.0 * T_r[1436] * Q[1436]) + 300.0))) - 0.0 == 0\n",
       " (T_r[1438] - (T_r[1437] + 0.0001755926251097454 * ((((((9.15 + 1.8983333333333334) * (-20.923728939058144 - T_r[1437]) + 348.0 * (T_w[1437] - T_r[1437]) + 113.007 * 0.0) - W_hvac[1437]) + 1005.0 * 21.0 * Q[1437]) - 1005.0 * T_r[1437] * Q[1437]) + 300.0))) - 0.0 == 0\n",
       " (T_r[1439] - (T_r[1438] + 0.0001755926251097454 * ((((((9.15 + 1.8983333333333334) * (-20.917621618158265 - T_r[1438]) + 348.0 * (T_w[1438] - T_r[1438]) + 113.007 * 0.0) - W_hvac[1438]) + 1005.0 * 21.0 * Q[1438]) - 1005.0 * T_r[1438] * Q[1438]) + 300.0))) - 0.0 == 0\n",
       " (T_r[1440] - (T_r[1439] + 0.0001755926251097454 * ((((((9.15 + 1.8983333333333334) * (-20.911259990567913 - T_r[1439]) + 348.0 * (T_w[1439] - T_r[1439]) + 113.007 * 0.0) - W_hvac[1439]) + 1005.0 * 21.0 * Q[1439]) - 1005.0 * T_r[1439] * Q[1439]) + 300.0))) - 0.0 == 0"
      ]
     },
     "execution_count": 48,
     "metadata": {},
     "output_type": "execute_result"
    }
   ],
   "source": [
    "@NLconstraint(m2,nl1[i in 1:1439], T_r[i+1] - (T_r[i] + pa1*((pa2 + pa4) * (expr_out[i] - T_r[i]) + pa3 * (T_w[i] - T_r[i]) + pa5 * expr_occup[i] - W_hvac[i] + C_out * T_vent * Q[i] - C_in * T_r[i] * Q[i] + W_light)) == 0)"
   ]
  },
  {
   "cell_type": "code",
   "execution_count": 49,
   "metadata": {},
   "outputs": [
    {
     "data": {
      "text/plain": [
       "1439-element Array{ConstraintRef{Model,MathOptInterface.ConstraintIndex{MathOptInterface.ScalarAffineFunction{Float64},MathOptInterface.EqualTo{Float64}},ScalarShape},1}:\n",
       " con11[1] : T_w[2] - 0.9999364583333333 T_w[1] - 6.354166666666668e-5 T_r[1] == 0.0            \n",
       " con11[2] : T_w[3] - 0.9999364583333333 T_w[2] - 6.354166666666668e-5 T_r[2] == 0.0            \n",
       " con11[3] : T_w[4] - 0.9999364583333333 T_w[3] - 6.354166666666668e-5 T_r[3] == 0.0            \n",
       " con11[4] : T_w[5] - 0.9999364583333333 T_w[4] - 6.354166666666668e-5 T_r[4] == 0.0            \n",
       " con11[5] : T_w[6] - 0.9999364583333333 T_w[5] - 6.354166666666668e-5 T_r[5] == 0.0            \n",
       " con11[6] : T_w[7] - 0.9999364583333333 T_w[6] - 6.354166666666668e-5 T_r[6] == 0.0            \n",
       " con11[7] : T_w[8] - 0.9999364583333333 T_w[7] - 6.354166666666668e-5 T_r[7] == 0.0            \n",
       " con11[8] : T_w[9] - 0.9999364583333333 T_w[8] - 6.354166666666668e-5 T_r[8] == 0.0            \n",
       " con11[9] : T_w[10] - 0.9999364583333333 T_w[9] - 6.354166666666668e-5 T_r[9] == 0.0           \n",
       " con11[10] : T_w[11] - 0.9999364583333333 T_w[10] - 6.354166666666668e-5 T_r[10] == 0.0        \n",
       " con11[11] : T_w[12] - 0.9999364583333333 T_w[11] - 6.354166666666668e-5 T_r[11] == 0.0        \n",
       " con11[12] : T_w[13] - 0.9999364583333333 T_w[12] - 6.354166666666668e-5 T_r[12] == 0.0        \n",
       " con11[13] : T_w[14] - 0.9999364583333333 T_w[13] - 6.354166666666668e-5 T_r[13] == 0.0        \n",
       " ⋮                                                                                             \n",
       " con11[1428] : T_w[1429] - 0.9999364583333333 T_w[1428] - 6.354166666666668e-5 T_r[1428] == 0.0\n",
       " con11[1429] : T_w[1430] - 0.9999364583333333 T_w[1429] - 6.354166666666668e-5 T_r[1429] == 0.0\n",
       " con11[1430] : T_w[1431] - 0.9999364583333333 T_w[1430] - 6.354166666666668e-5 T_r[1430] == 0.0\n",
       " con11[1431] : T_w[1432] - 0.9999364583333333 T_w[1431] - 6.354166666666668e-5 T_r[1431] == 0.0\n",
       " con11[1432] : T_w[1433] - 0.9999364583333333 T_w[1432] - 6.354166666666668e-5 T_r[1432] == 0.0\n",
       " con11[1433] : T_w[1434] - 0.9999364583333333 T_w[1433] - 6.354166666666668e-5 T_r[1433] == 0.0\n",
       " con11[1434] : T_w[1435] - 0.9999364583333333 T_w[1434] - 6.354166666666668e-5 T_r[1434] == 0.0\n",
       " con11[1435] : T_w[1436] - 0.9999364583333333 T_w[1435] - 6.354166666666668e-5 T_r[1435] == 0.0\n",
       " con11[1436] : T_w[1437] - 0.9999364583333333 T_w[1436] - 6.354166666666668e-5 T_r[1436] == 0.0\n",
       " con11[1437] : T_w[1438] - 0.9999364583333333 T_w[1437] - 6.354166666666668e-5 T_r[1437] == 0.0\n",
       " con11[1438] : T_w[1439] - 0.9999364583333333 T_w[1438] - 6.354166666666668e-5 T_r[1438] == 0.0\n",
       " con11[1439] : T_w[1440] - 0.9999364583333333 T_w[1439] - 6.354166666666668e-5 T_r[1439] == 0.0"
      ]
     },
     "execution_count": 49,
     "metadata": {},
     "output_type": "execute_result"
    }
   ],
   "source": [
    "@constraint(m2,con11[i in 1:1439], T_w[i+1] - (T_w[i] + pw1 * pa2 * (T_r[i] - T_w[i])) == 0)"
   ]
  },
  {
   "cell_type": "code",
   "execution_count": 50,
   "metadata": {},
   "outputs": [
    {
     "data": {
      "text/plain": [
       "1439-element Array{ConstraintRef{Model,MathOptInterface.ConstraintIndex{MathOptInterface.ScalarQuadraticFunction{Float64},MathOptInterface.EqualTo{Float64}},ScalarShape},1}:\n",
       " con12[1] : 0.17647058823529413 Q[1]*n_co2[1] + n_co2[2] - 0.9996666666666667 n_co2[1] - 52.94117647058824 Q[1] == 0.10000000000000002                  \n",
       " con12[2] : 0.17647058823529413 Q[2]*n_co2[2] + n_co2[3] - 0.9996666666666667 n_co2[2] - 52.94117647058824 Q[2] == 0.10000000000000002                  \n",
       " con12[3] : 0.17647058823529413 Q[3]*n_co2[3] + n_co2[4] - 0.9996666666666667 n_co2[3] - 52.94117647058824 Q[3] == 0.10000000000000002                  \n",
       " con12[4] : 0.17647058823529413 Q[4]*n_co2[4] + n_co2[5] - 0.9996666666666667 n_co2[4] - 52.94117647058824 Q[4] == 0.10000000000000002                  \n",
       " con12[5] : 0.17647058823529413 Q[5]*n_co2[5] + n_co2[6] - 0.9996666666666667 n_co2[5] - 52.94117647058824 Q[5] == 0.10000000000000002                  \n",
       " con12[6] : 0.17647058823529413 Q[6]*n_co2[6] + n_co2[7] - 0.9996666666666667 n_co2[6] - 52.94117647058824 Q[6] == 0.10000000000000002                  \n",
       " con12[7] : 0.17647058823529413 Q[7]*n_co2[7] + n_co2[8] - 0.9996666666666667 n_co2[7] - 52.94117647058824 Q[7] == 0.10000000000000002                  \n",
       " con12[8] : 0.17647058823529413 Q[8]*n_co2[8] + n_co2[9] - 0.9996666666666667 n_co2[8] - 52.94117647058824 Q[8] == 0.10000000000000002                  \n",
       " con12[9] : 0.17647058823529413 Q[9]*n_co2[9] + n_co2[10] - 0.9996666666666667 n_co2[9] - 52.94117647058824 Q[9] == 0.10000000000000002                 \n",
       " con12[10] : 0.17647058823529413 Q[10]*n_co2[10] + n_co2[11] - 0.9996666666666667 n_co2[10] - 52.94117647058824 Q[10] == 0.10000000000000002            \n",
       " con12[11] : 0.17647058823529413 Q[11]*n_co2[11] + n_co2[12] - 0.9996666666666667 n_co2[11] - 52.94117647058824 Q[11] == 0.10000000000000002            \n",
       " con12[12] : 0.17647058823529413 Q[12]*n_co2[12] + n_co2[13] - 0.9996666666666667 n_co2[12] - 52.94117647058824 Q[12] == 0.10000000000000002            \n",
       " con12[13] : 0.17647058823529413 Q[13]*n_co2[13] + n_co2[14] - 0.9996666666666667 n_co2[13] - 52.94117647058824 Q[13] == 0.10000000000000002            \n",
       " ⋮                                                                                                                                                      \n",
       " con12[1428] : 0.17647058823529413 Q[1428]*n_co2[1428] + n_co2[1429] - 0.9996666666666667 n_co2[1428] - 52.94117647058824 Q[1428] == 0.10000000000000002\n",
       " con12[1429] : 0.17647058823529413 Q[1429]*n_co2[1429] + n_co2[1430] - 0.9996666666666667 n_co2[1429] - 52.94117647058824 Q[1429] == 0.10000000000000002\n",
       " con12[1430] : 0.17647058823529413 Q[1430]*n_co2[1430] + n_co2[1431] - 0.9996666666666667 n_co2[1430] - 52.94117647058824 Q[1430] == 0.10000000000000002\n",
       " con12[1431] : 0.17647058823529413 Q[1431]*n_co2[1431] + n_co2[1432] - 0.9996666666666667 n_co2[1431] - 52.94117647058824 Q[1431] == 0.10000000000000002\n",
       " con12[1432] : 0.17647058823529413 Q[1432]*n_co2[1432] + n_co2[1433] - 0.9996666666666667 n_co2[1432] - 52.94117647058824 Q[1432] == 0.10000000000000002\n",
       " con12[1433] : 0.17647058823529413 Q[1433]*n_co2[1433] + n_co2[1434] - 0.9996666666666667 n_co2[1433] - 52.94117647058824 Q[1433] == 0.10000000000000002\n",
       " con12[1434] : 0.17647058823529413 Q[1434]*n_co2[1434] + n_co2[1435] - 0.9996666666666667 n_co2[1434] - 52.94117647058824 Q[1434] == 0.10000000000000002\n",
       " con12[1435] : 0.17647058823529413 Q[1435]*n_co2[1435] + n_co2[1436] - 0.9996666666666667 n_co2[1435] - 52.94117647058824 Q[1435] == 0.10000000000000002\n",
       " con12[1436] : 0.17647058823529413 Q[1436]*n_co2[1436] + n_co2[1437] - 0.9996666666666667 n_co2[1436] - 52.94117647058824 Q[1436] == 0.10000000000000002\n",
       " con12[1437] : 0.17647058823529413 Q[1437]*n_co2[1437] + n_co2[1438] - 0.9996666666666667 n_co2[1437] - 52.94117647058824 Q[1437] == 0.10000000000000002\n",
       " con12[1438] : 0.17647058823529413 Q[1438]*n_co2[1438] + n_co2[1439] - 0.9996666666666667 n_co2[1438] - 52.94117647058824 Q[1438] == 0.10000000000000002\n",
       " con12[1439] : 0.17647058823529413 Q[1439]*n_co2[1439] + n_co2[1440] - 0.9996666666666667 n_co2[1439] - 52.94117647058824 Q[1439] == 0.10000000000000002"
      ]
     },
     "execution_count": 50,
     "metadata": {},
     "output_type": "execute_result"
    }
   ],
   "source": [
    "@constraint(m2,con12[i in 1:1439], n_co2[i+1] - (n_co2[i] + pn1 * (Q[i] + pn2) * (300 - n_co2[i]) + k_CO2 * expr_occup[i]) == 0)"
   ]
  },
  {
   "cell_type": "code",
   "execution_count": 51,
   "metadata": {},
   "outputs": [
    {
     "name": "stdout",
     "output_type": "stream",
     "text": [
      "nl_solver         : MathOptInterface.OptimizerWithAttributes(Ipopt.Optimizer, Pair{MathOptInterface.AbstractOptimizerAttribute,Any}[RawParameter(\"print_level\")=>0])\n",
      "feasibility_pump  : false\n",
      "log_levels        : Symbol[:Options, :Table, :Info]\n",
      "\n",
      "#Variables: 10080\n",
      "#IntBinVar: 2880\n",
      "#Constraints: 11520\n",
      "#Linear Constraints: 8642\n",
      "#Quadratic Constraints: 1439\n",
      "#NonLinear Constraints: 1439\n",
      "Obj Sense: Min\n",
      "\n",
      "Start values are not feasible.\n",
      "Status of relaxation: LOCALLY_SOLVED\n",
      "Time for relaxation: 361.1560001373291\n",
      "Relaxation Obj: 96636.44812700518\n",
      "\n",
      " ONodes   CLevel          Incumbent                   BestBound            Gap    Time   Restarts  GainGap  \n",
      "============================================================================================================\n",
      "    2       2                 -                        96636.45             -    103.9      0         -     "
     ]
    },
    {
     "name": "stderr",
     "output_type": "stream",
     "text": [
      "┌ Info: Breaking out of strong branching as the time limit of 100.0 seconds got reached.\n",
      "└ @ Juniper C:\\Users\\Оля\\.julia\\packages\\Juniper\\atNbZ\\src\\bb_strategies.jl:237\n"
     ]
    },
    {
     "name": "stdout",
     "output_type": "stream",
     "text": [
      "\n",
      "    3       3                 -                        96636.68             -    109.0      -       74.9%   \n",
      "    4       3                 -                        96639.75             -    111.8      -       76.6%   \n",
      "    5       4                 -                        96640.12             -    115.9      -       82.0%   \n",
      "    6       4                 -                        96640.3              -    119.7      -       77.3%   \n",
      "    7       4                 -                        96643.45             -    123.7      -       77.3%   \n",
      "    8       4                 -                        96643.68             -    126.6      -       82.6%   \n",
      "    9       5                 -                        96643.82             -    130.8      -       76.3%   \n",
      "   10       5                 -                        96643.99             -    134.6      -       77.3%   \n",
      "   11       5                 -                        96644.47             -    139.0      -       75.9%   \n",
      "   12       5                 -                        96647.03             -    143.1      -       77.0%   \n",
      "   13       5                 -                        96647.13             -    146.5      -       76.5%   \n",
      "   14       5                 -                        96647.38             -    150.2      -       77.1%   \n",
      "   15       6                 -                        96647.5              -    154.4      -       76.1%   \n",
      "   16       5                 -                        96647.63             -    157.9      -       77.1%   \n",
      "   17       6                 -                        96647.67             -    161.7      -       76.2%   \n",
      "   18       6                 -                        96648.0              -    165.6      -       77.1%   \n",
      "   19       6                 -                        96648.15             -    169.7      -       76.2%   \n",
      "   20       6                 -                        96648.18             -    174.1      -       77.2%   \n",
      "   21       6                 -                        96648.52             -    179.0      -       76.3%   \n",
      "   22       6                 -                        96650.69             -    183.7      -       77.2%   \n",
      "   23       6                 -                        96650.8              -    188.1      -       76.3%   \n",
      "   24       6                 -                        96651.03             -    191.9      -       77.2%   \n",
      "   25       6                 -                        96651.08             -    197.0      -       76.3%   \n",
      "   26       5                 -                        96651.11             -    200.6      -       77.3%   \n",
      "   27       7                 -                        96651.16             -    206.1      -       76.4%   \n",
      "   28       6                 -                        96651.28             -    210.0      -       77.3%   \n",
      "   29       7                 -                        96651.31             -    214.7      -       76.4%   \n",
      "   30       6                 -                        96651.32             -    218.8      -       77.3%   \n",
      "   31       6                 -                        96651.44             -    223.3      -       76.5%   \n",
      "   32       7                 -                        96651.57             -    227.2      -       77.4%   \n",
      "   33       7                 -                        96651.64             -    231.4      -       76.5%   \n",
      "   34       6                 -                        96651.7              -    234.3      -       77.4%   \n",
      "   35       7                 -                        96651.74             -    238.6      -       76.5%   \n",
      "   36       7                 -                        96651.79             -    242.6      -       63.9%   \n",
      "   37       7                 -                        96651.81             -    246.6      -       77.5%   \n",
      "   38       7                 -                        96652.08             -    251.2      -       76.6%   \n",
      "   39       7                 -                        96652.15             -    256.9      -       77.5%   \n",
      "   40       7                 -                        96652.22             -    260.8      -       76.6%   \n",
      "   41       7                 -                        96652.26             -    265.0      -       77.5%   \n",
      "   42       7                 -                        96652.61             -    272.9      -       76.7%   \n",
      "   43       8                 -                        96654.21             -    280.3      -       77.6%   \n",
      "   44       8                 -                        96654.24             -    288.1      -       76.7%   \n",
      "   45       7                 -                        96654.31             -    293.8      -       77.6%   \n",
      "   46       7                 -                        96654.42             -    297.5      -       76.7%   \n",
      "   47       7                 -                        96654.65             -    301.6      -       77.6%   \n",
      "   48       7                 -                        96654.7              -    305.5      -       76.8%   \n",
      "   49       6                 -                        96654.71             -    309.3      -       77.7%   \n",
      "   50       8                 -                        96654.76             -    313.3      -       76.8%   \n",
      "   51       7                 -                        96654.78             -    318.6      -       77.7%   \n",
      "   52       7                 -                        96654.87             -    321.7      -       76.9%   \n",
      "   53       7                 -                        96654.89             -    325.7      -       97.0%   \n",
      "   54       8                 -                        96654.91             -    330.1      -       77.8%   \n",
      "   55       7                 -                        96654.91             -    334.6      -       88.0%   \n",
      "   56       7                 -                        96655.03             -    338.8      -       93.7%   \n",
      "   57       7                 -                        96655.13             -    343.2      -       95.9%   \n",
      "   58       8                 -                        96655.14             -    347.1      -       76.9%   \n",
      "   59       7                 -                        96655.18             -    351.8      -       77.8%   \n",
      "   60       8                 -                        96655.22             -    355.8      -       77.0%   \n",
      "   61       6                 -                        96655.22             -    359.3      -       91.0%   \n",
      "   62       7                 -                        96655.27             -    362.6      -       77.8%   \n",
      "   63       8                 -                        96655.27             -    367.2      -       77.0%   \n",
      "   64       8                 -                        96655.29             -    370.4      -       77.9%   \n",
      "   65       8                 -                        96655.3              -    375.3      -       77.0%   \n",
      "   66       8                 -                        96655.36             -    379.8      -       77.9%   \n",
      "   67       7                 -                        96655.39             -    384.5      -       77.1%   \n",
      "   68       8                 -                        96655.39             -    388.1      -       78.0%   \n",
      "   69       8                 -                        96655.43             -    392.6      -       77.1%   \n",
      "   70       7                 -                        96655.44             -    395.9      -       78.0%   \n",
      "   71       7                 -                        96655.56             -    399.6      -       77.2%   \n",
      "   72       8                 -                        96655.63             -    403.7      -       78.0%   \n",
      "   73       8                 -                        96655.69             -    408.7      -       77.2%   \n",
      "   74       8                 -                        96655.7              -    413.1      -       78.1%   \n",
      "   75       8                 -                        96655.77             -    417.4      -       77.3%   \n",
      "   76       8                 -                        96655.77             -    421.5      -       78.1%   \n",
      "   77       8                 -                        96655.8              -    425.7      -       77.3%   \n",
      "   78       7                 -                        96655.83             -    428.9      -       78.2%   \n",
      "   79       8                 -                        96655.87             -    432.7      -       77.3%   \n",
      "   80       8                 -                        96655.95             -    437.1      -       78.2%   \n",
      "   81       8                 -                        96656.15             -    441.2      -       77.4%   \n",
      "   82       8                 -                        96656.22             -    445.1      -       78.3%   \n",
      "   83       8                 -                        96656.3              -    449.1      -       77.4%   \n",
      "   84       8                 -                        96656.37             -    453.1      -       78.3%   \n",
      "   85       8                 -                        96656.42             -    457.4      -       77.5%   \n",
      "   86       8                 -                        96656.76             -    461.7      -       78.3%   \n",
      "   87       9                 -                        96657.74             -    465.8      -       77.5%   \n",
      "   88       9                 -                        96657.77             -    469.7      -       78.4%   \n",
      "   89       8                 -                        96657.83             -    473.9      -       77.6%   \n",
      "   90       8                 -                        96657.94             -    478.9      -       78.4%   \n",
      "   91       8                 -                        96658.16             -    483.7      -       77.6%   \n",
      "   92       7                 -                        96658.16             -    487.1      -       78.5%   \n",
      "   93       8                 -                        96658.21             -    492.6      -       77.7%   \n",
      "   94       7                 -                        96658.21             -    496.5      -       78.5%   \n",
      "   95       9                 -                        96658.26             -    501.2      -       77.7%   \n",
      "   96       8                 -                        96658.27             -    505.8      -       78.6%   \n",
      "   97       8                 -                        96658.33             -    510.7      -       77.8%   \n",
      "   98       8                 -                        96658.35             -    514.8      -       78.6%   \n",
      "   99       8                 -                        96658.36             -    519.1      -       77.8%   \n",
      "   100      9                 -                        96658.37             -    524.2      -       78.6%   \n",
      "   101      9                 -                        96658.39             -    528.7      -       77.9%   \n",
      "   102      9                 -                        96658.41             -    532.8      -       78.7%   \n",
      "   103      8                 -                        96658.48             -    537.1      -       77.9%   \n",
      "   104      8                 -                        96658.59             -    540.9      -       78.7%   \n",
      "   105      9                 -                        96658.62             -    545.1      -       77.9%   \n",
      "   106      8                 -                        96658.65             -    548.9      -       78.8%   \n",
      "   107      9                 -                        96658.69             -    553.3      -       78.0%   \n",
      "   108      8                 -                        96658.73             -    557.6      -       78.8%   \n",
      "   109      9                 -                        96658.73             -    561.7      -       78.0%   \n",
      "   110      9                 -                        96658.74             -    565.6      -       78.9%   \n",
      "   111      9                 -                        96658.75             -    569.5      -       78.1%   \n",
      "   112      9                 -                        96658.8              -    573.6      -       78.9%   \n",
      "   113      9                 -                        96658.82             -    577.5      -       78.1%   \n",
      "   114      8                 -                        96658.82             -    581.0      -       79.0%   \n",
      "   115      8                 -                        96658.83             -    584.8      -       78.2%   \n",
      "   116      9                 -                        96658.86             -    588.8      -       79.0%   \n",
      "   117      8                 -                        96658.86             -    592.8      -       78.2%   \n",
      "   118      8                 -                        96658.87             -    596.7      -       79.0%   \n",
      "   119      7                 -                        96658.9              -    600.6      -       78.3%   \n",
      "   120      9                 -                        96658.95             -    604.7      -       79.1%   \n",
      "   121      8                 -                        96658.98             -    608.6      -       78.3%   \n",
      "   122      8                 -                        96658.98             -    611.6      -       62.9%   \n",
      "   123      9                 -                        96659.04             -    616.1      -       79.1%   \n",
      "   124      8                 -                        96659.06             -    619.1      -       78.4%   \n",
      "   125      9                 -                        96659.1              -    623.2      -       60.6%   \n",
      "   126      9                 -                        96659.1              -    627.2      -       79.2%   \n",
      "   127      9                 -                        96659.11             -    631.8      -       78.4%   \n",
      "   128      9                 -                        96659.16             -    636.2      -       79.2%   \n",
      "   129      9                 -                        96659.17             -    640.2      -       78.5%   \n",
      "   130      9                 -                        96659.19             -    644.2      -       60.2%   \n",
      "   131      8                 -                        96659.21             -    648.0      -       78.9%   \n",
      "   132      9                 -                        96659.25             -    652.3      -       78.7%   \n",
      "   133      9                 -                        96659.32             -    656.2      -       60.3%   \n",
      "   134      9                 -                        96659.34             -    660.0      -       79.0%   \n",
      "   135      8                 -                        96659.39             -    664.1      -       78.5%   \n",
      "   136      9                 -                        96659.42             -    667.7      -       60.4%   \n",
      "   137      8                 -                        96659.48             -    671.3      -       79.3%   \n",
      "   138      9                 -                        96659.48             -    675.7      -       78.6%   \n",
      "   139      9                 -                        96659.51             -    679.6      -       60.5%   \n",
      "   140      9                 -                        96659.51             -    683.9      -       79.3%   \n",
      "   141      9                 -                        96659.53             -    688.4      -       78.7%   \n",
      "   142      9                 -                        96659.58             -    692.3      -       60.6%   \n",
      "   143      9                 -                        96659.6              -    696.3      -       79.4%   \n",
      "   144      8                 -                        96659.62             -    699.9      -       78.7%   \n",
      "   145      9                 -                        96659.63             -    703.6      -       60.7%   \n",
      "   146      9                 -                        96659.66             -    707.7      -       79.4%   \n",
      "   147      9                 -                        96659.67             -    711.9      -       78.8%   \n",
      "   148      8                 -                        96659.69             -    714.8      -       60.7%   \n",
      "   149      9                 -                        96659.72             -    719.5      -       79.5%   \n",
      "   150      9                 -                        96659.76             -    723.4      -       78.8%   \n",
      "   151      8                 -                        96659.81             -    727.1      -       60.8%   \n",
      "   152      9                 -                        96659.89             -    730.9      -       79.5%   \n"
     ]
    },
    {
     "name": "stdout",
     "output_type": "stream",
     "text": [
      "   153      9                 -                        96659.95             -    735.5      -       78.9%   \n",
      "   154      9                 -                        96659.96             -    739.8      -       79.6%   \n",
      "   155      9                 -                        96660.03             -    744.0      -       78.9%   \n",
      "   156      9                 -                        96660.04             -    748.2      -       60.9%   \n",
      "   157      9                 -                        96660.07             -    752.2      -       93.8%   \n"
     ]
    },
    {
     "name": "stderr",
     "output_type": "stream",
     "text": [
      "┌ Warning: Only almost solved\n",
      "└ @ Juniper C:\\Users\\Оля\\.julia\\packages\\Juniper\\atNbZ\\src\\BnBTree.jl:89\n"
     ]
    },
    {
     "name": "stdout",
     "output_type": "stream",
     "text": [
      "   158      9                 -                        96660.1              -    756.7      -       88.1%   \n",
      "   159      8                 -                        96660.11             -    760.0      -       92.0%   \n",
      "   160      9                 -                        96660.15             -    763.8      -       79.6%   \n",
      "   161      9                 -                        96660.23             -    768.3      -       79.0%   \n",
      "   162      9                 -                        96660.43             -    772.3      -       61.0%   \n",
      "   163      9                 -                        96660.51             -    777.1      -       79.7%   \n",
      "   164      9                 -                        96660.6              -    782.4      -       79.0%   \n",
      "   165      9                 -                        96660.62             -    786.4      -       61.1%   \n",
      "   166      9                 -                        96660.67             -    791.0      -       79.7%   \n",
      "   167      10                -                        96660.69             -    795.9      -       79.1%   \n",
      "   168      9                 -                        96660.72             -    801.0      -       61.2%   \n",
      "   169      10                -                        96660.77             -    805.6      -       79.8%   \n",
      "   170      10                -                        96660.89             -    810.0      -       79.1%   \n",
      "   171      10                -                        96660.99             -    815.0      -       61.3%   \n",
      "   172      10                -                        96661.07             -    819.1      -       79.8%   \n",
      "   173      9                 -                        96661.07             -    823.8      -       79.2%   \n",
      "   174      10                -                        96661.07             -    828.2      -       61.4%   \n",
      "   175      10                -                        96661.1              -    832.6      -       79.9%   \n",
      "   176      10                -                        96661.13             -    836.3      -       79.2%   \n",
      "   177      9                 -                        96661.16             -    840.5      -       61.5%   \n",
      "   178      10                -                        96661.18             -    843.9      -       79.9%   \n",
      "   179      10                -                        96661.22             -    848.9      -       79.3%   \n",
      "   180      9                 -                        96661.23             -    851.9      -       61.6%   \n",
      "   181      10                -                        96661.25             -    856.0      -       79.9%   \n",
      "   182      9                 -                        96661.25             -    859.6      -       79.4%   \n",
      "   183      9                 -                        96661.26             -    862.8      -       61.7%   \n",
      "   184      9                 -                        96661.34             -    866.4      -       80.0%   \n",
      "   185      8                 -                        96661.46             -    869.9      -       79.4%   \n",
      "   186      9                 -                        96661.47             -    873.2      -       61.8%   \n",
      "   187      8                 -                        96661.51             -    877.3      -       80.1%   \n",
      "   188      9                 -                        96661.51             -    881.4      -       79.5%   \n",
      "   189      10                -                        96661.56             -    885.7      -       61.9%   \n",
      "   190      9                 -                        96661.56             -    889.8      -       80.1%   \n",
      "   191      10                -                        96661.57             -    894.4      -       79.5%   \n",
      "   192      10                -                        96661.58             -    898.3      -       80.2%   \n",
      "   193      10                -                        96661.6              -    902.3      -       79.6%   \n",
      "   194      9                 -                        96661.62             -    906.0      -       62.0%   \n",
      "   195      9                 -                        96661.63             -    909.9      -       94.0%   \n",
      "   196      10                -                        96661.63             -    914.0      -       80.2%   \n",
      "   197      9                 -                        96661.63             -    917.7      -       79.6%   \n",
      "   198      10                -                        96661.65             -    921.7      -       62.1%   \n",
      "   199      10                -                        96661.66             -    926.2      -       80.3%   \n",
      "   200      9                 -                        96661.71             -    929.6      -       79.7%   \n",
      "   201      10                -                        96661.74             -    933.3      -       62.2%   \n",
      "   202      9                 -                        96661.74             -    937.3      -       80.3%   \n",
      "   203      9                 -                        96661.83             -    941.5      -       79.7%   \n",
      "   204      10                -                        96661.85             -    945.0      -       62.3%   \n",
      "   205      10                -                        96661.86             -    949.2      -       80.4%   \n",
      "   206      9                 -                        96661.88             -    953.2      -       79.8%   \n",
      "   207      10                -                        96661.91             -    958.1      -       62.4%   \n",
      "   208      10                -                        96661.94             -    961.5      -       80.4%   \n",
      "   209      10                -                        96661.94             -    965.3      -       79.8%   \n",
      "   210      9                 -                        96661.94             -    968.4      -       62.5%   \n",
      "   211      10                -                        96661.94             -    972.9      -       80.5%   \n",
      "   212      10                -                        96661.95             -    977.2      -       79.9%   \n",
      "   213      10                -                        96661.96             -    981.3      -       62.6%   \n",
      "   214      10                -                        96662.0              -    985.6      -       80.5%   \n",
      "   215      9                 -                        96662.01             -    989.7      -       79.9%   \n",
      "   216      10                -                        96662.01             -    993.6      -       62.7%   \n",
      "   217      9                 -                        96662.01             -    997.1      -       59.1%   \n",
      "   218      10                -                        96662.02             -    1001.0     -       80.6%   \n",
      "   219      10                -                        96662.03             -    1005.4     -       80.0%   \n",
      "   220      9                 -                        96662.04             -    1008.5     -       62.8%   \n",
      "   221      9                 -                        96662.04             -    1012.6     -       80.6%   \n",
      "   222      10                -                        96662.05             -    1016.8     -       80.0%   \n",
      "   223      8                 -                        96662.06             -    1020.5     -       62.9%   \n",
      "   224      10                -                        96662.07             -    1023.6     -       80.7%   \n",
      "   225      10                -                        96662.09             -    1028.0     -       80.1%   \n",
      "   226      10                -                        96662.1              -    1031.9     -       63.0%   \n",
      "   227      10                -                        96662.13             -    1036.4     -       80.7%   \n",
      "   228      9                 -                        96662.13             -    1040.4     -       80.2%   \n",
      "   229      9                 -                        96662.13             -    1043.5     -       63.1%   \n",
      "   230      9                 -                        96662.15             -    1047.4     -       80.8%   \n",
      "   231      10                -                        96662.18             -    1051.6     -       80.2%   \n",
      "   232      9                 -                        96662.2              -    1055.6     -       89.1%   \n",
      "   233      10                -                        96662.22             -    1059.9     -       63.2%   \n",
      "   234      9                 -                        96662.23             -    1063.6     -       80.8%   \n",
      "   235      10                -                        96662.23             -    1068.2     -       80.3%   \n",
      "   236      10                -                        96662.24             -    1072.4     -       63.3%   \n",
      "   237      9                 -                        96662.26             -    1076.4     -       80.9%   \n",
      "   238      10                -                        96662.26             -    1081.3     -       80.3%   \n",
      "   239      9                 -                        96662.26             -    1086.3     -       63.4%   \n",
      "   240      10                -                        96662.28             -    1091.8     -       90.6%   \n",
      "   241      10                -                        96662.28             -    1097.0     -       80.9%   \n",
      "   242      10                -                        96662.42             -    1102.4     -       80.4%   \n",
      "   243      9                 -                        96662.47             -    1107.0     -       63.5%   \n",
      "   244      9                 -                        96662.48             -    1110.6     -       81.0%   \n",
      "   245      11                -                        96662.49             -    1115.0     -       80.4%   \n",
      "   246      10                -                        96662.49             -    1120.1     -       63.6%   \n",
      "   247      8                 -                        96662.49             -    1123.4     -       81.0%   \n",
      "   248      9                 -                        96662.54             -    1127.6     -       80.5%   \n",
      "   249      9                 -                        96662.55             -    1131.3     -       63.7%   \n",
      "   250      10                -                        96662.55             -    1135.5     -       81.1%   \n",
      "   251      8                 -                        96662.56             -    1138.7     -       80.5%   \n",
      "   252      11                -                        96662.57             -    1142.9     -       63.8%   \n",
      "   253      10                -                        96662.57             -    1147.1     -       73.3%   \n",
      "   254      10                -                        96662.58             -    1151.5     -       81.1%   \n",
      "   255      10                -                        96662.61             -    1155.9     -       80.6%   \n",
      "   256      9                 -                        96662.62             -    1159.9     -       63.9%   \n",
      "   257      10                -                        96662.64             -    1164.3     -       81.2%   \n",
      "   258      10                -                        96662.64             -    1168.6     -       80.7%   \n",
      "   259      9                 -                        96662.67             -    1172.5     -       64.0%   \n",
      "   260      9                 -                        96662.68             -    1175.9     -       81.2%   \n",
      "   261      10                -                        96662.69             -    1180.6     -       80.7%   \n",
      "   262      10                -                        96662.7              -    1184.8     -       64.1%   \n",
      "   263      10                -                        96662.71             -    1187.9     -       81.3%   \n",
      "   264      9                 -                        96662.71             -    1191.6     -       80.8%   \n",
      "   265      9                 -                        96662.72             -    1195.8     -       64.2%   \n",
      "   266      10                -                        96662.73             -    1200.0     -       81.3%   \n",
      "   267      10                -                        96662.74             -    1204.2     -       80.8%   \n",
      "   268      10                -                        96662.74             -    1208.1     -       64.3%   \n",
      "   269      10                -                        96662.76             -    1212.6     -       81.4%   \n",
      "   270      10                -                        96662.78             -    1216.3     -       80.9%   \n",
      "   271      10                -                        96662.78             -    1220.5     -       64.3%   \n",
      "   272      10                -                        96662.79             -    1224.4     -       81.4%   \n",
      "   273      9                 -                        96662.86             -    1228.8     -       80.9%   \n",
      "   274      10                -                        96662.89             -    1232.8     -       64.4%   \n",
      "   275      10                -                        96662.9              -    1236.8     -       81.5%   \n",
      "   276      10                -                        96662.94             -    1240.5     -       81.0%   \n",
      "   277      10                -                        96662.96             -    1245.2     -       64.5%   \n",
      "   278      10                -                        96662.96             -    1249.3     -       81.5%   \n",
      "   279      9                 -                        96662.97             -    1253.3     -       81.0%   \n",
      "   280      10                -                        96663.01             -    1257.0     -       64.6%   \n",
      "   281      11                -                        96663.02             -    1261.8     -       81.6%   \n",
      "   282      10                -                        96663.03             -    1265.8     -       81.1%   \n",
      "   283      9                 -                        96663.04             -    1269.9     -       64.7%   \n",
      "   284      10                -                        96663.07             -    1273.7     -       81.6%   \n",
      "   285      10                -                        96663.08             -    1279.5     -       81.2%   \n",
      "   286      10                -                        96663.08             -    1282.8     -       64.8%   \n",
      "   287      11                -                        96663.1              -    1287.2     -       81.7%   \n",
      "   288      9                 -                        96663.13             -    1290.9     -       81.2%   \n",
      "   289      10                -                        96663.13             -    1295.2     -       64.9%   \n",
      "   290      10                -                        96663.14             -    1299.2     -       81.8%   \n",
      "   291      10                -                        96663.14             -    1303.5     -       81.3%   \n",
      "   292      10                -                        96663.14             -    1307.8     -       93.7%   \n"
     ]
    },
    {
     "name": "stderr",
     "output_type": "stream",
     "text": [
      "┌ Warning: Only almost solved\n",
      "└ @ Juniper C:\\Users\\Оля\\.julia\\packages\\Juniper\\atNbZ\\src\\BnBTree.jl:89\n"
     ]
    },
    {
     "name": "stdout",
     "output_type": "stream",
     "text": [
      "   293      11                -                        96663.16             -    1313.5     -       65.1%   \n",
      "   294      10                -                        96663.16             -    1317.2     -       81.8%   \n",
      "   295      11                -                        96663.18             -    1321.1     -       81.3%   \n",
      "   296      10                -                        96663.19             -    1325.5     -       65.1%   \n",
      "   297      10                -                        96663.22             -    1329.6     -       81.9%   \n",
      "   298      10                -                        96663.22             -    1333.5     -       81.4%   \n",
      "   299      10                -                        96663.24             -    1337.7     -       65.2%   \n",
      "   300      9                 -                        96663.25             -    1341.3     -       81.9%   \n",
      "   301      9                 -                        96663.26             -    1344.9     -       81.4%   \n",
      "   302      11                -                        96663.28             -    1348.7     -       65.3%   \n",
      "   303      10                -                        96663.29             -    1352.8     -       82.0%   \n",
      "   304      9                 -                        96663.3              -    1356.8     -       81.5%   \n",
      "   305      9                 -                        96663.32             -    1361.0     -       65.4%   \n",
      "   306      11                -                        96663.34             -    1365.5     -       94.7%   \n",
      "   307      8                 -                        96663.34             -    1368.6     -       60.2%   \n",
      "   308      10                -                        96663.36             -    1372.2     -       82.0%   \n",
      "   309      11                -                        96663.37             -    1377.3     -       81.6%   \n",
      "   310      10                -                        96663.4              -    1382.1     -       65.5%   \n",
      "   311      11                -                        96663.42             -    1386.8     -       82.1%   \n",
      "   312      9                 -                        96663.43             -    1391.7     -       81.6%   \n",
      "   313      10                -                        96663.44             -    1396.6     -       65.6%   \n",
      "   314      9                 -                        96663.46             -    1401.0     -       82.1%   \n",
      "   315      11                -                        96663.46             -    1406.2     -       81.7%   \n",
      "   316      11                -                        96663.49             -    1411.2     -       65.7%   \n",
      "   317      10                -                        96663.49             -    1415.7     -       82.2%   \n",
      "   318      10                -                        96663.51             -    1421.0     -       81.7%   \n",
      "   319      10                -                        96663.51             -    1424.3     -       64.5%   \n",
      "   320      9                 -                        96663.52             -    1427.8     -       82.7%   \n",
      "   321      11                -                        96663.55             -    1432.2     -       81.7%   \n",
      "   322      10                -                        96663.57             -    1436.4     -       64.6%   \n",
      "   323      10                -                        96663.57             -    1440.9     -       82.7%   \n",
      "   324      10                -                        96663.58             -    1444.9     -       81.9%   \n",
      "   325      11                -                        96663.6              -    1449.1     -       65.8%   \n",
      "   326      11                -                        96663.6              -    1453.7     -       82.5%   \n",
      "   327      10                -                        96663.63             -    1457.3     -       81.9%   \n",
      "   328      10                -                        96663.64             -    1461.3     -       65.9%   \n",
      "   329      10                -                        96663.64             -    1465.5     -       66.0%   \n",
      "   330      10                -                        96663.64             -    1469.9     -       82.5%   \n",
      "   331      10                -                        96663.64             -    1474.0     -       82.0%   \n",
      "   332      11                -                        96663.65             -    1478.1     -       66.1%   \n",
      "   333      9                 -                        96663.7              -    1481.5     -       82.6%   \n",
      "   334      10                -                        96663.71             -    1486.1     -       82.0%   \n",
      "   335      10                -                        96663.72             -    1489.6     -       61.7%   \n",
      "   336      11                -                        96663.72             -    1493.3     -       66.2%   \n",
      "   337      10                -                        96663.74             -    1497.4     -       82.6%   \n",
      "   338      10                -                        96663.75             -    1502.0     -       82.1%   \n",
      "   339      9                 -                        96663.76             -    1506.1     -       66.3%   \n",
      "   340      10                -                        96663.83             -    1510.1     -       82.7%   \n",
      "   341      11                -                        96663.84             -    1514.4     -       82.1%   \n",
      "   342      11                -                        96663.84             -    1519.0     -       66.4%   \n",
      "   343      10                -                        96663.89             -    1523.0     -       82.7%   \n",
      "   344      12                -                        96663.9              -    1527.3     -       82.2%   \n",
      "   345      10                -                        96663.95             -    1531.5     -       66.5%   \n",
      "   346      9                 -                        96663.97             -    1535.0     -       82.8%   \n",
      "   347      10                -                        96663.97             -    1539.4     -       82.3%   \n",
      "   348      10                -                        96663.97             -    1543.0     -       66.6%   \n",
      "   349      10                -                        96663.99             -    1547.0     -       82.8%   \n",
      "   350      11                -                        96664.01             -    1551.0     -       82.3%   \n",
      "   351      10                -                        96664.01             -    1555.3     -       66.6%   \n",
      "   352      10                -                        96664.01             -    1559.2     -       82.9%   \n",
      "   353      11                -                        96664.02             -    1563.9     -       82.4%   \n",
      "   354      10                -                        96664.02             -    1568.3     -       66.7%   \n",
      "   355      11                -                        96664.03             -    1572.7     -       82.9%   \n",
      "   356      10                -                        96664.03             -    1576.6     -       82.4%   \n",
      "   357      11                -                        96664.05             -    1581.2     -       66.8%   \n",
      "   358      11                -                        96664.06             -    1585.1     -       83.0%   \n",
      "   359      11                -                        96664.06             -    1589.3     -       82.5%   \n",
      "   360      11                -                        96664.08             -    1593.2     -       66.9%   \n",
      "   361      11                -                        96664.09             -    1597.1     -       83.1%   \n",
      "   362      10                -                        96664.1              -    1601.2     -       82.5%   \n",
      "   363      10                -                        96664.12             -    1604.9     -       67.0%   \n",
      "   364      9                 -                        96664.12             -    1608.5     -       83.1%   \n",
      "   365      11                -                        96664.14             -    1613.3     -       82.6%   \n",
      "   366      11                -                        96664.15             -    1618.4     -       67.1%   \n",
      "   367      10                -                        96664.16             -    1622.2     -       83.2%   \n",
      "   368      11                -                        96664.16             -    1626.1     -       82.7%   \n",
      "   369      10                -                        96664.17             -    1630.6     -       67.2%   \n",
      "   370      10                -                        96664.18             -    1634.7     -       83.2%   \n",
      "   371      11                -                        96664.18             -    1639.1     -       82.7%   \n",
      "   372      10                -                        96664.23             -    1642.7     -       67.3%   \n",
      "   373      10                -                        96664.24             -    1647.2     -       67.4%   \n",
      "   374      11                -                        96664.24             -    1651.4     -       83.3%   \n",
      "   375      11                -                        96664.25             -    1655.2     -       82.8%   \n",
      "   376      11                -                        96664.28             -    1659.1     -       67.5%   \n",
      "   377      10                -                        96664.28             -    1664.1     -       90.5%   \n",
      "   378      10                -                        96664.32             -    1668.1     -       83.3%   \n",
      "   379      11                -                        96664.34             -    1672.1     -       82.8%   \n",
      "   380      9                 -                        96664.36             -    1676.2     -       67.6%   \n",
      "   381      11                -                        96664.37             -    1681.2     -       83.4%   \n",
      "   382      11                -                        96664.39             -    1686.0     -       82.9%   \n",
      "   383      9                 -                        96664.39             -    1690.1     -       67.7%   \n",
      "   384      10                -                        96664.39             -    1695.7     -       83.4%   \n",
      "   385      12                -                        96664.42             -    1700.6     -       82.9%   \n",
      "   386      10                -                        96664.42             -    1705.1     -       67.8%   \n",
      "   387      10                -                        96664.43             -    1710.9     -       83.5%   \n",
      "   388      11                -                        96664.43             -    1715.8     -       83.0%   \n",
      "   389      11                -                        96664.43             -    1720.6     -       67.9%   \n",
      "   390      11                -                        96664.44             -    1725.2     -       83.6%   \n",
      "   391      11                -                        96664.44             -    1729.4     -       83.1%   \n",
      "   392      11                -                        96664.46             -    1733.1     -       68.0%   \n",
      "   393      10                -                        96664.47             -    1736.9     -       83.6%   \n",
      "   394      11                -                        96664.48             -    1741.5     -       83.1%   \n",
      "   395      11                -                        96664.48             -    1745.5     -       68.1%   \n",
      "   396      10                -                        96664.48             -    1749.2     -       83.7%   \n",
      "   397      10                -                        96664.48             -    1753.1     -       83.2%   \n",
      "   398      11                -                        96664.49             -    1758.0     -       68.2%   \n",
      "   399      11                -                        96664.49             -    1762.3     -       83.7%   \n",
      "   400      10                -                        96664.5              -    1766.3     -       83.3%   \n",
      "   401      12                -                        96664.51             -    1770.3     -       68.3%   \n",
      "   402      11                -                        96664.52             -    1774.6     -       69.1%   \n",
      "   403      10                -                        96664.54             -    1778.5     -       83.8%   \n",
      "   404      10                -                        96664.54             -    1782.5     -       83.3%   \n",
      "   405      11                -                        96664.55             -    1786.7     -       68.4%   \n",
      "   406      10                -                        96664.56             -    1791.2     -       83.8%   \n",
      "   407      11                -                        96664.56             -    1795.5     -       59.8%   \n",
      "   408      10                -                        96664.57             -    1799.6     -       83.4%   \n",
      "   409      10                -                        96664.58             -    1803.1     -       90.7%   \n",
      "   410      9                 -                        96664.61             -    1807.1     -       84.0%   \n",
      "   411      11                -                        96664.62             -    1811.7     -       68.4%   \n",
      "   412      11                -                        96664.64             -    1815.5     -       68.5%   \n",
      "   413      11                -                        96664.65             -    1819.9     -       83.9%   \n",
      "   414      10                -                        96664.65             -    1824.0     -       83.4%   \n",
      "   415      9                 -                        96664.65             -    1827.5     -       84.1%   \n",
      "   416      11                -                        96664.65             -    1831.9     -       68.6%   \n",
      "   417      11                -                        96664.67             -    1836.2     -       88.6%   \n",
      "   418      10                -                        96664.69             -    1840.4     -       83.9%   \n",
      "   419      10                -                        96664.69             -    1843.9     -       83.5%   \n",
      "   420      12                -                        96664.69             -    1848.1     -       84.4%   \n",
      "   421      10                -                        96664.69             -    1852.6     -       68.7%   \n",
      "   422      10                -                        96664.72             -    1856.8     -       66.2%   \n",
      "   423      11                -                        96664.73             -    1861.1     -       84.2%   \n",
      "   424      11                -                        96664.73             -    1864.9     -       84.0%   \n",
      "   425      11                -                        96664.73             -    1869.5     -       83.5%   \n",
      "   426      11                -                        96664.74             -    1873.5     -       84.2%   \n",
      "   427      11                -                        96664.76             -    1878.2     -       90.5%   \n",
      "   428      11                -                        96664.77             -    1882.7     -       68.8%   \n",
      "   429      11                -                        96664.78             -    1886.9     -       84.0%   \n",
      "   430      12                -                        96664.78             -    1890.8     -       83.6%   \n",
      "   431      10                -                        96664.78             -    1895.0     -       84.5%   \n",
      "   432      10                -                        96664.78             -    1898.7     -       68.9%   \n",
      "   433      10                -                        96664.78             -    1903.5     -       84.5%   \n",
      "   434      11                -                        96664.79             -    1907.5     -       84.3%   \n",
      "   435      11                -                        96664.79             -    1911.7     -       84.1%   \n",
      "   436      11                -                        96664.79             -    1916.1     -       83.7%   \n",
      "   437      11                -                        96664.8              -    1921.0     -       84.3%   \n",
      "   438      11                -                        96664.8              -    1926.5     -       69.0%   \n",
      "   439      11                -                        96664.81             -    1931.8     -       84.3%   \n",
      "   440      12                -                        96664.81             -    1938.6     -       84.2%   \n",
      "   441      11                -                        96664.81             -    1944.3     -       83.7%   \n",
      "   442      11                -                        96664.83             -    1948.9     -       84.4%   \n"
     ]
    },
    {
     "name": "stdout",
     "output_type": "stream",
     "text": [
      "   443      10                -                        96664.84             -    1953.0     -       69.1%   \n",
      "   444      11                -                        96664.85             -    1957.7     -       84.4%   \n",
      "   445      10                -                        96664.85             -    1962.7     -       84.2%   \n",
      "   446      10                -                        96664.86             -    1968.4     -       83.8%   \n",
      "   447      12                -                        96664.88             -    1973.3     -       69.2%   \n",
      "   448      11                -                        96664.89             -    1978.4     -       75.1%   \n",
      "   449      10                -                        96664.91             -    1984.2     -       84.4%   \n",
      "   450      10                -                        96664.93             -    1988.0     -       84.4%   \n",
      "   451      11                -                        96664.93             -    1993.2     -       84.3%   \n",
      "   452      10                -                        96664.94             -    1998.0     -       83.8%   \n",
      "   453      11                -                        96664.95             -    2003.5     -       69.3%   \n",
      "   454      11                -                        96664.96             -    2008.3     -       84.5%   \n",
      "   455      12                -                        96664.99             -    2013.8     -       84.5%   \n",
      "   456      10                -                        96665.05             -    2018.6     -       84.3%   \n",
      "   457      10                -                        96665.07             -    2023.4     -       83.9%   \n",
      "   458      11                -                        96665.08             -    2027.6     -       69.4%   \n",
      "   459      12                -                        96665.08             -    2032.3     -       84.5%   \n",
      "   460      11                -                        96665.09             -    2036.5     -       93.3%   \n",
      "   461      11                -                        96665.1              -    2040.8     -       82.8%   \n",
      "   462      11                -                        96665.1              -    2045.2     -       69.5%   \n",
      "   463      11                -                        96665.13             -    2049.7     -       84.4%   \n",
      "   464      10                -                        96665.14             -    2052.8     -       84.0%   \n",
      "   465      11                -                        96665.14             -    2057.4     -       84.6%   \n",
      "   466      10                -                        96665.14             -    2061.4     -       69.6%   \n",
      "   467      9                 -                        96665.14             -    2065.0     -       84.6%   \n",
      "   468      12                -                        96665.15             -    2069.2     -       84.4%   \n",
      "   469      10                -                        96665.15             -    2073.3     -       84.0%   \n",
      "   470      12                -                        96665.16             -    2077.8     -       84.6%   \n",
      "   471      12                -                        96665.16             -    2082.2     -       69.7%   \n",
      "   472      12                -                        96665.19             -    2086.6     -       94.7%   \n",
      "   473      11                -                        96665.19             -    2090.8     -       84.5%   \n",
      "   474      10                -                        96665.19             -    2095.2     -       78.3%   \n",
      "   475      9                 -                        96665.19             -    2099.1     -       84.1%   \n",
      "   476      11                -                        96665.21             -    2103.6     -       69.7%   \n",
      "   477      10                -                        96665.22             -    2107.8     -       90.8%   \n",
      "   478      11                -                        96665.22             -    2111.5     -       84.7%   \n",
      "   479      11                -                        96665.23             -    2115.8     -       84.7%   \n",
      "   480      10                -                        96665.24             -    2119.8     -       84.7%   \n"
     ]
    },
    {
     "name": "stderr",
     "output_type": "stream",
     "text": [
      "┌ Warning: Only almost solved\n",
      "└ @ Juniper C:\\Users\\Оля\\.julia\\packages\\Juniper\\atNbZ\\src\\BnBTree.jl:89\n"
     ]
    },
    {
     "name": "stdout",
     "output_type": "stream",
     "text": [
      "   481      12                -                        96665.25             -    2125.2     -       84.6%   \n",
      "   482      11                -                        96665.25             -    2129.2     -       84.1%   \n",
      "   483      11                -                        96665.25             -    2133.7     -       69.8%   \n",
      "   484      11                -                        96665.25             -    2138.2     -       93.8%   \n",
      "   485      11                -                        96665.26             -    2142.9     -       84.8%   \n",
      "   486      10                -                        96665.27             -    2146.3     -       84.6%   \n",
      "   487      10                -                        96665.28             -    2150.0     -       84.2%   \n",
      "   488      11                -                        96665.29             -    2154.2     -       84.8%   \n",
      "   489      11                -                        96665.29             -    2158.5     -       69.9%   \n",
      "   490      10                -                        96665.3              -    2162.4     -       84.8%   \n",
      "   491      11                -                        96665.3              -    2166.6     -       84.7%   \n",
      "   492      11                -                        96665.3              -    2170.0     -       84.3%   \n",
      "   493      11                -                        96665.31             -    2175.0     -       84.8%   \n",
      "   494      11                -                        96665.31             -    2179.0     -       70.0%   \n",
      "   495      11                -                        96665.31             -    2183.1     -       84.9%   \n",
      "   496      11                -                        96665.32             -    2187.2     -       84.7%   \n",
      "   497      10                -                        96665.33             -    2191.3     -       84.3%   \n"
     ]
    },
    {
     "name": "stderr",
     "output_type": "stream",
     "text": [
      "┌ Warning: Only almost solved\n",
      "└ @ Juniper C:\\Users\\Оля\\.julia\\packages\\Juniper\\atNbZ\\src\\BnBTree.jl:89\n"
     ]
    },
    {
     "name": "stdout",
     "output_type": "stream",
     "text": [
      "   498      11                -                        96665.33             -    2195.8     -       70.2%   \n",
      "   499      11                -                        96665.33             -    2199.9     -       84.9%   \n",
      "   500      11                -                        96665.34             -    2204.6     -       85.1%   \n",
      "   501      12                -                        96665.36             -    2209.2     -       70.2%   \n",
      "   502      11                -                        96665.36             -    2213.2     -       84.8%   \n",
      "   503      11                -                        96665.4              -    2217.4     -       84.4%   \n",
      "   504      10                -                        96665.41             -    2222.1     -       85.0%   \n",
      "   505      10                -                        96665.42             -    2226.0     -       70.3%   \n",
      "   506      11                -                        96665.43             -    2229.9     -       85.0%   \n",
      "   507      10                -                        96665.45             -    2233.7     -       84.8%   \n",
      "   508      11                -                        96665.46             -    2238.1     -       84.4%   \n",
      "   509      11                -                        96665.47             -    2242.5     -       85.0%   \n",
      "   510      11                -                        96665.47             -    2246.5     -       70.4%   \n",
      "   511      12                -                        96665.48             -    2250.8     -       84.9%   \n",
      "   512      11                -                        96665.48             -    2255.3     -       84.5%   \n",
      "   513      10                -                        96665.49             -    2259.5     -       85.0%   \n",
      "   514      12                -                        96665.5              -    2264.1     -       70.5%   \n",
      "   515      11                -                        96665.51             -    2268.6     -       85.1%   \n",
      "   516      12                -                        96665.51             -    2272.3     -       84.9%   \n",
      "   517      12                -                        96665.52             -    2277.5     -       84.6%   \n",
      "   518      12                -                        96665.53             -    2282.8     -       93.3%   \n",
      "   519      13                -                        96665.54             -    2288.5     -       82.6%   \n",
      "   520      11                -                        96665.54             -    2293.6     -       70.6%   \n",
      "   521      12                -                        96665.56             -    2298.8     -       85.1%   \n",
      "   522      11                -                        96665.56             -    2303.7     -       85.0%   \n",
      "   523      11                -                        96665.57             -    2309.1     -       84.6%   \n",
      "   524      12                -                        96665.58             -    2313.9     -       85.2%   \n",
      "   525      11                -                        96665.59             -    2319.6     -       70.7%   \n",
      "   526      11                -                        96665.61             -    2324.2     -       85.2%   \n",
      "   527      10                -                        96665.61             -    2327.9     -       85.0%   \n",
      "   528      11                -                        96665.61             -    2331.8     -       84.7%   \n",
      "   529      11                -                        96665.62             -    2336.1     -       70.8%   \n",
      "   530      12                -                        96665.63             -    2340.3     -       85.2%   \n",
      "   531      12                -                        96665.63             -    2344.8     -       85.1%   \n",
      "   532      12                -                        96665.64             -    2348.8     -       84.7%   \n",
      "   533      11                -                        96665.64             -    2353.4     -       70.9%   \n",
      "   534      11                -                        96665.65             -    2356.6     -       85.3%   \n",
      "   535      12                -                        96665.65             -    2361.3     -       85.3%   \n",
      "   536      10                -                        96665.65             -    2365.5     -       85.1%   \n",
      "   537      11                -                        96665.67             -    2369.7     -       84.8%   \n",
      "   538      11                -                        96665.67             -    2373.9     -       70.9%   \n",
      "   539      10                -                        96665.68             -    2378.2     -       71.0%   \n",
      "   540      10                -                        96665.68             -    2382.4     -       85.3%   \n",
      "   541      11                -                        96665.69             -    2386.9     -       85.4%   \n",
      "   542      10                -                        96665.69             -    2390.6     -       85.2%   \n",
      "   543      11                -                        96665.69             -    2394.8     -       84.9%   \n",
      "   544      11                -                        96665.71             -    2399.4     -       85.4%   \n",
      "   545      11                -                        96665.72             -    2402.9     -       71.1%   \n",
      "   546      10                -                        96665.72             -    2406.2     -       85.3%   \n",
      "   547      11                -                        96665.72             -    2410.4     -       84.9%   \n",
      "   548      12                -                        96665.76             -    2415.2     -       61.6%   \n",
      "   549      11                -                        96665.76             -    2419.5     -       93.3%   \n",
      "   550      11                -                        96665.77             -    2423.5     -       83.0%   \n",
      "   551      11                -                        96665.77             -    2428.0     -       85.5%   \n",
      "   552      11                -                        96665.78             -    2431.4     -       85.7%   \n",
      "   553      12                -                        96665.78             -    2435.5     -       85.3%   \n",
      "   554      12                -                        96665.78             -    2439.7     -       85.0%   \n",
      "   555      11                -                        96665.8              -    2443.2     -       85.5%   \n",
      "   556      12                -                        96665.81             -    2447.7     -       61.7%   \n",
      "   557      12                -                        96665.81             -    2451.7     -       85.7%   \n"
     ]
    },
    {
     "name": "stderr",
     "output_type": "stream",
     "text": [
      "┌ Warning: Only almost solved\n",
      "└ @ Juniper C:\\Users\\Оля\\.julia\\packages\\Juniper\\atNbZ\\src\\BnBTree.jl:89\n"
     ]
    },
    {
     "name": "stdout",
     "output_type": "stream",
     "text": [
      "   558      11                -                        96665.82             -    2457.2     -       70.3%   \n",
      "   559      10                -                        96665.82             -    2461.8     -       89.7%   \n",
      "   560      10                -                        96665.83             -    2465.4     -       70.4%   \n",
      "   561      13                -                        96665.84             -    2470.0     -       85.6%   \n",
      "   562      12                -                        96665.84             -    2474.3     -       85.6%   \n",
      "   563      11                -                        96665.84             -    2480.5     -       70.4%   \n",
      "   564      11                -                        96665.85             -    2485.1     -       70.5%   \n",
      "   565      11                -                        96665.86             -    2489.3     -       85.7%   \n",
      "   566      11                -                        96665.86             -    2494.5     -       70.6%   \n",
      "   567      10                -                        96665.86             -    2498.5     -       70.7%   \n",
      "   568      11                -                        96665.87             -    2503.1     -       79.8%   \n",
      "   569      10                -                        96665.88             -    2507.1     -       70.8%   \n",
      "   570      11                -                        96665.9              -    2511.0     -       85.8%   \n",
      "   571      12                -                        96665.91             -    2515.7     -       70.9%   \n",
      "   572      11                -                        96665.93             -    2520.0     -       85.8%   \n",
      "   573      11                -                        96665.93             -    2524.9     -       85.6%   \n",
      "   574      12                -                        96665.94             -    2528.9     -       85.8%   \n",
      "   575      12                -                        96665.95             -    2533.6     -       71.0%   \n",
      "   576      10                -                        96665.96             -    2537.4     -       85.9%   \n",
      "   577      11                -                        96665.97             -    2541.8     -       71.1%   \n",
      "   578      11                -                        96665.97             -    2546.1     -       85.9%   \n",
      "   579      11                -                        96665.97             -    2550.4     -       85.9%   \n",
      "   580      10                -                        96665.98             -    2553.9     -       85.8%   \n",
      "   581      10                -                        96665.98             -    2558.6     -       71.2%   \n",
      "   582      12                -                        96666.01             -    2562.8     -       86.0%   \n",
      "   583      10                -                        96666.02             -    2566.3     -       71.3%   \n",
      "   584      12                -                        96666.03             -    2570.5     -       86.0%   \n",
      "   585      11                -                        96666.03             -    2575.7     -       86.0%   \n",
      "   586      11                -                        96666.04             -    2581.0     -       71.4%   \n",
      "   587      12                -                        96666.04             -    2585.9     -       86.1%   \n",
      "   588      11                -                        96666.06             -    2591.2     -       71.5%   "
     ]
    },
    {
     "name": "stderr",
     "output_type": "stream",
     "text": [
      "┌ Warning: Only almost solved\n",
      "└ @ Juniper C:\\Users\\Оля\\.julia\\packages\\Juniper\\atNbZ\\src\\BnBTree.jl:89\n"
     ]
    },
    {
     "name": "stdout",
     "output_type": "stream",
     "text": [
      "\n",
      "   589      11                -                        96666.06             -    2596.2     -       86.5%   \n",
      "   590      11                -                        96666.07             -    2601.1     -       86.1%   \n",
      "   591      11                -                        96666.07             -    2606.7     -       86.1%   \n",
      "   592      11                -                        96666.08             -    2611.6     -       71.6%   \n",
      "   593      9                 -                        96666.08             -    2615.5     -       86.2%   \n",
      "   594      13                -                        96666.09             -    2621.1     -       71.6%   \n",
      "   595      11                -                        96666.11             -    2625.6     -       86.2%   \n",
      "   596      11                -                        96666.12             -    2629.7     -       85.9%   \n",
      "   597      12                -                        96666.13             -    2634.2     -       71.7%   \n",
      "   598      12                -                        96666.13             -    2639.1     -       86.2%   \n",
      "   599      9                 -                        96666.13             -    2643.2     -       71.8%   \n",
      "   600      10                -                        96666.14             -    2647.5     -       71.9%   \n",
      "   601      12                -                        96666.17             -    2652.0     -       86.3%   \n",
      "   602      11                -                        96666.17             -    2655.9     -       85.9%   \n",
      "   603      12                -                        96666.17             -    2660.6     -       86.3%   \n",
      "   604      11                -                        96666.18             -    2664.0     -       86.3%   \n",
      "   605      13                -                        96666.18             -    2669.0     -       72.0%   \n",
      "   606      10                -                        96666.19             -    2673.2     -       90.2%   \n",
      "   607      11                -                        96666.2              -    2676.5     -       86.4%   \n",
      "   608      13                -                        96666.2              -    2680.4     -       72.1%   \n",
      "   609      11                -                        96666.2              -    2685.6     -       86.4%   \n",
      "   610      12                -                        96666.21             -    2689.1     -       72.2%   \n",
      "   611      12                -                        96666.22             -    2693.8     -       86.5%   \n",
      "   612      11                -                        96666.22             -    2697.8     -       86.5%   \n",
      "   613      12                -                        96666.22             -    2702.4     -       74.3%   \n",
      "   614      10                -                        96666.23             -    2705.9     -       85.8%   \n",
      "   615      11                -                        96666.23             -    2710.3     -       72.3%   \n",
      "   616      12                -                        96666.24             -    2714.1     -       86.5%   \n",
      "   617      11                -                        96666.24             -    2718.7     -       85.8%   \n",
      "   618      11                -                        96666.25             -    2723.0     -       72.4%   \n",
      "   619      13                -                        96666.25             -    2727.8     -       86.6%   \n",
      "   620      12                -                        96666.25             -    2732.4     -       85.6%   \n",
      "   621      11                -                        96666.25             -    2736.8     -       85.7%   \n",
      "   622      12                -                        96666.25             -    2741.5     -       72.5%   \n",
      "   623      11                -                        96666.25             -    2745.7     -       86.6%   \n",
      "   624      12                -                        96666.26             -    2749.5     -       86.7%   \n",
      "   625      12                -                        96666.27             -    2753.7     -       85.6%   \n",
      "   626      12                -                        96666.27             -    2758.3     -       72.6%   \n",
      "   627      12                -                        96666.28             -    2762.6     -       86.7%   \n",
      "   628      11                -                        96666.29             -    2767.1     -       72.7%   \n",
      "   629      10                -                        96666.29             -    2770.5     -       86.7%   \n",
      "   630      12                -                        96666.29             -    2774.3     -       85.5%   \n",
      "   631      11                -                        96666.3              -    2778.9     -       72.8%   \n",
      "   632      10                -                        96666.31             -    2783.0     -       85.4%   \n",
      "   633      11                -                        96666.31             -    2786.8     -       86.8%   \n"
     ]
    },
    {
     "name": "stderr",
     "output_type": "stream",
     "text": [
      "┌ Warning: Only almost solved\n",
      "└ @ Juniper C:\\Users\\Оля\\.julia\\packages\\Juniper\\atNbZ\\src\\BnBTree.jl:89\n"
     ]
    },
    {
     "name": "stdout",
     "output_type": "stream",
     "text": [
      "   634      12                -                        96666.32             -    2791.6     -       86.8%   \n",
      "   635      11                -                        96666.32             -    2796.3     -       72.9%   \n",
      "   636      11                -                        96666.32             -    2800.7     -       86.8%   \n",
      "   637      11                -                        96666.33             -    2805.1     -       73.0%   \n",
      "   638      11                -                        96666.33             -    2809.1     -       85.4%   \n",
      "   639      12                -                        96666.33             -    2814.0     -       86.9%   \n",
      "   640      11                -                        96666.34             -    2818.1     -       85.3%   \n",
      "   641      12                -                        96666.34             -    2822.5     -       96.1%   \n",
      "   642      12                -                        96666.34             -    2826.5     -       73.1%   \n",
      "   643      12                -                        96666.35             -    2830.6     -       86.9%   \n",
      "   644      12                -                        96666.36             -    2834.7     -       87.0%   \n",
      "   645      10                -                        96666.38             -    2838.5     -       87.0%   \n",
      "   646      13                -                        96666.38             -    2842.9     -       87.1%   \n",
      "   647      12                -                        96666.39             -    2847.8     -       85.2%   \n",
      "   648      12                -                        96666.4              -    2852.0     -       87.0%   \n",
      "   649      10                -                        96666.41             -    2856.4     -       87.1%   \n",
      "   650      12                -                        96666.41             -    2861.4     -       87.1%   \n",
      "   651      12                -                        96666.41             -    2865.6     -       87.1%   \n",
      "   652      11                -                        96666.45             -    2869.8     -       85.2%   \n",
      "   653      12                -                        96666.45             -    2874.6     -       87.2%   \n",
      "   654      10                -                        96666.46             -    2879.8     -       87.2%   \n",
      "   655      12                -                        96666.48             -    2884.0     -       87.3%   \n",
      "   656      12                -                        96666.48             -    2889.5     -       87.3%   \n",
      "   657      12                -                        96666.49             -    2895.1     -       85.1%   \n",
      "   658      12                -                        96666.49             -    2900.3     -       87.3%   \n",
      "   659      11                -                        96666.5              -    2905.7     -       85.1%   \n",
      "   660      10                -                        96666.5              -    2910.4     -       87.3%   \n",
      "   661      12                -                        96666.51             -    2915.4     -       87.4%   \n",
      "   662      12                -                        96666.52             -    2920.4     -       84.9%   \n",
      "   663      12                -                        96666.52             -    2925.6     -       87.2%   \n",
      "   664      12                -                        96666.52             -    2930.3     -       92.9%   \n",
      "   665      11                -                        96666.52             -    2935.0     -       85.0%   \n",
      "   666      13                -                        96666.52             -    2940.1     -       87.4%   "
     ]
    },
    {
     "name": "stderr",
     "output_type": "stream",
     "text": [
      "┌ Warning: Only almost solved\n",
      "└ @ Juniper C:\\Users\\Оля\\.julia\\packages\\Juniper\\atNbZ\\src\\BnBTree.jl:89\n"
     ]
    },
    {
     "name": "stdout",
     "output_type": "stream",
     "text": [
      "\n",
      "   667      11                -                        96666.52             -    2944.6     -       87.4%   \n",
      "   668      12                -                        96666.53             -    2948.5     -       87.5%   \n",
      "   669      11                -                        96666.53             -    2952.9     -       84.8%   \n",
      "   670      11                -                        96666.53             -    2957.2     -       87.8%   \n",
      "   671      12                -                        96666.53             -    2961.6     -       84.7%   \n",
      "   672      11                -                        96666.54             -    2965.5     -       84.9%   \n",
      "   673      11                -                        96666.54             -    2970.0     -       87.5%   \n",
      "   674      12                -                        96666.55             -    2974.6     -       87.6%   \n",
      "   675      11                -                        96666.55             -    2979.0     -       87.6%   \n",
      "   676      12                -                        96666.55             -    2983.2     -       87.7%   \n",
      "   677      12                -                        96666.56             -    2987.0     -       88.0%   \n",
      "   678      11                -                        96666.56             -    2990.5     -       87.7%   \n",
      "   679      10                -                        96666.56             -    2994.8     -       87.7%   \n",
      "   680      11                -                        96666.57             -    2998.8     -       84.7%   \n",
      "   681      11                -                        96666.57             -    3003.1     -       84.6%   \n",
      "   682      11                -                        96666.57             -    3007.1     -       87.8%   \n",
      "   683      11                -                        96666.58             -    3011.5     -       87.8%   \n",
      "   684      13                -                        96666.61             -    3015.9     -       87.9%   \n"
     ]
    },
    {
     "name": "stderr",
     "output_type": "stream",
     "text": [
      "┌ Warning: Only almost solved\n",
      "└ @ Juniper C:\\Users\\Оля\\.julia\\packages\\Juniper\\atNbZ\\src\\BnBTree.jl:89\n"
     ]
    },
    {
     "name": "stdout",
     "output_type": "stream",
     "text": [
      "   685      12                -                        96666.61             -    3021.5     -       91.5%   \n",
      "   686      12                -                        96666.62             -    3025.7     -       88.1%   \n",
      "   687      12                -                        96666.62             -    3030.1     -       84.6%   \n",
      "   688      11                -                        96666.62             -    3033.8     -       88.0%   \n",
      "   689      12                -                        96666.62             -    3039.9     -       88.0%   \n",
      "   690      11                -                        96666.62             -    3044.1     -       88.0%   \n",
      "   691      11                -                        96666.63             -    3047.8     -       88.1%   \n",
      "   692      11                -                        96666.63             -    3051.9     -       88.1%   \n",
      "   693      11                -                        96666.64             -    3056.3     -       88.2%   \n",
      "   694      11                -                        96666.65             -    3060.6     -       91.5%   \n",
      "   695      12                -                        96666.65             -    3064.8     -       84.5%   \n",
      "   696      11                -                        96666.65             -    3069.2     -       88.1%   \n",
      "   697      11                -                        96666.65             -    3073.5     -       88.4%   \n",
      "   698      13                -                        96666.66             -    3078.4     -       75.0%   \n",
      "   699      11                -                        96666.66             -    3082.7     -       88.1%   \n",
      "   700      11                -                        96666.68             -    3087.5     -       84.5%   \n",
      "   701      11                -                        96666.68             -    3091.6     -       88.2%   \n",
      "   702      11                -                        96666.68             -    3095.1     -       91.6%   \n",
      "   703      13                -                        96666.69             -    3100.2     -       88.3%   \n",
      "   704      12                -                        96666.71             -    3104.1     -       84.4%   \n",
      "   705      12                -                        96666.71             -    3108.6     -       88.3%   \n",
      "   706      12                -                        96666.71             -    3112.7     -       88.3%   \n",
      "   707      11                -                        96666.71             -    3117.6     -       88.5%   \n",
      "   708      11                -                        96666.72             -    3121.7     -       79.2%   \n",
      "   709      10                -                        96666.72             -    3125.1     -       88.6%   \n",
      "   710      11                -                        96666.72             -    3129.3     -       88.5%   \n",
      "   711      12                -                        96666.74             -    3133.7     -       84.4%   \n",
      "   712      12                -                        96666.74             -    3138.0     -       84.3%   \n",
      "   713      11                -                        96666.74             -    3141.9     -       88.4%   \n",
      "   714      13                -                        96666.74             -    3146.1     -       88.4%   \n",
      "   715      11                -                        96666.74             -    3150.7     -       88.5%   \n",
      "   716      12                -                        96666.74             -    3155.4     -       94.3%   \n",
      "   717      11                -                        96666.74             -    3159.4     -       88.5%   \n",
      "   718      13                -                        96666.75             -    3164.2     -       84.2%   \n",
      "   719      12                -                        96666.75             -    3169.0     -       88.5%   \n",
      "   720      11                -                        96666.75             -    3173.1     -       88.5%   \n",
      "   721      12                -                        96666.76             -    3178.5     -       88.5%   \n",
      "   722      10                -                        96666.76             -    3183.9     -       88.6%   \n",
      "   723      12                -                        96666.77             -    3189.0     -       88.6%   \n",
      "   724      11                -                        96666.77             -    3194.0     -       84.2%   \n",
      "   725      12                -                        96666.78             -    3200.6     -       88.6%   \n",
      "   726      11                -                        96666.78             -    3205.0     -       88.6%   \n",
      "   727      11                -                        96666.78             -    3210.1     -       88.3%   \n",
      "   728      12                -                        96666.79             -    3215.4     -       74.9%   \n",
      "   729      14                -                        96666.8              -    3220.8     -       75.0%   \n",
      "   730      11                -                        96666.81             -    3224.7     -       88.6%   \n",
      "   731      12                -                        96666.81             -    3229.4     -       88.7%   \n",
      "   732      11                -                        96666.83             -    3233.4     -       88.7%   \n",
      "   733      11                -                        96666.83             -    3238.0     -       88.7%   \n",
      "   734      10                -                        96666.83             -    3242.0     -       88.7%   \n",
      "   735      13                -                        96666.83             -    3246.9     -       88.8%   \n",
      "   736      12                -                        96666.84             -    3251.2     -       84.1%   \n",
      "   737      11                -                        96666.85             -    3254.6     -       88.2%   \n"
     ]
    },
    {
     "name": "stderr",
     "output_type": "stream",
     "text": [
      "┌ Warning: Only almost solved\n",
      "└ @ Juniper C:\\Users\\Оля\\.julia\\packages\\Juniper\\atNbZ\\src\\BnBTree.jl:89\n"
     ]
    },
    {
     "name": "stdout",
     "output_type": "stream",
     "text": [
      "   738      11                -                        96666.86             -    3259.2     -       96.6%   \n",
      "   739      14                -                        96666.87             -    3264.3     -       89.0%   \n",
      "   740      11                -                        96666.87             -    3268.1     -       88.8%   \n",
      "   741      10                -                        96666.87             -    3272.3     -       88.9%   \n",
      "   742      13                -                        96666.88             -    3276.5     -       75.3%   \n",
      "   743      14                -                        96666.88             -    3280.9     -       75.4%   \n"
     ]
    },
    {
     "name": "stderr",
     "output_type": "stream",
     "text": [
      "┌ Warning: Only almost solved\n",
      "└ @ Juniper C:\\Users\\Оля\\.julia\\packages\\Juniper\\atNbZ\\src\\BnBTree.jl:89\n"
     ]
    },
    {
     "name": "stdout",
     "output_type": "stream",
     "text": [
      "   744      12                -                        96666.89             -    3286.0     -       78.9%   \n",
      "   745      12                -                        96666.9              -    3290.8     -       95.5%   \n",
      "   746      10                -                        96666.91             -    3295.2     -       88.9%   \n",
      "   747      13                -                        96666.91             -    3300.2     -       95.1%   \n",
      "   748      12                -                        96666.91             -    3304.4     -       88.9%   \n",
      "   749      11                -                        96666.91             -    3309.0     -       88.9%   \n",
      "   750      13                -                        96666.93             -    3313.5     -       89.0%   \n",
      "   751      12                -                        96666.94             -    3318.2     -       78.8%   \n",
      "   752      12                -                        96666.94             -    3322.3     -       89.0%   \n",
      "   753      11                -                        96666.94             -    3327.2     -       78.9%   \n",
      "   754      11                -                        96666.94             -    3331.1     -       84.0%   \n",
      "   755      12                -                        96666.96             -    3335.7     -       89.1%   \n",
      "   756      12                -                        96666.96             -    3340.3     -       89.1%   \n",
      "   757      11                -                        96666.96             -    3344.7     -       88.2%   \n",
      "   758      13                -                        96666.97             -    3349.1     -       78.9%   \n",
      "   759      11                -                        96666.98             -    3353.1     -       76.9%   \n",
      "   760      11                -                        96666.99             -    3357.4     -       76.8%   \n",
      "   761      10                -                        96666.99             -    3361.1     -       89.0%   \n",
      "   762      11                -                        96667.0              -    3365.5     -       89.0%   \n",
      "   763      13                -                        96667.01             -    3370.2     -       83.9%   \n",
      "   764      12                -                        96667.01             -    3375.1     -       84.0%   \n",
      "   765      11                -                        96667.02             -    3379.0     -       88.1%   \n",
      "   766      11                -                        96667.02             -    3383.1     -       88.1%   \n",
      "   767      10                -                        96667.03             -    3387.1     -       92.2%   \n",
      "   768      12                -                        96667.04             -    3391.5     -       76.7%   \n",
      "   769      12                -                        96667.04             -    3396.0     -       83.8%   \n",
      "   770      11                -                        96667.04             -    3400.3     -       79.0%   \n",
      "   771      10                -                        96667.05             -    3404.1     -       88.0%   \n",
      "   772      11                -                        96667.07             -    3408.4     -       87.2%   \n",
      "   773      12                -                        96667.09             -    3413.0     -       83.8%   \n",
      "   774      13                -                        96667.09             -    3418.6     -       88.0%   "
     ]
    },
    {
     "name": "stderr",
     "output_type": "stream",
     "text": [
      "┌ Warning: Only almost solved\n",
      "└ @ Juniper C:\\Users\\Оля\\.julia\\packages\\Juniper\\atNbZ\\src\\BnBTree.jl:89\n"
     ]
    },
    {
     "name": "stdout",
     "output_type": "stream",
     "text": [
      "\n",
      "   775      11                -                        96667.09             -    3422.4     -       83.7%   \n",
      "   776      11                -                        96667.11             -    3426.0     -       87.9%   \n",
      "   777      10                -                        96667.12             -    3429.6     -       76.7%   \n",
      "   778      12                -                        96667.12             -    3433.7     -       83.7%   \n",
      "   779      12                -                        96667.12             -    3438.2     -       87.9%   \n",
      "   780      12                -                        96667.12             -    3442.5     -       83.6%   \n",
      "   781      11                -                        96667.13             -    3446.7     -       87.8%   \n",
      "   782      12                -                        96667.14             -    3450.7     -       83.5%   \n",
      "   783      10                -                        96667.15             -    3454.8     -       76.6%   \n",
      "   784      11                -                        96667.19             -    3459.0     -       76.5%   \n",
      "   785      12                -                        96667.19             -    3463.7     -       87.8%   \n",
      "   786      12                -                        96667.2              -    3468.0     -       76.4%   \n",
      "   787      11                -                        96667.21             -    3472.7     -       79.0%   \n",
      "   788      11                -                        96667.22             -    3477.8     -       83.5%   \n",
      "   789      12                -                        96667.24             -    3484.6     -       76.3%   \n",
      "   790      12                -                        96667.24             -    3490.9     -       87.7%   \n",
      "   791      13                -                        96667.24             -    3497.8     -       83.4%   \n",
      "   792      12                -                        96667.25             -    3504.4     -       87.7%   \n",
      "   793      12                -                        96667.26             -    3510.4     -       76.2%   \n",
      "   794      12                -                        96667.26             -    3516.2     -       83.6%   \n",
      "   795      13                -                        96667.26             -    3522.1     -       83.4%   \n",
      "   796      13                -                        96667.27             -    3528.3     -       87.7%   \n",
      "   797      12                -                        96667.27             -    3534.7     -       76.1%   \n",
      "   798      10                -                        96667.28             -    3538.7     -       89.1%   \n",
      "   799      13                -                        96667.28             -    3543.6     -       89.1%   \n",
      "   800      12                -                        96667.28             -    3547.8     -       79.1%   \n",
      "   801      14                -                        96667.3              -    3553.3     -       89.1%   \n",
      "   802      9                 -                        96667.3              -    3557.2     -       79.1%   \n",
      "   803      13                -                        96667.3              -    3561.7     -       76.0%   \n",
      "   804      12                -                        96667.3              -    3566.2     -       83.5%   \n",
      "   805      12                -                        96667.31             -    3570.6     -       87.7%   \n",
      "   806      12                -                        96667.32             -    3575.0     -       79.2%   \n",
      "   807      11                -                        96667.33             -    3579.2     -       83.6%   \n",
      "   808      12                -                        96667.34             -    3583.2     -       87.7%   \n",
      "   809      13                -                        96667.34             -    3587.9     -       83.7%   \n",
      "   810      12                -                        96667.34             -    3591.9     -       76.0%   \n",
      "   811      10                -                        96667.34             -    3596.5     -       89.2%   \n",
      "   812      13                -                        96667.35             -    3600.5     -       75.7%   \n",
      "   813      12                -                        96667.35             -    3605.1     -       79.2%   \n",
      "   814      11                -                        96667.35             -    3609.0     -       83.8%   \n",
      "   815      12                -                        96667.36             -    3613.7     -       87.9%   \n",
      "   816      11                -                        96667.36             -    3617.8     -       89.2%   \n",
      "   817      11                -                        96667.37             -    3621.7     -       83.9%   \n",
      "   818      9                 -                        96667.37             -    3624.7     -       79.3%   \n",
      "   819      12                -                        96667.37             -    3629.4     -       87.9%   \n",
      "   820      11                -                        96667.39             -    3633.2     -       84.0%   \n",
      "   821      12                -                        96667.39             -    3637.1     -       88.0%   \n",
      "   822      11                -                        96667.41             -    3641.4     -       89.2%   \n",
      "   823      12                -                        96667.42             -    3646.3     -       75.9%   \n",
      "   824      11                -                        96667.43             -    3650.2     -       79.3%   \n",
      "   825      13                -                        96667.43             -    3655.0     -       80.9%   \n",
      "   826      13                -                        96667.43             -    3659.7     -       81.6%   \n",
      "   827      12                -                        96667.44             -    3663.9     -       75.8%   \n",
      "   828      12                -                        96667.46             -    3668.2     -       75.7%   \n",
      "   829      9                 -                        96667.47             -    3672.0     -       79.4%   \n",
      "   830      11                -                        96667.47             -    3677.3     -       79.4%   \n",
      "   831      11                -                        96667.48             -    3681.7     -       87.0%   \n",
      "   832      13                -                        96667.49             -    3685.9     -       78.7%   \n",
      "   833      11                -                        96667.5              -    3690.1     -       89.3%   \n",
      "   834      10                -                        96667.52             -    3694.1     -       79.6%   \n",
      "   835      11                -                        96667.53             -    3698.6     -       89.3%   \n",
      "   836      11                -                        96667.56             -    3701.8     -       89.2%   \n",
      "   837      10                -                        96667.56             -    3705.4     -       79.6%   \n",
      "   838      12                -                        96667.58             -    3711.3     -       75.5%   \n",
      "   839      12                -                        96667.59             -    3715.6     -       89.4%   \n"
     ]
    },
    {
     "name": "stderr",
     "output_type": "stream",
     "text": [
      "┌ Warning: Only almost solved\n",
      "└ @ Juniper C:\\Users\\Оля\\.julia\\packages\\Juniper\\atNbZ\\src\\BnBTree.jl:89\n"
     ]
    },
    {
     "name": "stdout",
     "output_type": "stream",
     "text": [
      "   840      11                -                        96667.59             -    3720.1     -       89.4%   \n",
      "   841      11                -                        96667.6              -    3724.3     -       75.4%   \n",
      "   842      11                -                        96667.6              -    3728.9     -       94.8%   \n",
      "   842      13                -                        96667.61             -    3733.4     -       85.2%   \n",
      "   843      12                -                        96667.62             -    3737.7     -       79.7%   \n",
      "   844      11                -                        96667.62             -    3742.0     -       79.7%   \n",
      "   845      11                -                        96667.64             -    3745.3     -       89.4%   \n",
      "   846      11                -                        96667.66             -    3749.0     -       75.3%   \n",
      "   847      11                -                        96667.67             -    3753.3     -       79.8%   \n",
      "   848      13                -                        96667.71             -    3758.1     -       75.2%   \n",
      "   849      10                -                        96667.74             -    3762.2     -       89.4%   \n",
      "   850      12                -                        96667.76             -    3766.8     -       76.3%   \n",
      "   851      12                -                        96667.78             -    3771.1     -       75.1%   \n",
      "   852      11                -                        96667.79             -    3776.2     -       89.3%   \n",
      "   853      12                -                        96667.82             -    3781.0     -       83.8%   \n",
      "   854      11                -                        96667.82             -    3786.5     -       98.4%   \n",
      "   855      11                -                        96667.86             -    3791.7     -       79.8%   \n",
      "   856      10                -                        96667.87             -    3797.3     -       97.8%   \n",
      "   857      12                -                        96667.91             -    3802.1     -       75.0%   \n",
      "   858      12                -                        96667.92             -    3807.9     -       89.5%   \n",
      "   859      11                -                        96667.94             -    3812.9     -       79.9%   \n",
      "   860      13                -                        96667.94             -    3818.7     -       95.0%   \n",
      "   861      12                -                        96667.94             -    3823.6     -       77.5%   \n",
      "   862      11                -                        96667.98             -    3827.9     -       89.5%   \n",
      "   863      11                -                        96667.99             -    3831.5     -       89.5%   \n",
      "   864      11                -                        96667.99             -    3835.1     -       74.8%   \n",
      "   865      11                -                        96667.99             -    3839.9     -       83.4%   \n",
      "   866      13                -                        96668.01             -    3844.4     -       74.8%   \n",
      "   867      12                -                        96668.01             -    3849.0     -       77.2%   "
     ]
    },
    {
     "name": "stderr",
     "output_type": "stream",
     "text": [
      "┌ Warning: Only almost solved\n",
      "└ @ Juniper C:\\Users\\Оля\\.julia\\packages\\Juniper\\atNbZ\\src\\BnBTree.jl:89\n"
     ]
    },
    {
     "name": "stdout",
     "output_type": "stream",
     "text": [
      "\n",
      "   868      12                -                        96668.02             -    3853.6     -       89.5%   \n",
      "   869      10                -                        96668.05             -    3857.6     -       79.9%   \n",
      "   870      12                -                        96668.06             -    3862.1     -       80.0%   \n",
      "   871      11                -                        96668.07             -    3866.5     -       89.6%   \n",
      "   872      11                -                        96668.08             -    3871.0     -       80.0%   \n",
      "   873      12                -                        96668.08             -    3874.6     -       89.6%   \n",
      "   874      12                -                        96668.11             -    3878.8     -       80.1%   \n",
      "   875      11                -                        96668.11             -    3883.3     -       89.6%   \n",
      "   876      12                -                        96668.12             -    3887.7     -       80.1%   \n",
      "   877      12                -                        96668.15             -    3891.4     -       74.5%   \n",
      "   878      11                -                        96668.18             -    3895.7     -       89.7%   \n",
      "   879      12                -                        96668.18             -    3899.7     -       74.4%   \n",
      "   880      11                -                        96668.18             -    3904.3     -       80.2%   \n",
      "   881      12                -                        96668.2              -    3909.0     -       89.7%   "
     ]
    },
    {
     "name": "stderr",
     "output_type": "stream",
     "text": [
      "┌ Warning: Only almost solved\n",
      "└ @ Juniper C:\\Users\\Оля\\.julia\\packages\\Juniper\\atNbZ\\src\\BnBTree.jl:89\n"
     ]
    },
    {
     "name": "stdout",
     "output_type": "stream",
     "text": [
      "\n",
      "   882      11                -                        96668.21             -    3912.9     -       80.2%   \n",
      "   883      10                -                        96668.22             -    3917.8     -       98.4%   \n",
      "   884      10                -                        96668.22             -    3921.8     -       93.5%   \n",
      "   885      13                -                        96668.23             -    3926.3     -       74.2%   \n",
      "   886      11                -                        96668.27             -    3930.4     -       89.7%   \n",
      "   887      10                -                        96668.27             -    3934.6     -       80.3%   \n",
      "   888      10                -                        96668.28             -    3938.4     -       89.7%   \n",
      "   889      11                -                        96668.3              -    3941.9     -       89.8%   \n",
      "   890      11                -                        96668.3              -    3945.8     -       74.2%   \n",
      "   891      10                -                        96668.31             -    3949.2     -       80.4%   \n",
      "   892      12                -                        96668.32             -    3953.4     -       80.4%   \n",
      "   893      12                -                        96668.33             -    3957.5     -       78.3%   \n",
      "   894      13                -                        96668.34             -    3961.6     -       78.0%   \n",
      "   895      11                -                        96668.35             -    3965.4     -       89.8%   \n",
      "   896      12                -                        96668.35             -    3969.7     -       74.1%   \n",
      "   897      12                -                        96668.35             -    3973.9     -       78.1%   \n",
      "   898      12                -                        96668.36             -    3978.5     -       80.5%   \n",
      "   899      12                -                        96668.36             -    3983.1     -       89.8%   \n",
      "   900      12                -                        96668.36             -    3987.1     -       80.5%   \n",
      "   901      11                -                        96668.38             -    3991.2     -       93.9%   \n",
      "   902      13                -                        96668.38             -    3996.0     -       74.0%   \n",
      "   903      12                -                        96668.38             -    4000.4     -       78.0%   \n",
      "   904      12                -                        96668.39             -    4005.1     -       89.9%   \n",
      "   905      12                -                        96668.39             -    4008.8     -       80.6%   \n",
      "   906      12                -                        96668.39             -    4013.7     -       89.9%   \n",
      "   907      11                -                        96668.39             -    4017.8     -       80.6%   \n",
      "   908      12                -                        96668.41             -    4022.0     -       89.9%   \n",
      "   909      12                -                        96668.41             -    4026.2     -       80.7%   \n",
      "   910      10                -                        96668.42             -    4030.7     -       89.9%   \n",
      "   911      12                -                        96668.42             -    4035.1     -       73.9%   \n",
      "   912      11                -                        96668.45             -    4039.3     -       77.7%   \n",
      "   913      10                -                        96668.46             -    4043.2     -       80.7%   \n",
      "   914      12                -                        96668.46             -    4047.8     -       90.0%   \n",
      "   915      11                -                        96668.46             -    4051.8     -       80.8%   \n",
      "   916      11                -                        96668.48             -    4055.6     -       90.0%   \n",
      "   917      13                -                        96668.48             -    4061.9     -       77.1%   "
     ]
    },
    {
     "name": "stderr",
     "output_type": "stream",
     "text": [
      "┌ Warning: Only almost solved\n",
      "└ @ Juniper C:\\Users\\Оля\\.julia\\packages\\Juniper\\atNbZ\\src\\BnBTree.jl:89\n"
     ]
    },
    {
     "name": "stdout",
     "output_type": "stream",
     "text": [
      "\n",
      "   918      12                -                        96668.48             -    4066.4     -       73.8%   \n",
      "   919      12                -                        96668.48             -    4070.9     -       80.8%   \n",
      "   920      11                -                        96668.5              -    4075.7     -       90.0%   \n",
      "   921      13                -                        96668.51             -    4081.4     -       77.6%   \n",
      "   922      12                -                        96668.51             -    4086.9     -       80.9%   \n",
      "   923      13                -                        96668.51             -    4092.3     -       90.1%   \n",
      "   924      12                -                        96668.51             -    4097.8     -       73.8%   \n",
      "   925      11                -                        96668.52             -    4102.7     -       90.2%   \n",
      "   926      14                -                        96668.53             -    4108.4     -       78.1%   \n",
      "   927      14                -                        96668.54             -    4114.0     -       77.7%   \n",
      "   928      12                -                        96668.54             -    4119.0     -       73.7%   \n",
      "   929      10                -                        96668.55             -    4123.1     -       80.9%   \n",
      "   930      12                -                        96668.57             -    4127.8     -       73.6%   \n",
      "   931      12                -                        96668.57             -    4132.5     -       96.0%   \n",
      "   932      11                -                        96668.59             -    4136.8     -       73.5%   \n",
      "   933      13                -                        96668.59             -    4141.8     -       95.1%   \n",
      "   934      12                -                        96668.6              -    4146.1     -       90.1%   \n",
      "   935      10                -                        96668.62             -    4149.5     -       89.7%   \n",
      "   936      13                -                        96668.63             -    4153.9     -       97.0%   \n",
      "   937      12                -                        96668.63             -    4158.9     -       77.3%   \n",
      "   938      12                -                        96668.63             -    4162.5     -       73.6%   \n",
      "   939      12                -                        96668.63             -    4166.6     -       90.1%   \n",
      "   940      14                -                        96668.65             -    4171.3     -       81.0%   \n",
      "   941      11                -                        96668.65             -    4175.3     -       73.9%   \n",
      "   942      12                -                        96668.66             -    4179.5     -       74.1%   \n",
      "   943      12                -                        96668.67             -    4183.5     -       74.2%   \n",
      "   944      10                -                        96668.67             -    4187.2     -       81.0%   \n",
      "   945      13                -                        96668.67             -    4192.0     -       73.7%   \n",
      "   946      12                -                        96668.68             -    4196.4     -       90.1%   \n",
      "   947      12                -                        96668.68             -    4200.3     -       81.1%   \n",
      "   948      11                -                        96668.68             -    4205.0     -       90.2%   \n",
      "   949      12                -                        96668.68             -    4209.0     -       77.0%   \n",
      "   950      12                -                        96668.68             -    4214.2     -       74.3%   "
     ]
    },
    {
     "name": "stderr",
     "output_type": "stream",
     "text": [
      "┌ Warning: Only almost solved\n",
      "└ @ Juniper C:\\Users\\Оля\\.julia\\packages\\Juniper\\atNbZ\\src\\BnBTree.jl:89\n"
     ]
    },
    {
     "name": "stdout",
     "output_type": "stream",
     "text": [
      "\n",
      "   951      12                -                        96668.69             -    4218.7     -       90.2%   \n",
      "   952      11                -                        96668.69             -    4222.6     -       74.4%   \n",
      "   953      11                -                        96668.7              -    4226.1     -       81.2%   \n",
      "   954      13                -                        96668.7              -    4230.2     -       78.5%   \n",
      "   955      12                -                        96668.7              -    4234.0     -       90.2%   \n",
      "   956      11                -                        96668.71             -    4238.6     -       81.2%   \n",
      "   957      12                -                        96668.71             -    4242.4     -       90.2%   \n",
      "   958      12                -                        96668.71             -    4247.0     -       81.3%   \n",
      "   959      12                -                        96668.71             -    4251.4     -       90.3%   \n",
      "   960      11                -                        96668.71             -    4255.8     -       74.5%   \n",
      "   961      12                -                        96668.71             -    4260.2     -       81.3%   \n",
      "   962      15                -                        96668.71             -    4264.6     -       79.1%   \n",
      "   963      10                -                        96668.72             -    4268.4     -       90.4%   \n",
      "   964      15                -                        96668.72             -    4273.0     -       78.6%   \n",
      "   965      11                -                        96668.73             -    4277.9     -       95.4%   \n",
      "   966      11                -                        96668.73             -    4282.6     -       95.6%   \n",
      "   967      12                -                        96668.73             -    4287.6     -       97.4%   \n",
      "   968      15                -                        96668.74             -    4292.1     -       90.2%   \n",
      "   969      13                -                        96668.74             -    4296.7     -       74.6%   \n",
      "   970      13                -                        96668.75             -    4301.1     -       90.3%   \n",
      "   971      12                -                        96668.76             -    4305.3     -       81.4%   \n",
      "   972      12                -                        96668.76             -    4309.6     -       90.3%   \n",
      "   973      11                -                        96668.76             -    4314.0     -       90.4%   \n",
      "   974      12                -                        96668.78             -    4318.7     -       90.8%   \n",
      "   975      12                -                        96668.78             -    4323.2     -       81.4%   \n",
      "   976      14                -                        96668.79             -    4327.2     -       79.2%   \n",
      "   977      13                -                        96668.79             -    4331.9     -       74.7%   \n",
      "   978      10                -                        96668.79             -    4335.7     -       90.3%   \n",
      "   979      11                -                        96668.8              -    4340.1     -       81.4%   \n",
      "   980      12                -                        96668.81             -    4344.1     -       90.4%   \n",
      "   981      12                -                        96668.81             -    4348.1     -       89.6%   \n",
      "   982      12                -                        96668.81             -    4352.9     -       90.4%   \n",
      "   983      11                -                        96668.82             -    4356.4     -       90.5%   \n",
      "   984      13                -                        96668.83             -    4360.4     -       90.5%   \n",
      "   985      12                -                        96668.83             -    4365.2     -       81.5%   \n",
      "   986      11                -                        96668.83             -    4369.4     -       90.5%   \n",
      "   987      12                -                        96668.83             -    4373.6     -       93.2%   \n",
      "   988      14                -                        96668.83             -    4377.9     -       90.5%   \n",
      "   989      11                -                        96668.83             -    4383.3     -       74.9%   \n",
      "   990      11                -                        96668.83             -    4388.5     -       90.4%   \n",
      "   991      10                -                        96668.84             -    4392.8     -       81.6%   \n",
      "   992      14                -                        96668.84             -    4399.1     -       78.8%   \n",
      "   993      13                -                        96668.84             -    4405.0     -       90.4%   \n",
      "   994      11                -                        96668.84             -    4412.0     -       94.7%   \n",
      "   995      13                -                        96668.85             -    4417.7     -       85.9%   \n",
      "   996      11                -                        96668.86             -    4423.3     -       90.4%   \n",
      "   997      13                -                        96668.86             -    4427.9     -       81.6%   \n",
      "   998      13                -                        96668.86             -    4433.1     -       90.6%   \n",
      "   999      11                -                        96668.86             -    4436.6     -       75.0%   \n",
      "  1000      12                -                        96668.87             -    4440.3     -       90.5%   \n",
      "  1001      13                -                        96668.88             -    4445.1     -       90.6%   \n",
      "  1002      12                -                        96668.88             -    4449.5     -       93.3%   \n",
      "  1003      12                -                        96668.88             -    4454.1     -       90.5%   \n",
      "  1004      10                -                        96668.89             -    4458.0     -       90.6%   \n",
      "  1005      13                -                        96668.89             -    4462.9     -       90.5%   \n",
      "  1006      12                -                        96668.89             -    4467.2     -       81.7%   \n",
      "  1007      12                -                        96668.89             -    4471.2     -       89.5%   \n",
      "  1008      13                -                        96668.89             -    4475.2     -       90.6%   \n",
      "  1009      12                -                        96668.9              -    4479.4     -       90.6%   \n",
      "  1010      12                -                        96668.9              -    4484.9     -       90.6%   \n",
      "  1011      13                -                        96668.91             -    4489.6     -       90.5%   \n",
      "  1012      11                -                        96668.91             -    4494.4     -       81.8%   \n",
      "  1013      11                -                        96668.91             -    4498.3     -       90.3%   \n",
      "  1014      13                -                        96668.91             -    4502.0     -       89.7%   \n",
      "  1015      12                -                        96668.91             -    4505.5     -       75.2%   \n",
      "  1016      13                -                        96668.92             -    4510.3     -       90.5%   \n",
      "  1017      12                -                        96668.92             -    4514.9     -       90.2%   \n",
      "  1018      12                -                        96668.92             -    4519.3     -       81.8%   \n",
      "  1019      11                -                        96668.93             -    4522.8     -       90.6%   \n",
      "  1020      12                -                        96668.94             -    4527.7     -       90.7%   \n",
      "  1021      15                -                        96668.94             -    4532.4     -       90.6%   \n",
      "  1022      12                -                        96668.94             -    4536.7     -       75.2%   \n",
      "  1023      11                -                        96668.94             -    4541.8     -       94.7%   \n",
      "  1024      12                -                        96668.94             -    4546.2     -       85.9%   \n",
      "  1025      12                -                        96668.94             -    4550.0     -       90.7%   \n",
      "  1026      12                -                        96668.95             -    4554.6     -       88.6%   \n",
      "  1027      14                -                        96668.95             -    4559.4     -       90.0%   \n",
      "  1028      12                -                        96668.95             -    4563.7     -       90.8%   \n",
      "  1029      12                -                        96668.95             -    4567.6     -       88.7%   \n",
      "  1030      12                -                        96668.95             -    4572.4     -       89.6%   \n",
      "  1031      14                -                        96668.95             -    4577.2     -       75.4%   \n",
      "  1032      12                -                        96668.95             -    4581.4     -       90.8%   \n",
      "  1033      12                -                        96668.95             -    4585.7     -       90.8%   \n",
      "  1034      13                -                        96668.96             -    4590.7     -       90.8%   \n",
      "  1035      12                -                        96668.96             -    4595.0     -       91.0%   \n",
      "  1036      11                -                        96668.96             -    4599.5     -       90.9%   \n",
      "  1037      12                -                        96668.96             -    4604.1     -       82.0%   \n",
      "  1038      12                -                        96668.96             -    4608.4     -       76.1%   \n",
      "  1039      11                -                        96668.96             -    4612.7     -       93.4%   \n",
      "  1040      12                -                        96668.96             -    4617.2     -       90.1%   \n",
      "  1041      13                -                        96668.97             -    4621.9     -       77.8%   \n",
      "  1042      12                -                        96668.97             -    4626.2     -       91.0%   \n",
      "  1043      13                -                        96668.97             -    4630.8     -       89.9%   \n",
      "  1044      12                -                        96668.97             -    4635.3     -       93.4%   \n"
     ]
    },
    {
     "name": "stderr",
     "output_type": "stream",
     "text": [
      "┌ Warning: Only almost solved\n",
      "└ @ Juniper C:\\Users\\Оля\\.julia\\packages\\Juniper\\atNbZ\\src\\BnBTree.jl:89\n"
     ]
    },
    {
     "name": "stdout",
     "output_type": "stream",
     "text": [
      "  1045      13                -                        96668.97             -    4641.7     -       91.0%   "
     ]
    },
    {
     "name": "stderr",
     "output_type": "stream",
     "text": [
      "┌ Warning: Only almost solved\n",
      "└ @ Juniper C:\\Users\\Оля\\.julia\\packages\\Juniper\\atNbZ\\src\\BnBTree.jl:89\n"
     ]
    },
    {
     "name": "stdout",
     "output_type": "stream",
     "text": [
      "\n",
      "  1046      12                -                        96668.97             -    4646.2     -       91.1%   \n",
      "  1047      11                -                        96668.97             -    4650.0     -       90.9%   \n",
      "  1048      10                -                        96668.97             -    4654.3     -       90.9%   \n",
      "  1049      12                -                        96668.98             -    4658.6     -       90.9%   \n",
      "  1050      14                -                        96668.98             -    4663.8     -       89.1%   "
     ]
    },
    {
     "name": "stderr",
     "output_type": "stream",
     "text": [
      "┌ Warning: Only almost solved\n",
      "└ @ Juniper C:\\Users\\Оля\\.julia\\packages\\Juniper\\atNbZ\\src\\BnBTree.jl:89\n"
     ]
    },
    {
     "name": "stdout",
     "output_type": "stream",
     "text": [
      "\n",
      "  1051      13                -                        96668.98             -    4669.2     -       82.2%   \n",
      "  1052      12                -                        96668.98             -    4673.8     -       90.9%   \n",
      "  1053      11                -                        96668.98             -    4677.5     -       90.9%   \n",
      "  1054      13                -                        96668.99             -    4682.9     -       91.0%   \n",
      "  1055      12                -                        96668.99             -    4688.9     -       81.8%   \n",
      "  1056      12                -                        96668.99             -    4693.8     -       88.7%   \n",
      "  1057      14                -                        96668.99             -    4699.5     -       91.0%   \n",
      "  1058      12                -                        96668.99             -    4704.7     -       91.0%   \n",
      "  1059      11                -                        96668.99             -    4708.9     -       91.0%   \n",
      "  1060      12                -                        96668.99             -    4714.5     -       96.0%   \n",
      "  1061      11                -                        96669.0              -    4719.3     -       88.4%   \n",
      "  1062      13                -                        96669.0              -    4723.9     -       91.0%   \n",
      "  1063      13                -                        96669.0              -    4728.5     -       88.8%   \n",
      "  1064      12                -                        96669.0              -    4733.5     -       82.4%   \n",
      "  1065      11                -                        96669.01             -    4737.9     -       81.0%   \n",
      "  1066      10                -                        96669.01             -    4741.7     -       91.1%   \n",
      "  1067      13                -                        96669.01             -    4746.6     -       95.5%   \n",
      "  1068      13                -                        96669.01             -    4751.4     -       91.2%   \n",
      "  1069      13                -                        96669.01             -    4755.9     -       88.9%   \n",
      "  1070      12                -                        96669.01             -    4760.7     -       88.7%   \n",
      "  1071      11                -                        96669.01             -    4764.8     -       96.0%   \n",
      "  1072      11                -                        96669.01             -    4768.7     -       88.7%   \n",
      "  1073      13                -                        96669.01             -    4773.1     -       82.5%   \n",
      "  1074      12                -                        96669.01             -    4777.4     -       91.1%   \n",
      "  1075      11                -                        96669.01             -    4782.3     -       75.6%   \n",
      "  1076      10                -                        96669.01             -    4786.4     -       91.1%   \n",
      "  1077      13                -                        96669.01             -    4790.6     -       91.1%   \n",
      "  1078      13                -                        96669.01             -    4795.2     -       94.9%   \n",
      "  1079      12                -                        96669.01             -    4800.0     -       91.1%   \n",
      "  1080      11                -                        96669.01             -    4804.1     -       91.2%   \n",
      "  1081      11                -                        96669.01             -    4808.4     -       91.2%   \n",
      "  1082      13                -                        96669.02             -    4812.7     -       89.5%   \n",
      "  1083      13                -                        96669.02             -    4817.3     -       89.2%   \n",
      "  1084      13                -                        96669.02             -    4821.3     -       91.2%   \n",
      "  1085      12                -                        96669.02             -    4825.7     -       91.2%   \n",
      "  1086      12                -                        96669.02             -    4830.2     -       91.2%   \n",
      "  1087      13                -                        96669.02             -    4834.7     -       91.2%   \n",
      "  1088      12                -                        96669.02             -    4839.3     -       91.2%   \n",
      "  1089      11                -                        96669.02             -    4843.0     -       97.3%   \n",
      "  1090      13                -                        96669.02             -    4847.9     -       91.3%   \n",
      "  1091      12                -                        96669.02             -    4851.9     -       91.3%   \n",
      "  1092      11                -                        96669.02             -    4855.7     -       91.3%   \n",
      "  1093      13                -                        96669.02             -    4860.2     -       91.3%   \n",
      "  1094      13                -                        96669.03             -    4864.6     -       89.0%   \n",
      "  1095      12                -                        96669.03             -    4869.0     -       91.3%   \n",
      "  1096      12                -                        96669.03             -    4873.3     -       91.3%   \n",
      "  1097      11                -                        96669.03             -    4878.7     -       91.4%   \n",
      "  1098      12                -                        96669.03             -    4883.0     -       91.3%   \n"
     ]
    },
    {
     "name": "stderr",
     "output_type": "stream",
     "text": [
      "┌ Warning: Only almost solved\n",
      "└ @ Juniper C:\\Users\\Оля\\.julia\\packages\\Juniper\\atNbZ\\src\\BnBTree.jl:89\n"
     ]
    },
    {
     "name": "stdout",
     "output_type": "stream",
     "text": [
      "  1099      14                -                        96669.03             -    4888.0     -       88.9%   \n"
     ]
    },
    {
     "name": "stderr",
     "output_type": "stream",
     "text": [
      "┌ Warning: Only almost solved\n",
      "└ @ Juniper C:\\Users\\Оля\\.julia\\packages\\Juniper\\atNbZ\\src\\BnBTree.jl:89\n"
     ]
    },
    {
     "name": "stdout",
     "output_type": "stream",
     "text": [
      "  1100      12                -                        96669.03             -    4893.4     -       84.3%   \n",
      "  1101      11                -                        96669.03             -    4897.7     -       91.4%   \n",
      "  1102      11                -                        96669.03             -    4902.6     -       91.4%   \n",
      "  1103      13                -                        96669.03             -    4906.9     -       91.4%   \n",
      "  1104      13                -                        96669.03             -    4912.6     -       89.2%   \n",
      "  1105      13                -                        96669.03             -    4917.0     -       89.1%   \n",
      "  1106      12                -                        96669.03             -    4921.4     -       91.5%   \n",
      "  1107      13                -                        96669.03             -    4925.9     -       89.0%   \n",
      "  1108      14                -                        96669.04             -    4930.7     -       91.5%   \n",
      "  1109      12                -                        96669.04             -    4935.0     -       91.4%   \n",
      "  1110      12                -                        96669.04             -    4938.7     -       91.5%   \n",
      "  1111      13                -                        96669.04             -    4943.5     -       91.6%   \n",
      "  1112      13                -                        96669.04             -    4948.4     -       91.5%   \n",
      "  1113      11                -                        96669.04             -    4954.2     -       91.6%   \n",
      "  1114      13                -                        96669.04             -    4964.4     -       91.5%   \n",
      "  1115      13                -                        96669.04             -    4969.3     -       91.6%   \n",
      "  1116      13                -                        96669.04             -    4974.3     -       91.6%   \n",
      "  1117      11                -                        96669.04             -    4980.2     -       95.2%   \n",
      "  1118      13                -                        96669.04             -    4985.5     -       91.6%   \n",
      "  1119      12                -                        96669.04             -    4991.1     -       93.8%   \n",
      "  1120      12                -                        96669.04             -    4996.3     -       91.6%   \n",
      "  1121      13                -                        96669.05             -    5001.2     -       91.6%   \n",
      "  1122      11                -                        96669.05             -    5007.2     -       91.7%   \n",
      "  1123      13                -                        96669.05             -    5013.0     -       91.8%   \n",
      "  1124      11                -                        96669.05             -    5018.1     -       91.7%   \n",
      "  1125      14                -                        96669.06             -    5024.1     -       75.7%   \n",
      "  1126      13                -                        96669.06             -    5028.6     -       91.7%   \n",
      "  1127      13                -                        96669.06             -    5033.4     -       95.3%   \n",
      "  1128      13                -                        96669.08             -    5037.8     -       91.7%   \n",
      "  1129      11                -                        96669.08             -    5041.2     -       91.7%   \n",
      "  1130      14                -                        96669.08             -    5045.8     -       75.8%   \n",
      "  1131      13                -                        96669.08             -    5050.5     -       97.0%   \n",
      "  1132      13                -                        96669.09             -    5054.7     -       75.9%   \n",
      "  1133      13                -                        96669.09             -    5059.6     -       92.3%   \n",
      "  1134      12                -                        96669.09             -    5063.7     -       91.8%   \n",
      "  1135      13                -                        96669.1              -    5068.5     -       91.8%   \n",
      "  1136      11                -                        96669.1              -    5073.0     -       91.8%   \n",
      "  1137      10                -                        96669.1              -    5076.9     -       91.8%   \n",
      "  1138      14                -                        96669.1              -    5081.4     -       91.8%   \n",
      "  1139      11                -                        96669.11             -    5085.2     -       91.8%   \n",
      "  1140      12                -                        96669.12             -    5089.8     -       91.8%   \n",
      "  1141      12                -                        96669.12             -    5094.0     -       91.5%   \n",
      "  1142      13                -                        96669.12             -    5098.2     -       91.8%   \n",
      "  1143      12                -                        96669.13             -    5102.7     -       91.9%   \n",
      "  1144      11                -                        96669.13             -    5106.5     -       91.9%   \n",
      "  1145      13                -                        96669.13             -    5110.4     -       91.9%   \n",
      "  1146      12                -                        96669.14             -    5114.5     -       91.9%   \n",
      "  1147      12                -                        96669.14             -    5119.8     -       91.9%   \n",
      "  1148      14                -                        96669.15             -    5123.4     -       87.8%   \n",
      "  1149      13                -                        96669.15             -    5128.0     -       76.2%   \n",
      "  1150      13                -                        96669.15             -    5133.1     -       91.9%   \n",
      "  1151      12                -                        96669.15             -    5136.8     -       91.9%   \n",
      "  1152      13                -                        96669.16             -    5141.5     -       92.0%   \n",
      "  1153      11                -                        96669.17             -    5145.7     -       92.0%   \n",
      "  1154      12                -                        96669.17             -    5150.6     -       92.2%   \n",
      "  1155      13                -                        96669.17             -    5155.1     -       76.3%   \n",
      "  1156      12                -                        96669.18             -    5159.5     -       92.0%   \n",
      "  1157      14                -                        96669.19             -    5164.0     -       92.2%   \n",
      "  1158      12                -                        96669.19             -    5170.1     -       96.1%   \n",
      "  1159      12                -                        96669.19             -    5174.7     -       76.4%   \n",
      "  1160      11                -                        96669.19             -    5178.7     -       92.0%   \n",
      "  1161      13                -                        96669.2              -    5183.4     -       92.1%   \n",
      "  1162      13                -                        96669.2              -    5187.8     -       92.2%   \n",
      "  1163      12                -                        96669.2              -    5192.2     -       76.5%   \n",
      "  1164      13                -                        96669.21             -    5196.0     -       92.0%   \n",
      "  1165      13                -                        96669.22             -    5200.8     -       92.3%   \n",
      "  1166      12                -                        96669.23             -    5205.4     -       92.1%   \n",
      "  1167      12                -                        96669.23             -    5209.6     -       92.1%   \n",
      "  1168      12                -                        96669.23             -    5214.5     -       76.6%   \n",
      "  1169      11                -                        96669.23             -    5218.5     -       97.6%   \n",
      "  1170      13                -                        96669.24             -    5223.0     -       92.2%   \n",
      "  1171      12                -                        96669.24             -    5227.1     -       76.7%   \n",
      "  1172      13                -                        96669.24             -    5231.6     -       92.1%   \n",
      "  1172      13                -                        96669.24             -    5236.8     -       86.9%   "
     ]
    },
    {
     "name": "stderr",
     "output_type": "stream",
     "text": [
      "┌ Warning: Only almost solved\n",
      "└ @ Juniper C:\\Users\\Оля\\.julia\\packages\\Juniper\\atNbZ\\src\\BnBTree.jl:89\n"
     ]
    },
    {
     "name": "stdout",
     "output_type": "stream",
     "text": [
      "\n",
      "  1173      13                -                        96669.26             -    5241.1     -       76.8%   \n",
      "  1174      13                -                        96669.26             -    5245.9     -       82.2%   \n",
      "  1175      12                -                        96669.27             -    5250.1     -       92.2%   \n",
      "  1176      12                -                        96669.28             -    5254.5     -       92.2%   \n",
      "  1177      11                -                        96669.28             -    5259.1     -       95.5%   \n",
      "  1178      13                -                        96669.28             -    5263.0     -       89.0%   \n",
      "  1179      12                -                        96669.28             -    5267.4     -       92.1%   \n",
      "  1180      12                -                        96669.31             -    5271.7     -       92.2%   \n",
      "  1181      12                -                        96669.31             -    5277.1     -       87.6%   \n",
      "  1182      10                -                        96669.31             -    5281.8     -       95.5%   \n",
      "  1183      11                -                        96669.32             -    5286.0     -       89.1%   \n",
      "  1184      13                -                        96669.33             -    5291.4     -       92.1%   \n",
      "  1185      13                -                        96669.33             -    5298.0     -       92.1%   \n",
      "  1186      12                -                        96669.33             -    5303.9     -       86.1%   "
     ]
    },
    {
     "name": "stderr",
     "output_type": "stream",
     "text": [
      "┌ Warning: Only almost solved\n",
      "└ @ Juniper C:\\Users\\Оля\\.julia\\packages\\Juniper\\atNbZ\\src\\BnBTree.jl:89\n"
     ]
    },
    {
     "name": "stdout",
     "output_type": "stream",
     "text": [
      "\n",
      "  1187      12                -                        96669.33             -    5309.1     -       92.4%   \n",
      "  1188      12                -                        96669.33             -    5314.5     -       92.2%   \n",
      "  1189      10                -                        96669.34             -    5318.8     -       92.2%   \n",
      "  1190      13                -                        96669.35             -    5324.2     -       92.3%   \n",
      "  1191      13                -                        96669.35             -    5328.2     -       92.2%   \n",
      "  1192      12                -                        96669.36             -    5332.7     -       92.3%   \n",
      "  1193      11                -                        96669.36             -    5336.6     -       95.5%   \n",
      "  1194      12                -                        96669.36             -    5341.7     -       94.6%   \n",
      "  1195      12                -                        96669.36             -    5346.3     -       90.5%   \n",
      "  1196      13                -                        96669.36             -    5350.6     -       92.2%   \n",
      "  1197      13                -                        96669.37             -    5355.7     -       92.3%   "
     ]
    },
    {
     "name": "stderr",
     "output_type": "stream",
     "text": [
      "┌ Warning: Only almost solved\n",
      "└ @ Juniper C:\\Users\\Оля\\.julia\\packages\\Juniper\\atNbZ\\src\\BnBTree.jl:89\n"
     ]
    },
    {
     "name": "stdout",
     "output_type": "stream",
     "text": [
      "\n",
      "  1198      12                -                        96669.37             -    5360.2     -       95.5%   \n",
      "  1199      12                -                        96669.37             -    5364.1     -       89.0%   \n",
      "  1200      12                -                        96669.38             -    5368.5     -       92.2%   \n",
      "  1201      13                -                        96669.39             -    5373.5     -       92.3%   \n",
      "  1202      11                -                        96669.39             -    5378.0     -       92.3%   \n",
      "  1203      12                -                        96669.39             -    5382.6     -       92.2%   \n",
      "  1204      14                -                        96669.39             -    5387.1     -       90.3%   \n",
      "  1205      12                -                        96669.4              -    5392.4     -       95.5%   \n",
      "  1206      12                -                        96669.4              -    5396.9     -       89.1%   \n",
      "  1207      14                -                        96669.41             -    5401.6     -       83.6%   \n",
      "  1208      14                -                        96669.44             -    5406.0     -       76.3%   \n",
      "  1209      12                -                        96669.44             -    5409.9     -       92.3%   \n",
      "  1210      12                -                        96669.45             -    5413.7     -       92.3%   \n",
      "  1211      12                -                        96669.45             -    5418.0     -       92.3%   \n",
      "  1212      12                -                        96669.45             -    5422.7     -       95.4%   \n",
      "  1213      12                -                        96669.46             -    5427.3     -       92.2%   \n",
      "  1214      12                -                        96669.47             -    5431.7     -       92.3%   \n",
      "  1215      11                -                        96669.47             -    5436.3     -       92.3%   \n",
      "  1216      12                -                        96669.47             -    5440.4     -       92.3%   \n",
      "  1217      13                -                        96669.47             -    5445.3     -       95.4%   \n",
      "  1218      13                -                        96669.48             -    5449.7     -       89.2%   \n",
      "  1219      13                -                        96669.49             -    5454.3     -       87.9%   \n",
      "  1220      13                -                        96669.49             -    5459.1     -       83.5%   \n",
      "  1221      11                -                        96669.49             -    5462.9     -       92.3%   \n",
      "  1222      12                -                        96669.5              -    5467.0     -       84.6%   \n",
      "  1223      12                -                        96669.51             -    5471.6     -       92.4%   \n",
      "  1224      14                -                        96669.52             -    5476.7     -       92.3%   \n",
      "  1225      13                -                        96669.53             -    5480.4     -       83.7%   \n",
      "  1226      13                -                        96669.53             -    5484.9     -       83.4%   \n",
      "  1227      13                -                        96669.53             -    5489.6     -       92.4%   \n",
      "  1228      13                -                        96669.53             -    5493.4     -       92.4%   \n",
      "  1229      12                -                        96669.54             -    5498.0     -       92.4%   \n",
      "  1230      11                -                        96669.55             -    5502.8     -       92.4%   \n",
      "  1231      11                -                        96669.55             -    5507.1     -       92.4%   \n",
      "  1232      12                -                        96669.56             -    5511.5     -       95.4%   \n",
      "  1233      12                -                        96669.56             -    5515.8     -       89.2%   \n",
      "  1234      12                -                        96669.57             -    5520.0     -       92.5%   \n",
      "  1235      12                -                        96669.57             -    5524.7     -       92.5%   \n",
      "  1236      12                -                        96669.58             -    5528.2     -       84.7%   \n",
      "  1237      12                -                        96669.58             -    5532.4     -       92.4%   \n",
      "  1238      13                -                        96669.6              -    5537.0     -       92.5%   \n",
      "  1239      12                -                        96669.61             -    5541.3     -       92.4%   \n",
      "  1240      12                -                        96669.61             -    5545.3     -       92.5%   \n",
      "  1241      12                -                        96669.61             -    5550.0     -       92.5%   \n",
      "  1242      13                -                        96669.62             -    5554.5     -       95.4%   \n",
      "  1243      12                -                        96669.63             -    5559.2     -       92.5%   \n",
      "  1244      11                -                        96669.64             -    5563.9     -       94.5%   \n",
      "  1245      12                -                        96669.64             -    5568.7     -       90.8%   \n",
      "  1246      12                -                        96669.64             -    5572.7     -       92.4%   \n",
      "  1247      12                -                        96669.65             -    5578.0     -       95.3%   \n",
      "  1248      12                -                        96669.65             -    5583.0     -       89.4%   \n",
      "  1249      13                -                        96669.66             -    5589.1     -       92.5%   "
     ]
    },
    {
     "name": "stderr",
     "output_type": "stream",
     "text": [
      "┌ Warning: Only almost solved\n",
      "└ @ Juniper C:\\Users\\Оля\\.julia\\packages\\Juniper\\atNbZ\\src\\BnBTree.jl:89\n"
     ]
    },
    {
     "name": "stdout",
     "output_type": "stream",
     "text": [
      "\n",
      "  1250      14                -                        96669.67             -    5594.1     -       84.4%   \n",
      "  1251      11                -                        96669.67             -    5599.5     -       92.5%   \n",
      "  1252      11                -                        96669.69             -    5604.6     -       92.5%   \n",
      "  1253      12                -                        96669.69             -    5609.8     -       92.5%   \n",
      "  1254      12                -                        96669.7              -    5615.9     -       95.3%   \n",
      "  1255      11                -                        96669.7              -    5620.6     -       89.5%   \n",
      "  1256      14                -                        96669.7              -    5625.6     -       88.9%   \n",
      "  1257      14                -                        96669.7              -    5631.1     -       91.4%   \n",
      "  1258      14                -                        96669.7              -    5635.2     -       84.6%   \n",
      "  1259      13                -                        96669.7              -    5639.5     -       85.9%   \n",
      "  1260      11                -                        96669.7              -    5644.0     -       92.6%   \n",
      "  1261      12                -                        96669.71             -    5648.9     -       92.7%   \n",
      "  1262      12                -                        96669.71             -    5653.6     -       92.6%   \n",
      "  1263      13                -                        96669.71             -    5658.6     -       95.3%   \n",
      "  1264      13                -                        96669.72             -    5663.0     -       89.6%   \n",
      "  1265      13                -                        96669.73             -    5667.7     -       92.6%   \n",
      "  1266      13                -                        96669.73             -    5672.5     -       94.6%   \n",
      "  1267      12                -                        96669.74             -    5677.5     -       92.3%   \n",
      "  1268      10                -                        96669.74             -    5680.7     -       92.6%   \n",
      "  1269      12                -                        96669.75             -    5685.3     -       92.6%   \n",
      "  1270      13                -                        96669.75             -    5689.0     -       85.9%   \n",
      "  1271      11                -                        96669.75             -    5693.1     -       92.6%   \n"
     ]
    },
    {
     "name": "stderr",
     "output_type": "stream",
     "text": [
      "┌ Warning: Only almost solved\n",
      "└ @ Juniper C:\\Users\\Оля\\.julia\\packages\\Juniper\\atNbZ\\src\\BnBTree.jl:89\n"
     ]
    },
    {
     "name": "stdout",
     "output_type": "stream",
     "text": [
      "  1272      13                -                        96669.75             -    5698.1     -       85.9%   \n",
      "  1273      13                -                        96669.76             -    5702.3     -       92.6%   \n",
      "  1274      12                -                        96669.76             -    5706.8     -       92.7%   \n",
      "  1275      12                -                        96669.76             -    5711.7     -       86.3%   \n",
      "  1276      12                -                        96669.76             -    5715.6     -       95.2%   \n",
      "  1277      13                -                        96669.77             -    5720.6     -       89.7%   \n",
      "  1278      11                -                        96669.77             -    5725.0     -       92.7%   \n",
      "  1279      11                -                        96669.77             -    5729.3     -       92.8%   \n",
      "  1280      14                -                        96669.78             -    5733.7     -       92.7%   \n",
      "  1281      12                -                        96669.78             -    5738.7     -       95.2%   \n",
      "  1282      12                -                        96669.78             -    5743.1     -       89.7%   \n",
      "  1283      13                -                        96669.78             -    5746.9     -       84.1%   \n",
      "  1284      13                -                        96669.79             -    5750.9     -       86.0%   \n",
      "  1285      12                -                        96669.79             -    5755.6     -       92.6%   \n",
      "  1286      13                -                        96669.8              -    5760.5     -       84.1%   \n",
      "  1287      12                -                        96669.8              -    5764.5     -       92.7%   \n",
      "  1288      11                -                        96669.8              -    5768.7     -       86.0%   \n",
      "  1289      11                -                        96669.8              -    5773.1     -       92.7%   \n",
      "  1290      13                -                        96669.8              -    5778.3     -       95.2%   \n",
      "  1291      13                -                        96669.81             -    5783.1     -       89.8%   \n",
      "  1292      14                -                        96669.81             -    5787.2     -       86.0%   \n",
      "  1293      13                -                        96669.81             -    5792.4     -       92.7%   \n",
      "  1294      11                -                        96669.81             -    5796.7     -       86.1%   \n",
      "  1295      13                -                        96669.82             -    5801.1     -       92.8%   \n",
      "  1296      10                -                        96669.83             -    5805.1     -       92.7%   \n",
      "  1297      14                -                        96669.83             -    5809.6     -       84.8%   \n",
      "  1298      13                -                        96669.83             -    5814.1     -       86.1%   \n",
      "  1299      12                -                        96669.84             -    5818.6     -       92.8%   \n",
      "  1300      12                -                        96669.84             -    5823.4     -       92.8%   \n",
      "  1301      11                -                        96669.85             -    5827.7     -       86.2%   \n",
      "  1302      11                -                        96669.85             -    5832.0     -       92.8%   \n",
      "  1303      13                -                        96669.86             -    5837.1     -       86.2%   \n",
      "  1304      12                -                        96669.86             -    5841.7     -       95.1%   \n",
      "  1305      11                -                        96669.86             -    5845.9     -       89.9%   \n",
      "  1306      14                -                        96669.87             -    5850.3     -       85.2%   \n",
      "  1307      11                -                        96669.87             -    5855.2     -       92.8%   \n",
      "  1308      13                -                        96669.88             -    5860.6     -       86.2%   \n",
      "  1309      12                -                        96669.88             -    5865.9     -       95.1%   \n",
      "  1310      11                -                        96669.88             -    5870.5     -       92.8%   \n",
      "  1311      12                -                        96669.89             -    5875.4     -       90.0%   \n",
      "  1312      12                -                        96669.89             -    5879.7     -       84.8%   \n",
      "  1313      13                -                        96669.91             -    5885.6     -       84.9%   \n",
      "  1314      13                -                        96669.91             -    5890.5     -       85.3%   \n",
      "  1315      13                -                        96669.93             -    5896.0     -       97.8%   \n",
      "  1316      13                -                        96669.93             -    5901.4     -       86.3%   \n",
      "  1317      13                -                        96669.93             -    5906.0     -       92.8%   \n",
      "  1318      13                -                        96669.93             -    5911.0     -       84.9%   \n",
      "  1319      10                -                        96669.94             -    5915.6     -       90.5%   \n",
      "  1320      12                -                        96669.95             -    5921.3     -       92.9%   \n",
      "  1321      12                -                        96669.95             -    5926.6     -       92.9%   \n",
      "  1322      15                -                        96669.96             -    5931.3     -       86.4%   \n",
      "  1323      14                -                        96669.96             -    5936.2     -       85.0%   \n",
      "  1324      12                -                        96669.96             -    5939.9     -       92.9%   \n",
      "  1324      14                -                        96669.97             -    5945.7     -       92.2%   "
     ]
    },
    {
     "name": "stderr",
     "output_type": "stream",
     "text": [
      "┌ Warning: Only almost solved\n",
      "└ @ Juniper C:\\Users\\Оля\\.julia\\packages\\Juniper\\atNbZ\\src\\BnBTree.jl:89\n"
     ]
    },
    {
     "name": "stdout",
     "output_type": "stream",
     "text": [
      "\n",
      "  1325      12                -                        96669.97             -    5950.6     -       93.2%   \n",
      "  1326      11                -                        96669.97             -    5954.5     -       92.8%   \n",
      "  1327      13                -                        96669.98             -    5958.7     -       86.4%   \n",
      "  1328      12                -                        96669.98             -    5962.8     -       85.7%   \n",
      "  1329      11                -                        96669.98             -    5967.3     -       92.9%   \n",
      "  1330      13                -                        96669.98             -    5971.8     -       92.9%   \n",
      "  1331      13                -                        96669.99             -    5975.7     -       95.1%   \n",
      "  1332      13                -                        96669.99             -    5980.9     -       90.1%   \n",
      "  1333      13                -                        96669.99             -    5985.6     -       95.8%   \n",
      "  1334      12                -                        96669.99             -    5989.7     -       92.9%   \n",
      "  1335      12                -                        96669.99             -    5994.1     -       95.9%   \n",
      "  1336      13                -                        96670.0              -    5998.9     -       86.4%   \n",
      "  1337      12                -                        96670.01             -    6003.1     -       86.5%   \n",
      "  1338      11                -                        96670.01             -    6007.0     -       92.9%   \n",
      "  1339      13                -                        96670.02             -    6011.0     -       86.2%   \n",
      "  1340      12                -                        96670.02             -    6015.3     -       86.5%   \n",
      "  1341      12                -                        96670.03             -    6018.8     -       93.0%   \n",
      "  1342      11                -                        96670.03             -    6023.3     -       92.9%   \n",
      "  1343      11                -                        96670.03             -    6027.0     -       93.0%   \n",
      "  1344      13                -                        96670.03             -    6032.1     -       85.4%   \n",
      "  1345      13                -                        96670.03             -    6036.6     -       84.5%   \n",
      "  1346      12                -                        96670.04             -    6041.3     -       95.0%   \n",
      "  1347      13                -                        96670.04             -    6046.4     -       90.2%   \n",
      "  1348      11                -                        96670.05             -    6050.1     -       86.5%   \n",
      "  1349      14                -                        96670.05             -    6054.7     -       93.1%   \n",
      "  1350      12                -                        96670.05             -    6059.3     -       86.1%   \n",
      "  1351      13                -                        96670.06             -    6064.4     -       84.6%   \n",
      "  1352      13                -                        96670.07             -    6068.7     -       93.0%   \n",
      "  1353      13                -                        96670.07             -    6073.1     -       93.0%   \n",
      "  1354      12                -                        96670.07             -    6078.0     -       86.6%   \n",
      "  1355      14                -                        96670.07             -    6082.7     -       85.5%   \n",
      "  1356      13                -                        96670.07             -    6087.2     -       86.0%   \n",
      "  1357      12                -                        96670.07             -    6091.0     -       93.1%   \n",
      "  1358      13                -                        96670.07             -    6095.8     -       84.6%   \n",
      "  1359      11                -                        96670.07             -    6099.9     -       93.0%   \n",
      "  1360      11                -                        96670.08             -    6104.0     -       85.9%   \n",
      "  1361      13                -                        96670.08             -    6108.6     -       86.6%   \n",
      "  1362      12                -                        96670.08             -    6112.7     -       93.0%   \n",
      "  1363      12                -                        96670.08             -    6116.9     -       86.7%   \n",
      "  1364      12                -                        96670.09             -    6120.7     -       93.0%   \n",
      "  1365      12                -                        96670.09             -    6125.3     -       85.5%   \n",
      "  1366      13                -                        96670.09             -    6129.8     -       94.9%   \n",
      "  1367      14                -                        96670.09             -    6134.2     -       90.2%   \n",
      "  1368      13                -                        96670.1              -    6139.2     -       84.7%   \n",
      "  1369      15                -                        96670.1              -    6144.5     -       84.4%   \n",
      "  1370      14                -                        96670.11             -    6149.4     -       86.7%   \n",
      "  1371      12                -                        96670.11             -    6153.8     -       84.7%   \n",
      "  1372      13                -                        96670.11             -    6158.8     -       85.8%   \n",
      "  1373      13                -                        96670.12             -    6163.4     -       84.0%   \n",
      "  1374      12                -                        96670.12             -    6167.9     -       93.1%   \n",
      "  1375      12                -                        96670.12             -    6172.6     -       93.1%   \n",
      "  1376      12                -                        96670.13             -    6178.2     -       98.3%   \n",
      "  1377      16                -                        96670.13             -    6184.1     -       96.9%   \n",
      "  1378      14                -                        96670.13             -    6190.2     -       85.3%   \n",
      "  1379      13                -                        96670.13             -    6195.0     -       85.7%   \n",
      "  1380      12                -                        96670.13             -    6200.8     -       86.7%   \n",
      "  1381      13                -                        96670.13             -    6207.1     -       93.1%   \n",
      "  1382      13                -                        96670.13             -    6213.1     -       98.8%   \n",
      "  1383      12                -                        96670.13             -    6217.8     -       90.2%   \n",
      "  1384      14                -                        96670.14             -    6224.0     -       95.1%   \n",
      "  1385      13                -                        96670.14             -    6228.3     -       85.5%   \n",
      "  1386      12                -                        96670.14             -    6233.8     -       97.4%   \n",
      "  1387      13                -                        96670.14             -    6237.9     -       84.8%   \n",
      "  1388      14                -                        96670.14             -    6242.5     -       82.8%   \n",
      "  1389      13                -                        96670.14             -    6246.5     -       94.9%   \n",
      "  1390      12                -                        96670.14             -    6251.2     -       90.3%   \n",
      "  1391      13                -                        96670.16             -    6256.6     -       93.1%   \n",
      "  1392      12                -                        96670.16             -    6260.9     -       86.8%   \n",
      "  1393      12                -                        96670.16             -    6265.6     -       93.1%   \n",
      "  1394      13                -                        96670.17             -    6270.8     -       94.8%   \n",
      "  1395      15                -                        96670.17             -    6275.5     -       90.4%   \n",
      "  1396      12                -                        96670.17             -    6280.1     -       93.2%   \n",
      "  1397      11                -                        96670.17             -    6284.8     -       86.8%   \n",
      "  1398      14                -                        96670.17             -    6289.9     -       93.0%   \n",
      "  1399      12                -                        96670.17             -    6294.1     -       93.2%   \n",
      "  1400      12                -                        96670.17             -    6299.6     -       96.1%   \n",
      "  1401      14                -                        96670.17             -    6304.6     -       77.3%   \n",
      "  1402      13                -                        96670.17             -    6309.2     -       85.9%   \n",
      "  1403      12                -                        96670.17             -    6313.6     -       85.1%   \n",
      "  1404      14                -                        96670.18             -    6319.3     -       93.2%   \n",
      "  1405      12                -                        96670.18             -    6323.2     -       85.6%   \n",
      "  1406      13                -                        96670.18             -    6328.2     -       93.1%   \n",
      "  1407      11                -                        96670.18             -    6332.3     -       96.1%   \n",
      "  1408      15                -                        96670.18             -    6337.5     -       92.9%   \n",
      "  1409      13                -                        96670.18             -    6341.5     -       95.2%   \n",
      "  1410      13                -                        96670.19             -    6346.5     -       86.8%   \n",
      "  1411      14                -                        96670.19             -    6350.7     -       84.5%   \n",
      "  1412      12                -                        96670.19             -    6355.6     -       86.9%   \n",
      "  1413      13                -                        96670.19             -    6360.2     -       85.3%   \n",
      "  1414      13                -                        96670.19             -    6365.6     -       93.1%   \n",
      "  1415      13                -                        96670.19             -    6370.3     -       84.9%   \n",
      "  1416      12                -                        96670.19             -    6375.3     -       93.2%   \n",
      "  1417      11                -                        96670.19             -    6379.7     -       93.2%   \n",
      "  1418      16                -                        96670.19             -    6384.8     -       84.7%   \n",
      "  1419      15                -                        96670.19             -    6388.5     -       84.7%   \n",
      "  1420      13                -                        96670.19             -    6393.2     -       93.2%   \n",
      "  1421      11                -                        96670.19             -    6398.0     -       86.9%   \n",
      "  1422      13                -                        96670.2              -    6403.1     -       86.5%   \n",
      "  1423      12                -                        96670.2              -    6407.8     -       93.2%   \n",
      "  1424      12                -                        96670.2              -    6411.1     -       82.7%   \n",
      "  1425      14                -                        96670.2              -    6416.1     -       94.8%   \n",
      "  1426      12                -                        96670.2              -    6420.7     -       90.5%   \n",
      "  1427      12                -                        96670.2              -    6424.6     -       93.4%   \n",
      "  1428      13                -                        96670.2              -    6430.0     -       93.3%   \n",
      "  1429      12                -                        96670.2              -    6434.1     -       86.9%   \n",
      "  1430      12                -                        96670.21             -    6438.4     -       93.2%   \n",
      "  1431      12                -                        96670.21             -    6443.0     -       87.0%   \n",
      "  1432      13                -                        96670.21             -    6448.3     -       90.5%   \n",
      "  1433      11                -                        96670.21             -    6451.7     -       93.2%   \n",
      "  1434      12                -                        96670.21             -    6455.8     -       93.0%   \n",
      "  1435      12                -                        96670.22             -    6460.5     -       85.3%   \n",
      "  1436      13                -                        96670.23             -    6465.7     -       93.3%   \n",
      "  1437      13                -                        96670.23             -    6468.8     -       87.0%   \n",
      "  1438      14                -                        96670.23             -    6473.7     -       86.4%   \n",
      "  1439      13                -                        96670.23             -    6479.3     -       93.2%   \n",
      "  1440      14                -                        96670.24             -    6484.7     -       93.4%   \n",
      "  1441      11                -                        96670.24             -    6489.8     -       93.3%   \n",
      "  1442      12                -                        96670.24             -    6495.1     -       93.3%   \n",
      "  1443      12                -                        96670.24             -    6500.2     -       87.0%   \n",
      "  1444      12                -                        96670.24             -    6505.0     -       93.3%   \n",
      "  1445      12                -                        96670.24             -    6510.4     -       85.0%   \n",
      "  1446      13                -                        96670.25             -    6515.6     -       87.1%   \n",
      "  1447      12                -                        96670.25             -    6520.1     -       93.3%   \n",
      "  1448      12                -                        96670.25             -    6525.4     -       95.7%   \n",
      "  1449      12                -                        96670.25             -    6529.6     -       91.9%   \n",
      "  1450      11                -                        96670.25             -    6534.2     -       87.1%   \n",
      "  1451      15                -                        96670.25             -    6538.7     -       83.0%   \n",
      "  1452      12                -                        96670.25             -    6543.1     -       93.3%   \n",
      "  1453      13                -                        96670.26             -    6547.7     -       93.1%   \n",
      "  1454      12                -                        96670.26             -    6551.7     -       93.4%   \n",
      "  1455      12                -                        96670.26             -    6555.6     -       93.5%   \n",
      "  1456      12                -                        96670.26             -    6560.9     -       87.2%   \n",
      "  1457      14                -                        96670.26             -    6565.8     -       93.5%   \n",
      "  1458      12                -                        96670.26             -    6570.3     -       93.3%   \n",
      "  1459      13                -                        96670.26             -    6575.2     -       93.4%   \n",
      "  1460      13                -                        96670.26             -    6579.7     -       93.3%   \n",
      "  1461      12                -                        96670.26             -    6583.3     -       87.2%   \n",
      "  1462      12                -                        96670.27             -    6587.0     -       85.5%   \n",
      "  1463      15                -                        96670.27             -    6591.9     -       93.3%   \n"
     ]
    },
    {
     "name": "stderr",
     "output_type": "stream",
     "text": [
      "┌ Warning: Only almost solved\n",
      "└ @ Juniper C:\\Users\\Оля\\.julia\\packages\\Juniper\\atNbZ\\src\\BnBTree.jl:89\n"
     ]
    },
    {
     "name": "stdout",
     "output_type": "stream",
     "text": [
      "  1464      13                -                        96670.28             -    6598.2     -       93.4%   "
     ]
    },
    {
     "name": "stderr",
     "output_type": "stream",
     "text": [
      "┌ Warning: Only almost solved\n",
      "└ @ Juniper C:\\Users\\Оля\\.julia\\packages\\Juniper\\atNbZ\\src\\BnBTree.jl:89\n"
     ]
    },
    {
     "name": "stdout",
     "output_type": "stream",
     "text": [
      "\n",
      "  1465      13                -                        96670.28             -    6602.7     -       86.1%   \n",
      "  1466      12                -                        96670.29             -    6607.7     -       87.2%   \n",
      "  1467      15                -                        96670.29             -    6611.8     -       79.6%   \n",
      "  1468      14                -                        96670.29             -    6616.7     -       93.4%   \n",
      "  1469      13                -                        96670.3              -    6620.7     -       93.3%   \n",
      "  1470      12                -                        96670.3              -    6625.1     -       93.1%   \n",
      "  1471      13                -                        96670.31             -    6629.6     -       95.3%   \n",
      "  1472      13                -                        96670.31             -    6634.5     -       93.3%   \n",
      "  1473      12                -                        96670.32             -    6639.1     -       93.4%   \n",
      "  1474      15                -                        96670.32             -    6644.1     -       87.5%   \n",
      "  1475      13                -                        96670.32             -    6647.6     -       84.1%   \n",
      "  1476      12                -                        96670.33             -    6652.0     -       93.4%   \n",
      "  1477      14                -                        96670.33             -    6656.8     -       86.3%   \n",
      "  1478      13                -                        96670.33             -    6661.3     -       94.8%   \n",
      "  1479      12                -                        96670.33             -    6665.6     -       90.6%   \n",
      "  1480      11                -                        96670.34             -    6669.8     -       93.4%   \n",
      "  1481      14                -                        96670.34             -    6673.6     -       83.5%   \n",
      "  1482      15                -                        96670.34             -    6678.9     -       79.7%   \n",
      "  1483      12                -                        96670.35             -    6682.6     -       87.3%   \n",
      "  1484      12                -                        96670.37             -    6687.5     -       93.5%   \n",
      "  1485      14                -                        96670.37             -    6691.9     -       92.8%   \n",
      "  1486      12                -                        96670.38             -    6696.3     -       90.7%   \n",
      "  1487      12                -                        96670.38             -    6702.2     -       93.4%   "
     ]
    },
    {
     "name": "stderr",
     "output_type": "stream",
     "text": [
      "┌ Warning: Only almost solved\n",
      "└ @ Juniper C:\\Users\\Оля\\.julia\\packages\\Juniper\\atNbZ\\src\\BnBTree.jl:89\n"
     ]
    },
    {
     "name": "stdout",
     "output_type": "stream",
     "text": [
      "\n",
      "  1488      11                -                        96670.38             -    6706.3     -       93.5%   \n",
      "  1489      14                -                        96670.38             -    6711.0     -       87.3%   \n",
      "  1490      13                -                        96670.38             -    6715.7     -       93.4%   "
     ]
    },
    {
     "name": "stderr",
     "output_type": "stream",
     "text": [
      "┌ Warning: Only almost solved\n",
      "└ @ Juniper C:\\Users\\Оля\\.julia\\packages\\Juniper\\atNbZ\\src\\BnBTree.jl:89\n"
     ]
    },
    {
     "name": "stdout",
     "output_type": "stream",
     "text": [
      "\n",
      "  1491      14                -                        96670.39             -    6721.1     -       93.5%   \n",
      "  1492      13                -                        96670.4              -    6725.7     -       87.4%   \n",
      "  1493      13                -                        96670.4              -    6730.4     -       93.5%   \n",
      "  1494      12                -                        96670.42             -    6734.4     -       93.4%   \n",
      "  1495      12                -                        96670.42             -    6738.8     -       93.5%   \n",
      "  1496      13                -                        96670.42             -    6743.4     -       87.4%   \n",
      "  1497      13                -                        96670.42             -    6748.1     -       93.4%   \n",
      "  1498      13                -                        96670.42             -    6753.7     -       93.5%   \n",
      "  1499      12                -                        96670.42             -    6758.4     -       93.5%   \n",
      "  1500      14                -                        96670.43             -    6763.2     -       84.9%   \n",
      "  1501      11                -                        96670.44             -    6767.4     -       93.5%   \n",
      "  1502      13                -                        96670.44             -    6772.1     -       93.5%   \n",
      "  1503      12                -                        96670.45             -    6777.0     -       93.5%   \n",
      "  1504      12                -                        96670.45             -    6783.2     -       87.5%   \n",
      "  1505      11                -                        96670.45             -    6788.2     -       93.6%   \n",
      "  1506      14                -                        96670.46             -    6793.8     -       93.3%   \n",
      "  1507      12                -                        96670.46             -    6799.6     -       94.8%   \n",
      "  1508      12                -                        96670.47             -    6804.7     -       90.7%   \n",
      "  1509      11                -                        96670.47             -    6809.3     -       93.5%   \n",
      "  1510      11                -                        96670.47             -    6814.5     -       93.1%   \n",
      "  1511      15                -                        96670.47             -    6820.3     -       87.5%   \n",
      "  1512      13                -                        96670.47             -    6825.2     -       93.6%   \n",
      "  1513      13                -                        96670.47             -    6830.2     -       86.8%   \n",
      "  1514      11                -                        96670.47             -    6834.7     -       93.6%   \n",
      "  1515      13                -                        96670.48             -    6839.0     -       93.5%   \n",
      "  1516      12                -                        96670.48             -    6843.4     -       93.6%   \n",
      "  1517      12                -                        96670.49             -    6848.5     -       93.1%   \n",
      "  1518      12                -                        96670.49             -    6853.2     -       95.4%   \n",
      "  1519      11                -                        96670.49             -    6857.6     -       93.2%   \n",
      "  1520      12                -                        96670.5              -    6862.5     -       87.6%   \n",
      "  1521      14                -                        96670.52             -    6867.1     -       93.6%   \n",
      "  1522      12                -                        96670.52             -    6871.6     -       95.4%   \n",
      "  1523      13                -                        96670.55             -    6876.5     -       93.2%   \n",
      "  1524      12                -                        96670.55             -    6881.3     -       93.6%   \n",
      "  1525      11                -                        96670.55             -    6885.4     -       93.6%   \n",
      "  1526      13                -                        96670.55             -    6890.3     -       93.6%   \n",
      "  1527      15                -                        96670.56             -    6895.2     -       86.6%   \n",
      "  1528      13                -                        96670.56             -    6899.9     -       94.8%   \n",
      "  1529      13                -                        96670.56             -    6904.5     -       90.7%   \n",
      "  1530      12                -                        96670.56             -    6909.0     -       93.6%   \n",
      "  1531      11                -                        96670.57             -    6913.1     -       93.7%   \n",
      "  1532      13                -                        96670.57             -    6918.1     -       93.7%   \n",
      "  1533      13                -                        96670.57             -    6922.5     -       85.9%   \n",
      "  1534      13                -                        96670.57             -    6927.7     -       93.9%   \n",
      "  1535      12                -                        96670.57             -    6932.0     -       84.1%   \n",
      "  1536      11                -                        96670.58             -    6936.3     -       93.6%   \n",
      "  1537      13                -                        96670.58             -    6941.4     -       93.7%   \n",
      "  1538      14                -                        96670.58             -    6946.0     -       94.7%   \n",
      "  1539      12                -                        96670.58             -    6950.6     -       90.8%   \n",
      "  1540      12                -                        96670.59             -    6954.9     -       93.6%   \n",
      "  1541      12                -                        96670.59             -    6959.7     -       93.7%   \n",
      "  1542      12                -                        96670.59             -    6964.5     -       93.6%   \n",
      "  1543      15                -                        96670.59             -    6969.7     -       82.8%   \n",
      "  1544      12                -                        96670.61             -    6974.3     -       93.6%   \n",
      "  1545      11                -                        96670.61             -    6978.3     -       93.7%   \n",
      "  1546      13                -                        96670.61             -    6982.9     -       93.7%   \n",
      "  1547      12                -                        96670.62             -    6987.3     -       93.7%   \n",
      "  1548      15                -                        96670.63             -    6992.3     -       85.8%   \n",
      "  1549      10                -                        96670.63             -    6996.0     -       87.8%   \n",
      "  1550      12                -                        96670.63             -    6999.8     -       93.7%   \n",
      "  1551      13                -                        96670.63             -    7004.5     -       95.6%   \n",
      "  1552      14                -                        96670.63             -    7009.3     -       92.1%   \n",
      "  1553      13                -                        96670.64             -    7013.9     -       93.7%   \n",
      "  1554      11                -                        96670.64             -    7018.1     -       90.0%   \n",
      "  1555      13                -                        96670.64             -    7023.1     -       93.7%   \n",
      "  1556      13                -                        96670.64             -    7028.4     -       96.4%   \n",
      "  1557      12                -                        96670.64             -    7032.2     -       93.8%   \n",
      "  1558      12                -                        96670.65             -    7037.3     -       86.2%   \n",
      "  1559      13                -                        96670.65             -    7041.4     -       93.7%   \n",
      "  1560      12                -                        96670.65             -    7045.9     -       93.8%   \n",
      "  1561      12                -                        96670.67             -    7049.7     -       93.7%   \n",
      "  1562      10                -                        96670.67             -    7053.9     -       93.4%   \n",
      "  1563      14                -                        96670.68             -    7058.8     -       93.8%   \n",
      "  1564      13                -                        96670.68             -    7063.8     -       93.8%   \n",
      "  1565      13                -                        96670.68             -    7069.1     -       93.6%   \n"
     ]
    },
    {
     "name": "stderr",
     "output_type": "stream",
     "text": [
      "┌ Warning: Only almost solved\n",
      "└ @ Juniper C:\\Users\\Оля\\.julia\\packages\\Juniper\\atNbZ\\src\\BnBTree.jl:89\n"
     ]
    },
    {
     "name": "stdout",
     "output_type": "stream",
     "text": [
      "  1566      13                -                        96670.69             -    7075.8     -       84.6%   "
     ]
    },
    {
     "name": "stderr",
     "output_type": "stream",
     "text": [
      "┌ Warning: Only almost solved\n",
      "└ @ Juniper C:\\Users\\Оля\\.julia\\packages\\Juniper\\atNbZ\\src\\BnBTree.jl:89\n"
     ]
    },
    {
     "name": "stdout",
     "output_type": "stream",
     "text": [
      "\n",
      "  1567      12                -                        96670.69             -    7081.1     -       93.7%   \n",
      "  1568      12                -                        96670.7              -    7086.2     -       87.1%   \n",
      "  1569      13                -                        96670.7              -    7091.6     -       95.5%   \n",
      "  1570      14                -                        96670.71             -    7098.0     -       95.0%   "
     ]
    },
    {
     "name": "stderr",
     "output_type": "stream",
     "text": [
      "┌ Warning: Only almost solved\n",
      "└ @ Juniper C:\\Users\\Оля\\.julia\\packages\\Juniper\\atNbZ\\src\\BnBTree.jl:89\n"
     ]
    },
    {
     "name": "stdout",
     "output_type": "stream",
     "text": [
      "\n",
      "  1571      12                -                        96670.71             -    7103.2     -       93.2%   \n",
      "  1572      13                -                        96670.72             -    7108.8     -       93.7%   \n",
      "  1573      12                -                        96670.72             -    7113.6     -       93.8%   \n",
      "  1574      12                -                        96670.72             -    7119.1     -       93.9%   \n",
      "  1575      11                -                        96670.72             -    7123.2     -       93.8%   \n",
      "  1576      12                -                        96670.73             -    7126.9     -       93.8%   \n",
      "  1577      12                -                        96670.73             -    7130.8     -       93.8%   \n",
      "  1578      12                -                        96670.73             -    7135.3     -       95.5%   \n",
      "  1579      11                -                        96670.74             -    7139.2     -       93.8%   \n",
      "  1580      13                -                        96670.74             -    7144.2     -       92.2%   \n",
      "  1581      13                -                        96670.74             -    7148.8     -       93.8%   \n",
      "  1582      12                -                        96670.74             -    7153.0     -       93.8%   \n",
      "  1583      11                -                        96670.75             -    7157.6     -       96.3%   \n",
      "  1584      13                -                        96670.75             -    7162.5     -       91.2%   \n",
      "  1585      12                -                        96670.75             -    7167.3     -       93.9%   \n",
      "  1586      13                -                        96670.76             -    7172.2     -       93.6%   \n",
      "  1587      12                -                        96670.77             -    7176.5     -       93.8%   \n",
      "  1588      12                -                        96670.77             -    7181.3     -       93.9%   \n",
      "  1589      13                -                        96670.78             -    7185.6     -       95.5%   \n",
      "  1590      13                -                        96670.78             -    7190.8     -       95.0%   "
     ]
    },
    {
     "name": "stderr",
     "output_type": "stream",
     "text": [
      "┌ Warning: Only almost solved\n",
      "└ @ Juniper C:\\Users\\Оля\\.julia\\packages\\Juniper\\atNbZ\\src\\BnBTree.jl:89\n"
     ]
    },
    {
     "name": "stdout",
     "output_type": "stream",
     "text": [
      "\n",
      "  1591      13                -                        96670.79             -    7195.0     -       93.2%   \n",
      "  1592      12                -                        96670.79             -    7199.9     -       93.8%   \n",
      "  1593      12                -                        96670.79             -    7204.3     -       84.7%   \n",
      "  1594      13                -                        96670.8              -    7209.0     -       93.8%   \n",
      "  1595      13                -                        96670.8              -    7213.7     -       95.5%   \n",
      "  1596      12                -                        96670.8              -    7218.0     -       92.3%   \n",
      "  1597      11                -                        96670.8              -    7221.9     -       93.9%   \n",
      "  1598      13                -                        96670.8              -    7226.5     -       93.9%   \n",
      "  1599      12                -                        96670.81             -    7231.2     -       94.0%   \n",
      "  1600      12                -                        96670.81             -    7234.8     -       93.9%   \n",
      "  1601      12                -                        96670.81             -    7238.8     -       87.1%   \n",
      "  1602      12                -                        96670.81             -    7242.9     -       93.9%   \n",
      "  1603      13                -                        96670.82             -    7247.8     -       93.8%   \n",
      "  1604      11                -                        96670.82             -    7251.8     -       94.0%   \n",
      "  1605      14                -                        96670.83             -    7256.7     -       93.9%   \n",
      "  1606      13                -                        96670.83             -    7261.6     -       93.9%   \n",
      "  1607      13                -                        96670.84             -    7265.2     -       87.8%   \n",
      "  1608      14                -                        96670.84             -    7270.0     -       86.5%   \n",
      "  1609      12                -                        96670.84             -    7274.2     -       97.1%   \n",
      "  1610      13                -                        96670.85             -    7280.0     -       95.9%   \n",
      "  1611      13                -                        96670.85             -    7284.5     -       92.4%   \n",
      "  1612      13                -                        96670.85             -    7289.2     -       93.3%   \n",
      "  1613      14                -                        96670.85             -    7293.1     -       86.2%   \n",
      "  1614      12                -                        96670.85             -    7296.7     -       93.9%   \n",
      "  1615      12                -                        96670.85             -    7301.2     -       94.0%   \n",
      "  1616      13                -                        96670.86             -    7305.8     -       93.9%   \n",
      "  1617      11                -                        96670.86             -    7310.0     -       97.6%   \n",
      "  1618      12                -                        96670.87             -    7314.7     -       94.4%   \n"
     ]
    },
    {
     "name": "stderr",
     "output_type": "stream",
     "text": [
      "┌ Warning: Only almost solved\n",
      "└ @ Juniper C:\\Users\\Оля\\.julia\\packages\\Juniper\\atNbZ\\src\\BnBTree.jl:89\n"
     ]
    },
    {
     "name": "stdout",
     "output_type": "stream",
     "text": [
      "  1619      13                -                        96670.87             -    7319.7     -       94.0%   \n",
      "  1620      16                -                        96670.88             -    7325.8     -       98.2%   \n",
      "  1621      13                -                        96670.88             -    7330.1     -       94.0%   \n",
      "  1622      14                -                        96670.88             -    7334.9     -       87.2%   \n",
      "  1623      11                -                        96670.88             -    7338.5     -       93.9%   \n",
      "  1624      12                -                        96670.88             -    7343.5     -       94.0%   \n",
      "  1625      14                -                        96670.89             -    7350.7     -       94.0%   \n",
      "  1626      12                -                        96670.89             -    7356.6     -       93.4%   \n",
      "  1627      12                -                        96670.89             -    7361.2     -       87.6%   \n",
      "  1628      14                -                        96670.89             -    7367.0     -       93.9%   \n",
      "  1629      13                -                        96670.89             -    7371.8     -       95.5%   \n",
      "  1630      14                -                        96670.9              -    7380.9     -       92.3%   \n",
      "  1631      13                -                        96670.9              -    7388.2     -       86.2%   \n",
      "  1632      12                -                        96670.9              -    7394.8     -       94.0%   \n",
      "  1633      12                -                        96670.91             -    7400.5     -       94.0%   \n",
      "  1634      16                -                        96670.92             -    7408.7     -       86.4%   \n",
      "  1635      13                -                        96670.92             -    7415.2     -       94.0%   \n",
      "  1636      12                -                        96670.92             -    7423.4     -       94.2%   \n",
      "  1637      13                -                        96670.92             -    7429.1     -       94.1%   \n",
      "  1638      13                -                        96670.93             -    7434.2     -       86.3%   \n",
      "  1639      13                -                        96670.93             -    7440.8     -       94.0%   \n",
      "  1640      14                -                        96670.93             -    7445.5     -       93.3%   \n",
      "  1641      12                -                        96670.94             -    7449.9     -       94.0%   \n",
      "  1642      12                -                        96670.94             -    7454.7     -       94.1%   \n",
      "  1643      12                -                        96670.94             -    7459.5     -       95.8%   \n",
      "  1644      11                -                        96670.94             -    7463.6     -       84.9%   \n",
      "  1645      14                -                        96670.94             -    7468.7     -       94.0%   \n",
      "  1646      12                -                        96670.95             -    7472.9     -       95.4%   \n",
      "  1647      12                -                        96670.95             -    7477.7     -       92.4%   \n",
      "  1648      14                -                        96670.95             -    7482.8     -       86.3%   \n",
      "  1649      13                -                        96670.95             -    7487.4     -       94.0%   \n",
      "  1650      12                -                        96670.95             -    7491.4     -       87.6%   \n",
      "  1651      12                -                        96670.95             -    7495.3     -       94.1%   \n",
      "  1652      14                -                        96670.96             -    7500.5     -       87.4%   \n",
      "  1653      14                -                        96670.96             -    7505.3     -       94.0%   \n",
      "  1654      13                -                        96670.96             -    7509.6     -       94.1%   \n",
      "  1655      13                -                        96670.96             -    7514.0     -       94.1%   \n",
      "  1656      12                -                        96670.96             -    7518.7     -       94.1%   \n",
      "  1657      13                -                        96670.96             -    7523.1     -       94.1%   \n",
      "  1658      13                -                        96670.96             -    7527.5     -       94.1%   \n",
      "  1659      13                -                        96670.96             -    7531.9     -       94.2%   \n",
      "  1660      13                -                        96670.96             -    7537.0     -       94.1%   \n",
      "  1661      13                -                        96670.96             -    7542.0     -       94.2%   "
     ]
    },
    {
     "name": "stderr",
     "output_type": "stream",
     "text": [
      "┌ Warning: Only almost solved\n",
      "└ @ Juniper C:\\Users\\Оля\\.julia\\packages\\Juniper\\atNbZ\\src\\BnBTree.jl:89\n"
     ]
    },
    {
     "name": "stdout",
     "output_type": "stream",
     "text": [
      "\n",
      "  1662      12                -                        96670.96             -    7546.1     -       93.8%   \n",
      "  1663      12                -                        96670.97             -    7551.0     -       97.8%   \n",
      "  1664      12                -                        96670.97             -    7555.6     -       94.1%   \n",
      "  1665      12                -                        96670.97             -    7560.3     -       96.0%   \n",
      "  1666      12                -                        96670.97             -    7565.2     -       94.2%   \n",
      "  1667      13                -                        96670.98             -    7569.5     -       92.9%   \n",
      "  1668      13                -                        96670.98             -    7574.7     -       89.6%   \n",
      "  1669      13                -                        96670.98             -    7578.9     -       94.2%   \n",
      "  1670      13                -                        96670.98             -    7583.8     -       85.0%   \n",
      "  1671      13                -                        96670.99             -    7588.0     -       94.2%   \n",
      "  1672      12                -                        96670.99             -    7592.8     -       94.1%   \n",
      "  1673      12                -                        96670.99             -    7597.6     -       94.1%   \n",
      "  1674      12                -                        96670.99             -    7602.4     -       94.1%   \n",
      "  1675      14                -                        96670.99             -    7606.9     -       95.4%   \n",
      "  1676      13                -                        96670.99             -    7611.4     -       92.4%   \n",
      "  1677      12                -                        96670.99             -    7616.3     -       94.2%   \n",
      "  1678      13                -                        96670.99             -    7620.4     -       94.2%   \n",
      "  1679      13                -                        96670.99             -    7624.2     -       94.2%   \n",
      "  1680      13                -                        96670.99             -    7629.3     -       94.2%   \n",
      "  1681      13                -                        96670.99             -    7634.1     -       93.7%   \n",
      "  1682      13                -                        96671.0              -    7639.0     -       96.5%   \n",
      "  1683      15                -                        96671.0              -    7643.0     -       96.7%   \n",
      "  1684      12                -                        96671.0              -    7647.7     -       94.2%   \n",
      "  1685      13                -                        96671.0              -    7652.2     -       94.2%   \n",
      "  1686      11                -                        96671.0              -    7656.8     -       94.4%   \n",
      "  1687      12                -                        96671.01             -    7661.0     -       88.9%   \n",
      "  1688      13                -                        96671.01             -    7665.7     -       91.2%   \n",
      "  1689      14                -                        96671.02             -    7670.0     -       87.3%   \n",
      "  1690      13                -                        96671.02             -    7675.0     -       94.2%   \n",
      "  1691      12                -                        96671.02             -    7679.9     -       94.1%   \n",
      "  1692      13                -                        96671.02             -    7685.5     -       94.3%   \n",
      "  1693      12                -                        96671.02             -    7691.1     -       94.2%   \n",
      "  1694      14                -                        96671.02             -    7697.1     -       82.2%   \n",
      "  1695      13                -                        96671.02             -    7701.6     -       85.1%   \n",
      "  1696      13                -                        96671.02             -    7707.1     -       94.3%   \n",
      "  1697      13                -                        96671.02             -    7712.5     -       94.3%   \n",
      "  1698      12                -                        96671.02             -    7717.4     -       94.2%   \n",
      "  1699      12                -                        96671.02             -    7722.7     -       94.3%   \n",
      "  1700      11                -                        96671.02             -    7726.8     -       94.3%   \n"
     ]
    },
    {
     "name": "stderr",
     "output_type": "stream",
     "text": [
      "┌ Warning: Only almost solved\n",
      "└ @ Juniper C:\\Users\\Оля\\.julia\\packages\\Juniper\\atNbZ\\src\\BnBTree.jl:89\n"
     ]
    },
    {
     "name": "stdout",
     "output_type": "stream",
     "text": [
      "  1701      13                -                        96671.03             -    7731.6     -       96.0%   \n",
      "  1702      13                -                        96671.03             -    7736.3     -       93.9%   \n",
      "  1703      12                -                        96671.03             -    7740.9     -       94.3%   \n",
      "  1704      13                -                        96671.03             -    7745.9     -       85.2%   \n",
      "  1705      13                -                        96671.03             -    7750.7     -       91.9%   \n",
      "  1706      12                -                        96671.03             -    7755.4     -       94.3%   \n",
      "  1707      14                -                        96671.03             -    7759.8     -       95.4%   \n",
      "  1708      12                -                        96671.04             -    7764.6     -       92.5%   \n",
      "  1709      12                -                        96671.04             -    7768.9     -       94.3%   \n",
      "  1710      14                -                        96671.04             -    7774.1     -       88.3%   \n",
      "  1711      13                -                        96671.04             -    7779.3     -       94.3%   \n",
      "  1712      11                -                        96671.04             -    7783.4     -       94.3%   \n",
      "  1713      12                -                        96671.05             -    7787.3     -       94.3%   \n",
      "  1714      14                -                        96671.05             -    7792.7     -       85.3%   \n",
      "  1715      14                -                        96671.05             -    7797.3     -       94.3%   \n",
      "  1716      13                -                        96671.05             -    7802.3     -       94.3%   \n",
      "  1717      12                -                        96671.05             -    7807.4     -       94.4%   \n",
      "  1718      12                -                        96671.05             -    7811.5     -       94.3%   \n",
      "  1719      11                -                        96671.05             -    7815.5     -       94.4%   \n",
      "  1720      14                -                        96671.06             -    7820.0     -       88.3%   \n",
      "  1721      13                -                        96671.06             -    7824.9     -       94.4%   \n",
      "  1722      13                -                        96671.06             -    7829.1     -       94.3%   \n",
      "  1723      13                -                        96671.06             -    7833.5     -       89.9%   \n",
      "  1724      12                -                        96671.06             -    7838.1     -       86.4%   \n",
      "  1725      12                -                        96671.06             -    7842.1     -       98.3%   \n",
      "  1726      14                -                        96671.06             -    7847.2     -       94.4%   \n",
      "  1727      12                -                        96671.06             -    7852.0     -       94.3%   \n",
      "  1728      12                -                        96671.06             -    7856.7     -       94.4%   \n",
      "  1729      14                -                        96671.06             -    7861.3     -       88.4%   \n",
      "  1730      13                -                        96671.07             -    7865.7     -       94.4%   \n",
      "  1731      13                -                        96671.07             -    7870.8     -       94.4%   \n",
      "  1732      13                -                        96671.07             -    7875.9     -       97.5%   \n",
      "  1733      14                -                        96671.07             -    7880.8     -       92.3%   \n",
      "  1734      13                -                        96671.07             -    7885.6     -       89.4%   \n",
      "  1735      12                -                        96671.07             -    7889.1     -       94.5%   \n",
      "  1736      12                -                        96671.07             -    7893.7     -       94.5%   \n",
      "  1737      13                -                        96671.07             -    7898.7     -       98.1%   \n",
      "  1738      13                -                        96671.07             -    7904.3     -       96.8%   \n",
      "  1739      13                -                        96671.07             -    7908.2     -       93.2%   \n",
      "  1740      12                -                        96671.07             -    7912.9     -       91.6%   \n",
      "  1741      11                -                        96671.07             -    7917.7     -       94.4%   \n",
      "  1742      13                -                        96671.07             -    7922.6     -       94.4%   \n",
      "  1743      13                -                        96671.07             -    7926.9     -       84.2%   \n",
      "  1744      12                -                        96671.07             -    7931.9     -       94.4%   \n",
      "  1745      13                -                        96671.07             -    7937.1     -       94.6%   \n",
      "  1746      13                -                        96671.07             -    7940.9     -       89.3%   \n",
      "  1747      14                -                        96671.07             -    7946.9     -       94.5%   \n",
      "  1748      12                -                        96671.07             -    7952.9     -       94.4%   \n",
      "  1749      12                -                        96671.07             -    7957.4     -       88.5%   \n",
      "  1749      13                -                        96671.08             -    7963.4     -       93.1%   "
     ]
    },
    {
     "name": "stderr",
     "output_type": "stream",
     "text": [
      "┌ Warning: Only almost solved\n",
      "└ @ Juniper C:\\Users\\Оля\\.julia\\packages\\Juniper\\atNbZ\\src\\BnBTree.jl:89\n"
     ]
    },
    {
     "name": "stdout",
     "output_type": "stream",
     "text": [
      "\n",
      "  1750      12                -                        96671.08             -    7967.6     -       95.3%   \n",
      "  1751      13                -                        96671.08             -    7972.2     -       94.4%   \n",
      "  1752      13                -                        96671.08             -    7977.5     -       94.5%   \n",
      "  1753      12                -                        96671.08             -    7983.8     -       94.6%   \n",
      "  1754      12                -                        96671.08             -    7988.8     -       89.4%   \n",
      "  1755      12                -                        96671.08             -    7993.5     -       93.3%   \n",
      "  1756      12                -                        96671.08             -    7998.2     -       94.2%   \n",
      "  1757      14                -                        96671.08             -    8003.1     -       94.2%   \n",
      "  1758      13                -                        96671.08             -    8008.8     -       94.5%   \n",
      "  1758      14                -                        96671.09             -    8015.4     -       89.6%   \n",
      "  1759      13                -                        96671.09             -    8021.2     -       92.6%   \n",
      "  1760      12                -                        96671.09             -    8025.3     -       96.6%   \n",
      "  1761      12                -                        96671.09             -    8030.2     -       94.1%   \n",
      "  1762      12                -                        96671.09             -    8034.7     -       93.3%   \n",
      "  1763      13                -                        96671.09             -    8039.3     -       94.5%   \n",
      "  1764      13                -                        96671.09             -    8044.3     -       94.4%   \n",
      "  1765      12                -                        96671.09             -    8049.2     -       89.4%   \n",
      "  1766      13                -                        96671.09             -    8054.1     -       93.9%   \n",
      "  1767      13                -                        96671.09             -    8057.8     -       95.4%   \n",
      "  1768      12                -                        96671.09             -    8062.9     -       96.1%   \n",
      "  1769      12                -                        96671.09             -    8067.2     -       92.5%   \n",
      "  1770      13                -                        96671.1              -    8072.3     -       88.2%   \n",
      "  1771      12                -                        96671.1              -    8075.9     -       94.2%   \n",
      "  1772      13                -                        96671.1              -    8080.9     -       96.5%   \n",
      "  1773      13                -                        96671.11             -    8087.0     -       94.2%   \n",
      "  1774      12                -                        96671.11             -    8091.5     -       94.5%   \n",
      "  1775      13                -                        96671.11             -    8096.4     -       93.7%   \n",
      "  1776      13                -                        96671.11             -    8101.5     -       94.5%   \n",
      "  1777      13                -                        96671.11             -    8105.7     -       93.5%   \n",
      "  1778      12                -                        96671.11             -    8110.4     -       89.5%   \n",
      "  1779      12                -                        96671.12             -    8114.5     -       94.5%   \n",
      "  1780      12                -                        96671.12             -    8119.4     -       87.9%   \n",
      "  1781      12                -                        96671.12             -    8123.1     -       87.1%   \n",
      "  1782      13                -                        96671.13             -    8127.7     -       94.5%   \n",
      "  1783      12                -                        96671.13             -    8131.5     -       89.5%   \n",
      "  1784      11                -                        96671.13             -    8135.2     -       87.9%   \n",
      "  1785      11                -                        96671.13             -    8139.0     -       94.5%   \n",
      "  1786      14                -                        96671.14             -    8144.5     -       88.0%   \n",
      "  1787      13                -                        96671.14             -    8148.5     -       89.5%   \n",
      "  1788      11                -                        96671.14             -    8152.7     -       94.6%   \n",
      "  1789      14                -                        96671.14             -    8157.9     -       94.1%   \n",
      "  1790      12                -                        96671.15             -    8162.4     -       94.6%   \n",
      "  1791      11                -                        96671.15             -    8166.3     -       94.5%   \n",
      "  1792      13                -                        96671.15             -    8170.9     -       86.4%   \n",
      "  1793      12                -                        96671.15             -    8175.5     -       95.4%   \n",
      "  1794      11                -                        96671.15             -    8179.4     -       92.5%   \n",
      "  1795      13                -                        96671.16             -    8183.5     -       96.5%   \n",
      "  1796      13                -                        96671.16             -    8188.3     -       94.2%   \n",
      "  1797      12                -                        96671.16             -    8192.9     -       94.5%   \n",
      "  1798      11                -                        96671.16             -    8197.4     -       97.5%   \n",
      "  1799      14                -                        96671.17             -    8202.2     -       92.3%   \n",
      "  1800      14                -                        96671.17             -    8206.8     -       89.6%   \n",
      "  1801      12                -                        96671.17             -    8211.2     -       94.6%   \n",
      "  1802      12                -                        96671.17             -    8215.3     -       94.5%   \n",
      "  1803      13                -                        96671.17             -    8220.0     -       88.2%   \n",
      "  1804      13                -                        96671.18             -    8224.5     -       89.0%   \n",
      "  1805      11                -                        96671.18             -    8227.9     -       94.5%   \n",
      "  1806      14                -                        96671.18             -    8232.7     -       96.0%   \n",
      "  1807      13                -                        96671.19             -    8236.9     -       93.5%   \n",
      "  1808      13                -                        96671.19             -    8242.1     -       89.6%   \n",
      "  1809      12                -                        96671.19             -    8246.7     -       94.6%   \n",
      "  1810      12                -                        96671.19             -    8251.1     -       94.5%   \n",
      "  1811      12                -                        96671.19             -    8255.0     -       94.6%   \n",
      "  1812      15                -                        96671.2              -    8260.0     -       89.6%   \n",
      "  1813      13                -                        96671.2              -    8264.5     -       94.6%   \n",
      "  1814      13                -                        96671.2              -    8270.0     -       94.6%   \n",
      "  1815      14                -                        96671.2              -    8274.2     -       88.3%   \n",
      "  1816      13                -                        96671.2              -    8278.6     -       93.4%   \n",
      "  1817      11                -                        96671.21             -    8283.5     -       87.3%   \n",
      "  1818      11                -                        96671.21             -    8289.8     -       94.6%   \n",
      "  1819      13                -                        96671.21             -    8295.1     -       93.7%   \n",
      "  1820      13                -                        96671.21             -    8301.6     -       94.6%   \n",
      "  1821      12                -                        96671.22             -    8306.6     -       96.0%   \n",
      "  1822      12                -                        96671.22             -    8312.0     -       89.7%   \n",
      "  1823      11                -                        96671.22             -    8317.5     -       93.5%   \n",
      "  1824      14                -                        96671.22             -    8322.3     -       87.8%   \n",
      "  1825      13                -                        96671.23             -    8327.0     -       94.6%   \n",
      "  1826      13                -                        96671.23             -    8331.6     -       89.7%   \n",
      "  1827      13                -                        96671.23             -    8336.2     -       94.6%   \n",
      "  1828      11                -                        96671.23             -    8341.1     -       94.6%   \n",
      "  1829      13                -                        96671.23             -    8345.6     -       94.6%   \n",
      "  1830      12                -                        96671.23             -    8350.1     -       94.7%   \n",
      "  1831      11                -                        96671.24             -    8353.8     -       89.7%   \n",
      "  1832      13                -                        96671.24             -    8358.6     -       93.7%   \n",
      "  1833      15                -                        96671.24             -    8362.6     -       94.7%   \n",
      "  1834      13                -                        96671.24             -    8368.3     -       97.8%   \n",
      "  1835      13                -                        96671.24             -    8373.3     -       95.1%   \n",
      "  1836      11                -                        96671.25             -    8377.7     -       94.4%   \n",
      "  1837      15                -                        96671.25             -    8382.8     -       86.7%   \n",
      "  1838      14                -                        96671.25             -    8387.9     -       94.6%   \n",
      "  1839      13                -                        96671.25             -    8392.3     -       89.8%   \n",
      "  1840      12                -                        96671.25             -    8397.5     -       94.7%   \n",
      "  1841      12                -                        96671.25             -    8402.0     -       96.2%   \n",
      "  1842      14                -                        96671.25             -    8406.9     -       94.3%   \n",
      "  1843      13                -                        96671.25             -    8410.6     -       88.7%   \n",
      "  1844      13                -                        96671.26             -    8415.7     -       94.6%   \n",
      "  1845      12                -                        96671.26             -    8420.0     -       95.3%   \n",
      "  1846      15                -                        96671.26             -    8425.2     -       92.7%   \n",
      "  1847      13                -                        96671.26             -    8430.3     -       96.5%   \n",
      "  1848      11                -                        96671.26             -    8434.8     -       94.3%   \n",
      "  1849      14                -                        96671.27             -    8439.4     -       94.7%   \n",
      "  1850      13                -                        96671.27             -    8444.4     -       88.2%   \n",
      "  1851      13                -                        96671.27             -    8449.3     -       94.0%   \n",
      "  1852      12                -                        96671.28             -    8453.9     -       88.0%   \n",
      "  1853      11                -                        96671.28             -    8457.6     -       89.8%   \n",
      "  1854      15                -                        96671.28             -    8462.6     -       87.9%   \n",
      "  1855      13                -                        96671.28             -    8467.2     -       94.7%   \n",
      "  1856      14                -                        96671.29             -    8471.5     -       94.7%   \n",
      "  1857      11                -                        96671.29             -    8476.4     -       94.4%   \n",
      "  1858      12                -                        96671.29             -    8481.8     -       89.8%   \n",
      "  1859      13                -                        96671.3              -    8486.0     -       89.9%   \n",
      "  1860      12                -                        96671.3              -    8491.3     -       96.0%   \n",
      "  1861      13                -                        96671.3              -    8495.9     -       95.5%   \n",
      "  1862      14                -                        96671.3              -    8501.3     -       94.3%   \n",
      "  1863      13                -                        96671.3              -    8506.2     -       94.7%   \n",
      "  1864      13                -                        96671.31             -    8511.6     -       91.8%   \n",
      "  1865      14                -                        96671.31             -    8516.3     -       97.8%   \n",
      "  1866      11                -                        96671.32             -    8520.8     -       94.9%   \n",
      "  1867      11                -                        96671.32             -    8525.2     -       94.7%   \n",
      "  1868      13                -                        96671.32             -    8530.1     -       94.8%   \n",
      "  1869      12                -                        96671.32             -    8534.3     -       97.0%   \n",
      "  1870      15                -                        96671.32             -    8539.6     -       91.1%   \n",
      "  1871      13                -                        96671.32             -    8544.6     -       88.4%   \n",
      "  1872      13                -                        96671.32             -    8548.7     -       94.2%   \n",
      "  1873      13                -                        96671.32             -    8553.3     -       94.8%   \n"
     ]
    },
    {
     "name": "stderr",
     "output_type": "stream",
     "text": [
      "┌ Warning: Only almost solved\n",
      "└ @ Juniper C:\\Users\\Оля\\.julia\\packages\\Juniper\\atNbZ\\src\\BnBTree.jl:89\n"
     ]
    },
    {
     "name": "stdout",
     "output_type": "stream",
     "text": [
      "  1874      14                -                        96671.33             -    8560.1     -       94.7%   \n",
      "  1875      14                -                        96671.33             -    8563.9     -       89.9%   \n"
     ]
    },
    {
     "name": "stderr",
     "output_type": "stream",
     "text": [
      "┌ Warning: Only almost solved\n",
      "└ @ Juniper C:\\Users\\Оля\\.julia\\packages\\Juniper\\atNbZ\\src\\BnBTree.jl:89\n"
     ]
    },
    {
     "name": "stdout",
     "output_type": "stream",
     "text": [
      "  1876      12                -                        96671.33             -    8568.6     -       98.4%   \n",
      "  1877      14                -                        96671.33             -    8574.4     -       87.2%   "
     ]
    },
    {
     "name": "stderr",
     "output_type": "stream",
     "text": [
      "┌ Warning: Only almost solved\n",
      "└ @ Juniper C:\\Users\\Оля\\.julia\\packages\\Juniper\\atNbZ\\src\\BnBTree.jl:89\n"
     ]
    },
    {
     "name": "stdout",
     "output_type": "stream",
     "text": [
      "\n",
      "  1878      12                -                        96671.33             -    8579.8     -       87.0%   \n",
      "  1879      13                -                        96671.34             -    8585.4     -       97.7%   \n",
      "  1880      13                -                        96671.34             -    8591.3     -       96.9%   \n",
      "  1881      14                -                        96671.34             -    8596.6     -       93.0%   \n",
      "  1882      13                -                        96671.34             -    8601.5     -       94.4%   \n",
      "  1883      13                -                        96671.35             -    8607.5     -       94.7%   \n",
      "  1884      13                -                        96671.35             -    8613.0     -       94.7%   \n",
      "  1885      12                -                        96671.35             -    8618.4     -       94.8%   \n",
      "  1886      12                -                        96671.35             -    8624.2     -       89.9%   \n",
      "  1887      13                -                        96671.35             -    8629.1     -       97.5%   \n",
      "  1888      15                -                        96671.36             -    8634.0     -       92.4%   \n",
      "  1889      13                -                        96671.36             -    8639.2     -       94.8%   \n",
      "  1890      13                -                        96671.36             -    8643.7     -       94.8%   \n",
      "  1891      13                -                        96671.36             -    8648.7     -       94.3%   \n",
      "  1892      16                -                        96671.36             -    8654.0     -       84.1%   \n",
      "  1893      13                -                        96671.36             -    8659.0     -       94.7%   \n",
      "  1894      13                -                        96671.36             -    8662.9     -       88.7%   \n",
      "  1895      12                -                        96671.36             -    8667.3     -       89.9%   \n",
      "  1896      14                -                        96671.37             -    8672.6     -       94.7%   \n",
      "  1897      14                -                        96671.37             -    8676.5     -       91.7%   \n",
      "  1898      14                -                        96671.37             -    8681.3     -       94.8%   \n",
      "  1899      13                -                        96671.37             -    8686.0     -       90.0%   \n",
      "  1900      13                -                        96671.37             -    8690.9     -       94.8%   \n",
      "  1901      13                -                        96671.38             -    8695.9     -       94.8%   \n",
      "  1902      14                -                        96671.38             -    8701.2     -       89.0%   \n",
      "  1903      12                -                        96671.38             -    8705.2     -       96.5%   \n",
      "  1904      13                -                        96671.38             -    8710.0     -       92.4%   \n",
      "  1905      15                -                        96671.39             -    8714.5     -       94.0%   \n",
      "  1906      14                -                        96671.39             -    8719.5     -       90.0%   \n",
      "  1907      11                -                        96671.39             -    8723.4     -       94.8%   \n",
      "  1908      11                -                        96671.39             -    8727.6     -       94.8%   \n",
      "  1909      14                -                        96671.4              -    8732.1     -       90.0%   \n",
      "  1910      13                -                        96671.4              -    8736.0     -       94.8%   \n",
      "  1911      13                -                        96671.4              -    8741.1     -       94.8%   \n",
      "  1912      14                -                        96671.4              -    8744.8     -       94.9%   \n",
      "  1913      13                -                        96671.4              -    8749.8     -       93.6%   \n",
      "  1914      13                -                        96671.4              -    8754.1     -       94.8%   \n",
      "  1915      13                -                        96671.4              -    8758.5     -       90.0%   \n",
      "  1916      12                -                        96671.4              -    8763.5     -       94.8%   \n",
      "  1917      12                -                        96671.41             -    8768.3     -       94.9%   \n",
      "  1918      15                -                        96671.41             -    8773.2     -       88.3%   \n"
     ]
    },
    {
     "name": "stderr",
     "output_type": "stream",
     "text": [
      "┌ Warning: Only almost solved\n",
      "└ @ Juniper C:\\Users\\Оля\\.julia\\packages\\Juniper\\atNbZ\\src\\BnBTree.jl:89\n"
     ]
    },
    {
     "name": "stdout",
     "output_type": "stream",
     "text": [
      "  1919      12                -                        96671.41             -    8779.8     -       97.0%   \n",
      "  1920      16                -                        96671.42             -    8785.4     -       91.2%   \n",
      "  1921      14                -                        96671.42             -    8790.1     -       90.1%   \n",
      "  1922      13                -                        96671.42             -    8794.1     -       94.9%   \n",
      "  1923      12                -                        96671.42             -    8799.1     -       94.8%   \n",
      "  1924      15                -                        96671.42             -    8803.9     -       89.2%   \n",
      "  1925      14                -                        96671.42             -    8808.7     -       89.3%   \n",
      "  1926      12                -                        96671.42             -    8812.9     -       94.8%   \n",
      "  1927      14                -                        96671.43             -    8817.6     -       88.1%   \n",
      "  1928      13                -                        96671.43             -    8822.5     -       94.9%   \n",
      "  1929      14                -                        96671.43             -    8828.0     -       93.6%   \n",
      "  1930      14                -                        96671.43             -    8833.1     -       89.3%   \n",
      "  1931      14                -                        96671.43             -    8837.4     -       90.1%   \n",
      "  1932      11                -                        96671.43             -    8841.6     -       94.8%   \n",
      "  1933      13                -                        96671.44             -    8846.2     -       90.1%   \n",
      "  1934      14                -                        96671.44             -    8850.8     -       94.9%   \n",
      "  1935      12                -                        96671.44             -    8855.3     -       89.6%   \n",
      "  1936      16                -                        96671.44             -    8861.2     -       94.9%   \n",
      "  1937      13                -                        96671.44             -    8865.4     -       96.4%   \n",
      "  1938      13                -                        96671.45             -    8870.0     -       92.5%   \n",
      "  1939      12                -                        96671.45             -    8875.1     -       97.0%   \n",
      "  1940      14                -                        96671.45             -    8881.8     -       91.2%   \n",
      "  1941      12                -                        96671.45             -    8886.0     -       90.2%   \n",
      "  1942      13                -                        96671.46             -    8891.5     -       89.3%   \n",
      "  1943      14                -                        96671.47             -    8897.6     -       94.9%   \n",
      "  1944      13                -                        96671.47             -    8902.9     -       89.2%   \n",
      "  1945      14                -                        96671.48             -    8907.7     -       97.8%   \n",
      "  1946      12                -                        96671.48             -    8913.7     -       93.0%   \n",
      "  1947      13                -                        96671.48             -    8918.8     -       94.9%   \n",
      "  1948      13                -                        96671.48             -    8923.3     -       90.2%   \n",
      "  1949      13                -                        96671.48             -    8928.2     -       88.4%   \n",
      "  1950      13                -                        96671.48             -    8933.2     -       95.0%   \n",
      "  1951      14                -                        96671.48             -    8937.4     -       94.9%   \n",
      "  1952      13                -                        96671.49             -    8942.7     -       94.9%   \n",
      "  1953      16                -                        96671.49             -    8947.5     -       90.2%   \n",
      "  1954      13                -                        96671.49             -    8952.0     -       94.4%   \n",
      "  1955      11                -                        96671.49             -    8955.6     -       94.9%   \n",
      "  1956      12                -                        96671.5              -    8960.4     -       94.9%   \n",
      "  1957      15                -                        96671.5              -    8964.6     -       87.6%   \n",
      "  1958      12                -                        96671.5              -    8968.7     -       95.0%   \n",
      "  1959      13                -                        96671.51             -    8972.5     -       85.0%   \n"
     ]
    },
    {
     "name": "stderr",
     "output_type": "stream",
     "text": [
      "┌ Warning: Only almost solved\n",
      "└ @ Juniper C:\\Users\\Оля\\.julia\\packages\\Juniper\\atNbZ\\src\\BnBTree.jl:89\n"
     ]
    },
    {
     "name": "stdout",
     "output_type": "stream",
     "text": [
      "  1960      14                -                        96671.51             -    8978.2     -       87.3%   \n",
      "  1961      13                -                        96671.51             -    8983.1     -       96.9%   \n",
      "  1962      15                -                        96671.52             -    8988.2     -       93.4%   \n",
      "  1963      15                -                        96671.52             -    8992.9     -       90.0%   \n",
      "  1964      14                -                        96671.52             -    8997.7     -       88.2%   \n",
      "  1965      13                -                        96671.52             -    9002.2     -       94.9%   \n",
      "  1966      14                -                        96671.52             -    9007.2     -       88.9%   \n",
      "  1967      14                -                        96671.53             -    9011.8     -       93.9%   \n",
      "  1968      15                -                        96671.53             -    9016.7     -       89.4%   \n",
      "  1969      14                -                        96671.54             -    9021.5     -       90.2%   \n",
      "  1970      12                -                        96671.54             -    9025.7     -       95.0%   \n",
      "  1971      12                -                        96671.54             -    9030.2     -       94.9%   \n",
      "  1972      15                -                        96671.54             -    9035.3     -       95.0%   \n",
      "  1973      14                -                        96671.55             -    9041.9     -       90.3%   \n",
      "  1974      13                -                        96671.55             -    9046.3     -       95.0%   \n",
      "  1975      13                -                        96671.55             -    9050.2     -       94.6%   \n",
      "  1976      14                -                        96671.55             -    9054.7     -       94.9%   \n",
      "  1977      13                -                        96671.55             -    9059.2     -       95.0%   \n",
      "  1978      13                -                        96671.55             -    9063.0     -       90.3%   \n",
      "  1979      13                -                        96671.55             -    9067.9     -       94.9%   \n",
      "  1980      12                -                        96671.55             -    9072.5     -       95.0%   \n",
      "  1981      14                -                        96671.56             -    9077.6     -       94.7%   \n",
      "  1982      15                -                        96671.56             -    9083.1     -       90.3%   \n",
      "  1983      11                -                        96671.56             -    9088.0     -       96.4%   \n",
      "  1984      15                -                        96671.56             -    9092.7     -       87.0%   \n",
      "  1985      15                -                        96671.56             -    9097.8     -       94.5%   \n",
      "  1986      13                -                        96671.56             -    9103.4     -       93.7%   \n",
      "  1987      13                -                        96671.56             -    9107.8     -       89.1%   \n",
      "  1988      14                -                        96671.57             -    9112.4     -       89.4%   \n",
      "  1989      13                -                        96671.57             -    9117.1     -       95.0%   \n",
      "  1990      13                -                        96671.57             -    9120.8     -       83.6%   \n",
      "  1991      12                -                        96671.57             -    9125.2     -       94.9%   \n",
      "  1992      12                -                        96671.58             -    9130.2     -       95.0%   \n",
      "  1993      13                -                        96671.58             -    9136.2     -       89.5%   \n",
      "  1994      13                -                        96671.58             -    9141.6     -       90.3%   \n",
      "  1995      12                -                        96671.58             -    9146.3     -       90.3%   \n",
      "  1996      14                -                        96671.59             -    9151.7     -       95.0%   \n",
      "  1997      13                -                        96671.59             -    9156.4     -       95.0%   \n",
      "  1998      13                -                        96671.59             -    9160.9     -       90.4%   \n",
      "  1999      12                -                        96671.59             -    9166.0     -       95.0%   \n",
      "  2000      13                -                        96671.59             -    9169.5     -       87.9%   \n",
      "  2001      14                -                        96671.59             -    9174.1     -       95.0%   \n",
      "  2002      12                -                        96671.59             -    9179.6     -       93.4%   \n",
      "  2003      14                -                        96671.6              -    9186.2     -       87.9%   "
     ]
    },
    {
     "name": "stderr",
     "output_type": "stream",
     "text": [
      "┌ Warning: Only almost solved\n",
      "└ @ Juniper C:\\Users\\Оля\\.julia\\packages\\Juniper\\atNbZ\\src\\BnBTree.jl:89\n"
     ]
    },
    {
     "name": "stdout",
     "output_type": "stream",
     "text": [
      "\n",
      "  2004      12                -                        96671.6              -    9192.3     -       96.8%   \n",
      "  2005      13                -                        96671.6              -    9198.6     -       93.8%   \n",
      "  2006      13                -                        96671.6              -    9204.6     -       95.0%   \n",
      "  2007      13                -                        96671.6              -    9209.3     -       90.1%   \n",
      "  2008      14                -                        96671.6              -    9215.5     -       90.4%   \n",
      "  2009      14                -                        96671.6              -    9220.5     -       95.0%   \n",
      "  2010      14                -                        96671.6              -    9224.9     -       95.0%   \n",
      "  2011      13                -                        96671.6              -    9229.6     -       89.6%   \n",
      "  2012      13                -                        96671.61             -    9234.4     -       85.7%   \n",
      "  2013      14                -                        96671.61             -    9238.7     -       89.5%   \n",
      "  2014      16                -                        96671.61             -    9243.6     -       88.9%   \n",
      "  2015      13                -                        96671.61             -    9248.7     -       87.4%   \n",
      "  2016      14                -                        96671.62             -    9253.9     -       87.8%   \n",
      "  2017      12                -                        96671.63             -    9257.6     -       95.1%   \n",
      "  2018      14                -                        96671.63             -    9262.2     -       95.1%   \n",
      "  2019      14                -                        96671.64             -    9266.6     -       96.9%   \n",
      "  2020      15                -                        96671.64             -    9271.3     -       93.5%   \n",
      "  2021      13                -                        96671.64             -    9276.1     -       89.4%   \n",
      "  2022      16                -                        96671.64             -    9281.5     -       94.8%   \n",
      "  2023      13                -                        96671.64             -    9286.3     -       85.6%   \n",
      "  2024      14                -                        96671.65             -    9290.9     -       87.9%   \n",
      "  2025      16                -                        96671.66             -    9295.9     -       89.9%   \n",
      "  2026      14                -                        96671.66             -    9300.4     -       94.6%   \n",
      "  2027      17                -                        96671.66             -    9305.1     -       88.0%   \n",
      "  2028      13                -                        96671.66             -    9310.2     -       85.5%   \n",
      "  2029      13                -                        96671.66             -    9314.5     -       96.8%   \n",
      "  2030      11                -                        96671.66             -    9319.0     -       93.8%   \n",
      "  2031      14                -                        96671.67             -    9323.8     -       94.9%   \n",
      "  2032      14                -                        96671.67             -    9329.1     -       89.7%   \n",
      "  2033      14                -                        96671.68             -    9333.8     -       88.5%   \n",
      "  2034      15                -                        96671.68             -    9338.9     -       88.7%   \n",
      "  2035      14                -                        96671.69             -    9344.1     -       89.6%   \n",
      "  2036      14                -                        96671.69             -    9348.4     -       95.0%   \n",
      "  2037      13                -                        96671.69             -    9352.5     -       95.1%   \n",
      "  2038      15                -                        96671.69             -    9357.5     -       88.6%   \n",
      "  2039      15                -                        96671.69             -    9362.4     -       88.5%   \n",
      "  2040      15                -                        96671.7              -    9367.0     -       87.9%   \n",
      "  2041      14                -                        96671.7              -    9371.8     -       88.5%   \n",
      "  2042      13                -                        96671.7              -    9377.0     -       89.1%   \n",
      "  2043      14                -                        96671.7              -    9381.9     -       95.0%   \n",
      "  2044      12                -                        96671.71             -    9387.0     -       90.0%   \n",
      "  2045      13                -                        96671.71             -    9393.5     -       89.3%   "
     ]
    },
    {
     "name": "stderr",
     "output_type": "stream",
     "text": [
      "┌ Warning: Only almost solved\n",
      "└ @ Juniper C:\\Users\\Оля\\.julia\\packages\\Juniper\\atNbZ\\src\\BnBTree.jl:89\n"
     ]
    },
    {
     "name": "stdout",
     "output_type": "stream",
     "text": [
      "\n",
      "  2046      13                -                        96671.72             -    9398.5     -       88.4%   \n",
      "  2047      14                -                        96671.72             -    9403.3     -       90.1%   \n",
      "  2048      12                -                        96671.72             -    9408.1     -       89.3%   \n",
      "  2049      11                -                        96671.72             -    9412.4     -       90.5%   \n",
      "  2050      14                -                        96671.72             -    9417.1     -       95.0%   \n",
      "  2051      15                -                        96671.73             -    9422.5     -       94.7%   \n",
      "  2052      14                -                        96671.73             -    9427.3     -       88.3%   \n",
      "  2053      13                -                        96671.74             -    9432.1     -       98.5%   \n",
      "  2054      15                -                        96671.74             -    9437.5     -       90.5%   \n",
      "  2055      13                -                        96671.74             -    9442.4     -       89.8%   \n",
      "  2056      16                -                        96671.75             -    9446.5     -       87.9%   \n",
      "  2057      16                -                        96671.75             -    9451.6     -       95.1%   \n",
      "  2058      15                -                        96671.75             -    9456.8     -       95.1%   \n",
      "  2059      12                -                        96671.75             -    9461.6     -       90.5%   \n",
      "  2060      13                -                        96671.76             -    9466.6     -       87.9%   \n",
      "  2061      13                -                        96671.76             -    9471.8     -       94.5%   \n",
      "  2062      13                -                        96671.77             -    9476.9     -       95.1%   \n",
      "  2063      13                -                        96671.77             -    9482.0     -       89.9%   \n",
      "  2064      13                -                        96671.77             -    9488.3     -       95.1%   \n",
      "  2065      12                -                        96671.78             -    9493.6     -       88.4%   \n",
      "  2066      15                -                        96671.78             -    9498.4     -       89.9%   \n",
      "  2067      14                -                        96671.78             -    9504.2     -       89.2%   \n",
      "  2068      13                -                        96671.78             -    9509.6     -       95.1%   \n",
      "  2069      16                -                        96671.79             -    9515.3     -       88.8%   \n",
      "  2070      12                -                        96671.79             -    9520.7     -       93.6%   \n",
      "  2071      11                -                        96671.8              -    9525.4     -       95.1%   \n",
      "  2072      14                -                        96671.8              -    9530.1     -       88.6%   \n",
      "  2073      14                -                        96671.8              -    9535.0     -       93.5%   \n",
      "  2074      13                -                        96671.81             -    9539.1     -       95.1%   \n",
      "  2075      14                -                        96671.83             -    9544.0     -       95.0%   \n",
      "  2076      13                -                        96671.83             -    9548.8     -       94.9%   \n",
      "  2077      12                -                        96671.83             -    9553.2     -       95.1%   \n",
      "  2078      14                -                        96671.84             -    9558.4     -       88.5%   \n",
      "  2079      13                -                        96671.84             -    9562.9     -       95.1%   \n",
      "  2080      13                -                        96671.84             -    9567.4     -       95.1%   \n",
      "  2081      15                -                        96671.85             -    9571.2     -       90.6%   \n",
      "  2082      14                -                        96671.85             -    9576.3     -       93.5%   \n",
      "  2083      14                -                        96671.85             -    9581.5     -       95.2%   \n",
      "  2084      11                -                        96671.85             -    9585.9     -       96.2%   \n",
      "  2085      14                -                        96671.87             -    9590.8     -       93.1%   \n",
      "  2086      12                -                        96671.88             -    9595.6     -       95.2%   \n",
      "  2087      12                -                        96671.89             -    9600.3     -       97.3%   \n",
      "  2088      13                -                        96671.91             -    9605.2     -       94.3%   \n",
      "  2089      13                -                        96671.91             -    9609.2     -       95.1%   \n",
      "  2090      16                -                        96671.91             -    9614.4     -       95.2%   \n",
      "  2091      14                -                        96671.91             -    9620.2     -       97.6%   \n",
      "  2092      14                -                        96671.92             -    9624.0     -       95.1%   \n",
      "  2093      12                -                        96671.92             -    9628.2     -       98.8%   \n"
     ]
    },
    {
     "name": "stderr",
     "output_type": "stream",
     "text": [
      "┌ Warning: Only almost solved\n",
      "└ @ Juniper C:\\Users\\Оля\\.julia\\packages\\Juniper\\atNbZ\\src\\BnBTree.jl:89\n"
     ]
    },
    {
     "name": "stdout",
     "output_type": "stream",
     "text": [
      "  2094      15                -                        96671.93             -    9633.9     -       86.2%   \n",
      "  2095      14                -                        96671.93             -    9639.0     -       97.6%   \n",
      "  2096      13                -                        96671.93             -    9643.3     -       95.2%   \n",
      "  2097      13                -                        96671.93             -    9648.4     -       95.1%   \n",
      "  2098      12                -                        96671.94             -    9652.8     -       90.7%   \n",
      "  2099      12                -                        96671.94             -    9657.1     -       96.3%   \n",
      "  2100      14                -                        96671.94             -    9662.4     -       95.2%   \n",
      "  2101      14                -                        96671.94             -    9666.4     -       89.4%   \n",
      "  2102      13                -                        96671.94             -    9670.8     -       95.2%   \n",
      "  2103      13                -                        96671.94             -    9675.4     -       95.2%   \n",
      "  2104      14                -                        96671.95             -    9681.3     -       95.2%   \n",
      "  2105      16                -                        96671.95             -    9686.0     -       90.5%   \n",
      "  2106      14                -                        96671.95             -    9690.0     -       95.2%   \n",
      "  2107      13                -                        96671.95             -    9694.3     -       95.2%   \n",
      "  2108      14                -                        96671.95             -    9699.0     -       95.2%   \n",
      "  2109      13                -                        96671.95             -    9704.3     -       95.3%   \n",
      "  2110      13                -                        96671.96             -    9708.1     -       95.3%   \n",
      "  2111      15                -                        96671.96             -    9713.3     -       95.2%   \n",
      "  2112      13                -                        96671.96             -    9718.1     -       96.6%   \n",
      "  2113      13                -                        96671.96             -    9722.9     -       95.1%   \n",
      "  2114      11                -                        96671.97             -    9727.1     -       95.2%   \n",
      "  2115      17                -                        96671.98             -    9731.9     -       90.4%   \n",
      "  2116      14                -                        96671.98             -    9736.7     -       95.2%   \n",
      "  2117      13                -                        96671.98             -    9741.9     -       95.3%   \n",
      "  2118      16                -                        96671.98             -    9746.5     -       89.6%   \n",
      "  2119      13                -                        96671.98             -    9751.1     -       95.3%   \n",
      "  2120      15                -                        96671.99             -    9755.7     -       95.3%   \n",
      "  2121      12                -                        96671.99             -    9760.4     -       95.2%   \n",
      "  2122      12                -                        96671.99             -    9764.7     -       96.6%   \n",
      "  2123      14                -                        96671.99             -    9769.3     -       94.9%   \n",
      "  2124      14                -                        96671.99             -    9774.6     -       95.4%   \n",
      "  2125      14                -                        96671.99             -    9780.2     -       89.0%   \n",
      "  2126      12                -                        96672.0              -    9785.4     -       95.3%   \n",
      "  2127      13                -                        96672.0              -    9791.7     -       88.9%   \n",
      "  2128      15                -                        96672.0              -    9797.5     -       95.2%   \n",
      "  2129      12                -                        96672.0              -    9803.8     -       95.3%   \n",
      "  2130      13                -                        96672.0              -    9810.0     -       90.6%   \n",
      "  2131      10                -                        96672.0              -    9815.1     -       90.9%   \n",
      "  2132      16                -                        96672.01             -    9821.9     -       89.5%   \n",
      "  2133      14                -                        96672.01             -    9826.9     -       89.8%   \n",
      "  2134      14                -                        96672.01             -    9831.5     -       95.2%   \n",
      "  2135      14                -                        96672.01             -    9836.3     -       95.3%   \n",
      "  2136      14                -                        96672.01             -    9840.5     -       95.3%   \n",
      "  2137      14                -                        96672.02             -    9845.7     -       87.8%   \n",
      "  2138      13                -                        96672.02             -    9849.5     -       95.3%   \n",
      "  2139      14                -                        96672.03             -    9854.6     -       95.3%   \n",
      "  2140      14                -                        96672.03             -    9858.7     -       95.3%   \n",
      "  2141      13                -                        96672.03             -    9863.5     -       90.9%   \n",
      "  2142      14                -                        96672.03             -    9868.7     -       97.7%   \n",
      "  2143      13                -                        96672.03             -    9873.8     -       93.2%   \n"
     ]
    },
    {
     "name": "stderr",
     "output_type": "stream",
     "text": [
      "┌ Warning: Only almost solved\n",
      "└ @ Juniper C:\\Users\\Оля\\.julia\\packages\\Juniper\\atNbZ\\src\\BnBTree.jl:89\n"
     ]
    },
    {
     "name": "stdout",
     "output_type": "stream",
     "text": [
      "  2144      17                -                        96672.03             -    9879.4     -       89.0%   \n",
      "  2145      12                -                        96672.03             -    9884.9     -       91.7%   \n",
      "  2146      12                -                        96672.03             -    9889.5     -       95.3%   \n",
      "  2147      14                -                        96672.03             -    9894.3     -       89.1%   \n",
      "  2148      14                -                        96672.04             -    9899.0     -       89.7%   \n",
      "  2149      15                -                        96672.04             -    9904.4     -       95.4%   \n",
      "  2150      14                -                        96672.05             -    9908.6     -       95.3%   \n",
      "  2151      12                -                        96672.05             -    9913.3     -       95.3%   \n",
      "  2152      15                -                        96672.05             -    9918.9     -       95.4%   \n",
      "  2153      15                -                        96672.06             -    9923.8     -       98.0%   \n",
      "  2154      14                -                        96672.06             -    9928.2     -       93.5%   \n",
      "  2155      14                -                        96672.06             -    9933.7     -       89.7%   \n",
      "  2156      14                -                        96672.06             -    9938.3     -       89.6%   \n"
     ]
    },
    {
     "name": "stderr",
     "output_type": "stream",
     "text": [
      "┌ Warning: Only almost solved\n",
      "└ @ Juniper C:\\Users\\Оля\\.julia\\packages\\Juniper\\atNbZ\\src\\BnBTree.jl:89\n"
     ]
    },
    {
     "name": "stdout",
     "output_type": "stream",
     "text": [
      "  2157      13                -                        96672.06             -    9944.2     -       95.3%   \n",
      "  2158      15                -                        96672.06             -    9949.4     -       95.4%   \n",
      "  2159      15                -                        96672.07             -    9954.5     -       94.9%   \n",
      "  2160      16                -                        96672.07             -    9958.6     -       94.6%   \n",
      "  2161      13                -                        96672.07             -    9963.2     -       95.3%   \n",
      "  2162      12                -                        96672.07             -    9968.6     -       95.3%   \n",
      "  2163      14                -                        96672.07             -    9973.9     -       95.4%   \n",
      "  2164      14                -                        96672.08             -    9978.1     -       95.4%   \n",
      "  2165      12                -                        96672.08             -    9982.9     -       95.3%   \n",
      "  2166      13                -                        96672.08             -    9987.5     -       98.6%   \n",
      "  2167      12                -                        96672.08             -    9992.3     -       95.4%   \n",
      "  2168      13                -                        96672.08             -    9996.4     -       88.6%   \n",
      "  2169      11                -                        96672.08             -   10000.5     -       95.4%   \n",
      "  2170      14                -                        96672.09             -   10005.6     -       95.4%   \n",
      "  2171      13                -                        96672.09             -   10010.6     -       95.3%   \n",
      "  2172      15                -                        96672.09             -   10015.8     -       95.4%   \n",
      "  2173      12                -                        96672.09             -   10020.3     -       95.3%   \n",
      "  2174      15                -                        96672.09             -   10025.3     -       95.4%   \n",
      "  2175      13                -                        96672.09             -   10030.6     -       98.0%   \n",
      "  2176      13                -                        96672.1              -   10035.0     -       95.4%   \n",
      "  2177      12                -                        96672.1              -   10039.1     -       95.4%   \n",
      "  2178      13                -                        96672.1              -   10043.4     -       95.4%   \n",
      "  2179      12                -                        96672.1              -   10048.1     -       95.4%   \n",
      "  2180      13                -                        96672.11             -   10053.0     -       94.9%   \n",
      "  2181      14                -                        96672.11             -   10058.1     -       95.4%   \n",
      "  2182      15                -                        96672.11             -   10063.7     -       95.4%   \n",
      "  2183      13                -                        96672.11             -   10067.8     -       95.4%   \n",
      "  2184      16                -                        96672.12             -   10072.7     -       91.1%   \n",
      "  2185      16                -                        96672.12             -   10079.3     -       95.2%   \n",
      "  2186      14                -                        96672.12             -   10085.0     -       97.1%   \n",
      "  2187      14                -                        96672.12             -   10090.7     -       92.8%   \n",
      "  2188      13                -                        96672.12             -   10097.5     -       90.6%   \n",
      "  2189      13                -                        96672.12             -   10103.5     -       95.4%   \n",
      "  2190      13                -                        96672.12             -   10108.6     -       95.4%   \n",
      "  2191      14                -                        96672.12             -   10114.9     -       95.5%   \n",
      "  2192      12                -                        96672.12             -   10119.8     -       97.0%   \n",
      "  2193      15                -                        96672.13             -   10125.6     -       93.1%   \n",
      "  2194      14                -                        96672.13             -   10130.2     -       95.5%   \n",
      "  2195      13                -                        96672.13             -   10134.9     -       95.4%   \n",
      "  2196      13                -                        96672.13             -   10139.8     -       95.4%   \n",
      "  2197      13                -                        96672.13             -   10145.1     -       94.1%   \n",
      "  2198      14                -                        96672.14             -   10150.0     -       91.1%   \n",
      "  2199      14                -                        96672.14             -   10154.3     -       97.1%   \n",
      "  2200      12                -                        96672.15             -   10159.7     -       92.8%   \n",
      "  2201      13                -                        96672.15             -   10163.8     -       95.5%   \n",
      "  2202      12                -                        96672.15             -   10168.1     -       95.5%   \n",
      "  2203      15                -                        96672.15             -   10172.4     -       95.5%   \n",
      "  2204      13                -                        96672.15             -   10177.1     -       95.4%   \n",
      "  2205      13                -                        96672.15             -   10182.2     -       95.5%   \n",
      "  2206      13                -                        96672.15             -   10186.0     -       95.4%   \n",
      "  2207      14                -                        96672.16             -   10191.4     -       95.5%   \n",
      "  2208      13                -                        96672.16             -   10196.8     -       90.5%   \n",
      "  2209      12                -                        96672.16             -   10201.8     -       95.5%   \n",
      "  2210      13                -                        96672.16             -   10207.1     -       97.1%   \n",
      "  2211      12                -                        96672.16             -   10211.1     -       93.0%   \n",
      "  2212      14                -                        96672.16             -   10215.2     -       95.5%   \n",
      "  2213      12                -                        96672.16             -   10221.0     -       95.5%   \n",
      "  2214      17                -                        96672.17             -   10226.1     -       87.0%   \n",
      "  2215      12                -                        96672.17             -   10230.8     -       89.2%   \n",
      "  2216      14                -                        96672.17             -   10235.8     -       95.5%   \n",
      "  2217      13                -                        96672.17             -   10240.7     -       95.2%   \n",
      "  2218      13                -                        96672.17             -   10245.3     -       95.5%   \n",
      "  2219      14                -                        96672.18             -   10250.5     -       90.8%   \n",
      "  2220      13                -                        96672.18             -   10255.2     -       94.7%   \n",
      "  2221      13                -                        96672.18             -   10260.1     -       97.3%   \n",
      "  2222      13                -                        96672.18             -   10264.7     -       95.5%   \n",
      "  2223      14                -                        96672.18             -   10270.3     -       97.7%   \n",
      "  2224      15                -                        96672.18             -   10277.9     -       93.3%   \n"
     ]
    },
    {
     "name": "stderr",
     "output_type": "stream",
     "text": [
      "┌ Warning: Only almost solved\n",
      "└ @ Juniper C:\\Users\\Оля\\.julia\\packages\\Juniper\\atNbZ\\src\\BnBTree.jl:89\n"
     ]
    },
    {
     "name": "stdout",
     "output_type": "stream",
     "text": [
      "  2225      13                -                        96672.18             -   10282.1     -       92.9%   \n",
      "  2226      12                -                        96672.18             -   10287.8     -       95.5%   \n",
      "  2227      14                -                        96672.19             -   10292.9     -       95.5%   \n",
      "  2228      12                -                        96672.19             -   10297.1     -       95.5%   \n",
      "  2229      14                -                        96672.19             -   10303.2     -       95.5%   \n",
      "  2230      13                -                        96672.19             -   10308.4     -       91.6%   \n",
      "  2231      11                -                        96672.19             -   10313.4     -       95.5%   \n",
      "  2232      14                -                        96672.2              -   10318.6     -       95.5%   \n",
      "  2233      13                -                        96672.2              -   10323.0     -       97.3%   \n",
      "  2234      13                -                        96672.2              -   10327.6     -       92.2%   \n",
      "  2235      14                -                        96672.21             -   10332.6     -       95.6%   \n",
      "  2236      13                -                        96672.21             -   10337.3     -       95.6%   \n",
      "  2237      13                -                        96672.21             -   10343.1     -       95.5%   \n",
      "  2238      14                -                        96672.21             -   10347.3     -       95.5%   \n",
      "  2239      14                -                        96672.21             -   10352.7     -       95.6%   \n",
      "  2240      13                -                        96672.22             -   10356.6     -       95.6%   \n",
      "  2241      14                -                        96672.22             -   10361.6     -       95.5%   \n",
      "  2242      14                -                        96672.23             -   10366.9     -       89.7%   \n",
      "  2243      12                -                        96672.23             -   10372.0     -       97.0%   \n",
      "  2244      13                -                        96672.23             -   10377.3     -       93.3%   \n",
      "  2245      15                -                        96672.23             -   10382.5     -       91.5%   \n",
      "  2246      13                -                        96672.23             -   10387.3     -       95.4%   \n",
      "  2247      12                -                        96672.23             -   10392.8     -       95.5%   \n",
      "  2248      14                -                        96672.24             -   10397.8     -       95.6%   \n",
      "  2249      13                -                        96672.24             -   10403.7     -       95.6%   \n",
      "  2250      13                -                        96672.24             -   10408.1     -       91.5%   \n",
      "  2251      13                -                        96672.24             -   10413.6     -       95.5%   \n",
      "  2252      13                -                        96672.24             -   10419.2     -       94.0%   \n",
      "  2253      12                -                        96672.24             -   10424.5     -       95.6%   \n",
      "  2254      13                -                        96672.24             -   10429.7     -       95.5%   \n",
      "  2255      12                -                        96672.24             -   10434.2     -       94.8%   \n",
      "  2256      11                -                        96672.24             -   10438.1     -       95.6%   \n",
      "  2257      15                -                        96672.25             -   10442.7     -       91.6%   \n",
      "  2258      15                -                        96672.25             -   10447.7     -       90.2%   \n",
      "  2259      12                -                        96672.25             -   10452.6     -       95.7%   \n",
      "  2260      12                -                        96672.25             -   10456.2     -       95.3%   \n",
      "  2261      14                -                        96672.26             -   10461.8     -       93.3%   \n",
      "  2262      13                -                        96672.26             -   10466.7     -       95.6%   \n",
      "  2263      12                -                        96672.26             -   10471.1     -       95.6%   \n",
      "  2264      14                -                        96672.26             -   10475.5     -       94.7%   \n",
      "  2265      14                -                        96672.26             -   10480.0     -       88.9%   \n",
      "  2266      13                -                        96672.26             -   10484.5     -       91.6%   \n",
      "  2267      15                -                        96672.26             -   10489.6     -       95.4%   \n",
      "  2268      12                -                        96672.26             -   10494.7     -       97.4%   \n",
      "  2269      12                -                        96672.27             -   10499.0     -       95.6%   \n",
      "  2270      13                -                        96672.27             -   10503.0     -       95.4%   \n",
      "  2271      11                -                        96672.27             -   10507.7     -       95.6%   \n"
     ]
    },
    {
     "name": "stderr",
     "output_type": "stream",
     "text": [
      "┌ Warning: Only almost solved\n",
      "└ @ Juniper C:\\Users\\Оля\\.julia\\packages\\Juniper\\atNbZ\\src\\BnBTree.jl:89\n"
     ]
    },
    {
     "name": "stdout",
     "output_type": "stream",
     "text": [
      "  2272      11                -                        96672.27             -   10512.6     -       98.7%   \n",
      "  2273      15                -                        96672.27             -   10517.8     -       95.0%   \n",
      "  2274      14                -                        96672.28             -   10522.8     -       87.8%   \n",
      "  2275      14                -                        96672.28             -   10528.1     -       94.8%   \n",
      "  2276      12                -                        96672.28             -   10532.8     -       93.4%   \n",
      "  2277      13                -                        96672.28             -   10537.8     -       94.7%   \n",
      "  2278      13                -                        96672.28             -   10542.3     -       88.0%   \n",
      "  2279      15                -                        96672.28             -   10546.5     -       95.1%   \n",
      "  2280      14                -                        96672.28             -   10551.3     -       91.6%   \n",
      "  2281      16                -                        96672.28             -   10556.4     -       91.1%   \n",
      "  2282      11                -                        96672.28             -   10560.5     -       95.7%   \n"
     ]
    },
    {
     "name": "stderr",
     "output_type": "stream",
     "text": [
      "┌ Warning: Only almost solved\n",
      "└ @ Juniper C:\\Users\\Оля\\.julia\\packages\\Juniper\\atNbZ\\src\\BnBTree.jl:89\n"
     ]
    },
    {
     "name": "stdout",
     "output_type": "stream",
     "text": [
      "  2283      15                -                        96672.29             -   10565.8     -       94.2%   \n",
      "  2284      15                -                        96672.29             -   10569.6     -       90.2%   \n",
      "  2285      13                -                        96672.3              -   10575.2     -       90.8%   \n",
      "  2286      14                -                        96672.3              -   10579.5     -       90.6%   \n",
      "  2287      13                -                        96672.3              -   10584.2     -       96.9%   \n",
      "  2288      14                -                        96672.31             -   10589.2     -       87.4%   \n",
      "  2289      14                -                        96672.31             -   10593.9     -       87.7%   \n",
      "  2290      12                -                        96672.31             -   10598.3     -       95.6%   \n",
      "  2291      12                -                        96672.31             -   10602.6     -       95.6%   \n",
      "  2292      14                -                        96672.32             -   10607.2     -       94.7%   \n",
      "  2293      14                -                        96672.32             -   10612.0     -       89.4%   \n",
      "  2294      14                -                        96672.32             -   10617.2     -       98.1%   \n",
      "  2295      15                -                        96672.32             -   10622.8     -       97.7%   \n",
      "  2296      14                -                        96672.32             -   10627.7     -       96.5%   \n",
      "  2297      13                -                        96672.32             -   10632.4     -       95.6%   \n",
      "  2298      14                -                        96672.33             -   10637.7     -       95.6%   \n",
      "  2299      13                -                        96672.33             -   10642.4     -       95.7%   \n",
      "  2300      13                -                        96672.33             -   10646.8     -       92.1%   \n",
      "  2301      12                -                        96672.33             -   10651.1     -       95.6%   \n",
      "  2302      13                -                        96672.34             -   10655.3     -       91.6%   \n"
     ]
    },
    {
     "name": "stderr",
     "output_type": "stream",
     "text": [
      "┌ Warning: Only almost solved\n",
      "└ @ Juniper C:\\Users\\Оля\\.julia\\packages\\Juniper\\atNbZ\\src\\BnBTree.jl:89\n"
     ]
    },
    {
     "name": "stdout",
     "output_type": "stream",
     "text": [
      "  2303      14                -                        96672.34             -   10661.1     -       96.7%   \n",
      "  2304      15                -                        96672.35             -   10666.6     -       93.9%   \n",
      "  2305      14                -                        96672.35             -   10672.0     -       89.5%   \n",
      "  2306      14                -                        96672.36             -   10678.3     -       95.7%   \n",
      "  2307      13                -                        96672.36             -   10685.1     -       94.0%   \n",
      "  2308      12                -                        96672.36             -   10691.0     -       95.6%   \n",
      "  2309      13                -                        96672.37             -   10697.9     -       90.1%   \n",
      "  2310      15                -                        96672.37             -   10705.2     -       95.7%   \n",
      "  2311      11                -                        96672.37             -   10711.8     -       91.7%   \n",
      "  2312      12                -                        96672.38             -   10718.5     -       95.7%   \n",
      "  2313      16                -                        96672.39             -   10724.1     -       95.6%   \n",
      "  2314      14                -                        96672.4              -   10731.2     -       95.7%   \n",
      "  2315      14                -                        96672.4              -   10737.1     -       91.7%   \n",
      "  2316      13                -                        96672.4              -   10742.2     -       92.1%   \n",
      "  2317      13                -                        96672.4              -   10747.7     -       95.8%   \n",
      "  2318      12                -                        96672.41             -   10753.5     -       95.6%   \n",
      "  2319      14                -                        96672.41             -   10758.9     -       95.7%   \n",
      "  2320      13                -                        96672.41             -   10763.5     -       95.7%   \n"
     ]
    },
    {
     "name": "stderr",
     "output_type": "stream",
     "text": [
      "┌ Warning: Only almost solved\n",
      "└ @ Juniper C:\\Users\\Оля\\.julia\\packages\\Juniper\\atNbZ\\src\\BnBTree.jl:89\n"
     ]
    },
    {
     "name": "stdout",
     "output_type": "stream",
     "text": [
      "  2321      14                -                        96672.42             -   10770.8     -       95.4%   \n",
      "  2322      13                -                        96672.42             -   10775.8     -       95.7%   \n",
      "  2323      13                -                        96672.42             -   10781.0     -       95.2%   \n",
      "  2324      14                -                        96672.43             -   10786.0     -       95.7%   \n",
      "  2325      13                -                        96672.43             -   10790.7     -       95.4%   \n",
      "  2326      13                -                        96672.43             -   10795.2     -       91.7%   \n",
      "  2327      14                -                        96672.43             -   10800.3     -       90.9%   \n",
      "  2328      13                -                        96672.43             -   10804.8     -       95.7%   \n",
      "  2329      11                -                        96672.44             -   10808.9     -       95.7%   \n",
      "  2330      16                -                        96672.44             -   10814.3     -       95.7%   \n",
      "  2331      14                -                        96672.44             -   10819.6     -       94.7%   \n",
      "  2332      13                -                        96672.44             -   10824.1     -       91.8%   \n",
      "  2333      13                -                        96672.44             -   10829.3     -       91.2%   \n",
      "  2334      12                -                        96672.45             -   10833.6     -       95.7%   \n",
      "  2335      13                -                        96672.45             -   10838.7     -       95.2%   \n",
      "  2336      13                -                        96672.45             -   10844.0     -       98.4%   \n",
      "  2337      15                -                        96672.45             -   10848.7     -       90.9%   \n",
      "  2338      11                -                        96672.45             -   10852.7     -       96.9%   \n",
      "  2339      14                -                        96672.46             -   10857.5     -       95.2%   \n",
      "  2340      13                -                        96672.46             -   10861.7     -       95.7%   \n",
      "  2341      12                -                        96672.46             -   10866.4     -       95.7%   \n",
      "  2342      12                -                        96672.46             -   10870.8     -       91.8%   \n",
      "  2343      14                -                        96672.46             -   10876.9     -       95.7%   \n",
      "  2344      14                -                        96672.46             -   10882.0     -       95.8%   \n",
      "  2345      14                -                        96672.46             -   10886.8     -       95.7%   \n",
      "  2346      13                -                        96672.46             -   10891.6     -       91.8%   \n",
      "  2347      15                -                        96672.47             -   10897.1     -       95.7%   \n",
      "  2348      13                -                        96672.47             -   10902.1     -       97.0%   \n",
      "  2349      13                -                        96672.47             -   10906.0     -       94.6%   \n",
      "  2350      14                -                        96672.47             -   10911.4     -       95.8%   \n",
      "  2351      14                -                        96672.47             -   10916.1     -       95.7%   \n",
      "  2352      13                -                        96672.47             -   10920.9     -       91.8%   \n",
      "  2353      15                -                        96672.48             -   10926.4     -       95.7%   \n",
      "  2354      13                -                        96672.48             -   10931.0     -       95.8%   \n",
      "  2355      14                -                        96672.48             -   10936.2     -       95.7%   \n",
      "  2356      14                -                        96672.48             -   10941.2     -       95.7%   \n",
      "  2357      14                -                        96672.48             -   10946.2     -       93.9%   \n",
      "  2358      13                -                        96672.48             -   10951.4     -       94.6%   \n"
     ]
    },
    {
     "name": "stderr",
     "output_type": "stream",
     "text": [
      "┌ Warning: Only almost solved\n",
      "└ @ Juniper C:\\Users\\Оля\\.julia\\packages\\Juniper\\atNbZ\\src\\BnBTree.jl:89\n"
     ]
    },
    {
     "name": "stdout",
     "output_type": "stream",
     "text": [
      "  2359      13                -                        96672.49             -   10955.8     -       91.9%   \n",
      "  2360      15                -                        96672.49             -   10960.9     -       95.2%   \n",
      "  2361      15                -                        96672.49             -   10966.2     -       95.8%   \n",
      "  2362      14                -                        96672.49             -   10970.7     -       95.7%   \n",
      "  2363      14                -                        96672.49             -   10975.8     -       91.9%   \n",
      "  2364      17                -                        96672.5              -   10981.9     -       98.0%   \n",
      "  2365      13                -                        96672.5              -   10987.6     -       97.0%   \n",
      "  2366      16                -                        96672.5              -   10994.2     -       97.3%   \n",
      "  2367      13                -                        96672.5              -   10999.8     -       94.7%   \n",
      "  2368      15                -                        96672.51             -   11007.0     -       98.4%   \n",
      "  2369      13                -                        96672.51             -   11012.3     -       97.6%   \n",
      "  2370      13                -                        96672.51             -   11018.1     -       93.9%   \n",
      "  2371      13                -                        96672.51             -   11024.6     -       95.8%   \n",
      "  2372      14                -                        96672.51             -   11029.3     -       96.7%   \n",
      "  2373      13                -                        96672.52             -   11033.7     -       95.8%   \n",
      "  2374      12                -                        96672.52             -   11037.7     -       93.8%   \n",
      "  2375      13                -                        96672.52             -   11043.8     -       91.9%   \n",
      "  2376      16                -                        96672.53             -   11048.3     -       90.7%   \n",
      "  2377      16                -                        96672.53             -   11054.3     -       95.8%   \n",
      "  2378      12                -                        96672.53             -   11059.1     -       98.4%   \n",
      "  2379      13                -                        96672.53             -   11063.4     -       93.8%   \n",
      "  2380      12                -                        96672.54             -   11068.2     -       97.0%   \n",
      "  2381      12                -                        96672.54             -   11073.2     -       95.8%   \n",
      "  2382      13                -                        96672.54             -   11077.9     -       93.8%   \n",
      "  2383      15                -                        96672.54             -   11082.9     -       90.8%   \n",
      "  2384      13                -                        96672.55             -   11087.9     -       95.0%   \n",
      "  2385      13                -                        96672.55             -   11092.5     -       95.1%   \n",
      "  2386      15                -                        96672.55             -   11097.4     -       94.3%   \n",
      "  2387      12                -                        96672.55             -   11102.0     -       95.0%   \n",
      "  2388      14                -                        96672.55             -   11106.5     -       91.9%   \n",
      "  2389      14                -                        96672.55             -   11111.4     -       94.5%   \n",
      "  2390      13                -                        96672.55             -   11115.6     -       94.7%   \n",
      "  2391      12                -                        96672.56             -   11120.4     -       95.8%   \n",
      "  2392      13                -                        96672.56             -   11125.3     -       95.8%   \n",
      "  2392      16                -                        96672.57             -   11130.6     -       95.5%   \n",
      "  2393      14                -                        96672.57             -   11135.6     -       95.8%   \n",
      "  2394      14                -                        96672.57             -   11141.1     -       95.6%   \n",
      "  2395      13                -                        96672.57             -   11146.0     -       95.8%   \n",
      "  2396      13                -                        96672.57             -   11151.0     -       91.9%   \n",
      "  2397      14                -                        96672.57             -   11155.7     -       95.8%   \n",
      "  2398      12                -                        96672.57             -   11160.6     -       95.8%   \n",
      "  2399      12                -                        96672.57             -   11165.9     -       95.8%   \n",
      "  2400      13                -                        96672.58             -   11169.9     -       89.7%   \n",
      "  2401      13                -                        96672.58             -   11175.0     -       95.9%   \n",
      "  2402      12                -                        96672.58             -   11179.1     -       91.3%   \n",
      "  2403      15                -                        96672.59             -   11184.2     -       95.1%   \n",
      "  2404      14                -                        96672.59             -   11188.7     -       95.8%   \n",
      "  2405      14                -                        96672.6              -   11193.3     -       95.2%   \n",
      "  2406      14                -                        96672.6              -   11198.0     -       97.5%   \n",
      "  2407      14                -                        96672.6              -   11203.0     -       94.6%   \n",
      "  2408      14                -                        96672.6              -   11207.9     -       94.7%   \n",
      "  2409      13                -                        96672.6              -   11213.1     -       97.5%   \n",
      "  2410      13                -                        96672.6              -   11217.2     -       94.6%   \n",
      "  2411      14                -                        96672.6              -   11221.8     -       90.3%   \n",
      "  2412      14                -                        96672.61             -   11227.1     -       97.5%   \n",
      "  2413      14                -                        96672.61             -   11232.3     -       94.8%   \n",
      "  2414      15                -                        96672.62             -   11237.7     -       93.9%   \n",
      "  2415      14                -                        96672.62             -   11241.0     -       94.2%   \n",
      "  2416      15                -                        96672.63             -   11246.7     -       95.8%   \n",
      "  2417      13                -                        96672.63             -   11251.7     -       91.9%   \n",
      "  2418      14                -                        96672.64             -   11256.3     -       95.8%   \n",
      "  2419      13                -                        96672.65             -   11261.9     -       95.8%   \n",
      "  2420      12                -                        96672.65             -   11266.8     -       95.8%   \n",
      "  2421      12                -                        96672.65             -   11271.2     -       97.0%   \n",
      "  2422      16                -                        96672.65             -   11276.7     -       94.6%   \n",
      "  2423      14                -                        96672.65             -   11282.8     -       95.8%   \n",
      "  2424      14                -                        96672.65             -   11289.1     -       96.0%   \n",
      "  2425      14                -                        96672.66             -   11295.1     -       92.0%   \n",
      "  2426      14                -                        96672.66             -   11301.1     -       95.8%   \n",
      "  2427      14                -                        96672.66             -   11305.8     -       95.8%   \n",
      "  2428      13                -                        96672.66             -   11311.9     -       92.0%   \n",
      "  2429      12                -                        96672.66             -   11315.9     -       95.8%   \n",
      "  2430      14                -                        96672.66             -   11322.0     -       92.7%   \n",
      "  2431      13                -                        96672.66             -   11326.8     -       95.8%   \n",
      "  2432      14                -                        96672.66             -   11331.6     -       95.9%   \n",
      "  2433      14                -                        96672.66             -   11336.5     -       95.2%   \n",
      "  2434      13                -                        96672.66             -   11341.8     -       92.0%   \n",
      "  2435      13                -                        96672.66             -   11346.4     -       95.8%   \n",
      "  2436      13                -                        96672.67             -   11351.2     -       95.9%   \n",
      "  2437      14                -                        96672.67             -   11355.9     -       95.8%   \n",
      "  2438      15                -                        96672.67             -   11361.5     -       89.9%   \n",
      "  2439      13                -                        96672.67             -   11366.2     -       92.0%   \n",
      "  2440      14                -                        96672.68             -   11371.2     -       97.0%   \n",
      "  2441      13                -                        96672.68             -   11376.2     -       95.6%   \n",
      "  2442      15                -                        96672.68             -   11381.4     -       94.6%   \n",
      "  2443      14                -                        96672.68             -   11385.9     -       95.8%   \n",
      "  2444      13                -                        96672.68             -   11391.3     -       95.8%   \n",
      "  2445      13                -                        96672.69             -   11396.4     -       97.5%   \n",
      "  2446      14                -                        96672.69             -   11401.4     -       94.7%   \n",
      "  2447      14                -                        96672.69             -   11406.8     -       92.1%   \n",
      "  2448      11                -                        96672.69             -   11410.5     -       95.9%   \n",
      "  2449      12                -                        96672.7              -   11414.8     -       97.0%   \n",
      "  2450      16                -                        96672.7              -   11419.9     -       95.5%   \n",
      "  2451      15                -                        96672.7              -   11424.9     -       90.8%   \n",
      "  2452      12                -                        96672.71             -   11429.6     -       95.9%   \n",
      "  2453      14                -                        96672.71             -   11434.7     -       91.7%   \n",
      "  2454      14                -                        96672.71             -   11440.0     -       97.3%   \n",
      "  2455      13                -                        96672.72             -   11444.2     -       95.1%   \n",
      "  2456      16                -                        96672.72             -   11449.2     -       91.3%   \n",
      "  2457      14                -                        96672.72             -   11454.3     -       95.9%   \n",
      "  2458      12                -                        96672.72             -   11459.1     -       97.3%   \n",
      "  2459      13                -                        96672.73             -   11464.2     -       94.6%   \n",
      "  2460      14                -                        96672.73             -   11469.6     -       89.8%   \n",
      "  2461      13                -                        96672.73             -   11474.6     -       96.8%   \n",
      "  2462      12                -                        96672.73             -   11479.0     -       95.7%   \n",
      "  2463      14                -                        96672.73             -   11483.5     -       92.1%   \n",
      "  2464      13                -                        96672.73             -   11488.1     -       96.0%   \n",
      "  2465      12                -                        96672.73             -   11492.9     -       95.9%   \n",
      "  2466      14                -                        96672.74             -   11497.8     -       95.9%   \n",
      "  2467      13                -                        96672.74             -   11503.3     -       96.0%   \n",
      "  2468      13                -                        96672.74             -   11507.6     -       97.7%   \n",
      "  2469      12                -                        96672.75             -   11512.9     -       92.4%   \n",
      "  2470      14                -                        96672.75             -   11521.6     -       95.5%   \n",
      "  2471      13                -                        96672.76             -   11526.6     -       97.5%   \n",
      "  2472      12                -                        96672.76             -   11530.7     -       93.1%   \n",
      "  2473      12                -                        96672.76             -   11535.4     -       95.9%   \n",
      "  2474      14                -                        96672.76             -   11540.7     -       91.2%   \n",
      "  2475      14                -                        96672.76             -   11545.4     -       95.9%   \n",
      "  2476      13                -                        96672.76             -   11550.4     -       92.4%   \n",
      "  2477      13                -                        96672.76             -   11554.8     -       95.9%   \n",
      "  2478      13                -                        96672.76             -   11559.7     -       97.5%   \n",
      "  2479      13                -                        96672.77             -   11564.3     -       95.7%   \n",
      "  2480      13                -                        96672.77             -   11568.9     -       92.1%   \n",
      "  2481      14                -                        96672.77             -   11572.9     -       97.3%   \n",
      "  2482      13                -                        96672.78             -   11578.6     -       95.2%   \n",
      "  2483      13                -                        96672.78             -   11584.9     -       97.1%   \n",
      "  2484      12                -                        96672.78             -   11590.6     -       95.5%   \n",
      "  2485      13                -                        96672.78             -   11595.6     -       90.8%   \n",
      "  2486      13                -                        96672.79             -   11601.9     -       95.5%   \n",
      "  2487      15                -                        96672.79             -   11606.5     -       95.9%   \n",
      "  2488      14                -                        96672.79             -   11611.7     -       95.9%   \n",
      "  2489      14                -                        96672.79             -   11618.0     -       95.9%   \n",
      "  2490      14                -                        96672.79             -   11623.5     -       90.7%   \n",
      "  2491      15                -                        96672.79             -   11628.4     -       91.8%   \n",
      "  2492      14                -                        96672.79             -   11632.5     -       95.7%   \n",
      "  2493      13                -                        96672.8              -   11637.5     -       97.6%   \n",
      "  2494      15                -                        96672.8              -   11642.5     -       93.1%   \n",
      "  2495      14                -                        96672.8              -   11648.0     -       97.6%   \n",
      "  2496      14                -                        96672.8              -   11653.0     -       93.2%   \n",
      "  2497      14                -                        96672.8              -   11658.1     -       97.6%   \n",
      "  2498      13                -                        96672.8              -   11662.9     -       94.4%   \n",
      "  2499      15                -                        96672.81             -   11667.4     -       91.6%   \n",
      "  2500      15                -                        96672.81             -   11672.5     -       91.2%   \n",
      "  2501      14                -                        96672.81             -   11677.6     -       97.7%   \n",
      "  2502      14                -                        96672.81             -   11682.2     -       92.2%   \n",
      "  2503      14                -                        96672.81             -   11687.1     -       90.5%   \n",
      "  2504      13                -                        96672.81             -   11692.1     -       95.9%   \n",
      "  2505      13                -                        96672.81             -   11697.1     -       95.9%   \n"
     ]
    },
    {
     "name": "stderr",
     "output_type": "stream",
     "text": [
      "┌ Warning: Only almost solved\n",
      "└ @ Juniper C:\\Users\\Оля\\.julia\\packages\\Juniper\\atNbZ\\src\\BnBTree.jl:89\n"
     ]
    },
    {
     "name": "stdout",
     "output_type": "stream",
     "text": [
      "  2506      13                -                        96672.81             -   11702.6     -       98.2%   \n",
      "  2507      15                -                        96672.82             -   11707.7     -       94.2%   \n",
      "  2508      15                -                        96672.82             -   11712.8     -       90.9%   \n",
      "  2509      15                -                        96672.82             -   11717.5     -       95.9%   \n",
      "  2510      13                -                        96672.82             -   11722.4     -       92.2%   \n",
      "  2511      15                -                        96672.82             -   11727.0     -       89.6%   \n",
      "  2512      14                -                        96672.82             -   11731.7     -       89.3%   \n",
      "  2513      14                -                        96672.82             -   11736.2     -       95.9%   \n",
      "  2514      14                -                        96672.82             -   11740.6     -       89.4%   \n",
      "  2515      13                -                        96672.82             -   11745.3     -       97.1%   \n",
      "  2516      14                -                        96672.83             -   11750.0     -       95.9%   \n",
      "  2517      12                -                        96672.83             -   11754.9     -       96.0%   \n",
      "  2518      13                -                        96672.83             -   11760.3     -       95.5%   \n",
      "  2519      15                -                        96672.83             -   11765.2     -       95.9%   \n",
      "  2520      13                -                        96672.83             -   11770.2     -       90.6%   \n",
      "  2521      15                -                        96672.84             -   11775.4     -       90.5%   \n",
      "  2521      14                -                        96672.84             -   11780.9     -       92.2%   \n",
      "  2522      13                -                        96672.84             -   11785.7     -       93.8%   \n",
      "  2523      14                -                        96672.84             -   11790.8     -       91.1%   \n",
      "  2524      14                -                        96672.84             -   11795.3     -       92.2%   \n",
      "  2525      15                -                        96672.84             -   11800.3     -       90.5%   \n",
      "  2526      15                -                        96672.84             -   11804.8     -       92.2%   \n",
      "  2527      13                -                        96672.84             -   11809.8     -       96.0%   \n",
      "  2528      14                -                        96672.84             -   11815.5     -       95.9%   \n",
      "  2529      13                -                        96672.84             -   11821.4     -       97.1%   \n"
     ]
    },
    {
     "name": "stderr",
     "output_type": "stream",
     "text": [
      "┌ Warning: Only almost solved\n",
      "└ @ Juniper C:\\Users\\Оля\\.julia\\packages\\Juniper\\atNbZ\\src\\BnBTree.jl:89\n"
     ]
    },
    {
     "name": "stdout",
     "output_type": "stream",
     "text": [
      "  2530      15                -                        96672.85             -   11827.5     -       94.3%   "
     ]
    },
    {
     "name": "stderr",
     "output_type": "stream",
     "text": [
      "┌ Warning: Only almost solved\n",
      "└ @ Juniper C:\\Users\\Оля\\.julia\\packages\\Juniper\\atNbZ\\src\\BnBTree.jl:89\n"
     ]
    },
    {
     "name": "stdout",
     "output_type": "stream",
     "text": [
      "\n",
      "  2531      15                -                        96672.85             -   11832.6     -       96.0%   \n",
      "  2532      13                -                        96672.85             -   11836.8     -       96.0%   \n",
      "  2533      14                -                        96672.85             -   11841.8     -       96.0%   \n",
      "  2534      13                -                        96672.85             -   11846.5     -       96.0%   \n",
      "  2535      16                -                        96672.85             -   11851.1     -       92.2%   \n",
      "  2536      14                -                        96672.85             -   11856.3     -       96.0%   \n",
      "  2537      13                -                        96672.85             -   11860.7     -       96.0%   \n",
      "  2538      15                -                        96672.86             -   11865.2     -       90.5%   \n",
      "  2539      14                -                        96672.86             -   11870.1     -       92.3%   \n",
      "  2540      13                -                        96672.86             -   11874.8     -       96.0%   \n",
      "  2541      14                -                        96672.86             -   11881.0     -       90.3%   \n",
      "  2542      14                -                        96672.86             -   11887.3     -       96.0%   \n",
      "  2543      14                -                        96672.86             -   11893.3     -       89.9%   \n",
      "  2544      11                -                        96672.86             -   11898.1     -       96.1%   \n",
      "  2545      16                -                        96672.87             -   11905.2     -       93.5%   \n",
      "  2546      16                -                        96672.87             -   11911.0     -       92.3%   \n",
      "  2547      14                -                        96672.87             -   11915.9     -       96.0%   \n",
      "  2548      12                -                        96672.87             -   11922.4     -       97.6%   \n",
      "  2549      17                -                        96672.87             -   11927.5     -       93.5%   \n",
      "  2550      13                -                        96672.87             -   11932.6     -       98.3%   \n",
      "  2551      12                -                        96672.87             -   11936.7     -       94.5%   \n",
      "  2552      16                -                        96672.88             -   11940.9     -       97.2%   \n",
      "  2553      14                -                        96672.88             -   11945.5     -       91.1%   \n",
      "  2554      13                -                        96672.88             -   11950.3     -       90.7%   \n",
      "  2555      13                -                        96672.88             -   11955.3     -       95.8%   \n",
      "  2556      11                -                        96672.88             -   11959.4     -       96.0%   \n",
      "  2557      12                -                        96672.88             -   11964.4     -       96.1%   \n"
     ]
    },
    {
     "name": "stderr",
     "output_type": "stream",
     "text": [
      "┌ Warning: Only almost solved\n",
      "└ @ Juniper C:\\Users\\Оля\\.julia\\packages\\Juniper\\atNbZ\\src\\BnBTree.jl:89\n"
     ]
    },
    {
     "name": "stdout",
     "output_type": "stream",
     "text": [
      "  2558      14                -                        96672.89             -   11970.2     -       98.4%   \n",
      "  2559      13                -                        96672.89             -   11974.6     -       91.6%   \n",
      "  2560      14                -                        96672.9              -   11979.2     -       94.5%   \n",
      "  2561      14                -                        96672.9              -   11984.9     -       89.5%   "
     ]
    },
    {
     "name": "stderr",
     "output_type": "stream",
     "text": [
      "┌ Warning: Only almost solved\n",
      "└ @ Juniper C:\\Users\\Оля\\.julia\\packages\\Juniper\\atNbZ\\src\\BnBTree.jl:89\n"
     ]
    },
    {
     "name": "stdout",
     "output_type": "stream",
     "text": [
      "\n",
      "  2562      12                -                        96672.9              -   11989.2     -       92.3%   \n",
      "  2563      14                -                        96672.9              -   11994.2     -       96.0%   \n",
      "  2564      15                -                        96672.9              -   11998.4     -       90.7%   \n",
      "  2565      13                -                        96672.9              -   12003.4     -       92.0%   \n",
      "  2566      11                -                        96672.9              -   12007.4     -       96.0%   \n",
      "  2567      15                -                        96672.91             -   12012.0     -       91.1%   \n",
      "  2568      13                -                        96672.91             -   12016.9     -       91.2%   \n",
      "  2569      16                -                        96672.91             -   12022.6     -       91.6%   \n",
      "  2570      15                -                        96672.91             -   12027.7     -       96.0%   \n",
      "  2571      14                -                        96672.91             -   12032.4     -       96.0%   \n",
      "  2572      12                -                        96672.91             -   12037.1     -       96.0%   \n",
      "  2573      12                -                        96672.91             -   12042.0     -       96.1%   \n",
      "  2574      15                -                        96672.92             -   12047.1     -       96.0%   \n",
      "  2575      13                -                        96672.92             -   12051.8     -       92.4%   \n",
      "  2576      13                -                        96672.92             -   12056.1     -       96.1%   \n",
      "  2577      13                -                        96672.92             -   12060.4     -       96.0%   \n",
      "  2578      13                -                        96672.92             -   12065.2     -       91.4%   \n",
      "  2579      15                -                        96672.92             -   12069.6     -       96.1%   \n",
      "  2580      14                -                        96672.92             -   12074.1     -       96.1%   \n",
      "  2581      12                -                        96672.92             -   12080.5     -       91.7%   \n",
      "  2582      14                -                        96672.93             -   12084.9     -       96.1%   \n",
      "  2583      14                -                        96672.93             -   12089.8     -       96.1%   \n",
      "  2584      13                -                        96672.93             -   12094.6     -       92.4%   \n",
      "  2585      15                -                        96672.93             -   12099.9     -       92.0%   \n",
      "  2586      15                -                        96672.93             -   12104.5     -       90.8%   \n",
      "  2587      14                -                        96672.93             -   12109.3     -       96.0%   \n",
      "  2588      15                -                        96672.93             -   12114.3     -       96.1%   \n",
      "  2589      13                -                        96672.93             -   12119.2     -       96.1%   \n",
      "  2590      14                -                        96672.93             -   12123.6     -       96.1%   \n",
      "  2591      12                -                        96672.94             -   12129.2     -       96.1%   \n",
      "  2592      15                -                        96672.94             -   12133.9     -       92.4%   \n",
      "  2593      13                -                        96672.94             -   12138.2     -       92.4%   \n",
      "  2594      16                -                        96672.94             -   12143.7     -       95.2%   \n",
      "  2595      14                -                        96672.94             -   12148.4     -       96.1%   \n",
      "  2596      13                -                        96672.94             -   12152.9     -       91.9%   \n",
      "  2597      12                -                        96672.94             -   12158.3     -       95.6%   \n",
      "  2598      14                -                        96672.95             -   12163.2     -       96.1%   \n",
      "  2599      13                -                        96672.95             -   12168.3     -       96.1%   \n",
      "  2600      13                -                        96672.95             -   12171.7     -       93.8%   \n",
      "  2601      12                -                        96672.95             -   12177.8     -       96.2%   \n",
      "  2602      15                -                        96672.95             -   12183.6     -       90.5%   \n",
      "  2603      14                -                        96672.96             -   12190.2     -       96.1%   \n",
      "  2604      14                -                        96672.96             -   12195.0     -       98.8%   \n",
      "  2605      17                -                        96672.97             -   12201.0     -       92.0%   \n",
      "  2606      15                -                        96672.97             -   12208.0     -       95.2%   \n",
      "  2607      13                -                        96672.97             -   12213.5     -       93.1%   \n",
      "  2608      14                -                        96672.97             -   12218.4     -       95.5%   \n",
      "  2609      14                -                        96672.98             -   12224.4     -       96.1%   \n",
      "  2610      14                -                        96672.98             -   12229.4     -       97.6%   \n",
      "  2611      14                -                        96672.98             -   12234.3     -       95.4%   \n",
      "  2612      14                -                        96672.98             -   12238.5     -       91.7%   \n",
      "  2613      13                -                        96672.98             -   12243.3     -       96.1%   \n",
      "  2614      14                -                        96672.98             -   12249.5     -       97.4%   "
     ]
    },
    {
     "name": "stderr",
     "output_type": "stream",
     "text": [
      "┌ Warning: Only almost solved\n",
      "└ @ Juniper C:\\Users\\Оля\\.julia\\packages\\Juniper\\atNbZ\\src\\BnBTree.jl:89\n"
     ]
    },
    {
     "name": "stdout",
     "output_type": "stream",
     "text": [
      "\n",
      "  2615      13                -                        96672.98             -   12255.1     -       93.6%   \n",
      "  2616      12                -                        96672.98             -   12260.1     -       96.1%   \n",
      "  2617      16                -                        96672.98             -   12264.8     -       96.2%   \n",
      "  2618      15                -                        96672.98             -   12270.8     -       96.2%   "
     ]
    },
    {
     "name": "stderr",
     "output_type": "stream",
     "text": [
      "┌ Warning: Only almost solved\n",
      "└ @ Juniper C:\\Users\\Оля\\.julia\\packages\\Juniper\\atNbZ\\src\\BnBTree.jl:89\n"
     ]
    },
    {
     "name": "stdout",
     "output_type": "stream",
     "text": [
      "\n",
      "  2619      14                -                        96672.98             -   12276.1     -       93.2%   \n",
      "  2620      13                -                        96672.98             -   12281.0     -       92.5%   \n",
      "  2621      12                -                        96672.98             -   12286.1     -       96.1%   \n",
      "  2622      12                -                        96672.98             -   12291.1     -       97.6%   \n",
      "  2623      12                -                        96672.98             -   12295.6     -       94.4%   \n",
      "  2624      14                -                        96672.99             -   12301.3     -       96.1%   \n"
     ]
    },
    {
     "name": "stderr",
     "output_type": "stream",
     "text": [
      "┌ Warning: Only almost solved\n",
      "└ @ Juniper C:\\Users\\Оля\\.julia\\packages\\Juniper\\atNbZ\\src\\BnBTree.jl:89\n"
     ]
    },
    {
     "name": "stdout",
     "output_type": "stream",
     "text": [
      "  2625      15                -                        96672.99             -   12305.9     -       88.9%   \n",
      "  2626      13                -                        96672.99             -   12311.3     -       97.3%   \n",
      "  2627      13                -                        96672.99             -   12315.9     -       93.7%   \n",
      "  2628      13                -                        96672.99             -   12321.7     -       96.1%   \n",
      "  2629      15                -                        96672.99             -   12325.8     -       99.0%   \n",
      "  2630      14                -                        96672.99             -   12330.0     -       96.1%   \n",
      "  2631      12                -                        96672.99             -   12334.9     -       97.0%   \n",
      "  2632      12                -                        96672.99             -   12340.4     -       97.5%   \n",
      "  2633      15                -                        96672.99             -   12345.4     -       94.5%   \n",
      "  2634      14                -                        96672.99             -   12350.6     -       96.1%   \n",
      "  2635      13                -                        96672.99             -   12355.2     -       92.5%   \n",
      "  2636      11                -                        96672.99             -   12358.7     -       96.2%   \n",
      "  2637      13                -                        96672.99             -   12363.3     -       96.1%   \n",
      "  2638      15                -                        96673.0              -   12368.9     -       96.1%   \n",
      "  2639      14                -                        96673.0              -   12373.4     -       96.1%   \n",
      "  2640      14                -                        96673.0              -   12378.4     -       96.2%   \n",
      "  2641      13                -                        96673.0              -   12383.2     -       92.5%   \n",
      "  2642      12                -                        96673.0              -   12387.2     -       96.1%   \n",
      "  2643      15                -                        96673.0              -   12392.1     -       89.4%   \n",
      "  2644      15                -                        96673.01             -   12397.8     -       96.2%   \n",
      "  2645      14                -                        96673.01             -   12402.7     -       91.3%   \n",
      "  2646      13                -                        96673.01             -   12407.4     -       97.7%   \n",
      "  2647      13                -                        96673.01             -   12412.0     -       96.1%   \n",
      "  2648      13                -                        96673.02             -   12417.4     -       96.2%   \n",
      "  2649      14                -                        96673.02             -   12422.5     -       96.1%   \n",
      "  2650      13                -                        96673.02             -   12426.8     -       96.1%   \n",
      "  2651      11                -                        96673.02             -   12430.7     -       96.2%   \n",
      "  2652      13                -                        96673.02             -   12435.6     -       96.2%   \n",
      "  2653      14                -                        96673.03             -   12440.0     -       92.6%   \n",
      "  2654      14                -                        96673.03             -   12445.6     -       96.1%   \n",
      "  2655      12                -                        96673.03             -   12450.1     -       96.2%   \n",
      "  2656      16                -                        96673.03             -   12455.4     -       95.8%   \n",
      "  2657      14                -                        96673.03             -   12459.6     -       96.2%   \n",
      "  2658      16                -                        96673.03             -   12465.2     -       90.6%   \n",
      "  2659      13                -                        96673.03             -   12470.0     -       96.2%   \n",
      "  2660      16                -                        96673.03             -   12475.7     -       91.3%   \n",
      "  2661      12                -                        96673.03             -   12481.6     -       96.2%   \n",
      "  2662      14                -                        96673.04             -   12487.0     -       92.6%   \n"
     ]
    },
    {
     "name": "stderr",
     "output_type": "stream",
     "text": [
      "┌ Warning: Only almost solved\n",
      "└ @ Juniper C:\\Users\\Оля\\.julia\\packages\\Juniper\\atNbZ\\src\\BnBTree.jl:89\n"
     ]
    },
    {
     "name": "stdout",
     "output_type": "stream",
     "text": [
      "  2663      14                -                        96673.04             -   12494.1     -       88.8%   \n",
      "  2664      13                -                        96673.04             -   12499.6     -       96.2%   \n",
      "  2665      14                -                        96673.04             -   12505.2     -       90.9%   \n",
      "  2666      13                -                        96673.04             -   12510.8     -       89.7%   \n",
      "  2667      13                -                        96673.04             -   12516.2     -       96.2%   \n",
      "  2668      13                -                        96673.04             -   12522.0     -       96.1%   \n",
      "  2669      15                -                        96673.04             -   12527.3     -       96.2%   \n",
      "  2670      14                -                        96673.04             -   12531.5     -       96.2%   \n",
      "  2671      13                -                        96673.04             -   12535.7     -       96.2%   \n",
      "  2672      13                -                        96673.04             -   12539.8     -       96.2%   \n",
      "  2673      12                -                        96673.04             -   12545.3     -       97.3%   \n",
      "  2674      12                -                        96673.04             -   12550.0     -       94.0%   \n",
      "  2675      13                -                        96673.05             -   12554.4     -       98.2%   \n",
      "  2676      16                -                        96673.05             -   12560.0     -       94.3%   \n",
      "  2677      14                -                        96673.05             -   12564.6     -       91.8%   \n",
      "  2678      13                -                        96673.05             -   12569.4     -       90.3%   \n",
      "  2679      13                -                        96673.05             -   12574.3     -       96.2%   \n",
      "  2680      13                -                        96673.05             -   12578.7     -       91.7%   \n",
      "  2681      15                -                        96673.05             -   12582.7     -       96.2%   \n",
      "  2682      13                -                        96673.05             -   12587.5     -       96.2%   \n",
      "  2683      12                -                        96673.05             -   12592.0     -       96.2%   \n",
      "  2684      12                -                        96673.05             -   12596.5     -       96.2%   \n",
      "  2685      15                -                        96673.05             -   12601.5     -       96.2%   \n",
      "  2686      13                -                        96673.05             -   12606.8     -       92.2%   \n",
      "  2687      14                -                        96673.05             -   12612.1     -       91.5%   \n",
      "  2688      14                -                        96673.06             -   12617.3     -       91.2%   \n",
      "  2689      13                -                        96673.06             -   12622.3     -       96.2%   \n",
      "  2690      13                -                        96673.06             -   12627.2     -       96.2%   \n",
      "  2691      13                -                        96673.06             -   12632.3     -       96.1%   \n",
      "  2692      12                -                        96673.06             -   12637.1     -       96.2%   \n",
      "  2693      13                -                        96673.06             -   12642.6     -       97.6%   \n",
      "  2694      14                -                        96673.06             -   12647.9     -       95.3%   \n",
      "  2695      14                -                        96673.06             -   12653.1     -       96.2%   \n",
      "  2696      13                -                        96673.06             -   12658.2     -       96.2%   \n",
      "  2697      14                -                        96673.06             -   12662.7     -       96.2%   \n",
      "  2698      15                -                        96673.07             -   12667.5     -       96.2%   \n",
      "  2699      13                -                        96673.07             -   12672.8     -       90.9%   \n",
      "  2700      14                -                        96673.07             -   12677.5     -       96.2%   \n",
      "  2701      13                -                        96673.07             -   12682.2     -       96.4%   \n",
      "  2702      13                -                        96673.08             -   12686.3     -       93.6%   \n",
      "  2703      13                -                        96673.08             -   12691.6     -       98.1%   \n",
      "  2704      13                -                        96673.08             -   12696.1     -       94.3%   \n",
      "  2705      14                -                        96673.08             -   12702.0     -       98.9%   \n",
      "  2706      14                -                        96673.08             -   12707.2     -       95.7%   \n",
      "  2707      14                -                        96673.08             -   12712.0     -       96.3%   \n",
      "  2708      15                -                        96673.09             -   12715.9     -       96.2%   \n",
      "  2709      14                -                        96673.09             -   12721.2     -       96.2%   \n",
      "  2710      12                -                        96673.09             -   12725.6     -       96.3%   \n",
      "  2711      13                -                        96673.1              -   12730.6     -       95.9%   \n",
      "  2712      13                -                        96673.1              -   12735.5     -       96.2%   \n",
      "  2713      16                -                        96673.1              -   12740.5     -       92.0%   \n",
      "  2714      15                -                        96673.1              -   12744.6     -       96.2%   \n",
      "  2715      13                -                        96673.1              -   12749.7     -       91.6%   \n",
      "  2716      16                -                        96673.1              -   12754.7     -       91.6%   \n",
      "  2717      13                -                        96673.1              -   12759.7     -       96.0%   \n",
      "  2718      13                -                        96673.1              -   12765.7     -       96.3%   "
     ]
    },
    {
     "name": "stderr",
     "output_type": "stream",
     "text": [
      "┌ Warning: Only almost solved\n",
      "└ @ Juniper C:\\Users\\Оля\\.julia\\packages\\Juniper\\atNbZ\\src\\BnBTree.jl:89\n"
     ]
    },
    {
     "name": "stdout",
     "output_type": "stream",
     "text": [
      "\n",
      "  2719      14                -                        96673.11             -   12770.9     -       96.3%   \n",
      "  2720      13                -                        96673.11             -   12775.9     -       96.3%   \n",
      "  2721      15                -                        96673.11             -   12782.4     -       96.2%   \n",
      "  2722      14                -                        96673.11             -   12787.9     -       92.4%   \n",
      "  2723      13                -                        96673.11             -   12793.5     -       93.0%   \n",
      "  2724      13                -                        96673.11             -   12799.2     -       92.4%   \n",
      "  2725      13                -                        96673.11             -   12805.5     -       98.5%   \n",
      "  2726      13                -                        96673.11             -   12811.1     -       96.7%   \n",
      "  2727      12                -                        96673.12             -   12817.0     -       96.3%   \n",
      "  2728      14                -                        96673.12             -   12823.0     -       96.3%   \n",
      "  2729      14                -                        96673.12             -   12828.0     -       96.3%   \n",
      "  2730      12                -                        96673.12             -   12833.2     -       96.3%   \n",
      "  2731      12                -                        96673.12             -   12838.6     -       97.9%   \n",
      "  2732      11                -                        96673.12             -   12843.1     -       96.3%   \n",
      "  2733      14                -                        96673.13             -   12848.2     -       91.1%   \n",
      "  2734      16                -                        96673.13             -   12852.3     -       91.0%   \n",
      "  2735      15                -                        96673.13             -   12857.4     -       96.3%   \n",
      "  2736      13                -                        96673.13             -   12862.8     -       96.3%   \n",
      "  2737      13                -                        96673.13             -   12867.7     -       95.9%   \n",
      "  2738      17                -                        96673.14             -   12873.0     -       96.3%   \n",
      "  2739      14                -                        96673.14             -   12877.4     -       91.4%   \n",
      "  2740      14                -                        96673.14             -   12882.2     -       92.9%   \n",
      "  2741      13                -                        96673.14             -   12886.7     -       95.9%   \n",
      "  2742      13                -                        96673.14             -   12891.6     -       96.3%   \n",
      "  2743      13                -                        96673.14             -   12897.1     -       96.3%   \n",
      "  2744      13                -                        96673.14             -   12901.9     -       98.3%   \n",
      "  2745      13                -                        96673.14             -   12905.7     -       94.7%   \n",
      "  2746      13                -                        96673.14             -   12911.2     -       97.4%   \n",
      "  2747      14                -                        96673.15             -   12916.0     -       95.0%   \n",
      "  2748      12                -                        96673.15             -   12920.2     -       97.5%   \n",
      "  2749      15                -                        96673.15             -   12924.4     -       95.5%   \n",
      "  2750      14                -                        96673.15             -   12929.4     -       91.7%   \n",
      "  2751      12                -                        96673.15             -   12933.4     -       97.1%   \n",
      "  2752      12                -                        96673.15             -   12938.1     -       94.6%   \n",
      "  2753      13                -                        96673.15             -   12942.5     -       93.0%   \n",
      "  2754      15                -                        96673.15             -   12947.7     -       96.3%   \n",
      "  2755      14                -                        96673.15             -   12953.0     -       96.3%   \n",
      "  2756      13                -                        96673.15             -   12958.3     -       96.3%   \n",
      "  2757      13                -                        96673.15             -   12963.1     -       96.3%   \n",
      "  2758      16                -                        96673.16             -   12969.1     -       88.7%   \n",
      "  2759      14                -                        96673.16             -   12974.8     -       97.7%   \n",
      "  2760      14                -                        96673.16             -   12979.7     -       95.9%   \n",
      "  2761      13                -                        96673.16             -   12984.7     -       96.1%   \n",
      "  2762      15                -                        96673.17             -   12988.7     -       93.0%   \n",
      "  2763      13                -                        96673.17             -   12994.1     -       96.3%   \n",
      "  2764      14                -                        96673.17             -   12999.7     -       91.0%   \n",
      "  2765      14                -                        96673.17             -   13005.1     -       97.7%   \n",
      "  2766      15                -                        96673.17             -   13010.2     -       95.9%   \n",
      "  2767      14                -                        96673.17             -   13015.2     -       96.1%   \n",
      "  2768      13                -                        96673.17             -   13019.8     -       96.3%   \n",
      "  2769      13                -                        96673.17             -   13025.0     -       93.0%   \n",
      "  2770      16                -                        96673.18             -   13029.9     -       90.6%   \n",
      "  2771      14                -                        96673.18             -   13034.8     -       96.3%   \n",
      "  2772      14                -                        96673.18             -   13039.4     -       96.3%   \n",
      "  2773      14                -                        96673.18             -   13044.0     -       96.3%   \n",
      "  2774      15                -                        96673.18             -   13048.9     -       97.7%   \n",
      "  2775      13                -                        96673.18             -   13053.6     -       95.9%   \n",
      "  2776      13                -                        96673.19             -   13058.5     -       96.4%   \n",
      "  2777      18                -                        96673.19             -   13063.4     -       91.6%   \n",
      "  2778      15                -                        96673.19             -   13067.6     -       89.9%   \n",
      "  2779      12                -                        96673.19             -   13072.4     -       93.0%   \n",
      "  2780      18                -                        96673.2              -   13077.9     -       94.7%   \n",
      "  2781      15                -                        96673.2              -   13083.4     -       96.3%   \n",
      "  2782      14                -                        96673.2              -   13089.6     -       96.4%   \n",
      "  2783      13                -                        96673.2              -   13094.7     -       96.3%   \n",
      "  2784      13                -                        96673.2              -   13100.8     -       96.4%   \n",
      "  2785      13                -                        96673.2              -   13106.9     -       96.4%   \n",
      "  2786      15                -                        96673.21             -   13112.0     -       96.4%   \n",
      "  2787      14                -                        96673.21             -   13118.5     -       96.4%   \n",
      "  2788      14                -                        96673.21             -   13124.3     -       91.8%   \n",
      "  2789      16                -                        96673.22             -   13129.5     -       95.9%   \n",
      "  2790      14                -                        96673.22             -   13135.0     -       96.3%   \n",
      "  2791      14                -                        96673.22             -   13139.4     -       96.4%   \n",
      "  2792      14                -                        96673.22             -   13144.2     -       93.0%   \n",
      "  2793      17                -                        96673.23             -   13149.8     -       96.4%   \n",
      "  2794      12                -                        96673.23             -   13154.4     -       96.4%   \n",
      "  2794      14                -                        96673.23             -   13160.9     -       98.5%   \n",
      "  2795      12                -                        96673.23             -   13166.0     -       93.0%   \n",
      "  2796      15                -                        96673.24             -   13171.0     -       90.5%   \n",
      "  2797      11                -                        96673.24             -   13175.4     -       96.4%   \n",
      "  2798      14                -                        96673.24             -   13180.3     -       91.7%   \n",
      "  2799      13                -                        96673.24             -   13185.7     -       96.1%   \n",
      "  2800      15                -                        96673.24             -   13190.5     -       99.2%   \n",
      "  2801      11                -                        96673.24             -   13194.8     -       91.9%   \n",
      "  2802      13                -                        96673.25             -   13199.9     -       91.9%   \n",
      "  2803      13                -                        96673.25             -   13204.7     -       95.6%   \n",
      "  2804      11                -                        96673.25             -   13210.2     -       97.0%   \n",
      "  2805      14                -                        96673.25             -   13216.2     -       97.7%   \n",
      "  2806      16                -                        96673.25             -   13220.9     -       92.0%   \n",
      "  2807      14                -                        96673.25             -   13226.0     -       96.3%   \n",
      "  2808      14                -                        96673.25             -   13231.1     -       93.1%   \n",
      "  2809      13                -                        96673.25             -   13236.2     -       96.4%   \n",
      "  2810      15                -                        96673.26             -   13241.0     -       97.4%   \n",
      "  2811      14                -                        96673.26             -   13246.4     -       96.2%   \n",
      "  2812      12                -                        96673.26             -   13250.0     -       96.4%   \n",
      "  2813      12                -                        96673.27             -   13254.1     -       96.4%   \n",
      "  2814      17                -                        96673.27             -   13259.2     -       90.3%   \n",
      "  2815      14                -                        96673.27             -   13264.7     -       94.0%   \n",
      "  2816      14                -                        96673.27             -   13269.0     -       98.0%   \n",
      "  2817      15                -                        96673.27             -   13273.7     -       96.4%   \n",
      "  2818      14                -                        96673.27             -   13279.8     -       97.4%   \n",
      "  2819      14                -                        96673.28             -   13284.2     -       93.0%   \n",
      "  2820      14                -                        96673.28             -   13288.7     -       97.4%   \n",
      "  2821      17                -                        96673.28             -   13294.3     -       90.8%   \n",
      "  2822      13                -                        96673.28             -   13299.2     -       96.0%   \n",
      "  2823      15                -                        96673.28             -   13304.5     -       92.1%   \n",
      "  2824      14                -                        96673.29             -   13308.3     -       93.1%   \n",
      "  2825      13                -                        96673.29             -   13313.3     -       96.4%   \n",
      "  2826      15                -                        96673.3              -   13318.2     -       96.4%   \n",
      "  2827      15                -                        96673.3              -   13323.3     -       96.4%   \n",
      "  2828      11                -                        96673.3              -   13328.0     -       97.8%   \n",
      "  2829      15                -                        96673.3              -   13333.1     -       95.7%   \n",
      "  2830      14                -                        96673.3              -   13338.3     -       93.1%   \n",
      "  2831      13                -                        96673.3              -   13343.8     -       96.4%   \n",
      "  2832      13                -                        96673.31             -   13348.2     -       96.4%   \n",
      "  2833      12                -                        96673.31             -   13352.8     -       92.4%   \n",
      "  2833      14                -                        96673.31             -   13357.9     -       93.5%   \n",
      "  2834      13                -                        96673.31             -   13363.0     -       93.9%   \n",
      "  2835      15                -                        96673.31             -   13368.0     -       98.9%   \n",
      "  2836      12                -                        96673.31             -   13372.7     -       93.1%   \n",
      "  2837      12                -                        96673.31             -   13379.2     -       96.4%   \n",
      "  2838      16                -                        96673.32             -   13385.1     -       89.4%   \n",
      "  2839      14                -                        96673.32             -   13391.7     -       88.5%   \n",
      "  2840      13                -                        96673.32             -   13397.6     -       96.4%   \n",
      "  2841      12                -                        96673.32             -   13403.3     -       96.4%   \n",
      "  2842      18                -                        96673.32             -   13410.8     -       91.9%   \n",
      "  2843      15                -                        96673.32             -   13416.1     -       91.4%   \n",
      "  2844      13                -                        96673.32             -   13422.6     -       96.4%   \n",
      "  2845      17                -                        96673.33             -   13427.4     -       88.6%   \n",
      "  2846      15                -                        96673.34             -   13432.3     -       96.4%   \n",
      "  2847      14                -                        96673.34             -   13437.3     -       96.4%   \n",
      "  2848      14                -                        96673.34             -   13442.4     -       97.8%   \n",
      "  2849      14                -                        96673.34             -   13446.7     -       93.9%   \n",
      "  2850      17                -                        96673.34             -   13451.5     -       91.9%   \n",
      "  2851      13                -                        96673.34             -   13456.4     -       96.4%   \n",
      "  2852      13                -                        96673.34             -   13461.6     -       96.4%   \n",
      "  2853      12                -                        96673.34             -   13465.7     -       93.2%   \n",
      "  2854      12                -                        96673.34             -   13470.1     -       96.5%   \n",
      "  2855      13                -                        96673.35             -   13474.8     -       96.3%   \n",
      "  2856      14                -                        96673.36             -   13479.9     -       93.2%   "
     ]
    },
    {
     "name": "stderr",
     "output_type": "stream",
     "text": [
      "┌ Warning: Only almost solved\n",
      "└ @ Juniper C:\\Users\\Оля\\.julia\\packages\\Juniper\\atNbZ\\src\\BnBTree.jl:89\n"
     ]
    },
    {
     "name": "stdout",
     "output_type": "stream",
     "text": [
      "\n",
      "  2857      13                -                        96673.36             -   13485.3     -       96.5%   \n",
      "  2858      15                -                        96673.37             -   13490.3     -       96.1%   \n"
     ]
    },
    {
     "name": "stderr",
     "output_type": "stream",
     "text": [
      "┌ Warning: Only almost solved\n",
      "└ @ Juniper C:\\Users\\Оля\\.julia\\packages\\Juniper\\atNbZ\\src\\BnBTree.jl:89\n"
     ]
    },
    {
     "name": "stdout",
     "output_type": "stream",
     "text": [
      "  2859      15                -                        96673.37             -   13496.7     -       96.4%   \n",
      "  2860      17                -                        96673.37             -   13501.1     -       96.4%   \n",
      "  2861      11                -                        96673.37             -   13505.0     -       98.2%   \n",
      "  2862      13                -                        96673.38             -   13509.2     -       96.5%   \n",
      "  2863      16                -                        96673.38             -   13514.0     -       92.4%   \n",
      "  2864      14                -                        96673.38             -   13519.9     -       98.5%   \n"
     ]
    },
    {
     "name": "stderr",
     "output_type": "stream",
     "text": [
      "┌ Warning: Only almost solved\n",
      "└ @ Juniper C:\\Users\\Оля\\.julia\\packages\\Juniper\\atNbZ\\src\\BnBTree.jl:89\n"
     ]
    },
    {
     "name": "stdout",
     "output_type": "stream",
     "text": [
      "  2864      13                -                        96673.39             -   13526.3     -       97.4%   \n",
      "  2865      13                -                        96673.39             -   13531.9     -       99.4%   \n",
      "  2866      15                -                        96673.39             -   13537.7     -       96.9%   \n",
      "  2867      12                -                        96673.39             -   13542.3     -       93.2%   \n",
      "  2867      17                -                        96673.4              -   13548.4     -       95.5%   \n",
      "  2868      12                -                        96673.4              -   13553.7     -       96.7%   \n",
      "  2869      13                -                        96673.4              -   13558.7     -       96.4%   \n",
      "  2870      15                -                        96673.41             -   13563.7     -       96.4%   \n",
      "  2871      14                -                        96673.41             -   13569.2     -       96.3%   \n",
      "  2872      13                -                        96673.41             -   13574.1     -       96.3%   \n",
      "  2873      13                -                        96673.41             -   13578.9     -       96.4%   \n",
      "  2874      14                -                        96673.41             -   13584.2     -       92.0%   \n",
      "  2875      16                -                        96673.41             -   13589.5     -       96.5%   \n",
      "  2876      15                -                        96673.41             -   13594.5     -       96.4%   \n",
      "  2877      15                -                        96673.42             -   13600.3     -       93.2%   \n",
      "  2878      13                -                        96673.42             -   13605.2     -       91.0%   \n",
      "  2879      13                -                        96673.42             -   13610.2     -       92.7%   \n",
      "  2880      14                -                        96673.42             -   13615.6     -       94.0%   \n",
      "  2881      12                -                        96673.42             -   13620.6     -       96.4%   \n",
      "  2882      15                -                        96673.42             -   13625.0     -       96.5%   \n",
      "  2883      14                -                        96673.43             -   13630.7     -       96.4%   \n",
      "  2884      14                -                        96673.44             -   13635.0     -       96.5%   \n",
      "  2885      13                -                        96673.44             -   13640.0     -       93.2%   \n",
      "  2886      14                -                        96673.44             -   13644.8     -       96.4%   \n",
      "  2887      17                -                        96673.44             -   13650.4     -       92.0%   \n",
      "  2888      14                -                        96673.44             -   13655.4     -       96.5%   \n",
      "  2889      13                -                        96673.44             -   13660.7     -       93.1%   \n",
      "  2890      15                -                        96673.44             -   13665.7     -       96.5%   \n",
      "  2891      13                -                        96673.44             -   13670.2     -       96.5%   \n",
      "  2892      14                -                        96673.45             -   13675.6     -       93.2%   \n",
      "  2893      13                -                        96673.45             -   13682.1     -       96.5%   \n",
      "  2894      13                -                        96673.45             -   13687.6     -       96.5%   \n",
      "  2895      12                -                        96673.45             -   13693.9     -       96.5%   \n",
      "  2896      15                -                        96673.46             -   13700.0     -       93.3%   \n",
      "  2897      15                -                        96673.46             -   13706.1     -       96.3%   \n",
      "  2898      15                -                        96673.46             -   13712.3     -       96.5%   \n",
      "  2899      13                -                        96673.46             -   13717.2     -       96.5%   \n",
      "  2900      13                -                        96673.46             -   13722.9     -       96.5%   \n",
      "  2901      14                -                        96673.47             -   13728.5     -       95.8%   \n",
      "  2902      14                -                        96673.47             -   13733.2     -       91.4%   \n",
      "  2903      12                -                        96673.47             -   13737.5     -       96.5%   \n",
      "  2904      15                -                        96673.47             -   13742.8     -       93.3%   \n",
      "  2905      14                -                        96673.47             -   13748.0     -       92.0%   \n",
      "  2906      13                -                        96673.47             -   13752.9     -       92.5%   \n",
      "  2907      13                -                        96673.48             -   13757.8     -       96.4%   \n",
      "  2908      16                -                        96673.48             -   13763.4     -       96.5%   \n",
      "  2909      14                -                        96673.48             -   13767.7     -       92.0%   \n",
      "  2910      12                -                        96673.49             -   13772.7     -       96.5%   \n",
      "  2911      14                -                        96673.49             -   13778.3     -       96.5%   \n",
      "  2912      13                -                        96673.49             -   13782.6     -       96.5%   \n",
      "  2913      13                -                        96673.49             -   13787.2     -       96.5%   \n",
      "  2914      14                -                        96673.5              -   13792.4     -       96.6%   \n",
      "  2915      13                -                        96673.5              -   13796.9     -       93.3%   \n",
      "  2916      12                -                        96673.5              -   13802.1     -       98.0%   \n",
      "  2917      14                -                        96673.5              -   13807.4     -       96.0%   \n"
     ]
    },
    {
     "name": "stderr",
     "output_type": "stream",
     "text": [
      "┌ Warning: Only almost solved\n",
      "└ @ Juniper C:\\Users\\Оля\\.julia\\packages\\Juniper\\atNbZ\\src\\BnBTree.jl:89\n"
     ]
    },
    {
     "name": "stdout",
     "output_type": "stream",
     "text": [
      "  2918      16                -                        96673.5              -   13813.4     -       89.5%   \n",
      "  2919      15                -                        96673.51             -   13818.1     -       96.5%   \n",
      "  2920      13                -                        96673.51             -   13823.2     -       91.3%   \n",
      "  2921      13                -                        96673.51             -   13827.8     -       96.5%   \n",
      "  2922      12                -                        96673.51             -   13833.0     -       94.5%   \n",
      "  2923      13                -                        96673.51             -   13838.1     -       93.3%   \n",
      "  2924      11                -                        96673.51             -   13841.9     -       96.5%   \n",
      "  2925      13                -                        96673.52             -   13846.6     -       92.3%   \n",
      "  2926      13                -                        96673.52             -   13850.6     -       90.1%   \n",
      "  2927      13                -                        96673.52             -   13856.1     -       96.5%   \n",
      "  2928      16                -                        96673.53             -   13861.5     -       96.5%   \n",
      "  2929      14                -                        96673.53             -   13866.7     -       96.5%   \n",
      "  2930      15                -                        96673.53             -   13872.3     -       92.4%   \n",
      "  2931      14                -                        96673.53             -   13877.4     -       91.9%   \n",
      "  2932      14                -                        96673.54             -   13882.7     -       94.0%   \n",
      "  2933      14                -                        96673.54             -   13888.6     -       96.5%   \n",
      "  2934      13                -                        96673.54             -   13893.3     -       96.5%   \n",
      "  2935      16                -                        96673.54             -   13898.5     -       96.5%   \n",
      "  2936      13                -                        96673.54             -   13903.9     -       93.3%   \n",
      "  2937      18                -                        96673.54             -   13908.8     -       92.6%   \n",
      "  2938      14                -                        96673.54             -   13913.7     -       96.5%   \n",
      "  2939      13                -                        96673.54             -   13919.1     -       96.5%   \n",
      "  2940      17                -                        96673.55             -   13923.1     -       93.3%   \n",
      "  2941      14                -                        96673.55             -   13928.7     -       96.6%   \n",
      "  2942      14                -                        96673.56             -   13934.0     -       96.5%   \n",
      "  2943      14                -                        96673.56             -   13939.7     -       96.5%   \n",
      "  2944      16                -                        96673.56             -   13944.6     -       93.2%   \n",
      "  2945      13                -                        96673.56             -   13949.7     -       93.4%   \n",
      "  2946      14                -                        96673.56             -   13955.1     -       92.4%   \n",
      "  2947      13                -                        96673.56             -   13959.9     -       96.6%   \n",
      "  2948      12                -                        96673.56             -   13964.6     -       96.5%   \n",
      "  2949      14                -                        96673.57             -   13969.4     -       96.5%   \n",
      "  2950      14                -                        96673.57             -   13974.7     -       96.6%   \n",
      "  2951      12                -                        96673.57             -   13979.6     -       95.6%   \n",
      "  2952      16                -                        96673.57             -   13985.8     -       95.8%   \n",
      "  2953      14                -                        96673.58             -   13991.6     -       90.8%   \n",
      "  2954      14                -                        96673.58             -   13998.7     -       97.9%   \n",
      "  2955      12                -                        96673.59             -   14004.5     -       95.5%   \n",
      "  2956      14                -                        96673.59             -   14009.9     -       92.7%   \n",
      "  2957      14                -                        96673.59             -   14016.1     -       96.4%   \n",
      "  2958      17                -                        96673.59             -   14022.5     -       91.7%   \n",
      "  2959      16                -                        96673.59             -   14027.4     -       91.8%   \n",
      "  2960      15                -                        96673.59             -   14033.3     -       98.3%   \n",
      "  2961      13                -                        96673.59             -   14038.2     -       96.6%   \n",
      "  2962      12                -                        96673.59             -   14042.5     -       97.7%   \n",
      "  2963      16                -                        96673.6              -   14048.0     -       96.0%   \n",
      "  2964      14                -                        96673.6              -   14053.2     -       93.1%   \n",
      "  2965      15                -                        96673.6              -   14059.6     -       93.0%   \n",
      "  2966      14                -                        96673.61             -   14065.2     -       96.6%   \n",
      "  2967      15                -                        96673.61             -   14070.0     -       92.2%   \n",
      "  2968      14                -                        96673.61             -   14074.9     -       96.5%   \n",
      "  2969      14                -                        96673.61             -   14080.4     -       92.2%   \n",
      "  2970      12                -                        96673.61             -   14085.2     -       96.5%   \n",
      "  2971      14                -                        96673.61             -   14090.0     -       96.6%   \n",
      "  2972      16                -                        96673.61             -   14095.7     -       91.9%   \n",
      "  2973      14                -                        96673.61             -   14100.5     -       99.0%   \n",
      "  2974      14                -                        96673.62             -   14104.8     -       96.6%   \n",
      "  2975      13                -                        96673.62             -   14110.3     -       96.4%   \n",
      "  2976      13                -                        96673.62             -   14114.9     -       93.4%   \n",
      "  2977      15                -                        96673.62             -   14120.2     -       96.1%   \n",
      "  2978      12                -                        96673.62             -   14124.9     -       98.0%   \n",
      "  2979      14                -                        96673.63             -   14130.6     -       96.7%   \n",
      "  2980      14                -                        96673.63             -   14135.5     -       96.6%   \n",
      "  2981      13                -                        96673.64             -   14141.0     -       96.6%   \n",
      "  2982      12                -                        96673.64             -   14146.0     -       96.6%   \n",
      "  2983      15                -                        96673.64             -   14151.1     -       96.6%   \n",
      "  2984      14                -                        96673.64             -   14156.2     -       96.6%   \n",
      "  2985      13                -                        96673.65             -   14161.0     -       96.7%   \n",
      "  2986      13                -                        96673.65             -   14165.0     -       91.5%   \n",
      "  2987      13                -                        96673.65             -   14170.2     -       96.6%   \n",
      "  2988      16                -                        96673.65             -   14175.8     -       92.9%   \n",
      "  2989      15                -                        96673.65             -   14180.4     -       96.5%   \n",
      "  2990      14                -                        96673.65             -   14185.5     -       96.6%   \n",
      "  2991      14                -                        96673.66             -   14190.3     -       96.6%   \n",
      "  2992      13                -                        96673.66             -   14194.9     -       96.6%   \n",
      "  2993      14                -                        96673.66             -   14200.4     -       97.7%   \n",
      "  2994      13                -                        96673.66             -   14205.7     -       95.2%   \n",
      "  2995      13                -                        96673.66             -   14210.5     -       96.6%   \n",
      "  2996      14                -                        96673.66             -   14214.8     -       93.3%   \n",
      "  2997      12                -                        96673.66             -   14219.6     -       97.9%   \n"
     ]
    },
    {
     "name": "stderr",
     "output_type": "stream",
     "text": [
      "┌ Warning: Only almost solved\n",
      "└ @ Juniper C:\\Users\\Оля\\.julia\\packages\\Juniper\\atNbZ\\src\\BnBTree.jl:89\n"
     ]
    },
    {
     "name": "stdout",
     "output_type": "stream",
     "text": [
      "  2997      15                -                        96673.67             -   14226.5     -       96.6%   \n",
      "  2998      13                -                        96673.67             -   14230.9     -       97.9%   \n",
      "  2999      15                -                        96673.67             -   14235.3     -       97.6%   \n",
      "  3000      16                -                        96673.68             -   14241.0     -       96.7%   \n",
      "  3001      14                -                        96673.68             -   14246.4     -       96.2%   \n",
      "  3002      14                -                        96673.68             -   14250.8     -       92.6%   \n",
      "  3003      16                -                        96673.68             -   14256.5     -       96.2%   \n",
      "  3004      14                -                        96673.68             -   14261.0     -       96.6%   \n",
      "  3005      14                -                        96673.68             -   14266.2     -       96.6%   \n",
      "  3006      13                -                        96673.68             -   14271.6     -       93.5%   \n",
      "  3007      14                -                        96673.68             -   14277.5     -       92.5%   \n",
      "  3008      13                -                        96673.68             -   14283.4     -       96.6%   \n",
      "  3009      16                -                        96673.69             -   14289.3     -       99.1%   \n",
      "  3010      14                -                        96673.69             -   14295.5     -       96.6%   \n"
     ]
    },
    {
     "name": "stderr",
     "output_type": "stream",
     "text": [
      "┌ Warning: Only almost solved\n",
      "└ @ Juniper C:\\Users\\Оля\\.julia\\packages\\Juniper\\atNbZ\\src\\BnBTree.jl:89\n"
     ]
    },
    {
     "name": "stdout",
     "output_type": "stream",
     "text": [
      "  3010      15                -                        96673.69             -   14302.9     -       96.9%   \n",
      "  3011      15                -                        96673.69             -   14309.2     -       96.8%   \n",
      "  3012      14                -                        96673.69             -   14315.2     -       96.6%   \n",
      "  3013      14                -                        96673.69             -   14322.1     -       96.6%   \n",
      "  3014      12                -                        96673.69             -   14327.0     -       97.3%   \n",
      "  3015      14                -                        96673.69             -   14331.3     -       93.0%   \n",
      "  3016      12                -                        96673.69             -   14336.5     -       96.6%   \n",
      "  3017      15                -                        96673.69             -   14341.3     -       93.5%   \n",
      "  3018      15                -                        96673.69             -   14347.2     -       96.6%   \n",
      "  3019      15                -                        96673.7              -   14354.8     -       96.6%   \n",
      "  3020      14                -                        96673.7              -   14360.2     -       96.6%   \n",
      "  3021      13                -                        96673.7              -   14365.2     -       96.7%   \n",
      "  3022      13                -                        96673.71             -   14370.7     -       96.6%   \n",
      "  3023      16                -                        96673.71             -   14375.7     -       96.6%   \n",
      "  3024      15                -                        96673.71             -   14381.6     -       96.6%   \n",
      "  3025      13                -                        96673.71             -   14386.1     -       93.5%   \n",
      "  3026      14                -                        96673.71             -   14391.4     -       96.6%   \n",
      "  3027      13                -                        96673.71             -   14395.9     -       93.2%   \n",
      "  3028      15                -                        96673.71             -   14401.2     -       92.8%   \n",
      "  3029      12                -                        96673.71             -   14405.2     -       96.6%   \n",
      "  3030      16                -                        96673.72             -   14410.3     -       96.7%   \n",
      "  3031      13                -                        96673.72             -   14415.2     -       93.8%   \n",
      "  3032      14                -                        96673.72             -   14420.4     -       96.7%   \n",
      "  3033      14                -                        96673.72             -   14425.4     -       96.6%   \n",
      "  3034      14                -                        96673.72             -   14430.2     -       96.6%   \n"
     ]
    },
    {
     "name": "stderr",
     "output_type": "stream",
     "text": [
      "┌ Warning: Only almost solved\n",
      "└ @ Juniper C:\\Users\\Оля\\.julia\\packages\\Juniper\\atNbZ\\src\\BnBTree.jl:89\n"
     ]
    },
    {
     "name": "stdout",
     "output_type": "stream",
     "text": [
      "  3035      12                -                        96673.72             -   14435.5     -       96.7%   \n",
      "  3036      14                -                        96673.73             -   14440.7     -       92.6%   \n",
      "  3037      16                -                        96673.73             -   14444.9     -       92.9%   \n",
      "  3038      15                -                        96673.73             -   14450.5     -       93.5%   \n",
      "  3039      14                -                        96673.73             -   14455.2     -       96.7%   \n",
      "  3040      12                -                        96673.73             -   14459.8     -       96.6%   \n",
      "  3041      14                -                        96673.73             -   14465.4     -       96.7%   \n",
      "  3042      13                -                        96673.73             -   14470.7     -       93.5%   \n",
      "  3043      11                -                        96673.73             -   14475.6     -       98.0%   \n",
      "  3044      17                -                        96673.74             -   14482.0     -       94.2%   \n",
      "  3045      14                -                        96673.74             -   14487.4     -       98.0%   \n",
      "  3046      13                -                        96673.74             -   14491.9     -       94.2%   \n",
      "  3047      12                -                        96673.74             -   14497.2     -       94.1%   \n",
      "  3048      15                -                        96673.74             -   14502.8     -       93.4%   \n",
      "  3049      15                -                        96673.74             -   14507.6     -       96.6%   \n",
      "  3050      14                -                        96673.74             -   14513.4     -       96.7%   \n",
      "  3051      13                -                        96673.74             -   14518.6     -       96.7%   \n",
      "  3052      15                -                        96673.75             -   14523.1     -       93.1%   \n",
      "  3053      15                -                        96673.75             -   14528.8     -       96.6%   \n",
      "  3054      14                -                        96673.75             -   14533.2     -       96.7%   \n",
      "  3055      13                -                        96673.75             -   14538.7     -       93.6%   \n",
      "  3056      14                -                        96673.75             -   14543.9     -       97.5%   \n",
      "  3057      11                -                        96673.75             -   14547.9     -       95.7%   \n",
      "  3058      13                -                        96673.75             -   14552.4     -       96.6%   \n",
      "  3059      14                -                        96673.75             -   14557.6     -       96.1%   \n",
      "  3060      13                -                        96673.75             -   14561.6     -       96.7%   \n",
      "  3061      14                -                        96673.76             -   14567.7     -       91.6%   "
     ]
    },
    {
     "name": "stderr",
     "output_type": "stream",
     "text": [
      "┌ Warning: Only almost solved\n",
      "└ @ Juniper C:\\Users\\Оля\\.julia\\packages\\Juniper\\atNbZ\\src\\BnBTree.jl:89\n"
     ]
    },
    {
     "name": "stdout",
     "output_type": "stream",
     "text": [
      "\n",
      "  3062      14                -                        96673.76             -   14572.6     -       92.5%   \n",
      "  3063      12                -                        96673.76             -   14579.1     -       93.6%   \n",
      "  3064      15                -                        96673.76             -   14585.0     -       92.8%   \n",
      "  3065      15                -                        96673.76             -   14591.0     -       96.7%   \n",
      "  3066      13                -                        96673.76             -   14596.3     -       96.7%   \n",
      "  3067      13                -                        96673.76             -   14602.4     -       91.4%   \n",
      "  3068      14                -                        96673.76             -   14608.0     -       96.7%   \n",
      "  3069      14                -                        96673.77             -   14613.6     -       91.1%   \n",
      "  3070      12                -                        96673.77             -   14618.1     -       96.7%   \n",
      "  3071      14                -                        96673.77             -   14624.9     -       98.1%   \n",
      "  3072      14                -                        96673.77             -   14630.1     -       96.4%   \n",
      "  3073      14                -                        96673.77             -   14634.9     -       96.7%   \n"
     ]
    },
    {
     "name": "stderr",
     "output_type": "stream",
     "text": [
      "┌ Warning: Only almost solved\n",
      "└ @ Juniper C:\\Users\\Оля\\.julia\\packages\\Juniper\\atNbZ\\src\\BnBTree.jl:89\n"
     ]
    },
    {
     "name": "stdout",
     "output_type": "stream",
     "text": [
      "  3074      14                -                        96673.77             -   14641.4     -       91.4%   "
     ]
    },
    {
     "name": "stderr",
     "output_type": "stream",
     "text": [
      "┌ Warning: Only almost solved\n",
      "└ @ Juniper C:\\Users\\Оля\\.julia\\packages\\Juniper\\atNbZ\\src\\BnBTree.jl:89\n"
     ]
    },
    {
     "name": "stdout",
     "output_type": "stream",
     "text": [
      "\n",
      "  3075      13                -                        96673.77             -   14646.4     -       96.7%   \n",
      "  3076      13                -                        96673.77             -   14651.2     -       93.6%   \n",
      "  3077      13                -                        96673.77             -   14657.2     -       96.7%   \n",
      "  3078      15                -                        96673.78             -   14662.1     -       92.1%   \n",
      "  3079      14                -                        96673.78             -   14669.3     -       96.7%   "
     ]
    },
    {
     "name": "stderr",
     "output_type": "stream",
     "text": [
      "┌ Warning: Only almost solved\n",
      "└ @ Juniper C:\\Users\\Оля\\.julia\\packages\\Juniper\\atNbZ\\src\\BnBTree.jl:89\n"
     ]
    },
    {
     "name": "stdout",
     "output_type": "stream",
     "text": [
      "\n",
      "  3080      13                -                        96673.78             -   14673.8     -       96.7%   \n",
      "  3081      12                -                        96673.78             -   14678.8     -       93.6%   \n",
      "  3082      15                -                        96673.78             -   14684.4     -       98.1%   \n",
      "  3083      14                -                        96673.78             -   14690.1     -       96.2%   \n",
      "  3084      14                -                        96673.78             -   14695.3     -       96.7%   \n",
      "  3085      14                -                        96673.78             -   14701.3     -       96.7%   "
     ]
    },
    {
     "name": "stderr",
     "output_type": "stream",
     "text": [
      "┌ Warning: Only almost solved\n",
      "└ @ Juniper C:\\Users\\Оля\\.julia\\packages\\Juniper\\atNbZ\\src\\BnBTree.jl:89\n"
     ]
    },
    {
     "name": "stdout",
     "output_type": "stream",
     "text": [
      "\n",
      "  3086      14                -                        96673.78             -   14706.0     -       93.2%   \n",
      "  3087      13                -                        96673.78             -   14710.5     -       93.6%   \n",
      "  3088      13                -                        96673.78             -   14714.7     -       97.8%   \n",
      "  3089      15                -                        96673.78             -   14720.9     -       96.3%   \n",
      "  3090      14                -                        96673.78             -   14725.8     -       96.8%   \n",
      "  3091      12                -                        96673.78             -   14731.3     -       98.3%   \n",
      "  3092      12                -                        96673.79             -   14735.8     -       94.8%   \n",
      "  3093      13                -                        96673.79             -   14740.7     -       96.7%   \n",
      "  3094      13                -                        96673.79             -   14745.2     -       96.7%   \n",
      "  3095      13                -                        96673.79             -   14750.3     -       96.7%   \n",
      "  3096      12                -                        96673.79             -   14754.0     -       97.9%   \n",
      "  3097      15                -                        96673.79             -   14758.8     -       96.3%   \n",
      "  3098      14                -                        96673.79             -   14764.0     -       96.7%   \n"
     ]
    },
    {
     "name": "stderr",
     "output_type": "stream",
     "text": [
      "┌ Warning: Only almost solved\n",
      "└ @ Juniper C:\\Users\\Оля\\.julia\\packages\\Juniper\\atNbZ\\src\\BnBTree.jl:89\n"
     ]
    },
    {
     "name": "stdout",
     "output_type": "stream",
     "text": [
      "  3099      14                -                        96673.8              -   14770.8     -       96.7%   "
     ]
    },
    {
     "name": "stderr",
     "output_type": "stream",
     "text": [
      "┌ Warning: Only almost solved\n",
      "└ @ Juniper C:\\Users\\Оля\\.julia\\packages\\Juniper\\atNbZ\\src\\BnBTree.jl:89\n"
     ]
    },
    {
     "name": "stdout",
     "output_type": "stream",
     "text": [
      "\n",
      "  3100      14                -                        96673.8              -   14775.8     -       99.0%   \n",
      "  3101      14                -                        96673.8              -   14780.5     -       93.7%   \n",
      "  3102      14                -                        96673.8              -   14786.3     -       91.4%   \n",
      "  3103      14                -                        96673.8              -   14791.0     -       96.7%   \n",
      "  3104      15                -                        96673.8              -   14796.6     -       96.1%   \n",
      "  3105      13                -                        96673.8              -   14802.0     -       98.0%   \n",
      "  3106      13                -                        96673.8              -   14806.9     -       90.9%   \n",
      "  3107      14                -                        96673.8              -   14811.2     -       96.7%   \n",
      "  3108      14                -                        96673.8              -   14816.8     -       92.8%   \n",
      "  3109      13                -                        96673.8              -   14821.2     -       96.7%   \n",
      "  3110      14                -                        96673.81             -   14826.1     -       93.3%   \n",
      "  3111      14                -                        96673.81             -   14831.1     -       92.4%   \n",
      "  3112      14                -                        96673.81             -   14836.1     -       92.6%   \n",
      "  3113      14                -                        96673.81             -   14841.2     -       96.7%   \n",
      "  3114      13                -                        96673.81             -   14846.9     -       93.7%   \n",
      "  3115      13                -                        96673.81             -   14851.5     -       96.7%   \n",
      "  3116      18                -                        96673.81             -   14856.5     -       96.7%   \n",
      "  3117      14                -                        96673.81             -   14862.0     -       91.9%   \n",
      "  3118      13                -                        96673.81             -   14867.1     -       97.8%   \n",
      "  3119      12                -                        96673.81             -   14871.7     -       95.7%   \n",
      "  3120      16                -                        96673.81             -   14876.4     -       96.7%   \n",
      "  3121      14                -                        96673.81             -   14882.8     -       99.1%   \n",
      "  3122      14                -                        96673.81             -   14888.7     -       94.1%   \n",
      "  3123      14                -                        96673.81             -   14894.3     -       96.7%   \n",
      "  3124      12                -                        96673.81             -   14899.7     -       96.7%   \n",
      "  3125      12                -                        96673.81             -   14905.3     -       97.6%   \n",
      "  3126      12                -                        96673.81             -   14911.5     -       97.1%   \n",
      "  3127      14                -                        96673.81             -   14917.4     -       95.7%   \n",
      "  3128      16                -                        96673.82             -   14923.1     -       92.6%   \n",
      "  3129      16                -                        96673.82             -   14928.7     -       92.3%   \n",
      "  3129      15                -                        96673.82             -   14934.6     -       94.5%   \n",
      "  3130      14                -                        96673.82             -   14939.3     -       94.4%   \n",
      "  3131      13                -                        96673.82             -   14945.0     -       93.7%   \n",
      "  3132      12                -                        96673.82             -   14949.6     -       93.6%   \n",
      "  3133      14                -                        96673.82             -   14954.8     -       97.7%   \n",
      "  3134      14                -                        96673.82             -   14959.3     -       95.0%   \n",
      "  3135      13                -                        96673.82             -   14963.5     -       93.5%   \n",
      "  3136      13                -                        96673.82             -   14967.6     -       96.7%   \n",
      "  3137      15                -                        96673.82             -   14972.5     -       91.5%   \n",
      "  3138      15                -                        96673.82             -   14977.9     -       93.2%   \n",
      "  3139      14                -                        96673.82             -   14983.0     -       92.4%   \n",
      "  3140      13                -                        96673.82             -   14987.8     -       96.8%   \n",
      "  3141      13                -                        96673.82             -   14993.3     -       96.7%   \n",
      "  3142      12                -                        96673.82             -   14998.1     -       97.9%   \n",
      "  3143      15                -                        96673.83             -   15003.2     -       94.6%   \n",
      "  3144      14                -                        96673.83             -   15007.7     -       91.8%   \n",
      "  3145      15                -                        96673.83             -   15012.1     -       93.7%   \n",
      "  3146      15                -                        96673.83             -   15016.7     -       96.8%   \n",
      "  3147      14                -                        96673.83             -   15022.1     -       92.9%   \n",
      "  3148      14                -                        96673.83             -   15027.5     -       96.7%   \n",
      "  3149      15                -                        96673.83             -   15032.3     -       93.6%   \n",
      "  3150      13                -                        96673.83             -   15037.4     -       96.8%   \n",
      "  3151      18                -                        96673.83             -   15043.1     -       92.8%   \n",
      "  3152      15                -                        96673.83             -   15048.4     -       92.6%   \n",
      "  3153      15                -                        96673.83             -   15054.1     -       96.7%   \n",
      "  3154      14                -                        96673.83             -   15059.3     -       93.3%   \n",
      "  3155      14                -                        96673.83             -   15064.6     -       97.3%   \n",
      "  3156      13                -                        96673.83             -   15069.7     -       94.9%   \n",
      "  3157      13                -                        96673.83             -   15074.0     -       96.8%   \n",
      "  3158      12                -                        96673.84             -   15079.0     -       96.8%   \n",
      "  3159      15                -                        96673.84             -   15084.1     -       96.7%   \n",
      "  3160      14                -                        96673.84             -   15089.9     -       96.8%   \n",
      "  3161      14                -                        96673.84             -   15094.9     -       96.8%   \n",
      "  3162      14                -                        96673.84             -   15100.1     -       93.1%   \n",
      "  3163      14                -                        96673.84             -   15105.5     -       96.7%   \n",
      "  3164      13                -                        96673.84             -   15110.8     -       96.8%   \n",
      "  3165      14                -                        96673.84             -   15115.9     -       96.8%   \n",
      "  3166      12                -                        96673.84             -   15120.9     -       96.8%   \n",
      "  3167      14                -                        96673.84             -   15125.7     -       96.8%   \n",
      "  3168      13                -                        96673.84             -   15130.5     -       96.8%   \n",
      "  3169      14                -                        96673.85             -   15136.2     -       93.2%   \n",
      "  3170      12                -                        96673.85             -   15140.6     -       96.8%   \n"
     ]
    },
    {
     "name": "stderr",
     "output_type": "stream",
     "text": [
      "┌ Warning: Only almost solved\n",
      "└ @ Juniper C:\\Users\\Оля\\.julia\\packages\\Juniper\\atNbZ\\src\\BnBTree.jl:89\n"
     ]
    },
    {
     "name": "stdout",
     "output_type": "stream",
     "text": [
      "  3171      13                -                        96673.85             -   15145.8     -       96.8%   \n",
      "  3172      15                -                        96673.85             -   15151.1     -       96.8%   \n",
      "  3173      14                -                        96673.85             -   15155.9     -       93.6%   \n",
      "  3174      13                -                        96673.85             -   15160.7     -       98.2%   \n",
      "  3175      12                -                        96673.85             -   15165.1     -       96.8%   \n",
      "  3176      14                -                        96673.85             -   15170.9     -       98.1%   \n",
      "  3177      16                -                        96673.86             -   15176.4     -       94.8%   \n",
      "  3178      15                -                        96673.86             -   15183.3     -       96.8%   \n",
      "  3179      13                -                        96673.86             -   15188.5     -       96.9%   \n",
      "  3180      14                -                        96673.86             -   15195.0     -       91.4%   \n",
      "  3181      13                -                        96673.86             -   15201.3     -       96.8%   \n",
      "  3182      14                -                        96673.86             -   15207.3     -       96.9%   \n",
      "  3183      13                -                        96673.86             -   15212.3     -       96.8%   \n",
      "  3184      15                -                        96673.86             -   15219.6     -       96.8%   \n",
      "  3185      15                -                        96673.86             -   15224.6     -       96.8%   \n",
      "  3186      12                -                        96673.86             -   15230.2     -       98.7%   \n",
      "  3187      16                -                        96673.86             -   15235.7     -       95.6%   \n",
      "  3188      13                -                        96673.87             -   15241.1     -       98.9%   \n",
      "  3189      13                -                        96673.87             -   15247.1     -       97.0%   \n",
      "  3190      13                -                        96673.87             -   15251.8     -       97.3%   \n",
      "  3191      13                -                        96673.87             -   15256.6     -       95.1%   \n",
      "  3192      14                -                        96673.87             -   15262.0     -       96.7%   \n",
      "  3193      13                -                        96673.87             -   15266.4     -       96.8%   \n",
      "  3194      13                -                        96673.87             -   15271.6     -       94.0%   \n",
      "  3195      15                -                        96673.87             -   15276.8     -       91.2%   \n",
      "  3196      13                -                        96673.87             -   15282.6     -       96.8%   \n",
      "  3197      14                -                        96673.87             -   15287.7     -       96.8%   \n",
      "  3198      13                -                        96673.87             -   15292.6     -       96.9%   \n",
      "  3199      13                -                        96673.87             -   15298.2     -       96.8%   \n",
      "  3200      13                -                        96673.87             -   15303.0     -       96.8%   \n",
      "  3201      12                -                        96673.87             -   15307.9     -       96.8%   \n",
      "  3202      12                -                        96673.87             -   15312.4     -       97.6%   \n",
      "  3203      14                -                        96673.88             -   15317.1     -       95.4%   \n",
      "  3204      15                -                        96673.88             -   15322.1     -       96.8%   \n",
      "  3205      14                -                        96673.88             -   15327.0     -       93.9%   \n",
      "  3206      14                -                        96673.88             -   15332.2     -       96.8%   \n",
      "  3207      14                -                        96673.88             -   15337.2     -       96.8%   \n",
      "  3208      15                -                        96673.89             -   15342.1     -       93.0%   \n",
      "  3209      14                -                        96673.89             -   15347.3     -       96.8%   \n",
      "  3210      14                -                        96673.89             -   15352.8     -       96.8%   \n",
      "  3211      14                -                        96673.89             -   15358.7     -       96.8%   \n",
      "  3212      14                -                        96673.89             -   15363.3     -       96.7%   \n",
      "  3213      15                -                        96673.89             -   15369.0     -       92.7%   \n",
      "  3214      14                -                        96673.89             -   15375.0     -       96.8%   \n",
      "  3215      13                -                        96673.89             -   15380.2     -       96.8%   \n",
      "  3216      13                -                        96673.89             -   15385.2     -       98.2%   \n",
      "  3217      13                -                        96673.9              -   15390.3     -       94.7%   \n",
      "  3218      12                -                        96673.9              -   15394.9     -       96.8%   \n",
      "  3219      14                -                        96673.9              -   15399.9     -       93.0%   \n",
      "  3220      14                -                        96673.9              -   15405.0     -       96.8%   \n",
      "  3221      17                -                        96673.9              -   15410.5     -       92.9%   \n",
      "  3222      14                -                        96673.9              -   15415.4     -       95.5%   \n",
      "  3223      13                -                        96673.9              -   15419.4     -       93.9%   \n",
      "  3224      14                -                        96673.9              -   15425.4     -       96.8%   \n",
      "  3225      13                -                        96673.9              -   15429.8     -       96.9%   \n",
      "  3226      13                -                        96673.9              -   15435.2     -       96.8%   \n",
      "  3227      12                -                        96673.9              -   15439.3     -       96.8%   \n",
      "  3228      14                -                        96673.91             -   15444.6     -       94.0%   \n",
      "  3229      14                -                        96673.91             -   15448.6     -       99.0%   \n",
      "  3230      15                -                        96673.91             -   15454.0     -       96.8%   \n",
      "  3231      13                -                        96673.91             -   15459.1     -       98.2%   \n",
      "  3232      15                -                        96673.91             -   15464.3     -       94.8%   \n",
      "  3233      12                -                        96673.92             -   15470.5     -       93.5%   \n",
      "  3234      12                -                        96673.92             -   15476.4     -       96.8%   \n",
      "  3235      15                -                        96673.92             -   15482.2     -       93.1%   \n",
      "  3236      15                -                        96673.92             -   15488.7     -       96.9%   \n",
      "  3237      16                -                        96673.92             -   15493.9     -       94.0%   \n",
      "  3238      15                -                        96673.93             -   15500.5     -       98.1%   \n",
      "  3239      13                -                        96673.93             -   15507.4     -       96.2%   \n",
      "  3240      13                -                        96673.93             -   15513.0     -       96.8%   \n",
      "  3241      13                -                        96673.93             -   15519.3     -       96.9%   \n",
      "  3242      15                -                        96673.93             -   15524.1     -       95.1%   \n",
      "  3243      17                -                        96673.93             -   15529.5     -       96.8%   \n",
      "  3244      14                -                        96673.93             -   15535.0     -       96.9%   \n",
      "  3245      13                -                        96673.94             -   15539.9     -       96.9%   \n",
      "  3246      16                -                        96673.94             -   15545.0     -       96.8%   \n",
      "  3247      14                -                        96673.94             -   15551.1     -       96.9%   \n",
      "  3248      14                -                        96673.94             -   15555.9     -       92.0%   \n",
      "  3249      14                -                        96673.94             -   15561.7     -       96.8%   \n",
      "  3250      14                -                        96673.95             -   15567.6     -       97.7%   \n",
      "  3251      14                -                        96673.95             -   15572.2     -       96.1%   \n",
      "  3252      14                -                        96673.95             -   15577.6     -       94.0%   \n",
      "  3253      14                -                        96673.95             -   15583.1     -       96.9%   \n",
      "  3254      14                -                        96673.95             -   15588.0     -       96.8%   \n",
      "  3255      13                -                        96673.95             -   15593.1     -       96.8%   \n",
      "  3256      14                -                        96673.95             -   15599.4     -       95.0%   \n"
     ]
    },
    {
     "name": "stderr",
     "output_type": "stream",
     "text": [
      "┌ Warning: Only almost solved\n",
      "└ @ Juniper C:\\Users\\Оля\\.julia\\packages\\Juniper\\atNbZ\\src\\BnBTree.jl:89\n"
     ]
    },
    {
     "name": "stdout",
     "output_type": "stream",
     "text": [
      "  3257      15                -                        96673.95             -   15606.5     -       92.6%   \n",
      "  3258      15                -                        96673.97             -   15611.4     -       94.4%   \n",
      "  3259      14                -                        96673.97             -   15619.4     -       92.9%   \n",
      "  3260      14                -                        96673.97             -   15625.0     -       91.3%   \n",
      "  3261      13                -                        96673.97             -   15633.2     -       97.9%   \n",
      "  3262      13                -                        96673.97             -   15639.8     -       94.6%   \n",
      "  3263      13                -                        96673.97             -   15646.1     -       96.2%   \n",
      "  3264      15                -                        96673.97             -   15655.2     -       96.9%   \n",
      "  3265      14                -                        96673.97             -   15665.2     -       96.5%   \n",
      "  3266      14                -                        96673.97             -   15673.4     -       91.5%   \n",
      "  3267      17                -                        96673.98             -   15681.6     -       93.1%   \n",
      "  3268      15                -                        96673.98             -   15687.9     -       96.9%   \n",
      "  3269      15                -                        96673.98             -   15695.2     -       92.8%   \n",
      "  3270      13                -                        96673.98             -   15701.1     -       96.9%   \n"
     ]
    },
    {
     "name": "stderr",
     "output_type": "stream",
     "text": [
      "┌ Warning: Only almost solved\n",
      "└ @ Juniper C:\\Users\\Оля\\.julia\\packages\\Juniper\\atNbZ\\src\\BnBTree.jl:89\n"
     ]
    },
    {
     "name": "stdout",
     "output_type": "stream",
     "text": [
      "  3271      14                -                        96673.98             -   15708.2     -       92.1%   \n"
     ]
    },
    {
     "name": "stderr",
     "output_type": "stream",
     "text": [
      "┌ Warning: Only almost solved\n",
      "└ @ Juniper C:\\Users\\Оля\\.julia\\packages\\Juniper\\atNbZ\\src\\BnBTree.jl:89\n"
     ]
    },
    {
     "name": "stdout",
     "output_type": "stream",
     "text": [
      "  3272      14                -                        96673.98             -   15714.7     -       94.0%   \n",
      "  3273      11                -                        96673.98             -   15722.0     -       97.8%   \n",
      "  3274      14                -                        96673.99             -   15728.0     -       96.6%   \n"
     ]
    },
    {
     "name": "stderr",
     "output_type": "stream",
     "text": [
      "┌ Warning: Only almost solved\n",
      "└ @ Juniper C:\\Users\\Оля\\.julia\\packages\\Juniper\\atNbZ\\src\\BnBTree.jl:89\n"
     ]
    },
    {
     "name": "stdout",
     "output_type": "stream",
     "text": [
      "  3275      14                -                        96673.99             -   15734.4     -       97.9%   \n",
      "  3276      14                -                        96674.0              -   15739.0     -       94.7%   \n",
      "  3277      13                -                        96674.0              -   15744.3     -       96.6%   "
     ]
    },
    {
     "name": "stderr",
     "output_type": "stream",
     "text": [
      "┌ Warning: Only almost solved\n",
      "└ @ Juniper C:\\Users\\Оля\\.julia\\packages\\Juniper\\atNbZ\\src\\BnBTree.jl:89\n"
     ]
    },
    {
     "name": "stdout",
     "output_type": "stream",
     "text": [
      "\n",
      "  3278      11                -                        96674.0              -   15750.9     -       96.9%   \n",
      "  3279      13                -                        96674.0              -   15756.3     -       98.7%   \n",
      "  3280      15                -                        96674.01             -   15764.4     -       97.3%   \n",
      "  3281      14                -                        96674.01             -   15770.7     -       96.0%   \n",
      "  3282      13                -                        96674.01             -   15776.9     -       96.9%   \n",
      "  3283      16                -                        96674.01             -   15783.8     -       92.8%   \n",
      "  3284      14                -                        96674.01             -   15790.8     -       96.6%   \n",
      "  3285      16                -                        96674.02             -   15798.0     -       96.9%   \n"
     ]
    },
    {
     "name": "stderr",
     "output_type": "stream",
     "text": [
      "┌ Warning: Only almost solved\n",
      "└ @ Juniper C:\\Users\\Оля\\.julia\\packages\\Juniper\\atNbZ\\src\\BnBTree.jl:89\n"
     ]
    },
    {
     "name": "stdout",
     "output_type": "stream",
     "text": [
      "  3286      16                -                        96674.02             -   15805.2     -       95.6%   \n",
      "  3287      14                -                        96674.03             -   15813.2     -       94.0%   \n",
      "  3288      14                -                        96674.03             -   15819.3     -       96.9%   \n",
      "  3289      18                -                        96674.03             -   15827.2     -       96.9%   \n",
      "  3290      14                -                        96674.03             -   15832.5     -       96.9%   \n",
      "  3291      13                -                        96674.04             -   15838.2     -       96.9%   \n",
      "  3292      14                -                        96674.04             -   15843.8     -       94.0%   \n",
      "  3293      14                -                        96674.04             -   15848.3     -       96.9%   \n",
      "  3294      15                -                        96674.04             -   15855.3     -       96.9%   \n"
     ]
    },
    {
     "name": "stderr",
     "output_type": "stream",
     "text": [
      "┌ Warning: Only almost solved\n",
      "└ @ Juniper C:\\Users\\Оля\\.julia\\packages\\Juniper\\atNbZ\\src\\BnBTree.jl:89\n"
     ]
    },
    {
     "name": "stdout",
     "output_type": "stream",
     "text": [
      "  3295      15                -                        96674.04             -   15862.2     -       95.3%   "
     ]
    },
    {
     "name": "stderr",
     "output_type": "stream",
     "text": [
      "┌ Warning: Only almost solved\n",
      "└ @ Juniper C:\\Users\\Оля\\.julia\\packages\\Juniper\\atNbZ\\src\\BnBTree.jl:89\n"
     ]
    },
    {
     "name": "stdout",
     "output_type": "stream",
     "text": [
      "\n",
      "  3296      13                -                        96674.04             -   15867.6     -       96.9%   \n",
      "  3297      15                -                        96674.05             -   15873.8     -       93.6%   \n",
      "  3298      13                -                        96674.05             -   15878.8     -       94.0%   \n",
      "  3299      17                -                        96674.05             -   15884.3     -       96.9%   \n",
      "  3300      14                -                        96674.05             -   15890.4     -       95.1%   \n",
      "  3301      12                -                        96674.05             -   15895.8     -       96.9%   \n",
      "  3302      15                -                        96674.06             -   15901.4     -       93.0%   \n",
      "  3303      17                -                        96674.07             -   15907.5     -       96.9%   \n",
      "  3304      14                -                        96674.07             -   15911.7     -       93.5%   \n",
      "  3305      13                -                        96674.07             -   15917.3     -       97.9%   \n",
      "  3306      15                -                        96674.08             -   15922.4     -       94.7%   \n",
      "  3307      14                -                        96674.08             -   15927.7     -       94.1%   \n",
      "  3308      13                -                        96674.08             -   15931.6     -       89.2%   \n",
      "  3309      15                -                        96674.08             -   15937.2     -       92.7%   \n",
      "  3310      15                -                        96674.09             -   15942.8     -       96.9%   \n",
      "  3311      14                -                        96674.09             -   15947.5     -       93.5%   \n",
      "  3312      14                -                        96674.09             -   15954.3     -       97.0%   \n",
      "  3313      14                -                        96674.09             -   15959.2     -       94.0%   \n",
      "  3314      13                -                        96674.09             -   15963.1     -       96.9%   \n",
      "  3315      15                -                        96674.1              -   15968.0     -       96.9%   \n",
      "  3316      14                -                        96674.1              -   15972.6     -       96.9%   \n",
      "  3316      14                -                        96674.1              -   15978.7     -       94.4%   \n",
      "  3317      15                -                        96674.1              -   15983.5     -       94.6%   \n",
      "  3318      14                -                        96674.1              -   15988.4     -       93.9%   \n",
      "  3319      14                -                        96674.1              -   15993.7     -       97.1%   \n",
      "  3320      17                -                        96674.1              -   15998.8     -       93.9%   \n",
      "  3321      15                -                        96674.1              -   16003.9     -       96.9%   \n",
      "  3322      15                -                        96674.11             -   16009.1     -       92.7%   \n",
      "  3323      16                -                        96674.11             -   16013.8     -       96.9%   \n",
      "  3324      15                -                        96674.11             -   16019.3     -       96.9%   \n",
      "  3325      15                -                        96674.11             -   16024.8     -       92.5%   \n",
      "  3326      15                -                        96674.11             -   16029.9     -       98.3%   \n",
      "  3327      15                -                        96674.12             -   16035.1     -       94.6%   \n",
      "  3328      15                -                        96674.12             -   16040.0     -       94.1%   \n",
      "  3329      13                -                        96674.12             -   16046.0     -       93.3%   \n",
      "  3330      11                -                        96674.12             -   16050.0     -       96.9%   \n"
     ]
    },
    {
     "name": "stderr",
     "output_type": "stream",
     "text": [
      "┌ Warning: Only almost solved\n",
      "└ @ Juniper C:\\Users\\Оля\\.julia\\packages\\Juniper\\atNbZ\\src\\BnBTree.jl:89\n"
     ]
    },
    {
     "name": "stdout",
     "output_type": "stream",
     "text": [
      "  3331      17                -                        96674.12             -   16056.2     -       95.4%   \n",
      "  3332      14                -                        96674.12             -   16060.8     -       96.9%   \n",
      "  3333      11                -                        96674.12             -   16066.3     -       96.7%   \n",
      "  3334      16                -                        96674.13             -   16071.2     -       93.3%   \n",
      "  3335      16                -                        96674.13             -   16078.6     -       91.8%   \n",
      "  3336      13                -                        96674.13             -   16084.7     -       96.9%   \n",
      "  3337      15                -                        96674.14             -   16090.5     -       96.9%   \n",
      "  3338      12                -                        96674.14             -   16096.2     -       97.8%   \n",
      "  3339      14                -                        96674.15             -   16102.7     -       94.8%   \n",
      "  3340      16                -                        96674.15             -   16108.2     -       93.6%   \n",
      "  3341      14                -                        96674.15             -   16113.8     -       93.7%   \n",
      "  3342      13                -                        96674.15             -   16119.8     -       96.9%   \n",
      "  3343      13                -                        96674.15             -   16126.0     -       98.2%   \n",
      "  3344      14                -                        96674.16             -   16131.4     -       95.5%   \n",
      "  3345      14                -                        96674.16             -   16134.9     -       93.7%   \n",
      "  3346      14                -                        96674.16             -   16139.2     -       94.3%   \n",
      "  3347      14                -                        96674.16             -   16144.5     -       96.9%   \n",
      "  3348      13                -                        96674.16             -   16150.0     -       98.2%   \n",
      "  3349      15                -                        96674.17             -   16155.2     -       94.6%   \n",
      "  3350      14                -                        96674.17             -   16160.9     -       96.9%   \n",
      "  3351      12                -                        96674.17             -   16166.1     -       98.0%   \n",
      "  3352      14                -                        96674.17             -   16171.2     -       95.2%   \n",
      "  3353      13                -                        96674.17             -   16176.4     -       98.2%   \n",
      "  3354      11                -                        96674.17             -   16181.9     -       94.1%   \n",
      "  3355      14                -                        96674.17             -   16186.8     -       96.9%   \n",
      "  3356      14                -                        96674.17             -   16192.7     -       97.0%   \n",
      "  3357      16                -                        96674.18             -   16197.7     -       96.9%   \n",
      "  3358      15                -                        96674.18             -   16201.5     -       94.1%   \n",
      "  3359      13                -                        96674.18             -   16206.8     -       94.1%   \n",
      "  3360      15                -                        96674.18             -   16212.2     -       97.0%   \n",
      "  3361      14                -                        96674.18             -   16218.1     -       96.9%   \n",
      "  3362      14                -                        96674.19             -   16223.9     -       96.9%   \n",
      "  3363      14                -                        96674.19             -   16228.6     -       97.0%   \n",
      "  3364      15                -                        96674.19             -   16233.4     -       94.1%   \n",
      "  3365      16                -                        96674.19             -   16238.8     -       95.9%   \n",
      "  3366      15                -                        96674.19             -   16244.1     -       96.9%   \n",
      "  3367      14                -                        96674.19             -   16249.7     -       92.6%   \n",
      "  3368      14                -                        96674.19             -   16255.3     -       93.3%   \n",
      "  3369      13                -                        96674.2              -   16260.2     -       94.2%   \n",
      "  3370      16                -                        96674.2              -   16264.8     -       99.2%   \n",
      "  3371      16                -                        96674.2              -   16270.5     -       96.3%   \n",
      "  3372      16                -                        96674.2              -   16275.8     -       97.0%   \n",
      "  3373      14                -                        96674.2              -   16280.8     -       97.0%   \n",
      "  3374      13                -                        96674.2              -   16286.7     -       99.4%   \n",
      "  3375      13                -                        96674.2              -   16291.9     -       98.2%   \n",
      "  3376      16                -                        96674.21             -   16297.1     -       95.0%   \n",
      "  3377      15                -                        96674.21             -   16303.4     -       94.0%   \n",
      "  3378      17                -                        96674.21             -   16308.5     -       93.7%   \n",
      "  3379      15                -                        96674.21             -   16312.8     -       96.9%   \n",
      "  3380      14                -                        96674.21             -   16318.2     -       96.9%   \n",
      "  3381      17                -                        96674.21             -   16323.2     -       99.1%   \n",
      "  3382      15                -                        96674.21             -   16328.4     -       93.6%   \n",
      "  3383      13                -                        96674.21             -   16333.5     -       98.3%   \n",
      "  3384      13                -                        96674.22             -   16338.4     -       97.8%   \n",
      "  3385      15                -                        96674.22             -   16343.5     -       90.1%   \n",
      "  3386      14                -                        96674.22             -   16348.0     -       94.2%   \n",
      "  3387      13                -                        96674.22             -   16353.2     -       97.0%   \n",
      "  3388      17                -                        96674.22             -   16358.2     -       96.4%   \n",
      "  3389      14                -                        96674.22             -   16364.5     -       97.0%   "
     ]
    },
    {
     "name": "stderr",
     "output_type": "stream",
     "text": [
      "┌ Warning: Only almost solved\n",
      "└ @ Juniper C:\\Users\\Оля\\.julia\\packages\\Juniper\\atNbZ\\src\\BnBTree.jl:89\n"
     ]
    },
    {
     "name": "stdout",
     "output_type": "stream",
     "text": [
      "\n",
      "  3390      14                -                        96674.23             -   16369.4     -       93.1%   \n",
      "  3391      12                -                        96674.23             -   16373.8     -       97.0%   \n",
      "  3392      16                -                        96674.23             -   16378.8     -       93.5%   \n",
      "  3393      13                -                        96674.23             -   16385.4     -       97.9%   \n",
      "  3394      15                -                        96674.23             -   16392.8     -       95.4%   \n",
      "  3395      17                -                        96674.23             -   16400.1     -       97.0%   \n",
      "  3396      14                -                        96674.23             -   16405.6     -       94.2%   \n",
      "  3397      13                -                        96674.23             -   16411.9     -       98.6%   \n",
      "  3398      14                -                        96674.23             -   16418.3     -       95.4%   \n",
      "  3399      13                -                        96674.23             -   16423.5     -       97.0%   \n",
      "  3400      15                -                        96674.24             -   16428.3     -       96.7%   \n",
      "  3401      15                -                        96674.24             -   16434.3     -       97.0%   \n",
      "  3402      14                -                        96674.24             -   16439.1     -       94.1%   \n",
      "  3403      14                -                        96674.24             -   16444.7     -       94.2%   \n",
      "  3404      16                -                        96674.24             -   16450.1     -       97.0%   \n",
      "  3405      16                -                        96674.24             -   16455.5     -       97.0%   \n",
      "  3406      16                -                        96674.24             -   16460.9     -       97.0%   \n",
      "  3407      16                -                        96674.24             -   16466.0     -       97.0%   \n",
      "  3408      16                -                        96674.24             -   16471.2     -       93.8%   \n",
      "  3409      15                -                        96674.24             -   16476.6     -       92.6%   \n",
      "  3410      14                -                        96674.25             -   16482.4     -       94.2%   \n",
      "  3411      15                -                        96674.26             -   16487.6     -       96.6%   \n",
      "  3412      15                -                        96674.26             -   16493.1     -       97.0%   \n",
      "  3413      13                -                        96674.26             -   16498.3     -       93.0%   \n",
      "  3414      13                -                        96674.26             -   16502.4     -       94.1%   \n",
      "  3415      17                -                        96674.26             -   16507.6     -       93.2%   \n",
      "  3416      14                -                        96674.26             -   16513.2     -       96.5%   \n",
      "  3417      15                -                        96674.26             -   16518.6     -       96.9%   \n",
      "  3418      14                -                        96674.26             -   16523.8     -       97.0%   \n",
      "  3419      13                -                        96674.26             -   16529.0     -       97.0%   \n",
      "  3420      14                -                        96674.26             -   16533.8     -       94.2%   \n",
      "  3421      14                -                        96674.27             -   16538.6     -       98.3%   \n",
      "  3422      12                -                        96674.27             -   16544.2     -       97.0%   \n",
      "  3423      15                -                        96674.27             -   16549.6     -       93.0%   \n",
      "  3424      14                -                        96674.27             -   16555.5     -       98.2%   \n",
      "  3425      13                -                        96674.27             -   16561.2     -       97.0%   \n",
      "  3426      14                -                        96674.27             -   16566.8     -       96.4%   \n"
     ]
    },
    {
     "name": "stderr",
     "output_type": "stream",
     "text": [
      "┌ Warning: Only almost solved\n",
      "└ @ Juniper C:\\Users\\Оля\\.julia\\packages\\Juniper\\atNbZ\\src\\BnBTree.jl:89\n"
     ]
    },
    {
     "name": "stdout",
     "output_type": "stream",
     "text": [
      "  3427      15                -                        96674.27             -   16573.1     -       96.7%   \n",
      "  3428      13                -                        96674.28             -   16579.3     -       96.6%   \n",
      "  3429      15                -                        96674.28             -   16584.4     -       98.7%   \n",
      "  3430      14                -                        96674.28             -   16588.7     -       95.9%   \n",
      "  3431      13                -                        96674.28             -   16594.6     -       93.7%   \n",
      "  3432      13                -                        96674.29             -   16599.8     -       98.1%   \n",
      "  3433      18                -                        96674.29             -   16605.0     -       95.0%   \n",
      "  3434      14                -                        96674.29             -   16609.9     -       97.0%   \n",
      "  3435      16                -                        96674.29             -   16615.2     -       97.0%   \n",
      "  3436      13                -                        96674.29             -   16619.9     -       97.0%   \n",
      "  3437      14                -                        96674.29             -   16625.2     -       94.0%   \n",
      "  3438      13                -                        96674.29             -   16630.3     -       98.2%   \n",
      "  3439      12                -                        96674.29             -   16635.3     -       95.3%   \n",
      "  3440      15                -                        96674.29             -   16640.3     -       94.2%   \n",
      "  3441      14                -                        96674.29             -   16644.8     -       97.0%   \n",
      "  3442      16                -                        96674.3              -   16651.0     -       98.7%   "
     ]
    },
    {
     "name": "stderr",
     "output_type": "stream",
     "text": [
      "┌ Warning: Only almost solved\n",
      "└ @ Juniper C:\\Users\\Оля\\.julia\\packages\\Juniper\\atNbZ\\src\\BnBTree.jl:89\n"
     ]
    },
    {
     "name": "stdout",
     "output_type": "stream",
     "text": [
      "\n",
      "  3443      15                -                        96674.3              -   16657.0     -       97.1%   \n",
      "  3444      14                -                        96674.3              -   16661.5     -       93.1%   \n",
      "  3445      12                -                        96674.3              -   16667.5     -       96.8%   \n",
      "  3446      12                -                        96674.3              -   16672.6     -       97.0%   \n",
      "  3447      15                -                        96674.3              -   16678.4     -       97.0%   \n",
      "  3448      13                -                        96674.3              -   16684.0     -       97.0%   \n",
      "  3449      13                -                        96674.31             -   16690.2     -       94.3%   \n",
      "  3450      13                -                        96674.31             -   16696.3     -       98.1%   \n",
      "  3451      14                -                        96674.31             -   16702.8     -       96.8%   \n",
      "  3452      12                -                        96674.31             -   16708.8     -       97.0%   \n",
      "  3453      13                -                        96674.31             -   16714.0     -       97.0%   \n",
      "  3454      13                -                        96674.31             -   16720.6     -       98.0%   \n",
      "  3455      13                -                        96674.31             -   16726.0     -       96.5%   \n",
      "  3456      15                -                        96674.31             -   16730.5     -       97.0%   \n",
      "  3457      14                -                        96674.32             -   16736.5     -       97.0%   \n",
      "  3458      14                -                        96674.32             -   16741.3     -       97.0%   \n",
      "  3459      14                -                        96674.32             -   16746.8     -       94.3%   \n",
      "  3460      13                -                        96674.32             -   16751.7     -       97.0%   \n",
      "  3461      14                -                        96674.32             -   16756.7     -       97.0%   \n",
      "  3462      13                -                        96674.32             -   16761.1     -       97.0%   \n",
      "  3463      12                -                        96674.32             -   16766.8     -       98.0%   \n",
      "  3464      14                -                        96674.32             -   16772.3     -       95.3%   \n",
      "  3465      12                -                        96674.32             -   16777.2     -       97.1%   \n",
      "  3466      14                -                        96674.32             -   16782.4     -       97.0%   \n",
      "  3467      14                -                        96674.32             -   16787.8     -       94.3%   \n",
      "  3468      15                -                        96674.33             -   16792.7     -       97.1%   \n",
      "  3469      14                -                        96674.33             -   16798.7     -       97.1%   \n",
      "  3470      14                -                        96674.33             -   16803.8     -       97.0%   \n",
      "  3471      13                -                        96674.33             -   16809.0     -       97.0%   \n",
      "  3472      14                -                        96674.33             -   16814.3     -       96.7%   \n",
      "  3473      13                -                        96674.33             -   16819.3     -       97.0%   \n",
      "  3474      13                -                        96674.33             -   16824.7     -       97.1%   \n",
      "  3475      13                -                        96674.33             -   16830.0     -       98.8%   \n",
      "  3476      18                -                        96674.33             -   16836.2     -       95.8%   "
     ]
    },
    {
     "name": "stderr",
     "output_type": "stream",
     "text": [
      "┌ Warning: Only almost solved\n",
      "└ @ Juniper C:\\Users\\Оля\\.julia\\packages\\Juniper\\atNbZ\\src\\BnBTree.jl:89\n"
     ]
    },
    {
     "name": "stdout",
     "output_type": "stream",
     "text": [
      "\n",
      "  3477      14                -                        96674.33             -   16840.6     -       94.3%   \n",
      "  3478      13                -                        96674.33             -   16846.2     -       97.1%   \n",
      "  3479      12                -                        96674.33             -   16850.5     -       97.0%   \n",
      "  3480      14                -                        96674.33             -   16855.5     -       93.8%   \n",
      "  3481      15                -                        96674.34             -   16859.7     -       97.0%   \n",
      "  3482      14                -                        96674.34             -   16865.3     -       93.5%   \n",
      "  3483      13                -                        96674.34             -   16870.4     -       97.0%   \n",
      "  3484      12                -                        96674.34             -   16875.2     -       97.1%   \n",
      "  3485      14                -                        96674.34             -   16881.6     -       97.9%   \n",
      "  3486      15                -                        96674.34             -   16887.1     -       96.7%   \n",
      "  3487      14                -                        96674.34             -   16892.5     -       94.3%   \n",
      "  3488      14                -                        96674.34             -   16898.7     -       97.0%   \n",
      "  3489      12                -                        96674.34             -   16903.4     -       97.1%   \n",
      "  3490      15                -                        96674.34             -   16908.7     -       98.1%   \n",
      "  3491      14                -                        96674.34             -   16914.5     -       95.9%   \n",
      "  3492      12                -                        96674.34             -   16918.9     -       97.1%   \n",
      "  3493      15                -                        96674.34             -   16923.9     -       94.7%   \n",
      "  3494      15                -                        96674.34             -   16929.7     -       95.6%   \n",
      "  3495      13                -                        96674.34             -   16934.4     -       97.1%   \n",
      "  3496      13                -                        96674.34             -   16939.4     -       97.1%   \n",
      "  3497      12                -                        96674.34             -   16944.2     -       94.4%   \n",
      "  3498      12                -                        96674.34             -   16948.8     -       94.8%   \n",
      "  3499      16                -                        96674.34             -   16953.6     -       97.1%   \n",
      "  3500      14                -                        96674.34             -   16959.1     -       96.8%   \n",
      "  3501      15                -                        96674.35             -   16965.2     -       97.1%   \n",
      "  3502      15                -                        96674.35             -   16969.6     -       97.1%   \n",
      "  3503      14                -                        96674.35             -   16975.7     -       93.6%   \n",
      "  3504      14                -                        96674.35             -   16981.7     -       93.9%   \n",
      "  3505      14                -                        96674.35             -   16986.7     -       96.6%   \n",
      "  3506      15                -                        96674.35             -   16993.6     -       97.1%   \n",
      "  3507      14                -                        96674.35             -   16999.7     -       97.1%   \n",
      "  3508      12                -                        96674.35             -   17006.3     -       97.9%   \n",
      "  3509      16                -                        96674.35             -   17013.5     -       95.3%   \n",
      "  3510      12                -                        96674.35             -   17019.3     -       96.7%   \n",
      "  3511      12                -                        96674.35             -   17025.5     -       97.1%   \n",
      "  3512      16                -                        96674.36             -   17031.1     -       96.4%   \n",
      "  3513      14                -                        96674.36             -   17036.5     -       91.9%   \n",
      "  3514      14                -                        96674.36             -   17042.1     -       97.1%   \n",
      "  3515      15                -                        96674.36             -   17046.7     -       91.5%   \n",
      "  3516      15                -                        96674.36             -   17050.5     -       97.9%   \n",
      "  3517      14                -                        96674.36             -   17056.3     -       96.3%   \n",
      "  3518      15                -                        96674.36             -   17061.5     -       99.1%   \n",
      "  3519      14                -                        96674.36             -   17065.9     -       97.1%   \n",
      "  3520      14                -                        96674.36             -   17071.5     -       97.1%   \n",
      "  3521      13                -                        96674.36             -   17077.2     -       97.1%   \n",
      "  3522      15                -                        96674.36             -   17082.6     -       97.1%   \n",
      "  3523      14                -                        96674.37             -   17088.1     -       93.8%   \n",
      "  3524      14                -                        96674.37             -   17092.7     -       93.9%   \n",
      "  3525      13                -                        96674.37             -   17097.9     -       97.1%   \n",
      "  3526      15                -                        96674.37             -   17102.6     -       93.7%   \n",
      "  3527      14                -                        96674.37             -   17108.3     -       94.0%   \n",
      "  3528      14                -                        96674.37             -   17113.6     -       94.4%   \n",
      "  3529      13                -                        96674.37             -   17119.0     -       97.6%   \n",
      "  3530      17                -                        96674.37             -   17124.0     -       95.5%   \n",
      "  3531      13                -                        96674.37             -   17129.2     -       97.1%   \n"
     ]
    },
    {
     "name": "stderr",
     "output_type": "stream",
     "text": [
      "┌ Warning: Only almost solved\n",
      "└ @ Juniper C:\\Users\\Оля\\.julia\\packages\\Juniper\\atNbZ\\src\\BnBTree.jl:89\n"
     ]
    },
    {
     "name": "stdout",
     "output_type": "stream",
     "text": [
      "  3532      15                -                        96674.38             -   17136.0     -       97.1%   \n",
      "  3533      14                -                        96674.38             -   17141.0     -       97.1%   \n",
      "  3534      16                -                        96674.38             -   17146.1     -       93.5%   \n",
      "  3535      15                -                        96674.38             -   17151.7     -       93.6%   \n",
      "  3536      15                -                        96674.38             -   17157.3     -       91.1%   \n",
      "  3537      13                -                        96674.38             -   17162.4     -       97.1%   \n",
      "  3538      12                -                        96674.38             -   17166.8     -       94.4%   \n",
      "  3539      15                -                        96674.38             -   17172.0     -       97.1%   \n",
      "  3540      14                -                        96674.38             -   17176.5     -       97.1%   \n",
      "  3541      14                -                        96674.38             -   17181.7     -       97.1%   \n",
      "  3542      14                -                        96674.38             -   17186.5     -       97.1%   \n",
      "  3543      13                -                        96674.38             -   17191.5     -       97.7%   \n"
     ]
    },
    {
     "name": "stderr",
     "output_type": "stream",
     "text": [
      "┌ Warning: Only almost solved\n",
      "└ @ Juniper C:\\Users\\Оля\\.julia\\packages\\Juniper\\atNbZ\\src\\BnBTree.jl:89\n"
     ]
    },
    {
     "name": "stdout",
     "output_type": "stream",
     "text": [
      "  3544      14                -                        96674.38             -   17197.2     -       95.8%   \n",
      "  3545      12                -                        96674.38             -   17202.6     -       98.2%   \n",
      "  3546      15                -                        96674.39             -   17208.2     -       96.2%   \n",
      "  3547      14                -                        96674.39             -   17212.3     -       97.1%   \n",
      "  3548      16                -                        96674.39             -   17217.7     -       94.4%   \n",
      "  3549      14                -                        96674.39             -   17222.8     -       97.1%   \n",
      "  3550      13                -                        96674.39             -   17227.2     -       98.3%   \n",
      "  3551      15                -                        96674.4              -   17232.7     -       96.1%   \n",
      "  3552      13                -                        96674.4              -   17237.3     -       97.1%   \n",
      "  3553      13                -                        96674.4              -   17242.0     -       97.1%   \n",
      "  3554      12                -                        96674.4              -   17246.9     -       94.3%   \n",
      "  3555      14                -                        96674.4              -   17251.8     -       96.8%   \n",
      "  3556      14                -                        96674.41             -   17257.4     -       97.1%   \n",
      "  3557      13                -                        96674.41             -   17262.9     -       97.1%   \n",
      "  3558      14                -                        96674.41             -   17268.4     -       93.6%   \n",
      "  3559      13                -                        96674.41             -   17273.7     -       97.1%   \n",
      "  3560      15                -                        96674.41             -   17280.6     -       92.2%   \n",
      "  3561      14                -                        96674.41             -   17286.3     -       97.2%   \n"
     ]
    },
    {
     "name": "stderr",
     "output_type": "stream",
     "text": [
      "┌ Warning: Only almost solved\n",
      "└ @ Juniper C:\\Users\\Оля\\.julia\\packages\\Juniper\\atNbZ\\src\\BnBTree.jl:89\n"
     ]
    },
    {
     "name": "stdout",
     "output_type": "stream",
     "text": [
      "  3562      16                -                        96674.42             -   17295.2     -       87.4%   \n",
      "  3563      15                -                        96674.42             -   17302.4     -       93.3%   \n",
      "  3564      15                -                        96674.42             -   17308.5     -       97.1%   \n",
      "  3565      15                -                        96674.42             -   17314.5     -       97.1%   \n",
      "  3566      12                -                        96674.42             -   17320.0     -       97.1%   \n",
      "  3567      15                -                        96674.43             -   17325.1     -       97.1%   \n",
      "  3568      13                -                        96674.43             -   17330.5     -       96.9%   \n",
      "  3569      14                -                        96674.43             -   17335.9     -       94.4%   \n",
      "  3570      13                -                        96674.43             -   17340.6     -       97.1%   \n",
      "  3571      15                -                        96674.43             -   17345.3     -       97.1%   \n",
      "  3572      13                -                        96674.43             -   17350.5     -       97.1%   \n",
      "  3573      13                -                        96674.43             -   17354.6     -       97.1%   \n",
      "  3574      12                -                        96674.43             -   17359.8     -       97.2%   \n",
      "  3575      13                -                        96674.43             -   17364.5     -       94.5%   \n",
      "  3576      12                -                        96674.43             -   17369.7     -       97.0%   \n",
      "  3577      13                -                        96674.44             -   17374.3     -       93.9%   \n",
      "  3578      14                -                        96674.44             -   17379.5     -       97.1%   \n",
      "  3579      13                -                        96674.44             -   17384.2     -       97.0%   \n",
      "  3580      13                -                        96674.44             -   17388.6     -       98.9%   \n",
      "  3581      12                -                        96674.44             -   17394.4     -       98.2%   \n",
      "  3582      17                -                        96674.44             -   17399.7     -       96.0%   \n",
      "  3583      15                -                        96674.44             -   17404.9     -       98.2%   \n",
      "  3584      12                -                        96674.44             -   17410.4     -       96.2%   \n",
      "  3585      15                -                        96674.45             -   17415.6     -       93.7%   \n",
      "  3586      15                -                        96674.45             -   17421.4     -       97.1%   \n",
      "  3587      14                -                        96674.45             -   17426.2     -       97.1%   \n",
      "  3588      13                -                        96674.45             -   17431.7     -       98.1%   \n",
      "  3589      15                -                        96674.45             -   17436.6     -       95.8%   \n",
      "  3590      14                -                        96674.45             -   17441.3     -       94.2%   \n",
      "  3591      14                -                        96674.45             -   17446.3     -       96.5%   \n",
      "  3592      17                -                        96674.46             -   17451.8     -       92.8%   \n",
      "  3593      15                -                        96674.46             -   17457.0     -       93.6%   \n",
      "  3594      14                -                        96674.46             -   17461.2     -       97.1%   \n",
      "  3595      14                -                        96674.46             -   17466.6     -       94.5%   \n",
      "  3596      14                -                        96674.46             -   17472.0     -       97.1%   \n",
      "  3597      13                -                        96674.46             -   17476.2     -       97.1%   \n",
      "  3598      12                -                        96674.46             -   17481.0     -       97.1%   \n",
      "  3599      14                -                        96674.46             -   17486.1     -       96.9%   \n"
     ]
    },
    {
     "name": "stderr",
     "output_type": "stream",
     "text": [
      "┌ Warning: Only almost solved\n",
      "└ @ Juniper C:\\Users\\Оля\\.julia\\packages\\Juniper\\atNbZ\\src\\BnBTree.jl:89\n"
     ]
    },
    {
     "name": "stdout",
     "output_type": "stream",
     "text": [
      "  3600      16                -                        96674.46             -   17492.6     -       94.2%   \n",
      "  3601      13                -                        96674.46             -   17497.7     -       94.1%   \n",
      "  3602      15                -                        96674.46             -   17503.6     -       93.1%   \n",
      "  3603      17                -                        96674.46             -   17509.4     -       98.3%   \n",
      "  3604      14                -                        96674.46             -   17514.9     -       95.0%   \n",
      "  3605      16                -                        96674.46             -   17520.9     -       97.2%   \n",
      "  3606      14                -                        96674.46             -   17525.9     -       97.1%   \n",
      "  3607      13                -                        96674.46             -   17531.3     -       94.5%   \n",
      "  3608      13                -                        96674.47             -   17535.7     -       97.1%   \n",
      "  3609      15                -                        96674.47             -   17540.9     -       97.2%   \n",
      "  3610      14                -                        96674.47             -   17546.0     -       98.3%   \n",
      "  3611      14                -                        96674.47             -   17553.1     -       97.3%   \n",
      "  3612      14                -                        96674.47             -   17558.0     -       95.6%   \n",
      "  3613      14                -                        96674.47             -   17562.9     -       93.6%   \n",
      "  3614      13                -                        96674.47             -   17568.1     -       97.1%   \n",
      "  3615      17                -                        96674.47             -   17573.7     -       93.5%   \n",
      "  3616      16                -                        96674.47             -   17578.6     -       92.0%   \n",
      "  3617      14                -                        96674.47             -   17584.4     -       95.5%   \n",
      "  3618      13                -                        96674.47             -   17589.7     -       97.2%   \n",
      "  3619      15                -                        96674.48             -   17595.6     -       94.5%   \n",
      "  3620      14                -                        96674.48             -   17602.7     -       98.0%   \n",
      "  3621      14                -                        96674.48             -   17608.9     -       96.9%   \n",
      "  3622      14                -                        96674.48             -   17614.3     -       97.1%   \n",
      "  3623      14                -                        96674.48             -   17621.4     -       97.0%   \n",
      "  3624      13                -                        96674.48             -   17626.6     -       97.2%   \n",
      "  3625      17                -                        96674.48             -   17632.6     -       97.2%   \n",
      "  3626      15                -                        96674.48             -   17637.7     -       94.5%   \n",
      "  3627      14                -                        96674.49             -   17643.0     -       97.1%   \n",
      "  3628      15                -                        96674.49             -   17647.9     -       97.2%   \n",
      "  3629      16                -                        96674.49             -   17653.1     -       98.3%   \n",
      "  3630      14                -                        96674.49             -   17658.1     -       96.5%   \n",
      "  3631      15                -                        96674.5              -   17663.8     -       96.7%   \n",
      "  3632      15                -                        96674.5              -   17669.0     -       97.1%   \n",
      "  3633      12                -                        96674.5              -   17673.1     -       97.2%   \n",
      "  3634      17                -                        96674.5              -   17679.0     -       91.7%   \n",
      "  3635      15                -                        96674.5              -   17683.5     -       94.5%   \n",
      "  3636      14                -                        96674.5              -   17688.0     -       97.2%   \n",
      "  3637      15                -                        96674.5              -   17692.7     -       96.9%   \n",
      "  3638      14                -                        96674.5              -   17698.5     -       97.2%   \n",
      "  3639      13                -                        96674.5              -   17703.6     -       97.2%   \n",
      "  3640      12                -                        96674.5              -   17708.4     -       98.6%   \n",
      "  3641      14                -                        96674.51             -   17713.3     -       94.6%   \n",
      "  3642      13                -                        96674.51             -   17717.9     -       97.2%   \n",
      "  3643      16                -                        96674.51             -   17722.7     -       94.3%   \n",
      "  3644      14                -                        96674.51             -   17728.5     -       97.2%   \n",
      "  3645      14                -                        96674.51             -   17732.5     -       98.0%   \n",
      "  3646      13                -                        96674.51             -   17738.0     -       98.8%   \n",
      "  3647      15                -                        96674.51             -   17744.2     -       98.4%   \n",
      "  3648      13                -                        96674.51             -   17749.3     -       96.3%   \n",
      "  3649      12                -                        96674.51             -   17754.5     -       97.2%   \n",
      "  3650      14                -                        96674.52             -   17759.2     -       98.0%   \n",
      "  3651      13                -                        96674.52             -   17764.2     -       92.6%   \n",
      "  3652      15                -                        96674.52             -   17768.8     -       92.6%   \n",
      "  3653      14                -                        96674.52             -   17774.7     -       97.0%   \n",
      "  3654      14                -                        96674.52             -   17779.7     -       97.1%   \n",
      "  3655      15                -                        96674.52             -   17784.7     -       93.3%   \n",
      "  3656      15                -                        96674.52             -   17789.8     -       97.2%   \n",
      "  3657      14                -                        96674.52             -   17795.4     -       97.1%   \n",
      "  3658      14                -                        96674.52             -   17799.9     -       97.2%   \n",
      "  3659      12                -                        96674.53             -   17804.1     -       97.2%   \n",
      "  3660      12                -                        96674.53             -   17808.7     -       97.2%   \n",
      "  3661      14                -                        96674.53             -   17814.1     -       96.9%   \n",
      "  3662      14                -                        96674.53             -   17819.7     -       98.3%   \n",
      "  3663      13                -                        96674.53             -   17824.4     -       95.7%   \n",
      "  3664      13                -                        96674.53             -   17830.2     -       98.2%   \n",
      "  3665      13                -                        96674.53             -   17834.3     -       95.5%   \n",
      "  3666      15                -                        96674.54             -   17840.4     -       94.0%   \n",
      "  3667      15                -                        96674.54             -   17845.4     -       94.6%   \n",
      "  3668      13                -                        96674.54             -   17849.9     -       97.2%   \n",
      "  3669      13                -                        96674.54             -   17854.7     -       97.2%   \n",
      "  3670      13                -                        96674.54             -   17860.7     -       98.4%   \n",
      "  3671      12                -                        96674.54             -   17865.2     -       97.2%   \n",
      "  3672      16                -                        96674.54             -   17871.1     -       93.2%   \n",
      "  3673      14                -                        96674.54             -   17876.9     -       96.9%   \n",
      "  3674      15                -                        96674.55             -   17884.7     -       97.2%   \n",
      "  3675      15                -                        96674.55             -   17892.9     -       97.2%   \n",
      "  3676      14                -                        96674.55             -   17899.3     -       97.2%   \n",
      "  3677      14                -                        96674.55             -   17907.9     -       93.6%   \n",
      "  3678      15                -                        96674.55             -   17915.7     -       94.6%   \n",
      "  3679      14                -                        96674.55             -   17923.5     -       97.2%   \n",
      "  3680      15                -                        96674.55             -   17930.7     -       97.2%   \n",
      "  3681      13                -                        96674.55             -   17937.4     -       97.2%   \n",
      "  3682      13                -                        96674.55             -   17943.1     -       97.9%   \n",
      "  3683      14                -                        96674.55             -   17948.6     -       96.2%   \n",
      "  3684      14                -                        96674.55             -   17955.0     -       98.4%   \n",
      "  3685      13                -                        96674.55             -   17961.3     -       95.6%   \n",
      "  3686      13                -                        96674.55             -   17966.9     -       97.2%   \n",
      "  3687      13                -                        96674.55             -   17971.7     -       97.2%   \n",
      "  3688      15                -                        96674.55             -   17976.0     -       94.7%   \n",
      "  3689      13                -                        96674.55             -   17980.7     -       97.2%   \n",
      "  3690      13                -                        96674.55             -   17985.9     -       98.3%   \n",
      "  3691      15                -                        96674.56             -   17991.6     -       93.9%   \n",
      "  3692      14                -                        96674.56             -   17996.6     -       97.2%   \n",
      "  3693      15                -                        96674.56             -   18002.4     -       97.2%   \n",
      "  3694      12                -                        96674.56             -   18006.5     -       94.6%   \n",
      "  3695      14                -                        96674.56             -   18011.9     -       98.2%   \n",
      "  3696      14                -                        96674.56             -   18016.6     -       96.7%   \n",
      "  3697      14                -                        96674.56             -   18022.2     -       93.1%   \n",
      "  3698      13                -                        96674.56             -   18027.4     -       93.3%   \n",
      "  3699      13                -                        96674.57             -   18032.1     -       97.2%   \n",
      "  3700      15                -                        96674.58             -   18037.3     -       96.8%   \n",
      "  3701      13                -                        96674.58             -   18042.1     -       93.8%   \n",
      "  3702      13                -                        96674.58             -   18047.5     -       97.2%   \n",
      "  3703      15                -                        96674.58             -   18052.3     -       94.2%   \n",
      "  3704      17                -                        96674.58             -   18056.7     -       93.4%   \n",
      "  3705      14                -                        96674.58             -   18062.2     -       93.9%   \n",
      "  3706      13                -                        96674.58             -   18066.9     -       94.7%   \n",
      "  3707      12                -                        96674.58             -   18071.7     -       97.2%   \n",
      "  3708      14                -                        96674.59             -   18076.4     -       97.2%   \n",
      "  3709      12                -                        96674.59             -   18082.4     -       94.6%   \n",
      "  3710      15                -                        96674.59             -   18087.7     -       97.2%   \n",
      "  3711      14                -                        96674.59             -   18092.3     -       96.7%   \n",
      "  3712      14                -                        96674.59             -   18099.0     -       93.5%   \n",
      "  3713      13                -                        96674.6              -   18103.8     -       97.2%   \n",
      "  3714      14                -                        96674.6              -   18108.4     -       97.2%   \n",
      "  3715      14                -                        96674.6              -   18113.8     -       97.2%   \n",
      "  3716      17                -                        96674.61             -   18119.2     -       97.2%   \n",
      "  3717      15                -                        96674.61             -   18124.3     -       93.9%   \n",
      "  3718      14                -                        96674.61             -   18129.3     -       97.2%   \n",
      "  3719      15                -                        96674.61             -   18134.4     -       97.3%   \n",
      "  3720      16                -                        96674.61             -   18140.1     -       97.2%   \n",
      "  3721      14                -                        96674.61             -   18145.8     -       97.2%   \n",
      "  3722      14                -                        96674.61             -   18151.3     -       94.7%   \n",
      "  3723      13                -                        96674.61             -   18156.3     -       97.2%   \n",
      "  3724      15                -                        96674.62             -   18162.2     -       98.9%   \n",
      "  3725      14                -                        96674.62             -   18166.5     -       96.5%   \n",
      "  3726      16                -                        96674.62             -   18171.5     -       97.2%   \n",
      "  3727      13                -                        96674.62             -   18177.5     -       97.2%   \n",
      "  3728      14                -                        96674.62             -   18183.5     -       97.2%   \n",
      "  3729      12                -                        96674.62             -   18188.5     -       98.3%   \n",
      "  3730      14                -                        96674.62             -   18195.4     -       96.6%   \n",
      "  3731      19                -                        96674.63             -   18201.5     -       94.5%   \n",
      "  3732      13                -                        96674.63             -   18207.4     -       97.2%   \n",
      "  3733      15                -                        96674.63             -   18213.9     -       94.7%   \n",
      "  3734      14                -                        96674.63             -   18220.0     -       97.3%   \n",
      "  3735      13                -                        96674.63             -   18225.9     -       97.2%   \n",
      "  3736      12                -                        96674.63             -   18230.7     -       97.2%   \n",
      "  3737      19                -                        96674.63             -   18235.8     -       94.0%   \n",
      "  3738      14                -                        96674.63             -   18241.0     -       94.0%   \n",
      "  3739      13                -                        96674.63             -   18246.6     -       97.0%   \n",
      "  3740      15                -                        96674.64             -   18253.7     -       94.6%   "
     ]
    },
    {
     "name": "stderr",
     "output_type": "stream",
     "text": [
      "┌ Warning: Only almost solved\n",
      "└ @ Juniper C:\\Users\\Оля\\.julia\\packages\\Juniper\\atNbZ\\src\\BnBTree.jl:89\n"
     ]
    },
    {
     "name": "stdout",
     "output_type": "stream",
     "text": [
      "\n",
      "  3741      14                -                        96674.64             -   18258.3     -       94.7%   \n",
      "  3742      13                -                        96674.65             -   18262.8     -       98.3%   \n",
      "  3743      16                -                        96674.65             -   18266.8     -       96.3%   \n",
      "  3744      15                -                        96674.65             -   18272.7     -       93.2%   \n",
      "  3745      13                -                        96674.65             -   18277.0     -       97.2%   \n",
      "  3746      13                -                        96674.65             -   18282.6     -       97.3%   \n",
      "  3747      15                -                        96674.65             -   18288.1     -       91.9%   \n",
      "  3748      16                -                        96674.65             -   18293.7     -       98.4%   \n",
      "  3749      14                -                        96674.65             -   18299.1     -       95.4%   \n",
      "  3750      15                -                        96674.66             -   18304.9     -       96.9%   \n",
      "  3751      14                -                        96674.66             -   18309.6     -       98.8%   \n",
      "  3752      13                -                        96674.66             -   18313.8     -       96.1%   \n",
      "  3753      11                -                        96674.66             -   18319.7     -       97.2%   \n",
      "  3754      15                -                        96674.66             -   18324.5     -       93.9%   \n",
      "  3755      13                -                        96674.66             -   18329.6     -       93.9%   \n",
      "  3756      15                -                        96674.67             -   18335.4     -       92.7%   \n",
      "  3757      15                -                        96674.67             -   18340.5     -       94.2%   \n",
      "  3758      14                -                        96674.67             -   18345.7     -       97.3%   \n",
      "  3759      12                -                        96674.67             -   18351.2     -       97.3%   \n",
      "  3760      15                -                        96674.67             -   18355.8     -       94.7%   \n",
      "  3761      16                -                        96674.67             -   18361.1     -       97.2%   \n",
      "  3762      17                -                        96674.68             -   18366.9     -       97.1%   \n",
      "  3763      15                -                        96674.68             -   18372.0     -       97.2%   \n",
      "  3764      13                -                        96674.68             -   18376.5     -       97.3%   \n",
      "  3765      13                -                        96674.68             -   18382.3     -       98.5%   \n",
      "  3766      14                -                        96674.68             -   18387.8     -       95.7%   \n",
      "  3767      14                -                        96674.68             -   18392.9     -       97.3%   \n",
      "  3768      15                -                        96674.69             -   18398.3     -       98.4%   \n",
      "  3769      14                -                        96674.69             -   18403.8     -       95.4%   \n",
      "  3770      14                -                        96674.69             -   18409.1     -       98.2%   \n",
      "  3771      14                -                        96674.69             -   18415.7     -       96.0%   \n",
      "  3772      14                -                        96674.69             -   18420.5     -       97.2%   \n",
      "  3773      14                -                        96674.7              -   18425.7     -       93.9%   \n",
      "  3774      14                -                        96674.7              -   18430.8     -       94.3%   \n",
      "  3775      13                -                        96674.7              -   18436.1     -       94.7%   \n",
      "  3776      13                -                        96674.7              -   18441.4     -       97.3%   \n",
      "  3777      11                -                        96674.7              -   18445.7     -       97.3%   \n",
      "  3778      14                -                        96674.71             -   18451.4     -       98.3%   \n",
      "  3779      12                -                        96674.71             -   18456.5     -       95.9%   \n",
      "  3780      11                -                        96674.71             -   18461.1     -       94.7%   \n",
      "  3781      15                -                        96674.72             -   18466.7     -       97.2%   \n",
      "  3782      15                -                        96674.72             -   18472.0     -       97.2%   \n",
      "  3783      16                -                        96674.72             -   18477.1     -       93.6%   \n",
      "  3784      15                -                        96674.72             -   18483.7     -       97.3%   \n",
      "  3785      15                -                        96674.72             -   18489.2     -       93.5%   \n",
      "  3786      15                -                        96674.72             -   18495.4     -       93.1%   \n",
      "  3787      14                -                        96674.72             -   18501.3     -       97.3%   \n",
      "  3788      14                -                        96674.72             -   18506.1     -       94.8%   \n",
      "  3789      14                -                        96674.73             -   18512.9     -       94.3%   \n",
      "  3790      14                -                        96674.73             -   18518.9     -       97.3%   \n",
      "  3791      13                -                        96674.73             -   18524.7     -       98.3%   \n",
      "  3792      13                -                        96674.73             -   18530.3     -       95.8%   \n",
      "  3793      15                -                        96674.73             -   18535.5     -       94.5%   \n",
      "  3794      14                -                        96674.73             -   18540.8     -       97.3%   \n",
      "  3795      13                -                        96674.73             -   18546.3     -       97.3%   \n",
      "  3796      16                -                        96674.73             -   18550.8     -       97.3%   \n",
      "  3797      14                -                        96674.73             -   18555.2     -       97.3%   \n",
      "  3798      15                -                        96674.74             -   18560.9     -       97.3%   \n",
      "  3799      13                -                        96674.74             -   18565.7     -       97.3%   \n",
      "  3800      13                -                        96674.74             -   18570.3     -       97.3%   \n",
      "  3801      12                -                        96674.74             -   18575.2     -       97.3%   \n",
      "  3802      12                -                        96674.75             -   18580.7     -       98.1%   \n",
      "  3803      15                -                        96674.75             -   18584.9     -       96.3%   \n",
      "  3804      14                -                        96674.75             -   18590.2     -       94.8%   \n",
      "  3805      14                -                        96674.75             -   18595.8     -       98.8%   \n",
      "  3806      16                -                        96674.76             -   18601.4     -       96.1%   \n",
      "  3807      15                -                        96674.76             -   18606.6     -       97.3%   \n",
      "  3808      13                -                        96674.76             -   18611.9     -       98.4%   \n",
      "  3809      17                -                        96674.76             -   18617.9     -       92.9%   \n",
      "  3810      13                -                        96674.76             -   18623.6     -       94.8%   \n",
      "  3811      15                -                        96674.76             -   18628.8     -       97.3%   \n",
      "  3812      15                -                        96674.76             -   18634.1     -       97.3%   \n",
      "  3813      15                -                        96674.77             -   18639.5     -       97.3%   \n"
     ]
    },
    {
     "name": "stderr",
     "output_type": "stream",
     "text": [
      "┌ Warning: Only almost solved\n",
      "└ @ Juniper C:\\Users\\Оля\\.julia\\packages\\Juniper\\atNbZ\\src\\BnBTree.jl:89\n"
     ]
    },
    {
     "name": "stdout",
     "output_type": "stream",
     "text": [
      "  3814      16                -                        96674.77             -   18646.3     -       97.0%   "
     ]
    },
    {
     "name": "stderr",
     "output_type": "stream",
     "text": [
      "┌ Warning: Only almost solved\n",
      "└ @ Juniper C:\\Users\\Оля\\.julia\\packages\\Juniper\\atNbZ\\src\\BnBTree.jl:89\n"
     ]
    },
    {
     "name": "stdout",
     "output_type": "stream",
     "text": [
      "\n"
     ]
    },
    {
     "name": "stderr",
     "output_type": "stream",
     "text": [
      "┌ Warning: Only almost solved\n",
      "└ @ Juniper C:\\Users\\Оля\\.julia\\packages\\Juniper\\atNbZ\\src\\BnBTree.jl:89\n"
     ]
    },
    {
     "name": "stdout",
     "output_type": "stream",
     "text": [
      "  3815      16                -                        96674.77             -   18651.9     -       91.2%   \n",
      "  3816      15                -                        96674.77             -   18657.7     -       97.1%   \n",
      "  3817      14                -                        96674.77             -   18662.6     -       93.8%   \n",
      "  3818      15                -                        96674.77             -   18667.9     -       97.1%   \n",
      "  3819      15                -                        96674.77             -   18673.2     -       94.5%   \n",
      "  3820      16                -                        96674.78             -   18678.6     -       97.3%   \n",
      "  3821      15                -                        96674.78             -   18683.9     -       97.3%   \n",
      "  3822      14                -                        96674.78             -   18689.2     -       97.3%   \n",
      "  3823      13                -                        96674.78             -   18694.1     -       97.3%   \n",
      "  3824      13                -                        96674.78             -   18698.9     -       93.1%   \n",
      "  3825      12                -                        96674.78             -   18704.3     -       94.8%   \n",
      "  3826      16                -                        96674.79             -   18709.0     -       97.3%   \n",
      "  3827      15                -                        96674.79             -   18714.8     -       95.3%   \n",
      "  3828      15                -                        96674.79             -   18720.1     -       94.4%   \n",
      "  3829      13                -                        96674.79             -   18725.1     -       97.3%   \n",
      "  3830      13                -                        96674.79             -   18730.3     -       97.3%   \n",
      "  3831      16                -                        96674.79             -   18736.4     -       97.0%   "
     ]
    },
    {
     "name": "stderr",
     "output_type": "stream",
     "text": [
      "┌ Warning: Only almost solved\n",
      "└ @ Juniper C:\\Users\\Оля\\.julia\\packages\\Juniper\\atNbZ\\src\\BnBTree.jl:89\n"
     ]
    },
    {
     "name": "stdout",
     "output_type": "stream",
     "text": [
      "\n",
      "  3832      14                -                        96674.79             -   18742.1     -       97.1%   \n",
      "  3833      14                -                        96674.79             -   18747.2     -       97.1%   \n",
      "  3834      13                -                        96674.8              -   18753.1     -       98.1%   \n",
      "  3835      13                -                        96674.8              -   18758.1     -       95.6%   \n",
      "  3836      17                -                        96674.8              -   18763.4     -       97.3%   \n",
      "  3837      16                -                        96674.8              -   18768.9     -       93.6%   \n",
      "  3838      17                -                        96674.81             -   18774.4     -       99.2%   \n",
      "  3839      14                -                        96674.81             -   18780.9     -       97.3%   \n",
      "  3840      15                -                        96674.81             -   18786.5     -       97.4%   \n",
      "  3841      18                -                        96674.81             -   18793.0     -       97.3%   \n",
      "  3842      14                -                        96674.81             -   18799.2     -       93.9%   \n",
      "  3843      13                -                        96674.82             -   18809.6     -       97.3%   \n",
      "  3844      15                -                        96674.82             -   18816.6     -       97.3%   \n",
      "  3845      15                -                        96674.82             -   18822.2     -       94.8%   \n",
      "  3846      13                -                        96674.82             -   18828.4     -       97.3%   \n",
      "  3847      15                -                        96674.82             -   18836.3     -       94.3%   "
     ]
    },
    {
     "name": "stderr",
     "output_type": "stream",
     "text": [
      "┌ Warning: Only almost solved\n",
      "└ @ Juniper C:\\Users\\Оля\\.julia\\packages\\Juniper\\atNbZ\\src\\BnBTree.jl:89\n"
     ]
    },
    {
     "name": "stdout",
     "output_type": "stream",
     "text": [
      "\n",
      "  3848      14                -                        96674.82             -   18841.7     -       97.3%   \n",
      "  3849      12                -                        96674.82             -   18845.7     -       97.3%   \n",
      "  3850      15                -                        96674.82             -   18851.4     -       94.9%   \n",
      "  3851      15                -                        96674.83             -   18856.8     -       94.6%   \n",
      "  3852      14                -                        96674.83             -   18865.3     -       97.2%   \n",
      "  3853      13                -                        96674.83             -   18869.7     -       97.3%   \n",
      "  3854      16                -                        96674.83             -   18875.3     -       97.3%   \n",
      "  3855      15                -                        96674.84             -   18881.1     -       96.6%   \n",
      "  3856      11                -                        96674.84             -   18885.3     -       94.8%   \n",
      "  3857      14                -                        96674.84             -   18889.8     -       97.3%   \n",
      "  3858      14                -                        96674.84             -   18895.4     -       96.7%   \n",
      "  3859      13                -                        96674.84             -   18900.9     -       97.3%   \n",
      "  3860      13                -                        96674.84             -   18905.2     -       97.3%   \n",
      "  3861      16                -                        96674.85             -   18910.1     -       94.9%   \n",
      "  3862      15                -                        96674.85             -   18915.3     -       97.3%   \n",
      "  3863      13                -                        96674.85             -   18919.9     -       97.3%   \n",
      "  3864      11                -                        96674.85             -   18925.2     -       97.3%   \n",
      "  3865      15                -                        96674.85             -   18930.7     -       94.2%   \n",
      "  3866      15                -                        96674.85             -   18935.6     -       94.9%   \n",
      "  3867      14                -                        96674.85             -   18941.3     -       97.3%   \n",
      "  3868      12                -                        96674.85             -   18945.9     -       97.4%   \n",
      "  3869      13                -                        96674.85             -   18950.4     -       97.4%   \n",
      "  3870      16                -                        96674.86             -   18955.8     -       97.3%   \n",
      "  3871      14                -                        96674.86             -   18961.1     -       97.3%   \n",
      "  3872      13                -                        96674.86             -   18965.4     -       97.4%   \n",
      "  3873      13                -                        96674.87             -   18969.7     -       94.9%   \n",
      "  3874      13                -                        96674.87             -   18974.3     -       98.4%   \n",
      "  3875      15                -                        96674.87             -   18980.4     -       96.2%   \n",
      "  3876      15                -                        96674.87             -   18985.4     -       98.1%   \n",
      "  3877      15                -                        96674.87             -   18991.0     -       97.1%   \n",
      "  3878      14                -                        96674.87             -   18996.3     -       97.3%   \n",
      "  3879      13                -                        96674.87             -   19002.6     -       97.9%   \n",
      "  3880      14                -                        96674.87             -   19008.2     -       96.1%   \n",
      "  3881      13                -                        96674.87             -   19013.4     -       97.4%   \n",
      "  3882      12                -                        96674.87             -   19018.0     -       97.4%   \n",
      "  3883      16                -                        96674.88             -   19024.6     -       96.6%   \n",
      "  3884      15                -                        96674.88             -   19029.9     -       94.3%   \n",
      "  3885      17                -                        96674.88             -   19035.8     -       93.0%   \n",
      "  3886      14                -                        96674.88             -   19042.0     -       97.4%   \n",
      "  3887      13                -                        96674.88             -   19047.6     -       98.5%   \n",
      "  3888      15                -                        96674.89             -   19053.3     -       96.0%   \n"
     ]
    },
    {
     "name": "stderr",
     "output_type": "stream",
     "text": [
      "┌ Warning: Only almost solved\n",
      "└ @ Juniper C:\\Users\\Оля\\.julia\\packages\\Juniper\\atNbZ\\src\\BnBTree.jl:89\n"
     ]
    },
    {
     "name": "stdout",
     "output_type": "stream",
     "text": [
      "  3889      18                -                        96674.89             -   19060.4     -       85.7%   "
     ]
    },
    {
     "name": "stderr",
     "output_type": "stream",
     "text": [
      "┌ Warning: Only almost solved\n",
      "└ @ Juniper C:\\Users\\Оля\\.julia\\packages\\Juniper\\atNbZ\\src\\BnBTree.jl:89\n"
     ]
    },
    {
     "name": "stdout",
     "output_type": "stream",
     "text": [
      "\n",
      "  3890      14                -                        96674.89             -   19065.5     -       94.9%   \n",
      "  3891      13                -                        96674.89             -   19071.5     -       98.1%   \n",
      "  3892      13                -                        96674.89             -   19077.6     -       96.3%   \n",
      "  3893      18                -                        96674.89             -   19083.6     -       94.2%   \n",
      "  3894      15                -                        96674.89             -   19090.9     -       97.3%   \n",
      "  3895      14                -                        96674.89             -   19097.2     -       97.3%   \n",
      "  3896      16                -                        96674.89             -   19104.7     -       97.4%   \n",
      "  3897      14                -                        96674.89             -   19110.1     -       97.4%   \n",
      "  3898      14                -                        96674.89             -   19116.1     -       97.4%   \n",
      "  3899      14                -                        96674.9              -   19122.8     -       94.9%   \n",
      "  3900      16                -                        96674.9              -   19128.4     -       97.3%   \n",
      "  3901      13                -                        96674.9              -   19133.3     -       97.4%   \n",
      "  3902      15                -                        96674.9              -   19138.9     -       97.4%   \n",
      "  3903      15                -                        96674.9              -   19143.8     -       94.9%   \n",
      "  3904      14                -                        96674.9              -   19148.5     -       97.4%   \n",
      "  3905      13                -                        96674.9              -   19153.8     -       96.7%   \n",
      "  3906      15                -                        96674.9              -   19158.6     -       97.4%   \n",
      "  3907      15                -                        96674.9              -   19163.7     -       97.4%   \n",
      "  3908      13                -                        96674.9              -   19168.8     -       97.4%   \n",
      "  3909      13                -                        96674.9              -   19174.3     -       99.3%   \n",
      "  3910      15                -                        96674.9              -   19180.0     -       95.9%   \n",
      "  3911      14                -                        96674.9              -   19185.5     -       97.9%   \n",
      "  3912      15                -                        96674.9              -   19191.0     -       95.7%   \n",
      "  3913      14                -                        96674.9              -   19196.7     -       99.4%   \n",
      "  3914      14                -                        96674.91             -   19202.0     -       94.1%   \n",
      "  3915      14                -                        96674.91             -   19207.2     -       97.4%   \n",
      "  3916      14                -                        96674.91             -   19212.4     -       99.2%   \n",
      "  3917      15                -                        96674.91             -   19218.3     -       97.4%   \n",
      "  3918      15                -                        96674.91             -   19224.7     -       93.5%   \n",
      "  3919      14                -                        96674.91             -   19230.0     -       94.5%   \n",
      "  3920      14                -                        96674.91             -   19234.7     -       97.4%   \n",
      "  3921      13                -                        96674.91             -   19238.7     -       95.0%   \n",
      "  3922      13                -                        96674.91             -   19243.5     -       97.3%   \n",
      "  3923      13                -                        96674.91             -   19249.0     -       97.4%   \n",
      "  3924      16                -                        96674.91             -   19254.3     -       97.4%   \n",
      "  3925      15                -                        96674.91             -   19259.2     -       95.6%   \n",
      "  3926      14                -                        96674.91             -   19265.3     -       94.3%   \n",
      "  3927      14                -                        96674.91             -   19272.4     -       97.4%   \n",
      "  3928      14                -                        96674.91             -   19279.0     -       97.4%   \n",
      "  3929      14                -                        96674.91             -   19283.7     -       92.8%   \n",
      "  3930      15                -                        96674.91             -   19289.3     -       95.0%   \n",
      "  3931      15                -                        96674.91             -   19296.7     -       94.4%   \n",
      "  3932      15                -                        96674.91             -   19302.1     -       94.1%   \n",
      "  3933      14                -                        96674.91             -   19307.0     -       97.4%   \n",
      "  3934      14                -                        96674.91             -   19314.3     -       97.4%   \n",
      "  3935      14                -                        96674.91             -   19320.1     -       97.4%   \n",
      "  3936      13                -                        96674.91             -   19324.1     -       97.4%   \n",
      "  3937      18                -                        96674.91             -   19330.8     -       93.6%   \n",
      "  3938      16                -                        96674.91             -   19336.0     -       95.9%   \n",
      "  3939      12                -                        96674.91             -   19341.2     -       95.0%   \n",
      "  3940      15                -                        96674.91             -   19346.9     -       97.4%   \n",
      "  3941      14                -                        96674.91             -   19352.7     -       97.4%   \n",
      "  3942      14                -                        96674.92             -   19358.2     -       97.3%   \n",
      "  3943      16                -                        96674.92             -   19363.7     -       94.9%   \n",
      "  3944      16                -                        96674.92             -   19368.0     -       94.4%   \n",
      "  3945      12                -                        96674.92             -   19372.5     -       97.4%   \n",
      "  3946      12                -                        96674.92             -   19378.7     -       95.4%   \n",
      "  3947      16                -                        96674.92             -   19384.8     -       97.4%   \n",
      "  3948      16                -                        96674.92             -   19391.7     -       97.4%   \n",
      "  3949      13                -                        96674.92             -   19397.5     -       93.9%   \n",
      "  3950      15                -                        96674.92             -   19402.8     -       97.4%   \n",
      "  3951      14                -                        96674.92             -   19410.2     -       98.3%   \n",
      "  3952      14                -                        96674.92             -   19415.3     -       97.0%   \n",
      "  3953      13                -                        96674.93             -   19422.4     -       98.4%   \n",
      "  3954      12                -                        96674.93             -   19427.4     -       96.2%   \n",
      "  3955      13                -                        96674.93             -   19432.3     -       93.9%   \n",
      "  3956      14                -                        96674.93             -   19437.4     -       92.6%   \n",
      "  3957      18                -                        96674.94             -   19443.7     -       93.7%   \n",
      "  3958      17                -                        96674.94             -   19449.2     -       95.0%   \n",
      "  3959      16                -                        96674.94             -   19453.6     -       96.5%   \n",
      "  3960      16                -                        96674.94             -   19459.3     -       97.1%   \n",
      "  3961      15                -                        96674.94             -   19463.8     -       94.6%   \n",
      "  3962      13                -                        96674.94             -   19468.2     -       97.4%   \n",
      "  3963      13                -                        96674.94             -   19473.7     -       98.1%   \n",
      "  3964      16                -                        96674.94             -   19478.7     -       92.4%   \n",
      "  3965      15                -                        96674.94             -   19483.9     -       97.1%   \n",
      "  3966      15                -                        96674.94             -   19489.7     -       91.8%   \n",
      "  3967      14                -                        96674.94             -   19495.0     -       98.0%   \n",
      "  3968      17                -                        96674.94             -   19501.3     -       96.0%   \n",
      "  3968      15                -                        96674.94             -   19506.7     -       97.5%   \n",
      "  3969      15                -                        96674.94             -   19511.1     -       97.4%   \n",
      "  3970      14                -                        96674.94             -   19516.7     -       99.1%   \n",
      "  3971      14                -                        96674.94             -   19522.0     -       93.4%   \n",
      "  3972      14                -                        96674.95             -   19526.8     -       97.4%   \n",
      "  3973      14                -                        96674.95             -   19531.8     -       97.2%   \n",
      "  3974      15                -                        96674.95             -   19537.9     -       97.4%   \n",
      "  3975      14                -                        96674.95             -   19543.7     -       96.5%   \n",
      "  3976      14                -                        96674.95             -   19548.8     -       94.5%   "
     ]
    },
    {
     "name": "stderr",
     "output_type": "stream",
     "text": [
      "┌ Warning: Only almost solved\n",
      "└ @ Juniper C:\\Users\\Оля\\.julia\\packages\\Juniper\\atNbZ\\src\\BnBTree.jl:89\n"
     ]
    },
    {
     "name": "stdout",
     "output_type": "stream",
     "text": [
      "\n",
      "  3977      13                -                        96674.95             -   19554.4     -       97.3%   \n",
      "  3978      12                -                        96674.96             -   19558.5     -       98.4%   \n",
      "  3979      15                -                        96674.96             -   19563.7     -       96.0%   \n",
      "  3980      14                -                        96674.96             -   19568.3     -       97.3%   \n",
      "  3981      12                -                        96674.96             -   19573.5     -       97.4%   \n",
      "  3982      15                -                        96674.96             -   19578.7     -       97.3%   \n",
      "  3983      14                -                        96674.96             -   19584.6     -       98.8%   \n",
      "  3984      12                -                        96674.96             -   19589.3     -       96.1%   \n",
      "  3985      13                -                        96674.96             -   19593.4     -       97.4%   \n",
      "  3986      19                -                        96674.97             -   19600.4     -       98.7%   "
     ]
    },
    {
     "name": "stderr",
     "output_type": "stream",
     "text": [
      "┌ Warning: Only almost solved\n",
      "└ @ Juniper C:\\Users\\Оля\\.julia\\packages\\Juniper\\atNbZ\\src\\BnBTree.jl:89\n"
     ]
    },
    {
     "name": "stdout",
     "output_type": "stream",
     "text": [
      "\n",
      "  3987      16                -                        96674.97             -   19605.3     -       97.4%   \n",
      "  3988      15                -                        96674.97             -   19610.5     -       97.4%   \n",
      "  3989      17                -                        96674.97             -   19616.4     -       97.4%   \n",
      "  3990      17                -                        96674.97             -   19621.6     -       97.4%   \n",
      "  3991      15                -                        96674.97             -   19626.6     -       97.4%   \n",
      "  3992      7                 -                        96674.97             -   19631.8     -       95.0%   \n",
      "  3993      14                -                        96674.97             -   19637.1     -       97.4%   \n",
      "  3994      14                -                        96674.97             -   19642.3     -       98.4%   \n",
      "  3995      13                -                        96674.98             -   19647.9     -       97.4%   \n",
      "  3996      18                -                        96674.98             -   19652.1     -       93.5%   \n",
      "  3997      14                -                        96674.98             -   19657.7     -       97.3%   \n",
      "  3998      13                -                        96674.98             -   19663.7     -       97.4%   \n",
      "  3999      15                -                        96674.99             -   19668.5     -       97.4%   \n",
      "  4000      15                -                        96674.99             -   19674.2     -       97.2%   \n",
      "  4001      17                -                        96674.99             -   19681.5     -       94.6%   \n",
      "  4002      16                -                        96674.99             -   19687.5     -       97.4%   \n",
      "  4003      14                -                        96674.99             -   19693.2     -       95.0%   \n",
      "  4004      14                -                        96674.99             -   19699.3     -       97.4%   \n",
      "  4005      13                -                        96674.99             -   19705.8     -       97.4%   \n",
      "  4006      13                -                        96674.99             -   19712.1     -       97.4%   \n",
      "  4007      16                -                        96674.99             -   19718.5     -       97.4%   \n",
      "  4008      15                -                        96674.99             -   19724.4     -       97.4%   \n",
      "  4009      14                -                        96674.99             -   19730.4     -       97.2%   \n",
      "  4010      16                -                        96674.99             -   19735.7     -       94.5%   \n",
      "  4011      16                -                        96674.99             -   19741.1     -       94.3%   \n",
      "  4012      14                -                        96674.99             -   19746.7     -       94.2%   \n",
      "  4013      13                -                        96674.99             -   19751.1     -       97.4%   \n",
      "  4014      15                -                        96675.0              -   19756.0     -       95.0%   \n",
      "  4015      15                -                        96675.0              -   19762.3     -       97.5%   \n",
      "  4016      14                -                        96675.0              -   19768.0     -       97.4%   \n",
      "  4017      14                -                        96675.0              -   19773.8     -       97.4%   \n",
      "  4018      15                -                        96675.0              -   19779.6     -       98.4%   \n",
      "  4019      13                -                        96675.0              -   19784.3     -       96.1%   \n",
      "  4020      12                -                        96675.0              -   19788.6     -       97.4%   \n",
      "  4021      15                -                        96675.0              -   19794.3     -       97.4%   \n",
      "  4022      15                -                        96675.0              -   19799.2     -       97.4%   \n",
      "  4023      16                -                        96675.0              -   19805.3     -       94.9%   "
     ]
    },
    {
     "name": "stderr",
     "output_type": "stream",
     "text": [
      "┌ Warning: Only almost solved\n",
      "└ @ Juniper C:\\Users\\Оля\\.julia\\packages\\Juniper\\atNbZ\\src\\BnBTree.jl:89\n"
     ]
    },
    {
     "name": "stdout",
     "output_type": "stream",
     "text": [
      "\n",
      "  4023      16                -                        96675.0              -   19811.2     -       94.0%   \n",
      "  4024      15                -                        96675.0              -   19816.4     -       96.2%   \n",
      "  4025      16                -                        96675.0              -   19822.4     -       98.5%   \n",
      "  4026      14                -                        96675.0              -   19828.4     -       95.3%   \n",
      "  4027      17                -                        96675.01             -   19833.5     -       94.8%   \n",
      "  4028      14                -                        96675.01             -   19839.0     -       94.1%   \n",
      "  4029      13                -                        96675.01             -   19844.1     -       95.1%   \n"
     ]
    },
    {
     "name": "stderr",
     "output_type": "stream",
     "text": [
      "┌ Warning: Only almost solved\n",
      "└ @ Juniper C:\\Users\\Оля\\.julia\\packages\\Juniper\\atNbZ\\src\\BnBTree.jl:89\n"
     ]
    },
    {
     "name": "stdout",
     "output_type": "stream",
     "text": [
      "  4030      16                -                        96675.02             -   19850.6     -       94.6%   "
     ]
    },
    {
     "name": "stderr",
     "output_type": "stream",
     "text": [
      "┌ Warning: Only almost solved\n",
      "└ @ Juniper C:\\Users\\Оля\\.julia\\packages\\Juniper\\atNbZ\\src\\BnBTree.jl:89\n"
     ]
    },
    {
     "name": "stdout",
     "output_type": "stream",
     "text": [
      "\n",
      "  4031      15                -                        96675.02             -   19856.0     -       96.3%   \n"
     ]
    },
    {
     "name": "stderr",
     "output_type": "stream",
     "text": [
      "┌ Warning: Only almost solved\n",
      "└ @ Juniper C:\\Users\\Оля\\.julia\\packages\\Juniper\\atNbZ\\src\\BnBTree.jl:89\n"
     ]
    },
    {
     "name": "stdout",
     "output_type": "stream",
     "text": [
      "  4031      14                -                        96675.02             -   19862.3     -       97.6%   \n",
      "  4032      13                -                        96675.02             -   19867.5     -       97.6%   \n",
      "  4033      13                -                        96675.02             -   19873.0     -       98.4%   \n",
      "  4034      15                -                        96675.02             -   19877.9     -       96.2%   \n",
      "  4035      13                -                        96675.02             -   19883.3     -       98.5%   \n",
      "  4036      14                -                        96675.02             -   19888.1     -       97.4%   \n",
      "  4037      16                -                        96675.02             -   19894.1     -       96.9%   \n",
      "  4038      14                -                        96675.02             -   19899.7     -       97.3%   \n",
      "  4039      14                -                        96675.02             -   19905.4     -       92.9%   \n",
      "  4040      14                -                        96675.02             -   19911.1     -       97.4%   \n",
      "  4041      14                -                        96675.02             -   19916.3     -       97.4%   \n",
      "  4042      12                -                        96675.02             -   19921.6     -       97.4%   \n",
      "  4043      14                -                        96675.02             -   19927.0     -       97.5%   \n"
     ]
    },
    {
     "name": "stderr",
     "output_type": "stream",
     "text": [
      "┌ Warning: Only almost solved\n",
      "└ @ Juniper C:\\Users\\Оля\\.julia\\packages\\Juniper\\atNbZ\\src\\BnBTree.jl:89\n"
     ]
    },
    {
     "name": "stdout",
     "output_type": "stream",
     "text": [
      "  4044      18                -                        96675.03             -   19933.1     -       92.2%   \n",
      "  4045      18                -                        96675.03             -   19939.5     -       93.5%   \n",
      "  4046      14                -                        96675.03             -   19944.2     -       97.5%   \n",
      "  4047      14                -                        96675.03             -   19949.6     -       95.3%   \n",
      "  4048      14                -                        96675.03             -   19954.6     -       97.4%   \n",
      "  4049      14                -                        96675.03             -   19959.0     -       95.7%   \n",
      "  4050      14                -                        96675.03             -   19963.8     -       98.0%   \n",
      "  4051      15                -                        96675.03             -   19969.6     -       96.5%   \n",
      "  4052      15                -                        96675.03             -   19975.0     -       96.9%   \n",
      "  4053      15                -                        96675.03             -   19981.1     -       97.5%   \n",
      "  4054      14                -                        96675.03             -   19986.7     -       97.4%   \n",
      "  4055      13                -                        96675.03             -   19992.2     -       97.5%   \n",
      "  4056      13                -                        96675.03             -   19997.3     -       97.4%   \n",
      "  4057      14                -                        96675.03             -   20004.5     -       97.4%   \n",
      "  4058      13                -                        96675.03             -   20010.2     -       95.1%   \n",
      "  4059      14                -                        96675.03             -   20016.7     -       97.5%   \n",
      "  4060      15                -                        96675.04             -   20023.3     -       97.5%   \n",
      "  4061      15                -                        96675.04             -   20029.0     -       97.4%   \n",
      "  4062      16                -                        96675.04             -   20035.3     -       94.2%   \n",
      "  4063      14                -                        96675.04             -   20040.1     -       99.2%   \n",
      "  4064      14                -                        96675.04             -   20045.6     -       97.4%   \n",
      "  4065      18                -                        96675.04             -   20051.8     -       97.5%   \n",
      "  4066      15                -                        96675.04             -   20056.7     -       95.1%   \n",
      "  4067      13                -                        96675.04             -   20061.9     -       94.4%   \n",
      "  4068      13                -                        96675.04             -   20067.0     -       97.4%   \n",
      "  4069      15                -                        96675.05             -   20072.7     -       97.5%   \n",
      "  4070      14                -                        96675.05             -   20078.5     -       97.5%   \n",
      "  4071      14                -                        96675.05             -   20084.0     -       97.4%   \n",
      "  4072      13                -                        96675.05             -   20088.8     -       97.5%   \n",
      "  4073      12                -                        96675.05             -   20092.6     -       95.1%   \n",
      "  4074      16                -                        96675.05             -   20098.6     -       93.3%   \n"
     ]
    },
    {
     "name": "stderr",
     "output_type": "stream",
     "text": [
      "┌ Warning: Only almost solved\n",
      "└ @ Juniper C:\\Users\\Оля\\.julia\\packages\\Juniper\\atNbZ\\src\\BnBTree.jl:89\n"
     ]
    },
    {
     "name": "stdout",
     "output_type": "stream",
     "text": [
      "  4075      14                -                        96675.05             -   20104.1     -       94.7%   \n",
      "  4076      14                -                        96675.05             -   20109.3     -       97.5%   \n",
      "  4077      13                -                        96675.05             -   20114.2     -       97.5%   \n",
      "  4078      13                -                        96675.05             -   20119.0     -       97.3%   \n",
      "  4079      16                -                        96675.05             -   20124.0     -       95.0%   \n",
      "  4080      15                -                        96675.05             -   20130.0     -       97.5%   \n",
      "  4081      15                -                        96675.05             -   20135.1     -       98.2%   \n",
      "  4082      15                -                        96675.05             -   20140.7     -       97.2%   \n",
      "  4083      15                -                        96675.06             -   20146.8     -       97.4%   \n",
      "  4084      14                -                        96675.06             -   20151.4     -       95.1%   \n",
      "  4085      13                -                        96675.06             -   20155.9     -       98.6%   \n",
      "  4086      15                -                        96675.06             -   20161.8     -       97.5%   \n",
      "  4087      15                -                        96675.06             -   20168.1     -       97.5%   \n",
      "  4088      13                -                        96675.06             -   20174.2     -       97.5%   \n",
      "  4089      16                -                        96675.06             -   20180.6     -       97.5%   \n",
      "  4090      17                -                        96675.06             -   20185.7     -       98.4%   \n",
      "  4091      15                -                        96675.06             -   20191.7     -       99.0%   \n",
      "  4092      14                -                        96675.06             -   20197.0     -       96.4%   \n",
      "  4093      13                -                        96675.06             -   20202.8     -       98.4%   \n",
      "  4094      13                -                        96675.06             -   20208.1     -       96.7%   \n",
      "  4095      14                -                        96675.07             -   20213.0     -       98.0%   \n",
      "  4096      14                -                        96675.07             -   20218.7     -       98.4%   \n",
      "  4097      15                -                        96675.07             -   20224.1     -       97.2%   \n",
      "  4098      13                -                        96675.07             -   20229.4     -       98.3%   \n",
      "  4099      14                -                        96675.07             -   20234.3     -       96.8%   \n",
      "  4100      14                -                        96675.07             -   20240.1     -       97.4%   \n",
      "  4101      13                -                        96675.07             -   20245.1     -       95.1%   \n",
      "  4102      13                -                        96675.07             -   20250.3     -       98.1%   \n",
      "  4103      15                -                        96675.07             -   20256.5     -       96.4%   \n",
      "  4104      15                -                        96675.07             -   20261.9     -       97.5%   \n"
     ]
    },
    {
     "name": "stderr",
     "output_type": "stream",
     "text": [
      "┌ Warning: Only almost solved\n",
      "└ @ Juniper C:\\Users\\Оля\\.julia\\packages\\Juniper\\atNbZ\\src\\BnBTree.jl:89\n"
     ]
    },
    {
     "name": "stdout",
     "output_type": "stream",
     "text": [
      "  4105      17                -                        96675.07             -   20268.6     -       94.2%   \n",
      "  4106      14                -                        96675.07             -   20273.8     -       98.6%   \n",
      "  4107      17                -                        96675.07             -   20280.3     -       95.0%   \n",
      "  4108      16                -                        96675.07             -   20286.0     -       97.5%   \n",
      "  4109      15                -                        96675.07             -   20293.2     -       98.7%   \n",
      "  4110      17                -                        96675.08             -   20299.7     -       96.0%   \n",
      "  4111      12                -                        96675.08             -   20306.0     -       97.5%   \n",
      "  4112      15                -                        96675.08             -   20311.4     -       98.6%   \n",
      "  4113      16                -                        96675.08             -   20317.6     -       94.7%   \n",
      "  4114      15                -                        96675.08             -   20324.0     -       95.2%   \n",
      "  4115      14                -                        96675.08             -   20329.0     -       97.5%   \n",
      "  4116      14                -                        96675.08             -   20334.7     -       97.5%   \n",
      "  4117      13                -                        96675.08             -   20340.9     -       97.5%   \n"
     ]
    },
    {
     "name": "stderr",
     "output_type": "stream",
     "text": [
      "┌ Warning: Only almost solved\n",
      "└ @ Juniper C:\\Users\\Оля\\.julia\\packages\\Juniper\\atNbZ\\src\\BnBTree.jl:89\n"
     ]
    },
    {
     "name": "stdout",
     "output_type": "stream",
     "text": [
      "  4118      15                -                        96675.08             -   20348.1     -       97.1%   "
     ]
    },
    {
     "name": "stderr",
     "output_type": "stream",
     "text": [
      "┌ Warning: Only almost solved\n",
      "└ @ Juniper C:\\Users\\Оля\\.julia\\packages\\Juniper\\atNbZ\\src\\BnBTree.jl:89\n"
     ]
    },
    {
     "name": "stdout",
     "output_type": "stream",
     "text": [
      "\n",
      "  4119      13                -                        96675.08             -   20353.5     -       97.5%   \n",
      "  4120      15                -                        96675.08             -   20359.0     -       94.8%   \n",
      "  4121      14                -                        96675.08             -   20364.7     -       97.5%   \n",
      "  4122      14                -                        96675.08             -   20370.8     -       97.5%   \n",
      "  4123      16                -                        96675.08             -   20376.3     -       94.0%   \n",
      "  4124      14                -                        96675.08             -   20382.1     -       97.5%   \n",
      "  4125      17                -                        96675.09             -   20389.1     -       97.5%   "
     ]
    },
    {
     "name": "stderr",
     "output_type": "stream",
     "text": [
      "┌ Warning: Only almost solved\n",
      "└ @ Juniper C:\\Users\\Оля\\.julia\\packages\\Juniper\\atNbZ\\src\\BnBTree.jl:89\n"
     ]
    },
    {
     "name": "stdout",
     "output_type": "stream",
     "text": [
      "\n",
      "  4126      14                -                        96675.09             -   20394.8     -       98.6%   \n",
      "  4127      13                -                        96675.09             -   20400.0     -       98.2%   \n",
      "  4128      16                -                        96675.09             -   20405.4     -       97.2%   \n",
      "  4129      14                -                        96675.09             -   20410.9     -       97.3%   \n",
      "  4130      13                -                        96675.1              -   20416.8     -       96.9%   \n",
      "  4131      14                -                        96675.1              -   20422.6     -       92.8%   \n",
      "  4132      15                -                        96675.1              -   20428.0     -       97.5%   \n",
      "  4133      14                -                        96675.1              -   20433.8     -       97.5%   \n",
      "  4134      14                -                        96675.1              -   20439.5     -       97.4%   \n",
      "  4135      14                -                        96675.1              -   20444.8     -       97.5%   \n",
      "  4136      14                -                        96675.1              -   20449.9     -       95.0%   \n",
      "  4137      14                -                        96675.1              -   20454.4     -       98.5%   \n",
      "  4138      13                -                        96675.1              -   20458.9     -       95.7%   \n",
      "  4139      13                -                        96675.1              -   20464.8     -       95.0%   \n",
      "  4140      15                -                        96675.11             -   20470.2     -       97.5%   \n",
      "  4141      14                -                        96675.11             -   20475.6     -       97.5%   \n",
      "  4142      14                -                        96675.11             -   20481.3     -       97.3%   \n",
      "  4143      14                -                        96675.11             -   20486.8     -       97.5%   \n",
      "  4144      13                -                        96675.11             -   20492.3     -       97.6%   \n",
      "  4145      14                -                        96675.11             -   20498.5     -       94.8%   \n",
      "  4146      15                -                        96675.11             -   20503.8     -       95.7%   \n",
      "  4147      15                -                        96675.11             -   20509.2     -       96.1%   \n",
      "  4148      12                -                        96675.11             -   20514.7     -       98.4%   \n",
      "  4149      15                -                        96675.11             -   20520.5     -       97.5%   \n",
      "  4150      14                -                        96675.11             -   20526.0     -       94.9%   \n",
      "  4151      13                -                        96675.11             -   20531.4     -       98.6%   \n",
      "  4152      15                -                        96675.11             -   20536.1     -       95.6%   \n",
      "  4153      15                -                        96675.12             -   20541.9     -       95.0%   \n",
      "  4154      13                -                        96675.12             -   20547.6     -       95.2%   \n",
      "  4155      16                -                        96675.12             -   20552.8     -       95.0%   \n",
      "  4156      15                -                        96675.12             -   20558.2     -       97.5%   \n",
      "  4157      15                -                        96675.12             -   20564.1     -       94.2%   \n",
      "  4158      14                -                        96675.12             -   20568.8     -       94.0%   \n",
      "  4159      14                -                        96675.12             -   20574.9     -       97.5%   \n",
      "  4160      13                -                        96675.12             -   20580.8     -       97.9%   \n",
      "  4161      14                -                        96675.12             -   20586.7     -       96.8%   \n",
      "  4162      14                -                        96675.12             -   20592.3     -       97.5%   \n",
      "  4163      16                -                        96675.13             -   20599.7     -       95.1%   \n",
      "  4164      14                -                        96675.13             -   20606.1     -       94.0%   \n",
      "  4165      13                -                        96675.13             -   20612.6     -       97.5%   \n",
      "  4166      14                -                        96675.13             -   20618.9     -       94.5%   \n"
     ]
    },
    {
     "name": "stderr",
     "output_type": "stream",
     "text": [
      "┌ Warning: Only almost solved\n",
      "└ @ Juniper C:\\Users\\Оля\\.julia\\packages\\Juniper\\atNbZ\\src\\BnBTree.jl:89\n"
     ]
    },
    {
     "name": "stdout",
     "output_type": "stream",
     "text": [
      "  4167      13                -                        96675.13             -   20626.9     -       95.2%   \n",
      "  4168      14                -                        96675.13             -   20632.3     -       97.5%   \n",
      "  4169      13                -                        96675.14             -   20637.3     -       97.5%   \n"
     ]
    },
    {
     "name": "stderr",
     "output_type": "stream",
     "text": [
      "┌ Warning: Only almost solved\n",
      "└ @ Juniper C:\\Users\\Оля\\.julia\\packages\\Juniper\\atNbZ\\src\\BnBTree.jl:89\n"
     ]
    },
    {
     "name": "stdout",
     "output_type": "stream",
     "text": [
      "  4170      14                -                        96675.14             -   20643.5     -       97.5%   \n",
      "  4171      13                -                        96675.14             -   20647.8     -       97.5%   \n",
      "  4172      15                -                        96675.14             -   20652.9     -       95.0%   \n",
      "  4173      14                -                        96675.14             -   20657.8     -       97.5%   \n",
      "  4174      19                -                        96675.14             -   20663.6     -       95.9%   \n",
      "  4175      12                -                        96675.14             -   20668.5     -       94.8%   \n",
      "  4176      15                -                        96675.15             -   20675.3     -       97.5%   \n",
      "  4177      14                -                        96675.15             -   20681.4     -       97.5%   \n",
      "  4178      14                -                        96675.15             -   20688.9     -       95.3%   \n"
     ]
    },
    {
     "name": "stderr",
     "output_type": "stream",
     "text": [
      "┌ Warning: Only almost solved\n",
      "└ @ Juniper C:\\Users\\Оля\\.julia\\packages\\Juniper\\atNbZ\\src\\BnBTree.jl:89\n"
     ]
    },
    {
     "name": "stdout",
     "output_type": "stream",
     "text": [
      "  4179      16                -                        96675.15             -   20696.1     -       97.5%   \n",
      "  4180      15                -                        96675.15             -   20703.6     -       97.5%   \n",
      "  4181      13                -                        96675.15             -   20708.4     -       95.2%   \n",
      "  4182      17                -                        96675.15             -   20714.5     -       97.1%   \n",
      "  4183      16                -                        96675.15             -   20721.3     -       94.6%   \n",
      "  4184      14                -                        96675.15             -   20727.8     -       97.3%   \n"
     ]
    },
    {
     "name": "stderr",
     "output_type": "stream",
     "text": [
      "┌ Warning: Only almost solved\n",
      "└ @ Juniper C:\\Users\\Оля\\.julia\\packages\\Juniper\\atNbZ\\src\\BnBTree.jl:89\n"
     ]
    },
    {
     "name": "stdout",
     "output_type": "stream",
     "text": [
      "  4185      15                -                        96675.16             -   20735.4     -       94.1%   \n"
     ]
    },
    {
     "name": "stderr",
     "output_type": "stream",
     "text": [
      "┌ Warning: Only almost solved\n",
      "└ @ Juniper C:\\Users\\Оля\\.julia\\packages\\Juniper\\atNbZ\\src\\BnBTree.jl:89\n"
     ]
    },
    {
     "name": "stdout",
     "output_type": "stream",
     "text": [
      "  4186      14                -                        96675.16             -   20741.4     -       97.5%   \n",
      "  4187      14                -                        96675.16             -   20746.9     -       93.4%   \n",
      "  4188      19                -                        96675.16             -   20753.7     -       93.4%   \n",
      "  4189      15                -                        96675.16             -   20759.5     -       97.5%   \n",
      "  4190      17                -                        96675.16             -   20765.8     -       97.6%   \n",
      "  4191      15                -                        96675.16             -   20772.1     -       94.9%   \n",
      "  4192      15                -                        96675.17             -   20780.8     -       95.6%   "
     ]
    },
    {
     "name": "stderr",
     "output_type": "stream",
     "text": [
      "┌ Warning: Only almost solved\n",
      "└ @ Juniper C:\\Users\\Оля\\.julia\\packages\\Juniper\\atNbZ\\src\\BnBTree.jl:89\n"
     ]
    },
    {
     "name": "stdout",
     "output_type": "stream",
     "text": [
      "\n",
      "  4193      14                -                        96675.17             -   20789.6     -       94.4%   \n",
      "  4194      13                -                        96675.17             -   20796.3     -       98.2%   \n",
      "  4195      16                -                        96675.17             -   20805.5     -       98.0%   \n",
      "  4196      16                -                        96675.17             -   20814.8     -       96.6%   \n",
      "  4197      15                -                        96675.17             -   20823.7     -       95.5%   \n",
      "  4198      12                -                        96675.17             -   20831.8     -       97.4%   \n",
      "  4199      14                -                        96675.17             -   20840.8     -       93.2%   \n",
      "  4200      16                -                        96675.18             -   20846.2     -       97.5%   \n",
      "  4201      14                -                        96675.18             -   20851.4     -       97.5%   \n",
      "  4202      14                -                        96675.18             -   20856.6     -       97.5%   \n",
      "  4203      14                -                        96675.18             -   20861.8     -       96.8%   \n",
      "  4204      15                -                        96675.18             -   20867.9     -       93.8%   \n",
      "  4205      16                -                        96675.18             -   20873.0     -       95.2%   \n",
      "  4206      15                -                        96675.18             -   20879.5     -       97.5%   \n",
      "  4207      13                -                        96675.18             -   20885.8     -       97.5%   \n",
      "  4208      15                -                        96675.18             -   20893.0     -       94.7%   "
     ]
    },
    {
     "name": "stderr",
     "output_type": "stream",
     "text": [
      "┌ Warning: Only almost solved\n",
      "└ @ Juniper C:\\Users\\Оля\\.julia\\packages\\Juniper\\atNbZ\\src\\BnBTree.jl:89\n"
     ]
    },
    {
     "name": "stdout",
     "output_type": "stream",
     "text": [
      "\n",
      "  4209      13                -                        96675.18             -   20899.5     -       95.3%   \n",
      "  4210      13                -                        96675.18             -   20905.8     -       97.5%   \n",
      "  4211      14                -                        96675.19             -   20912.5     -       97.5%   \n",
      "  4212      17                -                        96675.19             -   20918.4     -       97.3%   \n",
      "  4213      14                -                        96675.19             -   20924.4     -       99.3%   \n",
      "  4214      14                -                        96675.19             -   20930.1     -       97.5%   \n",
      "  4215      15                -                        96675.19             -   20935.3     -       95.0%   \n",
      "  4216      17                -                        96675.19             -   20940.5     -       97.6%   \n",
      "  4217      12                -                        96675.19             -   20946.0     -       98.4%   \n",
      "  4218      14                -                        96675.19             -   20950.8     -       96.5%   \n",
      "  4219      14                -                        96675.19             -   20955.8     -       97.5%   \n",
      "  4220      13                -                        96675.19             -   20961.5     -       95.3%   \n",
      "  4221      14                -                        96675.2              -   20966.6     -       95.2%   \n",
      "  4222      12                -                        96675.2              -   20971.6     -       98.2%   \n",
      "  4223      11                -                        96675.2              -   20977.3     -       96.6%   \n",
      "  4224      15                -                        96675.2              -   20983.0     -       97.2%   \n",
      "  4225      14                -                        96675.2              -   20988.2     -       97.5%   \n",
      "  4226      14                -                        96675.2              -   20993.5     -       97.3%   \n",
      "  4227      13                -                        96675.2              -   20997.9     -       98.5%   \n"
     ]
    },
    {
     "name": "stderr",
     "output_type": "stream",
     "text": [
      "┌ Warning: Only almost solved\n",
      "└ @ Juniper C:\\Users\\Оля\\.julia\\packages\\Juniper\\atNbZ\\src\\BnBTree.jl:89\n"
     ]
    },
    {
     "name": "stdout",
     "output_type": "stream",
     "text": [
      "  4228      17                -                        96675.2              -   21003.8     -       95.7%   \n",
      "  4229      16                -                        96675.21             -   21010.0     -       97.5%   \n",
      "  4230      16                -                        96675.21             -   21016.1     -       97.6%   \n",
      "  4231      14                -                        96675.21             -   21021.7     -       95.3%   \n",
      "  4232      13                -                        96675.21             -   21027.7     -       97.4%   \n",
      "  4233      13                -                        96675.21             -   21033.0     -       98.9%   \n",
      "  4234      13                -                        96675.21             -   21038.4     -       96.5%   \n",
      "  4235      14                -                        96675.21             -   21043.8     -       97.5%   \n",
      "  4236      14                -                        96675.21             -   21049.5     -       97.3%   \n",
      "  4237      17                -                        96675.22             -   21055.2     -       94.9%   \n",
      "  4238      14                -                        96675.22             -   21060.8     -       97.6%   \n",
      "  4239      16                -                        96675.22             -   21066.4     -       94.2%   \n",
      "  4240      15                -                        96675.22             -   21072.7     -       97.5%   \n",
      "  4241      14                -                        96675.22             -   21078.3     -       93.7%   \n",
      "  4242      14                -                        96675.22             -   21083.6     -       97.6%   \n",
      "  4243      14                -                        96675.22             -   21089.1     -       93.6%   \n",
      "  4244      16                -                        96675.22             -   21093.7     -       97.5%   \n",
      "  4245      15                -                        96675.23             -   21099.5     -       97.5%   \n",
      "  4246      12                -                        96675.23             -   21105.0     -       97.6%   \n",
      "  4247      15                -                        96675.23             -   21111.0     -       97.4%   "
     ]
    },
    {
     "name": "stderr",
     "output_type": "stream",
     "text": [
      "┌ Warning: Only almost solved\n",
      "└ @ Juniper C:\\Users\\Оля\\.julia\\packages\\Juniper\\atNbZ\\src\\BnBTree.jl:89\n"
     ]
    },
    {
     "name": "stdout",
     "output_type": "stream",
     "text": [
      "\n",
      "  4248      17                -                        96675.23             -   21116.2     -       95.3%   \n",
      "  4249      15                -                        96675.23             -   21122.5     -       93.9%   \n",
      "  4249      15                -                        96675.23             -   21127.5     -       97.1%   \n",
      "  4250      14                -                        96675.23             -   21132.9     -       97.9%   \n",
      "  4251      13                -                        96675.23             -   21138.2     -       97.6%   \n"
     ]
    },
    {
     "name": "stderr",
     "output_type": "stream",
     "text": [
      "┌ Warning: Only almost solved\n",
      "└ @ Juniper C:\\Users\\Оля\\.julia\\packages\\Juniper\\atNbZ\\src\\BnBTree.jl:89\n"
     ]
    },
    {
     "name": "stdout",
     "output_type": "stream",
     "text": [
      "  4252      15                -                        96675.23             -   21143.8     -       97.5%   \n",
      "  4253      13                -                        96675.23             -   21148.8     -       97.5%   \n",
      "  4254      15                -                        96675.24             -   21155.7     -       97.6%   \n",
      "  4255      14                -                        96675.24             -   21160.6     -       95.2%   \n",
      "  4256      13                -                        96675.24             -   21166.2     -       97.6%   \n",
      "  4257      14                -                        96675.25             -   21171.7     -       95.3%   \n",
      "  4258      13                -                        96675.25             -   21177.7     -       94.5%   \n",
      "  4259      17                -                        96675.25             -   21184.7     -       97.6%   \n",
      "  4260      16                -                        96675.25             -   21189.7     -       97.6%   \n",
      "  4261      16                -                        96675.25             -   21195.7     -       97.5%   \n",
      "  4262      16                -                        96675.25             -   21202.2     -       96.4%   \n",
      "  4263      14                -                        96675.25             -   21208.4     -       97.3%   \n",
      "  4264      15                -                        96675.26             -   21215.4     -       94.7%   \n",
      "  4265      13                -                        96675.26             -   21220.4     -       97.6%   \n",
      "  4266      14                -                        96675.26             -   21226.2     -       95.3%   \n",
      "  4267      14                -                        96675.26             -   21231.3     -       97.6%   \n",
      "  4268      15                -                        96675.27             -   21235.8     -       97.6%   \n",
      "  4269      15                -                        96675.27             -   21241.7     -       97.1%   \n",
      "  4270      14                -                        96675.27             -   21247.5     -       95.2%   \n",
      "  4271      14                -                        96675.27             -   21251.9     -       97.6%   \n",
      "  4272      13                -                        96675.27             -   21257.5     -       97.2%   \n",
      "  4273      12                -                        96675.27             -   21262.4     -       97.6%   \n",
      "  4274      16                -                        96675.27             -   21268.4     -       95.3%   \n",
      "  4275      18                -                        96675.28             -   21274.2     -       94.4%   \n",
      "  4275      19                -                        96675.28             -   21280.4     -       94.7%   \n",
      "  4276      13                -                        96675.28             -   21286.1     -       96.3%   \n",
      "  4277      15                -                        96675.28             -   21291.4     -       94.8%   \n",
      "  4278      15                -                        96675.29             -   21296.9     -       94.1%   \n",
      "  4279      16                -                        96675.29             -   21302.8     -       97.6%   \n",
      "  4280      15                -                        96675.29             -   21307.9     -       97.5%   \n",
      "  4281      14                -                        96675.29             -   21313.6     -       94.9%   \n",
      "  4282      14                -                        96675.29             -   21318.9     -       94.9%   \n",
      "  4283      13                -                        96675.29             -   21324.2     -       98.9%   \n",
      "  4284      16                -                        96675.3              -   21331.7     -       96.5%   \n",
      "  4285      15                -                        96675.3              -   21337.4     -       96.9%   \n",
      "  4286      16                -                        96675.3              -   21343.6     -       94.6%   \n",
      "  4287      16                -                        96675.3              -   21348.9     -       94.9%   \n",
      "  4288      15                -                        96675.3              -   21354.8     -       97.5%   \n",
      "  4289      15                -                        96675.3              -   21360.4     -       95.0%   \n",
      "  4290      13                -                        96675.3              -   21365.1     -       98.3%   \n",
      "  4291      15                -                        96675.31             -   21370.5     -       96.8%   \n",
      "  4292      13                -                        96675.31             -   21376.4     -       97.6%   \n",
      "  4293      13                -                        96675.31             -   21382.4     -       97.6%   \n",
      "  4294      15                -                        96675.31             -   21388.6     -       95.4%   \n",
      "  4295      14                -                        96675.31             -   21394.3     -       95.3%   \n",
      "  4296      14                -                        96675.31             -   21400.1     -       97.6%   \n",
      "  4297      15                -                        96675.32             -   21405.7     -       99.4%   \n",
      "  4298      12                -                        96675.32             -   21411.7     -       97.6%   \n",
      "  4299      17                -                        96675.32             -   21418.2     -       99.3%   \n",
      "  4300      15                -                        96675.32             -   21424.3     -       97.6%   \n",
      "  4301      14                -                        96675.32             -   21429.8     -       94.6%   \n",
      "  4302      13                -                        96675.32             -   21435.2     -       97.6%   \n",
      "  4303      12                -                        96675.32             -   21440.8     -       97.9%   \n",
      "  4304      14                -                        96675.33             -   21445.8     -       98.5%   \n",
      "  4305      14                -                        96675.33             -   21451.0     -       96.8%   \n",
      "  4306      15                -                        96675.33             -   21457.3     -       97.4%   \n",
      "  4307      14                -                        96675.33             -   21461.7     -       95.4%   \n",
      "  4308      17                -                        96675.33             -   21467.4     -       96.7%   \n",
      "  4309      16                -                        96675.33             -   21473.3     -       97.6%   \n",
      "  4310      15                -                        96675.33             -   21479.9     -       97.6%   \n",
      "  4311      15                -                        96675.34             -   21486.7     -       97.6%   \n",
      "  4312      17                -                        96675.34             -   21493.5     -       97.5%   \n",
      "  4313      15                -                        96675.34             -   21498.8     -       96.2%   \n",
      "  4314      14                -                        96675.34             -   21505.6     -       97.6%   \n",
      "  4315      15                -                        96675.35             -   21511.7     -       97.6%   \n",
      "  4316      13                -                        96675.35             -   21517.7     -       97.6%   \n",
      "  4317      15                -                        96675.35             -   21524.2     -       97.6%   \n",
      "  4318      13                -                        96675.35             -   21529.6     -       98.5%   \n",
      "  4319      17                -                        96675.35             -   21534.4     -       94.0%   \n",
      "  4320      15                -                        96675.35             -   21540.0     -       97.2%   \n",
      "  4321      18                -                        96675.35             -   21545.6     -       97.6%   \n"
     ]
    },
    {
     "name": "stderr",
     "output_type": "stream",
     "text": [
      "┌ Warning: Only almost solved\n",
      "└ @ Juniper C:\\Users\\Оля\\.julia\\packages\\Juniper\\atNbZ\\src\\BnBTree.jl:89\n"
     ]
    },
    {
     "name": "stdout",
     "output_type": "stream",
     "text": [
      "  4322      15                -                        96675.35             -   21551.4     -       94.4%   \n",
      "  4323      12                -                        96675.36             -   21556.5     -       97.6%   \n",
      "  4324      18                -                        96675.36             -   21562.0     -       97.6%   \n",
      "  4325      16                -                        96675.36             -   21567.4     -       94.4%   \n",
      "  4326      15                -                        96675.36             -   21573.0     -       97.6%   \n",
      "  4327      15                -                        96675.36             -   21578.6     -       95.4%   \n",
      "  4328      14                -                        96675.36             -   21584.7     -       98.5%   \n",
      "  4329      14                -                        96675.36             -   21590.2     -       97.2%   \n",
      "  4330      15                -                        96675.36             -   21595.8     -       97.6%   \n",
      "  4331      15                -                        96675.37             -   21601.5     -       97.6%   \n",
      "  4332      15                -                        96675.37             -   21607.4     -       98.6%   \n",
      "  4333      14                -                        96675.37             -   21613.1     -       95.9%   \n",
      "  4334      13                -                        96675.37             -   21618.8     -       97.6%   \n",
      "  4335      13                -                        96675.37             -   21623.5     -       97.7%   \n",
      "  4336      12                -                        96675.37             -   21627.8     -       97.6%   \n",
      "  4337      19                -                        96675.37             -   21633.7     -       95.1%   \n",
      "  4338      14                -                        96675.37             -   21638.3     -       97.6%   \n",
      "  4339      13                -                        96675.37             -   21643.6     -       99.3%   \n",
      "  4340      13                -                        96675.38             -   21649.2     -       97.6%   \n",
      "  4341      15                -                        96675.38             -   21654.8     -       97.6%   \n",
      "  4342      14                -                        96675.38             -   21660.4     -       98.3%   \n",
      "  4343      14                -                        96675.38             -   21666.8     -       97.6%   \n",
      "  4344      16                -                        96675.38             -   21672.4     -       97.6%   \n",
      "  4345      16                -                        96675.38             -   21679.4     -       97.3%   \n",
      "  4346      16                -                        96675.38             -   21685.3     -       95.8%   \n"
     ]
    },
    {
     "name": "stderr",
     "output_type": "stream",
     "text": [
      "┌ Warning: Only almost solved\n",
      "└ @ Juniper C:\\Users\\Оля\\.julia\\packages\\Juniper\\atNbZ\\src\\BnBTree.jl:89\n"
     ]
    },
    {
     "name": "stdout",
     "output_type": "stream",
     "text": [
      "  4347      16                -                        96675.38             -   21691.2     -       96.8%   \n",
      "  4348      15                -                        96675.38             -   21697.4     -       95.2%   \n",
      "  4349      14                -                        96675.38             -   21702.9     -       94.5%   \n",
      "  4350      15                -                        96675.38             -   21708.0     -       94.6%   \n",
      "  4351      15                -                        96675.38             -   21713.9     -       94.2%   \n",
      "  4352      13                -                        96675.38             -   21718.6     -       97.4%   \n",
      "  4353      15                -                        96675.38             -   21723.8     -       99.0%   \n",
      "  4354      14                -                        96675.38             -   21729.7     -       96.6%   \n",
      "  4355      16                -                        96675.39             -   21735.1     -       97.6%   \n",
      "  4356      16                -                        96675.39             -   21740.6     -       95.4%   \n",
      "  4357      13                -                        96675.39             -   21746.3     -       97.7%   \n",
      "  4358      13                -                        96675.39             -   21750.4     -       97.6%   \n",
      "  4359      12                -                        96675.39             -   21754.8     -       98.3%   \n",
      "  4360      14                -                        96675.39             -   21760.1     -       96.7%   \n",
      "  4360      15                -                        96675.4              -   21765.9     -       97.4%   \n",
      "  4361      14                -                        96675.4              -   21771.5     -       97.7%   \n",
      "  4362      13                -                        96675.4              -   21777.6     -       95.4%   \n",
      "  4363      17                -                        96675.4              -   21784.0     -       97.1%   \n",
      "  4364      17                -                        96675.4              -   21790.7     -       97.6%   \n",
      "  4365      15                -                        96675.4              -   21797.0     -       97.6%   \n",
      "  4366      14                -                        96675.41             -   21802.9     -       95.4%   \n",
      "  4367      14                -                        96675.41             -   21809.3     -       97.7%   \n",
      "  4368      14                -                        96675.41             -   21814.3     -       97.6%   \n",
      "  4369      15                -                        96675.41             -   21821.3     -       97.6%   \n",
      "  4370      13                -                        96675.41             -   21826.2     -       98.2%   \n",
      "  4371      13                -                        96675.41             -   21831.8     -       95.7%   \n",
      "  4372      13                -                        96675.41             -   21837.5     -       96.5%   \n",
      "  4373      16                -                        96675.41             -   21843.3     -       97.6%   \n",
      "  4374      16                -                        96675.41             -   21849.1     -       97.7%   \n",
      "  4375      16                -                        96675.41             -   21855.5     -       97.6%   "
     ]
    },
    {
     "name": "stderr",
     "output_type": "stream",
     "text": [
      "┌ Warning: Only almost solved\n",
      "└ @ Juniper C:\\Users\\Оля\\.julia\\packages\\Juniper\\atNbZ\\src\\BnBTree.jl:89\n"
     ]
    },
    {
     "name": "stdout",
     "output_type": "stream",
     "text": [
      "\n",
      "  4376      14                -                        96675.41             -   21861.6     -       96.1%   \n",
      "  4377      14                -                        96675.41             -   21866.9     -       99.1%   \n",
      "  4378      13                -                        96675.42             -   21872.9     -       97.6%   \n",
      "  4379      13                -                        96675.42             -   21878.3     -       96.6%   \n",
      "  4380      15                -                        96675.42             -   21883.9     -       95.4%   \n",
      "  4381      15                -                        96675.42             -   21889.8     -       98.6%   \n",
      "  4382      14                -                        96675.42             -   21895.6     -       95.1%   \n",
      "  4383      16                -                        96675.43             -   21901.6     -       94.5%   \n",
      "  4384      15                -                        96675.43             -   21907.3     -       98.6%   \n",
      "  4385      17                -                        96675.43             -   21913.0     -       97.6%   \n",
      "  4386      15                -                        96675.43             -   21920.2     -       97.6%   "
     ]
    },
    {
     "name": "stderr",
     "output_type": "stream",
     "text": [
      "┌ Warning: Only almost solved\n",
      "└ @ Juniper C:\\Users\\Оля\\.julia\\packages\\Juniper\\atNbZ\\src\\BnBTree.jl:89\n"
     ]
    },
    {
     "name": "stdout",
     "output_type": "stream",
     "text": [
      "\n",
      "  4387      14                -                        96675.43             -   21925.8     -       98.3%   \n",
      "  4388      15                -                        96675.43             -   21931.1     -       97.3%   \n",
      "  4389      16                -                        96675.44             -   21936.9     -       92.7%   \n",
      "  4390      12                -                        96675.44             -   21942.1     -       98.4%   \n",
      "  4391      15                -                        96675.44             -   21947.8     -       96.9%   \n",
      "  4392      15                -                        96675.44             -   21952.4     -       95.5%   \n",
      "  4393      14                -                        96675.44             -   21958.1     -       97.6%   \n",
      "  4394      12                -                        96675.44             -   21962.3     -       96.8%   \n",
      "  4395      16                -                        96675.45             -   21968.6     -       97.6%   \n",
      "  4396      15                -                        96675.45             -   21973.7     -       97.6%   \n",
      "  4397      14                -                        96675.45             -   21979.8     -       97.7%   \n",
      "  4398      17                -                        96675.45             -   21984.6     -       94.6%   \n",
      "  4399      16                -                        96675.45             -   21990.1     -       95.2%   \n",
      "  4400      15                -                        96675.45             -   21995.0     -       95.1%   \n",
      "  4401      17                -                        96675.45             -   22000.8     -       94.6%   \n",
      "  4402      13                -                        96675.45             -   22005.9     -       98.4%   \n",
      "  4403      14                -                        96675.46             -   22011.2     -       96.7%   \n",
      "  4404      13                -                        96675.46             -   22017.2     -       97.6%   \n",
      "  4405      15                -                        96675.46             -   22022.7     -       97.6%   \n",
      "  4406      13                -                        96675.46             -   22027.9     -       97.6%   \n",
      "  4407      16                -                        96675.46             -   22033.4     -       97.6%   \n",
      "  4408      14                -                        96675.46             -   22039.3     -       95.5%   \n",
      "  4409      14                -                        96675.46             -   22044.6     -       97.6%   \n",
      "  4410      14                -                        96675.46             -   22050.2     -       97.6%   \n",
      "  4411      14                -                        96675.46             -   22055.6     -       97.6%   \n",
      "  4412      13                -                        96675.46             -   22061.2     -       97.7%   \n",
      "  4413      12                -                        96675.46             -   22067.1     -       97.6%   \n",
      "  4414      16                -                        96675.47             -   22072.6     -       97.3%   \n",
      "  4415      14                -                        96675.47             -   22080.2     -       97.7%   \n",
      "  4416      15                -                        96675.47             -   22085.4     -       98.3%   \n",
      "  4417      14                -                        96675.47             -   22091.4     -       96.9%   \n",
      "  4418      15                -                        96675.47             -   22097.2     -       97.7%   \n",
      "  4419      13                -                        96675.47             -   22104.0     -       97.6%   \n",
      "  4420      13                -                        96675.47             -   22110.7     -       98.6%   \n",
      "  4421      16                -                        96675.47             -   22118.4     -       97.2%   "
     ]
    },
    {
     "name": "stderr",
     "output_type": "stream",
     "text": [
      "┌ Warning: Only almost solved\n",
      "└ @ Juniper C:\\Users\\Оля\\.julia\\packages\\Juniper\\atNbZ\\src\\BnBTree.jl:89\n"
     ]
    },
    {
     "name": "stdout",
     "output_type": "stream",
     "text": [
      "\n",
      "  4422      12                -                        96675.47             -   22122.8     -       95.4%   \n",
      "  4423      15                -                        96675.48             -   22129.2     -       95.5%   \n",
      "  4424      15                -                        96675.48             -   22133.8     -       97.6%   \n",
      "  4425      15                -                        96675.48             -   22139.5     -       97.6%   \n",
      "  4426      15                -                        96675.48             -   22145.4     -       94.7%   \n",
      "  4427      13                -                        96675.48             -   22150.9     -       97.6%   \n",
      "  4428      13                -                        96675.48             -   22155.7     -       97.7%   \n",
      "  4429      15                -                        96675.48             -   22162.1     -       98.6%   \n",
      "  4430      15                -                        96675.48             -   22167.5     -       96.5%   \n",
      "  4431      14                -                        96675.48             -   22172.1     -       95.5%   \n",
      "  4432      14                -                        96675.48             -   22177.9     -       95.8%   \n",
      "  4433      15                -                        96675.48             -   22183.9     -       97.7%   \n",
      "  4434      14                -                        96675.48             -   22189.4     -       97.7%   \n",
      "  4435      13                -                        96675.48             -   22194.7     -       97.6%   \n",
      "  4436      14                -                        96675.49             -   22201.4     -       93.3%   \n",
      "  4437      17                -                        96675.49             -   22207.2     -       97.7%   \n",
      "  4438      16                -                        96675.49             -   22212.2     -       97.0%   \n",
      "  4439      13                -                        96675.49             -   22217.6     -       97.6%   \n",
      "  4440      13                -                        96675.49             -   22223.4     -       95.5%   \n",
      "  4441      13                -                        96675.49             -   22228.4     -       97.7%   \n",
      "  4442      15                -                        96675.49             -   22233.6     -       94.8%   \n",
      "  4443      15                -                        96675.49             -   22239.8     -       97.7%   \n",
      "  4444      14                -                        96675.49             -   22245.2     -       98.5%   \n",
      "  4445      14                -                        96675.49             -   22250.7     -       97.4%   \n",
      "  4446      15                -                        96675.49             -   22256.6     -       97.7%   \n",
      "  4447      13                -                        96675.49             -   22261.3     -       97.7%   \n"
     ]
    },
    {
     "name": "stderr",
     "output_type": "stream",
     "text": [
      "┌ Warning: Only almost solved\n",
      "└ @ Juniper C:\\Users\\Оля\\.julia\\packages\\Juniper\\atNbZ\\src\\BnBTree.jl:89\n"
     ]
    },
    {
     "name": "stdout",
     "output_type": "stream",
     "text": [
      "  4448      15                -                        96675.5              -   22267.6     -       97.7%   \n",
      "  4449      15                -                        96675.5              -   22273.5     -       97.7%   \n",
      "  4450      14                -                        96675.5              -   22279.4     -       95.5%   \n",
      "  4451      18                -                        96675.5              -   22285.3     -       95.1%   \n",
      "  4452      13                -                        96675.5              -   22291.3     -       98.7%   \n",
      "  4453      13                -                        96675.5              -   22296.4     -       97.7%   \n",
      "  4454      15                -                        96675.5              -   22301.9     -       97.6%   \n",
      "  4455      15                -                        96675.5              -   22307.6     -       95.3%   \n",
      "  4456      13                -                        96675.5              -   22313.0     -       97.7%   \n",
      "  4457      15                -                        96675.5              -   22319.6     -       98.6%   \n",
      "  4458      16                -                        96675.51             -   22324.5     -       96.4%   \n",
      "  4459      15                -                        96675.51             -   22330.4     -       95.5%   \n",
      "  4460      13                -                        96675.51             -   22336.5     -       97.7%   \n",
      "  4461      14                -                        96675.51             -   22342.0     -       97.7%   \n",
      "  4462      13                -                        96675.51             -   22347.6     -       98.5%   \n",
      "  4463      17                -                        96675.51             -   22353.6     -       97.1%   \n",
      "  4464      16                -                        96675.51             -   22359.1     -       97.7%   \n",
      "  4465      14                -                        96675.51             -   22365.1     -       98.5%   \n",
      "  4466      14                -                        96675.51             -   22371.0     -       96.8%   \n",
      "  4467      17                -                        96675.51             -   22377.4     -       97.7%   \n",
      "  4468      15                -                        96675.52             -   22384.4     -       95.5%   \n",
      "  4469      14                -                        96675.52             -   22390.0     -       97.7%   \n",
      "  4470      15                -                        96675.52             -   22396.1     -       97.7%   \n",
      "  4471      16                -                        96675.52             -   22402.6     -       94.5%   \n",
      "  4472      14                -                        96675.52             -   22408.6     -       97.7%   \n",
      "  4473      15                -                        96675.52             -   22415.9     -       97.7%   \n",
      "  4474      14                -                        96675.52             -   22422.9     -       98.6%   \n",
      "  4475      13                -                        96675.52             -   22428.6     -       97.0%   \n",
      "  4476      15                -                        96675.53             -   22434.6     -       97.7%   \n",
      "  4477      15                -                        96675.53             -   22439.9     -       95.5%   \n",
      "  4478      15                -                        96675.53             -   22444.0     -       97.7%   \n",
      "  4479      14                -                        96675.53             -   22449.4     -       97.7%   \n",
      "  4480      16                -                        96675.53             -   22454.5     -       97.7%   \n",
      "  4481      14                -                        96675.53             -   22460.4     -       97.7%   \n",
      "  4482      14                -                        96675.53             -   22465.7     -       97.7%   \n",
      "  4483      15                -                        96675.53             -   22471.0     -       95.0%   \n",
      "  4484      15                -                        96675.53             -   22476.6     -       95.6%   \n",
      "  4485      15                -                        96675.53             -   22482.2     -       97.7%   \n",
      "  4486      14                -                        96675.53             -   22486.8     -       97.7%   \n",
      "  4487      17                -                        96675.53             -   22492.4     -       97.7%   \n",
      "  4488      16                -                        96675.53             -   22498.1     -       97.7%   \n",
      "  4489      16                -                        96675.53             -   22503.6     -       95.4%   \n",
      "  4490      15                -                        96675.53             -   22509.0     -       97.7%   "
     ]
    },
    {
     "name": "stderr",
     "output_type": "stream",
     "text": [
      "┌ Warning: Only almost solved\n",
      "└ @ Juniper C:\\Users\\Оля\\.julia\\packages\\Juniper\\atNbZ\\src\\BnBTree.jl:89\n"
     ]
    },
    {
     "name": "stdout",
     "output_type": "stream",
     "text": [
      "\n",
      "  4491      13                -                        96675.53             -   22514.4     -       97.7%   \n",
      "  4492      14                -                        96675.54             -   22519.9     -       95.2%   \n",
      "  4493      14                -                        96675.54             -   22525.8     -       97.7%   \n",
      "  4494      14                -                        96675.54             -   22531.8     -       97.7%   \n",
      "  4495      13                -                        96675.54             -   22536.6     -       97.7%   \n",
      "  4496      15                -                        96675.54             -   22543.0     -       97.7%   \n",
      "  4497      17                -                        96675.54             -   22549.0     -       97.7%   \n",
      "  4498      16                -                        96675.54             -   22554.7     -       95.4%   \n",
      "  4499      16                -                        96675.54             -   22560.9     -       97.7%   \n",
      "  4500      15                -                        96675.54             -   22565.6     -       97.7%   \n",
      "  4501      14                -                        96675.54             -   22570.7     -       95.6%   \n",
      "  4502      14                -                        96675.54             -   22577.7     -       98.6%   \n",
      "  4503      16                -                        96675.55             -   22583.6     -       96.4%   \n",
      "  4504      15                -                        96675.55             -   22588.9     -       97.7%   \n",
      "  4505      17                -                        96675.55             -   22595.4     -       98.6%   \n",
      "  4506      15                -                        96675.55             -   22600.9     -       97.7%   \n",
      "  4507      14                -                        96675.55             -   22605.8     -       97.7%   \n",
      "  4508      16                -                        96675.55             -   22611.6     -       97.7%   \n",
      "  4509      15                -                        96675.55             -   22616.3     -       97.3%   \n",
      "  4510      14                -                        96675.55             -   22621.7     -       95.6%   \n",
      "  4511      13                -                        96675.55             -   22627.9     -       97.7%   \n",
      "  4512      13                -                        96675.55             -   22633.2     -       97.7%   \n",
      "  4513      15                -                        96675.55             -   22639.2     -       97.7%   \n",
      "  4514      14                -                        96675.55             -   22645.1     -       98.3%   \n",
      "  4515      15                -                        96675.56             -   22650.6     -       97.4%   \n",
      "  4516      17                -                        96675.56             -   22656.7     -       97.5%   \n",
      "  4517      15                -                        96675.56             -   22661.2     -       97.7%   \n",
      "  4518      15                -                        96675.56             -   22667.2     -       95.3%   \n",
      "  4519      15                -                        96675.56             -   22672.9     -       97.7%   \n",
      "  4520      12                -                        96675.56             -   22678.1     -       97.7%   \n",
      "  4521      18                -                        96675.56             -   22684.6     -       96.4%   \n",
      "  4522      16                -                        96675.56             -   22692.4     -       98.7%   \n",
      "  4523      16                -                        96675.56             -   22700.7     -       96.4%   \n",
      "  4524      15                -                        96675.56             -   22707.0     -       97.7%   \n",
      "  4525      15                -                        96675.56             -   22713.4     -       94.8%   \n",
      "  4526      15                -                        96675.56             -   22720.9     -       97.5%   \n",
      "  4527      14                -                        96675.56             -   22725.9     -       96.9%   \n",
      "  4528      13                -                        96675.56             -   22731.7     -       95.1%   \n",
      "  4529      16                -                        96675.56             -   22737.2     -       95.4%   \n",
      "  4530      15                -                        96675.56             -   22741.9     -       94.7%   \n",
      "  4531      14                -                        96675.56             -   22747.2     -       98.2%   \n",
      "  4532      13                -                        96675.56             -   22752.9     -       96.7%   \n",
      "  4533      12                -                        96675.56             -   22758.2     -       97.7%   \n",
      "  4534      13                -                        96675.57             -   22762.5     -       97.7%   \n",
      "  4535      16                -                        96675.57             -   22768.4     -       95.0%   \n",
      "  4536      15                -                        96675.57             -   22774.1     -       97.7%   \n",
      "  4537      13                -                        96675.57             -   22780.0     -       97.7%   \n",
      "  4538      16                -                        96675.57             -   22786.2     -       95.5%   \n",
      "  4539      15                -                        96675.57             -   22790.9     -       95.1%   \n",
      "  4540      14                -                        96675.57             -   22795.8     -       95.8%   \n",
      "  4541      14                -                        96675.57             -   22801.1     -       97.7%   \n",
      "  4542      13                -                        96675.57             -   22806.5     -       94.2%   \n",
      "  4543      13                -                        96675.57             -   22811.0     -       97.7%   \n",
      "  4544      14                -                        96675.57             -   22816.2     -       97.7%   \n",
      "  4545      14                -                        96675.57             -   22821.5     -       95.6%   \n",
      "  4546      13                -                        96675.57             -   22826.6     -       97.7%   \n",
      "  4547      13                -                        96675.57             -   22832.5     -       97.7%   \n",
      "  4548      13                -                        96675.57             -   22838.2     -       98.7%   \n",
      "  4549      12                -                        96675.57             -   22843.0     -       96.4%   \n",
      "  4550      18                -                        96675.58             -   22849.1     -       94.1%   \n",
      "  4551      14                -                        96675.58             -   22854.0     -       97.7%   \n",
      "  4552      14                -                        96675.58             -   22859.3     -       97.7%   \n",
      "  4553      14                -                        96675.58             -   22864.3     -       97.7%   \n",
      "  4554      13                -                        96675.58             -   22869.8     -       95.6%   \n",
      "  4555      15                -                        96675.58             -   22875.4     -       97.7%   \n",
      "  4556      15                -                        96675.58             -   22881.3     -       97.4%   \n",
      "  4557      15                -                        96675.58             -   22887.4     -       98.6%   \n",
      "  4558      14                -                        96675.58             -   22892.9     -       96.2%   \n",
      "  4559      14                -                        96675.58             -   22899.3     -       98.5%   \n",
      "  4560      15                -                        96675.59             -   22903.5     -       96.8%   \n",
      "  4561      15                -                        96675.59             -   22909.6     -       97.8%   \n",
      "  4562      14                -                        96675.59             -   22914.7     -       97.7%   \n",
      "  4563      16                -                        96675.59             -   22919.3     -       93.9%   \n",
      "  4564      16                -                        96675.59             -   22925.1     -       94.0%   \n",
      "  4565      15                -                        96675.59             -   22931.3     -       98.9%   \n",
      "  4566      14                -                        96675.59             -   22936.9     -       96.4%   \n",
      "  4567      14                -                        96675.59             -   22942.2     -       97.7%   \n",
      "  4568      14                -                        96675.59             -   22947.8     -       95.6%   \n",
      "  4569      14                -                        96675.59             -   22952.6     -       97.7%   \n",
      "  4570      12                -                        96675.59             -   22957.2     -       97.7%   \n",
      "  4571      16                -                        96675.59             -   22962.9     -       97.8%   \n"
     ]
    },
    {
     "name": "stderr",
     "output_type": "stream",
     "text": [
      "┌ Warning: Only almost solved\n",
      "└ @ Juniper C:\\Users\\Оля\\.julia\\packages\\Juniper\\atNbZ\\src\\BnBTree.jl:89\n"
     ]
    },
    {
     "name": "stdout",
     "output_type": "stream",
     "text": [
      "  4572      16                -                        96675.59             -   22969.2     -       94.1%   \n",
      "  4573      16                -                        96675.6              -   22975.7     -       94.3%   \n",
      "  4574      14                -                        96675.6              -   22981.0     -       97.7%   \n",
      "  4575      15                -                        96675.6              -   22987.3     -       97.5%   \n",
      "  4576      14                -                        96675.6              -   22994.7     -       97.4%   \n",
      "  4577      13                -                        96675.6              -   23000.7     -       97.7%   \n",
      "  4578      15                -                        96675.6              -   23007.7     -       97.6%   \n",
      "  4579      15                -                        96675.6              -   23014.2     -       97.7%   \n",
      "  4580      15                -                        96675.6              -   23020.7     -       95.6%   \n",
      "  4581      14                -                        96675.6              -   23027.0     -       97.8%   \n",
      "  4582      13                -                        96675.6              -   23032.3     -       97.7%   \n",
      "  4583      15                -                        96675.6              -   23038.7     -       97.7%   \n",
      "  4584      15                -                        96675.6              -   23043.3     -       97.8%   \n",
      "  4585      15                -                        96675.6              -   23048.1     -       95.7%   \n",
      "  4586      14                -                        96675.6              -   23052.8     -       97.7%   \n",
      "  4587      14                -                        96675.61             -   23059.4     -       97.8%   \n",
      "  4588      14                -                        96675.61             -   23064.9     -       95.2%   \n",
      "  4589      14                -                        96675.61             -   23069.7     -       97.7%   \n",
      "  4590      16                -                        96675.61             -   23075.3     -       97.8%   \n",
      "  4591      14                -                        96675.61             -   23081.0     -       98.7%   \n",
      "  4592      14                -                        96675.61             -   23085.9     -       97.4%   \n",
      "  4593      17                -                        96675.61             -   23091.6     -       89.9%   \n",
      "  4594      16                -                        96675.61             -   23097.4     -       97.7%   \n",
      "  4595      13                -                        96675.61             -   23103.3     -       97.8%   \n",
      "  4596      15                -                        96675.61             -   23109.1     -       98.6%   \n",
      "  4597      15                -                        96675.61             -   23115.0     -       96.9%   \n",
      "  4598      13                -                        96675.61             -   23121.1     -       98.4%   \n",
      "  4599      12                -                        96675.61             -   23126.3     -       97.0%   \n",
      "  4600      14                -                        96675.61             -   23131.9     -       95.7%   \n"
     ]
    },
    {
     "name": "stderr",
     "output_type": "stream",
     "text": [
      "┌ Warning: Only almost solved\n",
      "└ @ Juniper C:\\Users\\Оля\\.julia\\packages\\Juniper\\atNbZ\\src\\BnBTree.jl:89\n"
     ]
    },
    {
     "name": "stdout",
     "output_type": "stream",
     "text": [
      "  4601      16                -                        96675.62             -   23139.9     -       97.8%   "
     ]
    },
    {
     "name": "stderr",
     "output_type": "stream",
     "text": [
      "┌ Warning: Only almost solved\n",
      "└ @ Juniper C:\\Users\\Оля\\.julia\\packages\\Juniper\\atNbZ\\src\\BnBTree.jl:89\n"
     ]
    },
    {
     "name": "stdout",
     "output_type": "stream",
     "text": [
      "\n",
      "  4602      13                -                        96675.62             -   23145.1     -       97.8%   \n",
      "  4603      15                -                        96675.62             -   23151.0     -       96.6%   \n",
      "  4604      17                -                        96675.62             -   23156.7     -       97.7%   \n"
     ]
    },
    {
     "name": "stderr",
     "output_type": "stream",
     "text": [
      "┌ Warning: Only almost solved\n",
      "└ @ Juniper C:\\Users\\Оля\\.julia\\packages\\Juniper\\atNbZ\\src\\BnBTree.jl:89\n"
     ]
    },
    {
     "name": "stdout",
     "output_type": "stream",
     "text": [
      "  4605      15                -                        96675.62             -   23163.2     -       97.7%   \n",
      "  4606      13                -                        96675.62             -   23168.5     -       95.6%   \n",
      "  4607      15                -                        96675.62             -   23173.4     -       97.8%   \n",
      "  4608      15                -                        96675.62             -   23179.8     -       97.6%   \n",
      "  4609      15                -                        96675.62             -   23185.5     -       97.4%   \n",
      "  4610      14                -                        96675.62             -   23190.9     -       95.2%   \n",
      "  4611      14                -                        96675.62             -   23195.2     -       94.7%   \n",
      "  4612      15                -                        96675.62             -   23201.0     -       97.7%   \n",
      "  4613      14                -                        96675.62             -   23205.3     -       95.2%   \n",
      "  4614      16                -                        96675.62             -   23211.3     -       96.5%   \n",
      "  4615      14                -                        96675.62             -   23217.3     -       94.9%   \n",
      "  4616      13                -                        96675.62             -   23222.8     -       95.7%   \n",
      "  4617      15                -                        96675.63             -   23228.7     -       95.4%   \n",
      "  4618      15                -                        96675.63             -   23235.4     -       97.8%   \n",
      "  4619      14                -                        96675.63             -   23240.4     -       96.4%   \n",
      "  4620      15                -                        96675.63             -   23245.8     -       97.6%   \n",
      "  4621      14                -                        96675.63             -   23251.5     -       97.8%   \n",
      "  4622      13                -                        96675.63             -   23256.2     -       97.7%   \n",
      "  4623      16                -                        96675.63             -   23262.3     -       94.9%   \n",
      "  4624      16                -                        96675.63             -   23268.9     -       94.6%   \n",
      "  4625      15                -                        96675.63             -   23274.9     -       97.8%   \n",
      "  4626      15                -                        96675.63             -   23282.8     -       99.0%   \n",
      "  4627      15                -                        96675.63             -   23289.0     -       96.8%   \n",
      "  4628      16                -                        96675.63             -   23296.0     -       94.1%   \n",
      "  4629      14                -                        96675.63             -   23302.7     -       95.8%   \n",
      "  4630      13                -                        96675.63             -   23309.4     -       98.6%   \n",
      "  4631      15                -                        96675.64             -   23316.2     -       97.1%   \n",
      "  4632      15                -                        96675.64             -   23321.3     -       95.1%   \n",
      "  4633      16                -                        96675.64             -   23325.4     -       95.5%   \n",
      "  4634      14                -                        96675.64             -   23330.6     -       97.8%   \n",
      "  4635      13                -                        96675.64             -   23336.2     -       95.8%   \n",
      "  4636      15                -                        96675.64             -   23341.9     -       99.3%   \n",
      "  4637      13                -                        96675.64             -   23347.9     -       98.6%   \n"
     ]
    },
    {
     "name": "stderr",
     "output_type": "stream",
     "text": [
      "┌ Warning: Only almost solved\n",
      "└ @ Juniper C:\\Users\\Оля\\.julia\\packages\\Juniper\\atNbZ\\src\\BnBTree.jl:89\n"
     ]
    },
    {
     "name": "stdout",
     "output_type": "stream",
     "text": [
      "  4638      15                -                        96675.64             -   23354.5     -       96.6%   \n",
      "  4639      14                -                        96675.64             -   23360.3     -       97.8%   \n",
      "  4640      14                -                        96675.64             -   23366.3     -       95.7%   "
     ]
    },
    {
     "name": "stderr",
     "output_type": "stream",
     "text": [
      "Excessive output truncated after 524383 bytes."
     ]
    },
    {
     "ename": "InterruptException",
     "evalue": "InterruptException:",
     "output_type": "error",
     "traceback": [
      "InterruptException:",
      "",
      "Stacktrace:",
      " [1] try_yieldto(::typeof(Base.ensure_rescheduled), ::Base.RefValue{Task}) at .\\event.jl:196",
      " [2] wait() at .\\event.jl:255",
      " [3] uv_write(::Base.PipeEndpoint, ::Ptr{UInt8}, ::UInt64) at .\\stream.jl:853",
      " [4] unsafe_write(::Base.PipeEndpoint, ::Ptr{UInt8}, ::UInt64) at .\\stream.jl:901",
      " [5] unsafe_write at .\\io.jl:509 [inlined]",
      " [6] unsafe_write(::Base.PipeEndpoint, ::Base.RefValue{UInt8}, ::Int64) at .\\io.jl:507",
      " [7] write at .\\io.jl:510 [inlined]",
      " [8] write(::Base.PipeEndpoint, ::UInt8) at .\\stream.jl:943",
      " [9] write at .\\io.jl:224 [inlined]",
      " [10] write at .\\io.jl:563 [inlined]",
      " [11] print at .\\char.jl:229 [inlined]",
      " [12] print(::IJulia.IJuliaStdio{Base.PipeEndpoint}, ::String, ::Char) at .\\strings\\io.jl:42",
      " [13] println(::IJulia.IJuliaStdio{Base.PipeEndpoint}, ::String, ::Vararg{Any,N} where N) at .\\strings\\io.jl:69",
      " [14] println(::String) at .\\coreio.jl:4",
      " [15] #print_table#32 at C:\\Users\\Оля\\.julia\\packages\\Juniper\\atNbZ\\src\\table_log.jl:62 [inlined]",
      " [16] #print_table at .\\none:0 [inlined]",
      " [17] solve_sequential(::Juniper.BnBTreeObj, ::Array{Any,1}, ::Float64, ::Array{Symbol,1}, ::Array{Int64,1}, ::Juniper.TimeObj) at C:\\Users\\Оля\\.julia\\packages\\Juniper\\atNbZ\\src\\BnBTree.jl:419",
      " [18] solvemip(::Juniper.BnBTreeObj) at C:\\Users\\Оля\\.julia\\packages\\Juniper\\atNbZ\\src\\BnBTree.jl:611",
      " [19] optimize!(::Juniper.Optimizer) at C:\\Users\\Оля\\.julia\\packages\\Juniper\\atNbZ\\src\\MOI_wrapper\\MOI_wrapper.jl:427",
      " [20] optimize!(::MathOptInterface.Bridges.LazyBridgeOptimizer{Juniper.Optimizer}) at C:\\Users\\Оля\\.julia\\packages\\MathOptInterface\\RmalA\\src\\Bridges\\bridge_optimizer.jl:239",
      " [21] optimize!(::MathOptInterface.Utilities.CachingOptimizer{MathOptInterface.AbstractOptimizer,MathOptInterface.Utilities.UniversalFallback{MathOptInterface.Utilities.Model{Float64}}}) at C:\\Users\\Оля\\.julia\\packages\\MathOptInterface\\RmalA\\src\\Utilities\\cachingoptimizer.jl:189",
      " [22] #optimize!#97(::Bool, ::Bool, ::Base.Iterators.Pairs{Union{},Union{},Tuple{},NamedTuple{(),Tuple{}}}, ::Function, ::Model, ::Nothing) at C:\\Users\\Оля\\.julia\\packages\\JuMP\\MnJQc\\src\\optimizer_interface.jl:131",
      " [23] optimize! at C:\\Users\\Оля\\.julia\\packages\\JuMP\\MnJQc\\src\\optimizer_interface.jl:107 [inlined] (repeats 2 times)",
      " [24] top-level scope at In[51]:1"
     ]
    }
   ],
   "source": [
    "optimize!(m2)"
   ]
  },
  {
   "cell_type": "code",
   "execution_count": null,
   "metadata": {},
   "outputs": [],
   "source": [
    "# Juniper di not solve this for 24 hours"
   ]
  },
  {
   "cell_type": "code",
   "execution_count": null,
   "metadata": {},
   "outputs": [],
   "source": []
  }
 ],
 "metadata": {
  "kernelspec": {
   "display_name": "Julia 1.1.0",
   "language": "julia",
   "name": "julia-1.1"
  },
  "language_info": {
   "file_extension": ".jl",
   "mimetype": "application/julia",
   "name": "julia",
   "version": "1.1.0"
  }
 },
 "nbformat": 4,
 "nbformat_minor": 2
}
